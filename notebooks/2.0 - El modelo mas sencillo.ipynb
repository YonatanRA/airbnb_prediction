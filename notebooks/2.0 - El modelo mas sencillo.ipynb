{
 "cells": [
  {
   "cell_type": "markdown",
   "id": "98d22a24",
   "metadata": {},
   "source": [
    "# 2.0 - El modelo más sencillo\n",
    "\n",
    "Aquí, simplemente voy a probar un random forest con todas las características del dataset `listings` transformado, como base. Lo probaré con los 5 paquetes de datos transformados."
   ]
  },
  {
   "cell_type": "code",
   "execution_count": 1,
   "id": "7dcc227f",
   "metadata": {},
   "outputs": [],
   "source": [
    "# librerias\n",
    "\n",
    "import pandas as pd\n",
    "pd.set_option('display.max_columns', None)\n",
    "\n",
    "from sklearn.ensemble import RandomForestRegressor as RFR\n",
    "\n",
    "from sklearn.model_selection import train_test_split as tts \n",
    "\n",
    "from sklearn.metrics import mean_squared_error as mse \n",
    "from sklearn.metrics import mean_absolute_error as mae\n",
    "from sklearn.metrics import r2_score as r2\n"
   ]
  },
  {
   "cell_type": "code",
   "execution_count": 2,
   "id": "0bdbb510",
   "metadata": {},
   "outputs": [],
   "source": [
    "def test_random_forest(file: str) -> str:\n",
    "    \n",
    "    data=pd.read_csv(f'../data/transform_data/{file}.csv')\n",
    "\n",
    "    X=data._get_numeric_data().drop(columns=['price', 'id', 'host_id'])\n",
    "    y=data.price\n",
    "    \n",
    "    X_train, X_test, y_train, y_test = tts(X, y, train_size=0.8, test_size=0.2, random_state=42)\n",
    "    \n",
    "    print('\\n\\033[1m' + f'{file}' + '\\033[0m')\n",
    "\n",
    "    modelo=RFR()\n",
    "    modelo.fit(X_train, y_train)\n",
    "    \n",
    "    y_pred=modelo.predict(X_test)\n",
    "    \n",
    "    print(f'RMSE: {mse(y_test, y_pred, squared=False)}')\n",
    "    print(f'MAE: {mae(y_test, y_pred)}')\n",
    "    print(f'R2: {r2(y_test, y_pred)}')\n",
    "    \n",
    "    return 'Done!'"
   ]
  },
  {
   "cell_type": "code",
   "execution_count": 3,
   "id": "29b4474b",
   "metadata": {},
   "outputs": [],
   "source": [
    "archivos=['listings', 'listings_normal', 'listings_box06', 'listings_box16', 'listings_box26']"
   ]
  },
  {
   "cell_type": "code",
   "execution_count": 4,
   "id": "01ade55e",
   "metadata": {},
   "outputs": [
    {
     "name": "stdout",
     "output_type": "stream",
     "text": [
      "\n",
      "\u001b[1mlistings\u001b[0m\n",
      "RMSE: 269.7431283798344\n",
      "MAE: 69.92159512080694\n",
      "R2: 0.4721514582539429\n",
      "\n",
      "\u001b[1mlistings_normal\u001b[0m\n",
      "RMSE: 259.1687140532785\n",
      "MAE: 69.33242786769881\n",
      "R2: 0.5127254895743647\n",
      "\n",
      "\u001b[1mlistings_box06\u001b[0m\n",
      "RMSE: 272.6849086661421\n",
      "MAE: 70.62754398311048\n",
      "R2: 0.4605753945329212\n",
      "\n",
      "\u001b[1mlistings_box16\u001b[0m\n",
      "RMSE: 264.5349678971519\n",
      "MAE: 69.79909922589725\n",
      "R2: 0.49233792329321846\n",
      "\n",
      "\u001b[1mlistings_box26\u001b[0m\n",
      "RMSE: 269.2084701010968\n",
      "MAE: 70.49684963640628\n",
      "R2: 0.4742418833298241\n"
     ]
    },
    {
     "data": {
      "text/plain": [
       "['Done!', 'Done!', 'Done!', 'Done!', 'Done!']"
      ]
     },
     "execution_count": 4,
     "metadata": {},
     "output_type": "execute_result"
    }
   ],
   "source": [
    "[test_random_forest(e) for e in archivos]"
   ]
  },
  {
   "cell_type": "code",
   "execution_count": null,
   "id": "ec1b5d80",
   "metadata": {},
   "outputs": [],
   "source": []
  }
 ],
 "metadata": {
  "kernelspec": {
   "display_name": "clase",
   "language": "python",
   "name": "clase"
  },
  "language_info": {
   "codemirror_mode": {
    "name": "ipython",
    "version": 3
   },
   "file_extension": ".py",
   "mimetype": "text/x-python",
   "name": "python",
   "nbconvert_exporter": "python",
   "pygments_lexer": "ipython3",
   "version": "3.8.13"
  }
 },
 "nbformat": 4,
 "nbformat_minor": 5
}

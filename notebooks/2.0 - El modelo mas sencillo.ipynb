{
 "cells": [
  {
   "cell_type": "markdown",
   "id": "1ff48bf2",
   "metadata": {},
   "source": [
    "# 2.0 - El modelo más sencillo\n",
    "\n",
    "Aquí, simplemente voy a probar un random forest con todas las características del dataset `listings` transformado, como base.\n",
    "\n"
   ]
  }
 ],
 "metadata": {
  "kernelspec": {
   "display_name": "clase",
   "language": "python",
   "name": "clase"
  },
  "language_info": {
   "codemirror_mode": {
    "name": "ipython",
    "version": 3
   },
   "file_extension": ".py",
   "mimetype": "text/x-python",
   "name": "python",
   "nbconvert_exporter": "python",
   "pygments_lexer": "ipython3",
   "version": "3.8.13"
  }
 },
 "nbformat": 4,
 "nbformat_minor": 5
}

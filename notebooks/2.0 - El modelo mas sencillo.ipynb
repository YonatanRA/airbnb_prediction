{
 "cells": [
  {
   "cell_type": "markdown",
   "id": "98d22a24",
   "metadata": {},
   "source": [
    "# 2.0 - El modelo más sencillo\n",
    "\n",
    "Aquí, simplemente voy a probar un random forest con todas las características del dataset `listings` transformado, como base. Lo probaré con los 5 paquetes de datos transformados."
   ]
  },
  {
   "cell_type": "code",
   "execution_count": 1,
   "id": "7dcc227f",
   "metadata": {},
   "outputs": [],
   "source": [
    "# librerias\n",
    "\n",
    "import pandas as pd\n",
    "pd.set_option('display.max_columns', None)\n",
    "\n",
    "from sklearn.ensemble import RandomForestRegressor as RFR\n",
    "\n",
    "from sklearn.model_selection import train_test_split as tts \n",
    "\n",
    "from sklearn.metrics import mean_squared_error as mse \n",
    "from sklearn.metrics import mean_absolute_error as mae\n",
    "from sklearn.metrics import r2_score as r2\n",
    "\n",
    "from tqdm.notebook import tqdm"
   ]
  },
  {
   "cell_type": "code",
   "execution_count": 2,
   "id": "0bdbb510",
   "metadata": {},
   "outputs": [],
   "source": [
    "def test_random_forest(file: str) -> str:\n",
    "    \n",
    "    data=pd.read_csv(f'../data/transform_data/{file}.csv')\n",
    "    \n",
    "    X=data._get_numeric_data().drop(columns=['price', 'id', 'host_id'])\n",
    "    y=data.price\n",
    "    \n",
    "\n",
    "    X_train, X_test, y_train, y_test = tts(X, y, train_size=0.8, test_size=0.2, random_state=42)\n",
    "    \n",
    "    print('\\n\\033[1m' + f'{file}' + '\\033[0m')\n",
    "\n",
    "    modelo=RFR()\n",
    "    modelo.fit(X_train, y_train)\n",
    "    \n",
    "    y_pred=modelo.predict(X_test)\n",
    "    \n",
    "    print(f'RMSE: {mse(y_test, y_pred, squared=False)}')\n",
    "    print(f'MAE: {mae(y_test, y_pred)}')\n",
    "    print(f'R2: {r2(y_test, y_pred)}')\n",
    "\n",
    "    return 'Done!'"
   ]
  },
  {
   "cell_type": "code",
   "execution_count": 3,
   "id": "29b4474b",
   "metadata": {},
   "outputs": [],
   "source": [
    "archivos=['listings', 'listings_normal', 'listings_box06', 'listings_box16', 'listings_box26']"
   ]
  },
  {
   "cell_type": "code",
   "execution_count": 4,
   "id": "01ade55e",
   "metadata": {},
   "outputs": [
    {
     "data": {
      "application/vnd.jupyter.widget-view+json": {
       "model_id": "ffd4b66b9a7c477db168ce2559cd4540",
       "version_major": 2,
       "version_minor": 0
      },
      "text/plain": [
       "  0%|          | 0/5 [00:00<?, ?it/s]"
      ]
     },
     "metadata": {},
     "output_type": "display_data"
    },
    {
     "name": "stdout",
     "output_type": "stream",
     "text": [
      "\n",
      "\u001b[1mlistings\u001b[0m\n",
      "RMSE: 266.30061581749294\n",
      "MAE: 70.1293056532958\n",
      "R2: 0.4855384905740817\n",
      "\n",
      "\u001b[1mlistings_normal\u001b[0m\n",
      "RMSE: 260.5451419628577\n",
      "MAE: 69.4405371803894\n",
      "R2: 0.5075359800671556\n",
      "\n",
      "\u001b[1mlistings_box06\u001b[0m\n",
      "RMSE: 264.17352438775947\n",
      "MAE: 69.66970443349754\n",
      "R2: 0.49372424895599276\n",
      "\n",
      "\u001b[1mlistings_box16\u001b[0m\n",
      "RMSE: 265.3975036017021\n",
      "MAE: 69.67404879193056\n",
      "R2: 0.4890219871429303\n",
      "\n",
      "\u001b[1mlistings_box26\u001b[0m\n",
      "RMSE: 261.0459702724716\n",
      "MAE: 69.36259910860896\n",
      "R2: 0.5056408998487175\n"
     ]
    },
    {
     "data": {
      "text/plain": [
       "['Done!', 'Done!', 'Done!', 'Done!', 'Done!']"
      ]
     },
     "execution_count": 4,
     "metadata": {},
     "output_type": "execute_result"
    }
   ],
   "source": [
    "[test_random_forest(e) for e in tqdm(archivos)]"
   ]
  },
  {
   "cell_type": "markdown",
   "id": "48e634c5",
   "metadata": {},
   "source": [
    "### Comentario:\n",
    "\n",
    "La diferencia observada entre el MAE y el RMSE implica la existencia de outliers. Más adelante comentaré las métricas de evaluación."
   ]
  }
 ],
 "metadata": {
  "kernelspec": {
   "display_name": "clase",
   "language": "python",
   "name": "clase"
  },
  "language_info": {
   "codemirror_mode": {
    "name": "ipython",
    "version": 3
   },
   "file_extension": ".py",
   "mimetype": "text/x-python",
   "name": "python",
   "nbconvert_exporter": "python",
   "pygments_lexer": "ipython3",
   "version": "3.8.13"
  }
 },
 "nbformat": 4,
 "nbformat_minor": 5
}

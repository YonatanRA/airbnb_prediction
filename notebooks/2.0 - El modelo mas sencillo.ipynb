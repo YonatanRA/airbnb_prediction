{
 "cells": [
  {
   "cell_type": "markdown",
   "id": "8df85ff3",
   "metadata": {},
   "source": [
    "# 2.0 - El modelo más sencillo\n",
    "\n",
    "Aquí, simplemente voy a probar un random forest con todas las características del dataset `listings` transformado, como base. Lo probaré con los 4 paquete sde datos transformados."
   ]
  },
  {
   "cell_type": "code",
   "execution_count": null,
   "id": "b33979e5",
   "metadata": {},
   "outputs": [],
   "source": [
    "# librerias\n",
    "\n",
    "import pandas as pd\n",
    "pd.set_option('display.max_columns', None)\n",
    "\n",
    "from sklearn.ensemble import RandomForestRegressor as RFR\n",
    "\n",
    "from sklearn.model_selection import train_test_split as tts \n",
    "\n",
    "from sklearn.metrics import mean_squared_error as mse \n",
    "from sklearn.metrics import mean_absolute_error as mae"
   ]
  },
  {
   "cell_type": "code",
   "execution_count": null,
   "id": "2c951907",
   "metadata": {},
   "outputs": [],
   "source": [
    "def test_random_forest(file: str) -> None:\n",
    "    \n",
    "    data=pd.read_csv(f'../data/transform_data/{file}.csv')\n",
    "    \n",
    "    X=data._get_numeric_data().drop('price', axis=1)\n",
    "    y=data.price\n",
    "    \n",
    "    X_train, X_test, y_train, y_test = tts(X, y, train_size=0.8, test_size=0.2, random_state=42)\n",
    "    \n",
    "    modelo=RFR()\n",
    "    modelo.fit(X_train, y_train)\n",
    "    \n",
    "    y_pred=modelo.predict(X_test)\n",
    "    \n",
    "    print('\\033[1m' + 'RMSE: ', mse(y_test, y_pred, squared=False))\n",
    "    print('\\033[1m' + 'MAE: ', mae(y_test, y_pred))"
   ]
  },
  {
   "cell_type": "code",
   "execution_count": null,
   "id": "c35d53c4",
   "metadata": {},
   "outputs": [],
   "source": [
    "archivos=['listings', 'listings_normal', 'listings']"
   ]
  },
  {
   "cell_type": "code",
   "execution_count": null,
   "id": "96f4c28f",
   "metadata": {},
   "outputs": [],
   "source": []
  },
  {
   "cell_type": "code",
   "execution_count": null,
   "id": "9cb3be24",
   "metadata": {},
   "outputs": [],
   "source": []
  },
  {
   "cell_type": "code",
   "execution_count": null,
   "id": "78842930",
   "metadata": {},
   "outputs": [],
   "source": []
  },
  {
   "cell_type": "code",
   "execution_count": null,
   "id": "d7b532ec",
   "metadata": {},
   "outputs": [],
   "source": []
  },
  {
   "cell_type": "code",
   "execution_count": null,
   "id": "a930d1ed",
   "metadata": {},
   "outputs": [],
   "source": []
  },
  {
   "cell_type": "code",
   "execution_count": null,
   "id": "72b693c4",
   "metadata": {},
   "outputs": [],
   "source": []
  },
  {
   "cell_type": "code",
   "execution_count": null,
   "id": "383dcee8",
   "metadata": {},
   "outputs": [],
   "source": []
  },
  {
   "cell_type": "code",
   "execution_count": null,
   "id": "136355b3",
   "metadata": {},
   "outputs": [],
   "source": []
  }
 ],
 "metadata": {
  "kernelspec": {
   "display_name": "clase",
   "language": "python",
   "name": "clase"
  },
  "language_info": {
   "codemirror_mode": {
    "name": "ipython",
    "version": 3
   },
   "file_extension": ".py",
   "mimetype": "text/x-python",
   "name": "python",
   "nbconvert_exporter": "python",
   "pygments_lexer": "ipython3",
   "version": "3.8.13"
  }
 },
 "nbformat": 4,
 "nbformat_minor": 5
}

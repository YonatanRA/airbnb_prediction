{
 "cells": [
  {
   "cell_type": "markdown",
   "id": "c30b49a1",
   "metadata": {},
   "source": [
    "# 3.2 - H20"
   ]
  },
  {
   "cell_type": "code",
   "execution_count": 1,
   "id": "91a1d901",
   "metadata": {},
   "outputs": [],
   "source": [
    "# librerias\n",
    "\n",
    "import h2o\n",
    "\n",
    "from h2o.automl import H2OAutoML\n",
    "\n",
    "import pandas as pd\n",
    "pd.set_option('display.max_columns', None)\n",
    "\n",
    "from sklearn.model_selection import train_test_split as tts "
   ]
  },
  {
   "cell_type": "code",
   "execution_count": null,
   "id": "03dcb786",
   "metadata": {},
   "outputs": [
    {
     "name": "stdout",
     "output_type": "stream",
     "text": [
      "Checking whether there is an H2O instance running at http://localhost:54321 ....."
     ]
    }
   ],
   "source": [
    "# inicializamos el servidor h2o\n",
    "\n",
    "h2o.init()"
   ]
  },
  {
   "cell_type": "code",
   "execution_count": null,
   "id": "aba06ac0",
   "metadata": {},
   "outputs": [],
   "source": []
  },
  {
   "cell_type": "markdown",
   "id": "ae8d0deb",
   "metadata": {},
   "source": [
    "## a) Transformado con selección de características"
   ]
  },
  {
   "cell_type": "code",
   "execution_count": null,
   "id": "05f38be4",
   "metadata": {},
   "outputs": [],
   "source": [
    "COLS=['accommodates', 'air_conditioning', 'availability_30', 'availability_365', 'availability_60', 'availability_90',\n",
    "      'bathrooms', 'bedrooms', 'beds', 'calculated_host_listings_count', 'calculated_host_listings_count_entire_homes',\n",
    "      'calculated_host_listings_count_private_rooms', 'calculated_host_listings_count_shared_rooms', 'cleaning_fee',\n",
    "      'dishwasher', 'extra_people', 'guests_included','latitude', 'longitude', 'maximum_nights', 'minimum_nights', \n",
    "      'number_of_reviews', 'number_of_reviews_ltm', 'room_type_private_room', 'room_type_shared_room', 'security_deposit',\n",
    "      'price']\n",
    "\n",
    "len(COLS)"
   ]
  },
  {
   "cell_type": "code",
   "execution_count": null,
   "id": "11e0b2a7",
   "metadata": {},
   "outputs": [],
   "source": [
    "# carga de datos\n",
    "listings=pd.read_csv('../data/transform_data/listings_normal.csv', usecols=COLS)\n",
    "\n",
    "listings=listings[(listings.price>=10) & (listings.price<=196)]  \n",
    "\n",
    "# cambio en el tamaño del tipo de dato\n",
    "for c in listings.select_dtypes(include='int'):\n",
    "    listings[c]=pd.to_numeric(listings[c], downcast='integer')\n",
    "\n",
    "for c in listings.select_dtypes(include='float'):\n",
    "    listings[c]=pd.to_numeric(listings[c], downcast='float')"
   ]
  },
  {
   "cell_type": "code",
   "execution_count": null,
   "id": "4e487d4a",
   "metadata": {},
   "outputs": [],
   "source": [
    "train, test=tts(listings)\n",
    "\n",
    "train=h2o.H2OFrame(train)\n",
    "test=h2o.H2OFrame(test)"
   ]
  },
  {
   "cell_type": "code",
   "execution_count": null,
   "id": "257e01ab",
   "metadata": {},
   "outputs": [],
   "source": [
    "# separa X de y\n",
    "X=[c for c in train.columns if c!='price']\n",
    "\n",
    "y='price'"
   ]
  },
  {
   "cell_type": "code",
   "execution_count": null,
   "id": "42a235bd",
   "metadata": {},
   "outputs": [],
   "source": [
    "# inicia auto-machine-learning\n",
    "\n",
    "automl=H2OAutoML(max_models=20, seed=42, max_runtime_secs=300, sort_metric='RMSE')"
   ]
  },
  {
   "cell_type": "code",
   "execution_count": null,
   "id": "5f796648",
   "metadata": {},
   "outputs": [],
   "source": [
    "%%time\n",
    "\n",
    "# entrena\n",
    "automl.train(x=X, y=y, training_frame=train, validation_frame=test)"
   ]
  },
  {
   "cell_type": "code",
   "execution_count": null,
   "id": "fc2c5256",
   "metadata": {},
   "outputs": [],
   "source": [
    "print('Leaderboard:')\n",
    "\n",
    "leader=automl.leaderboard\n",
    "\n",
    "leader.head()"
   ]
  },
  {
   "cell_type": "code",
   "execution_count": null,
   "id": "63e59e61",
   "metadata": {},
   "outputs": [],
   "source": [
    "# evaliuación mejor modelo\n",
    "\n",
    "automl.leader.model_performance(normal_test)"
   ]
  },
  {
   "cell_type": "markdown",
   "id": "ea005abe",
   "metadata": {},
   "source": [
    "## b) Transformado sin selección de características"
   ]
  },
  {
   "cell_type": "code",
   "execution_count": null,
   "id": "f1573f65",
   "metadata": {},
   "outputs": [],
   "source": [
    "%%time\n",
    "\n",
    "df_normal=h2o.import_file(path='../data/transform_data/listings_normal.csv')\n",
    "\n",
    "normal_train, normal_test=df_normal.split_frame(ratios=[.8])\n",
    "\n",
    "X=[c for c in normal_train.columns if c!='price']\n",
    "y='price'\n",
    "\n",
    "normal_automl=H2OAutoML(max_models=20, seed=42, max_runtime_secs=300, sort_metric='RMSE')\n",
    "\n",
    "normal_automl.train(x=X, y=y, training_frame=normal_train, validation_frame=normal_test)\n",
    "\n",
    "normal_leader=normal_automl.leaderboard\n",
    "\n",
    "normal_leader.head()"
   ]
  },
  {
   "cell_type": "code",
   "execution_count": null,
   "id": "f7e2778e",
   "metadata": {},
   "outputs": [],
   "source": [
    "normal_automl.leader.model_performance(normal_test)"
   ]
  },
  {
   "cell_type": "markdown",
   "id": "ca783dc9",
   "metadata": {},
   "source": [
    "## c) En crudo"
   ]
  },
  {
   "cell_type": "code",
   "execution_count": null,
   "id": "b69e8287",
   "metadata": {},
   "outputs": [],
   "source": [
    "%%time\n",
    "\n",
    "df_raw=h2o.import_file(path='../data/clean_data/listings.csv')\n",
    "\n",
    "raw_train, raw_test=df_raw.split_frame(ratios=[.8])\n",
    "\n",
    "X=[c for c in raw_train.columns if c!='price']\n",
    "y='price'\n",
    "\n",
    "raw_automl=H2OAutoML(max_models=20, seed=42, max_runtime_secs=300, sort_metric='RMSE')\n",
    "\n",
    "raw_automl.train(x=X, y=y, training_frame=raw_train, validation_frame=raw_test)\n",
    "\n",
    "raw_leader=raw_automl.leaderboard\n",
    "\n",
    "raw_leader.head()"
   ]
  },
  {
   "cell_type": "code",
   "execution_count": null,
   "id": "0dc736e3",
   "metadata": {},
   "outputs": [],
   "source": [
    "raw_automl.leader.model_performance(raw_test)"
   ]
  },
  {
   "cell_type": "code",
   "execution_count": null,
   "id": "d3536df0",
   "metadata": {},
   "outputs": [],
   "source": []
  },
  {
   "cell_type": "code",
   "execution_count": null,
   "id": "cd6e6f31",
   "metadata": {},
   "outputs": [],
   "source": []
  }
 ],
 "metadata": {
  "kernelspec": {
   "display_name": "clase",
   "language": "python",
   "name": "clase"
  },
  "language_info": {
   "codemirror_mode": {
    "name": "ipython",
    "version": 3
   },
   "file_extension": ".py",
   "mimetype": "text/x-python",
   "name": "python",
   "nbconvert_exporter": "python",
   "pygments_lexer": "ipython3",
   "version": "3.8.13"
  }
 },
 "nbformat": 4,
 "nbformat_minor": 5
}

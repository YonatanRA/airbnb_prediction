{
 "cells": [
  {
   "cell_type": "markdown",
   "id": "a290810a",
   "metadata": {},
   "source": [
    "# 3.0 - Modelado, ajuste y evaluación"
   ]
  },
  {
   "cell_type": "code",
   "execution_count": 1,
   "id": "fcd67aec",
   "metadata": {},
   "outputs": [],
   "source": [
    "# librerias\n",
    "\n",
    "import numpy as np\n",
    "import pandas as pd\n",
    "\n",
    "pd.set_option('display.max_columns', None)\n",
    "\n",
    "from catboost import CatBoostRegressor as CTR\n",
    "\n",
    "from sklearn.model_selection import train_test_split as tts \n",
    "\n",
    "from hyperopt import fmin, hp, tpe, Trials, space_eval, STATUS_OK\n",
    "\n",
    "from sklearn.metrics import mean_squared_error as mse \n",
    "from sklearn.metrics import mean_absolute_error as mae\n",
    "from sklearn.metrics import r2_score as r2"
   ]
  },
  {
   "cell_type": "markdown",
   "id": "c2950455",
   "metadata": {},
   "source": [
    "**Datos**\n",
    "\n",
    "Selecciono la características previamente evaluadas y solamente cargo esas. Elimino los outliers y cambio el tipo de dato."
   ]
  },
  {
   "cell_type": "code",
   "execution_count": 2,
   "id": "70be92a2",
   "metadata": {},
   "outputs": [
    {
     "data": {
      "text/plain": [
       "27"
      ]
     },
     "execution_count": 2,
     "metadata": {},
     "output_type": "execute_result"
    }
   ],
   "source": [
    "cols=['accommodates', 'air_conditioning', 'availability_30', 'availability_365', 'availability_60', 'availability_90',\n",
    "      'bathrooms', 'bedrooms', 'beds', 'calculated_host_listings_count', 'calculated_host_listings_count_entire_homes',\n",
    "      'calculated_host_listings_count_private_rooms', 'calculated_host_listings_count_shared_rooms', 'cleaning_fee',\n",
    "      'dishwasher', 'extra_people', 'guests_included','latitude', 'longitude', 'maximum_nights', 'minimum_nights', \n",
    "      'number_of_reviews', 'number_of_reviews_ltm', 'room_type_private_room', 'room_type_shared_room', 'security_deposit',\n",
    "      'price']\n",
    "\n",
    "len(cols)"
   ]
  },
  {
   "cell_type": "code",
   "execution_count": 3,
   "id": "d056968b",
   "metadata": {},
   "outputs": [],
   "source": [
    "# carga de datos\n",
    "listings=pd.read_csv('../data/transform_data/listings_normal.csv', usecols=cols)\n",
    "\n",
    "listings=listings[(listings.price>=10) & (listings.price<=196)]  # eliminacion de outliers\n",
    "\n",
    "# cambio en el tamaño del tipo de dato\n",
    "for c in listings.select_dtypes(include='int'):\n",
    "    listings[c]=pd.to_numeric(listings[c], downcast='integer')\n",
    "\n",
    "for c in listings.select_dtypes(include='float'):\n",
    "    listings[c]=pd.to_numeric(listings[c], downcast='float')"
   ]
  },
  {
   "cell_type": "markdown",
   "id": "c659553f",
   "metadata": {},
   "source": [
    "**Modelo**\n",
    "\n",
    "Importo y entreno un Catboost Regressor, realizo predicción con el paquete de entrenamiento y de testeo, para darme cuenta de posible sobreajuste, midiendo RMSE, MAE y R2."
   ]
  },
  {
   "cell_type": "code",
   "execution_count": 4,
   "id": "c13a05d8",
   "metadata": {},
   "outputs": [],
   "source": [
    "ctr=CTR(verbose=0)"
   ]
  },
  {
   "cell_type": "code",
   "execution_count": 5,
   "id": "39f43e61",
   "metadata": {},
   "outputs": [
    {
     "name": "stdout",
     "output_type": "stream",
     "text": [
      "Train RMSE: 17.09389499575402\n",
      "Train MAE: 11.909514534360929\n",
      "Train R2: 0.7995457095749583\n"
     ]
    }
   ],
   "source": [
    "X=listings.drop('price', axis=1)\n",
    "y=listings.price\n",
    "\n",
    "X_train, X_test, y_train, y_test = tts(X, y, train_size=0.8, test_size=0.2, random_state=42)\n",
    "\n",
    "ctr.fit(X_train, y_train)\n",
    "\n",
    "y_pred=ctr.predict(X_train)\n",
    "\n",
    "print(f'Train RMSE: {mse(y_train, y_pred, squared=False)}')\n",
    "print(f'Train MAE: {mae(y_train, y_pred)}')\n",
    "print(f'Train R2: {r2(y_train, y_pred)}')"
   ]
  },
  {
   "cell_type": "code",
   "execution_count": 6,
   "id": "ed1254b9",
   "metadata": {},
   "outputs": [
    {
     "name": "stdout",
     "output_type": "stream",
     "text": [
      "Test RMSE: 21.713858907632996\n",
      "Test MAE: 14.82603810439655\n",
      "Test R2: 0.7113638913656304\n"
     ]
    }
   ],
   "source": [
    "y_pred=ctr.predict(X_test)\n",
    "\n",
    "print(f'Test RMSE: {mse(y_test, y_pred, squared=False)}')\n",
    "print(f'Test MAE: {mae(y_test, y_pred)}')\n",
    "print(f'Test R2: {r2(y_test, y_pred)}')"
   ]
  },
  {
   "cell_type": "markdown",
   "id": "828389f3",
   "metadata": {},
   "source": [
    "**Ajuste de hiperparámetros**\n",
    "\n",
    "Ajuste bayesiano de hiperparámetros."
   ]
  },
  {
   "cell_type": "code",
   "execution_count": 7,
   "id": "2bed5e1e",
   "metadata": {},
   "outputs": [],
   "source": [
    "# aprioris, espacio de hiperparámetros\n",
    "\n",
    "espacio={\n",
    "    'n_estimators':hp.quniform('n_estimators', 100, 700, 25),\n",
    "    \n",
    "    'learning_rate':hp.uniform('learning_rate', 0.01, 1.0),\n",
    "    \n",
    "    'depth':hp.quniform('depth', 7, 16, 1)\n",
    "}"
   ]
  },
  {
   "cell_type": "code",
   "execution_count": 8,
   "id": "bbdf2ec8",
   "metadata": {},
   "outputs": [],
   "source": [
    "def objetivo(espacio):\n",
    "    \n",
    "    modelo=CTR(verbose=0,\n",
    "               n_estimators=int(espacio['n_estimators']),\n",
    "               learning_rate=espacio['learning_rate'],\n",
    "               depth=int(espacio['depth'])\n",
    "              )\n",
    "    \n",
    "    eval_set=[(X_train, y_train), (X_test, y_test)]\n",
    "    \n",
    "    modelo.fit(X_train, y_train, eval_set=eval_set)\n",
    "    \n",
    "    y_pred=modelo.predict(X_test)\n",
    "    \n",
    "    rmse=mse(y_test, y_pred, squared=False)\n",
    "    \n",
    "    return {'loss': rmse, 'status': STATUS_OK}"
   ]
  },
  {
   "cell_type": "code",
   "execution_count": 9,
   "id": "0fa3a9a0",
   "metadata": {},
   "outputs": [
    {
     "name": "stdout",
     "output_type": "stream",
     "text": [
      "100%|███████████████████████████████████████████████████████████████████████████| 20/20 [16:07<00:00, 48.39s/trial, best loss: 21.86404944782249]\n"
     ]
    },
    {
     "data": {
      "text/plain": [
       "{'depth': 10.0, 'learning_rate': 0.039754086894035215, 'n_estimators': 575.0}"
      ]
     },
     "execution_count": 9,
     "metadata": {},
     "output_type": "execute_result"
    }
   ],
   "source": [
    "mejor=fmin(fn=objetivo,\n",
    "          space=espacio,\n",
    "          algo=tpe.suggest,\n",
    "          max_evals=20,\n",
    "          trials=Trials())\n",
    "\n",
    "mejor"
   ]
  },
  {
   "cell_type": "code",
   "execution_count": 10,
   "id": "8372e554",
   "metadata": {},
   "outputs": [
    {
     "data": {
      "text/plain": [
       "<catboost.core.CatBoostRegressor at 0x1793adb20>"
      ]
     },
     "execution_count": 10,
     "metadata": {},
     "output_type": "execute_result"
    }
   ],
   "source": [
    "modelo_ajustado=CTR(\n",
    "    verbose=0,\n",
    "    n_estimators=int(mejor['n_estimators']),\n",
    "    learning_rate=mejor['learning_rate'],\n",
    "    depth=int(mejor['depth']),\n",
    "    )\n",
    "\n",
    "\n",
    "modelo_ajustado.fit(X_train, y_train)"
   ]
  },
  {
   "cell_type": "code",
   "execution_count": 11,
   "id": "d7484019",
   "metadata": {},
   "outputs": [
    {
     "name": "stdout",
     "output_type": "stream",
     "text": [
      "Train RMSE: 15.211099645927568\n",
      "Train MAE: 10.496648155215967\n",
      "Train R2: 0.8412716451101935\n"
     ]
    }
   ],
   "source": [
    "y_pred=modelo_ajustado.predict(X_train)\n",
    "\n",
    "print(f'Train RMSE: {mse(y_train, y_pred, squared=False)}')\n",
    "print(f'Train MAE: {mae(y_train, y_pred)}')\n",
    "print(f'Train R2: {r2(y_train, y_pred)}')"
   ]
  },
  {
   "cell_type": "code",
   "execution_count": 12,
   "id": "4f3cf3a6",
   "metadata": {},
   "outputs": [
    {
     "name": "stdout",
     "output_type": "stream",
     "text": [
      "Test RMSE: 21.864343257948462\n",
      "Test MAE: 14.850326087135647\n",
      "Test R2: 0.7073493375446744\n"
     ]
    }
   ],
   "source": [
    "y_pred=modelo_ajustado.predict(X_test)\n",
    "\n",
    "print(f'Test RMSE: {mse(y_test, y_pred, squared=False)}')\n",
    "print(f'Test MAE: {mae(y_test, y_pred)}')\n",
    "print(f'Test R2: {r2(y_test, y_pred)}')"
   ]
  },
  {
   "cell_type": "markdown",
   "id": "571a33f5",
   "metadata": {},
   "source": [
    "**Evaluación**"
   ]
  },
  {
   "cell_type": "code",
   "execution_count": null,
   "id": "468160ae",
   "metadata": {},
   "outputs": [],
   "source": []
  },
  {
   "cell_type": "markdown",
   "id": "50308c72",
   "metadata": {},
   "source": [
    "###### MAE\n",
    "\n",
    "\n",
    "$$MAE = \\frac{1}{n}\\sum_{i=1}^{n}|y_i-\\hat{y}_i|$$\n",
    "\n",
    "\n",
    "pertenece al intervalo [0, +$\\infty$)"
   ]
  },
  {
   "cell_type": "code",
   "execution_count": null,
   "id": "83e161e5",
   "metadata": {},
   "outputs": [],
   "source": []
  },
  {
   "cell_type": "markdown",
   "id": "74ff508c",
   "metadata": {},
   "source": [
    "###### RMSE\n",
    "\n",
    "\n",
    "$$RMSE = \\sqrt{\\frac{1}{n}\\sum_{i=1}^{n}(y_i-\\hat{y}_i)^{2}}$$\n",
    "\n",
    "\n",
    "pertenece al intervalo [0, +$\\infty$) y se cumple que:\n",
    "\n",
    "$$MAE <= RMSE <= MAE · \\sqrt{n}$$"
   ]
  },
  {
   "cell_type": "code",
   "execution_count": 15,
   "id": "4bdf1d73",
   "metadata": {},
   "outputs": [
    {
     "data": {
      "text/html": [
       "<div>\n",
       "<style scoped>\n",
       "    .dataframe tbody tr th:only-of-type {\n",
       "        vertical-align: middle;\n",
       "    }\n",
       "\n",
       "    .dataframe tbody tr th {\n",
       "        vertical-align: top;\n",
       "    }\n",
       "\n",
       "    .dataframe thead th {\n",
       "        text-align: right;\n",
       "    }\n",
       "</style>\n",
       "<table border=\"1\" class=\"dataframe\">\n",
       "  <thead>\n",
       "    <tr style=\"text-align: right;\">\n",
       "      <th></th>\n",
       "      <th>latitude</th>\n",
       "      <th>longitude</th>\n",
       "      <th>accommodates</th>\n",
       "      <th>bathrooms</th>\n",
       "      <th>bedrooms</th>\n",
       "      <th>beds</th>\n",
       "      <th>price</th>\n",
       "      <th>security_deposit</th>\n",
       "      <th>cleaning_fee</th>\n",
       "      <th>guests_included</th>\n",
       "      <th>extra_people</th>\n",
       "      <th>minimum_nights</th>\n",
       "      <th>maximum_nights</th>\n",
       "      <th>availability_30</th>\n",
       "      <th>availability_60</th>\n",
       "      <th>availability_90</th>\n",
       "      <th>availability_365</th>\n",
       "      <th>number_of_reviews</th>\n",
       "      <th>number_of_reviews_ltm</th>\n",
       "      <th>calculated_host_listings_count</th>\n",
       "      <th>calculated_host_listings_count_entire_homes</th>\n",
       "      <th>calculated_host_listings_count_private_rooms</th>\n",
       "      <th>calculated_host_listings_count_shared_rooms</th>\n",
       "      <th>room_type_private_room</th>\n",
       "      <th>room_type_shared_room</th>\n",
       "      <th>air_conditioning</th>\n",
       "      <th>dishwasher</th>\n",
       "    </tr>\n",
       "  </thead>\n",
       "  <tbody>\n",
       "    <tr>\n",
       "      <th>count</th>\n",
       "      <td>18936.000000</td>\n",
       "      <td>18936.000000</td>\n",
       "      <td>18936.000000</td>\n",
       "      <td>18936.000000</td>\n",
       "      <td>18936.000000</td>\n",
       "      <td>18936.000000</td>\n",
       "      <td>18936.000000</td>\n",
       "      <td>18936.000000</td>\n",
       "      <td>18936.000000</td>\n",
       "      <td>18936.000000</td>\n",
       "      <td>18936.000000</td>\n",
       "      <td>18936.000000</td>\n",
       "      <td>18936.000000</td>\n",
       "      <td>18936.000000</td>\n",
       "      <td>18936.000000</td>\n",
       "      <td>18936.000000</td>\n",
       "      <td>18936.000000</td>\n",
       "      <td>18936.000000</td>\n",
       "      <td>18936.000000</td>\n",
       "      <td>18936.000000</td>\n",
       "      <td>18936.000000</td>\n",
       "      <td>18936.000000</td>\n",
       "      <td>18936.000000</td>\n",
       "      <td>18936.000000</td>\n",
       "      <td>18936.000000</td>\n",
       "      <td>18936.000000</td>\n",
       "      <td>18936.000000</td>\n",
       "    </tr>\n",
       "    <tr>\n",
       "      <th>mean</th>\n",
       "      <td>40.420036</td>\n",
       "      <td>-3.695224</td>\n",
       "      <td>-0.062693</td>\n",
       "      <td>-0.045266</td>\n",
       "      <td>-0.071341</td>\n",
       "      <td>-0.059136</td>\n",
       "      <td>66.749789</td>\n",
       "      <td>-0.032686</td>\n",
       "      <td>-0.044413</td>\n",
       "      <td>-0.023360</td>\n",
       "      <td>-0.008899</td>\n",
       "      <td>0.004723</td>\n",
       "      <td>0.000949</td>\n",
       "      <td>-0.055918</td>\n",
       "      <td>-0.049728</td>\n",
       "      <td>-0.044702</td>\n",
       "      <td>-0.027016</td>\n",
       "      <td>0.051326</td>\n",
       "      <td>0.052987</td>\n",
       "      <td>-0.019191</td>\n",
       "      <td>-0.017139</td>\n",
       "      <td>-0.016245</td>\n",
       "      <td>0.009985</td>\n",
       "      <td>0.361164</td>\n",
       "      <td>0.014734</td>\n",
       "      <td>0.624578</td>\n",
       "      <td>0.229563</td>\n",
       "    </tr>\n",
       "    <tr>\n",
       "      <th>std</th>\n",
       "      <td>0.021906</td>\n",
       "      <td>0.026870</td>\n",
       "      <td>0.904652</td>\n",
       "      <td>0.969154</td>\n",
       "      <td>0.898778</td>\n",
       "      <td>0.911714</td>\n",
       "      <td>38.641353</td>\n",
       "      <td>0.860545</td>\n",
       "      <td>0.767335</td>\n",
       "      <td>0.906895</td>\n",
       "      <td>0.813106</td>\n",
       "      <td>0.999886</td>\n",
       "      <td>1.060908</td>\n",
       "      <td>0.972367</td>\n",
       "      <td>0.978803</td>\n",
       "      <td>0.983002</td>\n",
       "      <td>0.993797</td>\n",
       "      <td>1.037925</td>\n",
       "      <td>1.023062</td>\n",
       "      <td>0.990300</td>\n",
       "      <td>1.003426</td>\n",
       "      <td>0.963728</td>\n",
       "      <td>1.057526</td>\n",
       "      <td>0.480351</td>\n",
       "      <td>0.120489</td>\n",
       "      <td>0.484245</td>\n",
       "      <td>0.420563</td>\n",
       "    </tr>\n",
       "    <tr>\n",
       "      <th>min</th>\n",
       "      <td>40.332470</td>\n",
       "      <td>-3.863910</td>\n",
       "      <td>-1.139633</td>\n",
       "      <td>-1.747547</td>\n",
       "      <td>-1.574992</td>\n",
       "      <td>-1.292693</td>\n",
       "      <td>10.000000</td>\n",
       "      <td>-0.459455</td>\n",
       "      <td>-0.703313</td>\n",
       "      <td>-0.548597</td>\n",
       "      <td>-0.522511</td>\n",
       "      <td>-0.157275</td>\n",
       "      <td>-0.008475</td>\n",
       "      <td>-1.115888</td>\n",
       "      <td>-1.231071</td>\n",
       "      <td>-1.303542</td>\n",
       "      <td>-1.193883</td>\n",
       "      <td>-0.579270</td>\n",
       "      <td>-0.678573</td>\n",
       "      <td>-0.326920</td>\n",
       "      <td>-0.301845</td>\n",
       "      <td>-0.357682</td>\n",
       "      <td>-0.103323</td>\n",
       "      <td>0.000000</td>\n",
       "      <td>0.000000</td>\n",
       "      <td>0.000000</td>\n",
       "      <td>0.000000</td>\n",
       "    </tr>\n",
       "    <tr>\n",
       "      <th>25%</th>\n",
       "      <td>40.409222</td>\n",
       "      <td>-3.707480</td>\n",
       "      <td>-0.645354</td>\n",
       "      <td>-0.347512</td>\n",
       "      <td>-0.411921</td>\n",
       "      <td>-0.641980</td>\n",
       "      <td>36.000000</td>\n",
       "      <td>-0.459455</td>\n",
       "      <td>-0.703313</td>\n",
       "      <td>-0.548597</td>\n",
       "      <td>-0.522511</td>\n",
       "      <td>-0.157275</td>\n",
       "      <td>-0.008417</td>\n",
       "      <td>-1.115888</td>\n",
       "      <td>-1.231071</td>\n",
       "      <td>-1.274689</td>\n",
       "      <td>-1.047364</td>\n",
       "      <td>-0.548849</td>\n",
       "      <td>-0.678573</td>\n",
       "      <td>-0.326920</td>\n",
       "      <td>-0.301845</td>\n",
       "      <td>-0.357682</td>\n",
       "      <td>-0.103323</td>\n",
       "      <td>0.000000</td>\n",
       "      <td>0.000000</td>\n",
       "      <td>0.000000</td>\n",
       "      <td>0.000000</td>\n",
       "    </tr>\n",
       "    <tr>\n",
       "      <th>50%</th>\n",
       "      <td>40.418030</td>\n",
       "      <td>-3.701420</td>\n",
       "      <td>-0.151076</td>\n",
       "      <td>-0.347512</td>\n",
       "      <td>-0.411921</td>\n",
       "      <td>0.008732</td>\n",
       "      <td>60.000000</td>\n",
       "      <td>-0.459455</td>\n",
       "      <td>-0.116803</td>\n",
       "      <td>-0.548597</td>\n",
       "      <td>-0.522511</td>\n",
       "      <td>-0.110980</td>\n",
       "      <td>-0.007005</td>\n",
       "      <td>-0.230100</td>\n",
       "      <td>-0.010284</td>\n",
       "      <td>0.081392</td>\n",
       "      <td>-0.197550</td>\n",
       "      <td>-0.396746</td>\n",
       "      <td>-0.405470</td>\n",
       "      <td>-0.295958</td>\n",
       "      <td>-0.270356</td>\n",
       "      <td>-0.357682</td>\n",
       "      <td>-0.103323</td>\n",
       "      <td>0.000000</td>\n",
       "      <td>0.000000</td>\n",
       "      <td>1.000000</td>\n",
       "      <td>0.000000</td>\n",
       "    </tr>\n",
       "    <tr>\n",
       "      <th>75%</th>\n",
       "      <td>40.428169</td>\n",
       "      <td>-3.690990</td>\n",
       "      <td>0.343203</td>\n",
       "      <td>-0.347512</td>\n",
       "      <td>0.751150</td>\n",
       "      <td>0.008732</td>\n",
       "      <td>89.000000</td>\n",
       "      <td>0.200941</td>\n",
       "      <td>0.323080</td>\n",
       "      <td>0.163400</td>\n",
       "      <td>0.397414</td>\n",
       "      <td>-0.064685</td>\n",
       "      <td>-0.007005</td>\n",
       "      <td>0.832845</td>\n",
       "      <td>0.861707</td>\n",
       "      <td>0.860418</td>\n",
       "      <td>1.055193</td>\n",
       "      <td>0.196457</td>\n",
       "      <td>0.413838</td>\n",
       "      <td>-0.172109</td>\n",
       "      <td>-0.175891</td>\n",
       "      <td>-0.131436</td>\n",
       "      <td>-0.103323</td>\n",
       "      <td>1.000000</td>\n",
       "      <td>0.000000</td>\n",
       "      <td>1.000000</td>\n",
       "      <td>0.000000</td>\n",
       "    </tr>\n",
       "    <tr>\n",
       "      <th>max</th>\n",
       "      <td>40.562740</td>\n",
       "      <td>-3.527660</td>\n",
       "      <td>6.274544</td>\n",
       "      <td>15.052868</td>\n",
       "      <td>11.218792</td>\n",
       "      <td>31.242945</td>\n",
       "      <td>196.000000</td>\n",
       "      <td>19.176319</td>\n",
       "      <td>13.959438</td>\n",
       "      <td>10.131353</td>\n",
       "      <td>16.097458</td>\n",
       "      <td>51.878078</td>\n",
       "      <td>145.258194</td>\n",
       "      <td>1.541475</td>\n",
       "      <td>1.384901</td>\n",
       "      <td>1.293210</td>\n",
       "      <td>1.480101</td>\n",
       "      <td>9.064079</td>\n",
       "      <td>8.834509</td>\n",
       "      <td>7.444613</td>\n",
       "      <td>7.633257</td>\n",
       "      <td>9.144665</td>\n",
       "      <td>18.479164</td>\n",
       "      <td>1.000000</td>\n",
       "      <td>1.000000</td>\n",
       "      <td>1.000000</td>\n",
       "      <td>1.000000</td>\n",
       "    </tr>\n",
       "  </tbody>\n",
       "</table>\n",
       "</div>"
      ],
      "text/plain": [
       "           latitude     longitude  accommodates     bathrooms      bedrooms  \\\n",
       "count  18936.000000  18936.000000  18936.000000  18936.000000  18936.000000   \n",
       "mean      40.420036     -3.695224     -0.062693     -0.045266     -0.071341   \n",
       "std        0.021906      0.026870      0.904652      0.969154      0.898778   \n",
       "min       40.332470     -3.863910     -1.139633     -1.747547     -1.574992   \n",
       "25%       40.409222     -3.707480     -0.645354     -0.347512     -0.411921   \n",
       "50%       40.418030     -3.701420     -0.151076     -0.347512     -0.411921   \n",
       "75%       40.428169     -3.690990      0.343203     -0.347512      0.751150   \n",
       "max       40.562740     -3.527660      6.274544     15.052868     11.218792   \n",
       "\n",
       "               beds         price  security_deposit  cleaning_fee  \\\n",
       "count  18936.000000  18936.000000      18936.000000  18936.000000   \n",
       "mean      -0.059136     66.749789         -0.032686     -0.044413   \n",
       "std        0.911714     38.641353          0.860545      0.767335   \n",
       "min       -1.292693     10.000000         -0.459455     -0.703313   \n",
       "25%       -0.641980     36.000000         -0.459455     -0.703313   \n",
       "50%        0.008732     60.000000         -0.459455     -0.116803   \n",
       "75%        0.008732     89.000000          0.200941      0.323080   \n",
       "max       31.242945    196.000000         19.176319     13.959438   \n",
       "\n",
       "       guests_included  extra_people  minimum_nights  maximum_nights  \\\n",
       "count     18936.000000  18936.000000    18936.000000    18936.000000   \n",
       "mean         -0.023360     -0.008899        0.004723        0.000949   \n",
       "std           0.906895      0.813106        0.999886        1.060908   \n",
       "min          -0.548597     -0.522511       -0.157275       -0.008475   \n",
       "25%          -0.548597     -0.522511       -0.157275       -0.008417   \n",
       "50%          -0.548597     -0.522511       -0.110980       -0.007005   \n",
       "75%           0.163400      0.397414       -0.064685       -0.007005   \n",
       "max          10.131353     16.097458       51.878078      145.258194   \n",
       "\n",
       "       availability_30  availability_60  availability_90  availability_365  \\\n",
       "count     18936.000000     18936.000000     18936.000000      18936.000000   \n",
       "mean         -0.055918        -0.049728        -0.044702         -0.027016   \n",
       "std           0.972367         0.978803         0.983002          0.993797   \n",
       "min          -1.115888        -1.231071        -1.303542         -1.193883   \n",
       "25%          -1.115888        -1.231071        -1.274689         -1.047364   \n",
       "50%          -0.230100        -0.010284         0.081392         -0.197550   \n",
       "75%           0.832845         0.861707         0.860418          1.055193   \n",
       "max           1.541475         1.384901         1.293210          1.480101   \n",
       "\n",
       "       number_of_reviews  number_of_reviews_ltm  \\\n",
       "count       18936.000000           18936.000000   \n",
       "mean            0.051326               0.052987   \n",
       "std             1.037925               1.023062   \n",
       "min            -0.579270              -0.678573   \n",
       "25%            -0.548849              -0.678573   \n",
       "50%            -0.396746              -0.405470   \n",
       "75%             0.196457               0.413838   \n",
       "max             9.064079               8.834509   \n",
       "\n",
       "       calculated_host_listings_count  \\\n",
       "count                    18936.000000   \n",
       "mean                        -0.019191   \n",
       "std                          0.990300   \n",
       "min                         -0.326920   \n",
       "25%                         -0.326920   \n",
       "50%                         -0.295958   \n",
       "75%                         -0.172109   \n",
       "max                          7.444613   \n",
       "\n",
       "       calculated_host_listings_count_entire_homes  \\\n",
       "count                                 18936.000000   \n",
       "mean                                     -0.017139   \n",
       "std                                       1.003426   \n",
       "min                                      -0.301845   \n",
       "25%                                      -0.301845   \n",
       "50%                                      -0.270356   \n",
       "75%                                      -0.175891   \n",
       "max                                       7.633257   \n",
       "\n",
       "       calculated_host_listings_count_private_rooms  \\\n",
       "count                                  18936.000000   \n",
       "mean                                      -0.016245   \n",
       "std                                        0.963728   \n",
       "min                                       -0.357682   \n",
       "25%                                       -0.357682   \n",
       "50%                                       -0.357682   \n",
       "75%                                       -0.131436   \n",
       "max                                        9.144665   \n",
       "\n",
       "       calculated_host_listings_count_shared_rooms  room_type_private_room  \\\n",
       "count                                 18936.000000            18936.000000   \n",
       "mean                                      0.009985                0.361164   \n",
       "std                                       1.057526                0.480351   \n",
       "min                                      -0.103323                0.000000   \n",
       "25%                                      -0.103323                0.000000   \n",
       "50%                                      -0.103323                0.000000   \n",
       "75%                                      -0.103323                1.000000   \n",
       "max                                      18.479164                1.000000   \n",
       "\n",
       "       room_type_shared_room  air_conditioning    dishwasher  \n",
       "count           18936.000000      18936.000000  18936.000000  \n",
       "mean                0.014734          0.624578      0.229563  \n",
       "std                 0.120489          0.484245      0.420563  \n",
       "min                 0.000000          0.000000      0.000000  \n",
       "25%                 0.000000          0.000000      0.000000  \n",
       "50%                 0.000000          1.000000      0.000000  \n",
       "75%                 0.000000          1.000000      0.000000  \n",
       "max                 1.000000          1.000000      1.000000  "
      ]
     },
     "execution_count": 15,
     "metadata": {},
     "output_type": "execute_result"
    }
   ],
   "source": [
    "listings.describe()"
   ]
  },
  {
   "cell_type": "markdown",
   "id": "2d857301",
   "metadata": {},
   "source": [
    "###### R2\n",
    "\n",
    "\n",
    "$$R2 = 1 - \\frac{\\sum_{i=1}^{n}(y_i-\\hat{y}_i)^{2}}{\\sum_{i=1}^{n}(y_i-\\bar{y})^{2}}$$"
   ]
  },
  {
   "cell_type": "markdown",
   "id": "6c038955",
   "metadata": {},
   "source": [
    "Se opta por el modelo Catboost con sus valores por defecto."
   ]
  },
  {
   "cell_type": "code",
   "execution_count": 13,
   "id": "07b1bb06",
   "metadata": {},
   "outputs": [
    {
     "data": {
      "text/plain": [
       "22.24774993678672"
      ]
     },
     "execution_count": 13,
     "metadata": {},
     "output_type": "execute_result"
    }
   ],
   "source": [
    "mae(y_test, y_pred)/listings.price.mean()*100"
   ]
  },
  {
   "cell_type": "code",
   "execution_count": null,
   "id": "5822aa28",
   "metadata": {},
   "outputs": [],
   "source": []
  }
 ],
 "metadata": {
  "kernelspec": {
   "display_name": "clase",
   "language": "python",
   "name": "clase"
  },
  "language_info": {
   "codemirror_mode": {
    "name": "ipython",
    "version": 3
   },
   "file_extension": ".py",
   "mimetype": "text/x-python",
   "name": "python",
   "nbconvert_exporter": "python",
   "pygments_lexer": "ipython3",
   "version": "3.8.13"
  }
 },
 "nbformat": 4,
 "nbformat_minor": 5
}

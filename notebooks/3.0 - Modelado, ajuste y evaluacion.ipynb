{
 "cells": [
  {
   "cell_type": "markdown",
   "id": "4d1cf2ec",
   "metadata": {},
   "source": [
    "# 3.0 - Modelado, ajuste y evaluacion"
   ]
  },
  {
   "cell_type": "code",
   "execution_count": 1,
   "id": "fde693e0",
   "metadata": {},
   "outputs": [],
   "source": [
    "# librerias\n",
    "\n",
    "import numpy as np\n",
    "import pandas as pd\n",
    "\n",
    "pd.set_option('display.max_columns', None)\n",
    "\n",
    "from catboost import CatBoostRegressor as CTR\n",
    "\n",
    "from sklearn.model_selection import train_test_split as tts \n",
    "\n",
    "from hyperopt import fmin, hp, tpe, Trials, space_eval, STATUS_OK\n",
    "\n",
    "from sklearn.metrics import mean_squared_error as mse \n",
    "from sklearn.metrics import mean_absolute_error as mae\n",
    "from sklearn.metrics import r2_score as r2"
   ]
  },
  {
   "cell_type": "markdown",
   "id": "66b487c8",
   "metadata": {},
   "source": [
    "**Datos**"
   ]
  },
  {
   "cell_type": "code",
   "execution_count": 2,
   "id": "77f199aa",
   "metadata": {},
   "outputs": [],
   "source": [
    "cols=['accommodates', 'air_conditioning', 'availability_30', 'availability_365', 'availability_60', \n",
    "      'availability_90','bathrooms', 'bedrooms', 'beds', 'calculated_host_listings_count', \n",
    "      'calculated_host_listings_count_entire_homes',\n",
    "      'calculated_host_listings_count_private_rooms', 'calculated_host_listings_count_shared_rooms', \n",
    "      'cleaning_fee','dishwasher', 'dryer', 'elevator', 'extra_people', 'guests_included', 'maximum_nights',\n",
    "      'minimum_nights', 'number_of_reviews', 'number_of_reviews_ltm', 'room_type_private_room', \n",
    "      'room_type_shared_room', 'security_deposit', 'x', 'y', 'z', 'price']"
   ]
  },
  {
   "cell_type": "code",
   "execution_count": 3,
   "id": "ce55b883",
   "metadata": {},
   "outputs": [],
   "source": [
    "# carga de datos\n",
    "listings=pd.read_csv('../data/transform_data/listings_normal.csv', usecols=cols)\n",
    "\n",
    "listings=listings[(listings.price>=10) & (listings.price<=196)]  # eliminacion de outliers\n",
    "\n",
    "# cambio en el tamaño del tipo de dato\n",
    "for c in listings.select_dtypes(include='int'):\n",
    "    listings[c]=pd.to_numeric(listings[c], downcast='integer')\n",
    "\n",
    "for c in listings.select_dtypes(include='float'):\n",
    "    listings[c]=pd.to_numeric(listings[c], downcast='float')"
   ]
  },
  {
   "cell_type": "code",
   "execution_count": 4,
   "id": "b1c3279f",
   "metadata": {},
   "outputs": [],
   "source": [
    "ctr=CTR(verbose=0)"
   ]
  },
  {
   "cell_type": "code",
   "execution_count": null,
   "id": "7a99d0a4",
   "metadata": {},
   "outputs": [],
   "source": [
    "X=listings.drop('price', axis=1)\n",
    "y=listings.price\n",
    "\n",
    "X_train, X_test, y_train, y_test = tts(X, y, train_size=0.8, test_size=0.2, random_state=42)\n",
    "\n",
    "ctr.fit(X_train, y_train)\n",
    "\n",
    "y_pred=ctr.predict(X_train)\n",
    "\n",
    "print(f'Train RMSE: {mse(y_train, y_pred, squared=False)}')\n",
    "print(f'Train MAE: {mae(y_train, y_pred)}')\n",
    "print(f'Train R2: {r2(y_train, y_pred)}')"
   ]
  },
  {
   "cell_type": "code",
   "execution_count": null,
   "id": "6e710949",
   "metadata": {},
   "outputs": [],
   "source": [
    "y_pred=ctr.predict(X_test)\n",
    "\n",
    "print(f'Test RMSE: {mse(y_test, y_pred, squared=False)}')\n",
    "print(f'Test MAE: {mae(y_test, y_pred)}')\n",
    "print(f'Test R2: {r2(y_test, y_pred)}')"
   ]
  },
  {
   "cell_type": "code",
   "execution_count": null,
   "id": "0300cb68",
   "metadata": {},
   "outputs": [],
   "source": [
    "# aprioris\n",
    "\n",
    "space={\n",
    "    'n_estimators':hp.quniform('n_estimators', 100, 700, 25),\n",
    "    \n",
    "    'learning_rate':hp.uniform('learning_rate', 0.01, 1.0),\n",
    "    \n",
    "    'depth':hp.quniform('depth', 7, 16, 1),\n",
    "        \n",
    "}"
   ]
  },
  {
   "cell_type": "code",
   "execution_count": null,
   "id": "f7aa1360",
   "metadata": {},
   "outputs": [],
   "source": [
    "def objetivo(space):\n",
    "    \n",
    "    modelo=CTR(\n",
    "        verbose=0,\n",
    "        n_estimators=int(space['n_estimators']),\n",
    "        learning_rate=space['learning_rate'],\n",
    "        depth=int(space['depth'])\n",
    "    )\n",
    "    \n",
    "    eval_set=[(X_train, y_train), (X_test, y_test)]\n",
    "    \n",
    "    modelo.fit(X_train, y_train, eval_set=eval_set)\n",
    "    \n",
    "    y_pred=modelo.predict(X_test)\n",
    "    \n",
    "    rmse=mse(y_test, y_pred, squared=False)\n",
    "    \n",
    "    return {'loss': rmse, 'status': STATUS_OK}"
   ]
  },
  {
   "cell_type": "code",
   "execution_count": null,
   "id": "3b949172",
   "metadata": {},
   "outputs": [],
   "source": [
    "best=fmin(fn=objetivo,\n",
    "          space=space,\n",
    "          algo=tpe.suggest,\n",
    "          max_evals=20,\n",
    "          trials=Trials())\n",
    "\n",
    "best"
   ]
  },
  {
   "cell_type": "code",
   "execution_count": null,
   "id": "73585498",
   "metadata": {},
   "outputs": [],
   "source": [
    "modelo_ajustado=CTR(\n",
    "    verbose=0,\n",
    "    n_estimators=int(best['n_estimators']),\n",
    "    learning_rate=best['learning_rate'],\n",
    "    depth=int(best['depth']),\n",
    "    )\n",
    "\n",
    "\n",
    "modelo_ajustado.fit(X_train, y_train)"
   ]
  },
  {
   "cell_type": "code",
   "execution_count": null,
   "id": "de033f4c",
   "metadata": {},
   "outputs": [],
   "source": [
    "y_pred=modelo_ajustado.predict(X_train)\n",
    "\n",
    "print(f'Train RMSE: {mse(y_train, y_pred, squared=False)}')\n",
    "print(f'Train MAE: {mae(y_train, y_pred)}')\n",
    "print(f'Train R2: {r2(y_train, y_pred)}')"
   ]
  },
  {
   "cell_type": "code",
   "execution_count": null,
   "id": "e1e2b4a4",
   "metadata": {},
   "outputs": [],
   "source": [
    "y_pred=modelo_ajustado.predict(X_test)\n",
    "\n",
    "print(f'Test RMSE: {mse(y_test, y_pred, squared=False)}')\n",
    "print(f'Test MAE: {mae(y_test, y_pred)}')\n",
    "print(f'Test R2: {r2(y_test, y_pred)}')"
   ]
  },
  {
   "cell_type": "code",
   "execution_count": null,
   "id": "de12eb5a",
   "metadata": {},
   "outputs": [],
   "source": []
  }
 ],
 "metadata": {
  "kernelspec": {
   "display_name": "clase",
   "language": "python",
   "name": "clase"
  },
  "language_info": {
   "codemirror_mode": {
    "name": "ipython",
    "version": 3
   },
   "file_extension": ".py",
   "mimetype": "text/x-python",
   "name": "python",
   "nbconvert_exporter": "python",
   "pygments_lexer": "ipython3",
   "version": "3.8.13"
  }
 },
 "nbformat": 4,
 "nbformat_minor": 5
}

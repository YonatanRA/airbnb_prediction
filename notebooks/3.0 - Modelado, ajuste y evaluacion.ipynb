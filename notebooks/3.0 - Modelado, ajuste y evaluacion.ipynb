{
 "cells": [
  {
   "cell_type": "markdown",
   "id": "adcf9d2a",
   "metadata": {},
   "source": [
    "# 3.0 - Modelado, ajuste y evaluacion"
   ]
  },
  {
   "cell_type": "code",
   "execution_count": 1,
   "id": "9e55b99f",
   "metadata": {},
   "outputs": [],
   "source": [
    "# librerias\n",
    "\n",
    "import numpy as np\n",
    "import pandas as pd\n",
    "\n",
    "pd.set_option('display.max_columns', None)\n",
    "\n",
    "from catboost import CatBoostRegressor as CTR\n",
    "\n",
    "from sklearn.model_selection import train_test_split as tts \n",
    "\n",
    "from hyperopt import fmin, hp, tpe, Trials, space_eval, STATUS_OK\n",
    "\n",
    "from sklearn.metrics import mean_squared_error as mse \n",
    "from sklearn.metrics import mean_absolute_error as mae\n",
    "from sklearn.metrics import r2_score as r2"
   ]
  },
  {
   "cell_type": "markdown",
   "id": "c975502f",
   "metadata": {},
   "source": [
    "**Datos**"
   ]
  },
  {
   "cell_type": "code",
   "execution_count": 2,
   "id": "4784d7c1",
   "metadata": {},
   "outputs": [],
   "source": [
    "cols=['accommodates', 'air_conditioning', 'availability_30', 'availability_365', 'availability_60', \n",
    "      'availability_90','bathrooms', 'bedrooms', 'beds', 'calculated_host_listings_count', \n",
    "      'calculated_host_listings_count_entire_homes',\n",
    "      'calculated_host_listings_count_private_rooms', 'calculated_host_listings_count_shared_rooms', \n",
    "      'cleaning_fee','dishwasher', 'dryer', 'elevator', 'extra_people', 'guests_included', 'maximum_nights',\n",
    "      'minimum_nights', 'number_of_reviews', 'number_of_reviews_ltm', 'room_type_private_room', \n",
    "      'room_type_shared_room', 'security_deposit', 'x', 'y', 'z', 'price']"
   ]
  },
  {
   "cell_type": "code",
   "execution_count": 3,
   "id": "62da97f8",
   "metadata": {},
   "outputs": [],
   "source": [
    "# carga de datos\n",
    "listings=pd.read_csv('../data/transform_data/listings_normal.csv', usecols=cols)\n",
    "\n",
    "listings=listings[(listings.price>=10) & (listings.price<=196)]  # eliminacion de outliers\n",
    "\n",
    "# cambio en el tamaño del tipo de dato\n",
    "for c in listings.select_dtypes(include='int'):\n",
    "    listings[c]=pd.to_numeric(listings[c], downcast='integer')\n",
    "\n",
    "for c in listings.select_dtypes(include='float'):\n",
    "    listings[c]=pd.to_numeric(listings[c], downcast='float')"
   ]
  },
  {
   "cell_type": "markdown",
   "id": "0b9f740f",
   "metadata": {},
   "source": [
    "**Modelo**"
   ]
  },
  {
   "cell_type": "code",
   "execution_count": 4,
   "id": "af9556e4",
   "metadata": {},
   "outputs": [],
   "source": [
    "ctr=CTR(verbose=0)"
   ]
  },
  {
   "cell_type": "code",
   "execution_count": 5,
   "id": "4d683041",
   "metadata": {},
   "outputs": [
    {
     "name": "stdout",
     "output_type": "stream",
     "text": [
      "Train RMSE: 16.99563035159233\n",
      "Train MAE: 11.793957050448046\n",
      "Train R2: 0.8018437175551163\n"
     ]
    }
   ],
   "source": [
    "X=listings.drop('price', axis=1)\n",
    "y=listings.price\n",
    "\n",
    "X_train, X_test, y_train, y_test = tts(X, y, train_size=0.8, test_size=0.2, random_state=42)\n",
    "\n",
    "ctr.fit(X_train, y_train)\n",
    "\n",
    "y_pred=ctr.predict(X_train)\n",
    "\n",
    "print(f'Train RMSE: {mse(y_train, y_pred, squared=False)}')\n",
    "print(f'Train MAE: {mae(y_train, y_pred)}')\n",
    "print(f'Train R2: {r2(y_train, y_pred)}')"
   ]
  },
  {
   "cell_type": "code",
   "execution_count": 6,
   "id": "e8ddeb89",
   "metadata": {},
   "outputs": [
    {
     "name": "stdout",
     "output_type": "stream",
     "text": [
      "Test RMSE: 21.620325517639113\n",
      "Test MAE: 14.708807872358754\n",
      "Test R2: 0.7138451608820328\n"
     ]
    }
   ],
   "source": [
    "y_pred=ctr.predict(X_test)\n",
    "\n",
    "print(f'Test RMSE: {mse(y_test, y_pred, squared=False)}')\n",
    "print(f'Test MAE: {mae(y_test, y_pred)}')\n",
    "print(f'Test R2: {r2(y_test, y_pred)}')"
   ]
  },
  {
   "cell_type": "markdown",
   "id": "3975acf4",
   "metadata": {},
   "source": [
    "**Ajuste de hiperparámetros**"
   ]
  },
  {
   "cell_type": "code",
   "execution_count": 7,
   "id": "3bbb025c",
   "metadata": {},
   "outputs": [],
   "source": [
    "# aprioris\n",
    "\n",
    "space={\n",
    "    'n_estimators':hp.quniform('n_estimators', 100, 700, 25),\n",
    "    \n",
    "    'learning_rate':hp.uniform('learning_rate', 0.01, 1.0),\n",
    "    \n",
    "    'depth':hp.quniform('depth', 7, 16, 1)\n",
    "}"
   ]
  },
  {
   "cell_type": "code",
   "execution_count": 8,
   "id": "345e372d",
   "metadata": {},
   "outputs": [],
   "source": [
    "def objetivo(space):\n",
    "    \n",
    "    modelo=CTR(verbose=0,\n",
    "               n_estimators=int(space['n_estimators']),\n",
    "               learning_rate=space['learning_rate'],\n",
    "               depth=int(space['depth'])\n",
    "              )\n",
    "    \n",
    "    eval_set=[(X_train, y_train), (X_test, y_test)]\n",
    "    \n",
    "    modelo.fit(X_train, y_train, eval_set=eval_set)\n",
    "    \n",
    "    y_pred=modelo.predict(X_test)\n",
    "    \n",
    "    rmse=mse(y_test, y_pred, squared=False)\n",
    "    \n",
    "    return {'loss': rmse, 'status': STATUS_OK}"
   ]
  },
  {
   "cell_type": "code",
   "execution_count": null,
   "id": "88c5354f",
   "metadata": {},
   "outputs": [
    {
     "name": "stdout",
     "output_type": "stream",
     "text": [
      " 50%|█████████████████████████████████████▌                                     | 10/20 [08:07<09:23, 56.31s/trial, best loss: 21.39733979024292]"
     ]
    }
   ],
   "source": [
    "mejor=fmin(fn=objetivo,\n",
    "          space=space,\n",
    "          algo=tpe.suggest,\n",
    "          max_evals=20,\n",
    "          trials=Trials())\n",
    "\n",
    "mejor"
   ]
  },
  {
   "cell_type": "code",
   "execution_count": null,
   "id": "c8c1c8d4",
   "metadata": {},
   "outputs": [],
   "source": [
    "modelo_ajustado=CTR(\n",
    "    verbose=0,\n",
    "    n_estimators=int(mejor['n_estimators']),\n",
    "    learning_rate=mejor['learning_rate'],\n",
    "    depth=int(mejor['depth']),\n",
    "    )\n",
    "\n",
    "\n",
    "modelo_ajustado.fit(X_train, y_train)"
   ]
  },
  {
   "cell_type": "code",
   "execution_count": null,
   "id": "41f356fb",
   "metadata": {},
   "outputs": [],
   "source": [
    "y_pred=modelo_ajustado.predict(X_train)\n",
    "\n",
    "print(f'Train RMSE: {mse(y_train, y_pred, squared=False)}')\n",
    "print(f'Train MAE: {mae(y_train, y_pred)}')\n",
    "print(f'Train R2: {r2(y_train, y_pred)}')"
   ]
  },
  {
   "cell_type": "code",
   "execution_count": null,
   "id": "ef469c62",
   "metadata": {},
   "outputs": [],
   "source": [
    "y_pred=modelo_ajustado.predict(X_test)\n",
    "\n",
    "print(f'Test RMSE: {mse(y_test, y_pred, squared=False)}')\n",
    "print(f'Test MAE: {mae(y_test, y_pred)}')\n",
    "print(f'Test R2: {r2(y_test, y_pred)}')"
   ]
  },
  {
   "cell_type": "markdown",
   "id": "b33a6279",
   "metadata": {},
   "source": [
    "**Evaluación**"
   ]
  },
  {
   "cell_type": "code",
   "execution_count": null,
   "id": "de465de0",
   "metadata": {},
   "outputs": [],
   "source": []
  },
  {
   "cell_type": "code",
   "execution_count": null,
   "id": "1f74c650",
   "metadata": {},
   "outputs": [],
   "source": []
  },
  {
   "cell_type": "code",
   "execution_count": null,
   "id": "4a6b3956",
   "metadata": {},
   "outputs": [],
   "source": []
  },
  {
   "cell_type": "code",
   "execution_count": null,
   "id": "9530c94a",
   "metadata": {},
   "outputs": [],
   "source": []
  },
  {
   "cell_type": "code",
   "execution_count": null,
   "id": "5937ed4f",
   "metadata": {},
   "outputs": [],
   "source": []
  },
  {
   "cell_type": "code",
   "execution_count": null,
   "id": "639fb926",
   "metadata": {},
   "outputs": [],
   "source": []
  },
  {
   "cell_type": "code",
   "execution_count": null,
   "id": "4c61392d",
   "metadata": {},
   "outputs": [],
   "source": []
  },
  {
   "cell_type": "code",
   "execution_count": null,
   "id": "e98399f9",
   "metadata": {},
   "outputs": [],
   "source": []
  }
 ],
 "metadata": {
  "kernelspec": {
   "display_name": "clase",
   "language": "python",
   "name": "clase"
  },
  "language_info": {
   "codemirror_mode": {
    "name": "ipython",
    "version": 3
   },
   "file_extension": ".py",
   "mimetype": "text/x-python",
   "name": "python",
   "nbconvert_exporter": "python",
   "pygments_lexer": "ipython3",
   "version": "3.8.13"
  }
 },
 "nbformat": 4,
 "nbformat_minor": 5
}

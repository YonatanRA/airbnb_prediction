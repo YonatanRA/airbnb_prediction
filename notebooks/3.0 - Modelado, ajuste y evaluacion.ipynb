{
 "cells": [
  {
   "cell_type": "markdown",
   "id": "a290810a",
   "metadata": {},
   "source": [
    "# 3.0 - Modelado, ajuste y evaluación"
   ]
  },
  {
   "cell_type": "code",
   "execution_count": 1,
   "id": "fcd67aec",
   "metadata": {},
   "outputs": [],
   "source": [
    "# librerias\n",
    "\n",
    "import numpy as np\n",
    "import pandas as pd\n",
    "\n",
    "pd.set_option('display.max_columns', None)\n",
    "\n",
    "from catboost import CatBoostRegressor as CTR\n",
    "\n",
    "from sklearn.model_selection import train_test_split as tts \n",
    "\n",
    "from hyperopt import fmin, hp, tpe, Trials, space_eval, STATUS_OK\n",
    "\n",
    "from sklearn.metrics import mean_squared_error as mse \n",
    "from sklearn.metrics import mean_absolute_error as mae\n",
    "from sklearn.metrics import r2_score as r2"
   ]
  },
  {
   "cell_type": "markdown",
   "id": "c2950455",
   "metadata": {},
   "source": [
    "**Datos**\n",
    "\n",
    "Selecciono la características previamente evaluadas y solamente cargo esas. Elimino los outliers y cambio el tipo de dato."
   ]
  },
  {
   "cell_type": "code",
   "execution_count": 2,
   "id": "70be92a2",
   "metadata": {},
   "outputs": [
    {
     "data": {
      "text/plain": [
       "27"
      ]
     },
     "execution_count": 2,
     "metadata": {},
     "output_type": "execute_result"
    }
   ],
   "source": [
    "cols=['accommodates', 'air_conditioning', 'availability_30', 'availability_365', 'availability_60', 'availability_90',\n",
    "      'bathrooms', 'bedrooms', 'beds', 'calculated_host_listings_count', 'calculated_host_listings_count_entire_homes',\n",
    "      'calculated_host_listings_count_private_rooms', 'calculated_host_listings_count_shared_rooms', 'cleaning_fee',\n",
    "      'dishwasher', 'extra_people', 'guests_included','latitude', 'longitude', 'maximum_nights', 'minimum_nights', \n",
    "      'number_of_reviews', 'number_of_reviews_ltm', 'room_type_private_room', 'room_type_shared_room', 'security_deposit',\n",
    "      'price']\n",
    "\n",
    "len(cols)"
   ]
  },
  {
   "cell_type": "code",
   "execution_count": 3,
   "id": "d056968b",
   "metadata": {},
   "outputs": [],
   "source": [
    "# carga de datos\n",
    "listings=pd.read_csv('../data/transform_data/listings_normal.csv', usecols=cols)\n",
    "\n",
    "listings=listings[(listings.price>=10) & (listings.price<=196)]  # eliminacion de outliers\n",
    "\n",
    "# cambio en el tamaño del tipo de dato\n",
    "for c in listings.select_dtypes(include='int'):\n",
    "    listings[c]=pd.to_numeric(listings[c], downcast='integer')\n",
    "\n",
    "for c in listings.select_dtypes(include='float'):\n",
    "    listings[c]=pd.to_numeric(listings[c], downcast='float')"
   ]
  },
  {
   "cell_type": "markdown",
   "id": "c659553f",
   "metadata": {},
   "source": [
    "**Modelo**\n",
    "\n",
    "Importo y entreno un Catboost Regressor, realizo predicción con el paquete de entrenamiento y de testeo, para darme cuenta de posible sobreajuste, midiendo RMSE, MAE y R2."
   ]
  },
  {
   "cell_type": "code",
   "execution_count": 4,
   "id": "c13a05d8",
   "metadata": {},
   "outputs": [],
   "source": [
    "ctr=CTR(verbose=0)"
   ]
  },
  {
   "cell_type": "code",
   "execution_count": 5,
   "id": "39f43e61",
   "metadata": {},
   "outputs": [
    {
     "name": "stdout",
     "output_type": "stream",
     "text": [
      "Train RMSE: 17.09389499575402\n",
      "Train MAE: 11.909514534360929\n",
      "Train R2: 0.7995457095749583\n"
     ]
    }
   ],
   "source": [
    "X=listings.drop('price', axis=1)\n",
    "y=listings.price\n",
    "\n",
    "X_train, X_test, y_train, y_test = tts(X, y, train_size=0.8, test_size=0.2, random_state=42)\n",
    "\n",
    "ctr.fit(X_train, y_train)\n",
    "\n",
    "y_pred=ctr.predict(X_train)\n",
    "\n",
    "print(f'Train RMSE: {mse(y_train, y_pred, squared=False)}')\n",
    "print(f'Train MAE: {mae(y_train, y_pred)}')\n",
    "print(f'Train R2: {r2(y_train, y_pred)}')"
   ]
  },
  {
   "cell_type": "code",
   "execution_count": 6,
   "id": "ed1254b9",
   "metadata": {},
   "outputs": [
    {
     "name": "stdout",
     "output_type": "stream",
     "text": [
      "Test RMSE: 21.713858907632996\n",
      "Test MAE: 14.82603810439655\n",
      "Test R2: 0.7113638913656304\n"
     ]
    }
   ],
   "source": [
    "y_pred=ctr.predict(X_test)\n",
    "\n",
    "print(f'Test RMSE: {mse(y_test, y_pred, squared=False)}')\n",
    "print(f'Test MAE: {mae(y_test, y_pred)}')\n",
    "print(f'Test R2: {r2(y_test, y_pred)}')"
   ]
  },
  {
   "cell_type": "markdown",
   "id": "828389f3",
   "metadata": {},
   "source": [
    "**Ajuste de hiperparámetros**\n",
    "\n",
    "Ajuste bayesiano de hiperparámetros."
   ]
  },
  {
   "cell_type": "code",
   "execution_count": 7,
   "id": "2bed5e1e",
   "metadata": {},
   "outputs": [],
   "source": [
    "# aprioris, espacio de hiperparámetros\n",
    "\n",
    "espacio={\n",
    "    'n_estimators':hp.quniform('n_estimators', 100, 700, 25),\n",
    "    \n",
    "    'learning_rate':hp.uniform('learning_rate', 0.01, 1.0),\n",
    "    \n",
    "    'depth':hp.quniform('depth', 7, 16, 1)\n",
    "}"
   ]
  },
  {
   "cell_type": "code",
   "execution_count": 8,
   "id": "bbdf2ec8",
   "metadata": {},
   "outputs": [],
   "source": [
    "def objetivo(espacio):\n",
    "    \n",
    "    modelo=CTR(verbose=0,\n",
    "               n_estimators=int(espacio['n_estimators']),\n",
    "               learning_rate=espacio['learning_rate'],\n",
    "               depth=int(espacio['depth'])\n",
    "              )\n",
    "    \n",
    "    eval_set=[(X_train, y_train), (X_test, y_test)]\n",
    "    \n",
    "    modelo.fit(X_train, y_train, eval_set=eval_set)\n",
    "    \n",
    "    y_pred=modelo.predict(X_test)\n",
    "    \n",
    "    rmse=mse(y_test, y_pred, squared=False)\n",
    "    \n",
    "    return {'loss': rmse, 'status': STATUS_OK}"
   ]
  },
  {
   "cell_type": "code",
   "execution_count": 9,
   "id": "0fa3a9a0",
   "metadata": {},
   "outputs": [
    {
     "name": "stdout",
     "output_type": "stream",
     "text": [
      "100%|████████████████████████████████████████████████████| 20/20 [03:45<00:00, 11.28s/trial, best loss: 21.908005638155686]\n"
     ]
    },
    {
     "data": {
      "text/plain": [
       "{'depth': 10.0, 'learning_rate': 0.11517739200904813, 'n_estimators': 250.0}"
      ]
     },
     "execution_count": 9,
     "metadata": {},
     "output_type": "execute_result"
    }
   ],
   "source": [
    "mejor=fmin(fn=objetivo,\n",
    "          space=espacio,\n",
    "          algo=tpe.suggest,\n",
    "          max_evals=20,\n",
    "          trials=Trials())\n",
    "\n",
    "mejor"
   ]
  },
  {
   "cell_type": "code",
   "execution_count": 10,
   "id": "8372e554",
   "metadata": {},
   "outputs": [
    {
     "data": {
      "text/plain": [
       "<catboost.core.CatBoostRegressor at 0x13fa8f310>"
      ]
     },
     "execution_count": 10,
     "metadata": {},
     "output_type": "execute_result"
    }
   ],
   "source": [
    "modelo_ajustado=CTR(\n",
    "    verbose=0,\n",
    "    n_estimators=int(mejor['n_estimators']),\n",
    "    learning_rate=mejor['learning_rate'],\n",
    "    depth=int(mejor['depth']),\n",
    "    )\n",
    "\n",
    "\n",
    "modelo_ajustado.fit(X_train, y_train)"
   ]
  },
  {
   "cell_type": "code",
   "execution_count": 11,
   "id": "d7484019",
   "metadata": {},
   "outputs": [
    {
     "name": "stdout",
     "output_type": "stream",
     "text": [
      "Train RMSE: 14.01635828564621\n",
      "Train MAE: 9.655967376858882\n",
      "Train R2: 0.8652267587326375\n"
     ]
    }
   ],
   "source": [
    "y_pred=modelo_ajustado.predict(X_train)\n",
    "\n",
    "print(f'Train RMSE: {mse(y_train, y_pred, squared=False)}')\n",
    "print(f'Train MAE: {mae(y_train, y_pred)}')\n",
    "print(f'Train R2: {r2(y_train, y_pred)}')"
   ]
  },
  {
   "cell_type": "code",
   "execution_count": 12,
   "id": "4f3cf3a6",
   "metadata": {},
   "outputs": [
    {
     "name": "stdout",
     "output_type": "stream",
     "text": [
      "Test RMSE: 21.925796297528173\n",
      "Test MAE: 14.946124581480271\n",
      "Test R2: 0.7057019478848928\n"
     ]
    }
   ],
   "source": [
    "y_pred=modelo_ajustado.predict(X_test)\n",
    "\n",
    "print(f'Test RMSE: {mse(y_test, y_pred, squared=False)}')\n",
    "print(f'Test MAE: {mae(y_test, y_pred)}')\n",
    "print(f'Test R2: {r2(y_test, y_pred)}')"
   ]
  },
  {
   "cell_type": "markdown",
   "id": "571a33f5",
   "metadata": {},
   "source": [
    "**Evaluación**"
   ]
  },
  {
   "cell_type": "markdown",
   "id": "8a524ac5",
   "metadata": {},
   "source": [
    "En todo momento estoy usando el MAE, RMSE y R2. Veamos su definición y su explicación."
   ]
  },
  {
   "cell_type": "markdown",
   "id": "50308c72",
   "metadata": {},
   "source": [
    "###### MAE (Error Medio Absoluto)\n",
    "\n",
    "\n",
    "$$MAE = \\frac{1}{n}\\sum_{i=1}^{n}|y_i-\\hat{y}_i|$$\n",
    "\n",
    "\n",
    "pertenece al intervalo [0, +$\\infty$)"
   ]
  },
  {
   "cell_type": "markdown",
   "id": "74ff508c",
   "metadata": {},
   "source": [
    "###### RMSE\n",
    "\n",
    "\n",
    "$$RMSE = \\sqrt{\\frac{1}{n}\\sum_{i=1}^{n}(y_i-\\hat{y}_i)^{2}}$$\n",
    "\n",
    "\n",
    "pertenece al intervalo [0, +$\\infty$) y se cumple que:\n",
    "\n",
    "$$MAE <= RMSE <= MAE · \\sqrt{n}$$"
   ]
  },
  {
   "cell_type": "markdown",
   "id": "4a560ae2",
   "metadata": {},
   "source": [
    "Ambas métricas son indiferentes al signo del error, pero el RMSE, al hacer la media de cuadrados, es sensible a errores más grandes, y está en ese intervalo con respector al MAE. Grandes diferencias entre MAE y RMSE indican la existencia de valores extremos (outliers), de ahí usar ambas métricas. También, ambas métricas tienen las unidades de la variable a predecir, por lo que son más fáciles de leer que, por ejemplo, el MSE."
   ]
  },
  {
   "cell_type": "markdown",
   "id": "2d857301",
   "metadata": {},
   "source": [
    "###### R2\n",
    "\n",
    "\n",
    "$$R2 = 1 - \\frac{\\sum_{i=1}^{n}(y_i-\\hat{y}_i)^{2}}{\\sum_{i=1}^{n}(y_i-\\bar{y})^{2}}$$\n",
    "\n",
    "pertenece al intervalo (-$\\infty$, 1]\n",
    "\n",
    "En cuanto al R2, nos da una tasa entre error y varianza. Básicamente nos indica cuánta varianza del objetivo somos capaces de explicar según nuestros predictores."
   ]
  },
  {
   "cell_type": "markdown",
   "id": "6c038955",
   "metadata": {},
   "source": [
    "**Hiperparámetros:** Se opta por el modelo Catboost con sus valores por defecto, dado que el ajuste de los hiperparámetros me genera un ligero sobreajuste (overfitting)."
   ]
  }
 ],
 "metadata": {
  "kernelspec": {
   "display_name": "clase",
   "language": "python",
   "name": "clase"
  },
  "language_info": {
   "codemirror_mode": {
    "name": "ipython",
    "version": 3
   },
   "file_extension": ".py",
   "mimetype": "text/x-python",
   "name": "python",
   "nbconvert_exporter": "python",
   "pygments_lexer": "ipython3",
   "version": "3.8.13"
  }
 },
 "nbformat": 4,
 "nbformat_minor": 5
}

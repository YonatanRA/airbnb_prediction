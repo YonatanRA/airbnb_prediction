{
 "cells": [
  {
   "cell_type": "markdown",
   "id": "0ae853fd",
   "metadata": {},
   "source": [
    "# 3.1 - Proceso completo"
   ]
  },
  {
   "cell_type": "code",
   "execution_count": 1,
   "id": "db58c34d",
   "metadata": {},
   "outputs": [],
   "source": [
    "# librerias\n",
    "\n",
    "import numpy as np\n",
    "import pandas as pd\n",
    "\n",
    "pd.set_option('display.max_columns', None)\n",
    "\n",
    "from sklearn.preprocessing import StandardScaler\n",
    "\n",
    "from catboost import CatBoostRegressor as CTR\n",
    "\n",
    "from sklearn.model_selection import train_test_split as tts \n",
    "\n",
    "from hyperopt import fmin, hp, tpe, Trials, space_eval, STATUS_OK\n",
    "\n",
    "from sklearn.metrics import mean_squared_error as mse \n",
    "from sklearn.metrics import mean_absolute_error as mae\n",
    "from sklearn.metrics import r2_score as r2\n",
    "\n",
    "import pickle"
   ]
  },
  {
   "cell_type": "code",
   "execution_count": 2,
   "id": "bed9de3a",
   "metadata": {},
   "outputs": [],
   "source": [
    "# columnas iniciales escogidas\n",
    "\n",
    "COLS_INICIAL=['amenities', 'accommodates', 'availability_30', 'availability_365', 'availability_60', 'availability_90', \n",
    "              'bathrooms', 'bedrooms', 'beds', 'calculated_host_listings_count', \n",
    "              'calculated_host_listings_count_entire_homes', 'calculated_host_listings_count_private_rooms', \n",
    "              'calculated_host_listings_count_shared_rooms','cleaning_fee', 'extra_people', 'guests_included', \n",
    "              'latitude', 'longitude', 'maximum_nights', 'minimum_nights', 'number_of_reviews',\n",
    "              'number_of_reviews_ltm', 'security_deposit', 'price']"
   ]
  },
  {
   "cell_type": "code",
   "execution_count": 3,
   "id": "28a0c9f2",
   "metadata": {},
   "outputs": [],
   "source": [
    "# columnas a normalizar\n",
    "\n",
    "COLS_NORMAL=['accommodates', 'bathrooms', 'bedrooms', 'beds',\n",
    "              'security_deposit', 'cleaning_fee', 'guests_included', 'extra_people',\n",
    "              'minimum_nights', 'maximum_nights', 'availability_30',\n",
    "              'availability_60', 'availability_90', 'availability_365',\n",
    "              'number_of_reviews', 'number_of_reviews_ltm',\n",
    "              'calculated_host_listings_count',\n",
    "              'calculated_host_listings_count_entire_homes',\n",
    "              'calculated_host_listings_count_private_rooms',\n",
    "              'calculated_host_listings_count_shared_rooms']"
   ]
  },
  {
   "cell_type": "code",
   "execution_count": 4,
   "id": "a4fdbf38",
   "metadata": {},
   "outputs": [],
   "source": [
    "# columnas finales escogidas\n",
    "\n",
    "COLS_FINAL=['accommodates', 'air_conditioning', 'availability_30', 'availability_365', 'availability_60', 'availability_90',\n",
    "            'bathrooms', 'bedrooms', 'beds', 'calculated_host_listings_count', 'calculated_host_listings_count_entire_homes',\n",
    "            'calculated_host_listings_count_private_rooms', 'calculated_host_listings_count_shared_rooms', 'cleaning_fee',\n",
    "            'dishwasher', 'extra_people', 'guests_included','latitude', 'longitude', 'maximum_nights', 'minimum_nights', \n",
    "            'number_of_reviews', 'number_of_reviews_ltm', 'room_type_private_room', 'room_type_shared_room', 'security_deposit',\n",
    "            'price']"
   ]
  },
  {
   "cell_type": "code",
   "execution_count": 5,
   "id": "f8657b04",
   "metadata": {},
   "outputs": [
    {
     "data": {
      "text/plain": [
       "['air_conditioning',\n",
       " 'dishwasher',\n",
       " 'room_type_private_room',\n",
       " 'room_type_shared_room']"
      ]
     },
     "execution_count": 5,
     "metadata": {},
     "output_type": "execute_result"
    }
   ],
   "source": [
    "AMENITIES=[e for e in COLS_FINAL if e not in COLS_INICIAL]\n",
    "\n",
    "AMENITIES"
   ]
  },
  {
   "cell_type": "code",
   "execution_count": 6,
   "id": "a1e7a94d",
   "metadata": {},
   "outputs": [],
   "source": [
    "# pipeline\n",
    "\n",
    "class Airbnb:\n",
    "    \n",
    "    def __init__(self, path=None):\n",
    "        \n",
    "        self.df_train=pd.DataFrame()\n",
    "        self.df_test=pd.DataFrame()\n",
    "        if not path:\n",
    "            self.modelo=CTR(verbose=0)\n",
    "        else:\n",
    "            self.modelo=pickle.load(open(path, 'rb'))\n",
    "            \n",
    "    \n",
    "    \n",
    "    @staticmethod\n",
    "    def _check_nan(df: pd.DataFrame) -> bool:\n",
    "        \"\"\"\n",
    "        Este métod comprueba los nulos de un dataframe.\n",
    "        \n",
    "        param df: pandas DataFrame a ser checkeado.\n",
    "\n",
    "        return: True si el df tiene nulos False en Caso de estar limpio.\n",
    "        \"\"\"\n",
    "        nan=df.isna().mean()\n",
    "\n",
    "        nan_cols=nan[nan>0]\n",
    "        \n",
    "        return len(nan_cols)!=0\n",
    "    \n",
    "    \n",
    "    @staticmethod\n",
    "    def _price_clean(x: [str, float]) -> float:\n",
    "    \n",
    "        \"\"\"\n",
    "        Esta función limpia una string, quitando $ y la coma y devuelve un float\n",
    "\n",
    "        param x: string a limpiar\n",
    "\n",
    "        return: float\n",
    "        \"\"\"\n",
    "        x=str(x)\n",
    "        x=x.replace('$', '').replace(',', '')\n",
    "\n",
    "        return float(x)\n",
    "    \n",
    "    \n",
    "    @staticmethod\n",
    "    def _amenities(df: pd.DataFrame) -> list:\n",
    "        return [[1 if e in fila else 0 for e in AMENITIES] for fila in df.amenities]\n",
    "                \n",
    "        \n",
    "    def extract(self, path: str):\n",
    "        \n",
    "        \"\"\"\n",
    "        Método para procesar el dataframe en crudo (listings.csv.gz), para transformalo \n",
    "        completamente y alimentar el modelo.\n",
    "        \n",
    "        param path: ruta al archivo listings.csv.gz\n",
    "        \n",
    "        return: dataframe transformado y limpio\n",
    "        \n",
    "        \"\"\"\n",
    "        \n",
    "        # carga archivo\n",
    "        df=pd.read_csv(path, compression='gzip', low_memory=False, usecols=COLS_INICIAL)\n",
    "        \n",
    "        # cambio tipo de dato\n",
    "        for c in df.select_dtypes(include='int'):\n",
    "            df[c]=pd.to_numeric(df[c], downcast='integer')\n",
    "        for c in df.select_dtypes(include='float'):\n",
    "            df[c]=pd.to_numeric(df[c], downcast='float')\n",
    "        \n",
    "\n",
    "        # rellena depósito y limpieza con cero\n",
    "        df[['security_deposit', 'cleaning_fee']]=df[['security_deposit', 'cleaning_fee']].fillna('0')\n",
    "        \n",
    "        # borra nulos que puedan quedar\n",
    "        if Airbnb()._check_nan(df):\n",
    "            df.dropna(inplace=True)\n",
    "        else:\n",
    "            pass\n",
    "            \n",
    "        # las columnas bathrooms, bedrooms y beds son enteros\n",
    "        df.bathrooms=df.bathrooms.apply(lambda x: int(x))\n",
    "        df.bedrooms=df.bedrooms.apply(lambda x: int(x))\n",
    "        df.beds=df.beds.apply(lambda x: int(x))\n",
    "        \n",
    "        # las columnas price, security_deposit, cleaning_fee, guests_included y extra_people se pasan a float\n",
    "        df.price=df.price.apply(Airbnb()._price_clean)\n",
    "        df.security_deposit=df.security_deposit.apply(Airbnb()._price_clean)\n",
    "        df.cleaning_fee=df.cleaning_fee.apply(Airbnb()._price_clean)\n",
    "        df.guests_included=df.guests_included.apply(Airbnb()._price_clean)\n",
    "        df.extra_people=df.extra_people.apply(Airbnb()._price_clean)\n",
    "        \n",
    "        # transformación amenities\n",
    "        df[AMENITIES]=Airbnb()._amenities(df)\n",
    "        df.drop('amenities', axis=1, inplace=True)\n",
    "        \n",
    "        # normalización\n",
    "        df[COLS_NORMAL]=StandardScaler().fit_transform(df[COLS_NORMAL])\n",
    "        \n",
    "        # eliminacion de outliers\n",
    "        df=df[(df.price>=10) & (df.price<=196)]  \n",
    "        \n",
    "        self.df_test=self.df_train.copy()\n",
    "        self.df_train=df\n",
    "       \n",
    "    \n",
    "    \n",
    "    def fit(self, X_train, y_train) -> None:\n",
    "        self.modelo.fit(X_train, y_train)\n",
    "        pickle.dump(self.modelo, open('models/catboost_airbnb.pk', 'wb'))\n",
    "        \n",
    "        \n",
    "    def predict(self, X_test) -> np.array:\n",
    "        return self.modelo.predict(X_test)\n",
    "    \n",
    "    \n",
    "    def evaluate(self):\n",
    "        print(f'RMSE: {mse(y_test, y_pred, squared=False)}')\n",
    "        print(f'MAE: {mae(y_test, y_pred)}')\n",
    "        print(f'R2: {r2(y_test, y_pred)}')\n",
    "        \n",
    "        "
   ]
  },
  {
   "cell_type": "code",
   "execution_count": 7,
   "id": "019f9471",
   "metadata": {},
   "outputs": [],
   "source": [
    "airbnb=Airbnb()"
   ]
  },
  {
   "cell_type": "code",
   "execution_count": 8,
   "id": "a863065d",
   "metadata": {},
   "outputs": [],
   "source": [
    "airbnb.extract('../data/raw_data/listings.csv.gz')"
   ]
  },
  {
   "cell_type": "code",
   "execution_count": 9,
   "id": "c2da9b35",
   "metadata": {},
   "outputs": [],
   "source": [
    "X=airbnb.df_train.drop('price', axis=1)\n",
    "y=airbnb.df_train.price\n",
    "    \n",
    "X_train, X_test, y_train, y_test = tts(X, y, train_size=0.8, test_size=0.2, random_state=42)"
   ]
  },
  {
   "cell_type": "code",
   "execution_count": 10,
   "id": "c6288a38",
   "metadata": {},
   "outputs": [],
   "source": [
    "airbnb.fit(X_train, y_train)\n",
    "\n",
    "y_pred=airbnb.predict(X_test)"
   ]
  },
  {
   "cell_type": "code",
   "execution_count": 11,
   "id": "95a5c55a",
   "metadata": {},
   "outputs": [
    {
     "name": "stdout",
     "output_type": "stream",
     "text": [
      "RMSE: 20.899006965368695\n",
      "MAE: 14.486453447633973\n",
      "R2: 0.7093820038076525\n"
     ]
    }
   ],
   "source": [
    "print(f'RMSE: {mse(y_test, y_pred, squared=False)}')\n",
    "print(f'MAE: {mae(y_test, y_pred)}')\n",
    "print(f'R2: {r2(y_test, y_pred)}')"
   ]
  },
  {
   "cell_type": "code",
   "execution_count": null,
   "id": "b34357bd",
   "metadata": {},
   "outputs": [],
   "source": []
  }
 ],
 "metadata": {
  "kernelspec": {
   "display_name": "clase",
   "language": "python",
   "name": "clase"
  },
  "language_info": {
   "codemirror_mode": {
    "name": "ipython",
    "version": 3
   },
   "file_extension": ".py",
   "mimetype": "text/x-python",
   "name": "python",
   "nbconvert_exporter": "python",
   "pygments_lexer": "ipython3",
   "version": "3.8.13"
  }
 },
 "nbformat": 4,
 "nbformat_minor": 5
}

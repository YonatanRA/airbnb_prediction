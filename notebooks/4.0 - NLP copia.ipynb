{
 "cells": [
  {
   "cell_type": "code",
   "execution_count": null,
   "id": "1dfdfa61",
   "metadata": {},
   "outputs": [],
   "source": [
    "import pandas as pd\n",
    "pd.set_option('display.max_columns', None)\n",
    "\n",
    "from multimodal_transformers.data.load_data import (load_train_val_test_helper, \n",
    "                                                    load_data, \n",
    "                                                    load_data_into_folds,\n",
    "                                                    load_data_from_folder)\n",
    "\n",
    "from transformers import AutoTokenizer, EvalPrediction\n",
    "\n",
    "import warnings\n",
    "warnings.filterwarnings('ignore')\n",
    "\n",
    "data_df = pd.read_csv('../data/clean_data/listings.csv')\n",
    "\n",
    "data_df=data_df.dropna()\n",
    "\n",
    "data_df.head()"
   ]
  },
  {
   "cell_type": "markdown",
   "id": "06ab28ad",
   "metadata": {},
   "source": [
    "import multimodal_transformers.data as d\n",
    "help(d.load_data)"
   ]
  },
  {
   "cell_type": "code",
   "execution_count": null,
   "id": "fd556902",
   "metadata": {},
   "outputs": [],
   "source": [
    "train=data_df.iloc[:200]\n",
    "\n",
    "test=data_df.iloc[21250:]\n",
    "\n",
    "train.shape, test.shape"
   ]
  },
  {
   "cell_type": "code",
   "execution_count": null,
   "id": "8fba588d",
   "metadata": {},
   "outputs": [],
   "source": [
    "text_cols = ['room_type', 'amenities']\n",
    "\n",
    "label_col = 'price' \n",
    "\n",
    "categorical_cols = ['neighbourhood_cleansed', 'neighbourhood_group_cleansed']\n",
    "\n",
    "numerical_cols = ['accommodates', 'bedrooms', 'beds']\n",
    "\n",
    "tokenizer = AutoTokenizer.from_pretrained('bert-base-uncased', truncation=True)\n",
    "\n",
    "train_data = load_data(train, text_cols, tokenizer, categorical_cols=categorical_cols,\n",
    "                       numerical_cols=numerical_cols, sep_text_token_str=tokenizer.sep_token,\n",
    "                       label_col=label_col)\n",
    "\n",
    "\n",
    "test_data = load_data(test, text_cols, tokenizer, categorical_cols=categorical_cols,\n",
    "                       numerical_cols=numerical_cols, sep_text_token_str=tokenizer.sep_token,\n",
    "                       label_col=label_col)"
   ]
  },
  {
   "cell_type": "code",
   "execution_count": null,
   "id": "4e66f635",
   "metadata": {},
   "outputs": [],
   "source": [
    "train_df, val_df, test_df=load_train_val_test_helper(train_df=train, \n",
    "                           val_df=test, \n",
    "                           test_df=test,\n",
    "                           label_col=label_col,\n",
    "                           text_cols=text_cols, \n",
    "                           tokenizer=tokenizer, \n",
    "                           categorical_cols=categorical_cols,\n",
    "                           numerical_cols=numerical_cols, \n",
    "                           sep_text_token_str=tokenizer.sep_token)"
   ]
  },
  {
   "cell_type": "code",
   "execution_count": null,
   "id": "0f3eba32",
   "metadata": {},
   "outputs": [],
   "source": [
    "from multimodal_transformers.model import AutoModelWithTabular, TabularConfig\n",
    "from transformers import AutoConfig\n",
    "\n",
    "config=AutoConfig.from_pretrained('bert-base-uncased')\n",
    "\n",
    "tabular_config=TabularConfig(\n",
    "    num_labels=1,\n",
    "    cat_feat_dim=train_data.cat_feats.shape[1],\n",
    "    numerical_feat_dim=train_data.numerical_feats.shape[1],\n",
    "    combine_feat_method='weighted_feature_sum_on_transformer_cat_and_numerical_feats',\n",
    ")\n",
    "config.tabular_config = tabular_config\n",
    "\n",
    "model = AutoModelWithTabular.from_pretrained('bert-base-uncased', config=config)"
   ]
  },
  {
   "cell_type": "code",
   "execution_count": null,
   "id": "ea10f9d5",
   "metadata": {
    "scrolled": false
   },
   "outputs": [],
   "source": [
    "import torch\n",
    "\n",
    "device=torch.device('mps')  # mps neural engine M1, cuda o cpu"
   ]
  },
  {
   "cell_type": "code",
   "execution_count": null,
   "id": "952ef009",
   "metadata": {},
   "outputs": [],
   "source": [
    "from sklearn.metrics import mean_squared_error, mean_absolute_error\n",
    "\n",
    "\n",
    "def metrics(y_test, y_pred):\n",
    "    \n",
    "    mse = mean_squared_error(y_test, y_pred)\n",
    "    rmse = mean_squared_error(y_test, y_pred, squared=False)\n",
    "    mae = mean_absolute_error(y_test, y_pred)\n",
    "    \n",
    "    return {'mse': mse,\n",
    "            'rmse': rmse,\n",
    "            'mae': mae}"
   ]
  },
  {
   "cell_type": "code",
   "execution_count": null,
   "id": "d4068cbe",
   "metadata": {},
   "outputs": [],
   "source": [
    "from transformers import Trainer, TrainingArguments\n",
    "\n",
    "args=TrainingArguments(output_dir='./logs/model_name',\n",
    "                       logging_dir='./logs/runs',\n",
    "                       overwrite_output_dir=True,\n",
    "                       per_device_train_batch_size=32,\n",
    "                       num_train_epochs=0.01,\n",
    "                       evaluate_during_training=True,\n",
    "                       logging_steps=25)\n",
    "\n",
    "\n",
    "\n",
    "trainer=Trainer(model=model.to(device), \n",
    "                args=args, \n",
    "                train_dataset=train_df,\n",
    "                eval_dataset=val_df,\n",
    "                #compute_metrics=metrics\n",
    "               )"
   ]
  },
  {
   "cell_type": "code",
   "execution_count": null,
   "id": "98a7ba78",
   "metadata": {},
   "outputs": [],
   "source": [
    "%%time\n",
    "\n",
    "trainer.train()"
   ]
  },
  {
   "cell_type": "code",
   "execution_count": null,
   "id": "8d754708",
   "metadata": {
    "scrolled": true
   },
   "outputs": [],
   "source": [
    "%%time\n",
    "\n",
    "y_pred=trainer.predict(test_dataset=test_df).predictions"
   ]
  },
  {
   "cell_type": "code",
   "execution_count": null,
   "id": "66d225e4",
   "metadata": {},
   "outputs": [],
   "source": [
    "trainer.evaluate(train_data)"
   ]
  },
  {
   "cell_type": "code",
   "execution_count": null,
   "id": "1030d397",
   "metadata": {
    "scrolled": false
   },
   "outputs": [],
   "source": [
    "help(Trainer)"
   ]
  },
  {
   "cell_type": "code",
   "execution_count": null,
   "id": "3a15287c",
   "metadata": {},
   "outputs": [],
   "source": [
    "from torch.utils.data import Subset\n",
    "\n",
    "Subset(train_data, [0, 1, 2])"
   ]
  },
  {
   "cell_type": "code",
   "execution_count": null,
   "id": "c4a7e80a",
   "metadata": {},
   "outputs": [],
   "source": [
    "help(train_data)"
   ]
  },
  {
   "cell_type": "code",
   "execution_count": null,
   "id": "9ff51eca",
   "metadata": {},
   "outputs": [],
   "source": [
    "y_test=train.price.values\n",
    "\n",
    "metrics(y_test, y_pred)"
   ]
  },
  {
   "cell_type": "code",
   "execution_count": null,
   "id": "41bccac7",
   "metadata": {},
   "outputs": [],
   "source": [
    "trainer.evaluate(Subset(train_data, [0, 1, 2]))"
   ]
  },
  {
   "cell_type": "code",
   "execution_count": null,
   "id": "68ad263a",
   "metadata": {},
   "outputs": [],
   "source": []
  }
 ],
 "metadata": {
  "kernelspec": {
   "display_name": "prueba",
   "language": "python",
   "name": "prueba"
  },
  "language_info": {
   "codemirror_mode": {
    "name": "ipython",
    "version": 3
   },
   "file_extension": ".py",
   "mimetype": "text/x-python",
   "name": "python",
   "nbconvert_exporter": "python",
   "pygments_lexer": "ipython3",
   "version": "3.7.13"
  }
 },
 "nbformat": 4,
 "nbformat_minor": 5
}

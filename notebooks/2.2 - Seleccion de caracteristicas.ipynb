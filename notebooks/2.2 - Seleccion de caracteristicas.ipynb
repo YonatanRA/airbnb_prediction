{
 "cells": [
  {
   "cell_type": "markdown",
   "id": "87a555ac",
   "metadata": {},
   "source": [
    "# 2.2 - Selección de características"
   ]
  },
  {
   "cell_type": "markdown",
   "id": "aa601084",
   "metadata": {},
   "source": [
    "En este notebook voy a seleccionar las columnas importantes del dataset `listings`. Utilizaré tres metodos distintos. Por un lado la correlación, con los métodos de Pearson, Spearman y la Tau de Kendall, para intentar ver correlaciones entre las variables y el objetivo, y si existe colinealidad. \n",
    "\n",
    "Además usaré un OLS (Ordinary Least Squares - Mínimos Cuadrados Ordinarios), básicamente una regresión lineal, para determinar los p-values según el F-test de cada variable. \n",
    "\n",
    "También usaré un random forest o xgboost, no con el objetivo de predecir, sino para que me diga cuál es la importancia de las características."
   ]
  },
  {
   "cell_type": "code",
   "execution_count": 1,
   "id": "3e04e96e",
   "metadata": {},
   "outputs": [],
   "source": [
    "# librerias\n",
    "\n",
    "import numpy as np\n",
    "import pandas as pd\n",
    "\n",
    "pd.set_option('display.max_columns', None)\n",
    "pd.set_option('display.max_rows', None)"
   ]
  },
  {
   "cell_type": "code",
   "execution_count": 2,
   "id": "03218f4d",
   "metadata": {},
   "outputs": [
    {
     "name": "stdout",
     "output_type": "stream",
     "text": [
      "<class 'pandas.core.frame.DataFrame'>\n",
      "Int64Index: 18936 entries, 0 to 21311\n",
      "Columns: 242 entries, host_is_superhost to suitable_for_events\n",
      "dtypes: float32(5), int16(10), int32(1), int8(224), object(2)\n",
      "memory usage: 7.5 MB\n"
     ]
    }
   ],
   "source": [
    "# carga de datos\n",
    "listings=pd.read_csv('../data/transform_data/listings_normal.csv')\n",
    "\n",
    "listings=listings.drop(columns=['id', 'host_id']) # eliminacion de los id para importancia\n",
    "\n",
    "listings=listings[(listings.price>=10) & (listings.price<=196)]  # eliminacion de outliers\n",
    "\n",
    "# cambio en el tamaño del tipo de dato\n",
    "for c in listings.select_dtypes(include='int'):\n",
    "    listings[c]=pd.to_numeric(listings[c], downcast='integer')\n",
    "\n",
    "for c in listings.select_dtypes(include='float'):\n",
    "    listings[c]=pd.to_numeric(listings[c], downcast='float')\n",
    "    \n",
    "listings.info(memory_usage='deep')"
   ]
  },
  {
   "cell_type": "markdown",
   "id": "d643ebb2",
   "metadata": {},
   "source": [
    "### 1) Correlación"
   ]
  },
  {
   "cell_type": "code",
   "execution_count": 3,
   "id": "33304567",
   "metadata": {},
   "outputs": [],
   "source": [
    "def correlacion_precio(metodo: str, umbral: float) -> None:\n",
    "    \n",
    "    \"\"\"\n",
    "    Esta función calcula la correlación del dataframe \n",
    "    y muestra la columnas correlacionadas con el precio.\n",
    "    \n",
    "    param metodo: string, metodo de correlación (pearson, spearman, kendall)\n",
    "    \n",
    "    return: None (solo printea)\n",
    "    \"\"\"\n",
    "    \n",
    "    corr=listings._get_numeric_data().corr(method=metodo)\n",
    "    \n",
    "    print('\\n\\033[1m' + f'{metodo.capitalize()} -- Correlación positiva con el precio.' + '\\033[0m')\n",
    "    print(corr.price[corr.price > umbral].sort_values(ascending=False)[1:])\n",
    "\n",
    "    print('\\n\\033[1m' + 'Correlación negativa con el precio.' + '\\033[0m')\n",
    "    print(corr.price[corr.price < -umbral].sort_values(ascending=True))"
   ]
  },
  {
   "cell_type": "code",
   "execution_count": 4,
   "id": "3895d976",
   "metadata": {},
   "outputs": [
    {
     "name": "stdout",
     "output_type": "stream",
     "text": [
      "\n",
      "\u001b[1mPearson -- Correlación positiva con el precio.\u001b[0m\n",
      "accommodates           0.555701\n",
      "cleaning_fee           0.415570\n",
      "bedrooms               0.400268\n",
      "beds                   0.376470\n",
      "air_conditioning       0.348422\n",
      "guests_included        0.333567\n",
      "tv                     0.296742\n",
      "dishwasher             0.245567\n",
      "security_deposit       0.240386\n",
      "crib                   0.219767\n",
      "family_kid_friendly    0.214021\n",
      "hair_dryer             0.208491\n",
      "iron                   0.205943\n",
      "Name: price, dtype: float64\n",
      "\n",
      "\u001b[1mCorrelación negativa con el precio.\u001b[0m\n",
      "room_type_private_room                         -0.548227\n",
      "calculated_host_listings_count_private_rooms   -0.217194\n",
      "Name: price, dtype: float64\n"
     ]
    }
   ],
   "source": [
    "correlacion_precio('pearson', 0.2)"
   ]
  },
  {
   "cell_type": "code",
   "execution_count": 5,
   "id": "b980a041",
   "metadata": {},
   "outputs": [
    {
     "name": "stdout",
     "output_type": "stream",
     "text": [
      "\n",
      "\u001b[1mSpearman -- Correlación positiva con el precio.\u001b[0m\n",
      "accommodates                                   0.634239\n",
      "calculated_host_listings_count_entire_homes    0.559469\n",
      "beds                                           0.474839\n",
      "cleaning_fee                                   0.447736\n",
      "guests_included                                0.410668\n",
      "bedrooms                                       0.407235\n",
      "air_conditioning                               0.397884\n",
      "security_deposit                               0.367975\n",
      "tv                                             0.347866\n",
      "Name: price, dtype: float64\n",
      "\n",
      "\u001b[1mCorrelación negativa con el precio.\u001b[0m\n",
      "room_type_private_room                         -0.644362\n",
      "calculated_host_listings_count_private_rooms   -0.581432\n",
      "Name: price, dtype: float64\n"
     ]
    }
   ],
   "source": [
    "correlacion_precio('spearman', 0.3)"
   ]
  },
  {
   "cell_type": "code",
   "execution_count": 6,
   "id": "45309361",
   "metadata": {},
   "outputs": [
    {
     "name": "stdout",
     "output_type": "stream",
     "text": [
      "\n",
      "\u001b[1mKendall -- Correlación positiva con el precio.\u001b[0m\n",
      "accommodates                                   0.499628\n",
      "calculated_host_listings_count_entire_homes    0.418713\n",
      "beds                                           0.372945\n",
      "cleaning_fee                                   0.343179\n",
      "guests_included                                0.329627\n",
      "air_conditioning                               0.328060\n",
      "bedrooms                                       0.319284\n",
      "security_deposit                               0.287525\n",
      "tv                                             0.286819\n",
      "dishwasher                                     0.203804\n",
      "hair_dryer                                     0.200162\n",
      "Name: price, dtype: float64\n",
      "\n",
      "\u001b[1mCorrelación negativa con el precio.\u001b[0m\n",
      "room_type_private_room                         -0.531283\n",
      "calculated_host_listings_count_private_rooms   -0.445018\n",
      "Name: price, dtype: float64\n"
     ]
    }
   ],
   "source": [
    "correlacion_precio('kendall', 0.2)"
   ]
  },
  {
   "cell_type": "markdown",
   "id": "644112b2",
   "metadata": {},
   "source": [
    "Desde el punto de la correlación, ya sea desde el punto de vista lineal o desde el punto de vista monótono o por rangos, las variables más importantes son algunas como `habitación privada, nº de plazas o camas, depósito de suguridad, limpieza, etc...` Veamos que nos dicen los mínimos cuadrados ordinarios. "
   ]
  },
  {
   "cell_type": "markdown",
   "id": "1ed7e395",
   "metadata": {},
   "source": [
    "### 2) OLS"
   ]
  },
  {
   "cell_type": "code",
   "execution_count": 7,
   "id": "537f9bb9",
   "metadata": {},
   "outputs": [],
   "source": [
    "import statsmodels.api as sm\n",
    "from statsmodels.formula.api import ols"
   ]
  },
  {
   "cell_type": "code",
   "execution_count": 8,
   "id": "709b0b1a",
   "metadata": {},
   "outputs": [],
   "source": [
    "X=listings._get_numeric_data().drop('price', axis=1)\n",
    "\n",
    "y=listings.price"
   ]
  },
  {
   "cell_type": "code",
   "execution_count": 9,
   "id": "4b2b4500",
   "metadata": {
    "scrolled": false
   },
   "outputs": [],
   "source": [
    "modelo=sm.OLS(y, np.asarray(X)).fit()\n",
    "\n",
    "pred=modelo.predict(X)"
   ]
  },
  {
   "cell_type": "code",
   "execution_count": 10,
   "id": "b7445dd4",
   "metadata": {
    "scrolled": false
   },
   "outputs": [],
   "source": [
    "p_values=modelo.summary().tables[1].as_html()\n",
    "\n",
    "p_values=pd.read_html(p_values, header=0, index_col=0)\n",
    "\n",
    "p_values=pd.DataFrame(p_values[0])\n",
    "\n",
    "p_values['col']=X.columns.tolist()"
   ]
  },
  {
   "cell_type": "code",
   "execution_count": 11,
   "id": "a7819547",
   "metadata": {
    "scrolled": false
   },
   "outputs": [
    {
     "data": {
      "text/plain": [
       "(78, 7)"
      ]
     },
     "execution_count": 11,
     "metadata": {},
     "output_type": "execute_result"
    }
   ],
   "source": [
    "p_values[p_values['P>|t|'] < 0.05].shape"
   ]
  },
  {
   "cell_type": "code",
   "execution_count": 12,
   "id": "472e763e",
   "metadata": {},
   "outputs": [
    {
     "data": {
      "text/html": [
       "<div>\n",
       "<style scoped>\n",
       "    .dataframe tbody tr th:only-of-type {\n",
       "        vertical-align: middle;\n",
       "    }\n",
       "\n",
       "    .dataframe tbody tr th {\n",
       "        vertical-align: top;\n",
       "    }\n",
       "\n",
       "    .dataframe thead th {\n",
       "        text-align: right;\n",
       "    }\n",
       "</style>\n",
       "<table border=\"1\" class=\"dataframe\">\n",
       "  <thead>\n",
       "    <tr style=\"text-align: right;\">\n",
       "      <th></th>\n",
       "      <th>coef</th>\n",
       "      <th>std err</th>\n",
       "      <th>t</th>\n",
       "      <th>P&gt;|t|</th>\n",
       "      <th>[0.025</th>\n",
       "      <th>0.975]</th>\n",
       "      <th>col</th>\n",
       "    </tr>\n",
       "  </thead>\n",
       "  <tbody>\n",
       "    <tr>\n",
       "      <th>x1</th>\n",
       "      <td>1.9239</td>\n",
       "      <td>0.525</td>\n",
       "      <td>3.667</td>\n",
       "      <td>0.000</td>\n",
       "      <td>0.896</td>\n",
       "      <td>2.952</td>\n",
       "      <td>host_is_superhost</td>\n",
       "    </tr>\n",
       "    <tr>\n",
       "      <th>x2</th>\n",
       "      <td>-216.9555</td>\n",
       "      <td>53.961</td>\n",
       "      <td>-4.021</td>\n",
       "      <td>0.000</td>\n",
       "      <td>-322.723</td>\n",
       "      <td>-111.188</td>\n",
       "      <td>latitude</td>\n",
       "    </tr>\n",
       "    <tr>\n",
       "      <th>x3</th>\n",
       "      <td>-1643.1315</td>\n",
       "      <td>568.995</td>\n",
       "      <td>-2.888</td>\n",
       "      <td>0.004</td>\n",
       "      <td>-2758.413</td>\n",
       "      <td>-527.850</td>\n",
       "      <td>longitude</td>\n",
       "    </tr>\n",
       "    <tr>\n",
       "      <th>x4</th>\n",
       "      <td>3.8637</td>\n",
       "      <td>0.221</td>\n",
       "      <td>17.522</td>\n",
       "      <td>0.000</td>\n",
       "      <td>3.432</td>\n",
       "      <td>4.296</td>\n",
       "      <td>accommodates</td>\n",
       "    </tr>\n",
       "    <tr>\n",
       "      <th>x5</th>\n",
       "      <td>3.9902</td>\n",
       "      <td>0.356</td>\n",
       "      <td>11.199</td>\n",
       "      <td>0.000</td>\n",
       "      <td>3.292</td>\n",
       "      <td>4.689</td>\n",
       "      <td>bathrooms</td>\n",
       "    </tr>\n",
       "    <tr>\n",
       "      <th>x6</th>\n",
       "      <td>6.5933</td>\n",
       "      <td>0.356</td>\n",
       "      <td>18.530</td>\n",
       "      <td>0.000</td>\n",
       "      <td>5.896</td>\n",
       "      <td>7.291</td>\n",
       "      <td>bedrooms</td>\n",
       "    </tr>\n",
       "    <tr>\n",
       "      <th>x8</th>\n",
       "      <td>0.0109</td>\n",
       "      <td>0.001</td>\n",
       "      <td>9.922</td>\n",
       "      <td>0.000</td>\n",
       "      <td>0.009</td>\n",
       "      <td>0.013</td>\n",
       "      <td>security_deposit</td>\n",
       "    </tr>\n",
       "    <tr>\n",
       "      <th>x9</th>\n",
       "      <td>0.1185</td>\n",
       "      <td>0.010</td>\n",
       "      <td>12.396</td>\n",
       "      <td>0.000</td>\n",
       "      <td>0.100</td>\n",
       "      <td>0.137</td>\n",
       "      <td>cleaning_fee</td>\n",
       "    </tr>\n",
       "    <tr>\n",
       "      <th>x10</th>\n",
       "      <td>-0.7212</td>\n",
       "      <td>0.205</td>\n",
       "      <td>-3.520</td>\n",
       "      <td>0.000</td>\n",
       "      <td>-1.123</td>\n",
       "      <td>-0.320</td>\n",
       "      <td>guests_included</td>\n",
       "    </tr>\n",
       "    <tr>\n",
       "      <th>x11</th>\n",
       "      <td>-0.0386</td>\n",
       "      <td>0.016</td>\n",
       "      <td>-2.471</td>\n",
       "      <td>0.013</td>\n",
       "      <td>-0.069</td>\n",
       "      <td>-0.008</td>\n",
       "      <td>extra_people</td>\n",
       "    </tr>\n",
       "  </tbody>\n",
       "</table>\n",
       "</div>"
      ],
      "text/plain": [
       "          coef  std err       t  P>|t|    [0.025   0.975]                col\n",
       "x1      1.9239    0.525   3.667  0.000     0.896    2.952  host_is_superhost\n",
       "x2   -216.9555   53.961  -4.021  0.000  -322.723 -111.188           latitude\n",
       "x3  -1643.1315  568.995  -2.888  0.004 -2758.413 -527.850          longitude\n",
       "x4      3.8637    0.221  17.522  0.000     3.432    4.296       accommodates\n",
       "x5      3.9902    0.356  11.199  0.000     3.292    4.689          bathrooms\n",
       "x6      6.5933    0.356  18.530  0.000     5.896    7.291           bedrooms\n",
       "x8      0.0109    0.001   9.922  0.000     0.009    0.013   security_deposit\n",
       "x9      0.1185    0.010  12.396  0.000     0.100    0.137       cleaning_fee\n",
       "x10    -0.7212    0.205  -3.520  0.000    -1.123   -0.320    guests_included\n",
       "x11    -0.0386    0.016  -2.471  0.013    -0.069   -0.008       extra_people"
      ]
     },
     "execution_count": 12,
     "metadata": {},
     "output_type": "execute_result"
    }
   ],
   "source": [
    "p_values[p_values['P>|t|'] < 0.05].head(10)"
   ]
  },
  {
   "cell_type": "markdown",
   "id": "dec92359",
   "metadata": {},
   "source": [
    "Los mínimos cuadrados, con el p-valor que nos devuelve del t-test, nos da 73 variables importantes. Recordamos que esto es desde el punto de vista lineal. Usamos ahora 4 modelos para ver la importancia de variables según dichos modelos para finalmente tomar una decisión en su selección."
   ]
  },
  {
   "cell_type": "markdown",
   "id": "c627ee4e",
   "metadata": {},
   "source": [
    "### 3) Feature importances"
   ]
  },
  {
   "cell_type": "code",
   "execution_count": 13,
   "id": "93a9d768",
   "metadata": {},
   "outputs": [],
   "source": [
    "from sklearn.ensemble import RandomForestRegressor as RFR\n",
    "\n",
    "from xgboost import XGBRegressor as XGBR\n",
    "\n",
    "from lightgbm import LGBMRegressor as LGBMR\n",
    "\n",
    "from catboost import CatBoostRegressor as CTR"
   ]
  },
  {
   "cell_type": "code",
   "execution_count": 14,
   "id": "c331951f",
   "metadata": {},
   "outputs": [],
   "source": [
    "def extraer_importancias(modelo: object, X: pd.DataFrame, y: pd.Series) -> pd.DataFrame:\n",
    "    \n",
    "    \"\"\"\n",
    "    Esta función muestra la importancia de características según el modelo que se le pase.\n",
    "    \n",
    "    param modelo: modelo para ser entrenado y extraer importancias\n",
    "    X: datos variables\n",
    "    y: datos objetivo\n",
    "    \n",
    "    return: dataframe con las importancias según la característica\n",
    "    \"\"\"\n",
    "    \n",
    "    m=modelo.fit(X, y)\n",
    "    \n",
    "    importancias=modelo.feature_importances_\n",
    "    \n",
    "    impor_df=pd.DataFrame(dict(zip(X.columns, importancias)), \n",
    "                          index=['importancias']).T.sort_values(by='importancias', ascending=False)\n",
    "    \n",
    "    return impor_df"
   ]
  },
  {
   "cell_type": "code",
   "execution_count": 15,
   "id": "84318294",
   "metadata": {},
   "outputs": [
    {
     "name": "stdout",
     "output_type": "stream",
     "text": [
      "\n",
      "\u001b[1mRandom Forest Regressor\n"
     ]
    },
    {
     "data": {
      "text/html": [
       "<div>\n",
       "<style scoped>\n",
       "    .dataframe tbody tr th:only-of-type {\n",
       "        vertical-align: middle;\n",
       "    }\n",
       "\n",
       "    .dataframe tbody tr th {\n",
       "        vertical-align: top;\n",
       "    }\n",
       "\n",
       "    .dataframe thead th {\n",
       "        text-align: right;\n",
       "    }\n",
       "</style>\n",
       "<table border=\"1\" class=\"dataframe\">\n",
       "  <thead>\n",
       "    <tr style=\"text-align: right;\">\n",
       "      <th></th>\n",
       "      <th>importancias</th>\n",
       "    </tr>\n",
       "  </thead>\n",
       "  <tbody>\n",
       "    <tr>\n",
       "      <th>room_type_private_room</th>\n",
       "      <td>0.300951</td>\n",
       "    </tr>\n",
       "    <tr>\n",
       "      <th>bedrooms</th>\n",
       "      <td>0.082407</td>\n",
       "    </tr>\n",
       "    <tr>\n",
       "      <th>bathrooms</th>\n",
       "      <td>0.046512</td>\n",
       "    </tr>\n",
       "    <tr>\n",
       "      <th>security_deposit</th>\n",
       "      <td>0.028882</td>\n",
       "    </tr>\n",
       "    <tr>\n",
       "      <th>latitude</th>\n",
       "      <td>0.027849</td>\n",
       "    </tr>\n",
       "    <tr>\n",
       "      <th>z</th>\n",
       "      <td>0.026926</td>\n",
       "    </tr>\n",
       "    <tr>\n",
       "      <th>cleaning_fee</th>\n",
       "      <td>0.026199</td>\n",
       "    </tr>\n",
       "    <tr>\n",
       "      <th>number_of_reviews</th>\n",
       "      <td>0.023469</td>\n",
       "    </tr>\n",
       "    <tr>\n",
       "      <th>x</th>\n",
       "      <td>0.021648</td>\n",
       "    </tr>\n",
       "    <tr>\n",
       "      <th>y</th>\n",
       "      <td>0.021411</td>\n",
       "    </tr>\n",
       "  </tbody>\n",
       "</table>\n",
       "</div>"
      ],
      "text/plain": [
       "                        importancias\n",
       "room_type_private_room      0.300951\n",
       "bedrooms                    0.082407\n",
       "bathrooms                   0.046512\n",
       "security_deposit            0.028882\n",
       "latitude                    0.027849\n",
       "z                           0.026926\n",
       "cleaning_fee                0.026199\n",
       "number_of_reviews           0.023469\n",
       "x                           0.021648\n",
       "y                           0.021411"
      ]
     },
     "execution_count": 15,
     "metadata": {},
     "output_type": "execute_result"
    }
   ],
   "source": [
    "print('\\n\\033[1m' + 'Random Forest Regressor')\n",
    "extraer_importancias(RFR(), X, y).head(10)"
   ]
  },
  {
   "cell_type": "code",
   "execution_count": 16,
   "id": "e9141ef0",
   "metadata": {},
   "outputs": [
    {
     "name": "stdout",
     "output_type": "stream",
     "text": [
      "\n",
      "\u001b[1mXG Boosting Regressor\n"
     ]
    },
    {
     "data": {
      "text/html": [
       "<div>\n",
       "<style scoped>\n",
       "    .dataframe tbody tr th:only-of-type {\n",
       "        vertical-align: middle;\n",
       "    }\n",
       "\n",
       "    .dataframe tbody tr th {\n",
       "        vertical-align: top;\n",
       "    }\n",
       "\n",
       "    .dataframe thead th {\n",
       "        text-align: right;\n",
       "    }\n",
       "</style>\n",
       "<table border=\"1\" class=\"dataframe\">\n",
       "  <thead>\n",
       "    <tr style=\"text-align: right;\">\n",
       "      <th></th>\n",
       "      <th>importancias</th>\n",
       "    </tr>\n",
       "  </thead>\n",
       "  <tbody>\n",
       "    <tr>\n",
       "      <th>room_type_private_room</th>\n",
       "      <td>0.507157</td>\n",
       "    </tr>\n",
       "    <tr>\n",
       "      <th>room_type_shared_room</th>\n",
       "      <td>0.045080</td>\n",
       "    </tr>\n",
       "    <tr>\n",
       "      <th>bedrooms</th>\n",
       "      <td>0.036214</td>\n",
       "    </tr>\n",
       "    <tr>\n",
       "      <th>calculated_host_listings_count_shared_rooms</th>\n",
       "      <td>0.034336</td>\n",
       "    </tr>\n",
       "    <tr>\n",
       "      <th>bathrooms</th>\n",
       "      <td>0.032189</td>\n",
       "    </tr>\n",
       "    <tr>\n",
       "      <th>accommodates</th>\n",
       "      <td>0.012220</td>\n",
       "    </tr>\n",
       "    <tr>\n",
       "      <th>dishwasher</th>\n",
       "      <td>0.010417</td>\n",
       "    </tr>\n",
       "    <tr>\n",
       "      <th>dryer</th>\n",
       "      <td>0.006940</td>\n",
       "    </tr>\n",
       "    <tr>\n",
       "      <th>free_street_parking</th>\n",
       "      <td>0.006717</td>\n",
       "    </tr>\n",
       "    <tr>\n",
       "      <th>security_deposit</th>\n",
       "      <td>0.006714</td>\n",
       "    </tr>\n",
       "  </tbody>\n",
       "</table>\n",
       "</div>"
      ],
      "text/plain": [
       "                                             importancias\n",
       "room_type_private_room                           0.507157\n",
       "room_type_shared_room                            0.045080\n",
       "bedrooms                                         0.036214\n",
       "calculated_host_listings_count_shared_rooms      0.034336\n",
       "bathrooms                                        0.032189\n",
       "accommodates                                     0.012220\n",
       "dishwasher                                       0.010417\n",
       "dryer                                            0.006940\n",
       "free_street_parking                              0.006717\n",
       "security_deposit                                 0.006714"
      ]
     },
     "execution_count": 16,
     "metadata": {},
     "output_type": "execute_result"
    }
   ],
   "source": [
    "print('\\n\\033[1m' + 'XG Boosting Regressor')\n",
    "extraer_importancias(XGBR(), X, y).head(10)"
   ]
  },
  {
   "cell_type": "code",
   "execution_count": 17,
   "id": "8242764a",
   "metadata": {},
   "outputs": [
    {
     "name": "stdout",
     "output_type": "stream",
     "text": [
      "\n",
      "\u001b[1mLightGBM Regressor\n"
     ]
    },
    {
     "data": {
      "text/html": [
       "<div>\n",
       "<style scoped>\n",
       "    .dataframe tbody tr th:only-of-type {\n",
       "        vertical-align: middle;\n",
       "    }\n",
       "\n",
       "    .dataframe tbody tr th {\n",
       "        vertical-align: top;\n",
       "    }\n",
       "\n",
       "    .dataframe thead th {\n",
       "        text-align: right;\n",
       "    }\n",
       "</style>\n",
       "<table border=\"1\" class=\"dataframe\">\n",
       "  <thead>\n",
       "    <tr style=\"text-align: right;\">\n",
       "      <th></th>\n",
       "      <th>importancias</th>\n",
       "    </tr>\n",
       "  </thead>\n",
       "  <tbody>\n",
       "    <tr>\n",
       "      <th>cleaning_fee</th>\n",
       "      <td>199</td>\n",
       "    </tr>\n",
       "    <tr>\n",
       "      <th>calculated_host_listings_count</th>\n",
       "      <td>147</td>\n",
       "    </tr>\n",
       "    <tr>\n",
       "      <th>latitude</th>\n",
       "      <td>138</td>\n",
       "    </tr>\n",
       "    <tr>\n",
       "      <th>extra_people</th>\n",
       "      <td>132</td>\n",
       "    </tr>\n",
       "    <tr>\n",
       "      <th>minimum_nights</th>\n",
       "      <td>123</td>\n",
       "    </tr>\n",
       "    <tr>\n",
       "      <th>number_of_reviews</th>\n",
       "      <td>115</td>\n",
       "    </tr>\n",
       "    <tr>\n",
       "      <th>accommodates</th>\n",
       "      <td>115</td>\n",
       "    </tr>\n",
       "    <tr>\n",
       "      <th>availability_365</th>\n",
       "      <td>112</td>\n",
       "    </tr>\n",
       "    <tr>\n",
       "      <th>y</th>\n",
       "      <td>106</td>\n",
       "    </tr>\n",
       "    <tr>\n",
       "      <th>security_deposit</th>\n",
       "      <td>103</td>\n",
       "    </tr>\n",
       "  </tbody>\n",
       "</table>\n",
       "</div>"
      ],
      "text/plain": [
       "                                importancias\n",
       "cleaning_fee                             199\n",
       "calculated_host_listings_count           147\n",
       "latitude                                 138\n",
       "extra_people                             132\n",
       "minimum_nights                           123\n",
       "number_of_reviews                        115\n",
       "accommodates                             115\n",
       "availability_365                         112\n",
       "y                                        106\n",
       "security_deposit                         103"
      ]
     },
     "execution_count": 17,
     "metadata": {},
     "output_type": "execute_result"
    }
   ],
   "source": [
    "print('\\n\\033[1m' + 'LightGBM Regressor')\n",
    "extraer_importancias(LGBMR(), X, y).head(10)"
   ]
  },
  {
   "cell_type": "code",
   "execution_count": 18,
   "id": "bbe63b20",
   "metadata": {},
   "outputs": [
    {
     "name": "stdout",
     "output_type": "stream",
     "text": [
      "\n",
      "\u001b[1mCatboost Regressor\n"
     ]
    },
    {
     "data": {
      "text/html": [
       "<div>\n",
       "<style scoped>\n",
       "    .dataframe tbody tr th:only-of-type {\n",
       "        vertical-align: middle;\n",
       "    }\n",
       "\n",
       "    .dataframe tbody tr th {\n",
       "        vertical-align: top;\n",
       "    }\n",
       "\n",
       "    .dataframe thead th {\n",
       "        text-align: right;\n",
       "    }\n",
       "</style>\n",
       "<table border=\"1\" class=\"dataframe\">\n",
       "  <thead>\n",
       "    <tr style=\"text-align: right;\">\n",
       "      <th></th>\n",
       "      <th>importancias</th>\n",
       "    </tr>\n",
       "  </thead>\n",
       "  <tbody>\n",
       "    <tr>\n",
       "      <th>room_type_private_room</th>\n",
       "      <td>15.366176</td>\n",
       "    </tr>\n",
       "    <tr>\n",
       "      <th>accommodates</th>\n",
       "      <td>5.823518</td>\n",
       "    </tr>\n",
       "    <tr>\n",
       "      <th>bedrooms</th>\n",
       "      <td>5.373563</td>\n",
       "    </tr>\n",
       "    <tr>\n",
       "      <th>cleaning_fee</th>\n",
       "      <td>5.000705</td>\n",
       "    </tr>\n",
       "    <tr>\n",
       "      <th>bathrooms</th>\n",
       "      <td>4.760987</td>\n",
       "    </tr>\n",
       "    <tr>\n",
       "      <th>security_deposit</th>\n",
       "      <td>4.244257</td>\n",
       "    </tr>\n",
       "    <tr>\n",
       "      <th>extra_people</th>\n",
       "      <td>3.734797</td>\n",
       "    </tr>\n",
       "    <tr>\n",
       "      <th>calculated_host_listings_count_entire_homes</th>\n",
       "      <td>3.383733</td>\n",
       "    </tr>\n",
       "    <tr>\n",
       "      <th>latitude</th>\n",
       "      <td>3.161369</td>\n",
       "    </tr>\n",
       "    <tr>\n",
       "      <th>number_of_reviews</th>\n",
       "      <td>2.902542</td>\n",
       "    </tr>\n",
       "  </tbody>\n",
       "</table>\n",
       "</div>"
      ],
      "text/plain": [
       "                                             importancias\n",
       "room_type_private_room                          15.366176\n",
       "accommodates                                     5.823518\n",
       "bedrooms                                         5.373563\n",
       "cleaning_fee                                     5.000705\n",
       "bathrooms                                        4.760987\n",
       "security_deposit                                 4.244257\n",
       "extra_people                                     3.734797\n",
       "calculated_host_listings_count_entire_homes      3.383733\n",
       "latitude                                         3.161369\n",
       "number_of_reviews                                2.902542"
      ]
     },
     "execution_count": 18,
     "metadata": {},
     "output_type": "execute_result"
    }
   ],
   "source": [
    "print('\\n\\033[1m' + 'Catboost Regressor')\n",
    "extraer_importancias(CTR(verbose=0), X, y).head(10)"
   ]
  },
  {
   "cell_type": "markdown",
   "id": "0a42eceb",
   "metadata": {},
   "source": [
    "Los 4 modelos concuerdan bastante en la importancia. Solo LGBMR difiere un poco de los demás. Me apoyaré en las importancias extraídas con Catboost para seleccionar las variables que alimentarán el modelo final. Usaré un umbral de importancia de aproximadamente un 1%."
   ]
  },
  {
   "cell_type": "markdown",
   "id": "c0549c95",
   "metadata": {},
   "source": [
    "### 4) Comprobación Catboost"
   ]
  },
  {
   "cell_type": "code",
   "execution_count": 19,
   "id": "6b88aa93",
   "metadata": {},
   "outputs": [],
   "source": [
    "from sklearn.model_selection import train_test_split as tts \n",
    "\n",
    "from sklearn.metrics import mean_squared_error as mse \n",
    "from sklearn.metrics import mean_absolute_error as mae\n",
    "from sklearn.metrics import r2_score as r2"
   ]
  },
  {
   "cell_type": "code",
   "execution_count": 20,
   "id": "38f6a616",
   "metadata": {},
   "outputs": [],
   "source": [
    "importancias_ctr=extraer_importancias(CTR(verbose=0), X, y)"
   ]
  },
  {
   "cell_type": "code",
   "execution_count": 21,
   "id": "3e6cc6c0",
   "metadata": {},
   "outputs": [],
   "source": [
    "umbral=0.7  # 0.7 %\n",
    "\n",
    "X_new=X[importancias_ctr[importancias_ctr['importancias']>umbral].index]"
   ]
  },
  {
   "cell_type": "code",
   "execution_count": 22,
   "id": "e337f5e7",
   "metadata": {},
   "outputs": [
    {
     "data": {
      "text/plain": [
       "<catboost.core.CatBoostRegressor at 0x16e996a60>"
      ]
     },
     "execution_count": 22,
     "metadata": {},
     "output_type": "execute_result"
    }
   ],
   "source": [
    "X_train, X_test, y_train, y_test = tts(X_new, y, train_size=0.8, test_size=0.2, random_state=42)\n",
    "\n",
    "modelo=CTR(verbose=0)\n",
    "modelo.fit(X_train, y_train)"
   ]
  },
  {
   "cell_type": "code",
   "execution_count": 23,
   "id": "f6afadad",
   "metadata": {},
   "outputs": [
    {
     "name": "stdout",
     "output_type": "stream",
     "text": [
      "Train RMSE: 16.885657083960616\n",
      "Train MAE: 11.74442082023077\n",
      "Train R2: 0.8043998321867365\n"
     ]
    }
   ],
   "source": [
    "y_pred=modelo.predict(X_train)\n",
    "\n",
    "print(f'Train RMSE: {mse(y_train, y_pred, squared=False)}')\n",
    "print(f'Train MAE: {mae(y_train, y_pred)}')\n",
    "print(f'Train R2: {r2(y_train, y_pred)}')"
   ]
  },
  {
   "cell_type": "code",
   "execution_count": 24,
   "id": "5a50c106",
   "metadata": {},
   "outputs": [
    {
     "name": "stdout",
     "output_type": "stream",
     "text": [
      "Test RMSE: 21.685743729034684\n",
      "Test MAE: 14.761364311344026\n",
      "Test R2: 0.7121108614991053\n"
     ]
    }
   ],
   "source": [
    "y_pred=modelo.predict(X_test)\n",
    "\n",
    "print(f'Test RMSE: {mse(y_test, y_pred, squared=False)}')\n",
    "print(f'Test MAE: {mae(y_test, y_pred)}')\n",
    "print(f'Test R2: {r2(y_test, y_pred)}')"
   ]
  },
  {
   "cell_type": "code",
   "execution_count": 25,
   "id": "425b7147",
   "metadata": {},
   "outputs": [
    {
     "data": {
      "text/plain": [
       "(18936, 31)"
      ]
     },
     "execution_count": 25,
     "metadata": {},
     "output_type": "execute_result"
    }
   ],
   "source": [
    "X_new.shape"
   ]
  },
  {
   "cell_type": "code",
   "execution_count": 26,
   "id": "b75f038e",
   "metadata": {},
   "outputs": [
    {
     "data": {
      "text/plain": [
       "['accommodates',\n",
       " 'air_conditioning',\n",
       " 'availability_30',\n",
       " 'availability_365',\n",
       " 'availability_60',\n",
       " 'availability_90',\n",
       " 'bathrooms',\n",
       " 'bedrooms',\n",
       " 'beds',\n",
       " 'calculated_host_listings_count',\n",
       " 'calculated_host_listings_count_entire_homes',\n",
       " 'calculated_host_listings_count_private_rooms',\n",
       " 'calculated_host_listings_count_shared_rooms',\n",
       " 'cleaning_fee',\n",
       " 'dishwasher',\n",
       " 'dryer',\n",
       " 'elevator',\n",
       " 'extra_people',\n",
       " 'guests_included',\n",
       " 'latitude',\n",
       " 'longitude',\n",
       " 'maximum_nights',\n",
       " 'minimum_nights',\n",
       " 'number_of_reviews',\n",
       " 'number_of_reviews_ltm',\n",
       " 'room_type_private_room',\n",
       " 'room_type_shared_room',\n",
       " 'security_deposit',\n",
       " 'x',\n",
       " 'y',\n",
       " 'z']"
      ]
     },
     "execution_count": 26,
     "metadata": {},
     "output_type": "execute_result"
    }
   ],
   "source": [
    "sorted(X_new.columns)"
   ]
  },
  {
   "cell_type": "markdown",
   "id": "c187be8c",
   "metadata": {},
   "source": [
    "Esta será la selección de variables. Aún falta determinar como quedarán las variables de loacalización. Se verá en el siguiente notebook que transformación es mejor."
   ]
  }
 ],
 "metadata": {
  "kernelspec": {
   "display_name": "clase",
   "language": "python",
   "name": "clase"
  },
  "language_info": {
   "codemirror_mode": {
    "name": "ipython",
    "version": 3
   },
   "file_extension": ".py",
   "mimetype": "text/x-python",
   "name": "python",
   "nbconvert_exporter": "python",
   "pygments_lexer": "ipython3",
   "version": "3.8.13"
  }
 },
 "nbformat": 4,
 "nbformat_minor": 5
}

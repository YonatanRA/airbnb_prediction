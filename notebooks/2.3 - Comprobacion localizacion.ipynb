{
 "cells": [
  {
   "cell_type": "markdown",
   "id": "ed1e882c",
   "metadata": {},
   "source": [
    "# 2.3 - Comprobación localización\n",
    "\n",
    "Mi manera de comprabar esto es dejar que sea el modelo el me diga, con las métricas de error que forma de transformar el dato es mejor, si tener la tupla latitud-longitud, la transformación esférica que realizé anteriormente con las variables x-y-z o realizar un one-hot encoding directamente con los barrios o distritos.  "
   ]
  },
  {
   "cell_type": "code",
   "execution_count": 1,
   "id": "b1552d4a",
   "metadata": {},
   "outputs": [],
   "source": [
    "# librerias\n",
    "\n",
    "import numpy as np\n",
    "import pandas as pd\n",
    "\n",
    "pd.set_option('display.max_columns', None)\n",
    "pd.set_option('display.max_rows', None)"
   ]
  },
  {
   "cell_type": "code",
   "execution_count": 2,
   "id": "60affc64",
   "metadata": {},
   "outputs": [],
   "source": [
    "cols=['neighbourhood_cleansed','neighbourhood_group_cleansed', 'accommodates', \n",
    "      'air_conditioning', 'availability_30', 'availability_365', 'availability_60', 'availability_90',\n",
    "      'bathrooms', 'bedrooms', 'beds', 'calculated_host_listings_count', 'calculated_host_listings_count_entire_homes',\n",
    "      'calculated_host_listings_count_private_rooms', 'calculated_host_listings_count_shared_rooms', 'cleaning_fee',\n",
    "      'dishwasher', 'dryer', 'elevator', 'extra_people', 'guests_included', 'latitude', 'longitude', 'maximum_nights',\n",
    "      'minimum_nights', 'number_of_reviews', 'number_of_reviews_ltm', 'room_type_private_room', 'room_type_shared_room',\n",
    "      'security_deposit', 'x', 'y', 'z', 'price']"
   ]
  },
  {
   "cell_type": "code",
   "execution_count": 3,
   "id": "6302a027",
   "metadata": {},
   "outputs": [
    {
     "name": "stdout",
     "output_type": "stream",
     "text": [
      "<class 'pandas.core.frame.DataFrame'>\n",
      "Int64Index: 18936 entries, 0 to 21311\n",
      "Data columns (total 34 columns):\n",
      " #   Column                                        Non-Null Count  Dtype  \n",
      "---  ------                                        --------------  -----  \n",
      " 0   neighbourhood_cleansed                        18936 non-null  object \n",
      " 1   neighbourhood_group_cleansed                  18936 non-null  object \n",
      " 2   latitude                                      18936 non-null  float32\n",
      " 3   longitude                                     18936 non-null  float32\n",
      " 4   accommodates                                  18936 non-null  int8   \n",
      " 5   bathrooms                                     18936 non-null  int8   \n",
      " 6   bedrooms                                      18936 non-null  int8   \n",
      " 7   beds                                          18936 non-null  int8   \n",
      " 8   price                                         18936 non-null  int16  \n",
      " 9   security_deposit                              18936 non-null  int16  \n",
      " 10  cleaning_fee                                  18936 non-null  int16  \n",
      " 11  guests_included                               18936 non-null  int8   \n",
      " 12  extra_people                                  18936 non-null  int16  \n",
      " 13  minimum_nights                                18936 non-null  int16  \n",
      " 14  maximum_nights                                18936 non-null  int32  \n",
      " 15  availability_30                               18936 non-null  int8   \n",
      " 16  availability_60                               18936 non-null  int8   \n",
      " 17  availability_90                               18936 non-null  int8   \n",
      " 18  availability_365                              18936 non-null  int16  \n",
      " 19  number_of_reviews                             18936 non-null  int16  \n",
      " 20  number_of_reviews_ltm                         18936 non-null  int16  \n",
      " 21  calculated_host_listings_count                18936 non-null  int16  \n",
      " 22  calculated_host_listings_count_entire_homes   18936 non-null  int16  \n",
      " 23  calculated_host_listings_count_private_rooms  18936 non-null  int8   \n",
      " 24  calculated_host_listings_count_shared_rooms   18936 non-null  int8   \n",
      " 25  x                                             18936 non-null  float32\n",
      " 26  y                                             18936 non-null  float32\n",
      " 27  z                                             18936 non-null  float32\n",
      " 28  room_type_private_room                        18936 non-null  int8   \n",
      " 29  room_type_shared_room                         18936 non-null  int8   \n",
      " 30  dryer                                         18936 non-null  int8   \n",
      " 31  air_conditioning                              18936 non-null  int8   \n",
      " 32  elevator                                      18936 non-null  int8   \n",
      " 33  dishwasher                                    18936 non-null  int8   \n",
      "dtypes: float32(5), int16(10), int32(1), int8(16), object(2)\n",
      "memory usage: 3.7 MB\n"
     ]
    }
   ],
   "source": [
    "# carga de datos\n",
    "listings=pd.read_csv('../data/transform_data/listings_normal.csv', usecols=cols)\n",
    "\n",
    "listings=listings[(listings.price>=10) & (listings.price<=196)]  # eliminacion de outliers\n",
    "\n",
    "# cambio en el tamaño del tipo de dato\n",
    "for c in listings.select_dtypes(include='int'):\n",
    "    listings[c]=pd.to_numeric(listings[c], downcast='integer')\n",
    "\n",
    "for c in listings.select_dtypes(include='float'):\n",
    "    listings[c]=pd.to_numeric(listings[c], downcast='float')\n",
    "    \n",
    "listings.info(memory_usage='deep')"
   ]
  },
  {
   "cell_type": "code",
   "execution_count": 4,
   "id": "af73a67b",
   "metadata": {},
   "outputs": [
    {
     "data": {
      "text/html": [
       "<div>\n",
       "<style scoped>\n",
       "    .dataframe tbody tr th:only-of-type {\n",
       "        vertical-align: middle;\n",
       "    }\n",
       "\n",
       "    .dataframe tbody tr th {\n",
       "        vertical-align: top;\n",
       "    }\n",
       "\n",
       "    .dataframe thead th {\n",
       "        text-align: right;\n",
       "    }\n",
       "</style>\n",
       "<table border=\"1\" class=\"dataframe\">\n",
       "  <thead>\n",
       "    <tr style=\"text-align: right;\">\n",
       "      <th></th>\n",
       "      <th>neighbourhood_cleansed</th>\n",
       "      <th>neighbourhood_group_cleansed</th>\n",
       "      <th>latitude</th>\n",
       "      <th>longitude</th>\n",
       "      <th>accommodates</th>\n",
       "      <th>bathrooms</th>\n",
       "      <th>bedrooms</th>\n",
       "      <th>beds</th>\n",
       "      <th>price</th>\n",
       "      <th>security_deposit</th>\n",
       "      <th>cleaning_fee</th>\n",
       "      <th>guests_included</th>\n",
       "      <th>extra_people</th>\n",
       "      <th>minimum_nights</th>\n",
       "      <th>maximum_nights</th>\n",
       "      <th>availability_30</th>\n",
       "      <th>availability_60</th>\n",
       "      <th>availability_90</th>\n",
       "      <th>availability_365</th>\n",
       "      <th>number_of_reviews</th>\n",
       "      <th>number_of_reviews_ltm</th>\n",
       "      <th>calculated_host_listings_count</th>\n",
       "      <th>calculated_host_listings_count_entire_homes</th>\n",
       "      <th>calculated_host_listings_count_private_rooms</th>\n",
       "      <th>calculated_host_listings_count_shared_rooms</th>\n",
       "      <th>x</th>\n",
       "      <th>y</th>\n",
       "      <th>z</th>\n",
       "      <th>room_type_private_room</th>\n",
       "      <th>room_type_shared_room</th>\n",
       "      <th>dryer</th>\n",
       "      <th>air_conditioning</th>\n",
       "      <th>elevator</th>\n",
       "      <th>dishwasher</th>\n",
       "    </tr>\n",
       "  </thead>\n",
       "  <tbody>\n",
       "    <tr>\n",
       "      <th>0</th>\n",
       "      <td>Hispanoamérica</td>\n",
       "      <td>Chamartín</td>\n",
       "      <td>40.456280</td>\n",
       "      <td>-3.67763</td>\n",
       "      <td>2</td>\n",
       "      <td>1</td>\n",
       "      <td>1</td>\n",
       "      <td>0</td>\n",
       "      <td>70</td>\n",
       "      <td>0</td>\n",
       "      <td>5</td>\n",
       "      <td>2</td>\n",
       "      <td>15</td>\n",
       "      <td>1</td>\n",
       "      <td>365</td>\n",
       "      <td>22</td>\n",
       "      <td>52</td>\n",
       "      <td>82</td>\n",
       "      <td>82</td>\n",
       "      <td>73</td>\n",
       "      <td>14</td>\n",
       "      <td>1</td>\n",
       "      <td>0</td>\n",
       "      <td>1</td>\n",
       "      <td>0</td>\n",
       "      <td>0.796991</td>\n",
       "      <td>-0.473457</td>\n",
       "      <td>0.375026</td>\n",
       "      <td>1</td>\n",
       "      <td>0</td>\n",
       "      <td>0</td>\n",
       "      <td>1</td>\n",
       "      <td>1</td>\n",
       "      <td>0</td>\n",
       "    </tr>\n",
       "    <tr>\n",
       "      <th>1</th>\n",
       "      <td>Cármenes</td>\n",
       "      <td>Latina</td>\n",
       "      <td>40.403412</td>\n",
       "      <td>-3.74084</td>\n",
       "      <td>1</td>\n",
       "      <td>1</td>\n",
       "      <td>1</td>\n",
       "      <td>1</td>\n",
       "      <td>17</td>\n",
       "      <td>0</td>\n",
       "      <td>0</td>\n",
       "      <td>1</td>\n",
       "      <td>8</td>\n",
       "      <td>4</td>\n",
       "      <td>40</td>\n",
       "      <td>0</td>\n",
       "      <td>0</td>\n",
       "      <td>0</td>\n",
       "      <td>162</td>\n",
       "      <td>33</td>\n",
       "      <td>0</td>\n",
       "      <td>2</td>\n",
       "      <td>0</td>\n",
       "      <td>2</td>\n",
       "      <td>0</td>\n",
       "      <td>0.748058</td>\n",
       "      <td>-0.510948</td>\n",
       "      <td>0.423488</td>\n",
       "      <td>1</td>\n",
       "      <td>0</td>\n",
       "      <td>0</td>\n",
       "      <td>1</td>\n",
       "      <td>1</td>\n",
       "      <td>0</td>\n",
       "    </tr>\n",
       "    <tr>\n",
       "      <th>2</th>\n",
       "      <td>Legazpi</td>\n",
       "      <td>Arganzuela</td>\n",
       "      <td>40.386951</td>\n",
       "      <td>-3.69304</td>\n",
       "      <td>6</td>\n",
       "      <td>2</td>\n",
       "      <td>3</td>\n",
       "      <td>5</td>\n",
       "      <td>50</td>\n",
       "      <td>300</td>\n",
       "      <td>30</td>\n",
       "      <td>1</td>\n",
       "      <td>10</td>\n",
       "      <td>15</td>\n",
       "      <td>730</td>\n",
       "      <td>2</td>\n",
       "      <td>2</td>\n",
       "      <td>2</td>\n",
       "      <td>213</td>\n",
       "      <td>0</td>\n",
       "      <td>0</td>\n",
       "      <td>6</td>\n",
       "      <td>6</td>\n",
       "      <td>0</td>\n",
       "      <td>0</td>\n",
       "      <td>0.765575</td>\n",
       "      <td>-0.470904</td>\n",
       "      <td>0.438342</td>\n",
       "      <td>0</td>\n",
       "      <td>0</td>\n",
       "      <td>1</td>\n",
       "      <td>1</td>\n",
       "      <td>1</td>\n",
       "      <td>1</td>\n",
       "    </tr>\n",
       "    <tr>\n",
       "      <th>3</th>\n",
       "      <td>Universidad</td>\n",
       "      <td>Centro</td>\n",
       "      <td>40.422020</td>\n",
       "      <td>-3.70395</td>\n",
       "      <td>3</td>\n",
       "      <td>1</td>\n",
       "      <td>0</td>\n",
       "      <td>1</td>\n",
       "      <td>80</td>\n",
       "      <td>200</td>\n",
       "      <td>30</td>\n",
       "      <td>2</td>\n",
       "      <td>0</td>\n",
       "      <td>5</td>\n",
       "      <td>730</td>\n",
       "      <td>27</td>\n",
       "      <td>57</td>\n",
       "      <td>87</td>\n",
       "      <td>362</td>\n",
       "      <td>9</td>\n",
       "      <td>7</td>\n",
       "      <td>1</td>\n",
       "      <td>1</td>\n",
       "      <td>0</td>\n",
       "      <td>0</td>\n",
       "      <td>0.772927</td>\n",
       "      <td>-0.487128</td>\n",
       "      <td>0.406559</td>\n",
       "      <td>0</td>\n",
       "      <td>0</td>\n",
       "      <td>0</td>\n",
       "      <td>1</td>\n",
       "      <td>1</td>\n",
       "      <td>0</td>\n",
       "    </tr>\n",
       "    <tr>\n",
       "      <th>4</th>\n",
       "      <td>Justicia</td>\n",
       "      <td>Centro</td>\n",
       "      <td>40.419949</td>\n",
       "      <td>-3.69764</td>\n",
       "      <td>4</td>\n",
       "      <td>1</td>\n",
       "      <td>2</td>\n",
       "      <td>3</td>\n",
       "      <td>115</td>\n",
       "      <td>200</td>\n",
       "      <td>0</td>\n",
       "      <td>4</td>\n",
       "      <td>0</td>\n",
       "      <td>3</td>\n",
       "      <td>10</td>\n",
       "      <td>24</td>\n",
       "      <td>54</td>\n",
       "      <td>77</td>\n",
       "      <td>342</td>\n",
       "      <td>67</td>\n",
       "      <td>15</td>\n",
       "      <td>1</td>\n",
       "      <td>1</td>\n",
       "      <td>0</td>\n",
       "      <td>0</td>\n",
       "      <td>0.775268</td>\n",
       "      <td>-0.481796</td>\n",
       "      <td>0.408451</td>\n",
       "      <td>0</td>\n",
       "      <td>0</td>\n",
       "      <td>0</td>\n",
       "      <td>1</td>\n",
       "      <td>1</td>\n",
       "      <td>0</td>\n",
       "    </tr>\n",
       "  </tbody>\n",
       "</table>\n",
       "</div>"
      ],
      "text/plain": [
       "  neighbourhood_cleansed neighbourhood_group_cleansed   latitude  longitude  \\\n",
       "0         Hispanoamérica                    Chamartín  40.456280   -3.67763   \n",
       "1               Cármenes                       Latina  40.403412   -3.74084   \n",
       "2                Legazpi                   Arganzuela  40.386951   -3.69304   \n",
       "3            Universidad                       Centro  40.422020   -3.70395   \n",
       "4               Justicia                       Centro  40.419949   -3.69764   \n",
       "\n",
       "   accommodates  bathrooms  bedrooms  beds  price  security_deposit  \\\n",
       "0             2          1         1     0     70                 0   \n",
       "1             1          1         1     1     17                 0   \n",
       "2             6          2         3     5     50               300   \n",
       "3             3          1         0     1     80               200   \n",
       "4             4          1         2     3    115               200   \n",
       "\n",
       "   cleaning_fee  guests_included  extra_people  minimum_nights  \\\n",
       "0             5                2            15               1   \n",
       "1             0                1             8               4   \n",
       "2            30                1            10              15   \n",
       "3            30                2             0               5   \n",
       "4             0                4             0               3   \n",
       "\n",
       "   maximum_nights  availability_30  availability_60  availability_90  \\\n",
       "0             365               22               52               82   \n",
       "1              40                0                0                0   \n",
       "2             730                2                2                2   \n",
       "3             730               27               57               87   \n",
       "4              10               24               54               77   \n",
       "\n",
       "   availability_365  number_of_reviews  number_of_reviews_ltm  \\\n",
       "0                82                 73                     14   \n",
       "1               162                 33                      0   \n",
       "2               213                  0                      0   \n",
       "3               362                  9                      7   \n",
       "4               342                 67                     15   \n",
       "\n",
       "   calculated_host_listings_count  \\\n",
       "0                               1   \n",
       "1                               2   \n",
       "2                               6   \n",
       "3                               1   \n",
       "4                               1   \n",
       "\n",
       "   calculated_host_listings_count_entire_homes  \\\n",
       "0                                            0   \n",
       "1                                            0   \n",
       "2                                            6   \n",
       "3                                            1   \n",
       "4                                            1   \n",
       "\n",
       "   calculated_host_listings_count_private_rooms  \\\n",
       "0                                             1   \n",
       "1                                             2   \n",
       "2                                             0   \n",
       "3                                             0   \n",
       "4                                             0   \n",
       "\n",
       "   calculated_host_listings_count_shared_rooms         x         y         z  \\\n",
       "0                                            0  0.796991 -0.473457  0.375026   \n",
       "1                                            0  0.748058 -0.510948  0.423488   \n",
       "2                                            0  0.765575 -0.470904  0.438342   \n",
       "3                                            0  0.772927 -0.487128  0.406559   \n",
       "4                                            0  0.775268 -0.481796  0.408451   \n",
       "\n",
       "   room_type_private_room  room_type_shared_room  dryer  air_conditioning  \\\n",
       "0                       1                      0      0                 1   \n",
       "1                       1                      0      0                 1   \n",
       "2                       0                      0      1                 1   \n",
       "3                       0                      0      0                 1   \n",
       "4                       0                      0      0                 1   \n",
       "\n",
       "   elevator  dishwasher  \n",
       "0         1           0  \n",
       "1         1           0  \n",
       "2         1           1  \n",
       "3         1           0  \n",
       "4         1           0  "
      ]
     },
     "execution_count": 4,
     "metadata": {},
     "output_type": "execute_result"
    }
   ],
   "source": [
    "listings.head()"
   ]
  },
  {
   "cell_type": "markdown",
   "id": "dd511290",
   "metadata": {},
   "source": [
    "**Preparación de los 4 paquete de datos**"
   ]
  },
  {
   "cell_type": "code",
   "execution_count": 5,
   "id": "df9f4d72",
   "metadata": {},
   "outputs": [],
   "source": [
    "df_xyz=listings.drop(columns=['latitude', 'longitude', 'neighbourhood_cleansed', 'neighbourhood_group_cleansed'])\n",
    "\n",
    "df_lat_lon=listings.drop(columns=['x', 'y', 'z', 'neighbourhood_cleansed', 'neighbourhood_group_cleansed'])\n",
    "\n",
    "df_barrio=listings.drop(columns=['x', 'y', 'z', 'latitude', 'longitude', 'neighbourhood_group_cleansed'])\n",
    "df_barrio=pd.get_dummies(df_barrio, prefix='', prefix_sep='')\n",
    "\n",
    "df_distrito=listings.drop(columns=['x', 'y', 'z', 'latitude', 'longitude', 'neighbourhood_cleansed'])\n",
    "df_distrito=pd.get_dummies(df_distrito, prefix='', prefix_sep='')"
   ]
  },
  {
   "cell_type": "code",
   "execution_count": 6,
   "id": "35476746",
   "metadata": {},
   "outputs": [
    {
     "data": {
      "text/plain": [
       "(18936, 30)"
      ]
     },
     "execution_count": 6,
     "metadata": {},
     "output_type": "execute_result"
    }
   ],
   "source": [
    "df_xyz.shape"
   ]
  },
  {
   "cell_type": "code",
   "execution_count": 7,
   "id": "a976659e",
   "metadata": {},
   "outputs": [
    {
     "data": {
      "text/plain": [
       "(18936, 29)"
      ]
     },
     "execution_count": 7,
     "metadata": {},
     "output_type": "execute_result"
    }
   ],
   "source": [
    "df_lat_lon.shape"
   ]
  },
  {
   "cell_type": "code",
   "execution_count": 8,
   "id": "9272c870",
   "metadata": {},
   "outputs": [
    {
     "data": {
      "text/plain": [
       "(18936, 154)"
      ]
     },
     "execution_count": 8,
     "metadata": {},
     "output_type": "execute_result"
    }
   ],
   "source": [
    "df_barrio.shape"
   ]
  },
  {
   "cell_type": "code",
   "execution_count": 9,
   "id": "ae63657b",
   "metadata": {},
   "outputs": [
    {
     "data": {
      "text/plain": [
       "(18936, 48)"
      ]
     },
     "execution_count": 9,
     "metadata": {},
     "output_type": "execute_result"
    }
   ],
   "source": [
    "df_distrito.shape"
   ]
  },
  {
   "cell_type": "code",
   "execution_count": 10,
   "id": "f1a767d1",
   "metadata": {},
   "outputs": [],
   "source": [
    "data={'esféricas': df_xyz, 'latitud-longitud': df_lat_lon, \n",
    "      'barrio': df_barrio, 'distrito': df_distrito}"
   ]
  },
  {
   "cell_type": "markdown",
   "id": "5650d290",
   "metadata": {},
   "source": [
    "### Testeo de varios modelos en varios paquetes de datos"
   ]
  },
  {
   "cell_type": "code",
   "execution_count": 11,
   "id": "259b040a",
   "metadata": {},
   "outputs": [],
   "source": [
    "from sklearn.ensemble import RandomForestRegressor as RFR\n",
    "\n",
    "from xgboost import XGBRegressor as XGBR\n",
    "\n",
    "from lightgbm import LGBMRegressor as LGBMR\n",
    "\n",
    "from catboost import CatBoostRegressor as CTR\n",
    "\n",
    "from sklearn.model_selection import train_test_split as tts \n",
    "\n",
    "from sklearn.metrics import mean_squared_error as mse \n",
    "from sklearn.metrics import mean_absolute_error as mae\n",
    "from sklearn.metrics import r2_score as r2\n",
    "\n",
    "from tqdm.notebook import tqdm"
   ]
  },
  {
   "cell_type": "code",
   "execution_count": 12,
   "id": "dc03c3af",
   "metadata": {},
   "outputs": [],
   "source": [
    "def test_model_data(modelo: object, data: pd.DataFrame, dataname: str) -> str:\n",
    "    \n",
    "    X=data.drop('price', axis=1)\n",
    "    y=data.price\n",
    "\n",
    "    X_train, X_test, y_train, y_test = tts(X, y, train_size=0.8, test_size=0.2, random_state=42)\n",
    "    \n",
    "    modelo.fit(X_train, y_train)\n",
    "    \n",
    "    y_pred=modelo.predict(X_test)\n",
    "    \n",
    "    print(dataname)\n",
    "    print(f'RMSE: {mse(y_test, y_pred, squared=False)}')\n",
    "    print(f'MAE: {mae(y_test, y_pred)}')\n",
    "    print(f'R2: {r2(y_test, y_pred)}')\n",
    "    print()\n",
    "    return 'Done!'"
   ]
  },
  {
   "cell_type": "code",
   "execution_count": 13,
   "id": "792bd9a1",
   "metadata": {},
   "outputs": [
    {
     "name": "stdout",
     "output_type": "stream",
     "text": [
      "\n",
      "\u001b[1mPrueba Random Forest Regressor\u001b[0m\n",
      "esféricas\n",
      "RMSE: 23.24767402780918\n",
      "MAE: 15.735667898627243\n",
      "R2: 0.6691465614678902\n",
      "\n",
      "latitud-longitud\n",
      "RMSE: 23.076845915268475\n",
      "MAE: 15.695472544878566\n",
      "R2: 0.6739910385710364\n",
      "\n",
      "barrio\n",
      "RMSE: 23.53675210434964\n",
      "MAE: 15.695214894361476\n",
      "R2: 0.6608672713574222\n",
      "\n",
      "distrito\n",
      "RMSE: 23.313629987215016\n",
      "MAE: 15.73503815935033\n",
      "R2: 0.6672665702757302\n",
      "\n",
      "CPU times: user 35.2 s, sys: 135 ms, total: 35.3 s\n",
      "Wall time: 35.3 s\n"
     ]
    },
    {
     "data": {
      "text/plain": [
       "['Done!', 'Done!', 'Done!', 'Done!']"
      ]
     },
     "execution_count": 13,
     "metadata": {},
     "output_type": "execute_result"
    }
   ],
   "source": [
    "%%time\n",
    "\n",
    "print('\\n\\033[1m' + 'Prueba Random Forest Regressor' + '\\033[0m')\n",
    "\n",
    "[test_model_data(RFR(), d, n) for n,d in data.items()]"
   ]
  },
  {
   "cell_type": "code",
   "execution_count": 14,
   "id": "e89dbc77",
   "metadata": {},
   "outputs": [
    {
     "name": "stdout",
     "output_type": "stream",
     "text": [
      "\n",
      "\u001b[1mPrueba XG Boosting Regressor\u001b[0m\n",
      "esféricas\n",
      "RMSE: 22.45243263244629\n",
      "MAE: 15.239723205566406\n",
      "R2: 0.6913946700872258\n",
      "\n",
      "latitud-longitud\n",
      "RMSE: 22.41477394104004\n",
      "MAE: 15.222554206848145\n",
      "R2: 0.6924289829426343\n",
      "\n",
      "barrio\n",
      "RMSE: 22.867399215698242\n",
      "MAE: 15.5220308303833\n",
      "R2: 0.6798819349636882\n",
      "\n",
      "distrito\n",
      "RMSE: 22.592540740966797\n",
      "MAE: 15.457427978515625\n",
      "R2: 0.6875310910456449\n",
      "\n",
      "CPU times: user 25.7 s, sys: 4.53 s, total: 30.2 s\n",
      "Wall time: 4.05 s\n"
     ]
    },
    {
     "data": {
      "text/plain": [
       "['Done!', 'Done!', 'Done!', 'Done!']"
      ]
     },
     "execution_count": 14,
     "metadata": {},
     "output_type": "execute_result"
    }
   ],
   "source": [
    "%%time\n",
    "\n",
    "print('\\n\\033[1m' + 'Prueba XG Boosting Regressor' + '\\033[0m')\n",
    "\n",
    "[test_model_data(XGBR(), d, n) for n,d in data.items()]"
   ]
  },
  {
   "cell_type": "code",
   "execution_count": 15,
   "id": "f7842cab",
   "metadata": {},
   "outputs": [
    {
     "name": "stdout",
     "output_type": "stream",
     "text": [
      "\n",
      "\u001b[1mPrueba LightGBM Regressor\u001b[0m\n",
      "esféricas\n",
      "RMSE: 22.27956413201295\n",
      "MAE: 15.242575849575124\n",
      "R2: 0.6961284660669169\n",
      "\n",
      "latitud-longitud\n",
      "RMSE: 22.395638077371125\n",
      "MAE: 15.34068523213501\n",
      "R2: 0.6929539472114248\n",
      "\n",
      "barrio\n",
      "RMSE: 22.669572259463457\n",
      "MAE: 15.561534089252865\n",
      "R2: 0.6853966888817127\n",
      "\n",
      "distrito\n",
      "RMSE: 22.511754378759456\n",
      "MAE: 15.395866128479799\n",
      "R2: 0.6897617650218114\n",
      "\n",
      "CPU times: user 1.45 s, sys: 1.5 s, total: 2.95 s\n",
      "Wall time: 1.44 s\n"
     ]
    },
    {
     "data": {
      "text/plain": [
       "['Done!', 'Done!', 'Done!', 'Done!']"
      ]
     },
     "execution_count": 15,
     "metadata": {},
     "output_type": "execute_result"
    }
   ],
   "source": [
    "%%time\n",
    "\n",
    "print('\\n\\033[1m' + 'Prueba LightGBM Regressor' + '\\033[0m')\n",
    "\n",
    "[test_model_data(LGBMR(), d, n) for n,d in data.items()]"
   ]
  },
  {
   "cell_type": "code",
   "execution_count": 16,
   "id": "adb5db03",
   "metadata": {},
   "outputs": [
    {
     "name": "stdout",
     "output_type": "stream",
     "text": [
      "\n",
      "\u001b[1mPrueba Catboost Regressor\u001b[0m\n",
      "esféricas\n",
      "RMSE: 21.620325517639113\n",
      "MAE: 14.708807872358754\n",
      "R2: 0.7138451608820328\n",
      "\n",
      "latitud-longitud\n",
      "RMSE: 21.596826764285495\n",
      "MAE: 14.774018559744613\n",
      "R2: 0.7144668562147605\n",
      "\n",
      "barrio\n",
      "RMSE: 22.230216236277382\n",
      "MAE: 15.13325300155063\n",
      "R2: 0.6974730896607023\n",
      "\n",
      "distrito\n",
      "RMSE: 21.944160251765993\n",
      "MAE: 14.9230074810349\n",
      "R2: 0.7052087626753057\n",
      "\n",
      "CPU times: user 19.2 s, sys: 9.62 s, total: 28.8 s\n",
      "Wall time: 8.64 s\n"
     ]
    },
    {
     "data": {
      "text/plain": [
       "['Done!', 'Done!', 'Done!', 'Done!']"
      ]
     },
     "execution_count": 16,
     "metadata": {},
     "output_type": "execute_result"
    }
   ],
   "source": [
    "%%time\n",
    "\n",
    "print('\\n\\033[1m' + 'Prueba Catboost Regressor' + '\\033[0m')\n",
    "\n",
    "[test_model_data(CTR(verbose=0), d, n) for n,d in data.items()]"
   ]
  },
  {
   "cell_type": "code",
   "execution_count": 21,
   "id": "6d152d6d",
   "metadata": {},
   "outputs": [
    {
     "name": "stdout",
     "output_type": "stream",
     "text": [
      "\n",
      "\u001b[1mCatboost Regressor\u001b[0m\n",
      "esféricas\n",
      "RMSE: 21.620325517639113\n",
      "MAE: 14.708807872358754\n",
      "R2: 0.7138451608820328\n",
      "\n"
     ]
    },
    {
     "data": {
      "text/plain": [
       "'Done!'"
      ]
     },
     "execution_count": 21,
     "metadata": {},
     "output_type": "execute_result"
    }
   ],
   "source": [
    "print('\\n\\033[1m' + 'Catboost Regressor' + '\\033[0m')\n",
    "\n",
    "test_model_data(CTR(verbose=0), df_xyz, 'esféricas')"
   ]
  },
  {
   "cell_type": "markdown",
   "id": "d77713d2",
   "metadata": {},
   "source": [
    "Este último modelo es funciona mejor en términos de RMSE y MAE que usando la latitud-longitud, y mejor que usando las variables dummies. Esta será la selección final de variables y también el modelo que vamos a usar. En el próximo notebook entrenaré el modelo, ajustaré hiperparámetros y evaluaré."
   ]
  }
 ],
 "metadata": {
  "kernelspec": {
   "display_name": "clase",
   "language": "python",
   "name": "clase"
  },
  "language_info": {
   "codemirror_mode": {
    "name": "ipython",
    "version": 3
   },
   "file_extension": ".py",
   "mimetype": "text/x-python",
   "name": "python",
   "nbconvert_exporter": "python",
   "pygments_lexer": "ipython3",
   "version": "3.8.13"
  }
 },
 "nbformat": 4,
 "nbformat_minor": 5
}

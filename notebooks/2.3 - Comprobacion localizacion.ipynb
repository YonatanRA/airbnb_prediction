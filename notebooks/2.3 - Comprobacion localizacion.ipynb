{
 "cells": [
  {
   "cell_type": "markdown",
   "id": "ed1e882c",
   "metadata": {},
   "source": [
    "# 2.3 - Comprobación localización\n",
    "\n",
    "Mi manera de comprabar esto es dejar que sea el modelo el me diga, con las métricas de error que forma de transformar el dato es mejor, si tener la tupla latitud-longitud, la transformación esférica que realizé anteriormente con las variables x-y-z o realizar un one-hot encoding directamente con los barrios o distritos.  "
   ]
  },
  {
   "cell_type": "code",
   "execution_count": 1,
   "id": "b1552d4a",
   "metadata": {},
   "outputs": [],
   "source": [
    "# librerias\n",
    "\n",
    "import numpy as np\n",
    "import pandas as pd\n",
    "\n",
    "pd.set_option('display.max_columns', None)\n",
    "pd.set_option('display.max_rows', None)"
   ]
  },
  {
   "cell_type": "code",
   "execution_count": 2,
   "id": "60affc64",
   "metadata": {},
   "outputs": [],
   "source": [
    "cols=['neighbourhood_cleansed','neighbourhood_group_cleansed',\n",
    "      'accommodates', 'air_conditioning', 'availability_30', 'availability_365', 'availability_60', 'availability_90',\n",
    "      'bathrooms', 'bedrooms', 'beds', 'calculated_host_listings_count', 'calculated_host_listings_count_entire_homes',\n",
    "      'calculated_host_listings_count_private_rooms', 'calculated_host_listings_count_shared_rooms', 'cleaning_fee',\n",
    "      'dishwasher', 'extra_people', 'guests_included','latitude', 'longitude', 'maximum_nights', 'minimum_nights', \n",
    "      'number_of_reviews', 'number_of_reviews_ltm', 'room_type_private_room', 'room_type_shared_room', 'security_deposit',\n",
    "      'x', 'y', 'z', 'price']"
   ]
  },
  {
   "cell_type": "code",
   "execution_count": 3,
   "id": "6302a027",
   "metadata": {},
   "outputs": [
    {
     "name": "stdout",
     "output_type": "stream",
     "text": [
      "<class 'pandas.core.frame.DataFrame'>\n",
      "Int64Index: 18936 entries, 0 to 21311\n",
      "Data columns (total 32 columns):\n",
      " #   Column                                        Non-Null Count  Dtype  \n",
      "---  ------                                        --------------  -----  \n",
      " 0   neighbourhood_cleansed                        18936 non-null  object \n",
      " 1   neighbourhood_group_cleansed                  18936 non-null  object \n",
      " 2   latitude                                      18936 non-null  float32\n",
      " 3   longitude                                     18936 non-null  float32\n",
      " 4   accommodates                                  18936 non-null  float32\n",
      " 5   bathrooms                                     18936 non-null  float32\n",
      " 6   bedrooms                                      18936 non-null  float32\n",
      " 7   beds                                          18936 non-null  float32\n",
      " 8   price                                         18936 non-null  int16  \n",
      " 9   security_deposit                              18936 non-null  float32\n",
      " 10  cleaning_fee                                  18936 non-null  float32\n",
      " 11  guests_included                               18936 non-null  float32\n",
      " 12  extra_people                                  18936 non-null  float32\n",
      " 13  minimum_nights                                18936 non-null  float32\n",
      " 14  maximum_nights                                18936 non-null  float32\n",
      " 15  availability_30                               18936 non-null  float32\n",
      " 16  availability_60                               18936 non-null  float32\n",
      " 17  availability_90                               18936 non-null  float32\n",
      " 18  availability_365                              18936 non-null  float32\n",
      " 19  number_of_reviews                             18936 non-null  float32\n",
      " 20  number_of_reviews_ltm                         18936 non-null  float32\n",
      " 21  calculated_host_listings_count                18936 non-null  float32\n",
      " 22  calculated_host_listings_count_entire_homes   18936 non-null  float32\n",
      " 23  calculated_host_listings_count_private_rooms  18936 non-null  float32\n",
      " 24  calculated_host_listings_count_shared_rooms   18936 non-null  float32\n",
      " 25  x                                             18936 non-null  float32\n",
      " 26  y                                             18936 non-null  float32\n",
      " 27  z                                             18936 non-null  float32\n",
      " 28  room_type_private_room                        18936 non-null  int8   \n",
      " 29  room_type_shared_room                         18936 non-null  int8   \n",
      " 30  air_conditioning                              18936 non-null  int8   \n",
      " 31  dishwasher                                    18936 non-null  int8   \n",
      "dtypes: float32(25), int16(1), int8(4), object(2)\n",
      "memory usage: 4.5 MB\n"
     ]
    }
   ],
   "source": [
    "# carga de datos\n",
    "listings=pd.read_csv('../data/transform_data/listings_normal.csv', usecols=cols)\n",
    "\n",
    "listings=listings[(listings.price>=10) & (listings.price<=196)]  # eliminacion de outliers\n",
    "\n",
    "# cambio en el tamaño del tipo de dato\n",
    "for c in listings.select_dtypes(include='int'):\n",
    "    listings[c]=pd.to_numeric(listings[c], downcast='integer')\n",
    "\n",
    "for c in listings.select_dtypes(include='float'):\n",
    "    listings[c]=pd.to_numeric(listings[c], downcast='float')\n",
    "    \n",
    "listings.info(memory_usage='deep')"
   ]
  },
  {
   "cell_type": "code",
   "execution_count": 4,
   "id": "af73a67b",
   "metadata": {},
   "outputs": [
    {
     "data": {
      "text/html": [
       "<div>\n",
       "<style scoped>\n",
       "    .dataframe tbody tr th:only-of-type {\n",
       "        vertical-align: middle;\n",
       "    }\n",
       "\n",
       "    .dataframe tbody tr th {\n",
       "        vertical-align: top;\n",
       "    }\n",
       "\n",
       "    .dataframe thead th {\n",
       "        text-align: right;\n",
       "    }\n",
       "</style>\n",
       "<table border=\"1\" class=\"dataframe\">\n",
       "  <thead>\n",
       "    <tr style=\"text-align: right;\">\n",
       "      <th></th>\n",
       "      <th>neighbourhood_cleansed</th>\n",
       "      <th>neighbourhood_group_cleansed</th>\n",
       "      <th>latitude</th>\n",
       "      <th>longitude</th>\n",
       "      <th>accommodates</th>\n",
       "      <th>bathrooms</th>\n",
       "      <th>bedrooms</th>\n",
       "      <th>beds</th>\n",
       "      <th>price</th>\n",
       "      <th>security_deposit</th>\n",
       "      <th>cleaning_fee</th>\n",
       "      <th>guests_included</th>\n",
       "      <th>extra_people</th>\n",
       "      <th>minimum_nights</th>\n",
       "      <th>maximum_nights</th>\n",
       "      <th>availability_30</th>\n",
       "      <th>availability_60</th>\n",
       "      <th>availability_90</th>\n",
       "      <th>availability_365</th>\n",
       "      <th>number_of_reviews</th>\n",
       "      <th>number_of_reviews_ltm</th>\n",
       "      <th>calculated_host_listings_count</th>\n",
       "      <th>calculated_host_listings_count_entire_homes</th>\n",
       "      <th>calculated_host_listings_count_private_rooms</th>\n",
       "      <th>calculated_host_listings_count_shared_rooms</th>\n",
       "      <th>x</th>\n",
       "      <th>y</th>\n",
       "      <th>z</th>\n",
       "      <th>room_type_private_room</th>\n",
       "      <th>room_type_shared_room</th>\n",
       "      <th>air_conditioning</th>\n",
       "      <th>dishwasher</th>\n",
       "    </tr>\n",
       "  </thead>\n",
       "  <tbody>\n",
       "    <tr>\n",
       "      <th>0</th>\n",
       "      <td>Hispanoamérica</td>\n",
       "      <td>Chamartín</td>\n",
       "      <td>40.456280</td>\n",
       "      <td>-3.67763</td>\n",
       "      <td>-0.645354</td>\n",
       "      <td>-0.347512</td>\n",
       "      <td>-0.411921</td>\n",
       "      <td>-1.292693</td>\n",
       "      <td>70</td>\n",
       "      <td>-0.459455</td>\n",
       "      <td>-0.556685</td>\n",
       "      <td>0.163400</td>\n",
       "      <td>0.397414</td>\n",
       "      <td>-0.157275</td>\n",
       "      <td>-0.007999</td>\n",
       "      <td>0.832845</td>\n",
       "      <td>1.036105</td>\n",
       "      <td>1.062387</td>\n",
       "      <td>-0.593153</td>\n",
       "      <td>0.531084</td>\n",
       "      <td>-0.041333</td>\n",
       "      <td>-0.326920</td>\n",
       "      <td>-0.301845</td>\n",
       "      <td>-0.131436</td>\n",
       "      <td>-0.103323</td>\n",
       "      <td>0.796991</td>\n",
       "      <td>-0.473457</td>\n",
       "      <td>0.375026</td>\n",
       "      <td>1</td>\n",
       "      <td>0</td>\n",
       "      <td>1</td>\n",
       "      <td>0</td>\n",
       "    </tr>\n",
       "    <tr>\n",
       "      <th>1</th>\n",
       "      <td>Cármenes</td>\n",
       "      <td>Latina</td>\n",
       "      <td>40.403412</td>\n",
       "      <td>-3.74084</td>\n",
       "      <td>-1.139633</td>\n",
       "      <td>-0.347512</td>\n",
       "      <td>-0.411921</td>\n",
       "      <td>-0.641980</td>\n",
       "      <td>17</td>\n",
       "      <td>-0.459455</td>\n",
       "      <td>-0.703313</td>\n",
       "      <td>-0.548597</td>\n",
       "      <td>-0.031884</td>\n",
       "      <td>-0.018390</td>\n",
       "      <td>-0.008424</td>\n",
       "      <td>-1.115888</td>\n",
       "      <td>-1.231071</td>\n",
       "      <td>-1.303542</td>\n",
       "      <td>-0.007074</td>\n",
       "      <td>-0.077329</td>\n",
       "      <td>-0.678573</td>\n",
       "      <td>-0.295958</td>\n",
       "      <td>-0.301845</td>\n",
       "      <td>0.094811</td>\n",
       "      <td>-0.103323</td>\n",
       "      <td>0.748058</td>\n",
       "      <td>-0.510948</td>\n",
       "      <td>0.423488</td>\n",
       "      <td>1</td>\n",
       "      <td>0</td>\n",
       "      <td>1</td>\n",
       "      <td>0</td>\n",
       "    </tr>\n",
       "    <tr>\n",
       "      <th>2</th>\n",
       "      <td>Legazpi</td>\n",
       "      <td>Arganzuela</td>\n",
       "      <td>40.386951</td>\n",
       "      <td>-3.69304</td>\n",
       "      <td>1.331759</td>\n",
       "      <td>1.052522</td>\n",
       "      <td>1.914222</td>\n",
       "      <td>1.960871</td>\n",
       "      <td>50</td>\n",
       "      <td>0.861337</td>\n",
       "      <td>0.176453</td>\n",
       "      <td>-0.548597</td>\n",
       "      <td>0.090772</td>\n",
       "      <td>0.490853</td>\n",
       "      <td>-0.007522</td>\n",
       "      <td>-0.938731</td>\n",
       "      <td>-1.143872</td>\n",
       "      <td>-1.245836</td>\n",
       "      <td>0.366551</td>\n",
       "      <td>-0.579270</td>\n",
       "      <td>-0.678573</td>\n",
       "      <td>-0.172109</td>\n",
       "      <td>-0.112914</td>\n",
       "      <td>-0.357682</td>\n",
       "      <td>-0.103323</td>\n",
       "      <td>0.765575</td>\n",
       "      <td>-0.470904</td>\n",
       "      <td>0.438342</td>\n",
       "      <td>0</td>\n",
       "      <td>0</td>\n",
       "      <td>1</td>\n",
       "      <td>1</td>\n",
       "    </tr>\n",
       "    <tr>\n",
       "      <th>3</th>\n",
       "      <td>Universidad</td>\n",
       "      <td>Centro</td>\n",
       "      <td>40.422020</td>\n",
       "      <td>-3.70395</td>\n",
       "      <td>-0.151076</td>\n",
       "      <td>-0.347512</td>\n",
       "      <td>-1.574992</td>\n",
       "      <td>-0.641980</td>\n",
       "      <td>80</td>\n",
       "      <td>0.421073</td>\n",
       "      <td>0.176453</td>\n",
       "      <td>0.163400</td>\n",
       "      <td>-0.522511</td>\n",
       "      <td>0.027905</td>\n",
       "      <td>-0.007522</td>\n",
       "      <td>1.275739</td>\n",
       "      <td>1.254103</td>\n",
       "      <td>1.206651</td>\n",
       "      <td>1.458122</td>\n",
       "      <td>-0.442377</td>\n",
       "      <td>-0.359953</td>\n",
       "      <td>-0.326920</td>\n",
       "      <td>-0.270356</td>\n",
       "      <td>-0.357682</td>\n",
       "      <td>-0.103323</td>\n",
       "      <td>0.772927</td>\n",
       "      <td>-0.487128</td>\n",
       "      <td>0.406559</td>\n",
       "      <td>0</td>\n",
       "      <td>0</td>\n",
       "      <td>1</td>\n",
       "      <td>0</td>\n",
       "    </tr>\n",
       "    <tr>\n",
       "      <th>4</th>\n",
       "      <td>Justicia</td>\n",
       "      <td>Centro</td>\n",
       "      <td>40.419949</td>\n",
       "      <td>-3.69764</td>\n",
       "      <td>0.343203</td>\n",
       "      <td>-0.347512</td>\n",
       "      <td>0.751150</td>\n",
       "      <td>0.659445</td>\n",
       "      <td>115</td>\n",
       "      <td>0.421073</td>\n",
       "      <td>-0.703313</td>\n",
       "      <td>1.587393</td>\n",
       "      <td>-0.522511</td>\n",
       "      <td>-0.064685</td>\n",
       "      <td>-0.008463</td>\n",
       "      <td>1.010003</td>\n",
       "      <td>1.123304</td>\n",
       "      <td>0.918123</td>\n",
       "      <td>1.311603</td>\n",
       "      <td>0.439822</td>\n",
       "      <td>0.004184</td>\n",
       "      <td>-0.326920</td>\n",
       "      <td>-0.270356</td>\n",
       "      <td>-0.357682</td>\n",
       "      <td>-0.103323</td>\n",
       "      <td>0.775268</td>\n",
       "      <td>-0.481796</td>\n",
       "      <td>0.408451</td>\n",
       "      <td>0</td>\n",
       "      <td>0</td>\n",
       "      <td>1</td>\n",
       "      <td>0</td>\n",
       "    </tr>\n",
       "  </tbody>\n",
       "</table>\n",
       "</div>"
      ],
      "text/plain": [
       "  neighbourhood_cleansed neighbourhood_group_cleansed   latitude  longitude  \\\n",
       "0         Hispanoamérica                    Chamartín  40.456280   -3.67763   \n",
       "1               Cármenes                       Latina  40.403412   -3.74084   \n",
       "2                Legazpi                   Arganzuela  40.386951   -3.69304   \n",
       "3            Universidad                       Centro  40.422020   -3.70395   \n",
       "4               Justicia                       Centro  40.419949   -3.69764   \n",
       "\n",
       "   accommodates  bathrooms  bedrooms      beds  price  security_deposit  \\\n",
       "0     -0.645354  -0.347512 -0.411921 -1.292693     70         -0.459455   \n",
       "1     -1.139633  -0.347512 -0.411921 -0.641980     17         -0.459455   \n",
       "2      1.331759   1.052522  1.914222  1.960871     50          0.861337   \n",
       "3     -0.151076  -0.347512 -1.574992 -0.641980     80          0.421073   \n",
       "4      0.343203  -0.347512  0.751150  0.659445    115          0.421073   \n",
       "\n",
       "   cleaning_fee  guests_included  extra_people  minimum_nights  \\\n",
       "0     -0.556685         0.163400      0.397414       -0.157275   \n",
       "1     -0.703313        -0.548597     -0.031884       -0.018390   \n",
       "2      0.176453        -0.548597      0.090772        0.490853   \n",
       "3      0.176453         0.163400     -0.522511        0.027905   \n",
       "4     -0.703313         1.587393     -0.522511       -0.064685   \n",
       "\n",
       "   maximum_nights  availability_30  availability_60  availability_90  \\\n",
       "0       -0.007999         0.832845         1.036105         1.062387   \n",
       "1       -0.008424        -1.115888        -1.231071        -1.303542   \n",
       "2       -0.007522        -0.938731        -1.143872        -1.245836   \n",
       "3       -0.007522         1.275739         1.254103         1.206651   \n",
       "4       -0.008463         1.010003         1.123304         0.918123   \n",
       "\n",
       "   availability_365  number_of_reviews  number_of_reviews_ltm  \\\n",
       "0         -0.593153           0.531084              -0.041333   \n",
       "1         -0.007074          -0.077329              -0.678573   \n",
       "2          0.366551          -0.579270              -0.678573   \n",
       "3          1.458122          -0.442377              -0.359953   \n",
       "4          1.311603           0.439822               0.004184   \n",
       "\n",
       "   calculated_host_listings_count  \\\n",
       "0                       -0.326920   \n",
       "1                       -0.295958   \n",
       "2                       -0.172109   \n",
       "3                       -0.326920   \n",
       "4                       -0.326920   \n",
       "\n",
       "   calculated_host_listings_count_entire_homes  \\\n",
       "0                                    -0.301845   \n",
       "1                                    -0.301845   \n",
       "2                                    -0.112914   \n",
       "3                                    -0.270356   \n",
       "4                                    -0.270356   \n",
       "\n",
       "   calculated_host_listings_count_private_rooms  \\\n",
       "0                                     -0.131436   \n",
       "1                                      0.094811   \n",
       "2                                     -0.357682   \n",
       "3                                     -0.357682   \n",
       "4                                     -0.357682   \n",
       "\n",
       "   calculated_host_listings_count_shared_rooms         x         y         z  \\\n",
       "0                                    -0.103323  0.796991 -0.473457  0.375026   \n",
       "1                                    -0.103323  0.748058 -0.510948  0.423488   \n",
       "2                                    -0.103323  0.765575 -0.470904  0.438342   \n",
       "3                                    -0.103323  0.772927 -0.487128  0.406559   \n",
       "4                                    -0.103323  0.775268 -0.481796  0.408451   \n",
       "\n",
       "   room_type_private_room  room_type_shared_room  air_conditioning  dishwasher  \n",
       "0                       1                      0                 1           0  \n",
       "1                       1                      0                 1           0  \n",
       "2                       0                      0                 1           1  \n",
       "3                       0                      0                 1           0  \n",
       "4                       0                      0                 1           0  "
      ]
     },
     "execution_count": 4,
     "metadata": {},
     "output_type": "execute_result"
    }
   ],
   "source": [
    "listings.head()"
   ]
  },
  {
   "cell_type": "markdown",
   "id": "dd511290",
   "metadata": {},
   "source": [
    "**Preparación de los 4 paquete de datos**"
   ]
  },
  {
   "cell_type": "code",
   "execution_count": 5,
   "id": "df9f4d72",
   "metadata": {},
   "outputs": [],
   "source": [
    "df_xyz=listings.drop(columns=['latitude', 'longitude', 'neighbourhood_cleansed', 'neighbourhood_group_cleansed'])\n",
    "\n",
    "df_lat_lon=listings.drop(columns=['x', 'y', 'z', 'neighbourhood_cleansed', 'neighbourhood_group_cleansed'])\n",
    "\n",
    "df_barrio=listings.drop(columns=['x', 'y', 'z', 'latitude', 'longitude', 'neighbourhood_group_cleansed'])\n",
    "df_barrio=pd.get_dummies(df_barrio, prefix='', prefix_sep='')\n",
    "\n",
    "df_distrito=listings.drop(columns=['x', 'y', 'z', 'latitude', 'longitude', 'neighbourhood_cleansed'])\n",
    "df_distrito=pd.get_dummies(df_distrito, prefix='', prefix_sep='')"
   ]
  },
  {
   "cell_type": "code",
   "execution_count": 6,
   "id": "35476746",
   "metadata": {},
   "outputs": [
    {
     "data": {
      "text/plain": [
       "(18936, 28)"
      ]
     },
     "execution_count": 6,
     "metadata": {},
     "output_type": "execute_result"
    }
   ],
   "source": [
    "df_xyz.shape"
   ]
  },
  {
   "cell_type": "code",
   "execution_count": 7,
   "id": "a976659e",
   "metadata": {},
   "outputs": [
    {
     "data": {
      "text/plain": [
       "(18936, 27)"
      ]
     },
     "execution_count": 7,
     "metadata": {},
     "output_type": "execute_result"
    }
   ],
   "source": [
    "df_lat_lon.shape"
   ]
  },
  {
   "cell_type": "code",
   "execution_count": 8,
   "id": "9272c870",
   "metadata": {},
   "outputs": [
    {
     "data": {
      "text/plain": [
       "(18936, 152)"
      ]
     },
     "execution_count": 8,
     "metadata": {},
     "output_type": "execute_result"
    }
   ],
   "source": [
    "df_barrio.shape"
   ]
  },
  {
   "cell_type": "code",
   "execution_count": 9,
   "id": "c995be9b",
   "metadata": {},
   "outputs": [
    {
     "data": {
      "text/plain": [
       "(18936, 46)"
      ]
     },
     "execution_count": 9,
     "metadata": {},
     "output_type": "execute_result"
    }
   ],
   "source": [
    "df_distrito.shape"
   ]
  },
  {
   "cell_type": "code",
   "execution_count": 10,
   "id": "e925aece",
   "metadata": {},
   "outputs": [],
   "source": [
    "data={'esféricas': df_xyz, 'latitud-longitud': df_lat_lon, \n",
    "      'barrio': df_barrio, 'distrito': df_distrito}"
   ]
  },
  {
   "cell_type": "markdown",
   "id": "66fa1011",
   "metadata": {},
   "source": [
    "### Testeo de varios modelos en varios paquetes de datos"
   ]
  },
  {
   "cell_type": "code",
   "execution_count": 11,
   "id": "6f5818a4",
   "metadata": {},
   "outputs": [],
   "source": [
    "from sklearn.ensemble import RandomForestRegressor as RFR\n",
    "\n",
    "from xgboost import XGBRegressor as XGBR\n",
    "\n",
    "from lightgbm import LGBMRegressor as LGBMR\n",
    "\n",
    "from catboost import CatBoostRegressor as CTR\n",
    "\n",
    "from sklearn.model_selection import train_test_split as tts \n",
    "\n",
    "from sklearn.metrics import mean_squared_error as mse \n",
    "from sklearn.metrics import mean_absolute_error as mae\n",
    "from sklearn.metrics import r2_score as r2\n",
    "\n",
    "from tqdm.notebook import tqdm"
   ]
  },
  {
   "cell_type": "code",
   "execution_count": 12,
   "id": "8165c398",
   "metadata": {},
   "outputs": [],
   "source": [
    "def test_model_data(modelo: object, data: pd.DataFrame, dataname: str) -> str:\n",
    "    \n",
    "    X=data.drop('price', axis=1)\n",
    "    y=data.price\n",
    "\n",
    "    X_train, X_test, y_train, y_test = tts(X, y, train_size=0.8, test_size=0.2, random_state=42)\n",
    "    \n",
    "    modelo.fit(X_train, y_train)\n",
    "    \n",
    "    y_pred=modelo.predict(X_test)\n",
    "    \n",
    "    print(dataname)\n",
    "    print(f'RMSE: {mse(y_test, y_pred, squared=False)}')\n",
    "    print(f'MAE: {mae(y_test, y_pred)}')\n",
    "    print(f'R2: {r2(y_test, y_pred)}')\n",
    "    print()\n",
    "    return 'Done!'"
   ]
  },
  {
   "cell_type": "code",
   "execution_count": 13,
   "id": "3180846f",
   "metadata": {},
   "outputs": [
    {
     "name": "stdout",
     "output_type": "stream",
     "text": [
      "\n",
      "\u001b[1mPrueba Random Forest Regressor\u001b[0m\n"
     ]
    },
    {
     "data": {
      "application/vnd.jupyter.widget-view+json": {
       "model_id": "3d2a870bc4674875930cda2fb49ab160",
       "version_major": 2,
       "version_minor": 0
      },
      "text/plain": [
       "  0%|          | 0/4 [00:00<?, ?it/s]"
      ]
     },
     "metadata": {},
     "output_type": "display_data"
    },
    {
     "name": "stdout",
     "output_type": "stream",
     "text": [
      "esféricas\n",
      "RMSE: 23.198186228052037\n",
      "MAE: 15.717410242872228\n",
      "R2: 0.6705536512010941\n",
      "\n",
      "latitud-longitud\n",
      "RMSE: 23.059398039315468\n",
      "MAE: 15.68193505807814\n",
      "R2: 0.6744838280617724\n",
      "\n",
      "barrio\n",
      "RMSE: 23.525056264017877\n",
      "MAE: 15.71948916415627\n",
      "R2: 0.6612042300617703\n",
      "\n",
      "distrito\n",
      "RMSE: 23.37222262675112\n",
      "MAE: 15.822342731809139\n",
      "R2: 0.6655919937641224\n",
      "\n",
      "CPU times: user 37.7 s, sys: 246 ms, total: 38 s\n",
      "Wall time: 39.4 s\n"
     ]
    },
    {
     "data": {
      "text/plain": [
       "['Done!', 'Done!', 'Done!', 'Done!']"
      ]
     },
     "execution_count": 13,
     "metadata": {},
     "output_type": "execute_result"
    }
   ],
   "source": [
    "%%time\n",
    "\n",
    "print('\\n\\033[1m' + 'Prueba Random Forest Regressor' + '\\033[0m')\n",
    "\n",
    "[test_model_data(RFR(), d, n) for n,d in tqdm(data.items())]"
   ]
  },
  {
   "cell_type": "code",
   "execution_count": 14,
   "id": "ecd32156",
   "metadata": {},
   "outputs": [
    {
     "name": "stdout",
     "output_type": "stream",
     "text": [
      "\n",
      "\u001b[1mPrueba XG Boosting Regressor\u001b[0m\n"
     ]
    },
    {
     "data": {
      "application/vnd.jupyter.widget-view+json": {
       "model_id": "41a8617e66c34a57971f953ca235787c",
       "version_major": 2,
       "version_minor": 0
      },
      "text/plain": [
       "  0%|          | 0/4 [00:00<?, ?it/s]"
      ]
     },
     "metadata": {},
     "output_type": "display_data"
    },
    {
     "name": "stdout",
     "output_type": "stream",
     "text": [
      "esféricas\n",
      "RMSE: 22.60748291015625\n",
      "MAE: 15.415035247802734\n",
      "R2: 0.6871176567546005\n",
      "\n",
      "latitud-longitud\n",
      "RMSE: 22.395402908325195\n",
      "MAE: 15.370203018188477\n",
      "R2: 0.6929604138122123\n",
      "\n",
      "barrio\n",
      "RMSE: 22.945114135742188\n",
      "MAE: 15.653074264526367\n",
      "R2: 0.6777023962519406\n",
      "\n",
      "distrito\n",
      "RMSE: 22.652978897094727\n",
      "MAE: 15.491287231445312\n",
      "R2: 0.6858570513410438\n",
      "\n",
      "CPU times: user 30.3 s, sys: 5.99 s, total: 36.3 s\n",
      "Wall time: 11.6 s\n"
     ]
    },
    {
     "data": {
      "text/plain": [
       "['Done!', 'Done!', 'Done!', 'Done!']"
      ]
     },
     "execution_count": 14,
     "metadata": {},
     "output_type": "execute_result"
    }
   ],
   "source": [
    "%%time\n",
    "\n",
    "print('\\n\\033[1m' + 'Prueba XG Boosting Regressor' + '\\033[0m')\n",
    "\n",
    "[test_model_data(XGBR(), d, n) for n,d in tqdm(data.items())]"
   ]
  },
  {
   "cell_type": "code",
   "execution_count": 15,
   "id": "88ae78fb",
   "metadata": {},
   "outputs": [
    {
     "name": "stdout",
     "output_type": "stream",
     "text": [
      "\n",
      "\u001b[1mPrueba LightGBM Regressor\u001b[0m\n"
     ]
    },
    {
     "data": {
      "application/vnd.jupyter.widget-view+json": {
       "model_id": "fe4f9bb84e5844fb84a4bdcb41f87631",
       "version_major": 2,
       "version_minor": 0
      },
      "text/plain": [
       "  0%|          | 0/4 [00:00<?, ?it/s]"
      ]
     },
     "metadata": {},
     "output_type": "display_data"
    },
    {
     "name": "stdout",
     "output_type": "stream",
     "text": [
      "esféricas\n",
      "RMSE: 22.31358300843586\n",
      "MAE: 15.282772968407693\n",
      "R2: 0.6951997889875593\n",
      "\n",
      "latitud-longitud\n",
      "RMSE: 22.321120221253018\n",
      "MAE: 15.304918853648152\n",
      "R2: 0.6949938398075091\n",
      "\n",
      "barrio\n",
      "RMSE: 22.73635614020502\n",
      "MAE: 15.659719321941182\n",
      "R2: 0.6835403346621899\n",
      "\n",
      "distrito\n",
      "RMSE: 22.761233246210807\n",
      "MAE: 15.630341002904007\n",
      "R2: 0.6828474437242844\n",
      "\n",
      "CPU times: user 2.14 s, sys: 2.63 s, total: 4.76 s\n",
      "Wall time: 3.64 s\n"
     ]
    },
    {
     "data": {
      "text/plain": [
       "['Done!', 'Done!', 'Done!', 'Done!']"
      ]
     },
     "execution_count": 15,
     "metadata": {},
     "output_type": "execute_result"
    }
   ],
   "source": [
    "%%time\n",
    "\n",
    "print('\\n\\033[1m' + 'Prueba LightGBM Regressor' + '\\033[0m')\n",
    "\n",
    "[test_model_data(LGBMR(), d, n) for n,d in tqdm(data.items())]"
   ]
  },
  {
   "cell_type": "code",
   "execution_count": 16,
   "id": "904a09a5",
   "metadata": {},
   "outputs": [
    {
     "name": "stdout",
     "output_type": "stream",
     "text": [
      "\n",
      "\u001b[1mPrueba Catboost Regressor\u001b[0m\n"
     ]
    },
    {
     "data": {
      "application/vnd.jupyter.widget-view+json": {
       "model_id": "d99aae86f6894900b1b4ea053b1314ed",
       "version_major": 2,
       "version_minor": 0
      },
      "text/plain": [
       "  0%|          | 0/4 [00:00<?, ?it/s]"
      ]
     },
     "metadata": {},
     "output_type": "display_data"
    },
    {
     "name": "stdout",
     "output_type": "stream",
     "text": [
      "esféricas\n",
      "RMSE: 21.768811996239744\n",
      "MAE: 14.882441666578858\n",
      "R2: 0.7099010913476712\n",
      "\n",
      "latitud-longitud\n",
      "RMSE: 21.713858907632996\n",
      "MAE: 14.82603810439655\n",
      "R2: 0.7113638913656304\n",
      "\n",
      "barrio\n",
      "RMSE: 22.356831249708588\n",
      "MAE: 15.317336812557775\n",
      "R2: 0.6940171149343588\n",
      "\n",
      "distrito\n",
      "RMSE: 22.167798256429837\n",
      "MAE: 15.178265646364341\n",
      "R2: 0.6991695741565194\n",
      "\n",
      "CPU times: user 24.6 s, sys: 10.2 s, total: 34.7 s\n",
      "Wall time: 17.3 s\n"
     ]
    },
    {
     "data": {
      "text/plain": [
       "['Done!', 'Done!', 'Done!', 'Done!']"
      ]
     },
     "execution_count": 16,
     "metadata": {},
     "output_type": "execute_result"
    }
   ],
   "source": [
    "%%time\n",
    "\n",
    "print('\\n\\033[1m' + 'Prueba Catboost Regressor' + '\\033[0m')\n",
    "\n",
    "[test_model_data(CTR(verbose=0), d, n) for n,d in tqdm(data.items())]"
   ]
  },
  {
   "cell_type": "code",
   "execution_count": 17,
   "id": "6181d36d",
   "metadata": {},
   "outputs": [
    {
     "name": "stdout",
     "output_type": "stream",
     "text": [
      "\n",
      "\u001b[1mCatboost Regressor\u001b[0m\n",
      "latitud-longitud\n",
      "RMSE: 21.713858907632996\n",
      "MAE: 14.82603810439655\n",
      "R2: 0.7113638913656304\n",
      "\n"
     ]
    },
    {
     "data": {
      "text/plain": [
       "'Done!'"
      ]
     },
     "execution_count": 17,
     "metadata": {},
     "output_type": "execute_result"
    }
   ],
   "source": [
    "print('\\n\\033[1m' + 'Catboost Regressor' + '\\033[0m')\n",
    "\n",
    "test_model_data(CTR(verbose=0), df_lat_lon, 'latitud-longitud')"
   ]
  },
  {
   "cell_type": "markdown",
   "id": "094476e4",
   "metadata": {},
   "source": [
    "Este último modelo es funciona mejor en términos de MAE que usando la x-y-z, y mejor que usando las variables dummies. Esta será la selección final de variables y también el modelo que vamos a usar. En el próximo notebook entrenaré el modelo, ajustaré hiperparámetros y evaluaré."
   ]
  }
 ],
 "metadata": {
  "kernelspec": {
   "display_name": "clase",
   "language": "python",
   "name": "clase"
  },
  "language_info": {
   "codemirror_mode": {
    "name": "ipython",
    "version": 3
   },
   "file_extension": ".py",
   "mimetype": "text/x-python",
   "name": "python",
   "nbconvert_exporter": "python",
   "pygments_lexer": "ipython3",
   "version": "3.8.13"
  }
 },
 "nbformat": 4,
 "nbformat_minor": 5
}

{
 "cells": [
  {
   "cell_type": "markdown",
   "id": "cabfce7d",
   "metadata": {},
   "source": [
    "# 2.1 - seleccion de caracteristicas"
   ]
  },
  {
   "cell_type": "code",
   "execution_count": 2,
   "id": "20b26d88",
   "metadata": {},
   "outputs": [],
   "source": [
    "# librerias\n",
    "\n",
    "import numpy as np\n",
    "import pandas as pd\n",
    "\n",
    "pd.set_option('display.max_columns', None)"
   ]
  },
  {
   "cell_type": "code",
   "execution_count": 3,
   "id": "271b56ce",
   "metadata": {},
   "outputs": [
    {
     "name": "stdout",
     "output_type": "stream",
     "text": [
      "<class 'pandas.core.frame.DataFrame'>\n",
      "RangeIndex: 21312 entries, 0 to 21311\n",
      "Columns: 246 entries, id to Refrigerator\n",
      "dtypes: float32(5), int16(10), int32(3), int8(226), object(2)\n",
      "memory usage: 8.4 MB\n"
     ]
    }
   ],
   "source": [
    "listings=pd.read_csv('../data/transform_data/listings.csv')\n",
    "\n",
    "for c in listings.select_dtypes(include='int'):\n",
    "    listings[c]=pd.to_numeric(listings[c], downcast='integer')\n",
    "\n",
    "for c in listings.select_dtypes(include='float'):\n",
    "    listings[c]=pd.to_numeric(listings[c], downcast='float')\n",
    "    \n",
    "listings.info(memory_usage='deep')"
   ]
  },
  {
   "cell_type": "code",
   "execution_count": null,
   "id": "78285f36",
   "metadata": {},
   "outputs": [],
   "source": []
  },
  {
   "cell_type": "code",
   "execution_count": null,
   "id": "c1161e45",
   "metadata": {},
   "outputs": [],
   "source": []
  },
  {
   "cell_type": "code",
   "execution_count": null,
   "id": "c1ed16f2",
   "metadata": {},
   "outputs": [],
   "source": []
  },
  {
   "cell_type": "code",
   "execution_count": null,
   "id": "825bade7",
   "metadata": {},
   "outputs": [],
   "source": []
  },
  {
   "cell_type": "code",
   "execution_count": null,
   "id": "45798003",
   "metadata": {},
   "outputs": [],
   "source": []
  },
  {
   "cell_type": "code",
   "execution_count": null,
   "id": "1c702d55",
   "metadata": {},
   "outputs": [],
   "source": []
  }
 ],
 "metadata": {
  "kernelspec": {
   "display_name": "clase",
   "language": "python",
   "name": "clase"
  },
  "language_info": {
   "codemirror_mode": {
    "name": "ipython",
    "version": 3
   },
   "file_extension": ".py",
   "mimetype": "text/x-python",
   "name": "python",
   "nbconvert_exporter": "python",
   "pygments_lexer": "ipython3",
   "version": "3.8.13"
  }
 },
 "nbformat": 4,
 "nbformat_minor": 5
}

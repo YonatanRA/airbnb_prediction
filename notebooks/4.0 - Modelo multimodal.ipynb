{
 "cells": [
  {
   "cell_type": "markdown",
   "id": "011583d7",
   "metadata": {},
   "source": [
    "# 4.0 - Modelo multimodal"
   ]
  },
  {
   "cell_type": "code",
   "execution_count": null,
   "id": "ccaa96a9",
   "metadata": {},
   "outputs": [],
   "source": [
    "# librerias\n",
    "\n",
    "import pandas as pd\n",
    "pd.set_option('display.max_columns', None)\n",
    "\n",
    "from multimodal_transformers.data import load_data\n",
    "from multimodal_transformers.model import AutoModelWithTabular, TabularConfig\n",
    "\n",
    "from transformers import AutoTokenizer, AutoConfig, Trainer, TrainingArguments\n",
    "\n",
    "import torch\n",
    "\n",
    "import warnings\n",
    "warnings.filterwarnings('ignore')"
   ]
  },
  {
   "cell_type": "code",
   "execution_count": null,
   "id": "94de6f39",
   "metadata": {},
   "outputs": [],
   "source": [
    "listings=pd.read_csv('../data/clean_data/listings.csv')\n",
    "\n",
    "listings.head()"
   ]
  },
  {
   "cell_type": "code",
   "execution_count": null,
   "id": "0f45d06a",
   "metadata": {},
   "outputs": [],
   "source": [
    "reviews=pd.read_csv('../data/raw_data/reviews.csv.gz', compression='gzip', low_memory=False)\n",
    "\n",
    "reviews.head()"
   ]
  },
  {
   "cell_type": "code",
   "execution_count": null,
   "id": "fe522095",
   "metadata": {},
   "outputs": [],
   "source": [
    "todas=reviews.groupby('listing_id').agg({'comments': 'sum'}).reset_index()\n",
    "\n",
    "todas.info(memory_usage='deep')"
   ]
  },
  {
   "cell_type": "code",
   "execution_count": null,
   "id": "5c5191e2",
   "metadata": {},
   "outputs": [],
   "source": [
    "primera=reviews.groupby('listing_id').first().reset_index()\n",
    "\n",
    "primera.info(memory_usage='deep')"
   ]
  },
  {
   "cell_type": "code",
   "execution_count": null,
   "id": "e1227fb9",
   "metadata": {},
   "outputs": [],
   "source": [
    "total=listings.merge(todas, left_on='id', right_on='listing_id')\n",
    "\n",
    "total=total.dropna()\n",
    "\n",
    "total.head()"
   ]
  },
  {
   "cell_type": "code",
   "execution_count": null,
   "id": "ab1dcd5a",
   "metadata": {},
   "outputs": [],
   "source": [
    "total.comments[0]"
   ]
  },
  {
   "cell_type": "code",
   "execution_count": null,
   "id": "28121594",
   "metadata": {},
   "outputs": [],
   "source": []
  }
 ],
 "metadata": {
  "kernelspec": {
   "display_name": "prueba",
   "language": "python",
   "name": "prueba"
  },
  "language_info": {
   "codemirror_mode": {
    "name": "ipython",
    "version": 3
   },
   "file_extension": ".py",
   "mimetype": "text/x-python",
   "name": "python",
   "nbconvert_exporter": "python",
   "pygments_lexer": "ipython3",
   "version": "3.7.13"
  }
 },
 "nbformat": 4,
 "nbformat_minor": 5
}

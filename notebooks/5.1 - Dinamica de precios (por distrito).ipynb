{
 "cells": [
  {
   "cell_type": "code",
   "execution_count": 1,
   "id": "c0ffff13",
   "metadata": {},
   "outputs": [],
   "source": [
    "import numpy as np\n",
    "import pandas as pd\n",
    "\n",
    "pd.options.plotting.backend = 'plotly'\n",
    "pd.set_option('display.max_columns', None)\n",
    "pd.set_option('display.max_rows', None)\n",
    "\n",
    "import warnings\n",
    "warnings.filterwarnings('ignore')\n",
    "\n",
    "import numpy as np\n",
    "\n",
    "from scipy.optimize import minimize\n",
    "from scipy.stats import poisson"
   ]
  },
  {
   "cell_type": "code",
   "execution_count": 2,
   "id": "f996ab11",
   "metadata": {},
   "outputs": [],
   "source": [
    "def price_clean(x: str) -> float:\n",
    "    \n",
    "    \"\"\"\n",
    "    Esta función limpia una string, quitando $ y la coma y devuelve un float\n",
    "    \n",
    "    param x: string a limpiar\n",
    "    \n",
    "    return: float\n",
    "    \"\"\"\n",
    "    x=str(x).replace('$', '').replace(',', '')\n",
    "    return float(x)"
   ]
  },
  {
   "cell_type": "code",
   "execution_count": 3,
   "id": "21f4962c",
   "metadata": {},
   "outputs": [],
   "source": [
    "def loglikelihood(x: int, price: float, theta_1: float, theta_0: float) -> float:\n",
    "    \"\"\"\n",
    "    The log-likelihood is the model function to be maximize for the parameter extraction (MLE).\n",
    "    \n",
    "    param x: airbnb count (by day), int\n",
    "    param price: average price (by day), float\n",
    "    param theta_1: parameter of demand function (exp(theta_1 * price + theta_0)), float\n",
    "    param theta_0: intercept, float\n",
    "    \n",
    "    return: log-likelihood evaluation, float\n",
    "    \"\"\"\n",
    "    lamb = np.exp(theta_1 * price + theta_0)\n",
    "\n",
    "    return -lamb + x * np.log(lamb)"
   ]
  },
  {
   "cell_type": "code",
   "execution_count": 4,
   "id": "73475e73",
   "metadata": {},
   "outputs": [],
   "source": [
    "def fit(data: pd.DataFrame, method: str='trust-constr') -> dict:\n",
    "    \"\"\"\n",
    "    Fit function to obtain demand parameters.\n",
    "    \n",
    "    data: pd.DataFrame(), needs columns 'count_' and 'price'\n",
    "    method: optimization method, str (for scipy minimize)\n",
    "    \n",
    "    return: dictionary with parameters\n",
    "    \"\"\"\n",
    "    \n",
    "    # initial values for theta_1 and theta_0\n",
    "    val_initial = np.array([0, 0])\n",
    "    \n",
    "    # minus loglikelihood, function to be minimize\n",
    "    def minus_loglike(params):\n",
    "        \n",
    "        theta_1 = params[0]\n",
    "        theta_0 = params[1]\n",
    "\n",
    "        log_like = [loglikelihood(n.count_, n.avg_price, theta_1, theta_0) for n in data.itertuples()]\n",
    "\n",
    "        return -sum(log_like)\n",
    "\n",
    "    output = minimize(minus_loglike, val_initial, method=method)\n",
    "\n",
    "    return dict(zip(['theta_1', 'theta_0'], output.x))"
   ]
  },
  {
   "cell_type": "code",
   "execution_count": 5,
   "id": "50aa3052",
   "metadata": {},
   "outputs": [],
   "source": [
    "def extract_data(available='t', lower=0, upper=10000) -> pd.DataFrame:\n",
    "    \"\"\"\n",
    "    \n",
    "    \"\"\"\n",
    "    listings=pd.read_csv('../data/raw_data/listings.csv.gz', compression='gzip', low_memory=False,\n",
    "                         usecols=['id', 'neighbourhood_group_cleansed'])\n",
    "    \n",
    "    calendar=pd.read_csv('../data/raw_data/calendar.csv.gz', compression='gzip', low_memory=False,\n",
    "                         usecols=['listing_id', 'available', 'date', 'price'])\n",
    "    \n",
    "    \n",
    "    data=calendar.merge(listings, left_on='listing_id', right_on='id')\n",
    "\n",
    "    data.price=data.price.apply(price_clean)\n",
    "\n",
    "    data=data[(data.price>lower) & (data.price<upper)]\n",
    "\n",
    "    data=data[data.available==available]\n",
    "    \n",
    "    df=data.groupby(['date', 'neighbourhood_group_cleansed']).agg({'date': 'count', 'price': 'mean'})\n",
    "    \n",
    "    df.columns=['count_', 'avg_price']\n",
    "    \n",
    "    df.reset_index(inplace=True)\n",
    "    \n",
    "    df.columns=['date', 'neighbourhood', 'count_', 'avg_price']\n",
    "    \n",
    "    df.date=pd.to_datetime(df.date)\n",
    "    \n",
    "    return df"
   ]
  },
  {
   "cell_type": "code",
   "execution_count": 6,
   "id": "66342655",
   "metadata": {},
   "outputs": [],
   "source": [
    "def neighbourhood(df: pd.DataFrame, b: str) -> dict:\n",
    "    print(b)\n",
    "    df_barrio=df[df.neighbourhood==b]\n",
    "    \n",
    "    df_barrio.avg_price=df_barrio.avg_price/100\n",
    "    \n",
    "    all_dates=pd.DataFrame(pd.date_range(df.date.min(), df.date.max()), columns=['date'])\n",
    "    all_dates[['count_', 'price_avg']] = 0, 0.9\n",
    "    \n",
    "    df_barrio=all_dates.merge(right=df_barrio, how='left', on='date')\n",
    "\n",
    "    df_barrio.count__y.fillna(df_barrio.count__x, inplace=True)\n",
    "    df_barrio.avg_price.fillna(df_barrio.price_avg, inplace=True)\n",
    "    df_barrio.neighbourhood.fillna(b, inplace=True)\n",
    "\n",
    "    df_barrio=df_barrio[['date', 'count__y', 'avg_price']]\n",
    "\n",
    "    df_barrio.rename(columns={'count__y': 'count_'}, inplace=True)\n",
    "    \n",
    "    \n",
    "    fig=df_barrio.plot.scatter(x='date', y='count_', title=b)\n",
    "    fig.show();\n",
    "    \n",
    "    params=fit(df_barrio)\n",
    "    \n",
    "    prices=[round(0.1 + i*0.01, 2) for i in range(500)]\n",
    "\n",
    "    demands=[np.exp(params['theta_1'] * p + params['theta_0']) for p in prices]\n",
    "\n",
    "    results=pd.DataFrame()\n",
    "\n",
    "    results['price']=[p*100 for p in prices]\n",
    "\n",
    "    results['demand']=demands\n",
    "\n",
    "    results['income']=results.price * results.demand\n",
    "    \n",
    "    optimus=0\n",
    "    if params['theta_1']<0:\n",
    "        optimus=results[results.income==results.income.max()].price.values[0]\n",
    "    else:\n",
    "        optimus=df_barrio.avg_price.mean()*100\n",
    "    \n",
    "    fig=results.plot(kind='scatter', x='price', y='demand', title=b)\n",
    "    fig.show();\n",
    "    \n",
    "    fig=results.plot(kind='scatter', x='price', y='income', title=b)\n",
    "    fig.show();\n",
    "    \n",
    "    display(results[results.income==results.income.max()])\n",
    "    \n",
    "    \n",
    "    return  {'barrio': b, \n",
    "             'optimo': optimus,\n",
    "             'params': params, \n",
    "             'converge': params['theta_1']<0,\n",
    "             'describe': df_barrio.describe().to_dict(),\n",
    "             'average': df_barrio.avg_price.mean()}\n"
   ]
  },
  {
   "cell_type": "markdown",
   "id": "0aa32a0a",
   "metadata": {},
   "source": [
    "**Arganzuela**"
   ]
  },
  {
   "cell_type": "code",
   "execution_count": 20,
   "id": "64af1948",
   "metadata": {},
   "outputs": [
    {
     "name": "stdout",
     "output_type": "stream",
     "text": [
      "CPU times: user 5.61 s, sys: 762 ms, total: 6.38 s\n",
      "Wall time: 6.74 s\n"
     ]
    }
   ],
   "source": [
    "%%time\n",
    "\n",
    "data=extract_data(available='t', lower=50, upper=10000)"
   ]
  },
  {
   "cell_type": "code",
   "execution_count": 14,
   "id": "4a30555e",
   "metadata": {},
   "outputs": [],
   "source": [
    "barrios=data.neighbourhood.unique()"
   ]
  },
  {
   "cell_type": "code",
   "execution_count": 15,
   "id": "9289bc5c",
   "metadata": {},
   "outputs": [
    {
     "data": {
      "text/plain": [
       "array(['Arganzuela', 'Carabanchel', 'Centro', 'Chamartín', 'Chamberí',\n",
       "       'Ciudad Lineal', 'Moncloa - Aravaca', 'Puente de Vallecas',\n",
       "       'Retiro', 'Salamanca', 'San Blas - Canillejas', 'Tetuán', 'Usera',\n",
       "       'Villaverde', 'Barajas', 'Fuencarral - El Pardo', 'Hortaleza',\n",
       "       'Latina', 'Moratalaz', 'Vicálvaro', 'Villa de Vallecas'],\n",
       "      dtype=object)"
      ]
     },
     "execution_count": 15,
     "metadata": {},
     "output_type": "execute_result"
    }
   ],
   "source": [
    "barrios"
   ]
  },
  {
   "cell_type": "code",
   "execution_count": 21,
   "id": "adf32d30",
   "metadata": {
    "scrolled": false
   },
   "outputs": [
    {
     "name": "stdout",
     "output_type": "stream",
     "text": [
      "Arganzuela\n"
     ]
    },
    {
     "data": {
      "application/vnd.plotly.v1+json": {
       "config": {
        "plotlyServerURL": "https://plot.ly"
       },
       "data": [
        {
         "hovertemplate": "date=%{x}<br>count_=%{y}<extra></extra>",
         "legendgroup": "",
         "marker": {
          "color": "#636efa",
          "symbol": "circle"
         },
         "mode": "markers",
         "name": "",
         "orientation": "v",
         "showlegend": false,
         "type": "scatter",
         "x": [
          "2020-01-10T00:00:00",
          "2020-01-11T00:00:00",
          "2020-01-12T00:00:00",
          "2020-01-13T00:00:00",
          "2020-01-14T00:00:00",
          "2020-01-15T00:00:00",
          "2020-01-16T00:00:00",
          "2020-01-17T00:00:00",
          "2020-01-18T00:00:00",
          "2020-01-19T00:00:00",
          "2020-01-20T00:00:00",
          "2020-01-21T00:00:00",
          "2020-01-22T00:00:00",
          "2020-01-23T00:00:00",
          "2020-01-24T00:00:00",
          "2020-01-25T00:00:00",
          "2020-01-26T00:00:00",
          "2020-01-27T00:00:00",
          "2020-01-28T00:00:00",
          "2020-01-29T00:00:00",
          "2020-01-30T00:00:00",
          "2020-01-31T00:00:00",
          "2020-02-01T00:00:00",
          "2020-02-02T00:00:00",
          "2020-02-03T00:00:00",
          "2020-02-04T00:00:00",
          "2020-02-05T00:00:00",
          "2020-02-06T00:00:00",
          "2020-02-07T00:00:00",
          "2020-02-08T00:00:00",
          "2020-02-09T00:00:00",
          "2020-02-10T00:00:00",
          "2020-02-11T00:00:00",
          "2020-02-12T00:00:00",
          "2020-02-13T00:00:00",
          "2020-02-14T00:00:00",
          "2020-02-15T00:00:00",
          "2020-02-16T00:00:00",
          "2020-02-17T00:00:00",
          "2020-02-18T00:00:00",
          "2020-02-19T00:00:00",
          "2020-02-20T00:00:00",
          "2020-02-21T00:00:00",
          "2020-02-22T00:00:00",
          "2020-02-23T00:00:00",
          "2020-02-24T00:00:00",
          "2020-02-25T00:00:00",
          "2020-02-26T00:00:00",
          "2020-02-27T00:00:00",
          "2020-02-28T00:00:00",
          "2020-02-29T00:00:00",
          "2020-03-01T00:00:00",
          "2020-03-02T00:00:00",
          "2020-03-03T00:00:00",
          "2020-03-04T00:00:00",
          "2020-03-05T00:00:00",
          "2020-03-06T00:00:00",
          "2020-03-07T00:00:00",
          "2020-03-08T00:00:00",
          "2020-03-09T00:00:00",
          "2020-03-10T00:00:00",
          "2020-03-11T00:00:00",
          "2020-03-12T00:00:00",
          "2020-03-13T00:00:00",
          "2020-03-14T00:00:00",
          "2020-03-15T00:00:00",
          "2020-03-16T00:00:00",
          "2020-03-17T00:00:00",
          "2020-03-18T00:00:00",
          "2020-03-19T00:00:00",
          "2020-03-20T00:00:00",
          "2020-03-21T00:00:00",
          "2020-03-22T00:00:00",
          "2020-03-23T00:00:00",
          "2020-03-24T00:00:00",
          "2020-03-25T00:00:00",
          "2020-03-26T00:00:00",
          "2020-03-27T00:00:00",
          "2020-03-28T00:00:00",
          "2020-03-29T00:00:00",
          "2020-03-30T00:00:00",
          "2020-03-31T00:00:00",
          "2020-04-01T00:00:00",
          "2020-04-02T00:00:00",
          "2020-04-03T00:00:00",
          "2020-04-04T00:00:00",
          "2020-04-05T00:00:00",
          "2020-04-06T00:00:00",
          "2020-04-07T00:00:00",
          "2020-04-08T00:00:00",
          "2020-04-09T00:00:00",
          "2020-04-10T00:00:00",
          "2020-04-11T00:00:00",
          "2020-04-12T00:00:00",
          "2020-04-13T00:00:00",
          "2020-04-14T00:00:00",
          "2020-04-15T00:00:00",
          "2020-04-16T00:00:00",
          "2020-04-17T00:00:00",
          "2020-04-18T00:00:00",
          "2020-04-19T00:00:00",
          "2020-04-20T00:00:00",
          "2020-04-21T00:00:00",
          "2020-04-22T00:00:00",
          "2020-04-23T00:00:00",
          "2020-04-24T00:00:00",
          "2020-04-25T00:00:00",
          "2020-04-26T00:00:00",
          "2020-04-27T00:00:00",
          "2020-04-28T00:00:00",
          "2020-04-29T00:00:00",
          "2020-04-30T00:00:00",
          "2020-05-01T00:00:00",
          "2020-05-02T00:00:00",
          "2020-05-03T00:00:00",
          "2020-05-04T00:00:00",
          "2020-05-05T00:00:00",
          "2020-05-06T00:00:00",
          "2020-05-07T00:00:00",
          "2020-05-08T00:00:00",
          "2020-05-09T00:00:00",
          "2020-05-10T00:00:00",
          "2020-05-11T00:00:00",
          "2020-05-12T00:00:00",
          "2020-05-13T00:00:00",
          "2020-05-14T00:00:00",
          "2020-05-15T00:00:00",
          "2020-05-16T00:00:00",
          "2020-05-17T00:00:00",
          "2020-05-18T00:00:00",
          "2020-05-19T00:00:00",
          "2020-05-20T00:00:00",
          "2020-05-21T00:00:00",
          "2020-05-22T00:00:00",
          "2020-05-23T00:00:00",
          "2020-05-24T00:00:00",
          "2020-05-25T00:00:00",
          "2020-05-26T00:00:00",
          "2020-05-27T00:00:00",
          "2020-05-28T00:00:00",
          "2020-05-29T00:00:00",
          "2020-05-30T00:00:00",
          "2020-05-31T00:00:00",
          "2020-06-01T00:00:00",
          "2020-06-02T00:00:00",
          "2020-06-03T00:00:00",
          "2020-06-04T00:00:00",
          "2020-06-05T00:00:00",
          "2020-06-06T00:00:00",
          "2020-06-07T00:00:00",
          "2020-06-08T00:00:00",
          "2020-06-09T00:00:00",
          "2020-06-10T00:00:00",
          "2020-06-11T00:00:00",
          "2020-06-12T00:00:00",
          "2020-06-13T00:00:00",
          "2020-06-14T00:00:00",
          "2020-06-15T00:00:00",
          "2020-06-16T00:00:00",
          "2020-06-17T00:00:00",
          "2020-06-18T00:00:00",
          "2020-06-19T00:00:00",
          "2020-06-20T00:00:00",
          "2020-06-21T00:00:00",
          "2020-06-22T00:00:00",
          "2020-06-23T00:00:00",
          "2020-06-24T00:00:00",
          "2020-06-25T00:00:00",
          "2020-06-26T00:00:00",
          "2020-06-27T00:00:00",
          "2020-06-28T00:00:00",
          "2020-06-29T00:00:00",
          "2020-06-30T00:00:00",
          "2020-07-01T00:00:00",
          "2020-07-02T00:00:00",
          "2020-07-03T00:00:00",
          "2020-07-04T00:00:00",
          "2020-07-05T00:00:00",
          "2020-07-06T00:00:00",
          "2020-07-07T00:00:00",
          "2020-07-08T00:00:00",
          "2020-07-09T00:00:00",
          "2020-07-10T00:00:00",
          "2020-07-11T00:00:00",
          "2020-07-12T00:00:00",
          "2020-07-13T00:00:00",
          "2020-07-14T00:00:00",
          "2020-07-15T00:00:00",
          "2020-07-16T00:00:00",
          "2020-07-17T00:00:00",
          "2020-07-18T00:00:00",
          "2020-07-19T00:00:00",
          "2020-07-20T00:00:00",
          "2020-07-21T00:00:00",
          "2020-07-22T00:00:00",
          "2020-07-23T00:00:00",
          "2020-07-24T00:00:00",
          "2020-07-25T00:00:00",
          "2020-07-26T00:00:00",
          "2020-07-27T00:00:00",
          "2020-07-28T00:00:00",
          "2020-07-29T00:00:00",
          "2020-07-30T00:00:00",
          "2020-07-31T00:00:00",
          "2020-08-01T00:00:00",
          "2020-08-02T00:00:00",
          "2020-08-03T00:00:00",
          "2020-08-04T00:00:00",
          "2020-08-05T00:00:00",
          "2020-08-06T00:00:00",
          "2020-08-07T00:00:00",
          "2020-08-08T00:00:00",
          "2020-08-09T00:00:00",
          "2020-08-10T00:00:00",
          "2020-08-11T00:00:00",
          "2020-08-12T00:00:00",
          "2020-08-13T00:00:00",
          "2020-08-14T00:00:00",
          "2020-08-15T00:00:00",
          "2020-08-16T00:00:00",
          "2020-08-17T00:00:00",
          "2020-08-18T00:00:00",
          "2020-08-19T00:00:00",
          "2020-08-20T00:00:00",
          "2020-08-21T00:00:00",
          "2020-08-22T00:00:00",
          "2020-08-23T00:00:00",
          "2020-08-24T00:00:00",
          "2020-08-25T00:00:00",
          "2020-08-26T00:00:00",
          "2020-08-27T00:00:00",
          "2020-08-28T00:00:00",
          "2020-08-29T00:00:00",
          "2020-08-30T00:00:00",
          "2020-08-31T00:00:00",
          "2020-09-01T00:00:00",
          "2020-09-02T00:00:00",
          "2020-09-03T00:00:00",
          "2020-09-04T00:00:00",
          "2020-09-05T00:00:00",
          "2020-09-06T00:00:00",
          "2020-09-07T00:00:00",
          "2020-09-08T00:00:00",
          "2020-09-09T00:00:00",
          "2020-09-10T00:00:00",
          "2020-09-11T00:00:00",
          "2020-09-12T00:00:00",
          "2020-09-13T00:00:00",
          "2020-09-14T00:00:00",
          "2020-09-15T00:00:00",
          "2020-09-16T00:00:00",
          "2020-09-17T00:00:00",
          "2020-09-18T00:00:00",
          "2020-09-19T00:00:00",
          "2020-09-20T00:00:00",
          "2020-09-21T00:00:00",
          "2020-09-22T00:00:00",
          "2020-09-23T00:00:00",
          "2020-09-24T00:00:00",
          "2020-09-25T00:00:00",
          "2020-09-26T00:00:00",
          "2020-09-27T00:00:00",
          "2020-09-28T00:00:00",
          "2020-09-29T00:00:00",
          "2020-09-30T00:00:00",
          "2020-10-01T00:00:00",
          "2020-10-02T00:00:00",
          "2020-10-03T00:00:00",
          "2020-10-04T00:00:00",
          "2020-10-05T00:00:00",
          "2020-10-06T00:00:00",
          "2020-10-07T00:00:00",
          "2020-10-08T00:00:00",
          "2020-10-09T00:00:00",
          "2020-10-10T00:00:00",
          "2020-10-11T00:00:00",
          "2020-10-12T00:00:00",
          "2020-10-13T00:00:00",
          "2020-10-14T00:00:00",
          "2020-10-15T00:00:00",
          "2020-10-16T00:00:00",
          "2020-10-17T00:00:00",
          "2020-10-18T00:00:00",
          "2020-10-19T00:00:00",
          "2020-10-20T00:00:00",
          "2020-10-21T00:00:00",
          "2020-10-22T00:00:00",
          "2020-10-23T00:00:00",
          "2020-10-24T00:00:00",
          "2020-10-25T00:00:00",
          "2020-10-26T00:00:00",
          "2020-10-27T00:00:00",
          "2020-10-28T00:00:00",
          "2020-10-29T00:00:00",
          "2020-10-30T00:00:00",
          "2020-10-31T00:00:00",
          "2020-11-01T00:00:00",
          "2020-11-02T00:00:00",
          "2020-11-03T00:00:00",
          "2020-11-04T00:00:00",
          "2020-11-05T00:00:00",
          "2020-11-06T00:00:00",
          "2020-11-07T00:00:00",
          "2020-11-08T00:00:00",
          "2020-11-09T00:00:00",
          "2020-11-10T00:00:00",
          "2020-11-11T00:00:00",
          "2020-11-12T00:00:00",
          "2020-11-13T00:00:00",
          "2020-11-14T00:00:00",
          "2020-11-15T00:00:00",
          "2020-11-16T00:00:00",
          "2020-11-17T00:00:00",
          "2020-11-18T00:00:00",
          "2020-11-19T00:00:00",
          "2020-11-20T00:00:00",
          "2020-11-21T00:00:00",
          "2020-11-22T00:00:00",
          "2020-11-23T00:00:00",
          "2020-11-24T00:00:00",
          "2020-11-25T00:00:00",
          "2020-11-26T00:00:00",
          "2020-11-27T00:00:00",
          "2020-11-28T00:00:00",
          "2020-11-29T00:00:00",
          "2020-11-30T00:00:00",
          "2020-12-01T00:00:00",
          "2020-12-02T00:00:00",
          "2020-12-03T00:00:00",
          "2020-12-04T00:00:00",
          "2020-12-05T00:00:00",
          "2020-12-06T00:00:00",
          "2020-12-07T00:00:00",
          "2020-12-08T00:00:00",
          "2020-12-09T00:00:00",
          "2020-12-10T00:00:00",
          "2020-12-11T00:00:00",
          "2020-12-12T00:00:00",
          "2020-12-13T00:00:00",
          "2020-12-14T00:00:00",
          "2020-12-15T00:00:00",
          "2020-12-16T00:00:00",
          "2020-12-17T00:00:00",
          "2020-12-18T00:00:00",
          "2020-12-19T00:00:00",
          "2020-12-20T00:00:00",
          "2020-12-21T00:00:00",
          "2020-12-22T00:00:00",
          "2020-12-23T00:00:00",
          "2020-12-24T00:00:00",
          "2020-12-25T00:00:00",
          "2020-12-26T00:00:00",
          "2020-12-27T00:00:00",
          "2020-12-28T00:00:00",
          "2020-12-29T00:00:00",
          "2020-12-30T00:00:00",
          "2020-12-31T00:00:00",
          "2021-01-01T00:00:00",
          "2021-01-02T00:00:00",
          "2021-01-03T00:00:00",
          "2021-01-04T00:00:00",
          "2021-01-05T00:00:00",
          "2021-01-06T00:00:00",
          "2021-01-07T00:00:00",
          "2021-01-08T00:00:00",
          "2021-01-09T00:00:00"
         ],
         "xaxis": "x",
         "y": [
          4,
          151,
          212,
          224,
          222,
          223,
          214,
          227,
          213,
          226,
          241,
          221,
          219,
          203,
          210,
          214,
          251,
          256,
          266,
          261,
          262,
          292,
          292,
          286,
          290,
          299,
          306,
          297,
          324,
          323,
          308,
          318,
          327,
          325,
          310,
          344,
          341,
          315,
          308,
          317,
          314,
          322,
          347,
          336,
          325,
          328,
          327,
          324,
          328,
          343,
          349,
          351,
          366,
          367,
          362,
          374,
          394,
          394,
          374,
          367,
          369,
          369,
          373,
          387,
          384,
          375,
          374,
          375,
          369,
          361,
          374,
          373,
          380,
          372,
          372,
          381,
          374,
          386,
          391,
          389,
          381,
          379,
          391,
          384,
          397,
          396,
          384,
          374,
          371,
          362,
          349,
          278,
          284,
          287,
          280,
          280,
          277,
          276,
          293,
          289,
          284,
          282,
          280,
          275,
          264,
          255,
          248,
          258,
          278,
          286,
          286,
          286,
          288,
          288,
          285,
          294,
          290,
          288,
          284,
          285,
          286,
          300,
          310,
          311,
          312,
          312,
          319,
          310,
          309,
          306,
          307,
          298,
          294,
          299,
          306,
          305,
          303,
          305,
          307,
          303,
          309,
          308,
          314,
          312,
          315,
          318,
          314,
          332,
          330,
          323,
          320,
          319,
          317,
          312,
          331,
          332,
          318,
          315,
          318,
          320,
          321,
          334,
          335,
          320,
          320,
          317,
          317,
          317,
          339,
          340,
          326,
          324,
          323,
          317,
          315,
          328,
          332,
          321,
          319,
          312,
          303,
          241,
          254,
          256,
          257,
          259,
          259,
          256,
          257,
          274,
          276,
          260,
          260,
          259,
          257,
          257,
          275,
          276,
          260,
          258,
          257,
          260,
          262,
          282,
          268,
          237,
          238,
          238,
          236,
          236,
          263,
          263,
          234,
          232,
          234,
          234,
          236,
          265,
          266,
          236,
          237,
          236,
          233,
          234,
          263,
          264,
          239,
          241,
          242,
          241,
          241,
          267,
          267,
          250,
          249,
          246,
          240,
          242,
          257,
          256,
          245,
          243,
          243,
          247,
          246,
          258,
          258,
          246,
          246,
          246,
          246,
          243,
          251,
          250,
          237,
          235,
          243,
          244,
          246,
          257,
          257,
          245,
          246,
          246,
          244,
          244,
          256,
          257,
          245,
          244,
          243,
          215,
          214,
          227,
          225,
          214,
          215,
          215,
          208,
          208,
          225,
          225,
          208,
          209,
          208,
          208,
          209,
          226,
          226,
          211,
          211,
          211,
          211,
          212,
          229,
          230,
          212,
          214,
          213,
          210,
          212,
          230,
          231,
          209,
          209,
          209,
          209,
          209,
          230,
          229,
          210,
          210,
          210,
          210,
          210,
          231,
          231,
          209,
          210,
          210,
          210,
          211,
          233,
          232,
          211,
          212,
          209,
          208,
          209,
          224,
          223,
          204,
          209,
          206,
          205,
          204,
          225,
          226,
          206,
          206,
          206,
          205,
          205,
          227,
          227,
          205,
          205,
          206,
          206,
          204,
          223,
          225,
          205,
          205,
          200,
          200,
          199,
          214,
          214,
          195,
          199,
          198,
          200,
          200,
          221,
          215
         ],
         "yaxis": "y"
        }
       ],
       "layout": {
        "legend": {
         "tracegroupgap": 0
        },
        "template": {
         "data": {
          "bar": [
           {
            "error_x": {
             "color": "#2a3f5f"
            },
            "error_y": {
             "color": "#2a3f5f"
            },
            "marker": {
             "line": {
              "color": "#E5ECF6",
              "width": 0.5
             },
             "pattern": {
              "fillmode": "overlay",
              "size": 10,
              "solidity": 0.2
             }
            },
            "type": "bar"
           }
          ],
          "barpolar": [
           {
            "marker": {
             "line": {
              "color": "#E5ECF6",
              "width": 0.5
             },
             "pattern": {
              "fillmode": "overlay",
              "size": 10,
              "solidity": 0.2
             }
            },
            "type": "barpolar"
           }
          ],
          "carpet": [
           {
            "aaxis": {
             "endlinecolor": "#2a3f5f",
             "gridcolor": "white",
             "linecolor": "white",
             "minorgridcolor": "white",
             "startlinecolor": "#2a3f5f"
            },
            "baxis": {
             "endlinecolor": "#2a3f5f",
             "gridcolor": "white",
             "linecolor": "white",
             "minorgridcolor": "white",
             "startlinecolor": "#2a3f5f"
            },
            "type": "carpet"
           }
          ],
          "choropleth": [
           {
            "colorbar": {
             "outlinewidth": 0,
             "ticks": ""
            },
            "type": "choropleth"
           }
          ],
          "contour": [
           {
            "colorbar": {
             "outlinewidth": 0,
             "ticks": ""
            },
            "colorscale": [
             [
              0,
              "#0d0887"
             ],
             [
              0.1111111111111111,
              "#46039f"
             ],
             [
              0.2222222222222222,
              "#7201a8"
             ],
             [
              0.3333333333333333,
              "#9c179e"
             ],
             [
              0.4444444444444444,
              "#bd3786"
             ],
             [
              0.5555555555555556,
              "#d8576b"
             ],
             [
              0.6666666666666666,
              "#ed7953"
             ],
             [
              0.7777777777777778,
              "#fb9f3a"
             ],
             [
              0.8888888888888888,
              "#fdca26"
             ],
             [
              1,
              "#f0f921"
             ]
            ],
            "type": "contour"
           }
          ],
          "contourcarpet": [
           {
            "colorbar": {
             "outlinewidth": 0,
             "ticks": ""
            },
            "type": "contourcarpet"
           }
          ],
          "heatmap": [
           {
            "colorbar": {
             "outlinewidth": 0,
             "ticks": ""
            },
            "colorscale": [
             [
              0,
              "#0d0887"
             ],
             [
              0.1111111111111111,
              "#46039f"
             ],
             [
              0.2222222222222222,
              "#7201a8"
             ],
             [
              0.3333333333333333,
              "#9c179e"
             ],
             [
              0.4444444444444444,
              "#bd3786"
             ],
             [
              0.5555555555555556,
              "#d8576b"
             ],
             [
              0.6666666666666666,
              "#ed7953"
             ],
             [
              0.7777777777777778,
              "#fb9f3a"
             ],
             [
              0.8888888888888888,
              "#fdca26"
             ],
             [
              1,
              "#f0f921"
             ]
            ],
            "type": "heatmap"
           }
          ],
          "heatmapgl": [
           {
            "colorbar": {
             "outlinewidth": 0,
             "ticks": ""
            },
            "colorscale": [
             [
              0,
              "#0d0887"
             ],
             [
              0.1111111111111111,
              "#46039f"
             ],
             [
              0.2222222222222222,
              "#7201a8"
             ],
             [
              0.3333333333333333,
              "#9c179e"
             ],
             [
              0.4444444444444444,
              "#bd3786"
             ],
             [
              0.5555555555555556,
              "#d8576b"
             ],
             [
              0.6666666666666666,
              "#ed7953"
             ],
             [
              0.7777777777777778,
              "#fb9f3a"
             ],
             [
              0.8888888888888888,
              "#fdca26"
             ],
             [
              1,
              "#f0f921"
             ]
            ],
            "type": "heatmapgl"
           }
          ],
          "histogram": [
           {
            "marker": {
             "pattern": {
              "fillmode": "overlay",
              "size": 10,
              "solidity": 0.2
             }
            },
            "type": "histogram"
           }
          ],
          "histogram2d": [
           {
            "colorbar": {
             "outlinewidth": 0,
             "ticks": ""
            },
            "colorscale": [
             [
              0,
              "#0d0887"
             ],
             [
              0.1111111111111111,
              "#46039f"
             ],
             [
              0.2222222222222222,
              "#7201a8"
             ],
             [
              0.3333333333333333,
              "#9c179e"
             ],
             [
              0.4444444444444444,
              "#bd3786"
             ],
             [
              0.5555555555555556,
              "#d8576b"
             ],
             [
              0.6666666666666666,
              "#ed7953"
             ],
             [
              0.7777777777777778,
              "#fb9f3a"
             ],
             [
              0.8888888888888888,
              "#fdca26"
             ],
             [
              1,
              "#f0f921"
             ]
            ],
            "type": "histogram2d"
           }
          ],
          "histogram2dcontour": [
           {
            "colorbar": {
             "outlinewidth": 0,
             "ticks": ""
            },
            "colorscale": [
             [
              0,
              "#0d0887"
             ],
             [
              0.1111111111111111,
              "#46039f"
             ],
             [
              0.2222222222222222,
              "#7201a8"
             ],
             [
              0.3333333333333333,
              "#9c179e"
             ],
             [
              0.4444444444444444,
              "#bd3786"
             ],
             [
              0.5555555555555556,
              "#d8576b"
             ],
             [
              0.6666666666666666,
              "#ed7953"
             ],
             [
              0.7777777777777778,
              "#fb9f3a"
             ],
             [
              0.8888888888888888,
              "#fdca26"
             ],
             [
              1,
              "#f0f921"
             ]
            ],
            "type": "histogram2dcontour"
           }
          ],
          "mesh3d": [
           {
            "colorbar": {
             "outlinewidth": 0,
             "ticks": ""
            },
            "type": "mesh3d"
           }
          ],
          "parcoords": [
           {
            "line": {
             "colorbar": {
              "outlinewidth": 0,
              "ticks": ""
             }
            },
            "type": "parcoords"
           }
          ],
          "pie": [
           {
            "automargin": true,
            "type": "pie"
           }
          ],
          "scatter": [
           {
            "fillpattern": {
             "fillmode": "overlay",
             "size": 10,
             "solidity": 0.2
            },
            "type": "scatter"
           }
          ],
          "scatter3d": [
           {
            "line": {
             "colorbar": {
              "outlinewidth": 0,
              "ticks": ""
             }
            },
            "marker": {
             "colorbar": {
              "outlinewidth": 0,
              "ticks": ""
             }
            },
            "type": "scatter3d"
           }
          ],
          "scattercarpet": [
           {
            "marker": {
             "colorbar": {
              "outlinewidth": 0,
              "ticks": ""
             }
            },
            "type": "scattercarpet"
           }
          ],
          "scattergeo": [
           {
            "marker": {
             "colorbar": {
              "outlinewidth": 0,
              "ticks": ""
             }
            },
            "type": "scattergeo"
           }
          ],
          "scattergl": [
           {
            "marker": {
             "colorbar": {
              "outlinewidth": 0,
              "ticks": ""
             }
            },
            "type": "scattergl"
           }
          ],
          "scattermapbox": [
           {
            "marker": {
             "colorbar": {
              "outlinewidth": 0,
              "ticks": ""
             }
            },
            "type": "scattermapbox"
           }
          ],
          "scatterpolar": [
           {
            "marker": {
             "colorbar": {
              "outlinewidth": 0,
              "ticks": ""
             }
            },
            "type": "scatterpolar"
           }
          ],
          "scatterpolargl": [
           {
            "marker": {
             "colorbar": {
              "outlinewidth": 0,
              "ticks": ""
             }
            },
            "type": "scatterpolargl"
           }
          ],
          "scatterternary": [
           {
            "marker": {
             "colorbar": {
              "outlinewidth": 0,
              "ticks": ""
             }
            },
            "type": "scatterternary"
           }
          ],
          "surface": [
           {
            "colorbar": {
             "outlinewidth": 0,
             "ticks": ""
            },
            "colorscale": [
             [
              0,
              "#0d0887"
             ],
             [
              0.1111111111111111,
              "#46039f"
             ],
             [
              0.2222222222222222,
              "#7201a8"
             ],
             [
              0.3333333333333333,
              "#9c179e"
             ],
             [
              0.4444444444444444,
              "#bd3786"
             ],
             [
              0.5555555555555556,
              "#d8576b"
             ],
             [
              0.6666666666666666,
              "#ed7953"
             ],
             [
              0.7777777777777778,
              "#fb9f3a"
             ],
             [
              0.8888888888888888,
              "#fdca26"
             ],
             [
              1,
              "#f0f921"
             ]
            ],
            "type": "surface"
           }
          ],
          "table": [
           {
            "cells": {
             "fill": {
              "color": "#EBF0F8"
             },
             "line": {
              "color": "white"
             }
            },
            "header": {
             "fill": {
              "color": "#C8D4E3"
             },
             "line": {
              "color": "white"
             }
            },
            "type": "table"
           }
          ]
         },
         "layout": {
          "annotationdefaults": {
           "arrowcolor": "#2a3f5f",
           "arrowhead": 0,
           "arrowwidth": 1
          },
          "autotypenumbers": "strict",
          "coloraxis": {
           "colorbar": {
            "outlinewidth": 0,
            "ticks": ""
           }
          },
          "colorscale": {
           "diverging": [
            [
             0,
             "#8e0152"
            ],
            [
             0.1,
             "#c51b7d"
            ],
            [
             0.2,
             "#de77ae"
            ],
            [
             0.3,
             "#f1b6da"
            ],
            [
             0.4,
             "#fde0ef"
            ],
            [
             0.5,
             "#f7f7f7"
            ],
            [
             0.6,
             "#e6f5d0"
            ],
            [
             0.7,
             "#b8e186"
            ],
            [
             0.8,
             "#7fbc41"
            ],
            [
             0.9,
             "#4d9221"
            ],
            [
             1,
             "#276419"
            ]
           ],
           "sequential": [
            [
             0,
             "#0d0887"
            ],
            [
             0.1111111111111111,
             "#46039f"
            ],
            [
             0.2222222222222222,
             "#7201a8"
            ],
            [
             0.3333333333333333,
             "#9c179e"
            ],
            [
             0.4444444444444444,
             "#bd3786"
            ],
            [
             0.5555555555555556,
             "#d8576b"
            ],
            [
             0.6666666666666666,
             "#ed7953"
            ],
            [
             0.7777777777777778,
             "#fb9f3a"
            ],
            [
             0.8888888888888888,
             "#fdca26"
            ],
            [
             1,
             "#f0f921"
            ]
           ],
           "sequentialminus": [
            [
             0,
             "#0d0887"
            ],
            [
             0.1111111111111111,
             "#46039f"
            ],
            [
             0.2222222222222222,
             "#7201a8"
            ],
            [
             0.3333333333333333,
             "#9c179e"
            ],
            [
             0.4444444444444444,
             "#bd3786"
            ],
            [
             0.5555555555555556,
             "#d8576b"
            ],
            [
             0.6666666666666666,
             "#ed7953"
            ],
            [
             0.7777777777777778,
             "#fb9f3a"
            ],
            [
             0.8888888888888888,
             "#fdca26"
            ],
            [
             1,
             "#f0f921"
            ]
           ]
          },
          "colorway": [
           "#636efa",
           "#EF553B",
           "#00cc96",
           "#ab63fa",
           "#FFA15A",
           "#19d3f3",
           "#FF6692",
           "#B6E880",
           "#FF97FF",
           "#FECB52"
          ],
          "font": {
           "color": "#2a3f5f"
          },
          "geo": {
           "bgcolor": "white",
           "lakecolor": "white",
           "landcolor": "#E5ECF6",
           "showlakes": true,
           "showland": true,
           "subunitcolor": "white"
          },
          "hoverlabel": {
           "align": "left"
          },
          "hovermode": "closest",
          "mapbox": {
           "style": "light"
          },
          "paper_bgcolor": "white",
          "plot_bgcolor": "#E5ECF6",
          "polar": {
           "angularaxis": {
            "gridcolor": "white",
            "linecolor": "white",
            "ticks": ""
           },
           "bgcolor": "#E5ECF6",
           "radialaxis": {
            "gridcolor": "white",
            "linecolor": "white",
            "ticks": ""
           }
          },
          "scene": {
           "xaxis": {
            "backgroundcolor": "#E5ECF6",
            "gridcolor": "white",
            "gridwidth": 2,
            "linecolor": "white",
            "showbackground": true,
            "ticks": "",
            "zerolinecolor": "white"
           },
           "yaxis": {
            "backgroundcolor": "#E5ECF6",
            "gridcolor": "white",
            "gridwidth": 2,
            "linecolor": "white",
            "showbackground": true,
            "ticks": "",
            "zerolinecolor": "white"
           },
           "zaxis": {
            "backgroundcolor": "#E5ECF6",
            "gridcolor": "white",
            "gridwidth": 2,
            "linecolor": "white",
            "showbackground": true,
            "ticks": "",
            "zerolinecolor": "white"
           }
          },
          "shapedefaults": {
           "line": {
            "color": "#2a3f5f"
           }
          },
          "ternary": {
           "aaxis": {
            "gridcolor": "white",
            "linecolor": "white",
            "ticks": ""
           },
           "baxis": {
            "gridcolor": "white",
            "linecolor": "white",
            "ticks": ""
           },
           "bgcolor": "#E5ECF6",
           "caxis": {
            "gridcolor": "white",
            "linecolor": "white",
            "ticks": ""
           }
          },
          "title": {
           "x": 0.05
          },
          "xaxis": {
           "automargin": true,
           "gridcolor": "white",
           "linecolor": "white",
           "ticks": "",
           "title": {
            "standoff": 15
           },
           "zerolinecolor": "white",
           "zerolinewidth": 2
          },
          "yaxis": {
           "automargin": true,
           "gridcolor": "white",
           "linecolor": "white",
           "ticks": "",
           "title": {
            "standoff": 15
           },
           "zerolinecolor": "white",
           "zerolinewidth": 2
          }
         }
        },
        "title": {
         "text": "Arganzuela"
        },
        "xaxis": {
         "anchor": "y",
         "domain": [
          0,
          1
         ],
         "title": {
          "text": "date"
         }
        },
        "yaxis": {
         "anchor": "x",
         "domain": [
          0,
          1
         ],
         "title": {
          "text": "count_"
         }
        }
       }
      },
      "text/html": [
       "<div>                            <div id=\"c6218a1e-0917-450a-b8eb-b17002ecee92\" class=\"plotly-graph-div\" style=\"height:525px; width:100%;\"></div>            <script type=\"text/javascript\">                require([\"plotly\"], function(Plotly) {                    window.PLOTLYENV=window.PLOTLYENV || {};                                    if (document.getElementById(\"c6218a1e-0917-450a-b8eb-b17002ecee92\")) {                    Plotly.newPlot(                        \"c6218a1e-0917-450a-b8eb-b17002ecee92\",                        [{\"hovertemplate\":\"date=%{x}<br>count_=%{y}<extra></extra>\",\"legendgroup\":\"\",\"marker\":{\"color\":\"#636efa\",\"symbol\":\"circle\"},\"mode\":\"markers\",\"name\":\"\",\"orientation\":\"v\",\"showlegend\":false,\"x\":[\"2020-01-10T00:00:00\",\"2020-01-11T00:00:00\",\"2020-01-12T00:00:00\",\"2020-01-13T00:00:00\",\"2020-01-14T00:00:00\",\"2020-01-15T00:00:00\",\"2020-01-16T00:00:00\",\"2020-01-17T00:00:00\",\"2020-01-18T00:00:00\",\"2020-01-19T00:00:00\",\"2020-01-20T00:00:00\",\"2020-01-21T00:00:00\",\"2020-01-22T00:00:00\",\"2020-01-23T00:00:00\",\"2020-01-24T00:00:00\",\"2020-01-25T00:00:00\",\"2020-01-26T00:00:00\",\"2020-01-27T00:00:00\",\"2020-01-28T00:00:00\",\"2020-01-29T00:00:00\",\"2020-01-30T00:00:00\",\"2020-01-31T00:00:00\",\"2020-02-01T00:00:00\",\"2020-02-02T00:00:00\",\"2020-02-03T00:00:00\",\"2020-02-04T00:00:00\",\"2020-02-05T00:00:00\",\"2020-02-06T00:00:00\",\"2020-02-07T00:00:00\",\"2020-02-08T00:00:00\",\"2020-02-09T00:00:00\",\"2020-02-10T00:00:00\",\"2020-02-11T00:00:00\",\"2020-02-12T00:00:00\",\"2020-02-13T00:00:00\",\"2020-02-14T00:00:00\",\"2020-02-15T00:00:00\",\"2020-02-16T00:00:00\",\"2020-02-17T00:00:00\",\"2020-02-18T00:00:00\",\"2020-02-19T00:00:00\",\"2020-02-20T00:00:00\",\"2020-02-21T00:00:00\",\"2020-02-22T00:00:00\",\"2020-02-23T00:00:00\",\"2020-02-24T00:00:00\",\"2020-02-25T00:00:00\",\"2020-02-26T00:00:00\",\"2020-02-27T00:00:00\",\"2020-02-28T00:00:00\",\"2020-02-29T00:00:00\",\"2020-03-01T00:00:00\",\"2020-03-02T00:00:00\",\"2020-03-03T00:00:00\",\"2020-03-04T00:00:00\",\"2020-03-05T00:00:00\",\"2020-03-06T00:00:00\",\"2020-03-07T00:00:00\",\"2020-03-08T00:00:00\",\"2020-03-09T00:00:00\",\"2020-03-10T00:00:00\",\"2020-03-11T00:00:00\",\"2020-03-12T00:00:00\",\"2020-03-13T00:00:00\",\"2020-03-14T00:00:00\",\"2020-03-15T00:00:00\",\"2020-03-16T00:00:00\",\"2020-03-17T00:00:00\",\"2020-03-18T00:00:00\",\"2020-03-19T00:00:00\",\"2020-03-20T00:00:00\",\"2020-03-21T00:00:00\",\"2020-03-22T00:00:00\",\"2020-03-23T00:00:00\",\"2020-03-24T00:00:00\",\"2020-03-25T00:00:00\",\"2020-03-26T00:00:00\",\"2020-03-27T00:00:00\",\"2020-03-28T00:00:00\",\"2020-03-29T00:00:00\",\"2020-03-30T00:00:00\",\"2020-03-31T00:00:00\",\"2020-04-01T00:00:00\",\"2020-04-02T00:00:00\",\"2020-04-03T00:00:00\",\"2020-04-04T00:00:00\",\"2020-04-05T00:00:00\",\"2020-04-06T00:00:00\",\"2020-04-07T00:00:00\",\"2020-04-08T00:00:00\",\"2020-04-09T00:00:00\",\"2020-04-10T00:00:00\",\"2020-04-11T00:00:00\",\"2020-04-12T00:00:00\",\"2020-04-13T00:00:00\",\"2020-04-14T00:00:00\",\"2020-04-15T00:00:00\",\"2020-04-16T00:00:00\",\"2020-04-17T00:00:00\",\"2020-04-18T00:00:00\",\"2020-04-19T00:00:00\",\"2020-04-20T00:00:00\",\"2020-04-21T00:00:00\",\"2020-04-22T00:00:00\",\"2020-04-23T00:00:00\",\"2020-04-24T00:00:00\",\"2020-04-25T00:00:00\",\"2020-04-26T00:00:00\",\"2020-04-27T00:00:00\",\"2020-04-28T00:00:00\",\"2020-04-29T00:00:00\",\"2020-04-30T00:00:00\",\"2020-05-01T00:00:00\",\"2020-05-02T00:00:00\",\"2020-05-03T00:00:00\",\"2020-05-04T00:00:00\",\"2020-05-05T00:00:00\",\"2020-05-06T00:00:00\",\"2020-05-07T00:00:00\",\"2020-05-08T00:00:00\",\"2020-05-09T00:00:00\",\"2020-05-10T00:00:00\",\"2020-05-11T00:00:00\",\"2020-05-12T00:00:00\",\"2020-05-13T00:00:00\",\"2020-05-14T00:00:00\",\"2020-05-15T00:00:00\",\"2020-05-16T00:00:00\",\"2020-05-17T00:00:00\",\"2020-05-18T00:00:00\",\"2020-05-19T00:00:00\",\"2020-05-20T00:00:00\",\"2020-05-21T00:00:00\",\"2020-05-22T00:00:00\",\"2020-05-23T00:00:00\",\"2020-05-24T00:00:00\",\"2020-05-25T00:00:00\",\"2020-05-26T00:00:00\",\"2020-05-27T00:00:00\",\"2020-05-28T00:00:00\",\"2020-05-29T00:00:00\",\"2020-05-30T00:00:00\",\"2020-05-31T00:00:00\",\"2020-06-01T00:00:00\",\"2020-06-02T00:00:00\",\"2020-06-03T00:00:00\",\"2020-06-04T00:00:00\",\"2020-06-05T00:00:00\",\"2020-06-06T00:00:00\",\"2020-06-07T00:00:00\",\"2020-06-08T00:00:00\",\"2020-06-09T00:00:00\",\"2020-06-10T00:00:00\",\"2020-06-11T00:00:00\",\"2020-06-12T00:00:00\",\"2020-06-13T00:00:00\",\"2020-06-14T00:00:00\",\"2020-06-15T00:00:00\",\"2020-06-16T00:00:00\",\"2020-06-17T00:00:00\",\"2020-06-18T00:00:00\",\"2020-06-19T00:00:00\",\"2020-06-20T00:00:00\",\"2020-06-21T00:00:00\",\"2020-06-22T00:00:00\",\"2020-06-23T00:00:00\",\"2020-06-24T00:00:00\",\"2020-06-25T00:00:00\",\"2020-06-26T00:00:00\",\"2020-06-27T00:00:00\",\"2020-06-28T00:00:00\",\"2020-06-29T00:00:00\",\"2020-06-30T00:00:00\",\"2020-07-01T00:00:00\",\"2020-07-02T00:00:00\",\"2020-07-03T00:00:00\",\"2020-07-04T00:00:00\",\"2020-07-05T00:00:00\",\"2020-07-06T00:00:00\",\"2020-07-07T00:00:00\",\"2020-07-08T00:00:00\",\"2020-07-09T00:00:00\",\"2020-07-10T00:00:00\",\"2020-07-11T00:00:00\",\"2020-07-12T00:00:00\",\"2020-07-13T00:00:00\",\"2020-07-14T00:00:00\",\"2020-07-15T00:00:00\",\"2020-07-16T00:00:00\",\"2020-07-17T00:00:00\",\"2020-07-18T00:00:00\",\"2020-07-19T00:00:00\",\"2020-07-20T00:00:00\",\"2020-07-21T00:00:00\",\"2020-07-22T00:00:00\",\"2020-07-23T00:00:00\",\"2020-07-24T00:00:00\",\"2020-07-25T00:00:00\",\"2020-07-26T00:00:00\",\"2020-07-27T00:00:00\",\"2020-07-28T00:00:00\",\"2020-07-29T00:00:00\",\"2020-07-30T00:00:00\",\"2020-07-31T00:00:00\",\"2020-08-01T00:00:00\",\"2020-08-02T00:00:00\",\"2020-08-03T00:00:00\",\"2020-08-04T00:00:00\",\"2020-08-05T00:00:00\",\"2020-08-06T00:00:00\",\"2020-08-07T00:00:00\",\"2020-08-08T00:00:00\",\"2020-08-09T00:00:00\",\"2020-08-10T00:00:00\",\"2020-08-11T00:00:00\",\"2020-08-12T00:00:00\",\"2020-08-13T00:00:00\",\"2020-08-14T00:00:00\",\"2020-08-15T00:00:00\",\"2020-08-16T00:00:00\",\"2020-08-17T00:00:00\",\"2020-08-18T00:00:00\",\"2020-08-19T00:00:00\",\"2020-08-20T00:00:00\",\"2020-08-21T00:00:00\",\"2020-08-22T00:00:00\",\"2020-08-23T00:00:00\",\"2020-08-24T00:00:00\",\"2020-08-25T00:00:00\",\"2020-08-26T00:00:00\",\"2020-08-27T00:00:00\",\"2020-08-28T00:00:00\",\"2020-08-29T00:00:00\",\"2020-08-30T00:00:00\",\"2020-08-31T00:00:00\",\"2020-09-01T00:00:00\",\"2020-09-02T00:00:00\",\"2020-09-03T00:00:00\",\"2020-09-04T00:00:00\",\"2020-09-05T00:00:00\",\"2020-09-06T00:00:00\",\"2020-09-07T00:00:00\",\"2020-09-08T00:00:00\",\"2020-09-09T00:00:00\",\"2020-09-10T00:00:00\",\"2020-09-11T00:00:00\",\"2020-09-12T00:00:00\",\"2020-09-13T00:00:00\",\"2020-09-14T00:00:00\",\"2020-09-15T00:00:00\",\"2020-09-16T00:00:00\",\"2020-09-17T00:00:00\",\"2020-09-18T00:00:00\",\"2020-09-19T00:00:00\",\"2020-09-20T00:00:00\",\"2020-09-21T00:00:00\",\"2020-09-22T00:00:00\",\"2020-09-23T00:00:00\",\"2020-09-24T00:00:00\",\"2020-09-25T00:00:00\",\"2020-09-26T00:00:00\",\"2020-09-27T00:00:00\",\"2020-09-28T00:00:00\",\"2020-09-29T00:00:00\",\"2020-09-30T00:00:00\",\"2020-10-01T00:00:00\",\"2020-10-02T00:00:00\",\"2020-10-03T00:00:00\",\"2020-10-04T00:00:00\",\"2020-10-05T00:00:00\",\"2020-10-06T00:00:00\",\"2020-10-07T00:00:00\",\"2020-10-08T00:00:00\",\"2020-10-09T00:00:00\",\"2020-10-10T00:00:00\",\"2020-10-11T00:00:00\",\"2020-10-12T00:00:00\",\"2020-10-13T00:00:00\",\"2020-10-14T00:00:00\",\"2020-10-15T00:00:00\",\"2020-10-16T00:00:00\",\"2020-10-17T00:00:00\",\"2020-10-18T00:00:00\",\"2020-10-19T00:00:00\",\"2020-10-20T00:00:00\",\"2020-10-21T00:00:00\",\"2020-10-22T00:00:00\",\"2020-10-23T00:00:00\",\"2020-10-24T00:00:00\",\"2020-10-25T00:00:00\",\"2020-10-26T00:00:00\",\"2020-10-27T00:00:00\",\"2020-10-28T00:00:00\",\"2020-10-29T00:00:00\",\"2020-10-30T00:00:00\",\"2020-10-31T00:00:00\",\"2020-11-01T00:00:00\",\"2020-11-02T00:00:00\",\"2020-11-03T00:00:00\",\"2020-11-04T00:00:00\",\"2020-11-05T00:00:00\",\"2020-11-06T00:00:00\",\"2020-11-07T00:00:00\",\"2020-11-08T00:00:00\",\"2020-11-09T00:00:00\",\"2020-11-10T00:00:00\",\"2020-11-11T00:00:00\",\"2020-11-12T00:00:00\",\"2020-11-13T00:00:00\",\"2020-11-14T00:00:00\",\"2020-11-15T00:00:00\",\"2020-11-16T00:00:00\",\"2020-11-17T00:00:00\",\"2020-11-18T00:00:00\",\"2020-11-19T00:00:00\",\"2020-11-20T00:00:00\",\"2020-11-21T00:00:00\",\"2020-11-22T00:00:00\",\"2020-11-23T00:00:00\",\"2020-11-24T00:00:00\",\"2020-11-25T00:00:00\",\"2020-11-26T00:00:00\",\"2020-11-27T00:00:00\",\"2020-11-28T00:00:00\",\"2020-11-29T00:00:00\",\"2020-11-30T00:00:00\",\"2020-12-01T00:00:00\",\"2020-12-02T00:00:00\",\"2020-12-03T00:00:00\",\"2020-12-04T00:00:00\",\"2020-12-05T00:00:00\",\"2020-12-06T00:00:00\",\"2020-12-07T00:00:00\",\"2020-12-08T00:00:00\",\"2020-12-09T00:00:00\",\"2020-12-10T00:00:00\",\"2020-12-11T00:00:00\",\"2020-12-12T00:00:00\",\"2020-12-13T00:00:00\",\"2020-12-14T00:00:00\",\"2020-12-15T00:00:00\",\"2020-12-16T00:00:00\",\"2020-12-17T00:00:00\",\"2020-12-18T00:00:00\",\"2020-12-19T00:00:00\",\"2020-12-20T00:00:00\",\"2020-12-21T00:00:00\",\"2020-12-22T00:00:00\",\"2020-12-23T00:00:00\",\"2020-12-24T00:00:00\",\"2020-12-25T00:00:00\",\"2020-12-26T00:00:00\",\"2020-12-27T00:00:00\",\"2020-12-28T00:00:00\",\"2020-12-29T00:00:00\",\"2020-12-30T00:00:00\",\"2020-12-31T00:00:00\",\"2021-01-01T00:00:00\",\"2021-01-02T00:00:00\",\"2021-01-03T00:00:00\",\"2021-01-04T00:00:00\",\"2021-01-05T00:00:00\",\"2021-01-06T00:00:00\",\"2021-01-07T00:00:00\",\"2021-01-08T00:00:00\",\"2021-01-09T00:00:00\"],\"xaxis\":\"x\",\"y\":[4,151,212,224,222,223,214,227,213,226,241,221,219,203,210,214,251,256,266,261,262,292,292,286,290,299,306,297,324,323,308,318,327,325,310,344,341,315,308,317,314,322,347,336,325,328,327,324,328,343,349,351,366,367,362,374,394,394,374,367,369,369,373,387,384,375,374,375,369,361,374,373,380,372,372,381,374,386,391,389,381,379,391,384,397,396,384,374,371,362,349,278,284,287,280,280,277,276,293,289,284,282,280,275,264,255,248,258,278,286,286,286,288,288,285,294,290,288,284,285,286,300,310,311,312,312,319,310,309,306,307,298,294,299,306,305,303,305,307,303,309,308,314,312,315,318,314,332,330,323,320,319,317,312,331,332,318,315,318,320,321,334,335,320,320,317,317,317,339,340,326,324,323,317,315,328,332,321,319,312,303,241,254,256,257,259,259,256,257,274,276,260,260,259,257,257,275,276,260,258,257,260,262,282,268,237,238,238,236,236,263,263,234,232,234,234,236,265,266,236,237,236,233,234,263,264,239,241,242,241,241,267,267,250,249,246,240,242,257,256,245,243,243,247,246,258,258,246,246,246,246,243,251,250,237,235,243,244,246,257,257,245,246,246,244,244,256,257,245,244,243,215,214,227,225,214,215,215,208,208,225,225,208,209,208,208,209,226,226,211,211,211,211,212,229,230,212,214,213,210,212,230,231,209,209,209,209,209,230,229,210,210,210,210,210,231,231,209,210,210,210,211,233,232,211,212,209,208,209,224,223,204,209,206,205,204,225,226,206,206,206,205,205,227,227,205,205,206,206,204,223,225,205,205,200,200,199,214,214,195,199,198,200,200,221,215],\"yaxis\":\"y\",\"type\":\"scatter\"}],                        {\"template\":{\"data\":{\"histogram2dcontour\":[{\"type\":\"histogram2dcontour\",\"colorbar\":{\"outlinewidth\":0,\"ticks\":\"\"},\"colorscale\":[[0.0,\"#0d0887\"],[0.1111111111111111,\"#46039f\"],[0.2222222222222222,\"#7201a8\"],[0.3333333333333333,\"#9c179e\"],[0.4444444444444444,\"#bd3786\"],[0.5555555555555556,\"#d8576b\"],[0.6666666666666666,\"#ed7953\"],[0.7777777777777778,\"#fb9f3a\"],[0.8888888888888888,\"#fdca26\"],[1.0,\"#f0f921\"]]}],\"choropleth\":[{\"type\":\"choropleth\",\"colorbar\":{\"outlinewidth\":0,\"ticks\":\"\"}}],\"histogram2d\":[{\"type\":\"histogram2d\",\"colorbar\":{\"outlinewidth\":0,\"ticks\":\"\"},\"colorscale\":[[0.0,\"#0d0887\"],[0.1111111111111111,\"#46039f\"],[0.2222222222222222,\"#7201a8\"],[0.3333333333333333,\"#9c179e\"],[0.4444444444444444,\"#bd3786\"],[0.5555555555555556,\"#d8576b\"],[0.6666666666666666,\"#ed7953\"],[0.7777777777777778,\"#fb9f3a\"],[0.8888888888888888,\"#fdca26\"],[1.0,\"#f0f921\"]]}],\"heatmap\":[{\"type\":\"heatmap\",\"colorbar\":{\"outlinewidth\":0,\"ticks\":\"\"},\"colorscale\":[[0.0,\"#0d0887\"],[0.1111111111111111,\"#46039f\"],[0.2222222222222222,\"#7201a8\"],[0.3333333333333333,\"#9c179e\"],[0.4444444444444444,\"#bd3786\"],[0.5555555555555556,\"#d8576b\"],[0.6666666666666666,\"#ed7953\"],[0.7777777777777778,\"#fb9f3a\"],[0.8888888888888888,\"#fdca26\"],[1.0,\"#f0f921\"]]}],\"heatmapgl\":[{\"type\":\"heatmapgl\",\"colorbar\":{\"outlinewidth\":0,\"ticks\":\"\"},\"colorscale\":[[0.0,\"#0d0887\"],[0.1111111111111111,\"#46039f\"],[0.2222222222222222,\"#7201a8\"],[0.3333333333333333,\"#9c179e\"],[0.4444444444444444,\"#bd3786\"],[0.5555555555555556,\"#d8576b\"],[0.6666666666666666,\"#ed7953\"],[0.7777777777777778,\"#fb9f3a\"],[0.8888888888888888,\"#fdca26\"],[1.0,\"#f0f921\"]]}],\"contourcarpet\":[{\"type\":\"contourcarpet\",\"colorbar\":{\"outlinewidth\":0,\"ticks\":\"\"}}],\"contour\":[{\"type\":\"contour\",\"colorbar\":{\"outlinewidth\":0,\"ticks\":\"\"},\"colorscale\":[[0.0,\"#0d0887\"],[0.1111111111111111,\"#46039f\"],[0.2222222222222222,\"#7201a8\"],[0.3333333333333333,\"#9c179e\"],[0.4444444444444444,\"#bd3786\"],[0.5555555555555556,\"#d8576b\"],[0.6666666666666666,\"#ed7953\"],[0.7777777777777778,\"#fb9f3a\"],[0.8888888888888888,\"#fdca26\"],[1.0,\"#f0f921\"]]}],\"surface\":[{\"type\":\"surface\",\"colorbar\":{\"outlinewidth\":0,\"ticks\":\"\"},\"colorscale\":[[0.0,\"#0d0887\"],[0.1111111111111111,\"#46039f\"],[0.2222222222222222,\"#7201a8\"],[0.3333333333333333,\"#9c179e\"],[0.4444444444444444,\"#bd3786\"],[0.5555555555555556,\"#d8576b\"],[0.6666666666666666,\"#ed7953\"],[0.7777777777777778,\"#fb9f3a\"],[0.8888888888888888,\"#fdca26\"],[1.0,\"#f0f921\"]]}],\"mesh3d\":[{\"type\":\"mesh3d\",\"colorbar\":{\"outlinewidth\":0,\"ticks\":\"\"}}],\"scatter\":[{\"fillpattern\":{\"fillmode\":\"overlay\",\"size\":10,\"solidity\":0.2},\"type\":\"scatter\"}],\"parcoords\":[{\"type\":\"parcoords\",\"line\":{\"colorbar\":{\"outlinewidth\":0,\"ticks\":\"\"}}}],\"scatterpolargl\":[{\"type\":\"scatterpolargl\",\"marker\":{\"colorbar\":{\"outlinewidth\":0,\"ticks\":\"\"}}}],\"bar\":[{\"error_x\":{\"color\":\"#2a3f5f\"},\"error_y\":{\"color\":\"#2a3f5f\"},\"marker\":{\"line\":{\"color\":\"#E5ECF6\",\"width\":0.5},\"pattern\":{\"fillmode\":\"overlay\",\"size\":10,\"solidity\":0.2}},\"type\":\"bar\"}],\"scattergeo\":[{\"type\":\"scattergeo\",\"marker\":{\"colorbar\":{\"outlinewidth\":0,\"ticks\":\"\"}}}],\"scatterpolar\":[{\"type\":\"scatterpolar\",\"marker\":{\"colorbar\":{\"outlinewidth\":0,\"ticks\":\"\"}}}],\"histogram\":[{\"marker\":{\"pattern\":{\"fillmode\":\"overlay\",\"size\":10,\"solidity\":0.2}},\"type\":\"histogram\"}],\"scattergl\":[{\"type\":\"scattergl\",\"marker\":{\"colorbar\":{\"outlinewidth\":0,\"ticks\":\"\"}}}],\"scatter3d\":[{\"type\":\"scatter3d\",\"line\":{\"colorbar\":{\"outlinewidth\":0,\"ticks\":\"\"}},\"marker\":{\"colorbar\":{\"outlinewidth\":0,\"ticks\":\"\"}}}],\"scattermapbox\":[{\"type\":\"scattermapbox\",\"marker\":{\"colorbar\":{\"outlinewidth\":0,\"ticks\":\"\"}}}],\"scatterternary\":[{\"type\":\"scatterternary\",\"marker\":{\"colorbar\":{\"outlinewidth\":0,\"ticks\":\"\"}}}],\"scattercarpet\":[{\"type\":\"scattercarpet\",\"marker\":{\"colorbar\":{\"outlinewidth\":0,\"ticks\":\"\"}}}],\"carpet\":[{\"aaxis\":{\"endlinecolor\":\"#2a3f5f\",\"gridcolor\":\"white\",\"linecolor\":\"white\",\"minorgridcolor\":\"white\",\"startlinecolor\":\"#2a3f5f\"},\"baxis\":{\"endlinecolor\":\"#2a3f5f\",\"gridcolor\":\"white\",\"linecolor\":\"white\",\"minorgridcolor\":\"white\",\"startlinecolor\":\"#2a3f5f\"},\"type\":\"carpet\"}],\"table\":[{\"cells\":{\"fill\":{\"color\":\"#EBF0F8\"},\"line\":{\"color\":\"white\"}},\"header\":{\"fill\":{\"color\":\"#C8D4E3\"},\"line\":{\"color\":\"white\"}},\"type\":\"table\"}],\"barpolar\":[{\"marker\":{\"line\":{\"color\":\"#E5ECF6\",\"width\":0.5},\"pattern\":{\"fillmode\":\"overlay\",\"size\":10,\"solidity\":0.2}},\"type\":\"barpolar\"}],\"pie\":[{\"automargin\":true,\"type\":\"pie\"}]},\"layout\":{\"autotypenumbers\":\"strict\",\"colorway\":[\"#636efa\",\"#EF553B\",\"#00cc96\",\"#ab63fa\",\"#FFA15A\",\"#19d3f3\",\"#FF6692\",\"#B6E880\",\"#FF97FF\",\"#FECB52\"],\"font\":{\"color\":\"#2a3f5f\"},\"hovermode\":\"closest\",\"hoverlabel\":{\"align\":\"left\"},\"paper_bgcolor\":\"white\",\"plot_bgcolor\":\"#E5ECF6\",\"polar\":{\"bgcolor\":\"#E5ECF6\",\"angularaxis\":{\"gridcolor\":\"white\",\"linecolor\":\"white\",\"ticks\":\"\"},\"radialaxis\":{\"gridcolor\":\"white\",\"linecolor\":\"white\",\"ticks\":\"\"}},\"ternary\":{\"bgcolor\":\"#E5ECF6\",\"aaxis\":{\"gridcolor\":\"white\",\"linecolor\":\"white\",\"ticks\":\"\"},\"baxis\":{\"gridcolor\":\"white\",\"linecolor\":\"white\",\"ticks\":\"\"},\"caxis\":{\"gridcolor\":\"white\",\"linecolor\":\"white\",\"ticks\":\"\"}},\"coloraxis\":{\"colorbar\":{\"outlinewidth\":0,\"ticks\":\"\"}},\"colorscale\":{\"sequential\":[[0.0,\"#0d0887\"],[0.1111111111111111,\"#46039f\"],[0.2222222222222222,\"#7201a8\"],[0.3333333333333333,\"#9c179e\"],[0.4444444444444444,\"#bd3786\"],[0.5555555555555556,\"#d8576b\"],[0.6666666666666666,\"#ed7953\"],[0.7777777777777778,\"#fb9f3a\"],[0.8888888888888888,\"#fdca26\"],[1.0,\"#f0f921\"]],\"sequentialminus\":[[0.0,\"#0d0887\"],[0.1111111111111111,\"#46039f\"],[0.2222222222222222,\"#7201a8\"],[0.3333333333333333,\"#9c179e\"],[0.4444444444444444,\"#bd3786\"],[0.5555555555555556,\"#d8576b\"],[0.6666666666666666,\"#ed7953\"],[0.7777777777777778,\"#fb9f3a\"],[0.8888888888888888,\"#fdca26\"],[1.0,\"#f0f921\"]],\"diverging\":[[0,\"#8e0152\"],[0.1,\"#c51b7d\"],[0.2,\"#de77ae\"],[0.3,\"#f1b6da\"],[0.4,\"#fde0ef\"],[0.5,\"#f7f7f7\"],[0.6,\"#e6f5d0\"],[0.7,\"#b8e186\"],[0.8,\"#7fbc41\"],[0.9,\"#4d9221\"],[1,\"#276419\"]]},\"xaxis\":{\"gridcolor\":\"white\",\"linecolor\":\"white\",\"ticks\":\"\",\"title\":{\"standoff\":15},\"zerolinecolor\":\"white\",\"automargin\":true,\"zerolinewidth\":2},\"yaxis\":{\"gridcolor\":\"white\",\"linecolor\":\"white\",\"ticks\":\"\",\"title\":{\"standoff\":15},\"zerolinecolor\":\"white\",\"automargin\":true,\"zerolinewidth\":2},\"scene\":{\"xaxis\":{\"backgroundcolor\":\"#E5ECF6\",\"gridcolor\":\"white\",\"linecolor\":\"white\",\"showbackground\":true,\"ticks\":\"\",\"zerolinecolor\":\"white\",\"gridwidth\":2},\"yaxis\":{\"backgroundcolor\":\"#E5ECF6\",\"gridcolor\":\"white\",\"linecolor\":\"white\",\"showbackground\":true,\"ticks\":\"\",\"zerolinecolor\":\"white\",\"gridwidth\":2},\"zaxis\":{\"backgroundcolor\":\"#E5ECF6\",\"gridcolor\":\"white\",\"linecolor\":\"white\",\"showbackground\":true,\"ticks\":\"\",\"zerolinecolor\":\"white\",\"gridwidth\":2}},\"shapedefaults\":{\"line\":{\"color\":\"#2a3f5f\"}},\"annotationdefaults\":{\"arrowcolor\":\"#2a3f5f\",\"arrowhead\":0,\"arrowwidth\":1},\"geo\":{\"bgcolor\":\"white\",\"landcolor\":\"#E5ECF6\",\"subunitcolor\":\"white\",\"showland\":true,\"showlakes\":true,\"lakecolor\":\"white\"},\"title\":{\"x\":0.05},\"mapbox\":{\"style\":\"light\"}}},\"xaxis\":{\"anchor\":\"y\",\"domain\":[0.0,1.0],\"title\":{\"text\":\"date\"}},\"yaxis\":{\"anchor\":\"x\",\"domain\":[0.0,1.0],\"title\":{\"text\":\"count_\"}},\"legend\":{\"tracegroupgap\":0},\"title\":{\"text\":\"Arganzuela\"}},                        {\"responsive\": true}                    ).then(function(){\n",
       "                            \n",
       "var gd = document.getElementById('c6218a1e-0917-450a-b8eb-b17002ecee92');\n",
       "var x = new MutationObserver(function (mutations, observer) {{\n",
       "        var display = window.getComputedStyle(gd).display;\n",
       "        if (!display || display === 'none') {{\n",
       "            console.log([gd, 'removed!']);\n",
       "            Plotly.purge(gd);\n",
       "            observer.disconnect();\n",
       "        }}\n",
       "}});\n",
       "\n",
       "// Listen for the removal of the full notebook cells\n",
       "var notebookContainer = gd.closest('#notebook-container');\n",
       "if (notebookContainer) {{\n",
       "    x.observe(notebookContainer, {childList: true});\n",
       "}}\n",
       "\n",
       "// Listen for the clearing of the current output cell\n",
       "var outputEl = gd.closest('.output');\n",
       "if (outputEl) {{\n",
       "    x.observe(outputEl, {childList: true});\n",
       "}}\n",
       "\n",
       "                        })                };                });            </script>        </div>"
      ]
     },
     "metadata": {},
     "output_type": "display_data"
    },
    {
     "data": {
      "application/vnd.plotly.v1+json": {
       "config": {
        "plotlyServerURL": "https://plot.ly"
       },
       "data": [
        {
         "hovertemplate": "price=%{x}<br>demand=%{y}<extra></extra>",
         "legendgroup": "",
         "marker": {
          "color": "#636efa",
          "symbol": "circle"
         },
         "mode": "markers",
         "name": "",
         "orientation": "v",
         "showlegend": false,
         "type": "scatter",
         "x": [
          10,
          11,
          12,
          13,
          14.000000000000002,
          15,
          16,
          17,
          18,
          19,
          20,
          21,
          22,
          23,
          24,
          25,
          26,
          27,
          28.000000000000004,
          28.999999999999996,
          30,
          31,
          32,
          33,
          34,
          35,
          36,
          37,
          38,
          39,
          40,
          41,
          42,
          43,
          44,
          45,
          46,
          47,
          48,
          49,
          50,
          51,
          52,
          53,
          54,
          55.00000000000001,
          56.00000000000001,
          56.99999999999999,
          57.99999999999999,
          59,
          60,
          61,
          62,
          63,
          64,
          65,
          66,
          67,
          68,
          69,
          70,
          71,
          72,
          73,
          74,
          75,
          76,
          77,
          78,
          79,
          80,
          81,
          82,
          83,
          84,
          85,
          86,
          87,
          88,
          89,
          90,
          91,
          92,
          93,
          94,
          95,
          96,
          97,
          98,
          99,
          100,
          101,
          102,
          103,
          104,
          105,
          106,
          107,
          108,
          109.00000000000001,
          110.00000000000001,
          111.00000000000001,
          112.00000000000001,
          112.99999999999999,
          113.99999999999999,
          114.99999999999999,
          115.99999999999999,
          117,
          118,
          119,
          120,
          121,
          122,
          123,
          124,
          125,
          126,
          127,
          128,
          129,
          130,
          131,
          132,
          133,
          134,
          135,
          136,
          137,
          138,
          139,
          140,
          141,
          142,
          143,
          144,
          145,
          146,
          147,
          148,
          149,
          150,
          151,
          152,
          153,
          154,
          155,
          156,
          157,
          158,
          159,
          160,
          161,
          162,
          163,
          164,
          165,
          166,
          167,
          168,
          169,
          170,
          171,
          172,
          173,
          174,
          175,
          176,
          177,
          178,
          179,
          180,
          181,
          182,
          183,
          184,
          185,
          186,
          187,
          188,
          189,
          190,
          191,
          192,
          193,
          194,
          195,
          196,
          197,
          198,
          199,
          200,
          200.99999999999997,
          202,
          202.99999999999997,
          204,
          204.99999999999997,
          206,
          206.99999999999997,
          208,
          209,
          210,
          211,
          212,
          213,
          214,
          215,
          216,
          217,
          218.00000000000003,
          219,
          220.00000000000003,
          221,
          222.00000000000003,
          223,
          224.00000000000003,
          225,
          225.99999999999997,
          227,
          227.99999999999997,
          229,
          229.99999999999997,
          231,
          231.99999999999997,
          233,
          234,
          235,
          236,
          237,
          238,
          239,
          240,
          241,
          242,
          243.00000000000003,
          244,
          245.00000000000003,
          246,
          247.00000000000003,
          248,
          249.00000000000003,
          250,
          250.99999999999997,
          252,
          252.99999999999997,
          254,
          254.99999999999997,
          256,
          257,
          258,
          259,
          260,
          261,
          262,
          263,
          264,
          265,
          266,
          267,
          268,
          269,
          270,
          271,
          272,
          273,
          274,
          275,
          276,
          277,
          278,
          279,
          280,
          281,
          282,
          283,
          284,
          285,
          286,
          287,
          288,
          289,
          290,
          291,
          292,
          293,
          294,
          295,
          296,
          297,
          298,
          299,
          300,
          301,
          302,
          303,
          304,
          305,
          306,
          307,
          308,
          309,
          310,
          311,
          312,
          313,
          314,
          315,
          316,
          317,
          318,
          319,
          320,
          321,
          322,
          323,
          324,
          325,
          326,
          327,
          328,
          329,
          330,
          331,
          332,
          333,
          334,
          335,
          336,
          337,
          338,
          339,
          340,
          341,
          342,
          343,
          344,
          345,
          346,
          347,
          348,
          349,
          350,
          351,
          352,
          353,
          354,
          355,
          356,
          357,
          358,
          359,
          360,
          361,
          362,
          363,
          364,
          365,
          366,
          367,
          368,
          369,
          370,
          371,
          372,
          373,
          374,
          375,
          376,
          377,
          378,
          379,
          380,
          381,
          382,
          383,
          384,
          385,
          386,
          387,
          388,
          389,
          390,
          391,
          392,
          393,
          394,
          395,
          396,
          397,
          398,
          399,
          400,
          401,
          401.99999999999994,
          403,
          404,
          405,
          405.99999999999994,
          407,
          408,
          409,
          409.99999999999994,
          411.00000000000006,
          412,
          413,
          413.99999999999994,
          415.00000000000006,
          416,
          417,
          418,
          419.00000000000006,
          420,
          421,
          422,
          423.00000000000006,
          424,
          425,
          426,
          426.99999999999994,
          428,
          429,
          430,
          430.99999999999994,
          432,
          433,
          434,
          434.99999999999994,
          436.00000000000006,
          437,
          438,
          438.99999999999994,
          440.00000000000006,
          441,
          442,
          443,
          444.00000000000006,
          445,
          446,
          447,
          448.00000000000006,
          449,
          450,
          451,
          451.99999999999994,
          453,
          454,
          455,
          455.99999999999994,
          457,
          458,
          459,
          459.99999999999994,
          461.00000000000006,
          462,
          463,
          463.99999999999994,
          465.00000000000006,
          466,
          467,
          468,
          469.00000000000006,
          470,
          471,
          472,
          473.00000000000006,
          474,
          475,
          476,
          476.99999999999994,
          478,
          479,
          480,
          480.99999999999994,
          482,
          483,
          484,
          484.99999999999994,
          486.00000000000006,
          487,
          488,
          488.99999999999994,
          490.00000000000006,
          491,
          492,
          493,
          494.00000000000006,
          495,
          496,
          497,
          498.00000000000006,
          499,
          500,
          501,
          501.99999999999994,
          503,
          504,
          505,
          505.99999999999994,
          507,
          508,
          509
         ],
         "xaxis": "x",
         "y": [
          310.6891687553285,
          310.36420795041903,
          310.03958703352447,
          309.7153056491433,
          309.39136344214677,
          309.06776005777743,
          308.74449514164826,
          308.42156833974354,
          308.09897929841793,
          307.7767276643951,
          307.4548130847691,
          307.1332352070031,
          306.8119936789281,
          306.4910881487443,
          306.17051826502,
          305.85028367669,
          305.5303840330573,
          305.2108189837914,
          304.8915881789285,
          304.5726912688699,
          304.2541279043835,
          303.9358977366025,
          303.61800041702406,
          303.3004355975108,
          302.98320293028934,
          302.6663020679493,
          302.3497326634445,
          302.03349437009166,
          301.71758684156947,
          301.4020097319194,
          301.0867626955451,
          300.77184538721053,
          300.4572574620418,
          300.14299857552567,
          299.8290683835084,
          299.5154665421971,
          299.20219270815807,
          298.88924653831714,
          298.57662768995823,
          298.2643358207245,
          297.9523705886171,
          297.6407316519942,
          297.3294186695721,
          297.01843130042397,
          296.7077692039788,
          296.3974320400227,
          296.0874194686974,
          295.7777311504996,
          295.4683667462817,
          295.1593259172508,
          294.8506083249676,
          294.5422136313477,
          294.2341414986599,
          293.92639158952653,
          293.6189635669221,
          293.31185709417434,
          293.0050718349631,
          292.69860745331926,
          292.3924636136258,
          292.08663998061695,
          291.78113621937655,
          291.47595199533976,
          291.1710869742914,
          290.86654082236544,
          290.5623132060454,
          290.25840379216413,
          289.9548122479017,
          289.6515382407874,
          289.34858143869775,
          289.0459415098572,
          288.74361812283615,
          288.44161094655266,
          288.13991965027094,
          287.83854390360034,
          287.53748337649665,
          287.23673773926083,
          286.9363066625379,
          286.63618981731815,
          286.3363868749359,
          286.0368975070686,
          285.73772138573787,
          285.4388581833082,
          285.14030757248617,
          284.8420692263214,
          284.54414281820556,
          284.24652802187103,
          283.9492245113922,
          283.6522319611842,
          283.355550046003,
          283.0591784409438,
          282.7631168214427,
          282.46736486327484,
          282.17192224255405,
          281.8767886357337,
          281.5819637196053,
          281.2874471712979,
          280.99323866827893,
          280.69933788835317,
          280.40574450966164,
          280.1124582106827,
          279.81947867023104,
          279.5268055674566,
          279.23443858184567,
          278.94237739321966,
          278.6506216817341,
          278.35917112787996,
          278.0680254124821,
          277.77718421669937,
          277.4866472220234,
          277.19641411027976,
          276.9064845636268,
          276.61685826455454,
          276.32753489588583,
          276.0385141407753,
          275.74979568270817,
          275.4613792055015,
          275.1732643933031,
          274.8854509305904,
          274.5979385021715,
          274.31072679318413,
          274.02381548909483,
          273.7372042756997,
          273.4508928391232,
          273.1648808658184,
          272.8791680425656,
          272.59375405647336,
          272.3086385949776,
          272.0238213458404,
          271.7393019971511,
          271.45508023732526,
          271.17115575510377,
          270.88752823955366,
          270.6041973800672,
          270.3211628663608,
          270.0384243884762,
          269.75598163677927,
          269.4738343019591,
          269.19198207502876,
          268.9104246473247,
          268.6291617105061,
          268.34819295655393,
          268.0675180777723,
          267.787136766787,
          267.50704871654455,
          267.2272536203134,
          266.94775117168274,
          266.66854106456174,
          266.3896229931802,
          266.1109966520878,
          265.83266173615317,
          265.5546179405646,
          265.27686496082913,
          264.9994024927718,
          264.7222302325364,
          264.4453478765845,
          264.1687551216944,
          263.8924516649625,
          263.6164372038014,
          263.3407114359408,
          263.06527405942563,
          262.7901247726174,
          262.51526327419305,
          262.24068926314413,
          261.96640243877766,
          261.6924025007151,
          261.4186891488915,
          261.14526208355625,
          260.87212100527256,
          260.59926561491596,
          260.3266956136755,
          260.05441070305284,
          259.78241058486117,
          259.51069496122625,
          259.23926353458535,
          258.96811600768626,
          258.69725208358847,
          258.4266714656618,
          258.15637385758646,
          257.88635896335194,
          257.61662648725815,
          257.3471761339141,
          257.0780076082372,
          256.80912061545416,
          256.5405148610999,
          256.2721900510168,
          256.0041458913555,
          255.73638208857403,
          255.46889834943673,
          255.20169438101536,
          254.93476989068802,
          254.66812458613822,
          254.40175817535592,
          254.13567036663625,
          253.86986086857962,
          253.60432939009067,
          253.3390756403791,
          253.07409932895874,
          252.8094001656466,
          252.54497786056393,
          252.2808321241351,
          252.0169626670867,
          251.75336920044856,
          251.4900514355528,
          251.22700908403272,
          250.96424185782396,
          250.70174946916345,
          250.43953163058836,
          250.1775880549373,
          249.91591845534896,
          249.6545225452623,
          249.39340003841534,
          249.13255064884612,
          248.87197409089188,
          248.61167007918792,
          248.35163832866868,
          248.09187855456676,
          247.83239047241196,
          247.57317379803226,
          247.31422824755288,
          247.05555353739527,
          246.7971493842782,
          246.53901550521672,
          246.28115161752112,
          246.02355743879812,
          245.7662326869498,
          245.50917708017255,
          245.25239033695829,
          244.99587217609303,
          244.73962231665726,
          244.48364047802454,
          244.22792637986268,
          243.9724797421326,
          243.71730028508756,
          243.462387729274,
          243.20774179553078,
          242.95336220498788,
          242.6992486790678,
          242.44540093948436,
          242.19181870824173,
          241.9385017076356,
          241.68544966025203,
          241.43266228896664,
          241.18013931694557,
          240.92788046764443,
          240.67588546480752,
          240.4241540324687,
          240.1726858949502,
          239.92148077686292,
          239.67053840310507,
          239.41985849886325,
          239.1694407896115,
          238.91928500111044,
          238.669390859408,
          238.4197580908388,
          238.17038642202297,
          237.92127557986726,
          237.67242529156402,
          237.42383528459035,
          237.175505286709,
          236.92743502596724,
          236.67962423069702,
          236.43207262951375,
          236.1847799513174,
          235.9377459252915,
          235.6909702809021,
          235.4444527478989,
          235.19819305631432,
          234.95219093646242,
          234.70644611894005,
          234.46095833462581,
          234.2157273146791,
          233.9707527905412,
          233.7260344939343,
          233.4815721568605,
          233.23736551160286,
          232.9934142907245,
          232.74971822706758,
          232.5062770537543,
          232.2630905041859,
          232.02015831204253,
          231.77748021128235,
          231.53505593614238,
          231.29288522113765,
          231.05096780106024,
          230.80930341098016,
          230.56789178624462,
          230.32673266247696,
          230.0858257755777,
          229.84517086172357,
          229.6047676573666,
          229.3646158992352,
          229.12471532433295,
          228.88506566993806,
          228.64566667360413,
          228.40651807315913,
          228.1676196067048,
          227.9289710126173,
          227.6905720295463,
          227.452422396415,
          227.21452185241904,
          226.97687013702748,
          226.73946698998188,
          226.5023121512954,
          226.26540536125373,
          226.02874636041423,
          225.79233488960494,
          225.55617068992572,
          225.32025350274705,
          225.08458306970948,
          224.84915913272425,
          224.61398143397247,
          224.379049715905,
          224.14436372124158,
          223.90992319297175,
          223.67572787435316,
          223.4417775089125,
          223.2080718404446,
          222.97461061301246,
          222.7413935709461,
          222.50842045884357,
          222.27569102157014,
          222.04320500425726,
          221.81096215230357,
          221.578962211374,
          221.34720492739893,
          221.11569004657503,
          220.88441731536446,
          220.653386480494,
          220.42259728895584,
          220.19204948800672,
          219.96174282516785,
          219.73167704822393,
          219.50185190522427,
          219.27226714448094,
          219.0429225145698,
          218.81381776432949,
          218.5849526428616,
          218.3563268995295,
          218.1279402839593,
          217.89979254603904,
          217.6718834359177,
          217.44421270400622,
          217.2167801009766,
          216.989585377761,
          216.76262828555267,
          216.53590857580517,
          216.30942600023135,
          216.08318031080438,
          215.85717125975668,
          215.63139859957994,
          215.4058620830242,
          215.1805614630987,
          214.95549649307097,
          214.73066692646606,
          214.5060725170674,
          214.2817130189159,
          214.05758818630918,
          213.83369777380244,
          213.61004153620763,
          213.38661922859248,
          213.16343060628154,
          212.94047542485526,
          212.7177534401492,
          212.49526440825483,
          212.27300808551874,
          212.05098422854178,
          211.82919259417997,
          211.6076329395435,
          211.38630502199672,
          211.1652085991572,
          210.94434342889664,
          210.72370926933996,
          210.50330587886452,
          210.28313301610095,
          210.06319043993233,
          209.84347790949337,
          209.6239951841713,
          209.40474202360497,
          209.18571818768413,
          208.9669234365502,
          208.74835753059546,
          208.53002023046224,
          208.31191129704382,
          208.09403049148358,
          207.87637757517408,
          207.65895230975812,
          207.44175445712756,
          207.2247837794235,
          207.00804003903522,
          206.79152299860118,
          206.57523242100805,
          206.35916806938994,
          206.14332970712928,
          205.92771709785598,
          205.71233000544663,
          205.49716819402536,
          205.28223142796293,
          205.06751947187612,
          204.8530320906284,
          204.63876904932914,
          204.42473011333288,
          204.21091504824014,
          203.99732361989643,
          203.7839555943923,
          203.57081073806248,
          203.35788881748658,
          203.14518959948842,
          202.93271285113508,
          202.72045833973786,
          202.5084258328515,
          202.29661509827318,
          202.08502590404362,
          201.87365801844606,
          201.66251121000565,
          201.45158524749013,
          201.2408798999091,
          201.0303949365132,
          200.82013012679505,
          200.61008524048805,
          200.40026004756675,
          200.19065431824566,
          199.9812678229804,
          199.77210033246595,
          199.5631516176377,
          199.35442144967035,
          199.14590959997818,
          198.93761584021408,
          198.72953994227018,
          198.5216816782773,
          198.31404082060405,
          198.10661714185758,
          197.89941041488296,
          197.69242041276232,
          197.48564690881562,
          197.27908967659974,
          197.0727484899086,
          196.86662312277218,
          196.66071334945735,
          196.45501894446707,
          196.24953968253962,
          196.04427533864944,
          195.8392256880063,
          195.6343905060546,
          195.42976956847411,
          195.2253626511792,
          195.0211695303182,
          194.81718998227396,
          194.61342378366328,
          194.40987071133608,
          194.20653054237624,
          194.00340305410074,
          193.800488024059,
          193.59778523003357,
          193.39529445003947,
          193.19301546232336,
          192.99094804536438,
          192.78909197787317,
          192.58744703879202,
          192.3860130072939,
          192.1847896627833,
          191.98377678489535,
          191.78297415349527,
          191.58238154867894,
          191.3819987507723,
          191.18182554033058,
          190.9818616981389,
          190.78210700521186,
          190.58256124279245,
          190.38322419235303,
          190.18409563559433,
          189.98517535444563,
          189.78646313106373,
          189.58795874783382,
          189.3896619873687,
          189.191572632508,
          188.99369046631907,
          188.79601527209607,
          188.59854683335936,
          188.40128493385623,
          188.20422935756017,
          188.00737988867004,
          187.81073631161104,
          187.61429841103373,
          187.41806597181346,
          187.2220387790511,
          187.0262166180723,
          186.8305992744267,
          186.63518653388874,
          186.43997818245683,
          186.24497400635332,
          186.05017379202363,
          185.8555773261373,
          185.66118439558628,
          185.46699478748587,
          185.273008289174,
          185.07922468821104,
          184.88564377237915,
          184.69226532968298,
          184.49908914834884,
          184.30611501682407
         ],
         "yaxis": "y"
        }
       ],
       "layout": {
        "legend": {
         "tracegroupgap": 0
        },
        "template": {
         "data": {
          "bar": [
           {
            "error_x": {
             "color": "#2a3f5f"
            },
            "error_y": {
             "color": "#2a3f5f"
            },
            "marker": {
             "line": {
              "color": "#E5ECF6",
              "width": 0.5
             },
             "pattern": {
              "fillmode": "overlay",
              "size": 10,
              "solidity": 0.2
             }
            },
            "type": "bar"
           }
          ],
          "barpolar": [
           {
            "marker": {
             "line": {
              "color": "#E5ECF6",
              "width": 0.5
             },
             "pattern": {
              "fillmode": "overlay",
              "size": 10,
              "solidity": 0.2
             }
            },
            "type": "barpolar"
           }
          ],
          "carpet": [
           {
            "aaxis": {
             "endlinecolor": "#2a3f5f",
             "gridcolor": "white",
             "linecolor": "white",
             "minorgridcolor": "white",
             "startlinecolor": "#2a3f5f"
            },
            "baxis": {
             "endlinecolor": "#2a3f5f",
             "gridcolor": "white",
             "linecolor": "white",
             "minorgridcolor": "white",
             "startlinecolor": "#2a3f5f"
            },
            "type": "carpet"
           }
          ],
          "choropleth": [
           {
            "colorbar": {
             "outlinewidth": 0,
             "ticks": ""
            },
            "type": "choropleth"
           }
          ],
          "contour": [
           {
            "colorbar": {
             "outlinewidth": 0,
             "ticks": ""
            },
            "colorscale": [
             [
              0,
              "#0d0887"
             ],
             [
              0.1111111111111111,
              "#46039f"
             ],
             [
              0.2222222222222222,
              "#7201a8"
             ],
             [
              0.3333333333333333,
              "#9c179e"
             ],
             [
              0.4444444444444444,
              "#bd3786"
             ],
             [
              0.5555555555555556,
              "#d8576b"
             ],
             [
              0.6666666666666666,
              "#ed7953"
             ],
             [
              0.7777777777777778,
              "#fb9f3a"
             ],
             [
              0.8888888888888888,
              "#fdca26"
             ],
             [
              1,
              "#f0f921"
             ]
            ],
            "type": "contour"
           }
          ],
          "contourcarpet": [
           {
            "colorbar": {
             "outlinewidth": 0,
             "ticks": ""
            },
            "type": "contourcarpet"
           }
          ],
          "heatmap": [
           {
            "colorbar": {
             "outlinewidth": 0,
             "ticks": ""
            },
            "colorscale": [
             [
              0,
              "#0d0887"
             ],
             [
              0.1111111111111111,
              "#46039f"
             ],
             [
              0.2222222222222222,
              "#7201a8"
             ],
             [
              0.3333333333333333,
              "#9c179e"
             ],
             [
              0.4444444444444444,
              "#bd3786"
             ],
             [
              0.5555555555555556,
              "#d8576b"
             ],
             [
              0.6666666666666666,
              "#ed7953"
             ],
             [
              0.7777777777777778,
              "#fb9f3a"
             ],
             [
              0.8888888888888888,
              "#fdca26"
             ],
             [
              1,
              "#f0f921"
             ]
            ],
            "type": "heatmap"
           }
          ],
          "heatmapgl": [
           {
            "colorbar": {
             "outlinewidth": 0,
             "ticks": ""
            },
            "colorscale": [
             [
              0,
              "#0d0887"
             ],
             [
              0.1111111111111111,
              "#46039f"
             ],
             [
              0.2222222222222222,
              "#7201a8"
             ],
             [
              0.3333333333333333,
              "#9c179e"
             ],
             [
              0.4444444444444444,
              "#bd3786"
             ],
             [
              0.5555555555555556,
              "#d8576b"
             ],
             [
              0.6666666666666666,
              "#ed7953"
             ],
             [
              0.7777777777777778,
              "#fb9f3a"
             ],
             [
              0.8888888888888888,
              "#fdca26"
             ],
             [
              1,
              "#f0f921"
             ]
            ],
            "type": "heatmapgl"
           }
          ],
          "histogram": [
           {
            "marker": {
             "pattern": {
              "fillmode": "overlay",
              "size": 10,
              "solidity": 0.2
             }
            },
            "type": "histogram"
           }
          ],
          "histogram2d": [
           {
            "colorbar": {
             "outlinewidth": 0,
             "ticks": ""
            },
            "colorscale": [
             [
              0,
              "#0d0887"
             ],
             [
              0.1111111111111111,
              "#46039f"
             ],
             [
              0.2222222222222222,
              "#7201a8"
             ],
             [
              0.3333333333333333,
              "#9c179e"
             ],
             [
              0.4444444444444444,
              "#bd3786"
             ],
             [
              0.5555555555555556,
              "#d8576b"
             ],
             [
              0.6666666666666666,
              "#ed7953"
             ],
             [
              0.7777777777777778,
              "#fb9f3a"
             ],
             [
              0.8888888888888888,
              "#fdca26"
             ],
             [
              1,
              "#f0f921"
             ]
            ],
            "type": "histogram2d"
           }
          ],
          "histogram2dcontour": [
           {
            "colorbar": {
             "outlinewidth": 0,
             "ticks": ""
            },
            "colorscale": [
             [
              0,
              "#0d0887"
             ],
             [
              0.1111111111111111,
              "#46039f"
             ],
             [
              0.2222222222222222,
              "#7201a8"
             ],
             [
              0.3333333333333333,
              "#9c179e"
             ],
             [
              0.4444444444444444,
              "#bd3786"
             ],
             [
              0.5555555555555556,
              "#d8576b"
             ],
             [
              0.6666666666666666,
              "#ed7953"
             ],
             [
              0.7777777777777778,
              "#fb9f3a"
             ],
             [
              0.8888888888888888,
              "#fdca26"
             ],
             [
              1,
              "#f0f921"
             ]
            ],
            "type": "histogram2dcontour"
           }
          ],
          "mesh3d": [
           {
            "colorbar": {
             "outlinewidth": 0,
             "ticks": ""
            },
            "type": "mesh3d"
           }
          ],
          "parcoords": [
           {
            "line": {
             "colorbar": {
              "outlinewidth": 0,
              "ticks": ""
             }
            },
            "type": "parcoords"
           }
          ],
          "pie": [
           {
            "automargin": true,
            "type": "pie"
           }
          ],
          "scatter": [
           {
            "fillpattern": {
             "fillmode": "overlay",
             "size": 10,
             "solidity": 0.2
            },
            "type": "scatter"
           }
          ],
          "scatter3d": [
           {
            "line": {
             "colorbar": {
              "outlinewidth": 0,
              "ticks": ""
             }
            },
            "marker": {
             "colorbar": {
              "outlinewidth": 0,
              "ticks": ""
             }
            },
            "type": "scatter3d"
           }
          ],
          "scattercarpet": [
           {
            "marker": {
             "colorbar": {
              "outlinewidth": 0,
              "ticks": ""
             }
            },
            "type": "scattercarpet"
           }
          ],
          "scattergeo": [
           {
            "marker": {
             "colorbar": {
              "outlinewidth": 0,
              "ticks": ""
             }
            },
            "type": "scattergeo"
           }
          ],
          "scattergl": [
           {
            "marker": {
             "colorbar": {
              "outlinewidth": 0,
              "ticks": ""
             }
            },
            "type": "scattergl"
           }
          ],
          "scattermapbox": [
           {
            "marker": {
             "colorbar": {
              "outlinewidth": 0,
              "ticks": ""
             }
            },
            "type": "scattermapbox"
           }
          ],
          "scatterpolar": [
           {
            "marker": {
             "colorbar": {
              "outlinewidth": 0,
              "ticks": ""
             }
            },
            "type": "scatterpolar"
           }
          ],
          "scatterpolargl": [
           {
            "marker": {
             "colorbar": {
              "outlinewidth": 0,
              "ticks": ""
             }
            },
            "type": "scatterpolargl"
           }
          ],
          "scatterternary": [
           {
            "marker": {
             "colorbar": {
              "outlinewidth": 0,
              "ticks": ""
             }
            },
            "type": "scatterternary"
           }
          ],
          "surface": [
           {
            "colorbar": {
             "outlinewidth": 0,
             "ticks": ""
            },
            "colorscale": [
             [
              0,
              "#0d0887"
             ],
             [
              0.1111111111111111,
              "#46039f"
             ],
             [
              0.2222222222222222,
              "#7201a8"
             ],
             [
              0.3333333333333333,
              "#9c179e"
             ],
             [
              0.4444444444444444,
              "#bd3786"
             ],
             [
              0.5555555555555556,
              "#d8576b"
             ],
             [
              0.6666666666666666,
              "#ed7953"
             ],
             [
              0.7777777777777778,
              "#fb9f3a"
             ],
             [
              0.8888888888888888,
              "#fdca26"
             ],
             [
              1,
              "#f0f921"
             ]
            ],
            "type": "surface"
           }
          ],
          "table": [
           {
            "cells": {
             "fill": {
              "color": "#EBF0F8"
             },
             "line": {
              "color": "white"
             }
            },
            "header": {
             "fill": {
              "color": "#C8D4E3"
             },
             "line": {
              "color": "white"
             }
            },
            "type": "table"
           }
          ]
         },
         "layout": {
          "annotationdefaults": {
           "arrowcolor": "#2a3f5f",
           "arrowhead": 0,
           "arrowwidth": 1
          },
          "autotypenumbers": "strict",
          "coloraxis": {
           "colorbar": {
            "outlinewidth": 0,
            "ticks": ""
           }
          },
          "colorscale": {
           "diverging": [
            [
             0,
             "#8e0152"
            ],
            [
             0.1,
             "#c51b7d"
            ],
            [
             0.2,
             "#de77ae"
            ],
            [
             0.3,
             "#f1b6da"
            ],
            [
             0.4,
             "#fde0ef"
            ],
            [
             0.5,
             "#f7f7f7"
            ],
            [
             0.6,
             "#e6f5d0"
            ],
            [
             0.7,
             "#b8e186"
            ],
            [
             0.8,
             "#7fbc41"
            ],
            [
             0.9,
             "#4d9221"
            ],
            [
             1,
             "#276419"
            ]
           ],
           "sequential": [
            [
             0,
             "#0d0887"
            ],
            [
             0.1111111111111111,
             "#46039f"
            ],
            [
             0.2222222222222222,
             "#7201a8"
            ],
            [
             0.3333333333333333,
             "#9c179e"
            ],
            [
             0.4444444444444444,
             "#bd3786"
            ],
            [
             0.5555555555555556,
             "#d8576b"
            ],
            [
             0.6666666666666666,
             "#ed7953"
            ],
            [
             0.7777777777777778,
             "#fb9f3a"
            ],
            [
             0.8888888888888888,
             "#fdca26"
            ],
            [
             1,
             "#f0f921"
            ]
           ],
           "sequentialminus": [
            [
             0,
             "#0d0887"
            ],
            [
             0.1111111111111111,
             "#46039f"
            ],
            [
             0.2222222222222222,
             "#7201a8"
            ],
            [
             0.3333333333333333,
             "#9c179e"
            ],
            [
             0.4444444444444444,
             "#bd3786"
            ],
            [
             0.5555555555555556,
             "#d8576b"
            ],
            [
             0.6666666666666666,
             "#ed7953"
            ],
            [
             0.7777777777777778,
             "#fb9f3a"
            ],
            [
             0.8888888888888888,
             "#fdca26"
            ],
            [
             1,
             "#f0f921"
            ]
           ]
          },
          "colorway": [
           "#636efa",
           "#EF553B",
           "#00cc96",
           "#ab63fa",
           "#FFA15A",
           "#19d3f3",
           "#FF6692",
           "#B6E880",
           "#FF97FF",
           "#FECB52"
          ],
          "font": {
           "color": "#2a3f5f"
          },
          "geo": {
           "bgcolor": "white",
           "lakecolor": "white",
           "landcolor": "#E5ECF6",
           "showlakes": true,
           "showland": true,
           "subunitcolor": "white"
          },
          "hoverlabel": {
           "align": "left"
          },
          "hovermode": "closest",
          "mapbox": {
           "style": "light"
          },
          "paper_bgcolor": "white",
          "plot_bgcolor": "#E5ECF6",
          "polar": {
           "angularaxis": {
            "gridcolor": "white",
            "linecolor": "white",
            "ticks": ""
           },
           "bgcolor": "#E5ECF6",
           "radialaxis": {
            "gridcolor": "white",
            "linecolor": "white",
            "ticks": ""
           }
          },
          "scene": {
           "xaxis": {
            "backgroundcolor": "#E5ECF6",
            "gridcolor": "white",
            "gridwidth": 2,
            "linecolor": "white",
            "showbackground": true,
            "ticks": "",
            "zerolinecolor": "white"
           },
           "yaxis": {
            "backgroundcolor": "#E5ECF6",
            "gridcolor": "white",
            "gridwidth": 2,
            "linecolor": "white",
            "showbackground": true,
            "ticks": "",
            "zerolinecolor": "white"
           },
           "zaxis": {
            "backgroundcolor": "#E5ECF6",
            "gridcolor": "white",
            "gridwidth": 2,
            "linecolor": "white",
            "showbackground": true,
            "ticks": "",
            "zerolinecolor": "white"
           }
          },
          "shapedefaults": {
           "line": {
            "color": "#2a3f5f"
           }
          },
          "ternary": {
           "aaxis": {
            "gridcolor": "white",
            "linecolor": "white",
            "ticks": ""
           },
           "baxis": {
            "gridcolor": "white",
            "linecolor": "white",
            "ticks": ""
           },
           "bgcolor": "#E5ECF6",
           "caxis": {
            "gridcolor": "white",
            "linecolor": "white",
            "ticks": ""
           }
          },
          "title": {
           "x": 0.05
          },
          "xaxis": {
           "automargin": true,
           "gridcolor": "white",
           "linecolor": "white",
           "ticks": "",
           "title": {
            "standoff": 15
           },
           "zerolinecolor": "white",
           "zerolinewidth": 2
          },
          "yaxis": {
           "automargin": true,
           "gridcolor": "white",
           "linecolor": "white",
           "ticks": "",
           "title": {
            "standoff": 15
           },
           "zerolinecolor": "white",
           "zerolinewidth": 2
          }
         }
        },
        "title": {
         "text": "Arganzuela"
        },
        "xaxis": {
         "anchor": "y",
         "domain": [
          0,
          1
         ],
         "title": {
          "text": "price"
         }
        },
        "yaxis": {
         "anchor": "x",
         "domain": [
          0,
          1
         ],
         "title": {
          "text": "demand"
         }
        }
       }
      },
      "text/html": [
       "<div>                            <div id=\"376937e3-a1c7-4096-bf27-24ecc88283a1\" class=\"plotly-graph-div\" style=\"height:525px; width:100%;\"></div>            <script type=\"text/javascript\">                require([\"plotly\"], function(Plotly) {                    window.PLOTLYENV=window.PLOTLYENV || {};                                    if (document.getElementById(\"376937e3-a1c7-4096-bf27-24ecc88283a1\")) {                    Plotly.newPlot(                        \"376937e3-a1c7-4096-bf27-24ecc88283a1\",                        [{\"hovertemplate\":\"price=%{x}<br>demand=%{y}<extra></extra>\",\"legendgroup\":\"\",\"marker\":{\"color\":\"#636efa\",\"symbol\":\"circle\"},\"mode\":\"markers\",\"name\":\"\",\"orientation\":\"v\",\"showlegend\":false,\"x\":[10.0,11.0,12.0,13.0,14.000000000000002,15.0,16.0,17.0,18.0,19.0,20.0,21.0,22.0,23.0,24.0,25.0,26.0,27.0,28.000000000000004,28.999999999999996,30.0,31.0,32.0,33.0,34.0,35.0,36.0,37.0,38.0,39.0,40.0,41.0,42.0,43.0,44.0,45.0,46.0,47.0,48.0,49.0,50.0,51.0,52.0,53.0,54.0,55.00000000000001,56.00000000000001,56.99999999999999,57.99999999999999,59.0,60.0,61.0,62.0,63.0,64.0,65.0,66.0,67.0,68.0,69.0,70.0,71.0,72.0,73.0,74.0,75.0,76.0,77.0,78.0,79.0,80.0,81.0,82.0,83.0,84.0,85.0,86.0,87.0,88.0,89.0,90.0,91.0,92.0,93.0,94.0,95.0,96.0,97.0,98.0,99.0,100.0,101.0,102.0,103.0,104.0,105.0,106.0,107.0,108.0,109.00000000000001,110.00000000000001,111.00000000000001,112.00000000000001,112.99999999999999,113.99999999999999,114.99999999999999,115.99999999999999,117.0,118.0,119.0,120.0,121.0,122.0,123.0,124.0,125.0,126.0,127.0,128.0,129.0,130.0,131.0,132.0,133.0,134.0,135.0,136.0,137.0,138.0,139.0,140.0,141.0,142.0,143.0,144.0,145.0,146.0,147.0,148.0,149.0,150.0,151.0,152.0,153.0,154.0,155.0,156.0,157.0,158.0,159.0,160.0,161.0,162.0,163.0,164.0,165.0,166.0,167.0,168.0,169.0,170.0,171.0,172.0,173.0,174.0,175.0,176.0,177.0,178.0,179.0,180.0,181.0,182.0,183.0,184.0,185.0,186.0,187.0,188.0,189.0,190.0,191.0,192.0,193.0,194.0,195.0,196.0,197.0,198.0,199.0,200.0,200.99999999999997,202.0,202.99999999999997,204.0,204.99999999999997,206.0,206.99999999999997,208.0,209.0,210.0,211.0,212.0,213.0,214.0,215.0,216.0,217.0,218.00000000000003,219.0,220.00000000000003,221.0,222.00000000000003,223.0,224.00000000000003,225.0,225.99999999999997,227.0,227.99999999999997,229.0,229.99999999999997,231.0,231.99999999999997,233.0,234.0,235.0,236.0,237.0,238.0,239.0,240.0,241.0,242.0,243.00000000000003,244.0,245.00000000000003,246.0,247.00000000000003,248.0,249.00000000000003,250.0,250.99999999999997,252.0,252.99999999999997,254.0,254.99999999999997,256.0,257.0,258.0,259.0,260.0,261.0,262.0,263.0,264.0,265.0,266.0,267.0,268.0,269.0,270.0,271.0,272.0,273.0,274.0,275.0,276.0,277.0,278.0,279.0,280.0,281.0,282.0,283.0,284.0,285.0,286.0,287.0,288.0,289.0,290.0,291.0,292.0,293.0,294.0,295.0,296.0,297.0,298.0,299.0,300.0,301.0,302.0,303.0,304.0,305.0,306.0,307.0,308.0,309.0,310.0,311.0,312.0,313.0,314.0,315.0,316.0,317.0,318.0,319.0,320.0,321.0,322.0,323.0,324.0,325.0,326.0,327.0,328.0,329.0,330.0,331.0,332.0,333.0,334.0,335.0,336.0,337.0,338.0,339.0,340.0,341.0,342.0,343.0,344.0,345.0,346.0,347.0,348.0,349.0,350.0,351.0,352.0,353.0,354.0,355.0,356.0,357.0,358.0,359.0,360.0,361.0,362.0,363.0,364.0,365.0,366.0,367.0,368.0,369.0,370.0,371.0,372.0,373.0,374.0,375.0,376.0,377.0,378.0,379.0,380.0,381.0,382.0,383.0,384.0,385.0,386.0,387.0,388.0,389.0,390.0,391.0,392.0,393.0,394.0,395.0,396.0,397.0,398.0,399.0,400.0,401.0,401.99999999999994,403.0,404.0,405.0,405.99999999999994,407.0,408.0,409.0,409.99999999999994,411.00000000000006,412.0,413.0,413.99999999999994,415.00000000000006,416.0,417.0,418.0,419.00000000000006,420.0,421.0,422.0,423.00000000000006,424.0,425.0,426.0,426.99999999999994,428.0,429.0,430.0,430.99999999999994,432.0,433.0,434.0,434.99999999999994,436.00000000000006,437.0,438.0,438.99999999999994,440.00000000000006,441.0,442.0,443.0,444.00000000000006,445.0,446.0,447.0,448.00000000000006,449.0,450.0,451.0,451.99999999999994,453.0,454.0,455.0,455.99999999999994,457.0,458.0,459.0,459.99999999999994,461.00000000000006,462.0,463.0,463.99999999999994,465.00000000000006,466.0,467.0,468.0,469.00000000000006,470.0,471.0,472.0,473.00000000000006,474.0,475.0,476.0,476.99999999999994,478.0,479.0,480.0,480.99999999999994,482.0,483.0,484.0,484.99999999999994,486.00000000000006,487.0,488.0,488.99999999999994,490.00000000000006,491.0,492.0,493.0,494.00000000000006,495.0,496.0,497.0,498.00000000000006,499.0,500.0,501.0,501.99999999999994,503.0,504.0,505.0,505.99999999999994,507.0,508.0,509.0],\"xaxis\":\"x\",\"y\":[310.6891687553285,310.36420795041903,310.03958703352447,309.7153056491433,309.39136344214677,309.06776005777743,308.74449514164826,308.42156833974354,308.09897929841793,307.7767276643951,307.4548130847691,307.1332352070031,306.8119936789281,306.4910881487443,306.17051826502,305.85028367669,305.5303840330573,305.2108189837914,304.8915881789285,304.5726912688699,304.2541279043835,303.9358977366025,303.61800041702406,303.3004355975108,302.98320293028934,302.6663020679493,302.3497326634445,302.03349437009166,301.71758684156947,301.4020097319194,301.0867626955451,300.77184538721053,300.4572574620418,300.14299857552567,299.8290683835084,299.5154665421971,299.20219270815807,298.88924653831714,298.57662768995823,298.2643358207245,297.9523705886171,297.6407316519942,297.3294186695721,297.01843130042397,296.7077692039788,296.3974320400227,296.0874194686974,295.7777311504996,295.4683667462817,295.1593259172508,294.8506083249676,294.5422136313477,294.2341414986599,293.92639158952653,293.6189635669221,293.31185709417434,293.0050718349631,292.69860745331926,292.3924636136258,292.08663998061695,291.78113621937655,291.47595199533976,291.1710869742914,290.86654082236544,290.5623132060454,290.25840379216413,289.9548122479017,289.6515382407874,289.34858143869775,289.0459415098572,288.74361812283615,288.44161094655266,288.13991965027094,287.83854390360034,287.53748337649665,287.23673773926083,286.9363066625379,286.63618981731815,286.3363868749359,286.0368975070686,285.73772138573787,285.4388581833082,285.14030757248617,284.8420692263214,284.54414281820556,284.24652802187103,283.9492245113922,283.6522319611842,283.355550046003,283.0591784409438,282.7631168214427,282.46736486327484,282.17192224255405,281.8767886357337,281.5819637196053,281.2874471712979,280.99323866827893,280.69933788835317,280.40574450966164,280.1124582106827,279.81947867023104,279.5268055674566,279.23443858184567,278.94237739321966,278.6506216817341,278.35917112787996,278.0680254124821,277.77718421669937,277.4866472220234,277.19641411027976,276.9064845636268,276.61685826455454,276.32753489588583,276.0385141407753,275.74979568270817,275.4613792055015,275.1732643933031,274.8854509305904,274.5979385021715,274.31072679318413,274.02381548909483,273.7372042756997,273.4508928391232,273.1648808658184,272.8791680425656,272.59375405647336,272.3086385949776,272.0238213458404,271.7393019971511,271.45508023732526,271.17115575510377,270.88752823955366,270.6041973800672,270.3211628663608,270.0384243884762,269.75598163677927,269.4738343019591,269.19198207502876,268.9104246473247,268.6291617105061,268.34819295655393,268.0675180777723,267.787136766787,267.50704871654455,267.2272536203134,266.94775117168274,266.66854106456174,266.3896229931802,266.1109966520878,265.83266173615317,265.5546179405646,265.27686496082913,264.9994024927718,264.7222302325364,264.4453478765845,264.1687551216944,263.8924516649625,263.6164372038014,263.3407114359408,263.06527405942563,262.7901247726174,262.51526327419305,262.24068926314413,261.96640243877766,261.6924025007151,261.4186891488915,261.14526208355625,260.87212100527256,260.59926561491596,260.3266956136755,260.05441070305284,259.78241058486117,259.51069496122625,259.23926353458535,258.96811600768626,258.69725208358847,258.4266714656618,258.15637385758646,257.88635896335194,257.61662648725815,257.3471761339141,257.0780076082372,256.80912061545416,256.5405148610999,256.2721900510168,256.0041458913555,255.73638208857403,255.46889834943673,255.20169438101536,254.93476989068802,254.66812458613822,254.40175817535592,254.13567036663625,253.86986086857962,253.60432939009067,253.3390756403791,253.07409932895874,252.8094001656466,252.54497786056393,252.2808321241351,252.0169626670867,251.75336920044856,251.4900514355528,251.22700908403272,250.96424185782396,250.70174946916345,250.43953163058836,250.1775880549373,249.91591845534896,249.6545225452623,249.39340003841534,249.13255064884612,248.87197409089188,248.61167007918792,248.35163832866868,248.09187855456676,247.83239047241196,247.57317379803226,247.31422824755288,247.05555353739527,246.7971493842782,246.53901550521672,246.28115161752112,246.02355743879812,245.7662326869498,245.50917708017255,245.25239033695829,244.99587217609303,244.73962231665726,244.48364047802454,244.22792637986268,243.9724797421326,243.71730028508756,243.462387729274,243.20774179553078,242.95336220498788,242.6992486790678,242.44540093948436,242.19181870824173,241.9385017076356,241.68544966025203,241.43266228896664,241.18013931694557,240.92788046764443,240.67588546480752,240.4241540324687,240.1726858949502,239.92148077686292,239.67053840310507,239.41985849886325,239.1694407896115,238.91928500111044,238.669390859408,238.4197580908388,238.17038642202297,237.92127557986726,237.67242529156402,237.42383528459035,237.175505286709,236.92743502596724,236.67962423069702,236.43207262951375,236.1847799513174,235.9377459252915,235.6909702809021,235.4444527478989,235.19819305631432,234.95219093646242,234.70644611894005,234.46095833462581,234.2157273146791,233.9707527905412,233.7260344939343,233.4815721568605,233.23736551160286,232.9934142907245,232.74971822706758,232.5062770537543,232.2630905041859,232.02015831204253,231.77748021128235,231.53505593614238,231.29288522113765,231.05096780106024,230.80930341098016,230.56789178624462,230.32673266247696,230.0858257755777,229.84517086172357,229.6047676573666,229.3646158992352,229.12471532433295,228.88506566993806,228.64566667360413,228.40651807315913,228.1676196067048,227.9289710126173,227.6905720295463,227.452422396415,227.21452185241904,226.97687013702748,226.73946698998188,226.5023121512954,226.26540536125373,226.02874636041423,225.79233488960494,225.55617068992572,225.32025350274705,225.08458306970948,224.84915913272425,224.61398143397247,224.379049715905,224.14436372124158,223.90992319297175,223.67572787435316,223.4417775089125,223.2080718404446,222.97461061301246,222.7413935709461,222.50842045884357,222.27569102157014,222.04320500425726,221.81096215230357,221.578962211374,221.34720492739893,221.11569004657503,220.88441731536446,220.653386480494,220.42259728895584,220.19204948800672,219.96174282516785,219.73167704822393,219.50185190522427,219.27226714448094,219.0429225145698,218.81381776432949,218.5849526428616,218.3563268995295,218.1279402839593,217.89979254603904,217.6718834359177,217.44421270400622,217.2167801009766,216.989585377761,216.76262828555267,216.53590857580517,216.30942600023135,216.08318031080438,215.85717125975668,215.63139859957994,215.4058620830242,215.1805614630987,214.95549649307097,214.73066692646606,214.5060725170674,214.2817130189159,214.05758818630918,213.83369777380244,213.61004153620763,213.38661922859248,213.16343060628154,212.94047542485526,212.7177534401492,212.49526440825483,212.27300808551874,212.05098422854178,211.82919259417997,211.6076329395435,211.38630502199672,211.1652085991572,210.94434342889664,210.72370926933996,210.50330587886452,210.28313301610095,210.06319043993233,209.84347790949337,209.6239951841713,209.40474202360497,209.18571818768413,208.9669234365502,208.74835753059546,208.53002023046224,208.31191129704382,208.09403049148358,207.87637757517408,207.65895230975812,207.44175445712756,207.2247837794235,207.00804003903522,206.79152299860118,206.57523242100805,206.35916806938994,206.14332970712928,205.92771709785598,205.71233000544663,205.49716819402536,205.28223142796293,205.06751947187612,204.8530320906284,204.63876904932914,204.42473011333288,204.21091504824014,203.99732361989643,203.7839555943923,203.57081073806248,203.35788881748658,203.14518959948842,202.93271285113508,202.72045833973786,202.5084258328515,202.29661509827318,202.08502590404362,201.87365801844606,201.66251121000565,201.45158524749013,201.2408798999091,201.0303949365132,200.82013012679505,200.61008524048805,200.40026004756675,200.19065431824566,199.9812678229804,199.77210033246595,199.5631516176377,199.35442144967035,199.14590959997818,198.93761584021408,198.72953994227018,198.5216816782773,198.31404082060405,198.10661714185758,197.89941041488296,197.69242041276232,197.48564690881562,197.27908967659974,197.0727484899086,196.86662312277218,196.66071334945735,196.45501894446707,196.24953968253962,196.04427533864944,195.8392256880063,195.6343905060546,195.42976956847411,195.2253626511792,195.0211695303182,194.81718998227396,194.61342378366328,194.40987071133608,194.20653054237624,194.00340305410074,193.800488024059,193.59778523003357,193.39529445003947,193.19301546232336,192.99094804536438,192.78909197787317,192.58744703879202,192.3860130072939,192.1847896627833,191.98377678489535,191.78297415349527,191.58238154867894,191.3819987507723,191.18182554033058,190.9818616981389,190.78210700521186,190.58256124279245,190.38322419235303,190.18409563559433,189.98517535444563,189.78646313106373,189.58795874783382,189.3896619873687,189.191572632508,188.99369046631907,188.79601527209607,188.59854683335936,188.40128493385623,188.20422935756017,188.00737988867004,187.81073631161104,187.61429841103373,187.41806597181346,187.2220387790511,187.0262166180723,186.8305992744267,186.63518653388874,186.43997818245683,186.24497400635332,186.05017379202363,185.8555773261373,185.66118439558628,185.46699478748587,185.273008289174,185.07922468821104,184.88564377237915,184.69226532968298,184.49908914834884,184.30611501682407],\"yaxis\":\"y\",\"type\":\"scatter\"}],                        {\"template\":{\"data\":{\"histogram2dcontour\":[{\"type\":\"histogram2dcontour\",\"colorbar\":{\"outlinewidth\":0,\"ticks\":\"\"},\"colorscale\":[[0.0,\"#0d0887\"],[0.1111111111111111,\"#46039f\"],[0.2222222222222222,\"#7201a8\"],[0.3333333333333333,\"#9c179e\"],[0.4444444444444444,\"#bd3786\"],[0.5555555555555556,\"#d8576b\"],[0.6666666666666666,\"#ed7953\"],[0.7777777777777778,\"#fb9f3a\"],[0.8888888888888888,\"#fdca26\"],[1.0,\"#f0f921\"]]}],\"choropleth\":[{\"type\":\"choropleth\",\"colorbar\":{\"outlinewidth\":0,\"ticks\":\"\"}}],\"histogram2d\":[{\"type\":\"histogram2d\",\"colorbar\":{\"outlinewidth\":0,\"ticks\":\"\"},\"colorscale\":[[0.0,\"#0d0887\"],[0.1111111111111111,\"#46039f\"],[0.2222222222222222,\"#7201a8\"],[0.3333333333333333,\"#9c179e\"],[0.4444444444444444,\"#bd3786\"],[0.5555555555555556,\"#d8576b\"],[0.6666666666666666,\"#ed7953\"],[0.7777777777777778,\"#fb9f3a\"],[0.8888888888888888,\"#fdca26\"],[1.0,\"#f0f921\"]]}],\"heatmap\":[{\"type\":\"heatmap\",\"colorbar\":{\"outlinewidth\":0,\"ticks\":\"\"},\"colorscale\":[[0.0,\"#0d0887\"],[0.1111111111111111,\"#46039f\"],[0.2222222222222222,\"#7201a8\"],[0.3333333333333333,\"#9c179e\"],[0.4444444444444444,\"#bd3786\"],[0.5555555555555556,\"#d8576b\"],[0.6666666666666666,\"#ed7953\"],[0.7777777777777778,\"#fb9f3a\"],[0.8888888888888888,\"#fdca26\"],[1.0,\"#f0f921\"]]}],\"heatmapgl\":[{\"type\":\"heatmapgl\",\"colorbar\":{\"outlinewidth\":0,\"ticks\":\"\"},\"colorscale\":[[0.0,\"#0d0887\"],[0.1111111111111111,\"#46039f\"],[0.2222222222222222,\"#7201a8\"],[0.3333333333333333,\"#9c179e\"],[0.4444444444444444,\"#bd3786\"],[0.5555555555555556,\"#d8576b\"],[0.6666666666666666,\"#ed7953\"],[0.7777777777777778,\"#fb9f3a\"],[0.8888888888888888,\"#fdca26\"],[1.0,\"#f0f921\"]]}],\"contourcarpet\":[{\"type\":\"contourcarpet\",\"colorbar\":{\"outlinewidth\":0,\"ticks\":\"\"}}],\"contour\":[{\"type\":\"contour\",\"colorbar\":{\"outlinewidth\":0,\"ticks\":\"\"},\"colorscale\":[[0.0,\"#0d0887\"],[0.1111111111111111,\"#46039f\"],[0.2222222222222222,\"#7201a8\"],[0.3333333333333333,\"#9c179e\"],[0.4444444444444444,\"#bd3786\"],[0.5555555555555556,\"#d8576b\"],[0.6666666666666666,\"#ed7953\"],[0.7777777777777778,\"#fb9f3a\"],[0.8888888888888888,\"#fdca26\"],[1.0,\"#f0f921\"]]}],\"surface\":[{\"type\":\"surface\",\"colorbar\":{\"outlinewidth\":0,\"ticks\":\"\"},\"colorscale\":[[0.0,\"#0d0887\"],[0.1111111111111111,\"#46039f\"],[0.2222222222222222,\"#7201a8\"],[0.3333333333333333,\"#9c179e\"],[0.4444444444444444,\"#bd3786\"],[0.5555555555555556,\"#d8576b\"],[0.6666666666666666,\"#ed7953\"],[0.7777777777777778,\"#fb9f3a\"],[0.8888888888888888,\"#fdca26\"],[1.0,\"#f0f921\"]]}],\"mesh3d\":[{\"type\":\"mesh3d\",\"colorbar\":{\"outlinewidth\":0,\"ticks\":\"\"}}],\"scatter\":[{\"fillpattern\":{\"fillmode\":\"overlay\",\"size\":10,\"solidity\":0.2},\"type\":\"scatter\"}],\"parcoords\":[{\"type\":\"parcoords\",\"line\":{\"colorbar\":{\"outlinewidth\":0,\"ticks\":\"\"}}}],\"scatterpolargl\":[{\"type\":\"scatterpolargl\",\"marker\":{\"colorbar\":{\"outlinewidth\":0,\"ticks\":\"\"}}}],\"bar\":[{\"error_x\":{\"color\":\"#2a3f5f\"},\"error_y\":{\"color\":\"#2a3f5f\"},\"marker\":{\"line\":{\"color\":\"#E5ECF6\",\"width\":0.5},\"pattern\":{\"fillmode\":\"overlay\",\"size\":10,\"solidity\":0.2}},\"type\":\"bar\"}],\"scattergeo\":[{\"type\":\"scattergeo\",\"marker\":{\"colorbar\":{\"outlinewidth\":0,\"ticks\":\"\"}}}],\"scatterpolar\":[{\"type\":\"scatterpolar\",\"marker\":{\"colorbar\":{\"outlinewidth\":0,\"ticks\":\"\"}}}],\"histogram\":[{\"marker\":{\"pattern\":{\"fillmode\":\"overlay\",\"size\":10,\"solidity\":0.2}},\"type\":\"histogram\"}],\"scattergl\":[{\"type\":\"scattergl\",\"marker\":{\"colorbar\":{\"outlinewidth\":0,\"ticks\":\"\"}}}],\"scatter3d\":[{\"type\":\"scatter3d\",\"line\":{\"colorbar\":{\"outlinewidth\":0,\"ticks\":\"\"}},\"marker\":{\"colorbar\":{\"outlinewidth\":0,\"ticks\":\"\"}}}],\"scattermapbox\":[{\"type\":\"scattermapbox\",\"marker\":{\"colorbar\":{\"outlinewidth\":0,\"ticks\":\"\"}}}],\"scatterternary\":[{\"type\":\"scatterternary\",\"marker\":{\"colorbar\":{\"outlinewidth\":0,\"ticks\":\"\"}}}],\"scattercarpet\":[{\"type\":\"scattercarpet\",\"marker\":{\"colorbar\":{\"outlinewidth\":0,\"ticks\":\"\"}}}],\"carpet\":[{\"aaxis\":{\"endlinecolor\":\"#2a3f5f\",\"gridcolor\":\"white\",\"linecolor\":\"white\",\"minorgridcolor\":\"white\",\"startlinecolor\":\"#2a3f5f\"},\"baxis\":{\"endlinecolor\":\"#2a3f5f\",\"gridcolor\":\"white\",\"linecolor\":\"white\",\"minorgridcolor\":\"white\",\"startlinecolor\":\"#2a3f5f\"},\"type\":\"carpet\"}],\"table\":[{\"cells\":{\"fill\":{\"color\":\"#EBF0F8\"},\"line\":{\"color\":\"white\"}},\"header\":{\"fill\":{\"color\":\"#C8D4E3\"},\"line\":{\"color\":\"white\"}},\"type\":\"table\"}],\"barpolar\":[{\"marker\":{\"line\":{\"color\":\"#E5ECF6\",\"width\":0.5},\"pattern\":{\"fillmode\":\"overlay\",\"size\":10,\"solidity\":0.2}},\"type\":\"barpolar\"}],\"pie\":[{\"automargin\":true,\"type\":\"pie\"}]},\"layout\":{\"autotypenumbers\":\"strict\",\"colorway\":[\"#636efa\",\"#EF553B\",\"#00cc96\",\"#ab63fa\",\"#FFA15A\",\"#19d3f3\",\"#FF6692\",\"#B6E880\",\"#FF97FF\",\"#FECB52\"],\"font\":{\"color\":\"#2a3f5f\"},\"hovermode\":\"closest\",\"hoverlabel\":{\"align\":\"left\"},\"paper_bgcolor\":\"white\",\"plot_bgcolor\":\"#E5ECF6\",\"polar\":{\"bgcolor\":\"#E5ECF6\",\"angularaxis\":{\"gridcolor\":\"white\",\"linecolor\":\"white\",\"ticks\":\"\"},\"radialaxis\":{\"gridcolor\":\"white\",\"linecolor\":\"white\",\"ticks\":\"\"}},\"ternary\":{\"bgcolor\":\"#E5ECF6\",\"aaxis\":{\"gridcolor\":\"white\",\"linecolor\":\"white\",\"ticks\":\"\"},\"baxis\":{\"gridcolor\":\"white\",\"linecolor\":\"white\",\"ticks\":\"\"},\"caxis\":{\"gridcolor\":\"white\",\"linecolor\":\"white\",\"ticks\":\"\"}},\"coloraxis\":{\"colorbar\":{\"outlinewidth\":0,\"ticks\":\"\"}},\"colorscale\":{\"sequential\":[[0.0,\"#0d0887\"],[0.1111111111111111,\"#46039f\"],[0.2222222222222222,\"#7201a8\"],[0.3333333333333333,\"#9c179e\"],[0.4444444444444444,\"#bd3786\"],[0.5555555555555556,\"#d8576b\"],[0.6666666666666666,\"#ed7953\"],[0.7777777777777778,\"#fb9f3a\"],[0.8888888888888888,\"#fdca26\"],[1.0,\"#f0f921\"]],\"sequentialminus\":[[0.0,\"#0d0887\"],[0.1111111111111111,\"#46039f\"],[0.2222222222222222,\"#7201a8\"],[0.3333333333333333,\"#9c179e\"],[0.4444444444444444,\"#bd3786\"],[0.5555555555555556,\"#d8576b\"],[0.6666666666666666,\"#ed7953\"],[0.7777777777777778,\"#fb9f3a\"],[0.8888888888888888,\"#fdca26\"],[1.0,\"#f0f921\"]],\"diverging\":[[0,\"#8e0152\"],[0.1,\"#c51b7d\"],[0.2,\"#de77ae\"],[0.3,\"#f1b6da\"],[0.4,\"#fde0ef\"],[0.5,\"#f7f7f7\"],[0.6,\"#e6f5d0\"],[0.7,\"#b8e186\"],[0.8,\"#7fbc41\"],[0.9,\"#4d9221\"],[1,\"#276419\"]]},\"xaxis\":{\"gridcolor\":\"white\",\"linecolor\":\"white\",\"ticks\":\"\",\"title\":{\"standoff\":15},\"zerolinecolor\":\"white\",\"automargin\":true,\"zerolinewidth\":2},\"yaxis\":{\"gridcolor\":\"white\",\"linecolor\":\"white\",\"ticks\":\"\",\"title\":{\"standoff\":15},\"zerolinecolor\":\"white\",\"automargin\":true,\"zerolinewidth\":2},\"scene\":{\"xaxis\":{\"backgroundcolor\":\"#E5ECF6\",\"gridcolor\":\"white\",\"linecolor\":\"white\",\"showbackground\":true,\"ticks\":\"\",\"zerolinecolor\":\"white\",\"gridwidth\":2},\"yaxis\":{\"backgroundcolor\":\"#E5ECF6\",\"gridcolor\":\"white\",\"linecolor\":\"white\",\"showbackground\":true,\"ticks\":\"\",\"zerolinecolor\":\"white\",\"gridwidth\":2},\"zaxis\":{\"backgroundcolor\":\"#E5ECF6\",\"gridcolor\":\"white\",\"linecolor\":\"white\",\"showbackground\":true,\"ticks\":\"\",\"zerolinecolor\":\"white\",\"gridwidth\":2}},\"shapedefaults\":{\"line\":{\"color\":\"#2a3f5f\"}},\"annotationdefaults\":{\"arrowcolor\":\"#2a3f5f\",\"arrowhead\":0,\"arrowwidth\":1},\"geo\":{\"bgcolor\":\"white\",\"landcolor\":\"#E5ECF6\",\"subunitcolor\":\"white\",\"showland\":true,\"showlakes\":true,\"lakecolor\":\"white\"},\"title\":{\"x\":0.05},\"mapbox\":{\"style\":\"light\"}}},\"xaxis\":{\"anchor\":\"y\",\"domain\":[0.0,1.0],\"title\":{\"text\":\"price\"}},\"yaxis\":{\"anchor\":\"x\",\"domain\":[0.0,1.0],\"title\":{\"text\":\"demand\"}},\"legend\":{\"tracegroupgap\":0},\"title\":{\"text\":\"Arganzuela\"}},                        {\"responsive\": true}                    ).then(function(){\n",
       "                            \n",
       "var gd = document.getElementById('376937e3-a1c7-4096-bf27-24ecc88283a1');\n",
       "var x = new MutationObserver(function (mutations, observer) {{\n",
       "        var display = window.getComputedStyle(gd).display;\n",
       "        if (!display || display === 'none') {{\n",
       "            console.log([gd, 'removed!']);\n",
       "            Plotly.purge(gd);\n",
       "            observer.disconnect();\n",
       "        }}\n",
       "}});\n",
       "\n",
       "// Listen for the removal of the full notebook cells\n",
       "var notebookContainer = gd.closest('#notebook-container');\n",
       "if (notebookContainer) {{\n",
       "    x.observe(notebookContainer, {childList: true});\n",
       "}}\n",
       "\n",
       "// Listen for the clearing of the current output cell\n",
       "var outputEl = gd.closest('.output');\n",
       "if (outputEl) {{\n",
       "    x.observe(outputEl, {childList: true});\n",
       "}}\n",
       "\n",
       "                        })                };                });            </script>        </div>"
      ]
     },
     "metadata": {},
     "output_type": "display_data"
    },
    {
     "data": {
      "application/vnd.plotly.v1+json": {
       "config": {
        "plotlyServerURL": "https://plot.ly"
       },
       "data": [
        {
         "hovertemplate": "price=%{x}<br>income=%{y}<extra></extra>",
         "legendgroup": "",
         "marker": {
          "color": "#636efa",
          "symbol": "circle"
         },
         "mode": "markers",
         "name": "",
         "orientation": "v",
         "showlegend": false,
         "type": "scatter",
         "x": [
          10,
          11,
          12,
          13,
          14.000000000000002,
          15,
          16,
          17,
          18,
          19,
          20,
          21,
          22,
          23,
          24,
          25,
          26,
          27,
          28.000000000000004,
          28.999999999999996,
          30,
          31,
          32,
          33,
          34,
          35,
          36,
          37,
          38,
          39,
          40,
          41,
          42,
          43,
          44,
          45,
          46,
          47,
          48,
          49,
          50,
          51,
          52,
          53,
          54,
          55.00000000000001,
          56.00000000000001,
          56.99999999999999,
          57.99999999999999,
          59,
          60,
          61,
          62,
          63,
          64,
          65,
          66,
          67,
          68,
          69,
          70,
          71,
          72,
          73,
          74,
          75,
          76,
          77,
          78,
          79,
          80,
          81,
          82,
          83,
          84,
          85,
          86,
          87,
          88,
          89,
          90,
          91,
          92,
          93,
          94,
          95,
          96,
          97,
          98,
          99,
          100,
          101,
          102,
          103,
          104,
          105,
          106,
          107,
          108,
          109.00000000000001,
          110.00000000000001,
          111.00000000000001,
          112.00000000000001,
          112.99999999999999,
          113.99999999999999,
          114.99999999999999,
          115.99999999999999,
          117,
          118,
          119,
          120,
          121,
          122,
          123,
          124,
          125,
          126,
          127,
          128,
          129,
          130,
          131,
          132,
          133,
          134,
          135,
          136,
          137,
          138,
          139,
          140,
          141,
          142,
          143,
          144,
          145,
          146,
          147,
          148,
          149,
          150,
          151,
          152,
          153,
          154,
          155,
          156,
          157,
          158,
          159,
          160,
          161,
          162,
          163,
          164,
          165,
          166,
          167,
          168,
          169,
          170,
          171,
          172,
          173,
          174,
          175,
          176,
          177,
          178,
          179,
          180,
          181,
          182,
          183,
          184,
          185,
          186,
          187,
          188,
          189,
          190,
          191,
          192,
          193,
          194,
          195,
          196,
          197,
          198,
          199,
          200,
          200.99999999999997,
          202,
          202.99999999999997,
          204,
          204.99999999999997,
          206,
          206.99999999999997,
          208,
          209,
          210,
          211,
          212,
          213,
          214,
          215,
          216,
          217,
          218.00000000000003,
          219,
          220.00000000000003,
          221,
          222.00000000000003,
          223,
          224.00000000000003,
          225,
          225.99999999999997,
          227,
          227.99999999999997,
          229,
          229.99999999999997,
          231,
          231.99999999999997,
          233,
          234,
          235,
          236,
          237,
          238,
          239,
          240,
          241,
          242,
          243.00000000000003,
          244,
          245.00000000000003,
          246,
          247.00000000000003,
          248,
          249.00000000000003,
          250,
          250.99999999999997,
          252,
          252.99999999999997,
          254,
          254.99999999999997,
          256,
          257,
          258,
          259,
          260,
          261,
          262,
          263,
          264,
          265,
          266,
          267,
          268,
          269,
          270,
          271,
          272,
          273,
          274,
          275,
          276,
          277,
          278,
          279,
          280,
          281,
          282,
          283,
          284,
          285,
          286,
          287,
          288,
          289,
          290,
          291,
          292,
          293,
          294,
          295,
          296,
          297,
          298,
          299,
          300,
          301,
          302,
          303,
          304,
          305,
          306,
          307,
          308,
          309,
          310,
          311,
          312,
          313,
          314,
          315,
          316,
          317,
          318,
          319,
          320,
          321,
          322,
          323,
          324,
          325,
          326,
          327,
          328,
          329,
          330,
          331,
          332,
          333,
          334,
          335,
          336,
          337,
          338,
          339,
          340,
          341,
          342,
          343,
          344,
          345,
          346,
          347,
          348,
          349,
          350,
          351,
          352,
          353,
          354,
          355,
          356,
          357,
          358,
          359,
          360,
          361,
          362,
          363,
          364,
          365,
          366,
          367,
          368,
          369,
          370,
          371,
          372,
          373,
          374,
          375,
          376,
          377,
          378,
          379,
          380,
          381,
          382,
          383,
          384,
          385,
          386,
          387,
          388,
          389,
          390,
          391,
          392,
          393,
          394,
          395,
          396,
          397,
          398,
          399,
          400,
          401,
          401.99999999999994,
          403,
          404,
          405,
          405.99999999999994,
          407,
          408,
          409,
          409.99999999999994,
          411.00000000000006,
          412,
          413,
          413.99999999999994,
          415.00000000000006,
          416,
          417,
          418,
          419.00000000000006,
          420,
          421,
          422,
          423.00000000000006,
          424,
          425,
          426,
          426.99999999999994,
          428,
          429,
          430,
          430.99999999999994,
          432,
          433,
          434,
          434.99999999999994,
          436.00000000000006,
          437,
          438,
          438.99999999999994,
          440.00000000000006,
          441,
          442,
          443,
          444.00000000000006,
          445,
          446,
          447,
          448.00000000000006,
          449,
          450,
          451,
          451.99999999999994,
          453,
          454,
          455,
          455.99999999999994,
          457,
          458,
          459,
          459.99999999999994,
          461.00000000000006,
          462,
          463,
          463.99999999999994,
          465.00000000000006,
          466,
          467,
          468,
          469.00000000000006,
          470,
          471,
          472,
          473.00000000000006,
          474,
          475,
          476,
          476.99999999999994,
          478,
          479,
          480,
          480.99999999999994,
          482,
          483,
          484,
          484.99999999999994,
          486.00000000000006,
          487,
          488,
          488.99999999999994,
          490.00000000000006,
          491,
          492,
          493,
          494.00000000000006,
          495,
          496,
          497,
          498.00000000000006,
          499,
          500,
          501,
          501.99999999999994,
          503,
          504,
          505,
          505.99999999999994,
          507,
          508,
          509
         ],
         "xaxis": "x",
         "y": [
          3106.891687553285,
          3414.0062874546093,
          3720.475044402294,
          4026.298973438863,
          4331.479088190055,
          4636.016400866662,
          4939.911922266372,
          5243.16666177564,
          5545.7816273715225,
          5847.7578256235065,
          6149.096261695382,
          6449.797939347065,
          6749.863860936418,
          7049.29502742112,
          7348.09243836048,
          7646.25709191725,
          7943.78998485949,
          8240.692112562368,
          8536.96446901,
          8832.608046797226,
          9127.623837131505,
          9422.012829834677,
          9715.77601334477,
          10008.914374717855,
          10301.428899629838,
          10593.320572378225,
          10884.590375884003,
          11175.239291693391,
          11465.26829997964,
          11754.678379544857,
          12043.470507821803,
          12331.645660875633,
          12619.204813405757,
          12906.148938747603,
          13192.47900887437,
          13478.19599439887,
          13763.30086457527,
          14047.794587300905,
          14331.678129117994,
          14614.952455215502,
          14897.618529430854,
          15179.677314251705,
          15461.129770817748,
          15741.97685892247,
          16022.219537014855,
          16301.858762201251,
          16580.895490247058,
          16859.330675578476,
          17137.165271284335,
          17414.400229117797,
          17691.036499498055,
          17967.07503151221,
          18242.51677291691,
          18517.36267014017,
          18791.613668283015,
          19065.27071112133,
          19338.334741107563,
          19610.80669937239,
          19882.687525726556,
          20153.97815866257,
          20424.679535356358,
          20694.792591669124,
          20964.318262148983,
          21233.257480032677,
          21501.61117724736,
          21769.38028441231,
          22036.56573084053,
          22303.168444540628,
          22569.189352218425,
          22834.62937927872,
          23099.48944982689,
          23363.770486670765,
          23627.47341132222,
          23890.59914399883,
          24153.14860362572,
          24415.12270783717,
          24676.52237297826,
          24937.348514106678,
          25197.60204499436,
          25457.283878129107,
          25716.39492471641,
          25974.936094681045,
          26232.908296668727,
          26490.31243804789,
          26747.149424911324,
          27003.42016207775,
          27259.125553093647,
          27514.26650023487,
          27768.843904508292,
          28022.85866565344,
          28276.311682144267,
          28529.20385119076,
          28781.536068740512,
          29033.309229480572,
          29284.524226838952,
          29535.18195298628,
          29785.283298837567,
          30034.82915405379,
          30283.82040704346,
          30532.257944964418,
          30780.14265372542,
          31027.475417987687,
          31274.25712116672,
          31520.488645433816,
          31766.170871717684,
          32011.30467970619,
          32255.890947847918,
          32499.930553353825,
          32743.424372198762,
          32986.37327912329,
          33228.77814763522,
          33470.639850011095,
          33711.95925729807,
          33952.737239315364,
          34192.97466465581,
          34432.67240068768,
          34671.83131355619,
          34910.452268184985,
          35148.53612827795,
          35386.08375632075,
          35623.096013582326,
          35859.57376011666,
          36095.51785476426,
          36330.92915515385,
          36565.80851770379,
          36800.1567976239,
          37033.97484891695,
          37267.263524380134,
          37500.02367560685,
          37732.256152988215,
          37963.96180571453,
          38195.141481777064,
          38425.79602796954,
          38655.92628988959,
          38885.533111940575,
          39114.617337332995,
          39343.179808086024,
          39571.221365029225,
          39798.74284780405,
          40025.74509486541,
          40252.22894348309,
          40478.19522974362,
          40703.644788551625,
          40928.578453631315,
          41152.99705752826,
          41376.90143161082,
          41600.29240607163,
          41823.17080992929,
          42045.53747102987,
          42267.39321604835,
          42488.738870490335,
          42709.57525869349,
          42929.90320382903,
          43149.72352790343,
          43369.03705175986,
          43587.84459507958,
          43806.146976383774,
          44023.945013034834,
          44241.23952123806,
          44458.03131604293,
          44674.321211344955,
          44890.11001988701,
          45105.39855326079,
          45320.18762190854,
          45534.478035124426,
          45748.27060105601,
          45961.5661267059,
          46174.365417933244,
          46386.66927945504,
          46598.47851484791,
          46809.79392654951,
          47020.61631585987,
          47230.946482943174,
          47440.78522682912,
          47650.13334541427,
          47858.99163546387,
          48067.36089261309,
          48275.24191136867,
          48482.635485110164,
          48689.54240609179,
          48895.96346544368,
          49101.89945317331,
          49307.3511581672,
          49512.31936819228,
          49716.80486989726,
          49920.80844881432,
          50124.33088936051,
          50327.37297483903,
          50529.93548744104,
          50732.019208246915,
          50933.624917227644,
          51134.75339324653,
          51335.40541406052,
          51535.581756321655,
          51735.28319557849,
          51934.51050627771,
          52133.2644617655,
          52331.54583428884,
          52529.3553949973,
          52726.69391394423,
          52923.56216008821,
          53119.960901294646,
          53315.8909043372,
          53511.35293489897,
          53706.34775757433,
          53900.87613587014,
          54094.93883220709,
          54288.53660792139,
          54481.67022326608,
          54674.340437412444,
          54866.548008451384,
          55058.29369339499,
          55249.578248178004,
          55440.402427658904,
          55630.76698562179,
          55820.672674777525,
          56010.120246765095,
          56199.11045215332,
          56387.64404044205,
          56575.72176006352,
          56763.34435838398,
          56950.512581705065,
          57137.227175264896,
          57323.48888323996,
          57509.29844874625,
          57694.65661384055,
          57879.564119522154,
          58064.02170573405,
          58248.03011136443,
          58431.59007424786,
          58614.70233116704,
          58797.36761785396,
          58979.58666899119,
          59161.360218213595,
          59342.68899810951,
          59523.57374022204,
          59704.01517505068,
          59884.01403205264,
          60063.571039643946,
          60242.68692520127,
          60421.362415063006,
          60599.59823453062,
          60777.39510787028,
          60954.75375831404,
          61131.67490806111,
          61308.15927827951,
          61484.20758910725,
          61659.820559653774,
          61834.99890800111,
          62009.74335120558,
          62184.054605298996,
          62357.93338528983,
          62531.3804051649,
          62704.3963778906,
          62876.98201541406,
          63049.13802866482,
          63220.86512755603,
          63392.16402098563,
          63563.035416838014,
          63733.48002198519,
          63903.498542288195,
          64073.09168259823,
          64242.26014675834,
          64411.00463760458,
          64579.325856967174,
          64747.2245056722,
          64914.70128354275,
          65081.75688940009,
          65248.39202106533,
          65414.6073753606,
          65580.40364811015,
          65745.78153414208,
          65910.74172728947,
          66075.28492039152,
          66239.41180529521,
          66403.12307285648,
          66566.41941294132,
          66729.30151442748,
          66891.77006520554,
          67053.82575218029,
          67215.46926127188,
          67376.70127741744,
          67537.5224845722,
          67697.93356571066,
          67857.93520282817,
          68017.52807694217,
          68176.71286809318,
          68335.49025534658,
          68493.86091679362,
          68651.82552955262,
          68809.38476977056,
          68966.53931262421,
          69123.28983232129,
          69279.63700210206,
          69435.58149424038,
          69591.12398004495,
          69746.2651298609,
          69901.00561307071,
          70055.34609809582,
          70209.28725239748,
          70362.82974247851,
          70515.97423388436,
          70668.72139120416,
          70821.07187807241,
          70973.02635717006,
          71124.58549022555,
          71275.74993801652,
          71426.52036037082,
          71576.89741616762,
          71726.88176333904,
          71876.47405887119,
          72025.67495880551,
          72174.48511823978,
          72322.90519132988,
          72470.93583129042,
          72618.57769039656,
          72765.83141998494,
          72912.69767045508,
          73059.17709127032,
          73205.27033095954,
          73350.97803711814,
          73496.30085640916,
          73641.23943456479,
          73785.79441638755,
          73929.96644575124,
          74073.75616560264,
          74217.16421796246,
          74360.19124392647,
          74502.83788366707,
          74645.10477643428,
          74786.99256055706,
          74928.50187344436,
          75069.6333515867,
          75210.38763055696,
          75350.76534501201,
          75490.76712869367,
          75630.39361443011,
          75769.64543413674,
          75908.52321881783,
          76047.02759856763,
          76185.15920257119,
          76322.91865910619,
          76460.30659554376,
          76597.32363834963,
          76733.97041308564,
          76870.24754441083,
          77006.15565608237,
          77141.69537095717,
          77276.8673109929,
          77411.6720972492,
          77546.11034988871,
          77680.18268817864,
          77813.88973049169,
          77947.23209430718,
          78080.21039621253,
          78212.8252519043,
          78345.07727618916,
          78476.9670829855,
          78608.4952853244,
          78739.66249535063,
          78870.46932432416,
          79000.9163826213,
          79131.00427973551,
          79260.73362427905,
          79390.10502398401,
          79519.11908570316,
          79647.77641541167,
          79776.0776182079,
          79904.02329831476,
          80031.61405908059,
          80158.85050298073,
          80285.73323161852,
          80412.26284572625,
          80538.43994516667,
          80664.26512893401,
          80789.73899515496,
          80914.86214109013,
          81039.63516313513,
          81164.05865682145,
          81288.13321681802,
          81411.85943693222,
          81535.23791011074,
          81658.26922844118,
          81780.95398315304,
          81903.29276461859,
          82025.28616235446,
          82146.93476502251,
          82268.23916043113,
          82389.19993553602,
          82509.81767644187,
          82630.09296840322,
          82750.02639582536,
          82869.61854226596,
          82988.86999043595,
          83107.78132220043,
          83226.35311858027,
          83344.58595975293,
          83462.48042505358,
          83580.03709297639,
          83697.25654117562,
          83814.13934646647,
          83930.68608482671,
          84046.89733139733,
          84162.77366048402,
          84278.31564555786,
          84393.52385925694,
          84508.39887338718,
          84622.94125892333,
          84737.15158601043,
          84851.03042396478,
          84964.57834127474,
          85077.79590560237,
          85190.68368378424,
          85303.2422418324,
          85415.47214493582,
          85527.37395746136,
          85638.94824295462,
          85750.19556414147,
          85861.11648292889,
          85971.71156040614,
          86081.98135684563,
          86191.92643170455,
          86301.5473436253,
          86410.84465043712,
          86519.81890915694,
          86628.4706759905,
          86736.80050633335,
          86844.80895477207,
          86952.49657508546,
          87059.86392024516,
          87166.91154241735,
          87273.63999296339,
          87380.04982244094,
          87486.14158060533,
          87591.9158164103,
          87697.37307800933,
          87802.51391275639,
          87907.33886720744,
          88011.84848712126,
          88116.0433174603,
          88219.92390239224,
          88323.49078529085,
          88426.74450873667,
          88529.68561451878,
          88632.31464363536,
          88734.63213629478,
          88836.63863191691,
          88938.33466913411,
          89039.72078579193,
          89140.7975189507,
          89241.56540488634,
          89342.02497909122,
          89442.1767762755,
          89542.02133036827,
          89641.55917451803,
          89740.79084109445,
          89839.7168616889,
          89938.33776711587,
          90036.65408741355,
          90134.66635184537,
          90232.37508890082,
          90329.78082629628,
          90426.88409097645,
          90523.6854091153,
          90620.18530611669,
          90716.38430661599,
          90812.28293448084,
          90907.88171281198,
          91003.18116394474,
          91098.18180944968,
          91192.8841701339,
          91287.28876604165,
          91381.3961164559,
          91475.20673989908,
          91568.72115413388,
          91661.93987616473,
          91754.8634222387,
          91847.49230784601,
          91939.82704772185,
          92031.86815584691,
          92123.61614544834,
          92215.07152900103,
          92306.2348182286,
          92397.10652410403,
          92487.68715685126,
          92577.9772259458,
          92667.97724011565,
          92757.6877073427,
          92847.10913486351,
          92936.2420291703,
          93025.08689601181,
          93113.64424039479,
          93201.9145665843,
          93289.8983781054,
          93377.59617774369,
          93465.00846754658,
          93552.13574882384,
          93638.97852214928,
          93725.5372873612,
          93811.81254356344
         ],
         "yaxis": "y"
        }
       ],
       "layout": {
        "legend": {
         "tracegroupgap": 0
        },
        "template": {
         "data": {
          "bar": [
           {
            "error_x": {
             "color": "#2a3f5f"
            },
            "error_y": {
             "color": "#2a3f5f"
            },
            "marker": {
             "line": {
              "color": "#E5ECF6",
              "width": 0.5
             },
             "pattern": {
              "fillmode": "overlay",
              "size": 10,
              "solidity": 0.2
             }
            },
            "type": "bar"
           }
          ],
          "barpolar": [
           {
            "marker": {
             "line": {
              "color": "#E5ECF6",
              "width": 0.5
             },
             "pattern": {
              "fillmode": "overlay",
              "size": 10,
              "solidity": 0.2
             }
            },
            "type": "barpolar"
           }
          ],
          "carpet": [
           {
            "aaxis": {
             "endlinecolor": "#2a3f5f",
             "gridcolor": "white",
             "linecolor": "white",
             "minorgridcolor": "white",
             "startlinecolor": "#2a3f5f"
            },
            "baxis": {
             "endlinecolor": "#2a3f5f",
             "gridcolor": "white",
             "linecolor": "white",
             "minorgridcolor": "white",
             "startlinecolor": "#2a3f5f"
            },
            "type": "carpet"
           }
          ],
          "choropleth": [
           {
            "colorbar": {
             "outlinewidth": 0,
             "ticks": ""
            },
            "type": "choropleth"
           }
          ],
          "contour": [
           {
            "colorbar": {
             "outlinewidth": 0,
             "ticks": ""
            },
            "colorscale": [
             [
              0,
              "#0d0887"
             ],
             [
              0.1111111111111111,
              "#46039f"
             ],
             [
              0.2222222222222222,
              "#7201a8"
             ],
             [
              0.3333333333333333,
              "#9c179e"
             ],
             [
              0.4444444444444444,
              "#bd3786"
             ],
             [
              0.5555555555555556,
              "#d8576b"
             ],
             [
              0.6666666666666666,
              "#ed7953"
             ],
             [
              0.7777777777777778,
              "#fb9f3a"
             ],
             [
              0.8888888888888888,
              "#fdca26"
             ],
             [
              1,
              "#f0f921"
             ]
            ],
            "type": "contour"
           }
          ],
          "contourcarpet": [
           {
            "colorbar": {
             "outlinewidth": 0,
             "ticks": ""
            },
            "type": "contourcarpet"
           }
          ],
          "heatmap": [
           {
            "colorbar": {
             "outlinewidth": 0,
             "ticks": ""
            },
            "colorscale": [
             [
              0,
              "#0d0887"
             ],
             [
              0.1111111111111111,
              "#46039f"
             ],
             [
              0.2222222222222222,
              "#7201a8"
             ],
             [
              0.3333333333333333,
              "#9c179e"
             ],
             [
              0.4444444444444444,
              "#bd3786"
             ],
             [
              0.5555555555555556,
              "#d8576b"
             ],
             [
              0.6666666666666666,
              "#ed7953"
             ],
             [
              0.7777777777777778,
              "#fb9f3a"
             ],
             [
              0.8888888888888888,
              "#fdca26"
             ],
             [
              1,
              "#f0f921"
             ]
            ],
            "type": "heatmap"
           }
          ],
          "heatmapgl": [
           {
            "colorbar": {
             "outlinewidth": 0,
             "ticks": ""
            },
            "colorscale": [
             [
              0,
              "#0d0887"
             ],
             [
              0.1111111111111111,
              "#46039f"
             ],
             [
              0.2222222222222222,
              "#7201a8"
             ],
             [
              0.3333333333333333,
              "#9c179e"
             ],
             [
              0.4444444444444444,
              "#bd3786"
             ],
             [
              0.5555555555555556,
              "#d8576b"
             ],
             [
              0.6666666666666666,
              "#ed7953"
             ],
             [
              0.7777777777777778,
              "#fb9f3a"
             ],
             [
              0.8888888888888888,
              "#fdca26"
             ],
             [
              1,
              "#f0f921"
             ]
            ],
            "type": "heatmapgl"
           }
          ],
          "histogram": [
           {
            "marker": {
             "pattern": {
              "fillmode": "overlay",
              "size": 10,
              "solidity": 0.2
             }
            },
            "type": "histogram"
           }
          ],
          "histogram2d": [
           {
            "colorbar": {
             "outlinewidth": 0,
             "ticks": ""
            },
            "colorscale": [
             [
              0,
              "#0d0887"
             ],
             [
              0.1111111111111111,
              "#46039f"
             ],
             [
              0.2222222222222222,
              "#7201a8"
             ],
             [
              0.3333333333333333,
              "#9c179e"
             ],
             [
              0.4444444444444444,
              "#bd3786"
             ],
             [
              0.5555555555555556,
              "#d8576b"
             ],
             [
              0.6666666666666666,
              "#ed7953"
             ],
             [
              0.7777777777777778,
              "#fb9f3a"
             ],
             [
              0.8888888888888888,
              "#fdca26"
             ],
             [
              1,
              "#f0f921"
             ]
            ],
            "type": "histogram2d"
           }
          ],
          "histogram2dcontour": [
           {
            "colorbar": {
             "outlinewidth": 0,
             "ticks": ""
            },
            "colorscale": [
             [
              0,
              "#0d0887"
             ],
             [
              0.1111111111111111,
              "#46039f"
             ],
             [
              0.2222222222222222,
              "#7201a8"
             ],
             [
              0.3333333333333333,
              "#9c179e"
             ],
             [
              0.4444444444444444,
              "#bd3786"
             ],
             [
              0.5555555555555556,
              "#d8576b"
             ],
             [
              0.6666666666666666,
              "#ed7953"
             ],
             [
              0.7777777777777778,
              "#fb9f3a"
             ],
             [
              0.8888888888888888,
              "#fdca26"
             ],
             [
              1,
              "#f0f921"
             ]
            ],
            "type": "histogram2dcontour"
           }
          ],
          "mesh3d": [
           {
            "colorbar": {
             "outlinewidth": 0,
             "ticks": ""
            },
            "type": "mesh3d"
           }
          ],
          "parcoords": [
           {
            "line": {
             "colorbar": {
              "outlinewidth": 0,
              "ticks": ""
             }
            },
            "type": "parcoords"
           }
          ],
          "pie": [
           {
            "automargin": true,
            "type": "pie"
           }
          ],
          "scatter": [
           {
            "fillpattern": {
             "fillmode": "overlay",
             "size": 10,
             "solidity": 0.2
            },
            "type": "scatter"
           }
          ],
          "scatter3d": [
           {
            "line": {
             "colorbar": {
              "outlinewidth": 0,
              "ticks": ""
             }
            },
            "marker": {
             "colorbar": {
              "outlinewidth": 0,
              "ticks": ""
             }
            },
            "type": "scatter3d"
           }
          ],
          "scattercarpet": [
           {
            "marker": {
             "colorbar": {
              "outlinewidth": 0,
              "ticks": ""
             }
            },
            "type": "scattercarpet"
           }
          ],
          "scattergeo": [
           {
            "marker": {
             "colorbar": {
              "outlinewidth": 0,
              "ticks": ""
             }
            },
            "type": "scattergeo"
           }
          ],
          "scattergl": [
           {
            "marker": {
             "colorbar": {
              "outlinewidth": 0,
              "ticks": ""
             }
            },
            "type": "scattergl"
           }
          ],
          "scattermapbox": [
           {
            "marker": {
             "colorbar": {
              "outlinewidth": 0,
              "ticks": ""
             }
            },
            "type": "scattermapbox"
           }
          ],
          "scatterpolar": [
           {
            "marker": {
             "colorbar": {
              "outlinewidth": 0,
              "ticks": ""
             }
            },
            "type": "scatterpolar"
           }
          ],
          "scatterpolargl": [
           {
            "marker": {
             "colorbar": {
              "outlinewidth": 0,
              "ticks": ""
             }
            },
            "type": "scatterpolargl"
           }
          ],
          "scatterternary": [
           {
            "marker": {
             "colorbar": {
              "outlinewidth": 0,
              "ticks": ""
             }
            },
            "type": "scatterternary"
           }
          ],
          "surface": [
           {
            "colorbar": {
             "outlinewidth": 0,
             "ticks": ""
            },
            "colorscale": [
             [
              0,
              "#0d0887"
             ],
             [
              0.1111111111111111,
              "#46039f"
             ],
             [
              0.2222222222222222,
              "#7201a8"
             ],
             [
              0.3333333333333333,
              "#9c179e"
             ],
             [
              0.4444444444444444,
              "#bd3786"
             ],
             [
              0.5555555555555556,
              "#d8576b"
             ],
             [
              0.6666666666666666,
              "#ed7953"
             ],
             [
              0.7777777777777778,
              "#fb9f3a"
             ],
             [
              0.8888888888888888,
              "#fdca26"
             ],
             [
              1,
              "#f0f921"
             ]
            ],
            "type": "surface"
           }
          ],
          "table": [
           {
            "cells": {
             "fill": {
              "color": "#EBF0F8"
             },
             "line": {
              "color": "white"
             }
            },
            "header": {
             "fill": {
              "color": "#C8D4E3"
             },
             "line": {
              "color": "white"
             }
            },
            "type": "table"
           }
          ]
         },
         "layout": {
          "annotationdefaults": {
           "arrowcolor": "#2a3f5f",
           "arrowhead": 0,
           "arrowwidth": 1
          },
          "autotypenumbers": "strict",
          "coloraxis": {
           "colorbar": {
            "outlinewidth": 0,
            "ticks": ""
           }
          },
          "colorscale": {
           "diverging": [
            [
             0,
             "#8e0152"
            ],
            [
             0.1,
             "#c51b7d"
            ],
            [
             0.2,
             "#de77ae"
            ],
            [
             0.3,
             "#f1b6da"
            ],
            [
             0.4,
             "#fde0ef"
            ],
            [
             0.5,
             "#f7f7f7"
            ],
            [
             0.6,
             "#e6f5d0"
            ],
            [
             0.7,
             "#b8e186"
            ],
            [
             0.8,
             "#7fbc41"
            ],
            [
             0.9,
             "#4d9221"
            ],
            [
             1,
             "#276419"
            ]
           ],
           "sequential": [
            [
             0,
             "#0d0887"
            ],
            [
             0.1111111111111111,
             "#46039f"
            ],
            [
             0.2222222222222222,
             "#7201a8"
            ],
            [
             0.3333333333333333,
             "#9c179e"
            ],
            [
             0.4444444444444444,
             "#bd3786"
            ],
            [
             0.5555555555555556,
             "#d8576b"
            ],
            [
             0.6666666666666666,
             "#ed7953"
            ],
            [
             0.7777777777777778,
             "#fb9f3a"
            ],
            [
             0.8888888888888888,
             "#fdca26"
            ],
            [
             1,
             "#f0f921"
            ]
           ],
           "sequentialminus": [
            [
             0,
             "#0d0887"
            ],
            [
             0.1111111111111111,
             "#46039f"
            ],
            [
             0.2222222222222222,
             "#7201a8"
            ],
            [
             0.3333333333333333,
             "#9c179e"
            ],
            [
             0.4444444444444444,
             "#bd3786"
            ],
            [
             0.5555555555555556,
             "#d8576b"
            ],
            [
             0.6666666666666666,
             "#ed7953"
            ],
            [
             0.7777777777777778,
             "#fb9f3a"
            ],
            [
             0.8888888888888888,
             "#fdca26"
            ],
            [
             1,
             "#f0f921"
            ]
           ]
          },
          "colorway": [
           "#636efa",
           "#EF553B",
           "#00cc96",
           "#ab63fa",
           "#FFA15A",
           "#19d3f3",
           "#FF6692",
           "#B6E880",
           "#FF97FF",
           "#FECB52"
          ],
          "font": {
           "color": "#2a3f5f"
          },
          "geo": {
           "bgcolor": "white",
           "lakecolor": "white",
           "landcolor": "#E5ECF6",
           "showlakes": true,
           "showland": true,
           "subunitcolor": "white"
          },
          "hoverlabel": {
           "align": "left"
          },
          "hovermode": "closest",
          "mapbox": {
           "style": "light"
          },
          "paper_bgcolor": "white",
          "plot_bgcolor": "#E5ECF6",
          "polar": {
           "angularaxis": {
            "gridcolor": "white",
            "linecolor": "white",
            "ticks": ""
           },
           "bgcolor": "#E5ECF6",
           "radialaxis": {
            "gridcolor": "white",
            "linecolor": "white",
            "ticks": ""
           }
          },
          "scene": {
           "xaxis": {
            "backgroundcolor": "#E5ECF6",
            "gridcolor": "white",
            "gridwidth": 2,
            "linecolor": "white",
            "showbackground": true,
            "ticks": "",
            "zerolinecolor": "white"
           },
           "yaxis": {
            "backgroundcolor": "#E5ECF6",
            "gridcolor": "white",
            "gridwidth": 2,
            "linecolor": "white",
            "showbackground": true,
            "ticks": "",
            "zerolinecolor": "white"
           },
           "zaxis": {
            "backgroundcolor": "#E5ECF6",
            "gridcolor": "white",
            "gridwidth": 2,
            "linecolor": "white",
            "showbackground": true,
            "ticks": "",
            "zerolinecolor": "white"
           }
          },
          "shapedefaults": {
           "line": {
            "color": "#2a3f5f"
           }
          },
          "ternary": {
           "aaxis": {
            "gridcolor": "white",
            "linecolor": "white",
            "ticks": ""
           },
           "baxis": {
            "gridcolor": "white",
            "linecolor": "white",
            "ticks": ""
           },
           "bgcolor": "#E5ECF6",
           "caxis": {
            "gridcolor": "white",
            "linecolor": "white",
            "ticks": ""
           }
          },
          "title": {
           "x": 0.05
          },
          "xaxis": {
           "automargin": true,
           "gridcolor": "white",
           "linecolor": "white",
           "ticks": "",
           "title": {
            "standoff": 15
           },
           "zerolinecolor": "white",
           "zerolinewidth": 2
          },
          "yaxis": {
           "automargin": true,
           "gridcolor": "white",
           "linecolor": "white",
           "ticks": "",
           "title": {
            "standoff": 15
           },
           "zerolinecolor": "white",
           "zerolinewidth": 2
          }
         }
        },
        "title": {
         "text": "Arganzuela"
        },
        "xaxis": {
         "anchor": "y",
         "domain": [
          0,
          1
         ],
         "title": {
          "text": "price"
         }
        },
        "yaxis": {
         "anchor": "x",
         "domain": [
          0,
          1
         ],
         "title": {
          "text": "income"
         }
        }
       }
      },
      "text/html": [
       "<div>                            <div id=\"48e0e8e5-2d05-44ba-9dd5-00017753866c\" class=\"plotly-graph-div\" style=\"height:525px; width:100%;\"></div>            <script type=\"text/javascript\">                require([\"plotly\"], function(Plotly) {                    window.PLOTLYENV=window.PLOTLYENV || {};                                    if (document.getElementById(\"48e0e8e5-2d05-44ba-9dd5-00017753866c\")) {                    Plotly.newPlot(                        \"48e0e8e5-2d05-44ba-9dd5-00017753866c\",                        [{\"hovertemplate\":\"price=%{x}<br>income=%{y}<extra></extra>\",\"legendgroup\":\"\",\"marker\":{\"color\":\"#636efa\",\"symbol\":\"circle\"},\"mode\":\"markers\",\"name\":\"\",\"orientation\":\"v\",\"showlegend\":false,\"x\":[10.0,11.0,12.0,13.0,14.000000000000002,15.0,16.0,17.0,18.0,19.0,20.0,21.0,22.0,23.0,24.0,25.0,26.0,27.0,28.000000000000004,28.999999999999996,30.0,31.0,32.0,33.0,34.0,35.0,36.0,37.0,38.0,39.0,40.0,41.0,42.0,43.0,44.0,45.0,46.0,47.0,48.0,49.0,50.0,51.0,52.0,53.0,54.0,55.00000000000001,56.00000000000001,56.99999999999999,57.99999999999999,59.0,60.0,61.0,62.0,63.0,64.0,65.0,66.0,67.0,68.0,69.0,70.0,71.0,72.0,73.0,74.0,75.0,76.0,77.0,78.0,79.0,80.0,81.0,82.0,83.0,84.0,85.0,86.0,87.0,88.0,89.0,90.0,91.0,92.0,93.0,94.0,95.0,96.0,97.0,98.0,99.0,100.0,101.0,102.0,103.0,104.0,105.0,106.0,107.0,108.0,109.00000000000001,110.00000000000001,111.00000000000001,112.00000000000001,112.99999999999999,113.99999999999999,114.99999999999999,115.99999999999999,117.0,118.0,119.0,120.0,121.0,122.0,123.0,124.0,125.0,126.0,127.0,128.0,129.0,130.0,131.0,132.0,133.0,134.0,135.0,136.0,137.0,138.0,139.0,140.0,141.0,142.0,143.0,144.0,145.0,146.0,147.0,148.0,149.0,150.0,151.0,152.0,153.0,154.0,155.0,156.0,157.0,158.0,159.0,160.0,161.0,162.0,163.0,164.0,165.0,166.0,167.0,168.0,169.0,170.0,171.0,172.0,173.0,174.0,175.0,176.0,177.0,178.0,179.0,180.0,181.0,182.0,183.0,184.0,185.0,186.0,187.0,188.0,189.0,190.0,191.0,192.0,193.0,194.0,195.0,196.0,197.0,198.0,199.0,200.0,200.99999999999997,202.0,202.99999999999997,204.0,204.99999999999997,206.0,206.99999999999997,208.0,209.0,210.0,211.0,212.0,213.0,214.0,215.0,216.0,217.0,218.00000000000003,219.0,220.00000000000003,221.0,222.00000000000003,223.0,224.00000000000003,225.0,225.99999999999997,227.0,227.99999999999997,229.0,229.99999999999997,231.0,231.99999999999997,233.0,234.0,235.0,236.0,237.0,238.0,239.0,240.0,241.0,242.0,243.00000000000003,244.0,245.00000000000003,246.0,247.00000000000003,248.0,249.00000000000003,250.0,250.99999999999997,252.0,252.99999999999997,254.0,254.99999999999997,256.0,257.0,258.0,259.0,260.0,261.0,262.0,263.0,264.0,265.0,266.0,267.0,268.0,269.0,270.0,271.0,272.0,273.0,274.0,275.0,276.0,277.0,278.0,279.0,280.0,281.0,282.0,283.0,284.0,285.0,286.0,287.0,288.0,289.0,290.0,291.0,292.0,293.0,294.0,295.0,296.0,297.0,298.0,299.0,300.0,301.0,302.0,303.0,304.0,305.0,306.0,307.0,308.0,309.0,310.0,311.0,312.0,313.0,314.0,315.0,316.0,317.0,318.0,319.0,320.0,321.0,322.0,323.0,324.0,325.0,326.0,327.0,328.0,329.0,330.0,331.0,332.0,333.0,334.0,335.0,336.0,337.0,338.0,339.0,340.0,341.0,342.0,343.0,344.0,345.0,346.0,347.0,348.0,349.0,350.0,351.0,352.0,353.0,354.0,355.0,356.0,357.0,358.0,359.0,360.0,361.0,362.0,363.0,364.0,365.0,366.0,367.0,368.0,369.0,370.0,371.0,372.0,373.0,374.0,375.0,376.0,377.0,378.0,379.0,380.0,381.0,382.0,383.0,384.0,385.0,386.0,387.0,388.0,389.0,390.0,391.0,392.0,393.0,394.0,395.0,396.0,397.0,398.0,399.0,400.0,401.0,401.99999999999994,403.0,404.0,405.0,405.99999999999994,407.0,408.0,409.0,409.99999999999994,411.00000000000006,412.0,413.0,413.99999999999994,415.00000000000006,416.0,417.0,418.0,419.00000000000006,420.0,421.0,422.0,423.00000000000006,424.0,425.0,426.0,426.99999999999994,428.0,429.0,430.0,430.99999999999994,432.0,433.0,434.0,434.99999999999994,436.00000000000006,437.0,438.0,438.99999999999994,440.00000000000006,441.0,442.0,443.0,444.00000000000006,445.0,446.0,447.0,448.00000000000006,449.0,450.0,451.0,451.99999999999994,453.0,454.0,455.0,455.99999999999994,457.0,458.0,459.0,459.99999999999994,461.00000000000006,462.0,463.0,463.99999999999994,465.00000000000006,466.0,467.0,468.0,469.00000000000006,470.0,471.0,472.0,473.00000000000006,474.0,475.0,476.0,476.99999999999994,478.0,479.0,480.0,480.99999999999994,482.0,483.0,484.0,484.99999999999994,486.00000000000006,487.0,488.0,488.99999999999994,490.00000000000006,491.0,492.0,493.0,494.00000000000006,495.0,496.0,497.0,498.00000000000006,499.0,500.0,501.0,501.99999999999994,503.0,504.0,505.0,505.99999999999994,507.0,508.0,509.0],\"xaxis\":\"x\",\"y\":[3106.891687553285,3414.0062874546093,3720.475044402294,4026.298973438863,4331.479088190055,4636.016400866662,4939.911922266372,5243.16666177564,5545.7816273715225,5847.7578256235065,6149.096261695382,6449.797939347065,6749.863860936418,7049.29502742112,7348.09243836048,7646.25709191725,7943.78998485949,8240.692112562368,8536.96446901,8832.608046797226,9127.623837131505,9422.012829834677,9715.77601334477,10008.914374717855,10301.428899629838,10593.320572378225,10884.590375884003,11175.239291693391,11465.26829997964,11754.678379544857,12043.470507821803,12331.645660875633,12619.204813405757,12906.148938747603,13192.47900887437,13478.19599439887,13763.30086457527,14047.794587300905,14331.678129117994,14614.952455215502,14897.618529430854,15179.677314251705,15461.129770817748,15741.97685892247,16022.219537014855,16301.858762201251,16580.895490247058,16859.330675578476,17137.165271284335,17414.400229117797,17691.036499498055,17967.07503151221,18242.51677291691,18517.36267014017,18791.613668283015,19065.27071112133,19338.334741107563,19610.80669937239,19882.687525726556,20153.97815866257,20424.679535356358,20694.792591669124,20964.318262148983,21233.257480032677,21501.61117724736,21769.38028441231,22036.56573084053,22303.168444540628,22569.189352218425,22834.62937927872,23099.48944982689,23363.770486670765,23627.47341132222,23890.59914399883,24153.14860362572,24415.12270783717,24676.52237297826,24937.348514106678,25197.60204499436,25457.283878129107,25716.39492471641,25974.936094681045,26232.908296668727,26490.31243804789,26747.149424911324,27003.42016207775,27259.125553093647,27514.26650023487,27768.843904508292,28022.85866565344,28276.311682144267,28529.20385119076,28781.536068740512,29033.309229480572,29284.524226838952,29535.18195298628,29785.283298837567,30034.82915405379,30283.82040704346,30532.257944964418,30780.14265372542,31027.475417987687,31274.25712116672,31520.488645433816,31766.170871717684,32011.30467970619,32255.890947847918,32499.930553353825,32743.424372198762,32986.37327912329,33228.77814763522,33470.639850011095,33711.95925729807,33952.737239315364,34192.97466465581,34432.67240068768,34671.83131355619,34910.452268184985,35148.53612827795,35386.08375632075,35623.096013582326,35859.57376011666,36095.51785476426,36330.92915515385,36565.80851770379,36800.1567976239,37033.97484891695,37267.263524380134,37500.02367560685,37732.256152988215,37963.96180571453,38195.141481777064,38425.79602796954,38655.92628988959,38885.533111940575,39114.617337332995,39343.179808086024,39571.221365029225,39798.74284780405,40025.74509486541,40252.22894348309,40478.19522974362,40703.644788551625,40928.578453631315,41152.99705752826,41376.90143161082,41600.29240607163,41823.17080992929,42045.53747102987,42267.39321604835,42488.738870490335,42709.57525869349,42929.90320382903,43149.72352790343,43369.03705175986,43587.84459507958,43806.146976383774,44023.945013034834,44241.23952123806,44458.03131604293,44674.321211344955,44890.11001988701,45105.39855326079,45320.18762190854,45534.478035124426,45748.27060105601,45961.5661267059,46174.365417933244,46386.66927945504,46598.47851484791,46809.79392654951,47020.61631585987,47230.946482943174,47440.78522682912,47650.13334541427,47858.99163546387,48067.36089261309,48275.24191136867,48482.635485110164,48689.54240609179,48895.96346544368,49101.89945317331,49307.3511581672,49512.31936819228,49716.80486989726,49920.80844881432,50124.33088936051,50327.37297483903,50529.93548744104,50732.019208246915,50933.624917227644,51134.75339324653,51335.40541406052,51535.581756321655,51735.28319557849,51934.51050627771,52133.2644617655,52331.54583428884,52529.3553949973,52726.69391394423,52923.56216008821,53119.960901294646,53315.8909043372,53511.35293489897,53706.34775757433,53900.87613587014,54094.93883220709,54288.53660792139,54481.67022326608,54674.340437412444,54866.548008451384,55058.29369339499,55249.578248178004,55440.402427658904,55630.76698562179,55820.672674777525,56010.120246765095,56199.11045215332,56387.64404044205,56575.72176006352,56763.34435838398,56950.512581705065,57137.227175264896,57323.48888323996,57509.29844874625,57694.65661384055,57879.564119522154,58064.02170573405,58248.03011136443,58431.59007424786,58614.70233116704,58797.36761785396,58979.58666899119,59161.360218213595,59342.68899810951,59523.57374022204,59704.01517505068,59884.01403205264,60063.571039643946,60242.68692520127,60421.362415063006,60599.59823453062,60777.39510787028,60954.75375831404,61131.67490806111,61308.15927827951,61484.20758910725,61659.820559653774,61834.99890800111,62009.74335120558,62184.054605298996,62357.93338528983,62531.3804051649,62704.3963778906,62876.98201541406,63049.13802866482,63220.86512755603,63392.16402098563,63563.035416838014,63733.48002198519,63903.498542288195,64073.09168259823,64242.26014675834,64411.00463760458,64579.325856967174,64747.2245056722,64914.70128354275,65081.75688940009,65248.39202106533,65414.6073753606,65580.40364811015,65745.78153414208,65910.74172728947,66075.28492039152,66239.41180529521,66403.12307285648,66566.41941294132,66729.30151442748,66891.77006520554,67053.82575218029,67215.46926127188,67376.70127741744,67537.5224845722,67697.93356571066,67857.93520282817,68017.52807694217,68176.71286809318,68335.49025534658,68493.86091679362,68651.82552955262,68809.38476977056,68966.53931262421,69123.28983232129,69279.63700210206,69435.58149424038,69591.12398004495,69746.2651298609,69901.00561307071,70055.34609809582,70209.28725239748,70362.82974247851,70515.97423388436,70668.72139120416,70821.07187807241,70973.02635717006,71124.58549022555,71275.74993801652,71426.52036037082,71576.89741616762,71726.88176333904,71876.47405887119,72025.67495880551,72174.48511823978,72322.90519132988,72470.93583129042,72618.57769039656,72765.83141998494,72912.69767045508,73059.17709127032,73205.27033095954,73350.97803711814,73496.30085640916,73641.23943456479,73785.79441638755,73929.96644575124,74073.75616560264,74217.16421796246,74360.19124392647,74502.83788366707,74645.10477643428,74786.99256055706,74928.50187344436,75069.6333515867,75210.38763055696,75350.76534501201,75490.76712869367,75630.39361443011,75769.64543413674,75908.52321881783,76047.02759856763,76185.15920257119,76322.91865910619,76460.30659554376,76597.32363834963,76733.97041308564,76870.24754441083,77006.15565608237,77141.69537095717,77276.8673109929,77411.6720972492,77546.11034988871,77680.18268817864,77813.88973049169,77947.23209430718,78080.21039621253,78212.8252519043,78345.07727618916,78476.9670829855,78608.4952853244,78739.66249535063,78870.46932432416,79000.9163826213,79131.00427973551,79260.73362427905,79390.10502398401,79519.11908570316,79647.77641541167,79776.0776182079,79904.02329831476,80031.61405908059,80158.85050298073,80285.73323161852,80412.26284572625,80538.43994516667,80664.26512893401,80789.73899515496,80914.86214109013,81039.63516313513,81164.05865682145,81288.13321681802,81411.85943693222,81535.23791011074,81658.26922844118,81780.95398315304,81903.29276461859,82025.28616235446,82146.93476502251,82268.23916043113,82389.19993553602,82509.81767644187,82630.09296840322,82750.02639582536,82869.61854226596,82988.86999043595,83107.78132220043,83226.35311858027,83344.58595975293,83462.48042505358,83580.03709297639,83697.25654117562,83814.13934646647,83930.68608482671,84046.89733139733,84162.77366048402,84278.31564555786,84393.52385925694,84508.39887338718,84622.94125892333,84737.15158601043,84851.03042396478,84964.57834127474,85077.79590560237,85190.68368378424,85303.2422418324,85415.47214493582,85527.37395746136,85638.94824295462,85750.19556414147,85861.11648292889,85971.71156040614,86081.98135684563,86191.92643170455,86301.5473436253,86410.84465043712,86519.81890915694,86628.4706759905,86736.80050633335,86844.80895477207,86952.49657508546,87059.86392024516,87166.91154241735,87273.63999296339,87380.04982244094,87486.14158060533,87591.9158164103,87697.37307800933,87802.51391275639,87907.33886720744,88011.84848712126,88116.0433174603,88219.92390239224,88323.49078529085,88426.74450873667,88529.68561451878,88632.31464363536,88734.63213629478,88836.63863191691,88938.33466913411,89039.72078579193,89140.7975189507,89241.56540488634,89342.02497909122,89442.1767762755,89542.02133036827,89641.55917451803,89740.79084109445,89839.7168616889,89938.33776711587,90036.65408741355,90134.66635184537,90232.37508890082,90329.78082629628,90426.88409097645,90523.6854091153,90620.18530611669,90716.38430661599,90812.28293448084,90907.88171281198,91003.18116394474,91098.18180944968,91192.8841701339,91287.28876604165,91381.3961164559,91475.20673989908,91568.72115413388,91661.93987616473,91754.8634222387,91847.49230784601,91939.82704772185,92031.86815584691,92123.61614544834,92215.07152900103,92306.2348182286,92397.10652410403,92487.68715685126,92577.9772259458,92667.97724011565,92757.6877073427,92847.10913486351,92936.2420291703,93025.08689601181,93113.64424039479,93201.9145665843,93289.8983781054,93377.59617774369,93465.00846754658,93552.13574882384,93638.97852214928,93725.5372873612,93811.81254356344],\"yaxis\":\"y\",\"type\":\"scatter\"}],                        {\"template\":{\"data\":{\"histogram2dcontour\":[{\"type\":\"histogram2dcontour\",\"colorbar\":{\"outlinewidth\":0,\"ticks\":\"\"},\"colorscale\":[[0.0,\"#0d0887\"],[0.1111111111111111,\"#46039f\"],[0.2222222222222222,\"#7201a8\"],[0.3333333333333333,\"#9c179e\"],[0.4444444444444444,\"#bd3786\"],[0.5555555555555556,\"#d8576b\"],[0.6666666666666666,\"#ed7953\"],[0.7777777777777778,\"#fb9f3a\"],[0.8888888888888888,\"#fdca26\"],[1.0,\"#f0f921\"]]}],\"choropleth\":[{\"type\":\"choropleth\",\"colorbar\":{\"outlinewidth\":0,\"ticks\":\"\"}}],\"histogram2d\":[{\"type\":\"histogram2d\",\"colorbar\":{\"outlinewidth\":0,\"ticks\":\"\"},\"colorscale\":[[0.0,\"#0d0887\"],[0.1111111111111111,\"#46039f\"],[0.2222222222222222,\"#7201a8\"],[0.3333333333333333,\"#9c179e\"],[0.4444444444444444,\"#bd3786\"],[0.5555555555555556,\"#d8576b\"],[0.6666666666666666,\"#ed7953\"],[0.7777777777777778,\"#fb9f3a\"],[0.8888888888888888,\"#fdca26\"],[1.0,\"#f0f921\"]]}],\"heatmap\":[{\"type\":\"heatmap\",\"colorbar\":{\"outlinewidth\":0,\"ticks\":\"\"},\"colorscale\":[[0.0,\"#0d0887\"],[0.1111111111111111,\"#46039f\"],[0.2222222222222222,\"#7201a8\"],[0.3333333333333333,\"#9c179e\"],[0.4444444444444444,\"#bd3786\"],[0.5555555555555556,\"#d8576b\"],[0.6666666666666666,\"#ed7953\"],[0.7777777777777778,\"#fb9f3a\"],[0.8888888888888888,\"#fdca26\"],[1.0,\"#f0f921\"]]}],\"heatmapgl\":[{\"type\":\"heatmapgl\",\"colorbar\":{\"outlinewidth\":0,\"ticks\":\"\"},\"colorscale\":[[0.0,\"#0d0887\"],[0.1111111111111111,\"#46039f\"],[0.2222222222222222,\"#7201a8\"],[0.3333333333333333,\"#9c179e\"],[0.4444444444444444,\"#bd3786\"],[0.5555555555555556,\"#d8576b\"],[0.6666666666666666,\"#ed7953\"],[0.7777777777777778,\"#fb9f3a\"],[0.8888888888888888,\"#fdca26\"],[1.0,\"#f0f921\"]]}],\"contourcarpet\":[{\"type\":\"contourcarpet\",\"colorbar\":{\"outlinewidth\":0,\"ticks\":\"\"}}],\"contour\":[{\"type\":\"contour\",\"colorbar\":{\"outlinewidth\":0,\"ticks\":\"\"},\"colorscale\":[[0.0,\"#0d0887\"],[0.1111111111111111,\"#46039f\"],[0.2222222222222222,\"#7201a8\"],[0.3333333333333333,\"#9c179e\"],[0.4444444444444444,\"#bd3786\"],[0.5555555555555556,\"#d8576b\"],[0.6666666666666666,\"#ed7953\"],[0.7777777777777778,\"#fb9f3a\"],[0.8888888888888888,\"#fdca26\"],[1.0,\"#f0f921\"]]}],\"surface\":[{\"type\":\"surface\",\"colorbar\":{\"outlinewidth\":0,\"ticks\":\"\"},\"colorscale\":[[0.0,\"#0d0887\"],[0.1111111111111111,\"#46039f\"],[0.2222222222222222,\"#7201a8\"],[0.3333333333333333,\"#9c179e\"],[0.4444444444444444,\"#bd3786\"],[0.5555555555555556,\"#d8576b\"],[0.6666666666666666,\"#ed7953\"],[0.7777777777777778,\"#fb9f3a\"],[0.8888888888888888,\"#fdca26\"],[1.0,\"#f0f921\"]]}],\"mesh3d\":[{\"type\":\"mesh3d\",\"colorbar\":{\"outlinewidth\":0,\"ticks\":\"\"}}],\"scatter\":[{\"fillpattern\":{\"fillmode\":\"overlay\",\"size\":10,\"solidity\":0.2},\"type\":\"scatter\"}],\"parcoords\":[{\"type\":\"parcoords\",\"line\":{\"colorbar\":{\"outlinewidth\":0,\"ticks\":\"\"}}}],\"scatterpolargl\":[{\"type\":\"scatterpolargl\",\"marker\":{\"colorbar\":{\"outlinewidth\":0,\"ticks\":\"\"}}}],\"bar\":[{\"error_x\":{\"color\":\"#2a3f5f\"},\"error_y\":{\"color\":\"#2a3f5f\"},\"marker\":{\"line\":{\"color\":\"#E5ECF6\",\"width\":0.5},\"pattern\":{\"fillmode\":\"overlay\",\"size\":10,\"solidity\":0.2}},\"type\":\"bar\"}],\"scattergeo\":[{\"type\":\"scattergeo\",\"marker\":{\"colorbar\":{\"outlinewidth\":0,\"ticks\":\"\"}}}],\"scatterpolar\":[{\"type\":\"scatterpolar\",\"marker\":{\"colorbar\":{\"outlinewidth\":0,\"ticks\":\"\"}}}],\"histogram\":[{\"marker\":{\"pattern\":{\"fillmode\":\"overlay\",\"size\":10,\"solidity\":0.2}},\"type\":\"histogram\"}],\"scattergl\":[{\"type\":\"scattergl\",\"marker\":{\"colorbar\":{\"outlinewidth\":0,\"ticks\":\"\"}}}],\"scatter3d\":[{\"type\":\"scatter3d\",\"line\":{\"colorbar\":{\"outlinewidth\":0,\"ticks\":\"\"}},\"marker\":{\"colorbar\":{\"outlinewidth\":0,\"ticks\":\"\"}}}],\"scattermapbox\":[{\"type\":\"scattermapbox\",\"marker\":{\"colorbar\":{\"outlinewidth\":0,\"ticks\":\"\"}}}],\"scatterternary\":[{\"type\":\"scatterternary\",\"marker\":{\"colorbar\":{\"outlinewidth\":0,\"ticks\":\"\"}}}],\"scattercarpet\":[{\"type\":\"scattercarpet\",\"marker\":{\"colorbar\":{\"outlinewidth\":0,\"ticks\":\"\"}}}],\"carpet\":[{\"aaxis\":{\"endlinecolor\":\"#2a3f5f\",\"gridcolor\":\"white\",\"linecolor\":\"white\",\"minorgridcolor\":\"white\",\"startlinecolor\":\"#2a3f5f\"},\"baxis\":{\"endlinecolor\":\"#2a3f5f\",\"gridcolor\":\"white\",\"linecolor\":\"white\",\"minorgridcolor\":\"white\",\"startlinecolor\":\"#2a3f5f\"},\"type\":\"carpet\"}],\"table\":[{\"cells\":{\"fill\":{\"color\":\"#EBF0F8\"},\"line\":{\"color\":\"white\"}},\"header\":{\"fill\":{\"color\":\"#C8D4E3\"},\"line\":{\"color\":\"white\"}},\"type\":\"table\"}],\"barpolar\":[{\"marker\":{\"line\":{\"color\":\"#E5ECF6\",\"width\":0.5},\"pattern\":{\"fillmode\":\"overlay\",\"size\":10,\"solidity\":0.2}},\"type\":\"barpolar\"}],\"pie\":[{\"automargin\":true,\"type\":\"pie\"}]},\"layout\":{\"autotypenumbers\":\"strict\",\"colorway\":[\"#636efa\",\"#EF553B\",\"#00cc96\",\"#ab63fa\",\"#FFA15A\",\"#19d3f3\",\"#FF6692\",\"#B6E880\",\"#FF97FF\",\"#FECB52\"],\"font\":{\"color\":\"#2a3f5f\"},\"hovermode\":\"closest\",\"hoverlabel\":{\"align\":\"left\"},\"paper_bgcolor\":\"white\",\"plot_bgcolor\":\"#E5ECF6\",\"polar\":{\"bgcolor\":\"#E5ECF6\",\"angularaxis\":{\"gridcolor\":\"white\",\"linecolor\":\"white\",\"ticks\":\"\"},\"radialaxis\":{\"gridcolor\":\"white\",\"linecolor\":\"white\",\"ticks\":\"\"}},\"ternary\":{\"bgcolor\":\"#E5ECF6\",\"aaxis\":{\"gridcolor\":\"white\",\"linecolor\":\"white\",\"ticks\":\"\"},\"baxis\":{\"gridcolor\":\"white\",\"linecolor\":\"white\",\"ticks\":\"\"},\"caxis\":{\"gridcolor\":\"white\",\"linecolor\":\"white\",\"ticks\":\"\"}},\"coloraxis\":{\"colorbar\":{\"outlinewidth\":0,\"ticks\":\"\"}},\"colorscale\":{\"sequential\":[[0.0,\"#0d0887\"],[0.1111111111111111,\"#46039f\"],[0.2222222222222222,\"#7201a8\"],[0.3333333333333333,\"#9c179e\"],[0.4444444444444444,\"#bd3786\"],[0.5555555555555556,\"#d8576b\"],[0.6666666666666666,\"#ed7953\"],[0.7777777777777778,\"#fb9f3a\"],[0.8888888888888888,\"#fdca26\"],[1.0,\"#f0f921\"]],\"sequentialminus\":[[0.0,\"#0d0887\"],[0.1111111111111111,\"#46039f\"],[0.2222222222222222,\"#7201a8\"],[0.3333333333333333,\"#9c179e\"],[0.4444444444444444,\"#bd3786\"],[0.5555555555555556,\"#d8576b\"],[0.6666666666666666,\"#ed7953\"],[0.7777777777777778,\"#fb9f3a\"],[0.8888888888888888,\"#fdca26\"],[1.0,\"#f0f921\"]],\"diverging\":[[0,\"#8e0152\"],[0.1,\"#c51b7d\"],[0.2,\"#de77ae\"],[0.3,\"#f1b6da\"],[0.4,\"#fde0ef\"],[0.5,\"#f7f7f7\"],[0.6,\"#e6f5d0\"],[0.7,\"#b8e186\"],[0.8,\"#7fbc41\"],[0.9,\"#4d9221\"],[1,\"#276419\"]]},\"xaxis\":{\"gridcolor\":\"white\",\"linecolor\":\"white\",\"ticks\":\"\",\"title\":{\"standoff\":15},\"zerolinecolor\":\"white\",\"automargin\":true,\"zerolinewidth\":2},\"yaxis\":{\"gridcolor\":\"white\",\"linecolor\":\"white\",\"ticks\":\"\",\"title\":{\"standoff\":15},\"zerolinecolor\":\"white\",\"automargin\":true,\"zerolinewidth\":2},\"scene\":{\"xaxis\":{\"backgroundcolor\":\"#E5ECF6\",\"gridcolor\":\"white\",\"linecolor\":\"white\",\"showbackground\":true,\"ticks\":\"\",\"zerolinecolor\":\"white\",\"gridwidth\":2},\"yaxis\":{\"backgroundcolor\":\"#E5ECF6\",\"gridcolor\":\"white\",\"linecolor\":\"white\",\"showbackground\":true,\"ticks\":\"\",\"zerolinecolor\":\"white\",\"gridwidth\":2},\"zaxis\":{\"backgroundcolor\":\"#E5ECF6\",\"gridcolor\":\"white\",\"linecolor\":\"white\",\"showbackground\":true,\"ticks\":\"\",\"zerolinecolor\":\"white\",\"gridwidth\":2}},\"shapedefaults\":{\"line\":{\"color\":\"#2a3f5f\"}},\"annotationdefaults\":{\"arrowcolor\":\"#2a3f5f\",\"arrowhead\":0,\"arrowwidth\":1},\"geo\":{\"bgcolor\":\"white\",\"landcolor\":\"#E5ECF6\",\"subunitcolor\":\"white\",\"showland\":true,\"showlakes\":true,\"lakecolor\":\"white\"},\"title\":{\"x\":0.05},\"mapbox\":{\"style\":\"light\"}}},\"xaxis\":{\"anchor\":\"y\",\"domain\":[0.0,1.0],\"title\":{\"text\":\"price\"}},\"yaxis\":{\"anchor\":\"x\",\"domain\":[0.0,1.0],\"title\":{\"text\":\"income\"}},\"legend\":{\"tracegroupgap\":0},\"title\":{\"text\":\"Arganzuela\"}},                        {\"responsive\": true}                    ).then(function(){\n",
       "                            \n",
       "var gd = document.getElementById('48e0e8e5-2d05-44ba-9dd5-00017753866c');\n",
       "var x = new MutationObserver(function (mutations, observer) {{\n",
       "        var display = window.getComputedStyle(gd).display;\n",
       "        if (!display || display === 'none') {{\n",
       "            console.log([gd, 'removed!']);\n",
       "            Plotly.purge(gd);\n",
       "            observer.disconnect();\n",
       "        }}\n",
       "}});\n",
       "\n",
       "// Listen for the removal of the full notebook cells\n",
       "var notebookContainer = gd.closest('#notebook-container');\n",
       "if (notebookContainer) {{\n",
       "    x.observe(notebookContainer, {childList: true});\n",
       "}}\n",
       "\n",
       "// Listen for the clearing of the current output cell\n",
       "var outputEl = gd.closest('.output');\n",
       "if (outputEl) {{\n",
       "    x.observe(outputEl, {childList: true});\n",
       "}}\n",
       "\n",
       "                        })                };                });            </script>        </div>"
      ]
     },
     "metadata": {},
     "output_type": "display_data"
    },
    {
     "data": {
      "text/html": [
       "<div>\n",
       "<style scoped>\n",
       "    .dataframe tbody tr th:only-of-type {\n",
       "        vertical-align: middle;\n",
       "    }\n",
       "\n",
       "    .dataframe tbody tr th {\n",
       "        vertical-align: top;\n",
       "    }\n",
       "\n",
       "    .dataframe thead th {\n",
       "        text-align: right;\n",
       "    }\n",
       "</style>\n",
       "<table border=\"1\" class=\"dataframe\">\n",
       "  <thead>\n",
       "    <tr style=\"text-align: right;\">\n",
       "      <th></th>\n",
       "      <th>price</th>\n",
       "      <th>demand</th>\n",
       "      <th>income</th>\n",
       "    </tr>\n",
       "  </thead>\n",
       "  <tbody>\n",
       "    <tr>\n",
       "      <th>499</th>\n",
       "      <td>509.0</td>\n",
       "      <td>184.306115</td>\n",
       "      <td>93811.812544</td>\n",
       "    </tr>\n",
       "  </tbody>\n",
       "</table>\n",
       "</div>"
      ],
      "text/plain": [
       "     price      demand        income\n",
       "499  509.0  184.306115  93811.812544"
      ]
     },
     "metadata": {},
     "output_type": "display_data"
    },
    {
     "data": {
      "text/plain": [
       "{'barrio': 'Arganzuela',\n",
       " 'optimo': 509.0,\n",
       " 'params': {'theta_1': -0.1046482787966317, 'theta_0': 5.749257782889966},\n",
       " 'converge': True,\n",
       " 'describe': {'count_': {'count': 366.0,\n",
       "   'mean': 271.30054644808746,\n",
       "   'std': 56.42167415780101,\n",
       "   'min': 4.0,\n",
       "   '25%': 225.25,\n",
       "   '50%': 258.0,\n",
       "   '75%': 315.0,\n",
       "   'max': 397.0},\n",
       "  'avg_price': {'count': 366.0,\n",
       "   'mean': 1.3961213462685407,\n",
       "   'std': 0.11408796658772825,\n",
       "   'min': 0.9175,\n",
       "   '25%': 1.3308102243390012,\n",
       "   '50%': 1.3758810120811487,\n",
       "   '75%': 1.4491837063102109,\n",
       "   'max': 1.834047619047619}},\n",
       " 'average': 1.3961213462685407}"
      ]
     },
     "execution_count": 21,
     "metadata": {},
     "output_type": "execute_result"
    }
   ],
   "source": [
    "neighbourhood(data, 'Arganzuela')"
   ]
  },
  {
   "cell_type": "markdown",
   "id": "4b5ac5f4",
   "metadata": {},
   "source": [
    "**Salamanca**"
   ]
  },
  {
   "cell_type": "code",
   "execution_count": 17,
   "id": "f23ed986",
   "metadata": {
    "scrolled": false
   },
   "outputs": [
    {
     "name": "stdout",
     "output_type": "stream",
     "text": [
      "Salamanca\n"
     ]
    },
    {
     "data": {
      "application/vnd.plotly.v1+json": {
       "config": {
        "plotlyServerURL": "https://plot.ly"
       },
       "data": [
        {
         "hovertemplate": "date=%{x}<br>count_=%{y}<extra></extra>",
         "legendgroup": "",
         "marker": {
          "color": "#636efa",
          "symbol": "circle"
         },
         "mode": "markers",
         "name": "",
         "orientation": "v",
         "showlegend": false,
         "type": "scatter",
         "x": [
          "2020-01-10T00:00:00",
          "2020-01-11T00:00:00",
          "2020-01-12T00:00:00",
          "2020-01-13T00:00:00",
          "2020-01-14T00:00:00",
          "2020-01-15T00:00:00",
          "2020-01-16T00:00:00",
          "2020-01-17T00:00:00",
          "2020-01-18T00:00:00",
          "2020-01-19T00:00:00",
          "2020-01-20T00:00:00",
          "2020-01-21T00:00:00",
          "2020-01-22T00:00:00",
          "2020-01-23T00:00:00",
          "2020-01-24T00:00:00",
          "2020-01-25T00:00:00",
          "2020-01-26T00:00:00",
          "2020-01-27T00:00:00",
          "2020-01-28T00:00:00",
          "2020-01-29T00:00:00",
          "2020-01-30T00:00:00",
          "2020-01-31T00:00:00",
          "2020-02-01T00:00:00",
          "2020-02-02T00:00:00",
          "2020-02-03T00:00:00",
          "2020-02-04T00:00:00",
          "2020-02-05T00:00:00",
          "2020-02-06T00:00:00",
          "2020-02-07T00:00:00",
          "2020-02-08T00:00:00",
          "2020-02-09T00:00:00",
          "2020-02-10T00:00:00",
          "2020-02-11T00:00:00",
          "2020-02-12T00:00:00",
          "2020-02-13T00:00:00",
          "2020-02-14T00:00:00",
          "2020-02-15T00:00:00",
          "2020-02-16T00:00:00",
          "2020-02-17T00:00:00",
          "2020-02-18T00:00:00",
          "2020-02-19T00:00:00",
          "2020-02-20T00:00:00",
          "2020-02-21T00:00:00",
          "2020-02-22T00:00:00",
          "2020-02-23T00:00:00",
          "2020-02-24T00:00:00",
          "2020-02-25T00:00:00",
          "2020-02-26T00:00:00",
          "2020-02-27T00:00:00",
          "2020-02-28T00:00:00",
          "2020-02-29T00:00:00",
          "2020-03-01T00:00:00",
          "2020-03-02T00:00:00",
          "2020-03-03T00:00:00",
          "2020-03-04T00:00:00",
          "2020-03-05T00:00:00",
          "2020-03-06T00:00:00",
          "2020-03-07T00:00:00",
          "2020-03-08T00:00:00",
          "2020-03-09T00:00:00",
          "2020-03-10T00:00:00",
          "2020-03-11T00:00:00",
          "2020-03-12T00:00:00",
          "2020-03-13T00:00:00",
          "2020-03-14T00:00:00",
          "2020-03-15T00:00:00",
          "2020-03-16T00:00:00",
          "2020-03-17T00:00:00",
          "2020-03-18T00:00:00",
          "2020-03-19T00:00:00",
          "2020-03-20T00:00:00",
          "2020-03-21T00:00:00",
          "2020-03-22T00:00:00",
          "2020-03-23T00:00:00",
          "2020-03-24T00:00:00",
          "2020-03-25T00:00:00",
          "2020-03-26T00:00:00",
          "2020-03-27T00:00:00",
          "2020-03-28T00:00:00",
          "2020-03-29T00:00:00",
          "2020-03-30T00:00:00",
          "2020-03-31T00:00:00",
          "2020-04-01T00:00:00",
          "2020-04-02T00:00:00",
          "2020-04-03T00:00:00",
          "2020-04-04T00:00:00",
          "2020-04-05T00:00:00",
          "2020-04-06T00:00:00",
          "2020-04-07T00:00:00",
          "2020-04-08T00:00:00",
          "2020-04-09T00:00:00",
          "2020-04-10T00:00:00",
          "2020-04-11T00:00:00",
          "2020-04-12T00:00:00",
          "2020-04-13T00:00:00",
          "2020-04-14T00:00:00",
          "2020-04-15T00:00:00",
          "2020-04-16T00:00:00",
          "2020-04-17T00:00:00",
          "2020-04-18T00:00:00",
          "2020-04-19T00:00:00",
          "2020-04-20T00:00:00",
          "2020-04-21T00:00:00",
          "2020-04-22T00:00:00",
          "2020-04-23T00:00:00",
          "2020-04-24T00:00:00",
          "2020-04-25T00:00:00",
          "2020-04-26T00:00:00",
          "2020-04-27T00:00:00",
          "2020-04-28T00:00:00",
          "2020-04-29T00:00:00",
          "2020-04-30T00:00:00",
          "2020-05-01T00:00:00",
          "2020-05-02T00:00:00",
          "2020-05-03T00:00:00",
          "2020-05-04T00:00:00",
          "2020-05-05T00:00:00",
          "2020-05-06T00:00:00",
          "2020-05-07T00:00:00",
          "2020-05-08T00:00:00",
          "2020-05-09T00:00:00",
          "2020-05-10T00:00:00",
          "2020-05-11T00:00:00",
          "2020-05-12T00:00:00",
          "2020-05-13T00:00:00",
          "2020-05-14T00:00:00",
          "2020-05-15T00:00:00",
          "2020-05-16T00:00:00",
          "2020-05-17T00:00:00",
          "2020-05-18T00:00:00",
          "2020-05-19T00:00:00",
          "2020-05-20T00:00:00",
          "2020-05-21T00:00:00",
          "2020-05-22T00:00:00",
          "2020-05-23T00:00:00",
          "2020-05-24T00:00:00",
          "2020-05-25T00:00:00",
          "2020-05-26T00:00:00",
          "2020-05-27T00:00:00",
          "2020-05-28T00:00:00",
          "2020-05-29T00:00:00",
          "2020-05-30T00:00:00",
          "2020-05-31T00:00:00",
          "2020-06-01T00:00:00",
          "2020-06-02T00:00:00",
          "2020-06-03T00:00:00",
          "2020-06-04T00:00:00",
          "2020-06-05T00:00:00",
          "2020-06-06T00:00:00",
          "2020-06-07T00:00:00",
          "2020-06-08T00:00:00",
          "2020-06-09T00:00:00",
          "2020-06-10T00:00:00",
          "2020-06-11T00:00:00",
          "2020-06-12T00:00:00",
          "2020-06-13T00:00:00",
          "2020-06-14T00:00:00",
          "2020-06-15T00:00:00",
          "2020-06-16T00:00:00",
          "2020-06-17T00:00:00",
          "2020-06-18T00:00:00",
          "2020-06-19T00:00:00",
          "2020-06-20T00:00:00",
          "2020-06-21T00:00:00",
          "2020-06-22T00:00:00",
          "2020-06-23T00:00:00",
          "2020-06-24T00:00:00",
          "2020-06-25T00:00:00",
          "2020-06-26T00:00:00",
          "2020-06-27T00:00:00",
          "2020-06-28T00:00:00",
          "2020-06-29T00:00:00",
          "2020-06-30T00:00:00",
          "2020-07-01T00:00:00",
          "2020-07-02T00:00:00",
          "2020-07-03T00:00:00",
          "2020-07-04T00:00:00",
          "2020-07-05T00:00:00",
          "2020-07-06T00:00:00",
          "2020-07-07T00:00:00",
          "2020-07-08T00:00:00",
          "2020-07-09T00:00:00",
          "2020-07-10T00:00:00",
          "2020-07-11T00:00:00",
          "2020-07-12T00:00:00",
          "2020-07-13T00:00:00",
          "2020-07-14T00:00:00",
          "2020-07-15T00:00:00",
          "2020-07-16T00:00:00",
          "2020-07-17T00:00:00",
          "2020-07-18T00:00:00",
          "2020-07-19T00:00:00",
          "2020-07-20T00:00:00",
          "2020-07-21T00:00:00",
          "2020-07-22T00:00:00",
          "2020-07-23T00:00:00",
          "2020-07-24T00:00:00",
          "2020-07-25T00:00:00",
          "2020-07-26T00:00:00",
          "2020-07-27T00:00:00",
          "2020-07-28T00:00:00",
          "2020-07-29T00:00:00",
          "2020-07-30T00:00:00",
          "2020-07-31T00:00:00",
          "2020-08-01T00:00:00",
          "2020-08-02T00:00:00",
          "2020-08-03T00:00:00",
          "2020-08-04T00:00:00",
          "2020-08-05T00:00:00",
          "2020-08-06T00:00:00",
          "2020-08-07T00:00:00",
          "2020-08-08T00:00:00",
          "2020-08-09T00:00:00",
          "2020-08-10T00:00:00",
          "2020-08-11T00:00:00",
          "2020-08-12T00:00:00",
          "2020-08-13T00:00:00",
          "2020-08-14T00:00:00",
          "2020-08-15T00:00:00",
          "2020-08-16T00:00:00",
          "2020-08-17T00:00:00",
          "2020-08-18T00:00:00",
          "2020-08-19T00:00:00",
          "2020-08-20T00:00:00",
          "2020-08-21T00:00:00",
          "2020-08-22T00:00:00",
          "2020-08-23T00:00:00",
          "2020-08-24T00:00:00",
          "2020-08-25T00:00:00",
          "2020-08-26T00:00:00",
          "2020-08-27T00:00:00",
          "2020-08-28T00:00:00",
          "2020-08-29T00:00:00",
          "2020-08-30T00:00:00",
          "2020-08-31T00:00:00",
          "2020-09-01T00:00:00",
          "2020-09-02T00:00:00",
          "2020-09-03T00:00:00",
          "2020-09-04T00:00:00",
          "2020-09-05T00:00:00",
          "2020-09-06T00:00:00",
          "2020-09-07T00:00:00",
          "2020-09-08T00:00:00",
          "2020-09-09T00:00:00",
          "2020-09-10T00:00:00",
          "2020-09-11T00:00:00",
          "2020-09-12T00:00:00",
          "2020-09-13T00:00:00",
          "2020-09-14T00:00:00",
          "2020-09-15T00:00:00",
          "2020-09-16T00:00:00",
          "2020-09-17T00:00:00",
          "2020-09-18T00:00:00",
          "2020-09-19T00:00:00",
          "2020-09-20T00:00:00",
          "2020-09-21T00:00:00",
          "2020-09-22T00:00:00",
          "2020-09-23T00:00:00",
          "2020-09-24T00:00:00",
          "2020-09-25T00:00:00",
          "2020-09-26T00:00:00",
          "2020-09-27T00:00:00",
          "2020-09-28T00:00:00",
          "2020-09-29T00:00:00",
          "2020-09-30T00:00:00",
          "2020-10-01T00:00:00",
          "2020-10-02T00:00:00",
          "2020-10-03T00:00:00",
          "2020-10-04T00:00:00",
          "2020-10-05T00:00:00",
          "2020-10-06T00:00:00",
          "2020-10-07T00:00:00",
          "2020-10-08T00:00:00",
          "2020-10-09T00:00:00",
          "2020-10-10T00:00:00",
          "2020-10-11T00:00:00",
          "2020-10-12T00:00:00",
          "2020-10-13T00:00:00",
          "2020-10-14T00:00:00",
          "2020-10-15T00:00:00",
          "2020-10-16T00:00:00",
          "2020-10-17T00:00:00",
          "2020-10-18T00:00:00",
          "2020-10-19T00:00:00",
          "2020-10-20T00:00:00",
          "2020-10-21T00:00:00",
          "2020-10-22T00:00:00",
          "2020-10-23T00:00:00",
          "2020-10-24T00:00:00",
          "2020-10-25T00:00:00",
          "2020-10-26T00:00:00",
          "2020-10-27T00:00:00",
          "2020-10-28T00:00:00",
          "2020-10-29T00:00:00",
          "2020-10-30T00:00:00",
          "2020-10-31T00:00:00",
          "2020-11-01T00:00:00",
          "2020-11-02T00:00:00",
          "2020-11-03T00:00:00",
          "2020-11-04T00:00:00",
          "2020-11-05T00:00:00",
          "2020-11-06T00:00:00",
          "2020-11-07T00:00:00",
          "2020-11-08T00:00:00",
          "2020-11-09T00:00:00",
          "2020-11-10T00:00:00",
          "2020-11-11T00:00:00",
          "2020-11-12T00:00:00",
          "2020-11-13T00:00:00",
          "2020-11-14T00:00:00",
          "2020-11-15T00:00:00",
          "2020-11-16T00:00:00",
          "2020-11-17T00:00:00",
          "2020-11-18T00:00:00",
          "2020-11-19T00:00:00",
          "2020-11-20T00:00:00",
          "2020-11-21T00:00:00",
          "2020-11-22T00:00:00",
          "2020-11-23T00:00:00",
          "2020-11-24T00:00:00",
          "2020-11-25T00:00:00",
          "2020-11-26T00:00:00",
          "2020-11-27T00:00:00",
          "2020-11-28T00:00:00",
          "2020-11-29T00:00:00",
          "2020-11-30T00:00:00",
          "2020-12-01T00:00:00",
          "2020-12-02T00:00:00",
          "2020-12-03T00:00:00",
          "2020-12-04T00:00:00",
          "2020-12-05T00:00:00",
          "2020-12-06T00:00:00",
          "2020-12-07T00:00:00",
          "2020-12-08T00:00:00",
          "2020-12-09T00:00:00",
          "2020-12-10T00:00:00",
          "2020-12-11T00:00:00",
          "2020-12-12T00:00:00",
          "2020-12-13T00:00:00",
          "2020-12-14T00:00:00",
          "2020-12-15T00:00:00",
          "2020-12-16T00:00:00",
          "2020-12-17T00:00:00",
          "2020-12-18T00:00:00",
          "2020-12-19T00:00:00",
          "2020-12-20T00:00:00",
          "2020-12-21T00:00:00",
          "2020-12-22T00:00:00",
          "2020-12-23T00:00:00",
          "2020-12-24T00:00:00",
          "2020-12-25T00:00:00",
          "2020-12-26T00:00:00",
          "2020-12-27T00:00:00",
          "2020-12-28T00:00:00",
          "2020-12-29T00:00:00",
          "2020-12-30T00:00:00",
          "2020-12-31T00:00:00",
          "2021-01-01T00:00:00",
          "2021-01-02T00:00:00",
          "2021-01-03T00:00:00",
          "2021-01-04T00:00:00",
          "2021-01-05T00:00:00",
          "2021-01-06T00:00:00",
          "2021-01-07T00:00:00",
          "2021-01-08T00:00:00",
          "2021-01-09T00:00:00"
         ],
         "xaxis": "x",
         "y": [
          18,
          306,
          441,
          482,
          504,
          505,
          511,
          457,
          437,
          513,
          523,
          500,
          467,
          467,
          469,
          492,
          584,
          612,
          627,
          619,
          616,
          596,
          583,
          657,
          668,
          662,
          651,
          649,
          631,
          641,
          675,
          689,
          689,
          692,
          683,
          668,
          624,
          628,
          673,
          680,
          687,
          667,
          618,
          591,
          667,
          689,
          691,
          691,
          675,
          654,
          655,
          690,
          714,
          712,
          730,
          736,
          732,
          737,
          751,
          750,
          733,
          724,
          718,
          706,
          705,
          727,
          732,
          736,
          741,
          728,
          722,
          711,
          720,
          728,
          728,
          729,
          731,
          728,
          727,
          741,
          750,
          761,
          759,
          742,
          744,
          734,
          747,
          746,
          739,
          733,
          721,
          602,
          600,
          612,
          625,
          633,
          633,
          625,
          619,
          618,
          636,
          636,
          636,
          627,
          612,
          579,
          563,
          585,
          629,
          638,
          640,
          644,
          611,
          619,
          630,
          621,
          625,
          624,
          614,
          610,
          612,
          625,
          629,
          634,
          632,
          636,
          635,
          634,
          631,
          626,
          635,
          637,
          635,
          636,
          636,
          639,
          637,
          641,
          645,
          648,
          644,
          644,
          656,
          650,
          651,
          656,
          653,
          657,
          663,
          665,
          663,
          661,
          660,
          661,
          667,
          661,
          665,
          670,
          669,
          672,
          674,
          678,
          676,
          679,
          674,
          672,
          673,
          670,
          674,
          671,
          669,
          667,
          680,
          668,
          668,
          671,
          667,
          662,
          669,
          651,
          650,
          528,
          529,
          534,
          545,
          548,
          546,
          547,
          548,
          553,
          553,
          553,
          549,
          547,
          547,
          547,
          551,
          553,
          551,
          554,
          551,
          550,
          555,
          559,
          566,
          569,
          566,
          566,
          562,
          563,
          562,
          562,
          562,
          562,
          563,
          563,
          562,
          568,
          572,
          572,
          572,
          572,
          574,
          574,
          575,
          575,
          575,
          578,
          575,
          576,
          574,
          577,
          578,
          580,
          581,
          589,
          584,
          583,
          582,
          586,
          586,
          585,
          585,
          584,
          582,
          583,
          585,
          587,
          586,
          584,
          580,
          575,
          576,
          576,
          578,
          578,
          585,
          586,
          585,
          585,
          585,
          586,
          587,
          587,
          592,
          586,
          590,
          587,
          586,
          582,
          579,
          545,
          548,
          545,
          544,
          549,
          554,
          552,
          554,
          555,
          558,
          558,
          560,
          554,
          553,
          553,
          552,
          557,
          557,
          557,
          557,
          556,
          556,
          555,
          556,
          557,
          555,
          555,
          554,
          554,
          553,
          558,
          558,
          558,
          557,
          556,
          556,
          556,
          559,
          558,
          557,
          555,
          554,
          553,
          553,
          556,
          555,
          553,
          554,
          553,
          553,
          553,
          557,
          557,
          556,
          556,
          556,
          557,
          557,
          559,
          559,
          558,
          557,
          557,
          557,
          557,
          560,
          560,
          559,
          560,
          558,
          559,
          558,
          563,
          563,
          562,
          563,
          560,
          559,
          559,
          559,
          562,
          561,
          559,
          557,
          556,
          558,
          455,
          454,
          446,
          448,
          450,
          450,
          445,
          448,
          438
         ],
         "yaxis": "y"
        }
       ],
       "layout": {
        "legend": {
         "tracegroupgap": 0
        },
        "template": {
         "data": {
          "bar": [
           {
            "error_x": {
             "color": "#2a3f5f"
            },
            "error_y": {
             "color": "#2a3f5f"
            },
            "marker": {
             "line": {
              "color": "#E5ECF6",
              "width": 0.5
             },
             "pattern": {
              "fillmode": "overlay",
              "size": 10,
              "solidity": 0.2
             }
            },
            "type": "bar"
           }
          ],
          "barpolar": [
           {
            "marker": {
             "line": {
              "color": "#E5ECF6",
              "width": 0.5
             },
             "pattern": {
              "fillmode": "overlay",
              "size": 10,
              "solidity": 0.2
             }
            },
            "type": "barpolar"
           }
          ],
          "carpet": [
           {
            "aaxis": {
             "endlinecolor": "#2a3f5f",
             "gridcolor": "white",
             "linecolor": "white",
             "minorgridcolor": "white",
             "startlinecolor": "#2a3f5f"
            },
            "baxis": {
             "endlinecolor": "#2a3f5f",
             "gridcolor": "white",
             "linecolor": "white",
             "minorgridcolor": "white",
             "startlinecolor": "#2a3f5f"
            },
            "type": "carpet"
           }
          ],
          "choropleth": [
           {
            "colorbar": {
             "outlinewidth": 0,
             "ticks": ""
            },
            "type": "choropleth"
           }
          ],
          "contour": [
           {
            "colorbar": {
             "outlinewidth": 0,
             "ticks": ""
            },
            "colorscale": [
             [
              0,
              "#0d0887"
             ],
             [
              0.1111111111111111,
              "#46039f"
             ],
             [
              0.2222222222222222,
              "#7201a8"
             ],
             [
              0.3333333333333333,
              "#9c179e"
             ],
             [
              0.4444444444444444,
              "#bd3786"
             ],
             [
              0.5555555555555556,
              "#d8576b"
             ],
             [
              0.6666666666666666,
              "#ed7953"
             ],
             [
              0.7777777777777778,
              "#fb9f3a"
             ],
             [
              0.8888888888888888,
              "#fdca26"
             ],
             [
              1,
              "#f0f921"
             ]
            ],
            "type": "contour"
           }
          ],
          "contourcarpet": [
           {
            "colorbar": {
             "outlinewidth": 0,
             "ticks": ""
            },
            "type": "contourcarpet"
           }
          ],
          "heatmap": [
           {
            "colorbar": {
             "outlinewidth": 0,
             "ticks": ""
            },
            "colorscale": [
             [
              0,
              "#0d0887"
             ],
             [
              0.1111111111111111,
              "#46039f"
             ],
             [
              0.2222222222222222,
              "#7201a8"
             ],
             [
              0.3333333333333333,
              "#9c179e"
             ],
             [
              0.4444444444444444,
              "#bd3786"
             ],
             [
              0.5555555555555556,
              "#d8576b"
             ],
             [
              0.6666666666666666,
              "#ed7953"
             ],
             [
              0.7777777777777778,
              "#fb9f3a"
             ],
             [
              0.8888888888888888,
              "#fdca26"
             ],
             [
              1,
              "#f0f921"
             ]
            ],
            "type": "heatmap"
           }
          ],
          "heatmapgl": [
           {
            "colorbar": {
             "outlinewidth": 0,
             "ticks": ""
            },
            "colorscale": [
             [
              0,
              "#0d0887"
             ],
             [
              0.1111111111111111,
              "#46039f"
             ],
             [
              0.2222222222222222,
              "#7201a8"
             ],
             [
              0.3333333333333333,
              "#9c179e"
             ],
             [
              0.4444444444444444,
              "#bd3786"
             ],
             [
              0.5555555555555556,
              "#d8576b"
             ],
             [
              0.6666666666666666,
              "#ed7953"
             ],
             [
              0.7777777777777778,
              "#fb9f3a"
             ],
             [
              0.8888888888888888,
              "#fdca26"
             ],
             [
              1,
              "#f0f921"
             ]
            ],
            "type": "heatmapgl"
           }
          ],
          "histogram": [
           {
            "marker": {
             "pattern": {
              "fillmode": "overlay",
              "size": 10,
              "solidity": 0.2
             }
            },
            "type": "histogram"
           }
          ],
          "histogram2d": [
           {
            "colorbar": {
             "outlinewidth": 0,
             "ticks": ""
            },
            "colorscale": [
             [
              0,
              "#0d0887"
             ],
             [
              0.1111111111111111,
              "#46039f"
             ],
             [
              0.2222222222222222,
              "#7201a8"
             ],
             [
              0.3333333333333333,
              "#9c179e"
             ],
             [
              0.4444444444444444,
              "#bd3786"
             ],
             [
              0.5555555555555556,
              "#d8576b"
             ],
             [
              0.6666666666666666,
              "#ed7953"
             ],
             [
              0.7777777777777778,
              "#fb9f3a"
             ],
             [
              0.8888888888888888,
              "#fdca26"
             ],
             [
              1,
              "#f0f921"
             ]
            ],
            "type": "histogram2d"
           }
          ],
          "histogram2dcontour": [
           {
            "colorbar": {
             "outlinewidth": 0,
             "ticks": ""
            },
            "colorscale": [
             [
              0,
              "#0d0887"
             ],
             [
              0.1111111111111111,
              "#46039f"
             ],
             [
              0.2222222222222222,
              "#7201a8"
             ],
             [
              0.3333333333333333,
              "#9c179e"
             ],
             [
              0.4444444444444444,
              "#bd3786"
             ],
             [
              0.5555555555555556,
              "#d8576b"
             ],
             [
              0.6666666666666666,
              "#ed7953"
             ],
             [
              0.7777777777777778,
              "#fb9f3a"
             ],
             [
              0.8888888888888888,
              "#fdca26"
             ],
             [
              1,
              "#f0f921"
             ]
            ],
            "type": "histogram2dcontour"
           }
          ],
          "mesh3d": [
           {
            "colorbar": {
             "outlinewidth": 0,
             "ticks": ""
            },
            "type": "mesh3d"
           }
          ],
          "parcoords": [
           {
            "line": {
             "colorbar": {
              "outlinewidth": 0,
              "ticks": ""
             }
            },
            "type": "parcoords"
           }
          ],
          "pie": [
           {
            "automargin": true,
            "type": "pie"
           }
          ],
          "scatter": [
           {
            "fillpattern": {
             "fillmode": "overlay",
             "size": 10,
             "solidity": 0.2
            },
            "type": "scatter"
           }
          ],
          "scatter3d": [
           {
            "line": {
             "colorbar": {
              "outlinewidth": 0,
              "ticks": ""
             }
            },
            "marker": {
             "colorbar": {
              "outlinewidth": 0,
              "ticks": ""
             }
            },
            "type": "scatter3d"
           }
          ],
          "scattercarpet": [
           {
            "marker": {
             "colorbar": {
              "outlinewidth": 0,
              "ticks": ""
             }
            },
            "type": "scattercarpet"
           }
          ],
          "scattergeo": [
           {
            "marker": {
             "colorbar": {
              "outlinewidth": 0,
              "ticks": ""
             }
            },
            "type": "scattergeo"
           }
          ],
          "scattergl": [
           {
            "marker": {
             "colorbar": {
              "outlinewidth": 0,
              "ticks": ""
             }
            },
            "type": "scattergl"
           }
          ],
          "scattermapbox": [
           {
            "marker": {
             "colorbar": {
              "outlinewidth": 0,
              "ticks": ""
             }
            },
            "type": "scattermapbox"
           }
          ],
          "scatterpolar": [
           {
            "marker": {
             "colorbar": {
              "outlinewidth": 0,
              "ticks": ""
             }
            },
            "type": "scatterpolar"
           }
          ],
          "scatterpolargl": [
           {
            "marker": {
             "colorbar": {
              "outlinewidth": 0,
              "ticks": ""
             }
            },
            "type": "scatterpolargl"
           }
          ],
          "scatterternary": [
           {
            "marker": {
             "colorbar": {
              "outlinewidth": 0,
              "ticks": ""
             }
            },
            "type": "scatterternary"
           }
          ],
          "surface": [
           {
            "colorbar": {
             "outlinewidth": 0,
             "ticks": ""
            },
            "colorscale": [
             [
              0,
              "#0d0887"
             ],
             [
              0.1111111111111111,
              "#46039f"
             ],
             [
              0.2222222222222222,
              "#7201a8"
             ],
             [
              0.3333333333333333,
              "#9c179e"
             ],
             [
              0.4444444444444444,
              "#bd3786"
             ],
             [
              0.5555555555555556,
              "#d8576b"
             ],
             [
              0.6666666666666666,
              "#ed7953"
             ],
             [
              0.7777777777777778,
              "#fb9f3a"
             ],
             [
              0.8888888888888888,
              "#fdca26"
             ],
             [
              1,
              "#f0f921"
             ]
            ],
            "type": "surface"
           }
          ],
          "table": [
           {
            "cells": {
             "fill": {
              "color": "#EBF0F8"
             },
             "line": {
              "color": "white"
             }
            },
            "header": {
             "fill": {
              "color": "#C8D4E3"
             },
             "line": {
              "color": "white"
             }
            },
            "type": "table"
           }
          ]
         },
         "layout": {
          "annotationdefaults": {
           "arrowcolor": "#2a3f5f",
           "arrowhead": 0,
           "arrowwidth": 1
          },
          "autotypenumbers": "strict",
          "coloraxis": {
           "colorbar": {
            "outlinewidth": 0,
            "ticks": ""
           }
          },
          "colorscale": {
           "diverging": [
            [
             0,
             "#8e0152"
            ],
            [
             0.1,
             "#c51b7d"
            ],
            [
             0.2,
             "#de77ae"
            ],
            [
             0.3,
             "#f1b6da"
            ],
            [
             0.4,
             "#fde0ef"
            ],
            [
             0.5,
             "#f7f7f7"
            ],
            [
             0.6,
             "#e6f5d0"
            ],
            [
             0.7,
             "#b8e186"
            ],
            [
             0.8,
             "#7fbc41"
            ],
            [
             0.9,
             "#4d9221"
            ],
            [
             1,
             "#276419"
            ]
           ],
           "sequential": [
            [
             0,
             "#0d0887"
            ],
            [
             0.1111111111111111,
             "#46039f"
            ],
            [
             0.2222222222222222,
             "#7201a8"
            ],
            [
             0.3333333333333333,
             "#9c179e"
            ],
            [
             0.4444444444444444,
             "#bd3786"
            ],
            [
             0.5555555555555556,
             "#d8576b"
            ],
            [
             0.6666666666666666,
             "#ed7953"
            ],
            [
             0.7777777777777778,
             "#fb9f3a"
            ],
            [
             0.8888888888888888,
             "#fdca26"
            ],
            [
             1,
             "#f0f921"
            ]
           ],
           "sequentialminus": [
            [
             0,
             "#0d0887"
            ],
            [
             0.1111111111111111,
             "#46039f"
            ],
            [
             0.2222222222222222,
             "#7201a8"
            ],
            [
             0.3333333333333333,
             "#9c179e"
            ],
            [
             0.4444444444444444,
             "#bd3786"
            ],
            [
             0.5555555555555556,
             "#d8576b"
            ],
            [
             0.6666666666666666,
             "#ed7953"
            ],
            [
             0.7777777777777778,
             "#fb9f3a"
            ],
            [
             0.8888888888888888,
             "#fdca26"
            ],
            [
             1,
             "#f0f921"
            ]
           ]
          },
          "colorway": [
           "#636efa",
           "#EF553B",
           "#00cc96",
           "#ab63fa",
           "#FFA15A",
           "#19d3f3",
           "#FF6692",
           "#B6E880",
           "#FF97FF",
           "#FECB52"
          ],
          "font": {
           "color": "#2a3f5f"
          },
          "geo": {
           "bgcolor": "white",
           "lakecolor": "white",
           "landcolor": "#E5ECF6",
           "showlakes": true,
           "showland": true,
           "subunitcolor": "white"
          },
          "hoverlabel": {
           "align": "left"
          },
          "hovermode": "closest",
          "mapbox": {
           "style": "light"
          },
          "paper_bgcolor": "white",
          "plot_bgcolor": "#E5ECF6",
          "polar": {
           "angularaxis": {
            "gridcolor": "white",
            "linecolor": "white",
            "ticks": ""
           },
           "bgcolor": "#E5ECF6",
           "radialaxis": {
            "gridcolor": "white",
            "linecolor": "white",
            "ticks": ""
           }
          },
          "scene": {
           "xaxis": {
            "backgroundcolor": "#E5ECF6",
            "gridcolor": "white",
            "gridwidth": 2,
            "linecolor": "white",
            "showbackground": true,
            "ticks": "",
            "zerolinecolor": "white"
           },
           "yaxis": {
            "backgroundcolor": "#E5ECF6",
            "gridcolor": "white",
            "gridwidth": 2,
            "linecolor": "white",
            "showbackground": true,
            "ticks": "",
            "zerolinecolor": "white"
           },
           "zaxis": {
            "backgroundcolor": "#E5ECF6",
            "gridcolor": "white",
            "gridwidth": 2,
            "linecolor": "white",
            "showbackground": true,
            "ticks": "",
            "zerolinecolor": "white"
           }
          },
          "shapedefaults": {
           "line": {
            "color": "#2a3f5f"
           }
          },
          "ternary": {
           "aaxis": {
            "gridcolor": "white",
            "linecolor": "white",
            "ticks": ""
           },
           "baxis": {
            "gridcolor": "white",
            "linecolor": "white",
            "ticks": ""
           },
           "bgcolor": "#E5ECF6",
           "caxis": {
            "gridcolor": "white",
            "linecolor": "white",
            "ticks": ""
           }
          },
          "title": {
           "x": 0.05
          },
          "xaxis": {
           "automargin": true,
           "gridcolor": "white",
           "linecolor": "white",
           "ticks": "",
           "title": {
            "standoff": 15
           },
           "zerolinecolor": "white",
           "zerolinewidth": 2
          },
          "yaxis": {
           "automargin": true,
           "gridcolor": "white",
           "linecolor": "white",
           "ticks": "",
           "title": {
            "standoff": 15
           },
           "zerolinecolor": "white",
           "zerolinewidth": 2
          }
         }
        },
        "title": {
         "text": "Salamanca"
        },
        "xaxis": {
         "anchor": "y",
         "domain": [
          0,
          1
         ],
         "title": {
          "text": "date"
         }
        },
        "yaxis": {
         "anchor": "x",
         "domain": [
          0,
          1
         ],
         "title": {
          "text": "count_"
         }
        }
       }
      },
      "text/html": [
       "<div>                            <div id=\"b9c9e794-d283-4a1c-93d7-a4ed847242ec\" class=\"plotly-graph-div\" style=\"height:525px; width:100%;\"></div>            <script type=\"text/javascript\">                require([\"plotly\"], function(Plotly) {                    window.PLOTLYENV=window.PLOTLYENV || {};                                    if (document.getElementById(\"b9c9e794-d283-4a1c-93d7-a4ed847242ec\")) {                    Plotly.newPlot(                        \"b9c9e794-d283-4a1c-93d7-a4ed847242ec\",                        [{\"hovertemplate\":\"date=%{x}<br>count_=%{y}<extra></extra>\",\"legendgroup\":\"\",\"marker\":{\"color\":\"#636efa\",\"symbol\":\"circle\"},\"mode\":\"markers\",\"name\":\"\",\"orientation\":\"v\",\"showlegend\":false,\"x\":[\"2020-01-10T00:00:00\",\"2020-01-11T00:00:00\",\"2020-01-12T00:00:00\",\"2020-01-13T00:00:00\",\"2020-01-14T00:00:00\",\"2020-01-15T00:00:00\",\"2020-01-16T00:00:00\",\"2020-01-17T00:00:00\",\"2020-01-18T00:00:00\",\"2020-01-19T00:00:00\",\"2020-01-20T00:00:00\",\"2020-01-21T00:00:00\",\"2020-01-22T00:00:00\",\"2020-01-23T00:00:00\",\"2020-01-24T00:00:00\",\"2020-01-25T00:00:00\",\"2020-01-26T00:00:00\",\"2020-01-27T00:00:00\",\"2020-01-28T00:00:00\",\"2020-01-29T00:00:00\",\"2020-01-30T00:00:00\",\"2020-01-31T00:00:00\",\"2020-02-01T00:00:00\",\"2020-02-02T00:00:00\",\"2020-02-03T00:00:00\",\"2020-02-04T00:00:00\",\"2020-02-05T00:00:00\",\"2020-02-06T00:00:00\",\"2020-02-07T00:00:00\",\"2020-02-08T00:00:00\",\"2020-02-09T00:00:00\",\"2020-02-10T00:00:00\",\"2020-02-11T00:00:00\",\"2020-02-12T00:00:00\",\"2020-02-13T00:00:00\",\"2020-02-14T00:00:00\",\"2020-02-15T00:00:00\",\"2020-02-16T00:00:00\",\"2020-02-17T00:00:00\",\"2020-02-18T00:00:00\",\"2020-02-19T00:00:00\",\"2020-02-20T00:00:00\",\"2020-02-21T00:00:00\",\"2020-02-22T00:00:00\",\"2020-02-23T00:00:00\",\"2020-02-24T00:00:00\",\"2020-02-25T00:00:00\",\"2020-02-26T00:00:00\",\"2020-02-27T00:00:00\",\"2020-02-28T00:00:00\",\"2020-02-29T00:00:00\",\"2020-03-01T00:00:00\",\"2020-03-02T00:00:00\",\"2020-03-03T00:00:00\",\"2020-03-04T00:00:00\",\"2020-03-05T00:00:00\",\"2020-03-06T00:00:00\",\"2020-03-07T00:00:00\",\"2020-03-08T00:00:00\",\"2020-03-09T00:00:00\",\"2020-03-10T00:00:00\",\"2020-03-11T00:00:00\",\"2020-03-12T00:00:00\",\"2020-03-13T00:00:00\",\"2020-03-14T00:00:00\",\"2020-03-15T00:00:00\",\"2020-03-16T00:00:00\",\"2020-03-17T00:00:00\",\"2020-03-18T00:00:00\",\"2020-03-19T00:00:00\",\"2020-03-20T00:00:00\",\"2020-03-21T00:00:00\",\"2020-03-22T00:00:00\",\"2020-03-23T00:00:00\",\"2020-03-24T00:00:00\",\"2020-03-25T00:00:00\",\"2020-03-26T00:00:00\",\"2020-03-27T00:00:00\",\"2020-03-28T00:00:00\",\"2020-03-29T00:00:00\",\"2020-03-30T00:00:00\",\"2020-03-31T00:00:00\",\"2020-04-01T00:00:00\",\"2020-04-02T00:00:00\",\"2020-04-03T00:00:00\",\"2020-04-04T00:00:00\",\"2020-04-05T00:00:00\",\"2020-04-06T00:00:00\",\"2020-04-07T00:00:00\",\"2020-04-08T00:00:00\",\"2020-04-09T00:00:00\",\"2020-04-10T00:00:00\",\"2020-04-11T00:00:00\",\"2020-04-12T00:00:00\",\"2020-04-13T00:00:00\",\"2020-04-14T00:00:00\",\"2020-04-15T00:00:00\",\"2020-04-16T00:00:00\",\"2020-04-17T00:00:00\",\"2020-04-18T00:00:00\",\"2020-04-19T00:00:00\",\"2020-04-20T00:00:00\",\"2020-04-21T00:00:00\",\"2020-04-22T00:00:00\",\"2020-04-23T00:00:00\",\"2020-04-24T00:00:00\",\"2020-04-25T00:00:00\",\"2020-04-26T00:00:00\",\"2020-04-27T00:00:00\",\"2020-04-28T00:00:00\",\"2020-04-29T00:00:00\",\"2020-04-30T00:00:00\",\"2020-05-01T00:00:00\",\"2020-05-02T00:00:00\",\"2020-05-03T00:00:00\",\"2020-05-04T00:00:00\",\"2020-05-05T00:00:00\",\"2020-05-06T00:00:00\",\"2020-05-07T00:00:00\",\"2020-05-08T00:00:00\",\"2020-05-09T00:00:00\",\"2020-05-10T00:00:00\",\"2020-05-11T00:00:00\",\"2020-05-12T00:00:00\",\"2020-05-13T00:00:00\",\"2020-05-14T00:00:00\",\"2020-05-15T00:00:00\",\"2020-05-16T00:00:00\",\"2020-05-17T00:00:00\",\"2020-05-18T00:00:00\",\"2020-05-19T00:00:00\",\"2020-05-20T00:00:00\",\"2020-05-21T00:00:00\",\"2020-05-22T00:00:00\",\"2020-05-23T00:00:00\",\"2020-05-24T00:00:00\",\"2020-05-25T00:00:00\",\"2020-05-26T00:00:00\",\"2020-05-27T00:00:00\",\"2020-05-28T00:00:00\",\"2020-05-29T00:00:00\",\"2020-05-30T00:00:00\",\"2020-05-31T00:00:00\",\"2020-06-01T00:00:00\",\"2020-06-02T00:00:00\",\"2020-06-03T00:00:00\",\"2020-06-04T00:00:00\",\"2020-06-05T00:00:00\",\"2020-06-06T00:00:00\",\"2020-06-07T00:00:00\",\"2020-06-08T00:00:00\",\"2020-06-09T00:00:00\",\"2020-06-10T00:00:00\",\"2020-06-11T00:00:00\",\"2020-06-12T00:00:00\",\"2020-06-13T00:00:00\",\"2020-06-14T00:00:00\",\"2020-06-15T00:00:00\",\"2020-06-16T00:00:00\",\"2020-06-17T00:00:00\",\"2020-06-18T00:00:00\",\"2020-06-19T00:00:00\",\"2020-06-20T00:00:00\",\"2020-06-21T00:00:00\",\"2020-06-22T00:00:00\",\"2020-06-23T00:00:00\",\"2020-06-24T00:00:00\",\"2020-06-25T00:00:00\",\"2020-06-26T00:00:00\",\"2020-06-27T00:00:00\",\"2020-06-28T00:00:00\",\"2020-06-29T00:00:00\",\"2020-06-30T00:00:00\",\"2020-07-01T00:00:00\",\"2020-07-02T00:00:00\",\"2020-07-03T00:00:00\",\"2020-07-04T00:00:00\",\"2020-07-05T00:00:00\",\"2020-07-06T00:00:00\",\"2020-07-07T00:00:00\",\"2020-07-08T00:00:00\",\"2020-07-09T00:00:00\",\"2020-07-10T00:00:00\",\"2020-07-11T00:00:00\",\"2020-07-12T00:00:00\",\"2020-07-13T00:00:00\",\"2020-07-14T00:00:00\",\"2020-07-15T00:00:00\",\"2020-07-16T00:00:00\",\"2020-07-17T00:00:00\",\"2020-07-18T00:00:00\",\"2020-07-19T00:00:00\",\"2020-07-20T00:00:00\",\"2020-07-21T00:00:00\",\"2020-07-22T00:00:00\",\"2020-07-23T00:00:00\",\"2020-07-24T00:00:00\",\"2020-07-25T00:00:00\",\"2020-07-26T00:00:00\",\"2020-07-27T00:00:00\",\"2020-07-28T00:00:00\",\"2020-07-29T00:00:00\",\"2020-07-30T00:00:00\",\"2020-07-31T00:00:00\",\"2020-08-01T00:00:00\",\"2020-08-02T00:00:00\",\"2020-08-03T00:00:00\",\"2020-08-04T00:00:00\",\"2020-08-05T00:00:00\",\"2020-08-06T00:00:00\",\"2020-08-07T00:00:00\",\"2020-08-08T00:00:00\",\"2020-08-09T00:00:00\",\"2020-08-10T00:00:00\",\"2020-08-11T00:00:00\",\"2020-08-12T00:00:00\",\"2020-08-13T00:00:00\",\"2020-08-14T00:00:00\",\"2020-08-15T00:00:00\",\"2020-08-16T00:00:00\",\"2020-08-17T00:00:00\",\"2020-08-18T00:00:00\",\"2020-08-19T00:00:00\",\"2020-08-20T00:00:00\",\"2020-08-21T00:00:00\",\"2020-08-22T00:00:00\",\"2020-08-23T00:00:00\",\"2020-08-24T00:00:00\",\"2020-08-25T00:00:00\",\"2020-08-26T00:00:00\",\"2020-08-27T00:00:00\",\"2020-08-28T00:00:00\",\"2020-08-29T00:00:00\",\"2020-08-30T00:00:00\",\"2020-08-31T00:00:00\",\"2020-09-01T00:00:00\",\"2020-09-02T00:00:00\",\"2020-09-03T00:00:00\",\"2020-09-04T00:00:00\",\"2020-09-05T00:00:00\",\"2020-09-06T00:00:00\",\"2020-09-07T00:00:00\",\"2020-09-08T00:00:00\",\"2020-09-09T00:00:00\",\"2020-09-10T00:00:00\",\"2020-09-11T00:00:00\",\"2020-09-12T00:00:00\",\"2020-09-13T00:00:00\",\"2020-09-14T00:00:00\",\"2020-09-15T00:00:00\",\"2020-09-16T00:00:00\",\"2020-09-17T00:00:00\",\"2020-09-18T00:00:00\",\"2020-09-19T00:00:00\",\"2020-09-20T00:00:00\",\"2020-09-21T00:00:00\",\"2020-09-22T00:00:00\",\"2020-09-23T00:00:00\",\"2020-09-24T00:00:00\",\"2020-09-25T00:00:00\",\"2020-09-26T00:00:00\",\"2020-09-27T00:00:00\",\"2020-09-28T00:00:00\",\"2020-09-29T00:00:00\",\"2020-09-30T00:00:00\",\"2020-10-01T00:00:00\",\"2020-10-02T00:00:00\",\"2020-10-03T00:00:00\",\"2020-10-04T00:00:00\",\"2020-10-05T00:00:00\",\"2020-10-06T00:00:00\",\"2020-10-07T00:00:00\",\"2020-10-08T00:00:00\",\"2020-10-09T00:00:00\",\"2020-10-10T00:00:00\",\"2020-10-11T00:00:00\",\"2020-10-12T00:00:00\",\"2020-10-13T00:00:00\",\"2020-10-14T00:00:00\",\"2020-10-15T00:00:00\",\"2020-10-16T00:00:00\",\"2020-10-17T00:00:00\",\"2020-10-18T00:00:00\",\"2020-10-19T00:00:00\",\"2020-10-20T00:00:00\",\"2020-10-21T00:00:00\",\"2020-10-22T00:00:00\",\"2020-10-23T00:00:00\",\"2020-10-24T00:00:00\",\"2020-10-25T00:00:00\",\"2020-10-26T00:00:00\",\"2020-10-27T00:00:00\",\"2020-10-28T00:00:00\",\"2020-10-29T00:00:00\",\"2020-10-30T00:00:00\",\"2020-10-31T00:00:00\",\"2020-11-01T00:00:00\",\"2020-11-02T00:00:00\",\"2020-11-03T00:00:00\",\"2020-11-04T00:00:00\",\"2020-11-05T00:00:00\",\"2020-11-06T00:00:00\",\"2020-11-07T00:00:00\",\"2020-11-08T00:00:00\",\"2020-11-09T00:00:00\",\"2020-11-10T00:00:00\",\"2020-11-11T00:00:00\",\"2020-11-12T00:00:00\",\"2020-11-13T00:00:00\",\"2020-11-14T00:00:00\",\"2020-11-15T00:00:00\",\"2020-11-16T00:00:00\",\"2020-11-17T00:00:00\",\"2020-11-18T00:00:00\",\"2020-11-19T00:00:00\",\"2020-11-20T00:00:00\",\"2020-11-21T00:00:00\",\"2020-11-22T00:00:00\",\"2020-11-23T00:00:00\",\"2020-11-24T00:00:00\",\"2020-11-25T00:00:00\",\"2020-11-26T00:00:00\",\"2020-11-27T00:00:00\",\"2020-11-28T00:00:00\",\"2020-11-29T00:00:00\",\"2020-11-30T00:00:00\",\"2020-12-01T00:00:00\",\"2020-12-02T00:00:00\",\"2020-12-03T00:00:00\",\"2020-12-04T00:00:00\",\"2020-12-05T00:00:00\",\"2020-12-06T00:00:00\",\"2020-12-07T00:00:00\",\"2020-12-08T00:00:00\",\"2020-12-09T00:00:00\",\"2020-12-10T00:00:00\",\"2020-12-11T00:00:00\",\"2020-12-12T00:00:00\",\"2020-12-13T00:00:00\",\"2020-12-14T00:00:00\",\"2020-12-15T00:00:00\",\"2020-12-16T00:00:00\",\"2020-12-17T00:00:00\",\"2020-12-18T00:00:00\",\"2020-12-19T00:00:00\",\"2020-12-20T00:00:00\",\"2020-12-21T00:00:00\",\"2020-12-22T00:00:00\",\"2020-12-23T00:00:00\",\"2020-12-24T00:00:00\",\"2020-12-25T00:00:00\",\"2020-12-26T00:00:00\",\"2020-12-27T00:00:00\",\"2020-12-28T00:00:00\",\"2020-12-29T00:00:00\",\"2020-12-30T00:00:00\",\"2020-12-31T00:00:00\",\"2021-01-01T00:00:00\",\"2021-01-02T00:00:00\",\"2021-01-03T00:00:00\",\"2021-01-04T00:00:00\",\"2021-01-05T00:00:00\",\"2021-01-06T00:00:00\",\"2021-01-07T00:00:00\",\"2021-01-08T00:00:00\",\"2021-01-09T00:00:00\"],\"xaxis\":\"x\",\"y\":[18,306,441,482,504,505,511,457,437,513,523,500,467,467,469,492,584,612,627,619,616,596,583,657,668,662,651,649,631,641,675,689,689,692,683,668,624,628,673,680,687,667,618,591,667,689,691,691,675,654,655,690,714,712,730,736,732,737,751,750,733,724,718,706,705,727,732,736,741,728,722,711,720,728,728,729,731,728,727,741,750,761,759,742,744,734,747,746,739,733,721,602,600,612,625,633,633,625,619,618,636,636,636,627,612,579,563,585,629,638,640,644,611,619,630,621,625,624,614,610,612,625,629,634,632,636,635,634,631,626,635,637,635,636,636,639,637,641,645,648,644,644,656,650,651,656,653,657,663,665,663,661,660,661,667,661,665,670,669,672,674,678,676,679,674,672,673,670,674,671,669,667,680,668,668,671,667,662,669,651,650,528,529,534,545,548,546,547,548,553,553,553,549,547,547,547,551,553,551,554,551,550,555,559,566,569,566,566,562,563,562,562,562,562,563,563,562,568,572,572,572,572,574,574,575,575,575,578,575,576,574,577,578,580,581,589,584,583,582,586,586,585,585,584,582,583,585,587,586,584,580,575,576,576,578,578,585,586,585,585,585,586,587,587,592,586,590,587,586,582,579,545,548,545,544,549,554,552,554,555,558,558,560,554,553,553,552,557,557,557,557,556,556,555,556,557,555,555,554,554,553,558,558,558,557,556,556,556,559,558,557,555,554,553,553,556,555,553,554,553,553,553,557,557,556,556,556,557,557,559,559,558,557,557,557,557,560,560,559,560,558,559,558,563,563,562,563,560,559,559,559,562,561,559,557,556,558,455,454,446,448,450,450,445,448,438],\"yaxis\":\"y\",\"type\":\"scatter\"}],                        {\"template\":{\"data\":{\"histogram2dcontour\":[{\"type\":\"histogram2dcontour\",\"colorbar\":{\"outlinewidth\":0,\"ticks\":\"\"},\"colorscale\":[[0.0,\"#0d0887\"],[0.1111111111111111,\"#46039f\"],[0.2222222222222222,\"#7201a8\"],[0.3333333333333333,\"#9c179e\"],[0.4444444444444444,\"#bd3786\"],[0.5555555555555556,\"#d8576b\"],[0.6666666666666666,\"#ed7953\"],[0.7777777777777778,\"#fb9f3a\"],[0.8888888888888888,\"#fdca26\"],[1.0,\"#f0f921\"]]}],\"choropleth\":[{\"type\":\"choropleth\",\"colorbar\":{\"outlinewidth\":0,\"ticks\":\"\"}}],\"histogram2d\":[{\"type\":\"histogram2d\",\"colorbar\":{\"outlinewidth\":0,\"ticks\":\"\"},\"colorscale\":[[0.0,\"#0d0887\"],[0.1111111111111111,\"#46039f\"],[0.2222222222222222,\"#7201a8\"],[0.3333333333333333,\"#9c179e\"],[0.4444444444444444,\"#bd3786\"],[0.5555555555555556,\"#d8576b\"],[0.6666666666666666,\"#ed7953\"],[0.7777777777777778,\"#fb9f3a\"],[0.8888888888888888,\"#fdca26\"],[1.0,\"#f0f921\"]]}],\"heatmap\":[{\"type\":\"heatmap\",\"colorbar\":{\"outlinewidth\":0,\"ticks\":\"\"},\"colorscale\":[[0.0,\"#0d0887\"],[0.1111111111111111,\"#46039f\"],[0.2222222222222222,\"#7201a8\"],[0.3333333333333333,\"#9c179e\"],[0.4444444444444444,\"#bd3786\"],[0.5555555555555556,\"#d8576b\"],[0.6666666666666666,\"#ed7953\"],[0.7777777777777778,\"#fb9f3a\"],[0.8888888888888888,\"#fdca26\"],[1.0,\"#f0f921\"]]}],\"heatmapgl\":[{\"type\":\"heatmapgl\",\"colorbar\":{\"outlinewidth\":0,\"ticks\":\"\"},\"colorscale\":[[0.0,\"#0d0887\"],[0.1111111111111111,\"#46039f\"],[0.2222222222222222,\"#7201a8\"],[0.3333333333333333,\"#9c179e\"],[0.4444444444444444,\"#bd3786\"],[0.5555555555555556,\"#d8576b\"],[0.6666666666666666,\"#ed7953\"],[0.7777777777777778,\"#fb9f3a\"],[0.8888888888888888,\"#fdca26\"],[1.0,\"#f0f921\"]]}],\"contourcarpet\":[{\"type\":\"contourcarpet\",\"colorbar\":{\"outlinewidth\":0,\"ticks\":\"\"}}],\"contour\":[{\"type\":\"contour\",\"colorbar\":{\"outlinewidth\":0,\"ticks\":\"\"},\"colorscale\":[[0.0,\"#0d0887\"],[0.1111111111111111,\"#46039f\"],[0.2222222222222222,\"#7201a8\"],[0.3333333333333333,\"#9c179e\"],[0.4444444444444444,\"#bd3786\"],[0.5555555555555556,\"#d8576b\"],[0.6666666666666666,\"#ed7953\"],[0.7777777777777778,\"#fb9f3a\"],[0.8888888888888888,\"#fdca26\"],[1.0,\"#f0f921\"]]}],\"surface\":[{\"type\":\"surface\",\"colorbar\":{\"outlinewidth\":0,\"ticks\":\"\"},\"colorscale\":[[0.0,\"#0d0887\"],[0.1111111111111111,\"#46039f\"],[0.2222222222222222,\"#7201a8\"],[0.3333333333333333,\"#9c179e\"],[0.4444444444444444,\"#bd3786\"],[0.5555555555555556,\"#d8576b\"],[0.6666666666666666,\"#ed7953\"],[0.7777777777777778,\"#fb9f3a\"],[0.8888888888888888,\"#fdca26\"],[1.0,\"#f0f921\"]]}],\"mesh3d\":[{\"type\":\"mesh3d\",\"colorbar\":{\"outlinewidth\":0,\"ticks\":\"\"}}],\"scatter\":[{\"fillpattern\":{\"fillmode\":\"overlay\",\"size\":10,\"solidity\":0.2},\"type\":\"scatter\"}],\"parcoords\":[{\"type\":\"parcoords\",\"line\":{\"colorbar\":{\"outlinewidth\":0,\"ticks\":\"\"}}}],\"scatterpolargl\":[{\"type\":\"scatterpolargl\",\"marker\":{\"colorbar\":{\"outlinewidth\":0,\"ticks\":\"\"}}}],\"bar\":[{\"error_x\":{\"color\":\"#2a3f5f\"},\"error_y\":{\"color\":\"#2a3f5f\"},\"marker\":{\"line\":{\"color\":\"#E5ECF6\",\"width\":0.5},\"pattern\":{\"fillmode\":\"overlay\",\"size\":10,\"solidity\":0.2}},\"type\":\"bar\"}],\"scattergeo\":[{\"type\":\"scattergeo\",\"marker\":{\"colorbar\":{\"outlinewidth\":0,\"ticks\":\"\"}}}],\"scatterpolar\":[{\"type\":\"scatterpolar\",\"marker\":{\"colorbar\":{\"outlinewidth\":0,\"ticks\":\"\"}}}],\"histogram\":[{\"marker\":{\"pattern\":{\"fillmode\":\"overlay\",\"size\":10,\"solidity\":0.2}},\"type\":\"histogram\"}],\"scattergl\":[{\"type\":\"scattergl\",\"marker\":{\"colorbar\":{\"outlinewidth\":0,\"ticks\":\"\"}}}],\"scatter3d\":[{\"type\":\"scatter3d\",\"line\":{\"colorbar\":{\"outlinewidth\":0,\"ticks\":\"\"}},\"marker\":{\"colorbar\":{\"outlinewidth\":0,\"ticks\":\"\"}}}],\"scattermapbox\":[{\"type\":\"scattermapbox\",\"marker\":{\"colorbar\":{\"outlinewidth\":0,\"ticks\":\"\"}}}],\"scatterternary\":[{\"type\":\"scatterternary\",\"marker\":{\"colorbar\":{\"outlinewidth\":0,\"ticks\":\"\"}}}],\"scattercarpet\":[{\"type\":\"scattercarpet\",\"marker\":{\"colorbar\":{\"outlinewidth\":0,\"ticks\":\"\"}}}],\"carpet\":[{\"aaxis\":{\"endlinecolor\":\"#2a3f5f\",\"gridcolor\":\"white\",\"linecolor\":\"white\",\"minorgridcolor\":\"white\",\"startlinecolor\":\"#2a3f5f\"},\"baxis\":{\"endlinecolor\":\"#2a3f5f\",\"gridcolor\":\"white\",\"linecolor\":\"white\",\"minorgridcolor\":\"white\",\"startlinecolor\":\"#2a3f5f\"},\"type\":\"carpet\"}],\"table\":[{\"cells\":{\"fill\":{\"color\":\"#EBF0F8\"},\"line\":{\"color\":\"white\"}},\"header\":{\"fill\":{\"color\":\"#C8D4E3\"},\"line\":{\"color\":\"white\"}},\"type\":\"table\"}],\"barpolar\":[{\"marker\":{\"line\":{\"color\":\"#E5ECF6\",\"width\":0.5},\"pattern\":{\"fillmode\":\"overlay\",\"size\":10,\"solidity\":0.2}},\"type\":\"barpolar\"}],\"pie\":[{\"automargin\":true,\"type\":\"pie\"}]},\"layout\":{\"autotypenumbers\":\"strict\",\"colorway\":[\"#636efa\",\"#EF553B\",\"#00cc96\",\"#ab63fa\",\"#FFA15A\",\"#19d3f3\",\"#FF6692\",\"#B6E880\",\"#FF97FF\",\"#FECB52\"],\"font\":{\"color\":\"#2a3f5f\"},\"hovermode\":\"closest\",\"hoverlabel\":{\"align\":\"left\"},\"paper_bgcolor\":\"white\",\"plot_bgcolor\":\"#E5ECF6\",\"polar\":{\"bgcolor\":\"#E5ECF6\",\"angularaxis\":{\"gridcolor\":\"white\",\"linecolor\":\"white\",\"ticks\":\"\"},\"radialaxis\":{\"gridcolor\":\"white\",\"linecolor\":\"white\",\"ticks\":\"\"}},\"ternary\":{\"bgcolor\":\"#E5ECF6\",\"aaxis\":{\"gridcolor\":\"white\",\"linecolor\":\"white\",\"ticks\":\"\"},\"baxis\":{\"gridcolor\":\"white\",\"linecolor\":\"white\",\"ticks\":\"\"},\"caxis\":{\"gridcolor\":\"white\",\"linecolor\":\"white\",\"ticks\":\"\"}},\"coloraxis\":{\"colorbar\":{\"outlinewidth\":0,\"ticks\":\"\"}},\"colorscale\":{\"sequential\":[[0.0,\"#0d0887\"],[0.1111111111111111,\"#46039f\"],[0.2222222222222222,\"#7201a8\"],[0.3333333333333333,\"#9c179e\"],[0.4444444444444444,\"#bd3786\"],[0.5555555555555556,\"#d8576b\"],[0.6666666666666666,\"#ed7953\"],[0.7777777777777778,\"#fb9f3a\"],[0.8888888888888888,\"#fdca26\"],[1.0,\"#f0f921\"]],\"sequentialminus\":[[0.0,\"#0d0887\"],[0.1111111111111111,\"#46039f\"],[0.2222222222222222,\"#7201a8\"],[0.3333333333333333,\"#9c179e\"],[0.4444444444444444,\"#bd3786\"],[0.5555555555555556,\"#d8576b\"],[0.6666666666666666,\"#ed7953\"],[0.7777777777777778,\"#fb9f3a\"],[0.8888888888888888,\"#fdca26\"],[1.0,\"#f0f921\"]],\"diverging\":[[0,\"#8e0152\"],[0.1,\"#c51b7d\"],[0.2,\"#de77ae\"],[0.3,\"#f1b6da\"],[0.4,\"#fde0ef\"],[0.5,\"#f7f7f7\"],[0.6,\"#e6f5d0\"],[0.7,\"#b8e186\"],[0.8,\"#7fbc41\"],[0.9,\"#4d9221\"],[1,\"#276419\"]]},\"xaxis\":{\"gridcolor\":\"white\",\"linecolor\":\"white\",\"ticks\":\"\",\"title\":{\"standoff\":15},\"zerolinecolor\":\"white\",\"automargin\":true,\"zerolinewidth\":2},\"yaxis\":{\"gridcolor\":\"white\",\"linecolor\":\"white\",\"ticks\":\"\",\"title\":{\"standoff\":15},\"zerolinecolor\":\"white\",\"automargin\":true,\"zerolinewidth\":2},\"scene\":{\"xaxis\":{\"backgroundcolor\":\"#E5ECF6\",\"gridcolor\":\"white\",\"linecolor\":\"white\",\"showbackground\":true,\"ticks\":\"\",\"zerolinecolor\":\"white\",\"gridwidth\":2},\"yaxis\":{\"backgroundcolor\":\"#E5ECF6\",\"gridcolor\":\"white\",\"linecolor\":\"white\",\"showbackground\":true,\"ticks\":\"\",\"zerolinecolor\":\"white\",\"gridwidth\":2},\"zaxis\":{\"backgroundcolor\":\"#E5ECF6\",\"gridcolor\":\"white\",\"linecolor\":\"white\",\"showbackground\":true,\"ticks\":\"\",\"zerolinecolor\":\"white\",\"gridwidth\":2}},\"shapedefaults\":{\"line\":{\"color\":\"#2a3f5f\"}},\"annotationdefaults\":{\"arrowcolor\":\"#2a3f5f\",\"arrowhead\":0,\"arrowwidth\":1},\"geo\":{\"bgcolor\":\"white\",\"landcolor\":\"#E5ECF6\",\"subunitcolor\":\"white\",\"showland\":true,\"showlakes\":true,\"lakecolor\":\"white\"},\"title\":{\"x\":0.05},\"mapbox\":{\"style\":\"light\"}}},\"xaxis\":{\"anchor\":\"y\",\"domain\":[0.0,1.0],\"title\":{\"text\":\"date\"}},\"yaxis\":{\"anchor\":\"x\",\"domain\":[0.0,1.0],\"title\":{\"text\":\"count_\"}},\"legend\":{\"tracegroupgap\":0},\"title\":{\"text\":\"Salamanca\"}},                        {\"responsive\": true}                    ).then(function(){\n",
       "                            \n",
       "var gd = document.getElementById('b9c9e794-d283-4a1c-93d7-a4ed847242ec');\n",
       "var x = new MutationObserver(function (mutations, observer) {{\n",
       "        var display = window.getComputedStyle(gd).display;\n",
       "        if (!display || display === 'none') {{\n",
       "            console.log([gd, 'removed!']);\n",
       "            Plotly.purge(gd);\n",
       "            observer.disconnect();\n",
       "        }}\n",
       "}});\n",
       "\n",
       "// Listen for the removal of the full notebook cells\n",
       "var notebookContainer = gd.closest('#notebook-container');\n",
       "if (notebookContainer) {{\n",
       "    x.observe(notebookContainer, {childList: true});\n",
       "}}\n",
       "\n",
       "// Listen for the clearing of the current output cell\n",
       "var outputEl = gd.closest('.output');\n",
       "if (outputEl) {{\n",
       "    x.observe(outputEl, {childList: true});\n",
       "}}\n",
       "\n",
       "                        })                };                });            </script>        </div>"
      ]
     },
     "metadata": {},
     "output_type": "display_data"
    },
    {
     "data": {
      "application/vnd.plotly.v1+json": {
       "config": {
        "plotlyServerURL": "https://plot.ly"
       },
       "data": [
        {
         "hovertemplate": "price=%{x}<br>demand=%{y}<extra></extra>",
         "legendgroup": "",
         "marker": {
          "color": "#636efa",
          "symbol": "circle"
         },
         "mode": "markers",
         "name": "",
         "orientation": "v",
         "showlegend": false,
         "type": "scatter",
         "x": [
          10,
          11,
          12,
          13,
          14.000000000000002,
          15,
          16,
          17,
          18,
          19,
          20,
          21,
          22,
          23,
          24,
          25,
          26,
          27,
          28.000000000000004,
          28.999999999999996,
          30,
          31,
          32,
          33,
          34,
          35,
          36,
          37,
          38,
          39,
          40,
          41,
          42,
          43,
          44,
          45,
          46,
          47,
          48,
          49,
          50,
          51,
          52,
          53,
          54,
          55.00000000000001,
          56.00000000000001,
          56.99999999999999,
          57.99999999999999,
          59,
          60,
          61,
          62,
          63,
          64,
          65,
          66,
          67,
          68,
          69,
          70,
          71,
          72,
          73,
          74,
          75,
          76,
          77,
          78,
          79,
          80,
          81,
          82,
          83,
          84,
          85,
          86,
          87,
          88,
          89,
          90,
          91,
          92,
          93,
          94,
          95,
          96,
          97,
          98,
          99,
          100,
          101,
          102,
          103,
          104,
          105,
          106,
          107,
          108,
          109.00000000000001,
          110.00000000000001,
          111.00000000000001,
          112.00000000000001,
          112.99999999999999,
          113.99999999999999,
          114.99999999999999,
          115.99999999999999,
          117,
          118,
          119,
          120,
          121,
          122,
          123,
          124,
          125,
          126,
          127,
          128,
          129,
          130,
          131,
          132,
          133,
          134,
          135,
          136,
          137,
          138,
          139,
          140,
          141,
          142,
          143,
          144,
          145,
          146,
          147,
          148,
          149,
          150,
          151,
          152,
          153,
          154,
          155,
          156,
          157,
          158,
          159,
          160,
          161,
          162,
          163,
          164,
          165,
          166,
          167,
          168,
          169,
          170,
          171,
          172,
          173,
          174,
          175,
          176,
          177,
          178,
          179,
          180,
          181,
          182,
          183,
          184,
          185,
          186,
          187,
          188,
          189,
          190,
          191,
          192,
          193,
          194,
          195,
          196,
          197,
          198,
          199,
          200,
          200.99999999999997,
          202,
          202.99999999999997,
          204,
          204.99999999999997,
          206,
          206.99999999999997,
          208,
          209,
          210,
          211,
          212,
          213,
          214,
          215,
          216,
          217,
          218.00000000000003,
          219,
          220.00000000000003,
          221,
          222.00000000000003,
          223,
          224.00000000000003,
          225,
          225.99999999999997,
          227,
          227.99999999999997,
          229,
          229.99999999999997,
          231,
          231.99999999999997,
          233,
          234,
          235,
          236,
          237,
          238,
          239,
          240,
          241,
          242,
          243.00000000000003,
          244,
          245.00000000000003,
          246,
          247.00000000000003,
          248,
          249.00000000000003,
          250,
          250.99999999999997,
          252,
          252.99999999999997,
          254,
          254.99999999999997,
          256,
          257,
          258,
          259,
          260,
          261,
          262,
          263,
          264,
          265,
          266,
          267,
          268,
          269,
          270,
          271,
          272,
          273,
          274,
          275,
          276,
          277,
          278,
          279,
          280,
          281,
          282,
          283,
          284,
          285,
          286,
          287,
          288,
          289,
          290,
          291,
          292,
          293,
          294,
          295,
          296,
          297,
          298,
          299,
          300,
          301,
          302,
          303,
          304,
          305,
          306,
          307,
          308,
          309,
          310,
          311,
          312,
          313,
          314,
          315,
          316,
          317,
          318,
          319,
          320,
          321,
          322,
          323,
          324,
          325,
          326,
          327,
          328,
          329,
          330,
          331,
          332,
          333,
          334,
          335,
          336,
          337,
          338,
          339,
          340,
          341,
          342,
          343,
          344,
          345,
          346,
          347,
          348,
          349,
          350,
          351,
          352,
          353,
          354,
          355,
          356,
          357,
          358,
          359,
          360,
          361,
          362,
          363,
          364,
          365,
          366,
          367,
          368,
          369,
          370,
          371,
          372,
          373,
          374,
          375,
          376,
          377,
          378,
          379,
          380,
          381,
          382,
          383,
          384,
          385,
          386,
          387,
          388,
          389,
          390,
          391,
          392,
          393,
          394,
          395,
          396,
          397,
          398,
          399,
          400,
          401,
          401.99999999999994,
          403,
          404,
          405,
          405.99999999999994,
          407,
          408,
          409,
          409.99999999999994,
          411.00000000000006,
          412,
          413,
          413.99999999999994,
          415.00000000000006,
          416,
          417,
          418,
          419.00000000000006,
          420,
          421,
          422,
          423.00000000000006,
          424,
          425,
          426,
          426.99999999999994,
          428,
          429,
          430,
          430.99999999999994,
          432,
          433,
          434,
          434.99999999999994,
          436.00000000000006,
          437,
          438,
          438.99999999999994,
          440.00000000000006,
          441,
          442,
          443,
          444.00000000000006,
          445,
          446,
          447,
          448.00000000000006,
          449,
          450,
          451,
          451.99999999999994,
          453,
          454,
          455,
          455.99999999999994,
          457,
          458,
          459,
          459.99999999999994,
          461.00000000000006,
          462,
          463,
          463.99999999999994,
          465.00000000000006,
          466,
          467,
          468,
          469.00000000000006,
          470,
          471,
          472,
          473.00000000000006,
          474,
          475,
          476,
          476.99999999999994,
          478,
          479,
          480,
          480.99999999999994,
          482,
          483,
          484,
          484.99999999999994,
          486.00000000000006,
          487,
          488,
          488.99999999999994,
          490.00000000000006,
          491,
          492,
          493,
          494.00000000000006,
          495,
          496,
          497,
          498.00000000000006,
          499,
          500,
          501,
          501.99999999999994,
          503,
          504,
          505,
          505.99999999999994,
          507,
          508,
          509
         ],
         "xaxis": "x",
         "y": [
          941.7063578900751,
          939.0737846816385,
          936.448570924097,
          933.8306960438456,
          931.2201395247964,
          928.6168809082121,
          926.0208997925515,
          923.4321758333035,
          920.850688742834,
          918.2764182902204,
          915.7093443010997,
          913.1494466575037,
          910.5967052977072,
          908.0511002160683,
          905.5126114628691,
          902.9812191441648,
          900.4569034216221,
          897.9396445123693,
          895.4294226888353,
          892.9262182786015,
          890.4300116642406,
          887.9407832831702,
          885.4585136274923,
          882.9831832438472,
          880.5147727332544,
          878.0532627509675,
          875.5986340063155,
          873.1508672625583,
          870.7099433367299,
          868.275843099494,
          865.8485474749875,
          863.4280374406783,
          861.0142940272091,
          858.6072983182548,
          856.2070314503692,
          853.8134746128413,
          851.4266090475463,
          849.046416048796,
          846.6728769631977,
          844.305973189502,
          841.9456861784628,
          839.5919974326862,
          837.2448885064912,
          834.9043410057595,
          832.5703365877973,
          830.2428569611855,
          827.9218838856417,
          825.6073991718727,
          823.2993846814364,
          820.9978223265949,
          818.7026940701779,
          816.4139819254356,
          814.1316679559039,
          811.855734275258,
          809.5861630471773,
          807.3229364852007,
          805.0660368525921,
          802.8154464621988,
          800.571147676311,
          798.3331229065288,
          796.1013546136184,
          793.8758253073802,
          791.6565175465063,
          789.4434139384496,
          787.2364971392814,
          785.0357498535615,
          782.841154834197,
          780.6526948823125,
          778.4703528471099,
          776.2941116257397,
          774.1239541631609,
          771.9598634520136,
          769.8018225324795,
          767.6498144921551,
          765.5038224659132,
          763.3638296357765,
          761.2298192307801,
          759.1017745268449,
          756.9796788466449,
          754.8635155594737,
          752.7532680811197,
          750.64891987373,
          748.5504544456868,
          746.4578553514723,
          744.3711061915457,
          742.2901906122087,
          740.215092305483,
          738.1457950089778,
          736.082282505766,
          734.0245386242536,
          731.9725472380575,
          729.9262922658733,
          727.8857576713556,
          725.8509274629862,
          723.8217856939547,
          721.7983164620276,
          719.7805039094295,
          717.7683322227134,
          715.7617856326411,
          713.7608484140579,
          711.7655048857677,
          709.7757394104136,
          707.7915363943517,
          705.8128802875328,
          703.839755583376,
          701.872146818652,
          699.9100385733573,
          697.9534154705975,
          696.0022621764629,
          694.0565633999125,
          692.1163038926495,
          690.1814684490068,
          688.2520419058228,
          686.3280091423273,
          684.4093550800186,
          682.4960646825498,
          680.588122955606,
          678.6855149467922,
          676.7882257455108,
          674.8962404828488,
          673.0095443314605,
          671.128122505448,
          669.2519602602507,
          667.3810428925243,
          665.515355740031,
          663.654884181519,
          661.7996136366135,
          659.9495295656967,
          658.1046174697998,
          656.2648628904836,
          654.4302514097305,
          652.6007686498267,
          650.776400273254,
          648.957131982573,
          647.1429495203154,
          645.3338386688681,
          643.5297852503661,
          641.7307751265766,
          639.9367941987935,
          638.1478284077212,
          636.3638637333697,
          634.5848861949419,
          632.8108818507235,
          631.0418367979748,
          629.277737172823,
          627.518569150152,
          625.7643189434925,
          624.0149728049183,
          622.2705170249338,
          620.5309379323708,
          618.796221894277,
          617.0663553158139,
          615.3413246401459,
          613.6211163483376,
          611.9057169592447,
          610.1951130294116,
          608.4892911529623,
          606.7882379614999,
          605.0919401239968,
          603.400384346695,
          601.7135573729973,
          600.0314459833686,
          598.3540369952266,
          596.6813172628438,
          595.01327367724,
          593.3498931660831,
          591.6911626935853,
          590.0370692603989,
          588.3875999035188,
          586.742741696176,
          585.1024817477412,
          583.4668072036189,
          581.8357052451514,
          580.2091630895138,
          578.587167989618,
          576.969707234009,
          575.356768146769,
          573.7483380874144,
          572.1444044507999,
          570.5449546670172,
          568.949976201299,
          567.3594565539177,
          565.7733832600906,
          564.1917438898795,
          562.6145260480961,
          561.0417173742011,
          559.4733055422116,
          557.9092782606018,
          556.3496232722063,
          554.7943283541266,
          553.243381317632,
          551.696770008068,
          550.1544823047564,
          548.616506120905,
          547.0828294035088,
          545.5534401332592,
          544.0283263244461,
          542.5074760248677,
          540.9908773157334,
          539.4785183115737,
          537.9703871601432,
          536.4664720423323,
          534.9667611720696,
          533.4712427962346,
          531.9799051945608,
          530.4927366795481,
          529.0097255963674,
          527.5308603227722,
          526.0561292690068,
          524.5855208777139,
          523.1190236238452,
          521.6566260145722,
          520.1983165891947,
          518.7440839190502,
          517.2939166074271,
          515.8478032894719,
          514.4057326321038,
          512.967693333922,
          511.53367412512154,
          510.10366376740006,
          508.6776510538746,
          507.25562480898947,
          505.83757388843236,
          504.4234871790436,
          503.01335359873246,
          501.60716209638684,
          500.2049016517902,
          498.8065612755315,
          497.41213000892253,
          496.0215969239104,
          494.6349511229909,
          493.2521817391245,
          491.8732779356515,
          490.4982289062066,
          489.1270238746326,
          487.7596520948993,
          486.3961028510157,
          485.0363654569494,
          483.68042925653936,
          482.3282836234161,
          480.9799179609147,
          479.6353217019954,
          478.2944843091571,
          476.95739527435853,
          475.6240441189323,
          474.2944203935061,
          472.9685136779175,
          471.6463135811358,
          470.3278097411771,
          469.01299182502595,
          467.70184952855334,
          466.3943725764348,
          465.09055072207116,
          463.79037374750845,
          462.49383146335765,
          461.20091370871324,
          459.9116103510764,
          458.6259112862724,
          457.343806438375,
          456.0652857596237,
          454.7903392303484,
          453.51895685888803,
          452.2511286815149,
          450.9868447623538,
          449.72609519330723,
          448.4688700939744,
          447.2151596115772,
          445.96495392087974,
          444.7182432241145,
          443.47501775090234,
          442.23526775817913,
          440.99898353011633,
          439.7661553780478,
          438.53677364039095,
          437.3108286825735,
          436.0883108969572,
          434.8692107027609,
          433.65351854598845,
          432.44122489935074,
          431.23232026219415,
          430.02679516042275,
          428.82464014642744,
          427.62584579900863,
          426.43040272330563,
          425.2383015507199,
          424.04953293884455,
          422.8640875713884,
          421.68195615810544,
          420.5031294347198,
          419.3275981628555,
          418.1553531299612,
          416.98638514924124,
          415.8206850595803,
          414.6582437254749,
          413.4990520369587,
          412.3431009095336,
          411.19038128409755,
          410.0408841268729,
          408.8946004293362,
          407.75152120814835,
          406.6116375050834,
          405.4749403869576,
          404.34142094556137,
          403.2110702975872,
          402.08387958456234,
          400.959839972777,
          399.8389426532176,
          398.7211788414951,
          397.60653977777906,
          396.49501672672585,
          395.38660097741337,
          394.28128384326965,
          393.17905666200755,
          392.0799107955556,
          390.98383762998947,
          389.8908285754657,
          388.80087506615456,
          387.71396856017236,
          386.6301005395139,
          385.5492625099863,
          384.47144600114336,
          383.39664256621813,
          382.32484378205595,
          381.2560412490507,
          380.1902265910764,
          379.12739145542406,
          378.06752751273365,
          377.0106264569315,
          375.95668000516264,
          374.90567989772836,
          373.85761789801876,
          372.8124857924513,
          371.7702753904032,
          370.73097852415,
          369.6945870488003,
          368.66109284223154,
          367.6304878050266,
          366.6027638604114,
          365.5779129541907,
          364.5559270546841,
          363.5367981526653,
          362.52051826129684,
          361.5070794160699,
          360.49647367473966,
          359.48869311726526,
          358.48372984574524,
          357.4815759843584,
          356.48222367929947,
          355.48566509871983,
          354.49189243266403,
          353.50089789301063,
          352.51267371340913,
          351.5272121492213,
          350.5445054774581,
          349.5645459967211,
          348.58732602714184,
          347.61283791032014,
          346.64107400926537,
          345.67202670833694,
          344.70568841318413,
          343.7420515506858,
          342.7811085688916,
          341.82285193696396,
          340.8672741451175,
          339.9143677045601,
          338.9641251474361,
          338.0165390267651,
          337.0716019163862,
          336.1293064108976,
          335.1896451256005,
          334.25261069643926,
          333.3181957799459,
          332.38639305318003,
          331.45719521367414,
          330.5305949793738,
          329.6065850885827,
          328.6851582999048,
          327.7663073921871,
          326.85002516446366,
          325.9363044358995,
          325.0251380457341,
          324.11651885322436,
          323.2104397375895,
          322.3068935979557,
          321.4058733532998,
          320.5073719423931,
          319.6113823237479,
          318.7178974755601,
          317.82691039565645,
          316.9384141014375,
          316.05240162982483,
          315.1688660372045,
          314.2878003993749,
          313.40919781149,
          312.5330513880077,
          311.6593542626337,
          310.7880995882695,
          309.919280536957,
          309.0528902998269,
          308.18892208704335,
          307.32736912775266,
          306.46822467002835,
          305.61148198082014,
          304.75713434589926,
          303.9051750698076,
          303.05559747580446,
          302.20839490581324,
          301.3635607203714,
          300.5210882985763,
          299.6809710380351,
          298.8432023548114,
          298.0077756833752,
          297.1746844765497,
          296.3439222054619,
          295.5154823594904,
          294.6893584462138,
          293.86554399136077,
          293.04403253875955,
          292.224817650286,
          291.4078929058149,
          290.5932519031677,
          289.7808882580644,
          288.97079560407155,
          288.16296759255414,
          287.357397892624,
          286.5540801910922,
          285.7530081924182,
          284.95417561866026,
          284.15757620942793,
          283.3632037218307,
          282.57105193043157,
          281.7811146271956,
          280.993385621444,
          280.207858739803,
          279.4245278261575,
          278.6433867416021,
          277.86442936439244,
          277.0876495898976,
          276.3130413305529,
          275.5405985158118,
          274.77031509209746,
          274.0021850227563,
          273.2362022880109,
          272.4723608849115,
          271.7106548272907,
          270.9510781457148,
          270.1936248874384,
          269.43828911635734,
          268.6850649129616,
          267.9339463742892,
          267.18492761388063,
          266.4380027617323,
          265.6931659642497,
          264.950411384203,
          264.20973320067975,
          263.471125609041,
          262.7345828208739,
          262.00009906394837,
          261.2676685821697,
          260.5372856355353,
          259.80894450008896,
          259.08263946787554,
          258.35836484689673,
          257.6361149610668,
          256.9158841501677,
          256.19766676980436,
          255.4814571913607,
          254.76724980195618,
          254.05503900440118,
          253.34481921715286,
          252.6365848742717,
          251.93033042537843,
          251.22605033561013,
          250.52373908557598,
          249.82339117131582,
          249.12500110425506,
          248.42856341116354,
          247.73407263411076,
          247.04152333042498,
          246.35091007264876,
          245.66222744849793,
          244.97547006081865,
          244.29063252754443,
          243.60770948165467,
          242.92669557113283,
          242.2475854589241,
          241.57037382289323,
          240.89505535578311,
          240.22162476517377,
          239.5500767734403,
          238.88040611771123,
          238.21260754982754,
          237.54667583630214,
          236.8826057582783,
          236.2203921114881,
          235.56002970621327,
          234.90151336724267,
          234.2448379338335,
          233.58999825966922,
          232.93698921282072
         ],
         "yaxis": "y"
        }
       ],
       "layout": {
        "legend": {
         "tracegroupgap": 0
        },
        "template": {
         "data": {
          "bar": [
           {
            "error_x": {
             "color": "#2a3f5f"
            },
            "error_y": {
             "color": "#2a3f5f"
            },
            "marker": {
             "line": {
              "color": "#E5ECF6",
              "width": 0.5
             },
             "pattern": {
              "fillmode": "overlay",
              "size": 10,
              "solidity": 0.2
             }
            },
            "type": "bar"
           }
          ],
          "barpolar": [
           {
            "marker": {
             "line": {
              "color": "#E5ECF6",
              "width": 0.5
             },
             "pattern": {
              "fillmode": "overlay",
              "size": 10,
              "solidity": 0.2
             }
            },
            "type": "barpolar"
           }
          ],
          "carpet": [
           {
            "aaxis": {
             "endlinecolor": "#2a3f5f",
             "gridcolor": "white",
             "linecolor": "white",
             "minorgridcolor": "white",
             "startlinecolor": "#2a3f5f"
            },
            "baxis": {
             "endlinecolor": "#2a3f5f",
             "gridcolor": "white",
             "linecolor": "white",
             "minorgridcolor": "white",
             "startlinecolor": "#2a3f5f"
            },
            "type": "carpet"
           }
          ],
          "choropleth": [
           {
            "colorbar": {
             "outlinewidth": 0,
             "ticks": ""
            },
            "type": "choropleth"
           }
          ],
          "contour": [
           {
            "colorbar": {
             "outlinewidth": 0,
             "ticks": ""
            },
            "colorscale": [
             [
              0,
              "#0d0887"
             ],
             [
              0.1111111111111111,
              "#46039f"
             ],
             [
              0.2222222222222222,
              "#7201a8"
             ],
             [
              0.3333333333333333,
              "#9c179e"
             ],
             [
              0.4444444444444444,
              "#bd3786"
             ],
             [
              0.5555555555555556,
              "#d8576b"
             ],
             [
              0.6666666666666666,
              "#ed7953"
             ],
             [
              0.7777777777777778,
              "#fb9f3a"
             ],
             [
              0.8888888888888888,
              "#fdca26"
             ],
             [
              1,
              "#f0f921"
             ]
            ],
            "type": "contour"
           }
          ],
          "contourcarpet": [
           {
            "colorbar": {
             "outlinewidth": 0,
             "ticks": ""
            },
            "type": "contourcarpet"
           }
          ],
          "heatmap": [
           {
            "colorbar": {
             "outlinewidth": 0,
             "ticks": ""
            },
            "colorscale": [
             [
              0,
              "#0d0887"
             ],
             [
              0.1111111111111111,
              "#46039f"
             ],
             [
              0.2222222222222222,
              "#7201a8"
             ],
             [
              0.3333333333333333,
              "#9c179e"
             ],
             [
              0.4444444444444444,
              "#bd3786"
             ],
             [
              0.5555555555555556,
              "#d8576b"
             ],
             [
              0.6666666666666666,
              "#ed7953"
             ],
             [
              0.7777777777777778,
              "#fb9f3a"
             ],
             [
              0.8888888888888888,
              "#fdca26"
             ],
             [
              1,
              "#f0f921"
             ]
            ],
            "type": "heatmap"
           }
          ],
          "heatmapgl": [
           {
            "colorbar": {
             "outlinewidth": 0,
             "ticks": ""
            },
            "colorscale": [
             [
              0,
              "#0d0887"
             ],
             [
              0.1111111111111111,
              "#46039f"
             ],
             [
              0.2222222222222222,
              "#7201a8"
             ],
             [
              0.3333333333333333,
              "#9c179e"
             ],
             [
              0.4444444444444444,
              "#bd3786"
             ],
             [
              0.5555555555555556,
              "#d8576b"
             ],
             [
              0.6666666666666666,
              "#ed7953"
             ],
             [
              0.7777777777777778,
              "#fb9f3a"
             ],
             [
              0.8888888888888888,
              "#fdca26"
             ],
             [
              1,
              "#f0f921"
             ]
            ],
            "type": "heatmapgl"
           }
          ],
          "histogram": [
           {
            "marker": {
             "pattern": {
              "fillmode": "overlay",
              "size": 10,
              "solidity": 0.2
             }
            },
            "type": "histogram"
           }
          ],
          "histogram2d": [
           {
            "colorbar": {
             "outlinewidth": 0,
             "ticks": ""
            },
            "colorscale": [
             [
              0,
              "#0d0887"
             ],
             [
              0.1111111111111111,
              "#46039f"
             ],
             [
              0.2222222222222222,
              "#7201a8"
             ],
             [
              0.3333333333333333,
              "#9c179e"
             ],
             [
              0.4444444444444444,
              "#bd3786"
             ],
             [
              0.5555555555555556,
              "#d8576b"
             ],
             [
              0.6666666666666666,
              "#ed7953"
             ],
             [
              0.7777777777777778,
              "#fb9f3a"
             ],
             [
              0.8888888888888888,
              "#fdca26"
             ],
             [
              1,
              "#f0f921"
             ]
            ],
            "type": "histogram2d"
           }
          ],
          "histogram2dcontour": [
           {
            "colorbar": {
             "outlinewidth": 0,
             "ticks": ""
            },
            "colorscale": [
             [
              0,
              "#0d0887"
             ],
             [
              0.1111111111111111,
              "#46039f"
             ],
             [
              0.2222222222222222,
              "#7201a8"
             ],
             [
              0.3333333333333333,
              "#9c179e"
             ],
             [
              0.4444444444444444,
              "#bd3786"
             ],
             [
              0.5555555555555556,
              "#d8576b"
             ],
             [
              0.6666666666666666,
              "#ed7953"
             ],
             [
              0.7777777777777778,
              "#fb9f3a"
             ],
             [
              0.8888888888888888,
              "#fdca26"
             ],
             [
              1,
              "#f0f921"
             ]
            ],
            "type": "histogram2dcontour"
           }
          ],
          "mesh3d": [
           {
            "colorbar": {
             "outlinewidth": 0,
             "ticks": ""
            },
            "type": "mesh3d"
           }
          ],
          "parcoords": [
           {
            "line": {
             "colorbar": {
              "outlinewidth": 0,
              "ticks": ""
             }
            },
            "type": "parcoords"
           }
          ],
          "pie": [
           {
            "automargin": true,
            "type": "pie"
           }
          ],
          "scatter": [
           {
            "fillpattern": {
             "fillmode": "overlay",
             "size": 10,
             "solidity": 0.2
            },
            "type": "scatter"
           }
          ],
          "scatter3d": [
           {
            "line": {
             "colorbar": {
              "outlinewidth": 0,
              "ticks": ""
             }
            },
            "marker": {
             "colorbar": {
              "outlinewidth": 0,
              "ticks": ""
             }
            },
            "type": "scatter3d"
           }
          ],
          "scattercarpet": [
           {
            "marker": {
             "colorbar": {
              "outlinewidth": 0,
              "ticks": ""
             }
            },
            "type": "scattercarpet"
           }
          ],
          "scattergeo": [
           {
            "marker": {
             "colorbar": {
              "outlinewidth": 0,
              "ticks": ""
             }
            },
            "type": "scattergeo"
           }
          ],
          "scattergl": [
           {
            "marker": {
             "colorbar": {
              "outlinewidth": 0,
              "ticks": ""
             }
            },
            "type": "scattergl"
           }
          ],
          "scattermapbox": [
           {
            "marker": {
             "colorbar": {
              "outlinewidth": 0,
              "ticks": ""
             }
            },
            "type": "scattermapbox"
           }
          ],
          "scatterpolar": [
           {
            "marker": {
             "colorbar": {
              "outlinewidth": 0,
              "ticks": ""
             }
            },
            "type": "scatterpolar"
           }
          ],
          "scatterpolargl": [
           {
            "marker": {
             "colorbar": {
              "outlinewidth": 0,
              "ticks": ""
             }
            },
            "type": "scatterpolargl"
           }
          ],
          "scatterternary": [
           {
            "marker": {
             "colorbar": {
              "outlinewidth": 0,
              "ticks": ""
             }
            },
            "type": "scatterternary"
           }
          ],
          "surface": [
           {
            "colorbar": {
             "outlinewidth": 0,
             "ticks": ""
            },
            "colorscale": [
             [
              0,
              "#0d0887"
             ],
             [
              0.1111111111111111,
              "#46039f"
             ],
             [
              0.2222222222222222,
              "#7201a8"
             ],
             [
              0.3333333333333333,
              "#9c179e"
             ],
             [
              0.4444444444444444,
              "#bd3786"
             ],
             [
              0.5555555555555556,
              "#d8576b"
             ],
             [
              0.6666666666666666,
              "#ed7953"
             ],
             [
              0.7777777777777778,
              "#fb9f3a"
             ],
             [
              0.8888888888888888,
              "#fdca26"
             ],
             [
              1,
              "#f0f921"
             ]
            ],
            "type": "surface"
           }
          ],
          "table": [
           {
            "cells": {
             "fill": {
              "color": "#EBF0F8"
             },
             "line": {
              "color": "white"
             }
            },
            "header": {
             "fill": {
              "color": "#C8D4E3"
             },
             "line": {
              "color": "white"
             }
            },
            "type": "table"
           }
          ]
         },
         "layout": {
          "annotationdefaults": {
           "arrowcolor": "#2a3f5f",
           "arrowhead": 0,
           "arrowwidth": 1
          },
          "autotypenumbers": "strict",
          "coloraxis": {
           "colorbar": {
            "outlinewidth": 0,
            "ticks": ""
           }
          },
          "colorscale": {
           "diverging": [
            [
             0,
             "#8e0152"
            ],
            [
             0.1,
             "#c51b7d"
            ],
            [
             0.2,
             "#de77ae"
            ],
            [
             0.3,
             "#f1b6da"
            ],
            [
             0.4,
             "#fde0ef"
            ],
            [
             0.5,
             "#f7f7f7"
            ],
            [
             0.6,
             "#e6f5d0"
            ],
            [
             0.7,
             "#b8e186"
            ],
            [
             0.8,
             "#7fbc41"
            ],
            [
             0.9,
             "#4d9221"
            ],
            [
             1,
             "#276419"
            ]
           ],
           "sequential": [
            [
             0,
             "#0d0887"
            ],
            [
             0.1111111111111111,
             "#46039f"
            ],
            [
             0.2222222222222222,
             "#7201a8"
            ],
            [
             0.3333333333333333,
             "#9c179e"
            ],
            [
             0.4444444444444444,
             "#bd3786"
            ],
            [
             0.5555555555555556,
             "#d8576b"
            ],
            [
             0.6666666666666666,
             "#ed7953"
            ],
            [
             0.7777777777777778,
             "#fb9f3a"
            ],
            [
             0.8888888888888888,
             "#fdca26"
            ],
            [
             1,
             "#f0f921"
            ]
           ],
           "sequentialminus": [
            [
             0,
             "#0d0887"
            ],
            [
             0.1111111111111111,
             "#46039f"
            ],
            [
             0.2222222222222222,
             "#7201a8"
            ],
            [
             0.3333333333333333,
             "#9c179e"
            ],
            [
             0.4444444444444444,
             "#bd3786"
            ],
            [
             0.5555555555555556,
             "#d8576b"
            ],
            [
             0.6666666666666666,
             "#ed7953"
            ],
            [
             0.7777777777777778,
             "#fb9f3a"
            ],
            [
             0.8888888888888888,
             "#fdca26"
            ],
            [
             1,
             "#f0f921"
            ]
           ]
          },
          "colorway": [
           "#636efa",
           "#EF553B",
           "#00cc96",
           "#ab63fa",
           "#FFA15A",
           "#19d3f3",
           "#FF6692",
           "#B6E880",
           "#FF97FF",
           "#FECB52"
          ],
          "font": {
           "color": "#2a3f5f"
          },
          "geo": {
           "bgcolor": "white",
           "lakecolor": "white",
           "landcolor": "#E5ECF6",
           "showlakes": true,
           "showland": true,
           "subunitcolor": "white"
          },
          "hoverlabel": {
           "align": "left"
          },
          "hovermode": "closest",
          "mapbox": {
           "style": "light"
          },
          "paper_bgcolor": "white",
          "plot_bgcolor": "#E5ECF6",
          "polar": {
           "angularaxis": {
            "gridcolor": "white",
            "linecolor": "white",
            "ticks": ""
           },
           "bgcolor": "#E5ECF6",
           "radialaxis": {
            "gridcolor": "white",
            "linecolor": "white",
            "ticks": ""
           }
          },
          "scene": {
           "xaxis": {
            "backgroundcolor": "#E5ECF6",
            "gridcolor": "white",
            "gridwidth": 2,
            "linecolor": "white",
            "showbackground": true,
            "ticks": "",
            "zerolinecolor": "white"
           },
           "yaxis": {
            "backgroundcolor": "#E5ECF6",
            "gridcolor": "white",
            "gridwidth": 2,
            "linecolor": "white",
            "showbackground": true,
            "ticks": "",
            "zerolinecolor": "white"
           },
           "zaxis": {
            "backgroundcolor": "#E5ECF6",
            "gridcolor": "white",
            "gridwidth": 2,
            "linecolor": "white",
            "showbackground": true,
            "ticks": "",
            "zerolinecolor": "white"
           }
          },
          "shapedefaults": {
           "line": {
            "color": "#2a3f5f"
           }
          },
          "ternary": {
           "aaxis": {
            "gridcolor": "white",
            "linecolor": "white",
            "ticks": ""
           },
           "baxis": {
            "gridcolor": "white",
            "linecolor": "white",
            "ticks": ""
           },
           "bgcolor": "#E5ECF6",
           "caxis": {
            "gridcolor": "white",
            "linecolor": "white",
            "ticks": ""
           }
          },
          "title": {
           "x": 0.05
          },
          "xaxis": {
           "automargin": true,
           "gridcolor": "white",
           "linecolor": "white",
           "ticks": "",
           "title": {
            "standoff": 15
           },
           "zerolinecolor": "white",
           "zerolinewidth": 2
          },
          "yaxis": {
           "automargin": true,
           "gridcolor": "white",
           "linecolor": "white",
           "ticks": "",
           "title": {
            "standoff": 15
           },
           "zerolinecolor": "white",
           "zerolinewidth": 2
          }
         }
        },
        "title": {
         "text": "Salamanca"
        },
        "xaxis": {
         "anchor": "y",
         "domain": [
          0,
          1
         ],
         "title": {
          "text": "price"
         }
        },
        "yaxis": {
         "anchor": "x",
         "domain": [
          0,
          1
         ],
         "title": {
          "text": "demand"
         }
        }
       }
      },
      "text/html": [
       "<div>                            <div id=\"48ba84dd-d505-4b19-9323-447ba98a3483\" class=\"plotly-graph-div\" style=\"height:525px; width:100%;\"></div>            <script type=\"text/javascript\">                require([\"plotly\"], function(Plotly) {                    window.PLOTLYENV=window.PLOTLYENV || {};                                    if (document.getElementById(\"48ba84dd-d505-4b19-9323-447ba98a3483\")) {                    Plotly.newPlot(                        \"48ba84dd-d505-4b19-9323-447ba98a3483\",                        [{\"hovertemplate\":\"price=%{x}<br>demand=%{y}<extra></extra>\",\"legendgroup\":\"\",\"marker\":{\"color\":\"#636efa\",\"symbol\":\"circle\"},\"mode\":\"markers\",\"name\":\"\",\"orientation\":\"v\",\"showlegend\":false,\"x\":[10.0,11.0,12.0,13.0,14.000000000000002,15.0,16.0,17.0,18.0,19.0,20.0,21.0,22.0,23.0,24.0,25.0,26.0,27.0,28.000000000000004,28.999999999999996,30.0,31.0,32.0,33.0,34.0,35.0,36.0,37.0,38.0,39.0,40.0,41.0,42.0,43.0,44.0,45.0,46.0,47.0,48.0,49.0,50.0,51.0,52.0,53.0,54.0,55.00000000000001,56.00000000000001,56.99999999999999,57.99999999999999,59.0,60.0,61.0,62.0,63.0,64.0,65.0,66.0,67.0,68.0,69.0,70.0,71.0,72.0,73.0,74.0,75.0,76.0,77.0,78.0,79.0,80.0,81.0,82.0,83.0,84.0,85.0,86.0,87.0,88.0,89.0,90.0,91.0,92.0,93.0,94.0,95.0,96.0,97.0,98.0,99.0,100.0,101.0,102.0,103.0,104.0,105.0,106.0,107.0,108.0,109.00000000000001,110.00000000000001,111.00000000000001,112.00000000000001,112.99999999999999,113.99999999999999,114.99999999999999,115.99999999999999,117.0,118.0,119.0,120.0,121.0,122.0,123.0,124.0,125.0,126.0,127.0,128.0,129.0,130.0,131.0,132.0,133.0,134.0,135.0,136.0,137.0,138.0,139.0,140.0,141.0,142.0,143.0,144.0,145.0,146.0,147.0,148.0,149.0,150.0,151.0,152.0,153.0,154.0,155.0,156.0,157.0,158.0,159.0,160.0,161.0,162.0,163.0,164.0,165.0,166.0,167.0,168.0,169.0,170.0,171.0,172.0,173.0,174.0,175.0,176.0,177.0,178.0,179.0,180.0,181.0,182.0,183.0,184.0,185.0,186.0,187.0,188.0,189.0,190.0,191.0,192.0,193.0,194.0,195.0,196.0,197.0,198.0,199.0,200.0,200.99999999999997,202.0,202.99999999999997,204.0,204.99999999999997,206.0,206.99999999999997,208.0,209.0,210.0,211.0,212.0,213.0,214.0,215.0,216.0,217.0,218.00000000000003,219.0,220.00000000000003,221.0,222.00000000000003,223.0,224.00000000000003,225.0,225.99999999999997,227.0,227.99999999999997,229.0,229.99999999999997,231.0,231.99999999999997,233.0,234.0,235.0,236.0,237.0,238.0,239.0,240.0,241.0,242.0,243.00000000000003,244.0,245.00000000000003,246.0,247.00000000000003,248.0,249.00000000000003,250.0,250.99999999999997,252.0,252.99999999999997,254.0,254.99999999999997,256.0,257.0,258.0,259.0,260.0,261.0,262.0,263.0,264.0,265.0,266.0,267.0,268.0,269.0,270.0,271.0,272.0,273.0,274.0,275.0,276.0,277.0,278.0,279.0,280.0,281.0,282.0,283.0,284.0,285.0,286.0,287.0,288.0,289.0,290.0,291.0,292.0,293.0,294.0,295.0,296.0,297.0,298.0,299.0,300.0,301.0,302.0,303.0,304.0,305.0,306.0,307.0,308.0,309.0,310.0,311.0,312.0,313.0,314.0,315.0,316.0,317.0,318.0,319.0,320.0,321.0,322.0,323.0,324.0,325.0,326.0,327.0,328.0,329.0,330.0,331.0,332.0,333.0,334.0,335.0,336.0,337.0,338.0,339.0,340.0,341.0,342.0,343.0,344.0,345.0,346.0,347.0,348.0,349.0,350.0,351.0,352.0,353.0,354.0,355.0,356.0,357.0,358.0,359.0,360.0,361.0,362.0,363.0,364.0,365.0,366.0,367.0,368.0,369.0,370.0,371.0,372.0,373.0,374.0,375.0,376.0,377.0,378.0,379.0,380.0,381.0,382.0,383.0,384.0,385.0,386.0,387.0,388.0,389.0,390.0,391.0,392.0,393.0,394.0,395.0,396.0,397.0,398.0,399.0,400.0,401.0,401.99999999999994,403.0,404.0,405.0,405.99999999999994,407.0,408.0,409.0,409.99999999999994,411.00000000000006,412.0,413.0,413.99999999999994,415.00000000000006,416.0,417.0,418.0,419.00000000000006,420.0,421.0,422.0,423.00000000000006,424.0,425.0,426.0,426.99999999999994,428.0,429.0,430.0,430.99999999999994,432.0,433.0,434.0,434.99999999999994,436.00000000000006,437.0,438.0,438.99999999999994,440.00000000000006,441.0,442.0,443.0,444.00000000000006,445.0,446.0,447.0,448.00000000000006,449.0,450.0,451.0,451.99999999999994,453.0,454.0,455.0,455.99999999999994,457.0,458.0,459.0,459.99999999999994,461.00000000000006,462.0,463.0,463.99999999999994,465.00000000000006,466.0,467.0,468.0,469.00000000000006,470.0,471.0,472.0,473.00000000000006,474.0,475.0,476.0,476.99999999999994,478.0,479.0,480.0,480.99999999999994,482.0,483.0,484.0,484.99999999999994,486.00000000000006,487.0,488.0,488.99999999999994,490.00000000000006,491.0,492.0,493.0,494.00000000000006,495.0,496.0,497.0,498.00000000000006,499.0,500.0,501.0,501.99999999999994,503.0,504.0,505.0,505.99999999999994,507.0,508.0,509.0],\"xaxis\":\"x\",\"y\":[941.7063578900751,939.0737846816385,936.448570924097,933.8306960438456,931.2201395247964,928.6168809082121,926.0208997925515,923.4321758333035,920.850688742834,918.2764182902204,915.7093443010997,913.1494466575037,910.5967052977072,908.0511002160683,905.5126114628691,902.9812191441648,900.4569034216221,897.9396445123693,895.4294226888353,892.9262182786015,890.4300116642406,887.9407832831702,885.4585136274923,882.9831832438472,880.5147727332544,878.0532627509675,875.5986340063155,873.1508672625583,870.7099433367299,868.275843099494,865.8485474749875,863.4280374406783,861.0142940272091,858.6072983182548,856.2070314503692,853.8134746128413,851.4266090475463,849.046416048796,846.6728769631977,844.305973189502,841.9456861784628,839.5919974326862,837.2448885064912,834.9043410057595,832.5703365877973,830.2428569611855,827.9218838856417,825.6073991718727,823.2993846814364,820.9978223265949,818.7026940701779,816.4139819254356,814.1316679559039,811.855734275258,809.5861630471773,807.3229364852007,805.0660368525921,802.8154464621988,800.571147676311,798.3331229065288,796.1013546136184,793.8758253073802,791.6565175465063,789.4434139384496,787.2364971392814,785.0357498535615,782.841154834197,780.6526948823125,778.4703528471099,776.2941116257397,774.1239541631609,771.9598634520136,769.8018225324795,767.6498144921551,765.5038224659132,763.3638296357765,761.2298192307801,759.1017745268449,756.9796788466449,754.8635155594737,752.7532680811197,750.64891987373,748.5504544456868,746.4578553514723,744.3711061915457,742.2901906122087,740.215092305483,738.1457950089778,736.082282505766,734.0245386242536,731.9725472380575,729.9262922658733,727.8857576713556,725.8509274629862,723.8217856939547,721.7983164620276,719.7805039094295,717.7683322227134,715.7617856326411,713.7608484140579,711.7655048857677,709.7757394104136,707.7915363943517,705.8128802875328,703.839755583376,701.872146818652,699.9100385733573,697.9534154705975,696.0022621764629,694.0565633999125,692.1163038926495,690.1814684490068,688.2520419058228,686.3280091423273,684.4093550800186,682.4960646825498,680.588122955606,678.6855149467922,676.7882257455108,674.8962404828488,673.0095443314605,671.128122505448,669.2519602602507,667.3810428925243,665.515355740031,663.654884181519,661.7996136366135,659.9495295656967,658.1046174697998,656.2648628904836,654.4302514097305,652.6007686498267,650.776400273254,648.957131982573,647.1429495203154,645.3338386688681,643.5297852503661,641.7307751265766,639.9367941987935,638.1478284077212,636.3638637333697,634.5848861949419,632.8108818507235,631.0418367979748,629.277737172823,627.518569150152,625.7643189434925,624.0149728049183,622.2705170249338,620.5309379323708,618.796221894277,617.0663553158139,615.3413246401459,613.6211163483376,611.9057169592447,610.1951130294116,608.4892911529623,606.7882379614999,605.0919401239968,603.400384346695,601.7135573729973,600.0314459833686,598.3540369952266,596.6813172628438,595.01327367724,593.3498931660831,591.6911626935853,590.0370692603989,588.3875999035188,586.742741696176,585.1024817477412,583.4668072036189,581.8357052451514,580.2091630895138,578.587167989618,576.969707234009,575.356768146769,573.7483380874144,572.1444044507999,570.5449546670172,568.949976201299,567.3594565539177,565.7733832600906,564.1917438898795,562.6145260480961,561.0417173742011,559.4733055422116,557.9092782606018,556.3496232722063,554.7943283541266,553.243381317632,551.696770008068,550.1544823047564,548.616506120905,547.0828294035088,545.5534401332592,544.0283263244461,542.5074760248677,540.9908773157334,539.4785183115737,537.9703871601432,536.4664720423323,534.9667611720696,533.4712427962346,531.9799051945608,530.4927366795481,529.0097255963674,527.5308603227722,526.0561292690068,524.5855208777139,523.1190236238452,521.6566260145722,520.1983165891947,518.7440839190502,517.2939166074271,515.8478032894719,514.4057326321038,512.967693333922,511.53367412512154,510.10366376740006,508.6776510538746,507.25562480898947,505.83757388843236,504.4234871790436,503.01335359873246,501.60716209638684,500.2049016517902,498.8065612755315,497.41213000892253,496.0215969239104,494.6349511229909,493.2521817391245,491.8732779356515,490.4982289062066,489.1270238746326,487.7596520948993,486.3961028510157,485.0363654569494,483.68042925653936,482.3282836234161,480.9799179609147,479.6353217019954,478.2944843091571,476.95739527435853,475.6240441189323,474.2944203935061,472.9685136779175,471.6463135811358,470.3278097411771,469.01299182502595,467.70184952855334,466.3943725764348,465.09055072207116,463.79037374750845,462.49383146335765,461.20091370871324,459.9116103510764,458.6259112862724,457.343806438375,456.0652857596237,454.7903392303484,453.51895685888803,452.2511286815149,450.9868447623538,449.72609519330723,448.4688700939744,447.2151596115772,445.96495392087974,444.7182432241145,443.47501775090234,442.23526775817913,440.99898353011633,439.7661553780478,438.53677364039095,437.3108286825735,436.0883108969572,434.8692107027609,433.65351854598845,432.44122489935074,431.23232026219415,430.02679516042275,428.82464014642744,427.62584579900863,426.43040272330563,425.2383015507199,424.04953293884455,422.8640875713884,421.68195615810544,420.5031294347198,419.3275981628555,418.1553531299612,416.98638514924124,415.8206850595803,414.6582437254749,413.4990520369587,412.3431009095336,411.19038128409755,410.0408841268729,408.8946004293362,407.75152120814835,406.6116375050834,405.4749403869576,404.34142094556137,403.2110702975872,402.08387958456234,400.959839972777,399.8389426532176,398.7211788414951,397.60653977777906,396.49501672672585,395.38660097741337,394.28128384326965,393.17905666200755,392.0799107955556,390.98383762998947,389.8908285754657,388.80087506615456,387.71396856017236,386.6301005395139,385.5492625099863,384.47144600114336,383.39664256621813,382.32484378205595,381.2560412490507,380.1902265910764,379.12739145542406,378.06752751273365,377.0106264569315,375.95668000516264,374.90567989772836,373.85761789801876,372.8124857924513,371.7702753904032,370.73097852415,369.6945870488003,368.66109284223154,367.6304878050266,366.6027638604114,365.5779129541907,364.5559270546841,363.5367981526653,362.52051826129684,361.5070794160699,360.49647367473966,359.48869311726526,358.48372984574524,357.4815759843584,356.48222367929947,355.48566509871983,354.49189243266403,353.50089789301063,352.51267371340913,351.5272121492213,350.5445054774581,349.5645459967211,348.58732602714184,347.61283791032014,346.64107400926537,345.67202670833694,344.70568841318413,343.7420515506858,342.7811085688916,341.82285193696396,340.8672741451175,339.9143677045601,338.9641251474361,338.0165390267651,337.0716019163862,336.1293064108976,335.1896451256005,334.25261069643926,333.3181957799459,332.38639305318003,331.45719521367414,330.5305949793738,329.6065850885827,328.6851582999048,327.7663073921871,326.85002516446366,325.9363044358995,325.0251380457341,324.11651885322436,323.2104397375895,322.3068935979557,321.4058733532998,320.5073719423931,319.6113823237479,318.7178974755601,317.82691039565645,316.9384141014375,316.05240162982483,315.1688660372045,314.2878003993749,313.40919781149,312.5330513880077,311.6593542626337,310.7880995882695,309.919280536957,309.0528902998269,308.18892208704335,307.32736912775266,306.46822467002835,305.61148198082014,304.75713434589926,303.9051750698076,303.05559747580446,302.20839490581324,301.3635607203714,300.5210882985763,299.6809710380351,298.8432023548114,298.0077756833752,297.1746844765497,296.3439222054619,295.5154823594904,294.6893584462138,293.86554399136077,293.04403253875955,292.224817650286,291.4078929058149,290.5932519031677,289.7808882580644,288.97079560407155,288.16296759255414,287.357397892624,286.5540801910922,285.7530081924182,284.95417561866026,284.15757620942793,283.3632037218307,282.57105193043157,281.7811146271956,280.993385621444,280.207858739803,279.4245278261575,278.6433867416021,277.86442936439244,277.0876495898976,276.3130413305529,275.5405985158118,274.77031509209746,274.0021850227563,273.2362022880109,272.4723608849115,271.7106548272907,270.9510781457148,270.1936248874384,269.43828911635734,268.6850649129616,267.9339463742892,267.18492761388063,266.4380027617323,265.6931659642497,264.950411384203,264.20973320067975,263.471125609041,262.7345828208739,262.00009906394837,261.2676685821697,260.5372856355353,259.80894450008896,259.08263946787554,258.35836484689673,257.6361149610668,256.9158841501677,256.19766676980436,255.4814571913607,254.76724980195618,254.05503900440118,253.34481921715286,252.6365848742717,251.93033042537843,251.22605033561013,250.52373908557598,249.82339117131582,249.12500110425506,248.42856341116354,247.73407263411076,247.04152333042498,246.35091007264876,245.66222744849793,244.97547006081865,244.29063252754443,243.60770948165467,242.92669557113283,242.2475854589241,241.57037382289323,240.89505535578311,240.22162476517377,239.5500767734403,238.88040611771123,238.21260754982754,237.54667583630214,236.8826057582783,236.2203921114881,235.56002970621327,234.90151336724267,234.2448379338335,233.58999825966922,232.93698921282072],\"yaxis\":\"y\",\"type\":\"scatter\"}],                        {\"template\":{\"data\":{\"histogram2dcontour\":[{\"type\":\"histogram2dcontour\",\"colorbar\":{\"outlinewidth\":0,\"ticks\":\"\"},\"colorscale\":[[0.0,\"#0d0887\"],[0.1111111111111111,\"#46039f\"],[0.2222222222222222,\"#7201a8\"],[0.3333333333333333,\"#9c179e\"],[0.4444444444444444,\"#bd3786\"],[0.5555555555555556,\"#d8576b\"],[0.6666666666666666,\"#ed7953\"],[0.7777777777777778,\"#fb9f3a\"],[0.8888888888888888,\"#fdca26\"],[1.0,\"#f0f921\"]]}],\"choropleth\":[{\"type\":\"choropleth\",\"colorbar\":{\"outlinewidth\":0,\"ticks\":\"\"}}],\"histogram2d\":[{\"type\":\"histogram2d\",\"colorbar\":{\"outlinewidth\":0,\"ticks\":\"\"},\"colorscale\":[[0.0,\"#0d0887\"],[0.1111111111111111,\"#46039f\"],[0.2222222222222222,\"#7201a8\"],[0.3333333333333333,\"#9c179e\"],[0.4444444444444444,\"#bd3786\"],[0.5555555555555556,\"#d8576b\"],[0.6666666666666666,\"#ed7953\"],[0.7777777777777778,\"#fb9f3a\"],[0.8888888888888888,\"#fdca26\"],[1.0,\"#f0f921\"]]}],\"heatmap\":[{\"type\":\"heatmap\",\"colorbar\":{\"outlinewidth\":0,\"ticks\":\"\"},\"colorscale\":[[0.0,\"#0d0887\"],[0.1111111111111111,\"#46039f\"],[0.2222222222222222,\"#7201a8\"],[0.3333333333333333,\"#9c179e\"],[0.4444444444444444,\"#bd3786\"],[0.5555555555555556,\"#d8576b\"],[0.6666666666666666,\"#ed7953\"],[0.7777777777777778,\"#fb9f3a\"],[0.8888888888888888,\"#fdca26\"],[1.0,\"#f0f921\"]]}],\"heatmapgl\":[{\"type\":\"heatmapgl\",\"colorbar\":{\"outlinewidth\":0,\"ticks\":\"\"},\"colorscale\":[[0.0,\"#0d0887\"],[0.1111111111111111,\"#46039f\"],[0.2222222222222222,\"#7201a8\"],[0.3333333333333333,\"#9c179e\"],[0.4444444444444444,\"#bd3786\"],[0.5555555555555556,\"#d8576b\"],[0.6666666666666666,\"#ed7953\"],[0.7777777777777778,\"#fb9f3a\"],[0.8888888888888888,\"#fdca26\"],[1.0,\"#f0f921\"]]}],\"contourcarpet\":[{\"type\":\"contourcarpet\",\"colorbar\":{\"outlinewidth\":0,\"ticks\":\"\"}}],\"contour\":[{\"type\":\"contour\",\"colorbar\":{\"outlinewidth\":0,\"ticks\":\"\"},\"colorscale\":[[0.0,\"#0d0887\"],[0.1111111111111111,\"#46039f\"],[0.2222222222222222,\"#7201a8\"],[0.3333333333333333,\"#9c179e\"],[0.4444444444444444,\"#bd3786\"],[0.5555555555555556,\"#d8576b\"],[0.6666666666666666,\"#ed7953\"],[0.7777777777777778,\"#fb9f3a\"],[0.8888888888888888,\"#fdca26\"],[1.0,\"#f0f921\"]]}],\"surface\":[{\"type\":\"surface\",\"colorbar\":{\"outlinewidth\":0,\"ticks\":\"\"},\"colorscale\":[[0.0,\"#0d0887\"],[0.1111111111111111,\"#46039f\"],[0.2222222222222222,\"#7201a8\"],[0.3333333333333333,\"#9c179e\"],[0.4444444444444444,\"#bd3786\"],[0.5555555555555556,\"#d8576b\"],[0.6666666666666666,\"#ed7953\"],[0.7777777777777778,\"#fb9f3a\"],[0.8888888888888888,\"#fdca26\"],[1.0,\"#f0f921\"]]}],\"mesh3d\":[{\"type\":\"mesh3d\",\"colorbar\":{\"outlinewidth\":0,\"ticks\":\"\"}}],\"scatter\":[{\"fillpattern\":{\"fillmode\":\"overlay\",\"size\":10,\"solidity\":0.2},\"type\":\"scatter\"}],\"parcoords\":[{\"type\":\"parcoords\",\"line\":{\"colorbar\":{\"outlinewidth\":0,\"ticks\":\"\"}}}],\"scatterpolargl\":[{\"type\":\"scatterpolargl\",\"marker\":{\"colorbar\":{\"outlinewidth\":0,\"ticks\":\"\"}}}],\"bar\":[{\"error_x\":{\"color\":\"#2a3f5f\"},\"error_y\":{\"color\":\"#2a3f5f\"},\"marker\":{\"line\":{\"color\":\"#E5ECF6\",\"width\":0.5},\"pattern\":{\"fillmode\":\"overlay\",\"size\":10,\"solidity\":0.2}},\"type\":\"bar\"}],\"scattergeo\":[{\"type\":\"scattergeo\",\"marker\":{\"colorbar\":{\"outlinewidth\":0,\"ticks\":\"\"}}}],\"scatterpolar\":[{\"type\":\"scatterpolar\",\"marker\":{\"colorbar\":{\"outlinewidth\":0,\"ticks\":\"\"}}}],\"histogram\":[{\"marker\":{\"pattern\":{\"fillmode\":\"overlay\",\"size\":10,\"solidity\":0.2}},\"type\":\"histogram\"}],\"scattergl\":[{\"type\":\"scattergl\",\"marker\":{\"colorbar\":{\"outlinewidth\":0,\"ticks\":\"\"}}}],\"scatter3d\":[{\"type\":\"scatter3d\",\"line\":{\"colorbar\":{\"outlinewidth\":0,\"ticks\":\"\"}},\"marker\":{\"colorbar\":{\"outlinewidth\":0,\"ticks\":\"\"}}}],\"scattermapbox\":[{\"type\":\"scattermapbox\",\"marker\":{\"colorbar\":{\"outlinewidth\":0,\"ticks\":\"\"}}}],\"scatterternary\":[{\"type\":\"scatterternary\",\"marker\":{\"colorbar\":{\"outlinewidth\":0,\"ticks\":\"\"}}}],\"scattercarpet\":[{\"type\":\"scattercarpet\",\"marker\":{\"colorbar\":{\"outlinewidth\":0,\"ticks\":\"\"}}}],\"carpet\":[{\"aaxis\":{\"endlinecolor\":\"#2a3f5f\",\"gridcolor\":\"white\",\"linecolor\":\"white\",\"minorgridcolor\":\"white\",\"startlinecolor\":\"#2a3f5f\"},\"baxis\":{\"endlinecolor\":\"#2a3f5f\",\"gridcolor\":\"white\",\"linecolor\":\"white\",\"minorgridcolor\":\"white\",\"startlinecolor\":\"#2a3f5f\"},\"type\":\"carpet\"}],\"table\":[{\"cells\":{\"fill\":{\"color\":\"#EBF0F8\"},\"line\":{\"color\":\"white\"}},\"header\":{\"fill\":{\"color\":\"#C8D4E3\"},\"line\":{\"color\":\"white\"}},\"type\":\"table\"}],\"barpolar\":[{\"marker\":{\"line\":{\"color\":\"#E5ECF6\",\"width\":0.5},\"pattern\":{\"fillmode\":\"overlay\",\"size\":10,\"solidity\":0.2}},\"type\":\"barpolar\"}],\"pie\":[{\"automargin\":true,\"type\":\"pie\"}]},\"layout\":{\"autotypenumbers\":\"strict\",\"colorway\":[\"#636efa\",\"#EF553B\",\"#00cc96\",\"#ab63fa\",\"#FFA15A\",\"#19d3f3\",\"#FF6692\",\"#B6E880\",\"#FF97FF\",\"#FECB52\"],\"font\":{\"color\":\"#2a3f5f\"},\"hovermode\":\"closest\",\"hoverlabel\":{\"align\":\"left\"},\"paper_bgcolor\":\"white\",\"plot_bgcolor\":\"#E5ECF6\",\"polar\":{\"bgcolor\":\"#E5ECF6\",\"angularaxis\":{\"gridcolor\":\"white\",\"linecolor\":\"white\",\"ticks\":\"\"},\"radialaxis\":{\"gridcolor\":\"white\",\"linecolor\":\"white\",\"ticks\":\"\"}},\"ternary\":{\"bgcolor\":\"#E5ECF6\",\"aaxis\":{\"gridcolor\":\"white\",\"linecolor\":\"white\",\"ticks\":\"\"},\"baxis\":{\"gridcolor\":\"white\",\"linecolor\":\"white\",\"ticks\":\"\"},\"caxis\":{\"gridcolor\":\"white\",\"linecolor\":\"white\",\"ticks\":\"\"}},\"coloraxis\":{\"colorbar\":{\"outlinewidth\":0,\"ticks\":\"\"}},\"colorscale\":{\"sequential\":[[0.0,\"#0d0887\"],[0.1111111111111111,\"#46039f\"],[0.2222222222222222,\"#7201a8\"],[0.3333333333333333,\"#9c179e\"],[0.4444444444444444,\"#bd3786\"],[0.5555555555555556,\"#d8576b\"],[0.6666666666666666,\"#ed7953\"],[0.7777777777777778,\"#fb9f3a\"],[0.8888888888888888,\"#fdca26\"],[1.0,\"#f0f921\"]],\"sequentialminus\":[[0.0,\"#0d0887\"],[0.1111111111111111,\"#46039f\"],[0.2222222222222222,\"#7201a8\"],[0.3333333333333333,\"#9c179e\"],[0.4444444444444444,\"#bd3786\"],[0.5555555555555556,\"#d8576b\"],[0.6666666666666666,\"#ed7953\"],[0.7777777777777778,\"#fb9f3a\"],[0.8888888888888888,\"#fdca26\"],[1.0,\"#f0f921\"]],\"diverging\":[[0,\"#8e0152\"],[0.1,\"#c51b7d\"],[0.2,\"#de77ae\"],[0.3,\"#f1b6da\"],[0.4,\"#fde0ef\"],[0.5,\"#f7f7f7\"],[0.6,\"#e6f5d0\"],[0.7,\"#b8e186\"],[0.8,\"#7fbc41\"],[0.9,\"#4d9221\"],[1,\"#276419\"]]},\"xaxis\":{\"gridcolor\":\"white\",\"linecolor\":\"white\",\"ticks\":\"\",\"title\":{\"standoff\":15},\"zerolinecolor\":\"white\",\"automargin\":true,\"zerolinewidth\":2},\"yaxis\":{\"gridcolor\":\"white\",\"linecolor\":\"white\",\"ticks\":\"\",\"title\":{\"standoff\":15},\"zerolinecolor\":\"white\",\"automargin\":true,\"zerolinewidth\":2},\"scene\":{\"xaxis\":{\"backgroundcolor\":\"#E5ECF6\",\"gridcolor\":\"white\",\"linecolor\":\"white\",\"showbackground\":true,\"ticks\":\"\",\"zerolinecolor\":\"white\",\"gridwidth\":2},\"yaxis\":{\"backgroundcolor\":\"#E5ECF6\",\"gridcolor\":\"white\",\"linecolor\":\"white\",\"showbackground\":true,\"ticks\":\"\",\"zerolinecolor\":\"white\",\"gridwidth\":2},\"zaxis\":{\"backgroundcolor\":\"#E5ECF6\",\"gridcolor\":\"white\",\"linecolor\":\"white\",\"showbackground\":true,\"ticks\":\"\",\"zerolinecolor\":\"white\",\"gridwidth\":2}},\"shapedefaults\":{\"line\":{\"color\":\"#2a3f5f\"}},\"annotationdefaults\":{\"arrowcolor\":\"#2a3f5f\",\"arrowhead\":0,\"arrowwidth\":1},\"geo\":{\"bgcolor\":\"white\",\"landcolor\":\"#E5ECF6\",\"subunitcolor\":\"white\",\"showland\":true,\"showlakes\":true,\"lakecolor\":\"white\"},\"title\":{\"x\":0.05},\"mapbox\":{\"style\":\"light\"}}},\"xaxis\":{\"anchor\":\"y\",\"domain\":[0.0,1.0],\"title\":{\"text\":\"price\"}},\"yaxis\":{\"anchor\":\"x\",\"domain\":[0.0,1.0],\"title\":{\"text\":\"demand\"}},\"legend\":{\"tracegroupgap\":0},\"title\":{\"text\":\"Salamanca\"}},                        {\"responsive\": true}                    ).then(function(){\n",
       "                            \n",
       "var gd = document.getElementById('48ba84dd-d505-4b19-9323-447ba98a3483');\n",
       "var x = new MutationObserver(function (mutations, observer) {{\n",
       "        var display = window.getComputedStyle(gd).display;\n",
       "        if (!display || display === 'none') {{\n",
       "            console.log([gd, 'removed!']);\n",
       "            Plotly.purge(gd);\n",
       "            observer.disconnect();\n",
       "        }}\n",
       "}});\n",
       "\n",
       "// Listen for the removal of the full notebook cells\n",
       "var notebookContainer = gd.closest('#notebook-container');\n",
       "if (notebookContainer) {{\n",
       "    x.observe(notebookContainer, {childList: true});\n",
       "}}\n",
       "\n",
       "// Listen for the clearing of the current output cell\n",
       "var outputEl = gd.closest('.output');\n",
       "if (outputEl) {{\n",
       "    x.observe(outputEl, {childList: true});\n",
       "}}\n",
       "\n",
       "                        })                };                });            </script>        </div>"
      ]
     },
     "metadata": {},
     "output_type": "display_data"
    },
    {
     "data": {
      "application/vnd.plotly.v1+json": {
       "config": {
        "plotlyServerURL": "https://plot.ly"
       },
       "data": [
        {
         "hovertemplate": "price=%{x}<br>income=%{y}<extra></extra>",
         "legendgroup": "",
         "marker": {
          "color": "#636efa",
          "symbol": "circle"
         },
         "mode": "markers",
         "name": "",
         "orientation": "v",
         "showlegend": false,
         "type": "scatter",
         "x": [
          10,
          11,
          12,
          13,
          14.000000000000002,
          15,
          16,
          17,
          18,
          19,
          20,
          21,
          22,
          23,
          24,
          25,
          26,
          27,
          28.000000000000004,
          28.999999999999996,
          30,
          31,
          32,
          33,
          34,
          35,
          36,
          37,
          38,
          39,
          40,
          41,
          42,
          43,
          44,
          45,
          46,
          47,
          48,
          49,
          50,
          51,
          52,
          53,
          54,
          55.00000000000001,
          56.00000000000001,
          56.99999999999999,
          57.99999999999999,
          59,
          60,
          61,
          62,
          63,
          64,
          65,
          66,
          67,
          68,
          69,
          70,
          71,
          72,
          73,
          74,
          75,
          76,
          77,
          78,
          79,
          80,
          81,
          82,
          83,
          84,
          85,
          86,
          87,
          88,
          89,
          90,
          91,
          92,
          93,
          94,
          95,
          96,
          97,
          98,
          99,
          100,
          101,
          102,
          103,
          104,
          105,
          106,
          107,
          108,
          109.00000000000001,
          110.00000000000001,
          111.00000000000001,
          112.00000000000001,
          112.99999999999999,
          113.99999999999999,
          114.99999999999999,
          115.99999999999999,
          117,
          118,
          119,
          120,
          121,
          122,
          123,
          124,
          125,
          126,
          127,
          128,
          129,
          130,
          131,
          132,
          133,
          134,
          135,
          136,
          137,
          138,
          139,
          140,
          141,
          142,
          143,
          144,
          145,
          146,
          147,
          148,
          149,
          150,
          151,
          152,
          153,
          154,
          155,
          156,
          157,
          158,
          159,
          160,
          161,
          162,
          163,
          164,
          165,
          166,
          167,
          168,
          169,
          170,
          171,
          172,
          173,
          174,
          175,
          176,
          177,
          178,
          179,
          180,
          181,
          182,
          183,
          184,
          185,
          186,
          187,
          188,
          189,
          190,
          191,
          192,
          193,
          194,
          195,
          196,
          197,
          198,
          199,
          200,
          200.99999999999997,
          202,
          202.99999999999997,
          204,
          204.99999999999997,
          206,
          206.99999999999997,
          208,
          209,
          210,
          211,
          212,
          213,
          214,
          215,
          216,
          217,
          218.00000000000003,
          219,
          220.00000000000003,
          221,
          222.00000000000003,
          223,
          224.00000000000003,
          225,
          225.99999999999997,
          227,
          227.99999999999997,
          229,
          229.99999999999997,
          231,
          231.99999999999997,
          233,
          234,
          235,
          236,
          237,
          238,
          239,
          240,
          241,
          242,
          243.00000000000003,
          244,
          245.00000000000003,
          246,
          247.00000000000003,
          248,
          249.00000000000003,
          250,
          250.99999999999997,
          252,
          252.99999999999997,
          254,
          254.99999999999997,
          256,
          257,
          258,
          259,
          260,
          261,
          262,
          263,
          264,
          265,
          266,
          267,
          268,
          269,
          270,
          271,
          272,
          273,
          274,
          275,
          276,
          277,
          278,
          279,
          280,
          281,
          282,
          283,
          284,
          285,
          286,
          287,
          288,
          289,
          290,
          291,
          292,
          293,
          294,
          295,
          296,
          297,
          298,
          299,
          300,
          301,
          302,
          303,
          304,
          305,
          306,
          307,
          308,
          309,
          310,
          311,
          312,
          313,
          314,
          315,
          316,
          317,
          318,
          319,
          320,
          321,
          322,
          323,
          324,
          325,
          326,
          327,
          328,
          329,
          330,
          331,
          332,
          333,
          334,
          335,
          336,
          337,
          338,
          339,
          340,
          341,
          342,
          343,
          344,
          345,
          346,
          347,
          348,
          349,
          350,
          351,
          352,
          353,
          354,
          355,
          356,
          357,
          358,
          359,
          360,
          361,
          362,
          363,
          364,
          365,
          366,
          367,
          368,
          369,
          370,
          371,
          372,
          373,
          374,
          375,
          376,
          377,
          378,
          379,
          380,
          381,
          382,
          383,
          384,
          385,
          386,
          387,
          388,
          389,
          390,
          391,
          392,
          393,
          394,
          395,
          396,
          397,
          398,
          399,
          400,
          401,
          401.99999999999994,
          403,
          404,
          405,
          405.99999999999994,
          407,
          408,
          409,
          409.99999999999994,
          411.00000000000006,
          412,
          413,
          413.99999999999994,
          415.00000000000006,
          416,
          417,
          418,
          419.00000000000006,
          420,
          421,
          422,
          423.00000000000006,
          424,
          425,
          426,
          426.99999999999994,
          428,
          429,
          430,
          430.99999999999994,
          432,
          433,
          434,
          434.99999999999994,
          436.00000000000006,
          437,
          438,
          438.99999999999994,
          440.00000000000006,
          441,
          442,
          443,
          444.00000000000006,
          445,
          446,
          447,
          448.00000000000006,
          449,
          450,
          451,
          451.99999999999994,
          453,
          454,
          455,
          455.99999999999994,
          457,
          458,
          459,
          459.99999999999994,
          461.00000000000006,
          462,
          463,
          463.99999999999994,
          465.00000000000006,
          466,
          467,
          468,
          469.00000000000006,
          470,
          471,
          472,
          473.00000000000006,
          474,
          475,
          476,
          476.99999999999994,
          478,
          479,
          480,
          480.99999999999994,
          482,
          483,
          484,
          484.99999999999994,
          486.00000000000006,
          487,
          488,
          488.99999999999994,
          490.00000000000006,
          491,
          492,
          493,
          494.00000000000006,
          495,
          496,
          497,
          498.00000000000006,
          499,
          500,
          501,
          501.99999999999994,
          503,
          504,
          505,
          505.99999999999994,
          507,
          508,
          509
         ],
         "xaxis": "x",
         "y": [
          9417.06357890075,
          10329.811631498023,
          11237.382851089164,
          12139.799048569992,
          13037.081953347151,
          13929.253213623182,
          14816.334396680824,
          15698.346989166159,
          16575.312397371014,
          17447.251947514185,
          18314.186886021995,
          19176.13837980758,
          20033.127516549557,
          20885.175304969573,
          21732.30267510886,
          22574.53047860412,
          23411.879488962175,
          24244.37040183397,
          25072.023835287393,
          25894.86033007944,
          26712.90034992722,
          27526.164281778274,
          28334.672436079753,
          29138.445047046956,
          29937.50227293065,
          30731.864196283863,
          31521.550824227357,
          32306.58208871466,
          33086.97784679574,
          33862.757880880265,
          34633.9418989995,
          35400.54953506781,
          36162.600349142784,
          36920.11382768496,
          37673.10938381624,
          38421.60635757786,
          39165.62401618713,
          39905.18155429341,
          40640.29809423349,
          41370.992686285594,
          42097.28430892314,
          42819.191869067,
          43536.73420233754,
          44249.93007330526,
          44958.79817574105,
          45663.3571328652,
          46363.62549759594,
          47059.62175279674,
          47751.364311523306,
          48438.8715172691,
          49122.161644210675,
          49801.252897451566,
          50476.16341326605,
          51146.91125934125,
          51813.514435019344,
          52475.990871538044,
          53134.35843227108,
          53788.63491296732,
          54438.838041989155,
          55084.98548055049,
          55727.09482295329,
          56365.18359682399,
          56999.269263348455,
          57629.36921750682,
          58255.500788306825,
          58877.68123901711,
          59495.92776739897,
          60110.25750593806,
          60720.68752207457,
          61327.23481843343,
          61929.91633305287,
          62528.7489396131,
          63123.749447663315,
          63714.93460284887,
          64302.32108713671,
          64885.925519041004,
          65465.764453847085,
          66041.85438383551,
          66614.21173850475,
          67182.85288479316,
          67747.79412730077,
          68309.05170850943,
          68866.64180900318,
          69420.58054768693,
          69970.8839820053,
          70517.56810815983,
          71060.64886132636,
          71600.14211587084,
          72136.06368556507,
          72668.42932380112,
          73197.25472380575,
          73722.5555188532,
          74244.34728247827,
          74762.64552868757,
          75277.46571217128,
          75788.8232285129,
          76296.73341439952,
          76801.21154783033,
          77302.27284832524,
          77799.93247713233,
          78294.20553743445,
          78785.10707455593,
          79272.6520761674,
          79756.8554724912,
          80237.73213650486,
          80715.29688414498,
          81189.56447450943,
          81660.54961005991,
          82128.26693682262,
          82592.73104458959,
          83053.95646711794,
          83511.95768232983,
          83966.74911251038,
          84418.34512450626,
          84866.76002992231,
          85312.00808531872,
          85754.10349240636,
          86193.06039824261,
          86628.89289542538,
          87061.6150222875,
          87491.24076308987,
          87917.78404821368,
          88341.2587543531,
          88761.67870470573,
          89179.05766916416,
          89593.40936450507,
          90004.74745457942,
          90413.08555050044,
          90818.43721083237,
          91220.81594177723,
          91620.23519736227,
          92016.70837962556,
          92410.24883880207,
          92800.86987350794,
          93188.58473092542,
          93573.40660698588,
          93955.34864655345,
          94334.42394360677,
          94710.64554142143,
          95084.02643275047,
          95454.57956000546,
          95822.31781543622,
          96187.25404130996,
          96549.40103009016,
          96908.77152461474,
          97265.37821827356,
          97619.23375518483,
          97970.35073037217,
          98318.74168993955,
          98664.41913124695,
          99007.39550308432,
          99347.68320584604,
          99685.29459170364,
          100020.24196477904,
          100352.53758131614,
          100682.19364985291,
          101009.22233139175,
          101333.63573957048,
          101655.44594083146,
          101974.66495459146,
          102291.30475340955,
          102605.37726315603,
          102916.89436317897,
          103225.86788647197,
          103532.30961983977,
          103836.23130406455,
          104137.64463407101,
          104436.5612590906,
          104732.99278282635,
          105026.95076361552,
          105318.44671459342,
          105607.49210385502,
          105894.09835461756,
          106178.27684538103,
          106460.03891008972,
          106739.39583829166,
          107016.35887529903,
          107290.93922234648,
          107563.14803675038,
          107832.99643206625,
          108100.49547824681,
          108365.65620179827,
          108628.48958593738,
          108889.00657074674,
          109147.21805333064,
          109403.13488796921,
          109656.76788627348,
          109908.12781733855,
          110157.22540789684,
          110404.0713424712,
          110648.6762635264,
          110891.05077162165,
          111131.20542556078,
          111369.1507425437,
          111604.89719831578,
          111838.45522731812,
          112069.8352228359,
          112299.0475371476,
          112526.10248167255,
          112751.0103271189,
          112973.78130363008,
          113194.42560093211,
          113412.95336847876,
          113629.37471559797,
          113843.69971163601,
          114055.93838610285,
          114266.10072881536,
          114474.19669004157,
          114680.2361806435,
          114884.22907221934,
          115086.18519724597,
          115286.11434922046,
          115484.02628280125,
          115679.9307139482,
          115873.8373200637,
          116065.75574013118,
          116255.69557485543,
          116443.66638680031,
          116629.6777005277,
          116813.73900273461,
          116995.85974239116,
          117176.04933087657,
          117354.3171421163,
          117530.67251271717,
          117705.12474210339,
          117877.68309265091,
          118048.35678982249,
          118217.15502230097,
          118384.08694212357,
          118549.16166481459,
          118712.38826951782,
          118873.77579912901,
          119033.33326042767,
          119191.06962420822,
          119346.99382541035,
          119501.11476325034,
          119653.44130134987,
          119803.98226786651,
          119952.74645562176,
          120099.74262223062,
          120244.97949022867,
          120388.46574720083,
          120530.21004590759,
          120670.2210044127,
          120808.50720620881,
          120945.07720034404,
          121079.93950154688,
          121213.1025903519,
          121344.57491322368,
          121474.36488268172,
          121602.48087742386,
          121728.93124244949,
          121853.72428918265,
          121976.86829559473,
          122098.37150632642,
          122218.24213280901,
          122336.48835338632,
          122453.11831343474,
          122568.1401254845,
          122681.56186933877,
          122793.39159219408,
          122903.63730875865,
          123012.30700137206,
          123119.40862012259,
          123224.95008296618,
          123328.93927584295,
          123431.3840527953,
          123532.29223608368,
          123631.67161630382,
          123729.52995250175,
          123825.87497229016,
          123920.71437196269,
          124014.05581660949,
          124105.90694023063,
          124196.27534585088,
          124285.1686056328,
          124372.59426098962,
          124458.55982269869,
          124543.07277101302,
          124626.14055577411,
          124707.77059652259,
          124787.97028261039,
          124866.74697331052,
          124944.10799792856,
          125020.06065591164,
          125094.61221695914,
          125167.76992113097,
          125239.54097895732,
          125309.93257154651,
          125378.9518506938,
          125446.60593898836,
          125512.90192992162,
          125577.84688799325,
          125641.44784881889,
          125703.71181923544,
          125764.64577740774,
          125824.25667293386,
          125882.55142694998,
          125939.53693223555,
          125995.22005331784,
          126049.60762657586,
          126102.70646034382,
          126154.52333501514,
          126205.06500314479,
          126254.33818955258,
          126302.34959142475,
          126349.10587841677,
          126394.61369275395,
          126438.87964933374,
          126481.91033582555,
          126523.71231277227,
          126564.29211368956,
          126603.65624516644,
          126641.81118696445,
          126678.76339211658,
          126714.51928702636,
          126749.0852715664,
          126782.46771917636,
          126814.67297696054,
          126845.70736578549,
          126875.57718037731,
          126904.2886894182,
          126931.84813564258,
          126958.26173593389,
          126983.53568141951,
          127007.67613756706,
          127030.6892442785,
          127052.58111598591,
          127073.35784174498,
          127093.02548532991,
          127111.59008532637,
          127129.05765522589,
          127145.4341835179,
          127160.72563378344,
          127174.9379447873,
          127188.07703056988,
          127200.1487805392,
          127211.15905956276,
          127221.11370805837,
          127230.01854208476,
          127237.87935343286,
          127244.7019097152,
          127250.49195445661,
          127255.2552071831,
          127258.9973635119,
          127261.72409523957,
          127263.44105043159,
          127264.15385350991,
          127263.8681053417,
          127262.58938332638,
          127260.32324148383,
          127257.0752105407,
          127252.85079801812,
          127247.65548831728,
          127241.49474280648,
          127234.37399990678,
          127226.29867517717,
          127217.27416140039,
          127207.305828668,
          127196.39902446495,
          127184.55907375374,
          127171.79127905879,
          127158.1009205506,
          127143.49325612883,
          127127.97352150548,
          127111.54693028855,
          127094.21867406367,
          127075.9939224776,
          127056.87782331929,
          127036.87550260259,
          127015.99206464693,
          126994.23259215939,
          126971.60214631478,
          126948.1057668372,
          126923.74847207955,
          126898.53525910433,
          126872.47110376325,
          126845.56096077642,
          126817.8097638119,
          126789.2224255649,
          126759.8038378363,
          126729.55887161073,
          126698.49237713509,
          126666.6091839966,
          126633.91410120012,
          126600.41191724528,
          126566.10740020416,
          126531.00529779737,
          126495.11033747127,
          126458.42722647356,
          126420.96065192993,
          126382.715280919,
          126343.69576054868,
          126303.90671803047,
          126263.35276075512,
          126222.03847636665,
          126179.96843283741,
          126137.14717854149,
          126093.57924232938,
          126049.26913360073,
          126004.22134237857,
          125958.44033938168,
          125911.9305760979,
          125864.6964848564,
          125816.74247890034,
          125768.07295245887,
          125718.6922808183,
          125668.60482039489,
          125617.81490880488,
          125566.32686493674,
          125514.14498902079,
          125461.27356270095,
          125407.71684910398,
          125353.4790929104,
          125298.56452042394,
          125242.97733964087,
          125186.72174031968,
          125129.80189405031,
          125072.22195432242,
          125013.98605659459,
          124955.09831836211,
          124895.56283922575,
          124835.38370095892,
          124774.56496757595,
          124713.11068539883,
          124651.02488312511,
          124588.31157189434,
          124524.97474535453,
          124461.01837972943,
          124396.44643388366,
          124331.26284938991,
          124265.47155059327,
          124199.07644467826,
          124132.08142173273,
          124064.49035481394,
          123996.30710001294,
          123927.53549651902,
          123858.17936668421,
          123788.24251608772,
          123717.72873359949,
          123646.64179144386,
          123574.98544526308,
          123502.7634341809,
          123429.9794808649,
          123356.63729158997,
          123282.74055630024,
          123208.29294867188,
          123133.2981261753,
          123057.75973013641,
          122981.68138579873,
          122905.06670238507,
          122827.91927315861,
          122750.24267548337,
          122672.04047088599,
          122593.31620511539,
          122514.07340820407,
          122434.31559452724,
          122354.04626286389,
          122273.26889645541,
          122191.98696306607,
          122110.20391504181,
          122027.92318936938,
          121945.14820773526,
          121861.88237658462,
          121778.12908717949,
          121693.89171565707,
          121609.1736230877,
          121523.97815553308,
          121438.30864410376,
          121352.16840501621,
          121265.56073965042,
          121178.48893460701,
          121090.95626176408,
          121002.9659783332,
          120914.52132691686,
          120825.6255355637,
          120736.2818178255,
          120646.49337281194,
          120556.2633852474,
          120465.59502552522,
          120374.491449764,
          120282.95579986196,
          120190.99120355186,
          120098.60077445576,
          120005.78761213963,
          119912.55480216743,
          119818.90541615504,
          119724.8425118242,
          119630.36913305655,
          119535.48830994671,
          119440.20305885562,
          119344.5163824636,
          119248.43126982366,
          119151.95069641397,
          119055.07762419,
          118957.8150016377,
          118860.16576382479,
          118762.13283245359,
          118663.71911591197,
          118564.92750932575
         ],
         "yaxis": "y"
        }
       ],
       "layout": {
        "legend": {
         "tracegroupgap": 0
        },
        "template": {
         "data": {
          "bar": [
           {
            "error_x": {
             "color": "#2a3f5f"
            },
            "error_y": {
             "color": "#2a3f5f"
            },
            "marker": {
             "line": {
              "color": "#E5ECF6",
              "width": 0.5
             },
             "pattern": {
              "fillmode": "overlay",
              "size": 10,
              "solidity": 0.2
             }
            },
            "type": "bar"
           }
          ],
          "barpolar": [
           {
            "marker": {
             "line": {
              "color": "#E5ECF6",
              "width": 0.5
             },
             "pattern": {
              "fillmode": "overlay",
              "size": 10,
              "solidity": 0.2
             }
            },
            "type": "barpolar"
           }
          ],
          "carpet": [
           {
            "aaxis": {
             "endlinecolor": "#2a3f5f",
             "gridcolor": "white",
             "linecolor": "white",
             "minorgridcolor": "white",
             "startlinecolor": "#2a3f5f"
            },
            "baxis": {
             "endlinecolor": "#2a3f5f",
             "gridcolor": "white",
             "linecolor": "white",
             "minorgridcolor": "white",
             "startlinecolor": "#2a3f5f"
            },
            "type": "carpet"
           }
          ],
          "choropleth": [
           {
            "colorbar": {
             "outlinewidth": 0,
             "ticks": ""
            },
            "type": "choropleth"
           }
          ],
          "contour": [
           {
            "colorbar": {
             "outlinewidth": 0,
             "ticks": ""
            },
            "colorscale": [
             [
              0,
              "#0d0887"
             ],
             [
              0.1111111111111111,
              "#46039f"
             ],
             [
              0.2222222222222222,
              "#7201a8"
             ],
             [
              0.3333333333333333,
              "#9c179e"
             ],
             [
              0.4444444444444444,
              "#bd3786"
             ],
             [
              0.5555555555555556,
              "#d8576b"
             ],
             [
              0.6666666666666666,
              "#ed7953"
             ],
             [
              0.7777777777777778,
              "#fb9f3a"
             ],
             [
              0.8888888888888888,
              "#fdca26"
             ],
             [
              1,
              "#f0f921"
             ]
            ],
            "type": "contour"
           }
          ],
          "contourcarpet": [
           {
            "colorbar": {
             "outlinewidth": 0,
             "ticks": ""
            },
            "type": "contourcarpet"
           }
          ],
          "heatmap": [
           {
            "colorbar": {
             "outlinewidth": 0,
             "ticks": ""
            },
            "colorscale": [
             [
              0,
              "#0d0887"
             ],
             [
              0.1111111111111111,
              "#46039f"
             ],
             [
              0.2222222222222222,
              "#7201a8"
             ],
             [
              0.3333333333333333,
              "#9c179e"
             ],
             [
              0.4444444444444444,
              "#bd3786"
             ],
             [
              0.5555555555555556,
              "#d8576b"
             ],
             [
              0.6666666666666666,
              "#ed7953"
             ],
             [
              0.7777777777777778,
              "#fb9f3a"
             ],
             [
              0.8888888888888888,
              "#fdca26"
             ],
             [
              1,
              "#f0f921"
             ]
            ],
            "type": "heatmap"
           }
          ],
          "heatmapgl": [
           {
            "colorbar": {
             "outlinewidth": 0,
             "ticks": ""
            },
            "colorscale": [
             [
              0,
              "#0d0887"
             ],
             [
              0.1111111111111111,
              "#46039f"
             ],
             [
              0.2222222222222222,
              "#7201a8"
             ],
             [
              0.3333333333333333,
              "#9c179e"
             ],
             [
              0.4444444444444444,
              "#bd3786"
             ],
             [
              0.5555555555555556,
              "#d8576b"
             ],
             [
              0.6666666666666666,
              "#ed7953"
             ],
             [
              0.7777777777777778,
              "#fb9f3a"
             ],
             [
              0.8888888888888888,
              "#fdca26"
             ],
             [
              1,
              "#f0f921"
             ]
            ],
            "type": "heatmapgl"
           }
          ],
          "histogram": [
           {
            "marker": {
             "pattern": {
              "fillmode": "overlay",
              "size": 10,
              "solidity": 0.2
             }
            },
            "type": "histogram"
           }
          ],
          "histogram2d": [
           {
            "colorbar": {
             "outlinewidth": 0,
             "ticks": ""
            },
            "colorscale": [
             [
              0,
              "#0d0887"
             ],
             [
              0.1111111111111111,
              "#46039f"
             ],
             [
              0.2222222222222222,
              "#7201a8"
             ],
             [
              0.3333333333333333,
              "#9c179e"
             ],
             [
              0.4444444444444444,
              "#bd3786"
             ],
             [
              0.5555555555555556,
              "#d8576b"
             ],
             [
              0.6666666666666666,
              "#ed7953"
             ],
             [
              0.7777777777777778,
              "#fb9f3a"
             ],
             [
              0.8888888888888888,
              "#fdca26"
             ],
             [
              1,
              "#f0f921"
             ]
            ],
            "type": "histogram2d"
           }
          ],
          "histogram2dcontour": [
           {
            "colorbar": {
             "outlinewidth": 0,
             "ticks": ""
            },
            "colorscale": [
             [
              0,
              "#0d0887"
             ],
             [
              0.1111111111111111,
              "#46039f"
             ],
             [
              0.2222222222222222,
              "#7201a8"
             ],
             [
              0.3333333333333333,
              "#9c179e"
             ],
             [
              0.4444444444444444,
              "#bd3786"
             ],
             [
              0.5555555555555556,
              "#d8576b"
             ],
             [
              0.6666666666666666,
              "#ed7953"
             ],
             [
              0.7777777777777778,
              "#fb9f3a"
             ],
             [
              0.8888888888888888,
              "#fdca26"
             ],
             [
              1,
              "#f0f921"
             ]
            ],
            "type": "histogram2dcontour"
           }
          ],
          "mesh3d": [
           {
            "colorbar": {
             "outlinewidth": 0,
             "ticks": ""
            },
            "type": "mesh3d"
           }
          ],
          "parcoords": [
           {
            "line": {
             "colorbar": {
              "outlinewidth": 0,
              "ticks": ""
             }
            },
            "type": "parcoords"
           }
          ],
          "pie": [
           {
            "automargin": true,
            "type": "pie"
           }
          ],
          "scatter": [
           {
            "fillpattern": {
             "fillmode": "overlay",
             "size": 10,
             "solidity": 0.2
            },
            "type": "scatter"
           }
          ],
          "scatter3d": [
           {
            "line": {
             "colorbar": {
              "outlinewidth": 0,
              "ticks": ""
             }
            },
            "marker": {
             "colorbar": {
              "outlinewidth": 0,
              "ticks": ""
             }
            },
            "type": "scatter3d"
           }
          ],
          "scattercarpet": [
           {
            "marker": {
             "colorbar": {
              "outlinewidth": 0,
              "ticks": ""
             }
            },
            "type": "scattercarpet"
           }
          ],
          "scattergeo": [
           {
            "marker": {
             "colorbar": {
              "outlinewidth": 0,
              "ticks": ""
             }
            },
            "type": "scattergeo"
           }
          ],
          "scattergl": [
           {
            "marker": {
             "colorbar": {
              "outlinewidth": 0,
              "ticks": ""
             }
            },
            "type": "scattergl"
           }
          ],
          "scattermapbox": [
           {
            "marker": {
             "colorbar": {
              "outlinewidth": 0,
              "ticks": ""
             }
            },
            "type": "scattermapbox"
           }
          ],
          "scatterpolar": [
           {
            "marker": {
             "colorbar": {
              "outlinewidth": 0,
              "ticks": ""
             }
            },
            "type": "scatterpolar"
           }
          ],
          "scatterpolargl": [
           {
            "marker": {
             "colorbar": {
              "outlinewidth": 0,
              "ticks": ""
             }
            },
            "type": "scatterpolargl"
           }
          ],
          "scatterternary": [
           {
            "marker": {
             "colorbar": {
              "outlinewidth": 0,
              "ticks": ""
             }
            },
            "type": "scatterternary"
           }
          ],
          "surface": [
           {
            "colorbar": {
             "outlinewidth": 0,
             "ticks": ""
            },
            "colorscale": [
             [
              0,
              "#0d0887"
             ],
             [
              0.1111111111111111,
              "#46039f"
             ],
             [
              0.2222222222222222,
              "#7201a8"
             ],
             [
              0.3333333333333333,
              "#9c179e"
             ],
             [
              0.4444444444444444,
              "#bd3786"
             ],
             [
              0.5555555555555556,
              "#d8576b"
             ],
             [
              0.6666666666666666,
              "#ed7953"
             ],
             [
              0.7777777777777778,
              "#fb9f3a"
             ],
             [
              0.8888888888888888,
              "#fdca26"
             ],
             [
              1,
              "#f0f921"
             ]
            ],
            "type": "surface"
           }
          ],
          "table": [
           {
            "cells": {
             "fill": {
              "color": "#EBF0F8"
             },
             "line": {
              "color": "white"
             }
            },
            "header": {
             "fill": {
              "color": "#C8D4E3"
             },
             "line": {
              "color": "white"
             }
            },
            "type": "table"
           }
          ]
         },
         "layout": {
          "annotationdefaults": {
           "arrowcolor": "#2a3f5f",
           "arrowhead": 0,
           "arrowwidth": 1
          },
          "autotypenumbers": "strict",
          "coloraxis": {
           "colorbar": {
            "outlinewidth": 0,
            "ticks": ""
           }
          },
          "colorscale": {
           "diverging": [
            [
             0,
             "#8e0152"
            ],
            [
             0.1,
             "#c51b7d"
            ],
            [
             0.2,
             "#de77ae"
            ],
            [
             0.3,
             "#f1b6da"
            ],
            [
             0.4,
             "#fde0ef"
            ],
            [
             0.5,
             "#f7f7f7"
            ],
            [
             0.6,
             "#e6f5d0"
            ],
            [
             0.7,
             "#b8e186"
            ],
            [
             0.8,
             "#7fbc41"
            ],
            [
             0.9,
             "#4d9221"
            ],
            [
             1,
             "#276419"
            ]
           ],
           "sequential": [
            [
             0,
             "#0d0887"
            ],
            [
             0.1111111111111111,
             "#46039f"
            ],
            [
             0.2222222222222222,
             "#7201a8"
            ],
            [
             0.3333333333333333,
             "#9c179e"
            ],
            [
             0.4444444444444444,
             "#bd3786"
            ],
            [
             0.5555555555555556,
             "#d8576b"
            ],
            [
             0.6666666666666666,
             "#ed7953"
            ],
            [
             0.7777777777777778,
             "#fb9f3a"
            ],
            [
             0.8888888888888888,
             "#fdca26"
            ],
            [
             1,
             "#f0f921"
            ]
           ],
           "sequentialminus": [
            [
             0,
             "#0d0887"
            ],
            [
             0.1111111111111111,
             "#46039f"
            ],
            [
             0.2222222222222222,
             "#7201a8"
            ],
            [
             0.3333333333333333,
             "#9c179e"
            ],
            [
             0.4444444444444444,
             "#bd3786"
            ],
            [
             0.5555555555555556,
             "#d8576b"
            ],
            [
             0.6666666666666666,
             "#ed7953"
            ],
            [
             0.7777777777777778,
             "#fb9f3a"
            ],
            [
             0.8888888888888888,
             "#fdca26"
            ],
            [
             1,
             "#f0f921"
            ]
           ]
          },
          "colorway": [
           "#636efa",
           "#EF553B",
           "#00cc96",
           "#ab63fa",
           "#FFA15A",
           "#19d3f3",
           "#FF6692",
           "#B6E880",
           "#FF97FF",
           "#FECB52"
          ],
          "font": {
           "color": "#2a3f5f"
          },
          "geo": {
           "bgcolor": "white",
           "lakecolor": "white",
           "landcolor": "#E5ECF6",
           "showlakes": true,
           "showland": true,
           "subunitcolor": "white"
          },
          "hoverlabel": {
           "align": "left"
          },
          "hovermode": "closest",
          "mapbox": {
           "style": "light"
          },
          "paper_bgcolor": "white",
          "plot_bgcolor": "#E5ECF6",
          "polar": {
           "angularaxis": {
            "gridcolor": "white",
            "linecolor": "white",
            "ticks": ""
           },
           "bgcolor": "#E5ECF6",
           "radialaxis": {
            "gridcolor": "white",
            "linecolor": "white",
            "ticks": ""
           }
          },
          "scene": {
           "xaxis": {
            "backgroundcolor": "#E5ECF6",
            "gridcolor": "white",
            "gridwidth": 2,
            "linecolor": "white",
            "showbackground": true,
            "ticks": "",
            "zerolinecolor": "white"
           },
           "yaxis": {
            "backgroundcolor": "#E5ECF6",
            "gridcolor": "white",
            "gridwidth": 2,
            "linecolor": "white",
            "showbackground": true,
            "ticks": "",
            "zerolinecolor": "white"
           },
           "zaxis": {
            "backgroundcolor": "#E5ECF6",
            "gridcolor": "white",
            "gridwidth": 2,
            "linecolor": "white",
            "showbackground": true,
            "ticks": "",
            "zerolinecolor": "white"
           }
          },
          "shapedefaults": {
           "line": {
            "color": "#2a3f5f"
           }
          },
          "ternary": {
           "aaxis": {
            "gridcolor": "white",
            "linecolor": "white",
            "ticks": ""
           },
           "baxis": {
            "gridcolor": "white",
            "linecolor": "white",
            "ticks": ""
           },
           "bgcolor": "#E5ECF6",
           "caxis": {
            "gridcolor": "white",
            "linecolor": "white",
            "ticks": ""
           }
          },
          "title": {
           "x": 0.05
          },
          "xaxis": {
           "automargin": true,
           "gridcolor": "white",
           "linecolor": "white",
           "ticks": "",
           "title": {
            "standoff": 15
           },
           "zerolinecolor": "white",
           "zerolinewidth": 2
          },
          "yaxis": {
           "automargin": true,
           "gridcolor": "white",
           "linecolor": "white",
           "ticks": "",
           "title": {
            "standoff": 15
           },
           "zerolinecolor": "white",
           "zerolinewidth": 2
          }
         }
        },
        "title": {
         "text": "Salamanca"
        },
        "xaxis": {
         "anchor": "y",
         "domain": [
          0,
          1
         ],
         "title": {
          "text": "price"
         }
        },
        "yaxis": {
         "anchor": "x",
         "domain": [
          0,
          1
         ],
         "title": {
          "text": "income"
         }
        }
       }
      },
      "text/html": [
       "<div>                            <div id=\"9acac5a7-d675-45dc-b75f-0c0c4393845f\" class=\"plotly-graph-div\" style=\"height:525px; width:100%;\"></div>            <script type=\"text/javascript\">                require([\"plotly\"], function(Plotly) {                    window.PLOTLYENV=window.PLOTLYENV || {};                                    if (document.getElementById(\"9acac5a7-d675-45dc-b75f-0c0c4393845f\")) {                    Plotly.newPlot(                        \"9acac5a7-d675-45dc-b75f-0c0c4393845f\",                        [{\"hovertemplate\":\"price=%{x}<br>income=%{y}<extra></extra>\",\"legendgroup\":\"\",\"marker\":{\"color\":\"#636efa\",\"symbol\":\"circle\"},\"mode\":\"markers\",\"name\":\"\",\"orientation\":\"v\",\"showlegend\":false,\"x\":[10.0,11.0,12.0,13.0,14.000000000000002,15.0,16.0,17.0,18.0,19.0,20.0,21.0,22.0,23.0,24.0,25.0,26.0,27.0,28.000000000000004,28.999999999999996,30.0,31.0,32.0,33.0,34.0,35.0,36.0,37.0,38.0,39.0,40.0,41.0,42.0,43.0,44.0,45.0,46.0,47.0,48.0,49.0,50.0,51.0,52.0,53.0,54.0,55.00000000000001,56.00000000000001,56.99999999999999,57.99999999999999,59.0,60.0,61.0,62.0,63.0,64.0,65.0,66.0,67.0,68.0,69.0,70.0,71.0,72.0,73.0,74.0,75.0,76.0,77.0,78.0,79.0,80.0,81.0,82.0,83.0,84.0,85.0,86.0,87.0,88.0,89.0,90.0,91.0,92.0,93.0,94.0,95.0,96.0,97.0,98.0,99.0,100.0,101.0,102.0,103.0,104.0,105.0,106.0,107.0,108.0,109.00000000000001,110.00000000000001,111.00000000000001,112.00000000000001,112.99999999999999,113.99999999999999,114.99999999999999,115.99999999999999,117.0,118.0,119.0,120.0,121.0,122.0,123.0,124.0,125.0,126.0,127.0,128.0,129.0,130.0,131.0,132.0,133.0,134.0,135.0,136.0,137.0,138.0,139.0,140.0,141.0,142.0,143.0,144.0,145.0,146.0,147.0,148.0,149.0,150.0,151.0,152.0,153.0,154.0,155.0,156.0,157.0,158.0,159.0,160.0,161.0,162.0,163.0,164.0,165.0,166.0,167.0,168.0,169.0,170.0,171.0,172.0,173.0,174.0,175.0,176.0,177.0,178.0,179.0,180.0,181.0,182.0,183.0,184.0,185.0,186.0,187.0,188.0,189.0,190.0,191.0,192.0,193.0,194.0,195.0,196.0,197.0,198.0,199.0,200.0,200.99999999999997,202.0,202.99999999999997,204.0,204.99999999999997,206.0,206.99999999999997,208.0,209.0,210.0,211.0,212.0,213.0,214.0,215.0,216.0,217.0,218.00000000000003,219.0,220.00000000000003,221.0,222.00000000000003,223.0,224.00000000000003,225.0,225.99999999999997,227.0,227.99999999999997,229.0,229.99999999999997,231.0,231.99999999999997,233.0,234.0,235.0,236.0,237.0,238.0,239.0,240.0,241.0,242.0,243.00000000000003,244.0,245.00000000000003,246.0,247.00000000000003,248.0,249.00000000000003,250.0,250.99999999999997,252.0,252.99999999999997,254.0,254.99999999999997,256.0,257.0,258.0,259.0,260.0,261.0,262.0,263.0,264.0,265.0,266.0,267.0,268.0,269.0,270.0,271.0,272.0,273.0,274.0,275.0,276.0,277.0,278.0,279.0,280.0,281.0,282.0,283.0,284.0,285.0,286.0,287.0,288.0,289.0,290.0,291.0,292.0,293.0,294.0,295.0,296.0,297.0,298.0,299.0,300.0,301.0,302.0,303.0,304.0,305.0,306.0,307.0,308.0,309.0,310.0,311.0,312.0,313.0,314.0,315.0,316.0,317.0,318.0,319.0,320.0,321.0,322.0,323.0,324.0,325.0,326.0,327.0,328.0,329.0,330.0,331.0,332.0,333.0,334.0,335.0,336.0,337.0,338.0,339.0,340.0,341.0,342.0,343.0,344.0,345.0,346.0,347.0,348.0,349.0,350.0,351.0,352.0,353.0,354.0,355.0,356.0,357.0,358.0,359.0,360.0,361.0,362.0,363.0,364.0,365.0,366.0,367.0,368.0,369.0,370.0,371.0,372.0,373.0,374.0,375.0,376.0,377.0,378.0,379.0,380.0,381.0,382.0,383.0,384.0,385.0,386.0,387.0,388.0,389.0,390.0,391.0,392.0,393.0,394.0,395.0,396.0,397.0,398.0,399.0,400.0,401.0,401.99999999999994,403.0,404.0,405.0,405.99999999999994,407.0,408.0,409.0,409.99999999999994,411.00000000000006,412.0,413.0,413.99999999999994,415.00000000000006,416.0,417.0,418.0,419.00000000000006,420.0,421.0,422.0,423.00000000000006,424.0,425.0,426.0,426.99999999999994,428.0,429.0,430.0,430.99999999999994,432.0,433.0,434.0,434.99999999999994,436.00000000000006,437.0,438.0,438.99999999999994,440.00000000000006,441.0,442.0,443.0,444.00000000000006,445.0,446.0,447.0,448.00000000000006,449.0,450.0,451.0,451.99999999999994,453.0,454.0,455.0,455.99999999999994,457.0,458.0,459.0,459.99999999999994,461.00000000000006,462.0,463.0,463.99999999999994,465.00000000000006,466.0,467.0,468.0,469.00000000000006,470.0,471.0,472.0,473.00000000000006,474.0,475.0,476.0,476.99999999999994,478.0,479.0,480.0,480.99999999999994,482.0,483.0,484.0,484.99999999999994,486.00000000000006,487.0,488.0,488.99999999999994,490.00000000000006,491.0,492.0,493.0,494.00000000000006,495.0,496.0,497.0,498.00000000000006,499.0,500.0,501.0,501.99999999999994,503.0,504.0,505.0,505.99999999999994,507.0,508.0,509.0],\"xaxis\":\"x\",\"y\":[9417.06357890075,10329.811631498023,11237.382851089164,12139.799048569992,13037.081953347151,13929.253213623182,14816.334396680824,15698.346989166159,16575.312397371014,17447.251947514185,18314.186886021995,19176.13837980758,20033.127516549557,20885.175304969573,21732.30267510886,22574.53047860412,23411.879488962175,24244.37040183397,25072.023835287393,25894.86033007944,26712.90034992722,27526.164281778274,28334.672436079753,29138.445047046956,29937.50227293065,30731.864196283863,31521.550824227357,32306.58208871466,33086.97784679574,33862.757880880265,34633.9418989995,35400.54953506781,36162.600349142784,36920.11382768496,37673.10938381624,38421.60635757786,39165.62401618713,39905.18155429341,40640.29809423349,41370.992686285594,42097.28430892314,42819.191869067,43536.73420233754,44249.93007330526,44958.79817574105,45663.3571328652,46363.62549759594,47059.62175279674,47751.364311523306,48438.8715172691,49122.161644210675,49801.252897451566,50476.16341326605,51146.91125934125,51813.514435019344,52475.990871538044,53134.35843227108,53788.63491296732,54438.838041989155,55084.98548055049,55727.09482295329,56365.18359682399,56999.269263348455,57629.36921750682,58255.500788306825,58877.68123901711,59495.92776739897,60110.25750593806,60720.68752207457,61327.23481843343,61929.91633305287,62528.7489396131,63123.749447663315,63714.93460284887,64302.32108713671,64885.925519041004,65465.764453847085,66041.85438383551,66614.21173850475,67182.85288479316,67747.79412730077,68309.05170850943,68866.64180900318,69420.58054768693,69970.8839820053,70517.56810815983,71060.64886132636,71600.14211587084,72136.06368556507,72668.42932380112,73197.25472380575,73722.5555188532,74244.34728247827,74762.64552868757,75277.46571217128,75788.8232285129,76296.73341439952,76801.21154783033,77302.27284832524,77799.93247713233,78294.20553743445,78785.10707455593,79272.6520761674,79756.8554724912,80237.73213650486,80715.29688414498,81189.56447450943,81660.54961005991,82128.26693682262,82592.73104458959,83053.95646711794,83511.95768232983,83966.74911251038,84418.34512450626,84866.76002992231,85312.00808531872,85754.10349240636,86193.06039824261,86628.89289542538,87061.6150222875,87491.24076308987,87917.78404821368,88341.2587543531,88761.67870470573,89179.05766916416,89593.40936450507,90004.74745457942,90413.08555050044,90818.43721083237,91220.81594177723,91620.23519736227,92016.70837962556,92410.24883880207,92800.86987350794,93188.58473092542,93573.40660698588,93955.34864655345,94334.42394360677,94710.64554142143,95084.02643275047,95454.57956000546,95822.31781543622,96187.25404130996,96549.40103009016,96908.77152461474,97265.37821827356,97619.23375518483,97970.35073037217,98318.74168993955,98664.41913124695,99007.39550308432,99347.68320584604,99685.29459170364,100020.24196477904,100352.53758131614,100682.19364985291,101009.22233139175,101333.63573957048,101655.44594083146,101974.66495459146,102291.30475340955,102605.37726315603,102916.89436317897,103225.86788647197,103532.30961983977,103836.23130406455,104137.64463407101,104436.5612590906,104732.99278282635,105026.95076361552,105318.44671459342,105607.49210385502,105894.09835461756,106178.27684538103,106460.03891008972,106739.39583829166,107016.35887529903,107290.93922234648,107563.14803675038,107832.99643206625,108100.49547824681,108365.65620179827,108628.48958593738,108889.00657074674,109147.21805333064,109403.13488796921,109656.76788627348,109908.12781733855,110157.22540789684,110404.0713424712,110648.6762635264,110891.05077162165,111131.20542556078,111369.1507425437,111604.89719831578,111838.45522731812,112069.8352228359,112299.0475371476,112526.10248167255,112751.0103271189,112973.78130363008,113194.42560093211,113412.95336847876,113629.37471559797,113843.69971163601,114055.93838610285,114266.10072881536,114474.19669004157,114680.2361806435,114884.22907221934,115086.18519724597,115286.11434922046,115484.02628280125,115679.9307139482,115873.8373200637,116065.75574013118,116255.69557485543,116443.66638680031,116629.6777005277,116813.73900273461,116995.85974239116,117176.04933087657,117354.3171421163,117530.67251271717,117705.12474210339,117877.68309265091,118048.35678982249,118217.15502230097,118384.08694212357,118549.16166481459,118712.38826951782,118873.77579912901,119033.33326042767,119191.06962420822,119346.99382541035,119501.11476325034,119653.44130134987,119803.98226786651,119952.74645562176,120099.74262223062,120244.97949022867,120388.46574720083,120530.21004590759,120670.2210044127,120808.50720620881,120945.07720034404,121079.93950154688,121213.1025903519,121344.57491322368,121474.36488268172,121602.48087742386,121728.93124244949,121853.72428918265,121976.86829559473,122098.37150632642,122218.24213280901,122336.48835338632,122453.11831343474,122568.1401254845,122681.56186933877,122793.39159219408,122903.63730875865,123012.30700137206,123119.40862012259,123224.95008296618,123328.93927584295,123431.3840527953,123532.29223608368,123631.67161630382,123729.52995250175,123825.87497229016,123920.71437196269,124014.05581660949,124105.90694023063,124196.27534585088,124285.1686056328,124372.59426098962,124458.55982269869,124543.07277101302,124626.14055577411,124707.77059652259,124787.97028261039,124866.74697331052,124944.10799792856,125020.06065591164,125094.61221695914,125167.76992113097,125239.54097895732,125309.93257154651,125378.9518506938,125446.60593898836,125512.90192992162,125577.84688799325,125641.44784881889,125703.71181923544,125764.64577740774,125824.25667293386,125882.55142694998,125939.53693223555,125995.22005331784,126049.60762657586,126102.70646034382,126154.52333501514,126205.06500314479,126254.33818955258,126302.34959142475,126349.10587841677,126394.61369275395,126438.87964933374,126481.91033582555,126523.71231277227,126564.29211368956,126603.65624516644,126641.81118696445,126678.76339211658,126714.51928702636,126749.0852715664,126782.46771917636,126814.67297696054,126845.70736578549,126875.57718037731,126904.2886894182,126931.84813564258,126958.26173593389,126983.53568141951,127007.67613756706,127030.6892442785,127052.58111598591,127073.35784174498,127093.02548532991,127111.59008532637,127129.05765522589,127145.4341835179,127160.72563378344,127174.9379447873,127188.07703056988,127200.1487805392,127211.15905956276,127221.11370805837,127230.01854208476,127237.87935343286,127244.7019097152,127250.49195445661,127255.2552071831,127258.9973635119,127261.72409523957,127263.44105043159,127264.15385350991,127263.8681053417,127262.58938332638,127260.32324148383,127257.0752105407,127252.85079801812,127247.65548831728,127241.49474280648,127234.37399990678,127226.29867517717,127217.27416140039,127207.305828668,127196.39902446495,127184.55907375374,127171.79127905879,127158.1009205506,127143.49325612883,127127.97352150548,127111.54693028855,127094.21867406367,127075.9939224776,127056.87782331929,127036.87550260259,127015.99206464693,126994.23259215939,126971.60214631478,126948.1057668372,126923.74847207955,126898.53525910433,126872.47110376325,126845.56096077642,126817.8097638119,126789.2224255649,126759.8038378363,126729.55887161073,126698.49237713509,126666.6091839966,126633.91410120012,126600.41191724528,126566.10740020416,126531.00529779737,126495.11033747127,126458.42722647356,126420.96065192993,126382.715280919,126343.69576054868,126303.90671803047,126263.35276075512,126222.03847636665,126179.96843283741,126137.14717854149,126093.57924232938,126049.26913360073,126004.22134237857,125958.44033938168,125911.9305760979,125864.6964848564,125816.74247890034,125768.07295245887,125718.6922808183,125668.60482039489,125617.81490880488,125566.32686493674,125514.14498902079,125461.27356270095,125407.71684910398,125353.4790929104,125298.56452042394,125242.97733964087,125186.72174031968,125129.80189405031,125072.22195432242,125013.98605659459,124955.09831836211,124895.56283922575,124835.38370095892,124774.56496757595,124713.11068539883,124651.02488312511,124588.31157189434,124524.97474535453,124461.01837972943,124396.44643388366,124331.26284938991,124265.47155059327,124199.07644467826,124132.08142173273,124064.49035481394,123996.30710001294,123927.53549651902,123858.17936668421,123788.24251608772,123717.72873359949,123646.64179144386,123574.98544526308,123502.7634341809,123429.9794808649,123356.63729158997,123282.74055630024,123208.29294867188,123133.2981261753,123057.75973013641,122981.68138579873,122905.06670238507,122827.91927315861,122750.24267548337,122672.04047088599,122593.31620511539,122514.07340820407,122434.31559452724,122354.04626286389,122273.26889645541,122191.98696306607,122110.20391504181,122027.92318936938,121945.14820773526,121861.88237658462,121778.12908717949,121693.89171565707,121609.1736230877,121523.97815553308,121438.30864410376,121352.16840501621,121265.56073965042,121178.48893460701,121090.95626176408,121002.9659783332,120914.52132691686,120825.6255355637,120736.2818178255,120646.49337281194,120556.2633852474,120465.59502552522,120374.491449764,120282.95579986196,120190.99120355186,120098.60077445576,120005.78761213963,119912.55480216743,119818.90541615504,119724.8425118242,119630.36913305655,119535.48830994671,119440.20305885562,119344.5163824636,119248.43126982366,119151.95069641397,119055.07762419,118957.8150016377,118860.16576382479,118762.13283245359,118663.71911591197,118564.92750932575],\"yaxis\":\"y\",\"type\":\"scatter\"}],                        {\"template\":{\"data\":{\"histogram2dcontour\":[{\"type\":\"histogram2dcontour\",\"colorbar\":{\"outlinewidth\":0,\"ticks\":\"\"},\"colorscale\":[[0.0,\"#0d0887\"],[0.1111111111111111,\"#46039f\"],[0.2222222222222222,\"#7201a8\"],[0.3333333333333333,\"#9c179e\"],[0.4444444444444444,\"#bd3786\"],[0.5555555555555556,\"#d8576b\"],[0.6666666666666666,\"#ed7953\"],[0.7777777777777778,\"#fb9f3a\"],[0.8888888888888888,\"#fdca26\"],[1.0,\"#f0f921\"]]}],\"choropleth\":[{\"type\":\"choropleth\",\"colorbar\":{\"outlinewidth\":0,\"ticks\":\"\"}}],\"histogram2d\":[{\"type\":\"histogram2d\",\"colorbar\":{\"outlinewidth\":0,\"ticks\":\"\"},\"colorscale\":[[0.0,\"#0d0887\"],[0.1111111111111111,\"#46039f\"],[0.2222222222222222,\"#7201a8\"],[0.3333333333333333,\"#9c179e\"],[0.4444444444444444,\"#bd3786\"],[0.5555555555555556,\"#d8576b\"],[0.6666666666666666,\"#ed7953\"],[0.7777777777777778,\"#fb9f3a\"],[0.8888888888888888,\"#fdca26\"],[1.0,\"#f0f921\"]]}],\"heatmap\":[{\"type\":\"heatmap\",\"colorbar\":{\"outlinewidth\":0,\"ticks\":\"\"},\"colorscale\":[[0.0,\"#0d0887\"],[0.1111111111111111,\"#46039f\"],[0.2222222222222222,\"#7201a8\"],[0.3333333333333333,\"#9c179e\"],[0.4444444444444444,\"#bd3786\"],[0.5555555555555556,\"#d8576b\"],[0.6666666666666666,\"#ed7953\"],[0.7777777777777778,\"#fb9f3a\"],[0.8888888888888888,\"#fdca26\"],[1.0,\"#f0f921\"]]}],\"heatmapgl\":[{\"type\":\"heatmapgl\",\"colorbar\":{\"outlinewidth\":0,\"ticks\":\"\"},\"colorscale\":[[0.0,\"#0d0887\"],[0.1111111111111111,\"#46039f\"],[0.2222222222222222,\"#7201a8\"],[0.3333333333333333,\"#9c179e\"],[0.4444444444444444,\"#bd3786\"],[0.5555555555555556,\"#d8576b\"],[0.6666666666666666,\"#ed7953\"],[0.7777777777777778,\"#fb9f3a\"],[0.8888888888888888,\"#fdca26\"],[1.0,\"#f0f921\"]]}],\"contourcarpet\":[{\"type\":\"contourcarpet\",\"colorbar\":{\"outlinewidth\":0,\"ticks\":\"\"}}],\"contour\":[{\"type\":\"contour\",\"colorbar\":{\"outlinewidth\":0,\"ticks\":\"\"},\"colorscale\":[[0.0,\"#0d0887\"],[0.1111111111111111,\"#46039f\"],[0.2222222222222222,\"#7201a8\"],[0.3333333333333333,\"#9c179e\"],[0.4444444444444444,\"#bd3786\"],[0.5555555555555556,\"#d8576b\"],[0.6666666666666666,\"#ed7953\"],[0.7777777777777778,\"#fb9f3a\"],[0.8888888888888888,\"#fdca26\"],[1.0,\"#f0f921\"]]}],\"surface\":[{\"type\":\"surface\",\"colorbar\":{\"outlinewidth\":0,\"ticks\":\"\"},\"colorscale\":[[0.0,\"#0d0887\"],[0.1111111111111111,\"#46039f\"],[0.2222222222222222,\"#7201a8\"],[0.3333333333333333,\"#9c179e\"],[0.4444444444444444,\"#bd3786\"],[0.5555555555555556,\"#d8576b\"],[0.6666666666666666,\"#ed7953\"],[0.7777777777777778,\"#fb9f3a\"],[0.8888888888888888,\"#fdca26\"],[1.0,\"#f0f921\"]]}],\"mesh3d\":[{\"type\":\"mesh3d\",\"colorbar\":{\"outlinewidth\":0,\"ticks\":\"\"}}],\"scatter\":[{\"fillpattern\":{\"fillmode\":\"overlay\",\"size\":10,\"solidity\":0.2},\"type\":\"scatter\"}],\"parcoords\":[{\"type\":\"parcoords\",\"line\":{\"colorbar\":{\"outlinewidth\":0,\"ticks\":\"\"}}}],\"scatterpolargl\":[{\"type\":\"scatterpolargl\",\"marker\":{\"colorbar\":{\"outlinewidth\":0,\"ticks\":\"\"}}}],\"bar\":[{\"error_x\":{\"color\":\"#2a3f5f\"},\"error_y\":{\"color\":\"#2a3f5f\"},\"marker\":{\"line\":{\"color\":\"#E5ECF6\",\"width\":0.5},\"pattern\":{\"fillmode\":\"overlay\",\"size\":10,\"solidity\":0.2}},\"type\":\"bar\"}],\"scattergeo\":[{\"type\":\"scattergeo\",\"marker\":{\"colorbar\":{\"outlinewidth\":0,\"ticks\":\"\"}}}],\"scatterpolar\":[{\"type\":\"scatterpolar\",\"marker\":{\"colorbar\":{\"outlinewidth\":0,\"ticks\":\"\"}}}],\"histogram\":[{\"marker\":{\"pattern\":{\"fillmode\":\"overlay\",\"size\":10,\"solidity\":0.2}},\"type\":\"histogram\"}],\"scattergl\":[{\"type\":\"scattergl\",\"marker\":{\"colorbar\":{\"outlinewidth\":0,\"ticks\":\"\"}}}],\"scatter3d\":[{\"type\":\"scatter3d\",\"line\":{\"colorbar\":{\"outlinewidth\":0,\"ticks\":\"\"}},\"marker\":{\"colorbar\":{\"outlinewidth\":0,\"ticks\":\"\"}}}],\"scattermapbox\":[{\"type\":\"scattermapbox\",\"marker\":{\"colorbar\":{\"outlinewidth\":0,\"ticks\":\"\"}}}],\"scatterternary\":[{\"type\":\"scatterternary\",\"marker\":{\"colorbar\":{\"outlinewidth\":0,\"ticks\":\"\"}}}],\"scattercarpet\":[{\"type\":\"scattercarpet\",\"marker\":{\"colorbar\":{\"outlinewidth\":0,\"ticks\":\"\"}}}],\"carpet\":[{\"aaxis\":{\"endlinecolor\":\"#2a3f5f\",\"gridcolor\":\"white\",\"linecolor\":\"white\",\"minorgridcolor\":\"white\",\"startlinecolor\":\"#2a3f5f\"},\"baxis\":{\"endlinecolor\":\"#2a3f5f\",\"gridcolor\":\"white\",\"linecolor\":\"white\",\"minorgridcolor\":\"white\",\"startlinecolor\":\"#2a3f5f\"},\"type\":\"carpet\"}],\"table\":[{\"cells\":{\"fill\":{\"color\":\"#EBF0F8\"},\"line\":{\"color\":\"white\"}},\"header\":{\"fill\":{\"color\":\"#C8D4E3\"},\"line\":{\"color\":\"white\"}},\"type\":\"table\"}],\"barpolar\":[{\"marker\":{\"line\":{\"color\":\"#E5ECF6\",\"width\":0.5},\"pattern\":{\"fillmode\":\"overlay\",\"size\":10,\"solidity\":0.2}},\"type\":\"barpolar\"}],\"pie\":[{\"automargin\":true,\"type\":\"pie\"}]},\"layout\":{\"autotypenumbers\":\"strict\",\"colorway\":[\"#636efa\",\"#EF553B\",\"#00cc96\",\"#ab63fa\",\"#FFA15A\",\"#19d3f3\",\"#FF6692\",\"#B6E880\",\"#FF97FF\",\"#FECB52\"],\"font\":{\"color\":\"#2a3f5f\"},\"hovermode\":\"closest\",\"hoverlabel\":{\"align\":\"left\"},\"paper_bgcolor\":\"white\",\"plot_bgcolor\":\"#E5ECF6\",\"polar\":{\"bgcolor\":\"#E5ECF6\",\"angularaxis\":{\"gridcolor\":\"white\",\"linecolor\":\"white\",\"ticks\":\"\"},\"radialaxis\":{\"gridcolor\":\"white\",\"linecolor\":\"white\",\"ticks\":\"\"}},\"ternary\":{\"bgcolor\":\"#E5ECF6\",\"aaxis\":{\"gridcolor\":\"white\",\"linecolor\":\"white\",\"ticks\":\"\"},\"baxis\":{\"gridcolor\":\"white\",\"linecolor\":\"white\",\"ticks\":\"\"},\"caxis\":{\"gridcolor\":\"white\",\"linecolor\":\"white\",\"ticks\":\"\"}},\"coloraxis\":{\"colorbar\":{\"outlinewidth\":0,\"ticks\":\"\"}},\"colorscale\":{\"sequential\":[[0.0,\"#0d0887\"],[0.1111111111111111,\"#46039f\"],[0.2222222222222222,\"#7201a8\"],[0.3333333333333333,\"#9c179e\"],[0.4444444444444444,\"#bd3786\"],[0.5555555555555556,\"#d8576b\"],[0.6666666666666666,\"#ed7953\"],[0.7777777777777778,\"#fb9f3a\"],[0.8888888888888888,\"#fdca26\"],[1.0,\"#f0f921\"]],\"sequentialminus\":[[0.0,\"#0d0887\"],[0.1111111111111111,\"#46039f\"],[0.2222222222222222,\"#7201a8\"],[0.3333333333333333,\"#9c179e\"],[0.4444444444444444,\"#bd3786\"],[0.5555555555555556,\"#d8576b\"],[0.6666666666666666,\"#ed7953\"],[0.7777777777777778,\"#fb9f3a\"],[0.8888888888888888,\"#fdca26\"],[1.0,\"#f0f921\"]],\"diverging\":[[0,\"#8e0152\"],[0.1,\"#c51b7d\"],[0.2,\"#de77ae\"],[0.3,\"#f1b6da\"],[0.4,\"#fde0ef\"],[0.5,\"#f7f7f7\"],[0.6,\"#e6f5d0\"],[0.7,\"#b8e186\"],[0.8,\"#7fbc41\"],[0.9,\"#4d9221\"],[1,\"#276419\"]]},\"xaxis\":{\"gridcolor\":\"white\",\"linecolor\":\"white\",\"ticks\":\"\",\"title\":{\"standoff\":15},\"zerolinecolor\":\"white\",\"automargin\":true,\"zerolinewidth\":2},\"yaxis\":{\"gridcolor\":\"white\",\"linecolor\":\"white\",\"ticks\":\"\",\"title\":{\"standoff\":15},\"zerolinecolor\":\"white\",\"automargin\":true,\"zerolinewidth\":2},\"scene\":{\"xaxis\":{\"backgroundcolor\":\"#E5ECF6\",\"gridcolor\":\"white\",\"linecolor\":\"white\",\"showbackground\":true,\"ticks\":\"\",\"zerolinecolor\":\"white\",\"gridwidth\":2},\"yaxis\":{\"backgroundcolor\":\"#E5ECF6\",\"gridcolor\":\"white\",\"linecolor\":\"white\",\"showbackground\":true,\"ticks\":\"\",\"zerolinecolor\":\"white\",\"gridwidth\":2},\"zaxis\":{\"backgroundcolor\":\"#E5ECF6\",\"gridcolor\":\"white\",\"linecolor\":\"white\",\"showbackground\":true,\"ticks\":\"\",\"zerolinecolor\":\"white\",\"gridwidth\":2}},\"shapedefaults\":{\"line\":{\"color\":\"#2a3f5f\"}},\"annotationdefaults\":{\"arrowcolor\":\"#2a3f5f\",\"arrowhead\":0,\"arrowwidth\":1},\"geo\":{\"bgcolor\":\"white\",\"landcolor\":\"#E5ECF6\",\"subunitcolor\":\"white\",\"showland\":true,\"showlakes\":true,\"lakecolor\":\"white\"},\"title\":{\"x\":0.05},\"mapbox\":{\"style\":\"light\"}}},\"xaxis\":{\"anchor\":\"y\",\"domain\":[0.0,1.0],\"title\":{\"text\":\"price\"}},\"yaxis\":{\"anchor\":\"x\",\"domain\":[0.0,1.0],\"title\":{\"text\":\"income\"}},\"legend\":{\"tracegroupgap\":0},\"title\":{\"text\":\"Salamanca\"}},                        {\"responsive\": true}                    ).then(function(){\n",
       "                            \n",
       "var gd = document.getElementById('9acac5a7-d675-45dc-b75f-0c0c4393845f');\n",
       "var x = new MutationObserver(function (mutations, observer) {{\n",
       "        var display = window.getComputedStyle(gd).display;\n",
       "        if (!display || display === 'none') {{\n",
       "            console.log([gd, 'removed!']);\n",
       "            Plotly.purge(gd);\n",
       "            observer.disconnect();\n",
       "        }}\n",
       "}});\n",
       "\n",
       "// Listen for the removal of the full notebook cells\n",
       "var notebookContainer = gd.closest('#notebook-container');\n",
       "if (notebookContainer) {{\n",
       "    x.observe(notebookContainer, {childList: true});\n",
       "}}\n",
       "\n",
       "// Listen for the clearing of the current output cell\n",
       "var outputEl = gd.closest('.output');\n",
       "if (outputEl) {{\n",
       "    x.observe(outputEl, {childList: true});\n",
       "}}\n",
       "\n",
       "                        })                };                });            </script>        </div>"
      ]
     },
     "metadata": {},
     "output_type": "display_data"
    },
    {
     "data": {
      "text/html": [
       "<div>\n",
       "<style scoped>\n",
       "    .dataframe tbody tr th:only-of-type {\n",
       "        vertical-align: middle;\n",
       "    }\n",
       "\n",
       "    .dataframe tbody tr th {\n",
       "        vertical-align: top;\n",
       "    }\n",
       "\n",
       "    .dataframe thead th {\n",
       "        text-align: right;\n",
       "    }\n",
       "</style>\n",
       "<table border=\"1\" class=\"dataframe\">\n",
       "  <thead>\n",
       "    <tr style=\"text-align: right;\">\n",
       "      <th></th>\n",
       "      <th>price</th>\n",
       "      <th>demand</th>\n",
       "      <th>income</th>\n",
       "    </tr>\n",
       "  </thead>\n",
       "  <tbody>\n",
       "    <tr>\n",
       "      <th>347</th>\n",
       "      <td>357.0</td>\n",
       "      <td>356.482224</td>\n",
       "      <td>127264.153854</td>\n",
       "    </tr>\n",
       "  </tbody>\n",
       "</table>\n",
       "</div>"
      ],
      "text/plain": [
       "     price      demand         income\n",
       "347  357.0  356.482224  127264.153854"
      ]
     },
     "metadata": {},
     "output_type": "display_data"
    },
    {
     "name": "stdout",
     "output_type": "stream",
     "text": [
      "CPU times: user 5.99 s, sys: 686 ms, total: 6.68 s\n",
      "Wall time: 6.68 s\n"
     ]
    },
    {
     "data": {
      "text/plain": [
       "{'barrio': 'Salamanca',\n",
       " 'optimo': 357.0,\n",
       " 'params': {'theta_1': -0.27994499390113986, 'theta_0': 6.8756880033860215},\n",
       " 'converge': True,\n",
       " 'describe': {'count_': {'count': 366.0,\n",
       "   'mean': 601.5300546448087,\n",
       "   'std': 76.65888093202528,\n",
       "   'min': 18.0,\n",
       "   '25%': 557.0,\n",
       "   '50%': 584.0,\n",
       "   '75%': 655.75,\n",
       "   'max': 761.0},\n",
       "  'avg_price': {'count': 366.0,\n",
       "   'mean': 1.7036343262801534,\n",
       "   'std': 0.13609348083158262,\n",
       "   'min': 1.3516666666666666,\n",
       "   '25%': 1.6165646320886216,\n",
       "   '50%': 1.6719499105545617,\n",
       "   '75%': 1.7694378462313245,\n",
       "   'max': 2.3476344086021506}},\n",
       " 'average': 1.7036343262801534}"
      ]
     },
     "execution_count": 17,
     "metadata": {},
     "output_type": "execute_result"
    }
   ],
   "source": [
    "%%time\n",
    "\n",
    "# Salamanca\n",
    "\n",
    "data=extract_data(available='t', lower=24, upper=10000)\n",
    "\n",
    "neighbourhood(data, 'Salamanca')"
   ]
  },
  {
   "cell_type": "markdown",
   "id": "cce7e4ba",
   "metadata": {},
   "source": [
    "**Latina**"
   ]
  },
  {
   "cell_type": "code",
   "execution_count": 31,
   "id": "ce0b535e",
   "metadata": {
    "scrolled": false
   },
   "outputs": [
    {
     "name": "stdout",
     "output_type": "stream",
     "text": [
      "Latina\n"
     ]
    },
    {
     "data": {
      "application/vnd.plotly.v1+json": {
       "config": {
        "plotlyServerURL": "https://plot.ly"
       },
       "data": [
        {
         "hovertemplate": "date=%{x}<br>count_=%{y}<extra></extra>",
         "legendgroup": "",
         "marker": {
          "color": "#636efa",
          "symbol": "circle"
         },
         "mode": "markers",
         "name": "",
         "orientation": "v",
         "showlegend": false,
         "type": "scatter",
         "x": [
          "2020-01-10T00:00:00",
          "2020-01-11T00:00:00",
          "2020-01-12T00:00:00",
          "2020-01-13T00:00:00",
          "2020-01-14T00:00:00",
          "2020-01-15T00:00:00",
          "2020-01-16T00:00:00",
          "2020-01-17T00:00:00",
          "2020-01-18T00:00:00",
          "2020-01-19T00:00:00",
          "2020-01-20T00:00:00",
          "2020-01-21T00:00:00",
          "2020-01-22T00:00:00",
          "2020-01-23T00:00:00",
          "2020-01-24T00:00:00",
          "2020-01-25T00:00:00",
          "2020-01-26T00:00:00",
          "2020-01-27T00:00:00",
          "2020-01-28T00:00:00",
          "2020-01-29T00:00:00",
          "2020-01-30T00:00:00",
          "2020-01-31T00:00:00",
          "2020-02-01T00:00:00",
          "2020-02-02T00:00:00",
          "2020-02-03T00:00:00",
          "2020-02-04T00:00:00",
          "2020-02-05T00:00:00",
          "2020-02-06T00:00:00",
          "2020-02-07T00:00:00",
          "2020-02-08T00:00:00",
          "2020-02-09T00:00:00",
          "2020-02-10T00:00:00",
          "2020-02-11T00:00:00",
          "2020-02-12T00:00:00",
          "2020-02-13T00:00:00",
          "2020-02-14T00:00:00",
          "2020-02-15T00:00:00",
          "2020-02-16T00:00:00",
          "2020-02-17T00:00:00",
          "2020-02-18T00:00:00",
          "2020-02-19T00:00:00",
          "2020-02-20T00:00:00",
          "2020-02-21T00:00:00",
          "2020-02-22T00:00:00",
          "2020-02-23T00:00:00",
          "2020-02-24T00:00:00",
          "2020-02-25T00:00:00",
          "2020-02-26T00:00:00",
          "2020-02-27T00:00:00",
          "2020-02-28T00:00:00",
          "2020-02-29T00:00:00",
          "2020-03-01T00:00:00",
          "2020-03-02T00:00:00",
          "2020-03-03T00:00:00",
          "2020-03-04T00:00:00",
          "2020-03-05T00:00:00",
          "2020-03-06T00:00:00",
          "2020-03-07T00:00:00",
          "2020-03-08T00:00:00",
          "2020-03-09T00:00:00",
          "2020-03-10T00:00:00",
          "2020-03-11T00:00:00",
          "2020-03-12T00:00:00",
          "2020-03-13T00:00:00",
          "2020-03-14T00:00:00",
          "2020-03-15T00:00:00",
          "2020-03-16T00:00:00",
          "2020-03-17T00:00:00",
          "2020-03-18T00:00:00",
          "2020-03-19T00:00:00",
          "2020-03-20T00:00:00",
          "2020-03-21T00:00:00",
          "2020-03-22T00:00:00",
          "2020-03-23T00:00:00",
          "2020-03-24T00:00:00",
          "2020-03-25T00:00:00",
          "2020-03-26T00:00:00",
          "2020-03-27T00:00:00",
          "2020-03-28T00:00:00",
          "2020-03-29T00:00:00",
          "2020-03-30T00:00:00",
          "2020-03-31T00:00:00",
          "2020-04-01T00:00:00",
          "2020-04-02T00:00:00",
          "2020-04-03T00:00:00",
          "2020-04-04T00:00:00",
          "2020-04-05T00:00:00",
          "2020-04-06T00:00:00",
          "2020-04-07T00:00:00",
          "2020-04-08T00:00:00",
          "2020-04-09T00:00:00",
          "2020-04-10T00:00:00",
          "2020-04-11T00:00:00",
          "2020-04-12T00:00:00",
          "2020-04-13T00:00:00",
          "2020-04-14T00:00:00",
          "2020-04-15T00:00:00",
          "2020-04-16T00:00:00",
          "2020-04-17T00:00:00",
          "2020-04-18T00:00:00",
          "2020-04-19T00:00:00",
          "2020-04-20T00:00:00",
          "2020-04-21T00:00:00",
          "2020-04-22T00:00:00",
          "2020-04-23T00:00:00",
          "2020-04-24T00:00:00",
          "2020-04-25T00:00:00",
          "2020-04-26T00:00:00",
          "2020-04-27T00:00:00",
          "2020-04-28T00:00:00",
          "2020-04-29T00:00:00",
          "2020-04-30T00:00:00",
          "2020-05-01T00:00:00",
          "2020-05-02T00:00:00",
          "2020-05-03T00:00:00",
          "2020-05-04T00:00:00",
          "2020-05-05T00:00:00",
          "2020-05-06T00:00:00",
          "2020-05-07T00:00:00",
          "2020-05-08T00:00:00",
          "2020-05-09T00:00:00",
          "2020-05-10T00:00:00",
          "2020-05-11T00:00:00",
          "2020-05-12T00:00:00",
          "2020-05-13T00:00:00",
          "2020-05-14T00:00:00",
          "2020-05-15T00:00:00",
          "2020-05-16T00:00:00",
          "2020-05-17T00:00:00",
          "2020-05-18T00:00:00",
          "2020-05-19T00:00:00",
          "2020-05-20T00:00:00",
          "2020-05-21T00:00:00",
          "2020-05-22T00:00:00",
          "2020-05-23T00:00:00",
          "2020-05-24T00:00:00",
          "2020-05-25T00:00:00",
          "2020-05-26T00:00:00",
          "2020-05-27T00:00:00",
          "2020-05-28T00:00:00",
          "2020-05-29T00:00:00",
          "2020-05-30T00:00:00",
          "2020-05-31T00:00:00",
          "2020-06-01T00:00:00",
          "2020-06-02T00:00:00",
          "2020-06-03T00:00:00",
          "2020-06-04T00:00:00",
          "2020-06-05T00:00:00",
          "2020-06-06T00:00:00",
          "2020-06-07T00:00:00",
          "2020-06-08T00:00:00",
          "2020-06-09T00:00:00",
          "2020-06-10T00:00:00",
          "2020-06-11T00:00:00",
          "2020-06-12T00:00:00",
          "2020-06-13T00:00:00",
          "2020-06-14T00:00:00",
          "2020-06-15T00:00:00",
          "2020-06-16T00:00:00",
          "2020-06-17T00:00:00",
          "2020-06-18T00:00:00",
          "2020-06-19T00:00:00",
          "2020-06-20T00:00:00",
          "2020-06-21T00:00:00",
          "2020-06-22T00:00:00",
          "2020-06-23T00:00:00",
          "2020-06-24T00:00:00",
          "2020-06-25T00:00:00",
          "2020-06-26T00:00:00",
          "2020-06-27T00:00:00",
          "2020-06-28T00:00:00",
          "2020-06-29T00:00:00",
          "2020-06-30T00:00:00",
          "2020-07-01T00:00:00",
          "2020-07-02T00:00:00",
          "2020-07-03T00:00:00",
          "2020-07-04T00:00:00",
          "2020-07-05T00:00:00",
          "2020-07-06T00:00:00",
          "2020-07-07T00:00:00",
          "2020-07-08T00:00:00",
          "2020-07-09T00:00:00",
          "2020-07-10T00:00:00",
          "2020-07-11T00:00:00",
          "2020-07-12T00:00:00",
          "2020-07-13T00:00:00",
          "2020-07-14T00:00:00",
          "2020-07-15T00:00:00",
          "2020-07-16T00:00:00",
          "2020-07-17T00:00:00",
          "2020-07-18T00:00:00",
          "2020-07-19T00:00:00",
          "2020-07-20T00:00:00",
          "2020-07-21T00:00:00",
          "2020-07-22T00:00:00",
          "2020-07-23T00:00:00",
          "2020-07-24T00:00:00",
          "2020-07-25T00:00:00",
          "2020-07-26T00:00:00",
          "2020-07-27T00:00:00",
          "2020-07-28T00:00:00",
          "2020-07-29T00:00:00",
          "2020-07-30T00:00:00",
          "2020-07-31T00:00:00",
          "2020-08-01T00:00:00",
          "2020-08-02T00:00:00",
          "2020-08-03T00:00:00",
          "2020-08-04T00:00:00",
          "2020-08-05T00:00:00",
          "2020-08-06T00:00:00",
          "2020-08-07T00:00:00",
          "2020-08-08T00:00:00",
          "2020-08-09T00:00:00",
          "2020-08-10T00:00:00",
          "2020-08-11T00:00:00",
          "2020-08-12T00:00:00",
          "2020-08-13T00:00:00",
          "2020-08-14T00:00:00",
          "2020-08-15T00:00:00",
          "2020-08-16T00:00:00",
          "2020-08-17T00:00:00",
          "2020-08-18T00:00:00",
          "2020-08-19T00:00:00",
          "2020-08-20T00:00:00",
          "2020-08-21T00:00:00",
          "2020-08-22T00:00:00",
          "2020-08-23T00:00:00",
          "2020-08-24T00:00:00",
          "2020-08-25T00:00:00",
          "2020-08-26T00:00:00",
          "2020-08-27T00:00:00",
          "2020-08-28T00:00:00",
          "2020-08-29T00:00:00",
          "2020-08-30T00:00:00",
          "2020-08-31T00:00:00",
          "2020-09-01T00:00:00",
          "2020-09-02T00:00:00",
          "2020-09-03T00:00:00",
          "2020-09-04T00:00:00",
          "2020-09-05T00:00:00",
          "2020-09-06T00:00:00",
          "2020-09-07T00:00:00",
          "2020-09-08T00:00:00",
          "2020-09-09T00:00:00",
          "2020-09-10T00:00:00",
          "2020-09-11T00:00:00",
          "2020-09-12T00:00:00",
          "2020-09-13T00:00:00",
          "2020-09-14T00:00:00",
          "2020-09-15T00:00:00",
          "2020-09-16T00:00:00",
          "2020-09-17T00:00:00",
          "2020-09-18T00:00:00",
          "2020-09-19T00:00:00",
          "2020-09-20T00:00:00",
          "2020-09-21T00:00:00",
          "2020-09-22T00:00:00",
          "2020-09-23T00:00:00",
          "2020-09-24T00:00:00",
          "2020-09-25T00:00:00",
          "2020-09-26T00:00:00",
          "2020-09-27T00:00:00",
          "2020-09-28T00:00:00",
          "2020-09-29T00:00:00",
          "2020-09-30T00:00:00",
          "2020-10-01T00:00:00",
          "2020-10-02T00:00:00",
          "2020-10-03T00:00:00",
          "2020-10-04T00:00:00",
          "2020-10-05T00:00:00",
          "2020-10-06T00:00:00",
          "2020-10-07T00:00:00",
          "2020-10-08T00:00:00",
          "2020-10-09T00:00:00",
          "2020-10-10T00:00:00",
          "2020-10-11T00:00:00",
          "2020-10-12T00:00:00",
          "2020-10-13T00:00:00",
          "2020-10-14T00:00:00",
          "2020-10-15T00:00:00",
          "2020-10-16T00:00:00",
          "2020-10-17T00:00:00",
          "2020-10-18T00:00:00",
          "2020-10-19T00:00:00",
          "2020-10-20T00:00:00",
          "2020-10-21T00:00:00",
          "2020-10-22T00:00:00",
          "2020-10-23T00:00:00",
          "2020-10-24T00:00:00",
          "2020-10-25T00:00:00",
          "2020-10-26T00:00:00",
          "2020-10-27T00:00:00",
          "2020-10-28T00:00:00",
          "2020-10-29T00:00:00",
          "2020-10-30T00:00:00",
          "2020-10-31T00:00:00",
          "2020-11-01T00:00:00",
          "2020-11-02T00:00:00",
          "2020-11-03T00:00:00",
          "2020-11-04T00:00:00",
          "2020-11-05T00:00:00",
          "2020-11-06T00:00:00",
          "2020-11-07T00:00:00",
          "2020-11-08T00:00:00",
          "2020-11-09T00:00:00",
          "2020-11-10T00:00:00",
          "2020-11-11T00:00:00",
          "2020-11-12T00:00:00",
          "2020-11-13T00:00:00",
          "2020-11-14T00:00:00",
          "2020-11-15T00:00:00",
          "2020-11-16T00:00:00",
          "2020-11-17T00:00:00",
          "2020-11-18T00:00:00",
          "2020-11-19T00:00:00",
          "2020-11-20T00:00:00",
          "2020-11-21T00:00:00",
          "2020-11-22T00:00:00",
          "2020-11-23T00:00:00",
          "2020-11-24T00:00:00",
          "2020-11-25T00:00:00",
          "2020-11-26T00:00:00",
          "2020-11-27T00:00:00",
          "2020-11-28T00:00:00",
          "2020-11-29T00:00:00",
          "2020-11-30T00:00:00",
          "2020-12-01T00:00:00",
          "2020-12-02T00:00:00",
          "2020-12-03T00:00:00",
          "2020-12-04T00:00:00",
          "2020-12-05T00:00:00",
          "2020-12-06T00:00:00",
          "2020-12-07T00:00:00",
          "2020-12-08T00:00:00",
          "2020-12-09T00:00:00",
          "2020-12-10T00:00:00",
          "2020-12-11T00:00:00",
          "2020-12-12T00:00:00",
          "2020-12-13T00:00:00",
          "2020-12-14T00:00:00",
          "2020-12-15T00:00:00",
          "2020-12-16T00:00:00",
          "2020-12-17T00:00:00",
          "2020-12-18T00:00:00",
          "2020-12-19T00:00:00",
          "2020-12-20T00:00:00",
          "2020-12-21T00:00:00",
          "2020-12-22T00:00:00",
          "2020-12-23T00:00:00",
          "2020-12-24T00:00:00",
          "2020-12-25T00:00:00",
          "2020-12-26T00:00:00",
          "2020-12-27T00:00:00",
          "2020-12-28T00:00:00",
          "2020-12-29T00:00:00",
          "2020-12-30T00:00:00",
          "2020-12-31T00:00:00",
          "2021-01-01T00:00:00",
          "2021-01-02T00:00:00",
          "2021-01-03T00:00:00",
          "2021-01-04T00:00:00",
          "2021-01-05T00:00:00",
          "2021-01-06T00:00:00",
          "2021-01-07T00:00:00",
          "2021-01-08T00:00:00",
          "2021-01-09T00:00:00"
         ],
         "xaxis": "x",
         "y": [
          0,
          109,
          154,
          168,
          178,
          170,
          171,
          168,
          180,
          185,
          186,
          180,
          182,
          169,
          164,
          160,
          179,
          191,
          190,
          196,
          196,
          199,
          196,
          216,
          225,
          227,
          229,
          221,
          215,
          213,
          229,
          240,
          240,
          242,
          241,
          231,
          227,
          231,
          240,
          240,
          243,
          239,
          236,
          239,
          246,
          259,
          261,
          262,
          254,
          259,
          254,
          251,
          256,
          259,
          257,
          254,
          260,
          262,
          262,
          262,
          261,
          260,
          261,
          251,
          242,
          260,
          266,
          266,
          263,
          265,
          259,
          259,
          263,
          268,
          268,
          270,
          266,
          267,
          264,
          270,
          268,
          272,
          268,
          266,
          261,
          262,
          257,
          256,
          258,
          258,
          251,
          194,
          196,
          205,
          209,
          201,
          202,
          201,
          207,
          209,
          202,
          203,
          207,
          200,
          197,
          198,
          197,
          196,
          206,
          209,
          212,
          212,
          220,
          222,
          221,
          223,
          223,
          219,
          219,
          224,
          227,
          219,
          217,
          217,
          215,
          214,
          225,
          227,
          227,
          227,
          226,
          225,
          220,
          228,
          227,
          224,
          225,
          225,
          223,
          221,
          226,
          229,
          223,
          231,
          230,
          231,
          233,
          239,
          240,
          231,
          237,
          237,
          238,
          238,
          245,
          241,
          237,
          238,
          239,
          241,
          243,
          250,
          251,
          244,
          243,
          243,
          243,
          244,
          254,
          253,
          246,
          246,
          254,
          251,
          251,
          256,
          257,
          252,
          252,
          250,
          248,
          210,
          215,
          214,
          211,
          210,
          210,
          211,
          210,
          215,
          216,
          211,
          210,
          210,
          210,
          211,
          217,
          197,
          192,
          192,
          193,
          193,
          194,
          199,
          195,
          190,
          190,
          191,
          191,
          191,
          196,
          196,
          190,
          190,
          191,
          190,
          189,
          194,
          193,
          188,
          188,
          189,
          190,
          190,
          195,
          195,
          188,
          188,
          188,
          188,
          188,
          193,
          193,
          188,
          191,
          194,
          194,
          194,
          197,
          197,
          191,
          189,
          190,
          186,
          186,
          191,
          191,
          185,
          184,
          179,
          178,
          178,
          183,
          183,
          178,
          180,
          180,
          185,
          184,
          190,
          190,
          184,
          184,
          184,
          184,
          181,
          186,
          187,
          182,
          182,
          183,
          164,
          164,
          169,
          165,
          160,
          160,
          159,
          159,
          159,
          164,
          164,
          159,
          160,
          161,
          161,
          161,
          167,
          167,
          163,
          162,
          162,
          162,
          162,
          167,
          168,
          161,
          160,
          160,
          160,
          160,
          166,
          166,
          160,
          160,
          160,
          160,
          160,
          166,
          166,
          160,
          160,
          160,
          160,
          160,
          166,
          166,
          160,
          161,
          161,
          161,
          161,
          167,
          167,
          161,
          162,
          161,
          161,
          161,
          166,
          165,
          160,
          161,
          161,
          161,
          161,
          166,
          166,
          161,
          161,
          161,
          161,
          161,
          166,
          165,
          160,
          160,
          161,
          161,
          161,
          166,
          166,
          161,
          161,
          161,
          161,
          161,
          166,
          169,
          162,
          163,
          163,
          163,
          163,
          170,
          168
         ],
         "yaxis": "y"
        }
       ],
       "layout": {
        "legend": {
         "tracegroupgap": 0
        },
        "template": {
         "data": {
          "bar": [
           {
            "error_x": {
             "color": "#2a3f5f"
            },
            "error_y": {
             "color": "#2a3f5f"
            },
            "marker": {
             "line": {
              "color": "#E5ECF6",
              "width": 0.5
             },
             "pattern": {
              "fillmode": "overlay",
              "size": 10,
              "solidity": 0.2
             }
            },
            "type": "bar"
           }
          ],
          "barpolar": [
           {
            "marker": {
             "line": {
              "color": "#E5ECF6",
              "width": 0.5
             },
             "pattern": {
              "fillmode": "overlay",
              "size": 10,
              "solidity": 0.2
             }
            },
            "type": "barpolar"
           }
          ],
          "carpet": [
           {
            "aaxis": {
             "endlinecolor": "#2a3f5f",
             "gridcolor": "white",
             "linecolor": "white",
             "minorgridcolor": "white",
             "startlinecolor": "#2a3f5f"
            },
            "baxis": {
             "endlinecolor": "#2a3f5f",
             "gridcolor": "white",
             "linecolor": "white",
             "minorgridcolor": "white",
             "startlinecolor": "#2a3f5f"
            },
            "type": "carpet"
           }
          ],
          "choropleth": [
           {
            "colorbar": {
             "outlinewidth": 0,
             "ticks": ""
            },
            "type": "choropleth"
           }
          ],
          "contour": [
           {
            "colorbar": {
             "outlinewidth": 0,
             "ticks": ""
            },
            "colorscale": [
             [
              0,
              "#0d0887"
             ],
             [
              0.1111111111111111,
              "#46039f"
             ],
             [
              0.2222222222222222,
              "#7201a8"
             ],
             [
              0.3333333333333333,
              "#9c179e"
             ],
             [
              0.4444444444444444,
              "#bd3786"
             ],
             [
              0.5555555555555556,
              "#d8576b"
             ],
             [
              0.6666666666666666,
              "#ed7953"
             ],
             [
              0.7777777777777778,
              "#fb9f3a"
             ],
             [
              0.8888888888888888,
              "#fdca26"
             ],
             [
              1,
              "#f0f921"
             ]
            ],
            "type": "contour"
           }
          ],
          "contourcarpet": [
           {
            "colorbar": {
             "outlinewidth": 0,
             "ticks": ""
            },
            "type": "contourcarpet"
           }
          ],
          "heatmap": [
           {
            "colorbar": {
             "outlinewidth": 0,
             "ticks": ""
            },
            "colorscale": [
             [
              0,
              "#0d0887"
             ],
             [
              0.1111111111111111,
              "#46039f"
             ],
             [
              0.2222222222222222,
              "#7201a8"
             ],
             [
              0.3333333333333333,
              "#9c179e"
             ],
             [
              0.4444444444444444,
              "#bd3786"
             ],
             [
              0.5555555555555556,
              "#d8576b"
             ],
             [
              0.6666666666666666,
              "#ed7953"
             ],
             [
              0.7777777777777778,
              "#fb9f3a"
             ],
             [
              0.8888888888888888,
              "#fdca26"
             ],
             [
              1,
              "#f0f921"
             ]
            ],
            "type": "heatmap"
           }
          ],
          "heatmapgl": [
           {
            "colorbar": {
             "outlinewidth": 0,
             "ticks": ""
            },
            "colorscale": [
             [
              0,
              "#0d0887"
             ],
             [
              0.1111111111111111,
              "#46039f"
             ],
             [
              0.2222222222222222,
              "#7201a8"
             ],
             [
              0.3333333333333333,
              "#9c179e"
             ],
             [
              0.4444444444444444,
              "#bd3786"
             ],
             [
              0.5555555555555556,
              "#d8576b"
             ],
             [
              0.6666666666666666,
              "#ed7953"
             ],
             [
              0.7777777777777778,
              "#fb9f3a"
             ],
             [
              0.8888888888888888,
              "#fdca26"
             ],
             [
              1,
              "#f0f921"
             ]
            ],
            "type": "heatmapgl"
           }
          ],
          "histogram": [
           {
            "marker": {
             "pattern": {
              "fillmode": "overlay",
              "size": 10,
              "solidity": 0.2
             }
            },
            "type": "histogram"
           }
          ],
          "histogram2d": [
           {
            "colorbar": {
             "outlinewidth": 0,
             "ticks": ""
            },
            "colorscale": [
             [
              0,
              "#0d0887"
             ],
             [
              0.1111111111111111,
              "#46039f"
             ],
             [
              0.2222222222222222,
              "#7201a8"
             ],
             [
              0.3333333333333333,
              "#9c179e"
             ],
             [
              0.4444444444444444,
              "#bd3786"
             ],
             [
              0.5555555555555556,
              "#d8576b"
             ],
             [
              0.6666666666666666,
              "#ed7953"
             ],
             [
              0.7777777777777778,
              "#fb9f3a"
             ],
             [
              0.8888888888888888,
              "#fdca26"
             ],
             [
              1,
              "#f0f921"
             ]
            ],
            "type": "histogram2d"
           }
          ],
          "histogram2dcontour": [
           {
            "colorbar": {
             "outlinewidth": 0,
             "ticks": ""
            },
            "colorscale": [
             [
              0,
              "#0d0887"
             ],
             [
              0.1111111111111111,
              "#46039f"
             ],
             [
              0.2222222222222222,
              "#7201a8"
             ],
             [
              0.3333333333333333,
              "#9c179e"
             ],
             [
              0.4444444444444444,
              "#bd3786"
             ],
             [
              0.5555555555555556,
              "#d8576b"
             ],
             [
              0.6666666666666666,
              "#ed7953"
             ],
             [
              0.7777777777777778,
              "#fb9f3a"
             ],
             [
              0.8888888888888888,
              "#fdca26"
             ],
             [
              1,
              "#f0f921"
             ]
            ],
            "type": "histogram2dcontour"
           }
          ],
          "mesh3d": [
           {
            "colorbar": {
             "outlinewidth": 0,
             "ticks": ""
            },
            "type": "mesh3d"
           }
          ],
          "parcoords": [
           {
            "line": {
             "colorbar": {
              "outlinewidth": 0,
              "ticks": ""
             }
            },
            "type": "parcoords"
           }
          ],
          "pie": [
           {
            "automargin": true,
            "type": "pie"
           }
          ],
          "scatter": [
           {
            "fillpattern": {
             "fillmode": "overlay",
             "size": 10,
             "solidity": 0.2
            },
            "type": "scatter"
           }
          ],
          "scatter3d": [
           {
            "line": {
             "colorbar": {
              "outlinewidth": 0,
              "ticks": ""
             }
            },
            "marker": {
             "colorbar": {
              "outlinewidth": 0,
              "ticks": ""
             }
            },
            "type": "scatter3d"
           }
          ],
          "scattercarpet": [
           {
            "marker": {
             "colorbar": {
              "outlinewidth": 0,
              "ticks": ""
             }
            },
            "type": "scattercarpet"
           }
          ],
          "scattergeo": [
           {
            "marker": {
             "colorbar": {
              "outlinewidth": 0,
              "ticks": ""
             }
            },
            "type": "scattergeo"
           }
          ],
          "scattergl": [
           {
            "marker": {
             "colorbar": {
              "outlinewidth": 0,
              "ticks": ""
             }
            },
            "type": "scattergl"
           }
          ],
          "scattermapbox": [
           {
            "marker": {
             "colorbar": {
              "outlinewidth": 0,
              "ticks": ""
             }
            },
            "type": "scattermapbox"
           }
          ],
          "scatterpolar": [
           {
            "marker": {
             "colorbar": {
              "outlinewidth": 0,
              "ticks": ""
             }
            },
            "type": "scatterpolar"
           }
          ],
          "scatterpolargl": [
           {
            "marker": {
             "colorbar": {
              "outlinewidth": 0,
              "ticks": ""
             }
            },
            "type": "scatterpolargl"
           }
          ],
          "scatterternary": [
           {
            "marker": {
             "colorbar": {
              "outlinewidth": 0,
              "ticks": ""
             }
            },
            "type": "scatterternary"
           }
          ],
          "surface": [
           {
            "colorbar": {
             "outlinewidth": 0,
             "ticks": ""
            },
            "colorscale": [
             [
              0,
              "#0d0887"
             ],
             [
              0.1111111111111111,
              "#46039f"
             ],
             [
              0.2222222222222222,
              "#7201a8"
             ],
             [
              0.3333333333333333,
              "#9c179e"
             ],
             [
              0.4444444444444444,
              "#bd3786"
             ],
             [
              0.5555555555555556,
              "#d8576b"
             ],
             [
              0.6666666666666666,
              "#ed7953"
             ],
             [
              0.7777777777777778,
              "#fb9f3a"
             ],
             [
              0.8888888888888888,
              "#fdca26"
             ],
             [
              1,
              "#f0f921"
             ]
            ],
            "type": "surface"
           }
          ],
          "table": [
           {
            "cells": {
             "fill": {
              "color": "#EBF0F8"
             },
             "line": {
              "color": "white"
             }
            },
            "header": {
             "fill": {
              "color": "#C8D4E3"
             },
             "line": {
              "color": "white"
             }
            },
            "type": "table"
           }
          ]
         },
         "layout": {
          "annotationdefaults": {
           "arrowcolor": "#2a3f5f",
           "arrowhead": 0,
           "arrowwidth": 1
          },
          "autotypenumbers": "strict",
          "coloraxis": {
           "colorbar": {
            "outlinewidth": 0,
            "ticks": ""
           }
          },
          "colorscale": {
           "diverging": [
            [
             0,
             "#8e0152"
            ],
            [
             0.1,
             "#c51b7d"
            ],
            [
             0.2,
             "#de77ae"
            ],
            [
             0.3,
             "#f1b6da"
            ],
            [
             0.4,
             "#fde0ef"
            ],
            [
             0.5,
             "#f7f7f7"
            ],
            [
             0.6,
             "#e6f5d0"
            ],
            [
             0.7,
             "#b8e186"
            ],
            [
             0.8,
             "#7fbc41"
            ],
            [
             0.9,
             "#4d9221"
            ],
            [
             1,
             "#276419"
            ]
           ],
           "sequential": [
            [
             0,
             "#0d0887"
            ],
            [
             0.1111111111111111,
             "#46039f"
            ],
            [
             0.2222222222222222,
             "#7201a8"
            ],
            [
             0.3333333333333333,
             "#9c179e"
            ],
            [
             0.4444444444444444,
             "#bd3786"
            ],
            [
             0.5555555555555556,
             "#d8576b"
            ],
            [
             0.6666666666666666,
             "#ed7953"
            ],
            [
             0.7777777777777778,
             "#fb9f3a"
            ],
            [
             0.8888888888888888,
             "#fdca26"
            ],
            [
             1,
             "#f0f921"
            ]
           ],
           "sequentialminus": [
            [
             0,
             "#0d0887"
            ],
            [
             0.1111111111111111,
             "#46039f"
            ],
            [
             0.2222222222222222,
             "#7201a8"
            ],
            [
             0.3333333333333333,
             "#9c179e"
            ],
            [
             0.4444444444444444,
             "#bd3786"
            ],
            [
             0.5555555555555556,
             "#d8576b"
            ],
            [
             0.6666666666666666,
             "#ed7953"
            ],
            [
             0.7777777777777778,
             "#fb9f3a"
            ],
            [
             0.8888888888888888,
             "#fdca26"
            ],
            [
             1,
             "#f0f921"
            ]
           ]
          },
          "colorway": [
           "#636efa",
           "#EF553B",
           "#00cc96",
           "#ab63fa",
           "#FFA15A",
           "#19d3f3",
           "#FF6692",
           "#B6E880",
           "#FF97FF",
           "#FECB52"
          ],
          "font": {
           "color": "#2a3f5f"
          },
          "geo": {
           "bgcolor": "white",
           "lakecolor": "white",
           "landcolor": "#E5ECF6",
           "showlakes": true,
           "showland": true,
           "subunitcolor": "white"
          },
          "hoverlabel": {
           "align": "left"
          },
          "hovermode": "closest",
          "mapbox": {
           "style": "light"
          },
          "paper_bgcolor": "white",
          "plot_bgcolor": "#E5ECF6",
          "polar": {
           "angularaxis": {
            "gridcolor": "white",
            "linecolor": "white",
            "ticks": ""
           },
           "bgcolor": "#E5ECF6",
           "radialaxis": {
            "gridcolor": "white",
            "linecolor": "white",
            "ticks": ""
           }
          },
          "scene": {
           "xaxis": {
            "backgroundcolor": "#E5ECF6",
            "gridcolor": "white",
            "gridwidth": 2,
            "linecolor": "white",
            "showbackground": true,
            "ticks": "",
            "zerolinecolor": "white"
           },
           "yaxis": {
            "backgroundcolor": "#E5ECF6",
            "gridcolor": "white",
            "gridwidth": 2,
            "linecolor": "white",
            "showbackground": true,
            "ticks": "",
            "zerolinecolor": "white"
           },
           "zaxis": {
            "backgroundcolor": "#E5ECF6",
            "gridcolor": "white",
            "gridwidth": 2,
            "linecolor": "white",
            "showbackground": true,
            "ticks": "",
            "zerolinecolor": "white"
           }
          },
          "shapedefaults": {
           "line": {
            "color": "#2a3f5f"
           }
          },
          "ternary": {
           "aaxis": {
            "gridcolor": "white",
            "linecolor": "white",
            "ticks": ""
           },
           "baxis": {
            "gridcolor": "white",
            "linecolor": "white",
            "ticks": ""
           },
           "bgcolor": "#E5ECF6",
           "caxis": {
            "gridcolor": "white",
            "linecolor": "white",
            "ticks": ""
           }
          },
          "title": {
           "x": 0.05
          },
          "xaxis": {
           "automargin": true,
           "gridcolor": "white",
           "linecolor": "white",
           "ticks": "",
           "title": {
            "standoff": 15
           },
           "zerolinecolor": "white",
           "zerolinewidth": 2
          },
          "yaxis": {
           "automargin": true,
           "gridcolor": "white",
           "linecolor": "white",
           "ticks": "",
           "title": {
            "standoff": 15
           },
           "zerolinecolor": "white",
           "zerolinewidth": 2
          }
         }
        },
        "title": {
         "text": "Latina"
        },
        "xaxis": {
         "anchor": "y",
         "domain": [
          0,
          1
         ],
         "title": {
          "text": "date"
         }
        },
        "yaxis": {
         "anchor": "x",
         "domain": [
          0,
          1
         ],
         "title": {
          "text": "count_"
         }
        }
       }
      },
      "text/html": [
       "<div>                            <div id=\"7ac2d25b-3f81-4925-a161-95125d7a57ab\" class=\"plotly-graph-div\" style=\"height:525px; width:100%;\"></div>            <script type=\"text/javascript\">                require([\"plotly\"], function(Plotly) {                    window.PLOTLYENV=window.PLOTLYENV || {};                                    if (document.getElementById(\"7ac2d25b-3f81-4925-a161-95125d7a57ab\")) {                    Plotly.newPlot(                        \"7ac2d25b-3f81-4925-a161-95125d7a57ab\",                        [{\"hovertemplate\":\"date=%{x}<br>count_=%{y}<extra></extra>\",\"legendgroup\":\"\",\"marker\":{\"color\":\"#636efa\",\"symbol\":\"circle\"},\"mode\":\"markers\",\"name\":\"\",\"orientation\":\"v\",\"showlegend\":false,\"x\":[\"2020-01-10T00:00:00\",\"2020-01-11T00:00:00\",\"2020-01-12T00:00:00\",\"2020-01-13T00:00:00\",\"2020-01-14T00:00:00\",\"2020-01-15T00:00:00\",\"2020-01-16T00:00:00\",\"2020-01-17T00:00:00\",\"2020-01-18T00:00:00\",\"2020-01-19T00:00:00\",\"2020-01-20T00:00:00\",\"2020-01-21T00:00:00\",\"2020-01-22T00:00:00\",\"2020-01-23T00:00:00\",\"2020-01-24T00:00:00\",\"2020-01-25T00:00:00\",\"2020-01-26T00:00:00\",\"2020-01-27T00:00:00\",\"2020-01-28T00:00:00\",\"2020-01-29T00:00:00\",\"2020-01-30T00:00:00\",\"2020-01-31T00:00:00\",\"2020-02-01T00:00:00\",\"2020-02-02T00:00:00\",\"2020-02-03T00:00:00\",\"2020-02-04T00:00:00\",\"2020-02-05T00:00:00\",\"2020-02-06T00:00:00\",\"2020-02-07T00:00:00\",\"2020-02-08T00:00:00\",\"2020-02-09T00:00:00\",\"2020-02-10T00:00:00\",\"2020-02-11T00:00:00\",\"2020-02-12T00:00:00\",\"2020-02-13T00:00:00\",\"2020-02-14T00:00:00\",\"2020-02-15T00:00:00\",\"2020-02-16T00:00:00\",\"2020-02-17T00:00:00\",\"2020-02-18T00:00:00\",\"2020-02-19T00:00:00\",\"2020-02-20T00:00:00\",\"2020-02-21T00:00:00\",\"2020-02-22T00:00:00\",\"2020-02-23T00:00:00\",\"2020-02-24T00:00:00\",\"2020-02-25T00:00:00\",\"2020-02-26T00:00:00\",\"2020-02-27T00:00:00\",\"2020-02-28T00:00:00\",\"2020-02-29T00:00:00\",\"2020-03-01T00:00:00\",\"2020-03-02T00:00:00\",\"2020-03-03T00:00:00\",\"2020-03-04T00:00:00\",\"2020-03-05T00:00:00\",\"2020-03-06T00:00:00\",\"2020-03-07T00:00:00\",\"2020-03-08T00:00:00\",\"2020-03-09T00:00:00\",\"2020-03-10T00:00:00\",\"2020-03-11T00:00:00\",\"2020-03-12T00:00:00\",\"2020-03-13T00:00:00\",\"2020-03-14T00:00:00\",\"2020-03-15T00:00:00\",\"2020-03-16T00:00:00\",\"2020-03-17T00:00:00\",\"2020-03-18T00:00:00\",\"2020-03-19T00:00:00\",\"2020-03-20T00:00:00\",\"2020-03-21T00:00:00\",\"2020-03-22T00:00:00\",\"2020-03-23T00:00:00\",\"2020-03-24T00:00:00\",\"2020-03-25T00:00:00\",\"2020-03-26T00:00:00\",\"2020-03-27T00:00:00\",\"2020-03-28T00:00:00\",\"2020-03-29T00:00:00\",\"2020-03-30T00:00:00\",\"2020-03-31T00:00:00\",\"2020-04-01T00:00:00\",\"2020-04-02T00:00:00\",\"2020-04-03T00:00:00\",\"2020-04-04T00:00:00\",\"2020-04-05T00:00:00\",\"2020-04-06T00:00:00\",\"2020-04-07T00:00:00\",\"2020-04-08T00:00:00\",\"2020-04-09T00:00:00\",\"2020-04-10T00:00:00\",\"2020-04-11T00:00:00\",\"2020-04-12T00:00:00\",\"2020-04-13T00:00:00\",\"2020-04-14T00:00:00\",\"2020-04-15T00:00:00\",\"2020-04-16T00:00:00\",\"2020-04-17T00:00:00\",\"2020-04-18T00:00:00\",\"2020-04-19T00:00:00\",\"2020-04-20T00:00:00\",\"2020-04-21T00:00:00\",\"2020-04-22T00:00:00\",\"2020-04-23T00:00:00\",\"2020-04-24T00:00:00\",\"2020-04-25T00:00:00\",\"2020-04-26T00:00:00\",\"2020-04-27T00:00:00\",\"2020-04-28T00:00:00\",\"2020-04-29T00:00:00\",\"2020-04-30T00:00:00\",\"2020-05-01T00:00:00\",\"2020-05-02T00:00:00\",\"2020-05-03T00:00:00\",\"2020-05-04T00:00:00\",\"2020-05-05T00:00:00\",\"2020-05-06T00:00:00\",\"2020-05-07T00:00:00\",\"2020-05-08T00:00:00\",\"2020-05-09T00:00:00\",\"2020-05-10T00:00:00\",\"2020-05-11T00:00:00\",\"2020-05-12T00:00:00\",\"2020-05-13T00:00:00\",\"2020-05-14T00:00:00\",\"2020-05-15T00:00:00\",\"2020-05-16T00:00:00\",\"2020-05-17T00:00:00\",\"2020-05-18T00:00:00\",\"2020-05-19T00:00:00\",\"2020-05-20T00:00:00\",\"2020-05-21T00:00:00\",\"2020-05-22T00:00:00\",\"2020-05-23T00:00:00\",\"2020-05-24T00:00:00\",\"2020-05-25T00:00:00\",\"2020-05-26T00:00:00\",\"2020-05-27T00:00:00\",\"2020-05-28T00:00:00\",\"2020-05-29T00:00:00\",\"2020-05-30T00:00:00\",\"2020-05-31T00:00:00\",\"2020-06-01T00:00:00\",\"2020-06-02T00:00:00\",\"2020-06-03T00:00:00\",\"2020-06-04T00:00:00\",\"2020-06-05T00:00:00\",\"2020-06-06T00:00:00\",\"2020-06-07T00:00:00\",\"2020-06-08T00:00:00\",\"2020-06-09T00:00:00\",\"2020-06-10T00:00:00\",\"2020-06-11T00:00:00\",\"2020-06-12T00:00:00\",\"2020-06-13T00:00:00\",\"2020-06-14T00:00:00\",\"2020-06-15T00:00:00\",\"2020-06-16T00:00:00\",\"2020-06-17T00:00:00\",\"2020-06-18T00:00:00\",\"2020-06-19T00:00:00\",\"2020-06-20T00:00:00\",\"2020-06-21T00:00:00\",\"2020-06-22T00:00:00\",\"2020-06-23T00:00:00\",\"2020-06-24T00:00:00\",\"2020-06-25T00:00:00\",\"2020-06-26T00:00:00\",\"2020-06-27T00:00:00\",\"2020-06-28T00:00:00\",\"2020-06-29T00:00:00\",\"2020-06-30T00:00:00\",\"2020-07-01T00:00:00\",\"2020-07-02T00:00:00\",\"2020-07-03T00:00:00\",\"2020-07-04T00:00:00\",\"2020-07-05T00:00:00\",\"2020-07-06T00:00:00\",\"2020-07-07T00:00:00\",\"2020-07-08T00:00:00\",\"2020-07-09T00:00:00\",\"2020-07-10T00:00:00\",\"2020-07-11T00:00:00\",\"2020-07-12T00:00:00\",\"2020-07-13T00:00:00\",\"2020-07-14T00:00:00\",\"2020-07-15T00:00:00\",\"2020-07-16T00:00:00\",\"2020-07-17T00:00:00\",\"2020-07-18T00:00:00\",\"2020-07-19T00:00:00\",\"2020-07-20T00:00:00\",\"2020-07-21T00:00:00\",\"2020-07-22T00:00:00\",\"2020-07-23T00:00:00\",\"2020-07-24T00:00:00\",\"2020-07-25T00:00:00\",\"2020-07-26T00:00:00\",\"2020-07-27T00:00:00\",\"2020-07-28T00:00:00\",\"2020-07-29T00:00:00\",\"2020-07-30T00:00:00\",\"2020-07-31T00:00:00\",\"2020-08-01T00:00:00\",\"2020-08-02T00:00:00\",\"2020-08-03T00:00:00\",\"2020-08-04T00:00:00\",\"2020-08-05T00:00:00\",\"2020-08-06T00:00:00\",\"2020-08-07T00:00:00\",\"2020-08-08T00:00:00\",\"2020-08-09T00:00:00\",\"2020-08-10T00:00:00\",\"2020-08-11T00:00:00\",\"2020-08-12T00:00:00\",\"2020-08-13T00:00:00\",\"2020-08-14T00:00:00\",\"2020-08-15T00:00:00\",\"2020-08-16T00:00:00\",\"2020-08-17T00:00:00\",\"2020-08-18T00:00:00\",\"2020-08-19T00:00:00\",\"2020-08-20T00:00:00\",\"2020-08-21T00:00:00\",\"2020-08-22T00:00:00\",\"2020-08-23T00:00:00\",\"2020-08-24T00:00:00\",\"2020-08-25T00:00:00\",\"2020-08-26T00:00:00\",\"2020-08-27T00:00:00\",\"2020-08-28T00:00:00\",\"2020-08-29T00:00:00\",\"2020-08-30T00:00:00\",\"2020-08-31T00:00:00\",\"2020-09-01T00:00:00\",\"2020-09-02T00:00:00\",\"2020-09-03T00:00:00\",\"2020-09-04T00:00:00\",\"2020-09-05T00:00:00\",\"2020-09-06T00:00:00\",\"2020-09-07T00:00:00\",\"2020-09-08T00:00:00\",\"2020-09-09T00:00:00\",\"2020-09-10T00:00:00\",\"2020-09-11T00:00:00\",\"2020-09-12T00:00:00\",\"2020-09-13T00:00:00\",\"2020-09-14T00:00:00\",\"2020-09-15T00:00:00\",\"2020-09-16T00:00:00\",\"2020-09-17T00:00:00\",\"2020-09-18T00:00:00\",\"2020-09-19T00:00:00\",\"2020-09-20T00:00:00\",\"2020-09-21T00:00:00\",\"2020-09-22T00:00:00\",\"2020-09-23T00:00:00\",\"2020-09-24T00:00:00\",\"2020-09-25T00:00:00\",\"2020-09-26T00:00:00\",\"2020-09-27T00:00:00\",\"2020-09-28T00:00:00\",\"2020-09-29T00:00:00\",\"2020-09-30T00:00:00\",\"2020-10-01T00:00:00\",\"2020-10-02T00:00:00\",\"2020-10-03T00:00:00\",\"2020-10-04T00:00:00\",\"2020-10-05T00:00:00\",\"2020-10-06T00:00:00\",\"2020-10-07T00:00:00\",\"2020-10-08T00:00:00\",\"2020-10-09T00:00:00\",\"2020-10-10T00:00:00\",\"2020-10-11T00:00:00\",\"2020-10-12T00:00:00\",\"2020-10-13T00:00:00\",\"2020-10-14T00:00:00\",\"2020-10-15T00:00:00\",\"2020-10-16T00:00:00\",\"2020-10-17T00:00:00\",\"2020-10-18T00:00:00\",\"2020-10-19T00:00:00\",\"2020-10-20T00:00:00\",\"2020-10-21T00:00:00\",\"2020-10-22T00:00:00\",\"2020-10-23T00:00:00\",\"2020-10-24T00:00:00\",\"2020-10-25T00:00:00\",\"2020-10-26T00:00:00\",\"2020-10-27T00:00:00\",\"2020-10-28T00:00:00\",\"2020-10-29T00:00:00\",\"2020-10-30T00:00:00\",\"2020-10-31T00:00:00\",\"2020-11-01T00:00:00\",\"2020-11-02T00:00:00\",\"2020-11-03T00:00:00\",\"2020-11-04T00:00:00\",\"2020-11-05T00:00:00\",\"2020-11-06T00:00:00\",\"2020-11-07T00:00:00\",\"2020-11-08T00:00:00\",\"2020-11-09T00:00:00\",\"2020-11-10T00:00:00\",\"2020-11-11T00:00:00\",\"2020-11-12T00:00:00\",\"2020-11-13T00:00:00\",\"2020-11-14T00:00:00\",\"2020-11-15T00:00:00\",\"2020-11-16T00:00:00\",\"2020-11-17T00:00:00\",\"2020-11-18T00:00:00\",\"2020-11-19T00:00:00\",\"2020-11-20T00:00:00\",\"2020-11-21T00:00:00\",\"2020-11-22T00:00:00\",\"2020-11-23T00:00:00\",\"2020-11-24T00:00:00\",\"2020-11-25T00:00:00\",\"2020-11-26T00:00:00\",\"2020-11-27T00:00:00\",\"2020-11-28T00:00:00\",\"2020-11-29T00:00:00\",\"2020-11-30T00:00:00\",\"2020-12-01T00:00:00\",\"2020-12-02T00:00:00\",\"2020-12-03T00:00:00\",\"2020-12-04T00:00:00\",\"2020-12-05T00:00:00\",\"2020-12-06T00:00:00\",\"2020-12-07T00:00:00\",\"2020-12-08T00:00:00\",\"2020-12-09T00:00:00\",\"2020-12-10T00:00:00\",\"2020-12-11T00:00:00\",\"2020-12-12T00:00:00\",\"2020-12-13T00:00:00\",\"2020-12-14T00:00:00\",\"2020-12-15T00:00:00\",\"2020-12-16T00:00:00\",\"2020-12-17T00:00:00\",\"2020-12-18T00:00:00\",\"2020-12-19T00:00:00\",\"2020-12-20T00:00:00\",\"2020-12-21T00:00:00\",\"2020-12-22T00:00:00\",\"2020-12-23T00:00:00\",\"2020-12-24T00:00:00\",\"2020-12-25T00:00:00\",\"2020-12-26T00:00:00\",\"2020-12-27T00:00:00\",\"2020-12-28T00:00:00\",\"2020-12-29T00:00:00\",\"2020-12-30T00:00:00\",\"2020-12-31T00:00:00\",\"2021-01-01T00:00:00\",\"2021-01-02T00:00:00\",\"2021-01-03T00:00:00\",\"2021-01-04T00:00:00\",\"2021-01-05T00:00:00\",\"2021-01-06T00:00:00\",\"2021-01-07T00:00:00\",\"2021-01-08T00:00:00\",\"2021-01-09T00:00:00\"],\"xaxis\":\"x\",\"y\":[0.0,109.0,154.0,168.0,178.0,170.0,171.0,168.0,180.0,185.0,186.0,180.0,182.0,169.0,164.0,160.0,179.0,191.0,190.0,196.0,196.0,199.0,196.0,216.0,225.0,227.0,229.0,221.0,215.0,213.0,229.0,240.0,240.0,242.0,241.0,231.0,227.0,231.0,240.0,240.0,243.0,239.0,236.0,239.0,246.0,259.0,261.0,262.0,254.0,259.0,254.0,251.0,256.0,259.0,257.0,254.0,260.0,262.0,262.0,262.0,261.0,260.0,261.0,251.0,242.0,260.0,266.0,266.0,263.0,265.0,259.0,259.0,263.0,268.0,268.0,270.0,266.0,267.0,264.0,270.0,268.0,272.0,268.0,266.0,261.0,262.0,257.0,256.0,258.0,258.0,251.0,194.0,196.0,205.0,209.0,201.0,202.0,201.0,207.0,209.0,202.0,203.0,207.0,200.0,197.0,198.0,197.0,196.0,206.0,209.0,212.0,212.0,220.0,222.0,221.0,223.0,223.0,219.0,219.0,224.0,227.0,219.0,217.0,217.0,215.0,214.0,225.0,227.0,227.0,227.0,226.0,225.0,220.0,228.0,227.0,224.0,225.0,225.0,223.0,221.0,226.0,229.0,223.0,231.0,230.0,231.0,233.0,239.0,240.0,231.0,237.0,237.0,238.0,238.0,245.0,241.0,237.0,238.0,239.0,241.0,243.0,250.0,251.0,244.0,243.0,243.0,243.0,244.0,254.0,253.0,246.0,246.0,254.0,251.0,251.0,256.0,257.0,252.0,252.0,250.0,248.0,210.0,215.0,214.0,211.0,210.0,210.0,211.0,210.0,215.0,216.0,211.0,210.0,210.0,210.0,211.0,217.0,197.0,192.0,192.0,193.0,193.0,194.0,199.0,195.0,190.0,190.0,191.0,191.0,191.0,196.0,196.0,190.0,190.0,191.0,190.0,189.0,194.0,193.0,188.0,188.0,189.0,190.0,190.0,195.0,195.0,188.0,188.0,188.0,188.0,188.0,193.0,193.0,188.0,191.0,194.0,194.0,194.0,197.0,197.0,191.0,189.0,190.0,186.0,186.0,191.0,191.0,185.0,184.0,179.0,178.0,178.0,183.0,183.0,178.0,180.0,180.0,185.0,184.0,190.0,190.0,184.0,184.0,184.0,184.0,181.0,186.0,187.0,182.0,182.0,183.0,164.0,164.0,169.0,165.0,160.0,160.0,159.0,159.0,159.0,164.0,164.0,159.0,160.0,161.0,161.0,161.0,167.0,167.0,163.0,162.0,162.0,162.0,162.0,167.0,168.0,161.0,160.0,160.0,160.0,160.0,166.0,166.0,160.0,160.0,160.0,160.0,160.0,166.0,166.0,160.0,160.0,160.0,160.0,160.0,166.0,166.0,160.0,161.0,161.0,161.0,161.0,167.0,167.0,161.0,162.0,161.0,161.0,161.0,166.0,165.0,160.0,161.0,161.0,161.0,161.0,166.0,166.0,161.0,161.0,161.0,161.0,161.0,166.0,165.0,160.0,160.0,161.0,161.0,161.0,166.0,166.0,161.0,161.0,161.0,161.0,161.0,166.0,169.0,162.0,163.0,163.0,163.0,163.0,170.0,168.0],\"yaxis\":\"y\",\"type\":\"scatter\"}],                        {\"template\":{\"data\":{\"histogram2dcontour\":[{\"type\":\"histogram2dcontour\",\"colorbar\":{\"outlinewidth\":0,\"ticks\":\"\"},\"colorscale\":[[0.0,\"#0d0887\"],[0.1111111111111111,\"#46039f\"],[0.2222222222222222,\"#7201a8\"],[0.3333333333333333,\"#9c179e\"],[0.4444444444444444,\"#bd3786\"],[0.5555555555555556,\"#d8576b\"],[0.6666666666666666,\"#ed7953\"],[0.7777777777777778,\"#fb9f3a\"],[0.8888888888888888,\"#fdca26\"],[1.0,\"#f0f921\"]]}],\"choropleth\":[{\"type\":\"choropleth\",\"colorbar\":{\"outlinewidth\":0,\"ticks\":\"\"}}],\"histogram2d\":[{\"type\":\"histogram2d\",\"colorbar\":{\"outlinewidth\":0,\"ticks\":\"\"},\"colorscale\":[[0.0,\"#0d0887\"],[0.1111111111111111,\"#46039f\"],[0.2222222222222222,\"#7201a8\"],[0.3333333333333333,\"#9c179e\"],[0.4444444444444444,\"#bd3786\"],[0.5555555555555556,\"#d8576b\"],[0.6666666666666666,\"#ed7953\"],[0.7777777777777778,\"#fb9f3a\"],[0.8888888888888888,\"#fdca26\"],[1.0,\"#f0f921\"]]}],\"heatmap\":[{\"type\":\"heatmap\",\"colorbar\":{\"outlinewidth\":0,\"ticks\":\"\"},\"colorscale\":[[0.0,\"#0d0887\"],[0.1111111111111111,\"#46039f\"],[0.2222222222222222,\"#7201a8\"],[0.3333333333333333,\"#9c179e\"],[0.4444444444444444,\"#bd3786\"],[0.5555555555555556,\"#d8576b\"],[0.6666666666666666,\"#ed7953\"],[0.7777777777777778,\"#fb9f3a\"],[0.8888888888888888,\"#fdca26\"],[1.0,\"#f0f921\"]]}],\"heatmapgl\":[{\"type\":\"heatmapgl\",\"colorbar\":{\"outlinewidth\":0,\"ticks\":\"\"},\"colorscale\":[[0.0,\"#0d0887\"],[0.1111111111111111,\"#46039f\"],[0.2222222222222222,\"#7201a8\"],[0.3333333333333333,\"#9c179e\"],[0.4444444444444444,\"#bd3786\"],[0.5555555555555556,\"#d8576b\"],[0.6666666666666666,\"#ed7953\"],[0.7777777777777778,\"#fb9f3a\"],[0.8888888888888888,\"#fdca26\"],[1.0,\"#f0f921\"]]}],\"contourcarpet\":[{\"type\":\"contourcarpet\",\"colorbar\":{\"outlinewidth\":0,\"ticks\":\"\"}}],\"contour\":[{\"type\":\"contour\",\"colorbar\":{\"outlinewidth\":0,\"ticks\":\"\"},\"colorscale\":[[0.0,\"#0d0887\"],[0.1111111111111111,\"#46039f\"],[0.2222222222222222,\"#7201a8\"],[0.3333333333333333,\"#9c179e\"],[0.4444444444444444,\"#bd3786\"],[0.5555555555555556,\"#d8576b\"],[0.6666666666666666,\"#ed7953\"],[0.7777777777777778,\"#fb9f3a\"],[0.8888888888888888,\"#fdca26\"],[1.0,\"#f0f921\"]]}],\"surface\":[{\"type\":\"surface\",\"colorbar\":{\"outlinewidth\":0,\"ticks\":\"\"},\"colorscale\":[[0.0,\"#0d0887\"],[0.1111111111111111,\"#46039f\"],[0.2222222222222222,\"#7201a8\"],[0.3333333333333333,\"#9c179e\"],[0.4444444444444444,\"#bd3786\"],[0.5555555555555556,\"#d8576b\"],[0.6666666666666666,\"#ed7953\"],[0.7777777777777778,\"#fb9f3a\"],[0.8888888888888888,\"#fdca26\"],[1.0,\"#f0f921\"]]}],\"mesh3d\":[{\"type\":\"mesh3d\",\"colorbar\":{\"outlinewidth\":0,\"ticks\":\"\"}}],\"scatter\":[{\"fillpattern\":{\"fillmode\":\"overlay\",\"size\":10,\"solidity\":0.2},\"type\":\"scatter\"}],\"parcoords\":[{\"type\":\"parcoords\",\"line\":{\"colorbar\":{\"outlinewidth\":0,\"ticks\":\"\"}}}],\"scatterpolargl\":[{\"type\":\"scatterpolargl\",\"marker\":{\"colorbar\":{\"outlinewidth\":0,\"ticks\":\"\"}}}],\"bar\":[{\"error_x\":{\"color\":\"#2a3f5f\"},\"error_y\":{\"color\":\"#2a3f5f\"},\"marker\":{\"line\":{\"color\":\"#E5ECF6\",\"width\":0.5},\"pattern\":{\"fillmode\":\"overlay\",\"size\":10,\"solidity\":0.2}},\"type\":\"bar\"}],\"scattergeo\":[{\"type\":\"scattergeo\",\"marker\":{\"colorbar\":{\"outlinewidth\":0,\"ticks\":\"\"}}}],\"scatterpolar\":[{\"type\":\"scatterpolar\",\"marker\":{\"colorbar\":{\"outlinewidth\":0,\"ticks\":\"\"}}}],\"histogram\":[{\"marker\":{\"pattern\":{\"fillmode\":\"overlay\",\"size\":10,\"solidity\":0.2}},\"type\":\"histogram\"}],\"scattergl\":[{\"type\":\"scattergl\",\"marker\":{\"colorbar\":{\"outlinewidth\":0,\"ticks\":\"\"}}}],\"scatter3d\":[{\"type\":\"scatter3d\",\"line\":{\"colorbar\":{\"outlinewidth\":0,\"ticks\":\"\"}},\"marker\":{\"colorbar\":{\"outlinewidth\":0,\"ticks\":\"\"}}}],\"scattermapbox\":[{\"type\":\"scattermapbox\",\"marker\":{\"colorbar\":{\"outlinewidth\":0,\"ticks\":\"\"}}}],\"scatterternary\":[{\"type\":\"scatterternary\",\"marker\":{\"colorbar\":{\"outlinewidth\":0,\"ticks\":\"\"}}}],\"scattercarpet\":[{\"type\":\"scattercarpet\",\"marker\":{\"colorbar\":{\"outlinewidth\":0,\"ticks\":\"\"}}}],\"carpet\":[{\"aaxis\":{\"endlinecolor\":\"#2a3f5f\",\"gridcolor\":\"white\",\"linecolor\":\"white\",\"minorgridcolor\":\"white\",\"startlinecolor\":\"#2a3f5f\"},\"baxis\":{\"endlinecolor\":\"#2a3f5f\",\"gridcolor\":\"white\",\"linecolor\":\"white\",\"minorgridcolor\":\"white\",\"startlinecolor\":\"#2a3f5f\"},\"type\":\"carpet\"}],\"table\":[{\"cells\":{\"fill\":{\"color\":\"#EBF0F8\"},\"line\":{\"color\":\"white\"}},\"header\":{\"fill\":{\"color\":\"#C8D4E3\"},\"line\":{\"color\":\"white\"}},\"type\":\"table\"}],\"barpolar\":[{\"marker\":{\"line\":{\"color\":\"#E5ECF6\",\"width\":0.5},\"pattern\":{\"fillmode\":\"overlay\",\"size\":10,\"solidity\":0.2}},\"type\":\"barpolar\"}],\"pie\":[{\"automargin\":true,\"type\":\"pie\"}]},\"layout\":{\"autotypenumbers\":\"strict\",\"colorway\":[\"#636efa\",\"#EF553B\",\"#00cc96\",\"#ab63fa\",\"#FFA15A\",\"#19d3f3\",\"#FF6692\",\"#B6E880\",\"#FF97FF\",\"#FECB52\"],\"font\":{\"color\":\"#2a3f5f\"},\"hovermode\":\"closest\",\"hoverlabel\":{\"align\":\"left\"},\"paper_bgcolor\":\"white\",\"plot_bgcolor\":\"#E5ECF6\",\"polar\":{\"bgcolor\":\"#E5ECF6\",\"angularaxis\":{\"gridcolor\":\"white\",\"linecolor\":\"white\",\"ticks\":\"\"},\"radialaxis\":{\"gridcolor\":\"white\",\"linecolor\":\"white\",\"ticks\":\"\"}},\"ternary\":{\"bgcolor\":\"#E5ECF6\",\"aaxis\":{\"gridcolor\":\"white\",\"linecolor\":\"white\",\"ticks\":\"\"},\"baxis\":{\"gridcolor\":\"white\",\"linecolor\":\"white\",\"ticks\":\"\"},\"caxis\":{\"gridcolor\":\"white\",\"linecolor\":\"white\",\"ticks\":\"\"}},\"coloraxis\":{\"colorbar\":{\"outlinewidth\":0,\"ticks\":\"\"}},\"colorscale\":{\"sequential\":[[0.0,\"#0d0887\"],[0.1111111111111111,\"#46039f\"],[0.2222222222222222,\"#7201a8\"],[0.3333333333333333,\"#9c179e\"],[0.4444444444444444,\"#bd3786\"],[0.5555555555555556,\"#d8576b\"],[0.6666666666666666,\"#ed7953\"],[0.7777777777777778,\"#fb9f3a\"],[0.8888888888888888,\"#fdca26\"],[1.0,\"#f0f921\"]],\"sequentialminus\":[[0.0,\"#0d0887\"],[0.1111111111111111,\"#46039f\"],[0.2222222222222222,\"#7201a8\"],[0.3333333333333333,\"#9c179e\"],[0.4444444444444444,\"#bd3786\"],[0.5555555555555556,\"#d8576b\"],[0.6666666666666666,\"#ed7953\"],[0.7777777777777778,\"#fb9f3a\"],[0.8888888888888888,\"#fdca26\"],[1.0,\"#f0f921\"]],\"diverging\":[[0,\"#8e0152\"],[0.1,\"#c51b7d\"],[0.2,\"#de77ae\"],[0.3,\"#f1b6da\"],[0.4,\"#fde0ef\"],[0.5,\"#f7f7f7\"],[0.6,\"#e6f5d0\"],[0.7,\"#b8e186\"],[0.8,\"#7fbc41\"],[0.9,\"#4d9221\"],[1,\"#276419\"]]},\"xaxis\":{\"gridcolor\":\"white\",\"linecolor\":\"white\",\"ticks\":\"\",\"title\":{\"standoff\":15},\"zerolinecolor\":\"white\",\"automargin\":true,\"zerolinewidth\":2},\"yaxis\":{\"gridcolor\":\"white\",\"linecolor\":\"white\",\"ticks\":\"\",\"title\":{\"standoff\":15},\"zerolinecolor\":\"white\",\"automargin\":true,\"zerolinewidth\":2},\"scene\":{\"xaxis\":{\"backgroundcolor\":\"#E5ECF6\",\"gridcolor\":\"white\",\"linecolor\":\"white\",\"showbackground\":true,\"ticks\":\"\",\"zerolinecolor\":\"white\",\"gridwidth\":2},\"yaxis\":{\"backgroundcolor\":\"#E5ECF6\",\"gridcolor\":\"white\",\"linecolor\":\"white\",\"showbackground\":true,\"ticks\":\"\",\"zerolinecolor\":\"white\",\"gridwidth\":2},\"zaxis\":{\"backgroundcolor\":\"#E5ECF6\",\"gridcolor\":\"white\",\"linecolor\":\"white\",\"showbackground\":true,\"ticks\":\"\",\"zerolinecolor\":\"white\",\"gridwidth\":2}},\"shapedefaults\":{\"line\":{\"color\":\"#2a3f5f\"}},\"annotationdefaults\":{\"arrowcolor\":\"#2a3f5f\",\"arrowhead\":0,\"arrowwidth\":1},\"geo\":{\"bgcolor\":\"white\",\"landcolor\":\"#E5ECF6\",\"subunitcolor\":\"white\",\"showland\":true,\"showlakes\":true,\"lakecolor\":\"white\"},\"title\":{\"x\":0.05},\"mapbox\":{\"style\":\"light\"}}},\"xaxis\":{\"anchor\":\"y\",\"domain\":[0.0,1.0],\"title\":{\"text\":\"date\"}},\"yaxis\":{\"anchor\":\"x\",\"domain\":[0.0,1.0],\"title\":{\"text\":\"count_\"}},\"legend\":{\"tracegroupgap\":0},\"title\":{\"text\":\"Latina\"}},                        {\"responsive\": true}                    ).then(function(){\n",
       "                            \n",
       "var gd = document.getElementById('7ac2d25b-3f81-4925-a161-95125d7a57ab');\n",
       "var x = new MutationObserver(function (mutations, observer) {{\n",
       "        var display = window.getComputedStyle(gd).display;\n",
       "        if (!display || display === 'none') {{\n",
       "            console.log([gd, 'removed!']);\n",
       "            Plotly.purge(gd);\n",
       "            observer.disconnect();\n",
       "        }}\n",
       "}});\n",
       "\n",
       "// Listen for the removal of the full notebook cells\n",
       "var notebookContainer = gd.closest('#notebook-container');\n",
       "if (notebookContainer) {{\n",
       "    x.observe(notebookContainer, {childList: true});\n",
       "}}\n",
       "\n",
       "// Listen for the clearing of the current output cell\n",
       "var outputEl = gd.closest('.output');\n",
       "if (outputEl) {{\n",
       "    x.observe(outputEl, {childList: true});\n",
       "}}\n",
       "\n",
       "                        })                };                });            </script>        </div>"
      ]
     },
     "metadata": {},
     "output_type": "display_data"
    },
    {
     "data": {
      "application/vnd.plotly.v1+json": {
       "config": {
        "plotlyServerURL": "https://plot.ly"
       },
       "data": [
        {
         "hovertemplate": "price=%{x}<br>demand=%{y}<extra></extra>",
         "legendgroup": "",
         "marker": {
          "color": "#636efa",
          "symbol": "circle"
         },
         "mode": "markers",
         "name": "",
         "orientation": "v",
         "showlegend": false,
         "type": "scatter",
         "x": [
          10,
          11,
          12,
          13,
          14.000000000000002,
          15,
          16,
          17,
          18,
          19,
          20,
          21,
          22,
          23,
          24,
          25,
          26,
          27,
          28.000000000000004,
          28.999999999999996,
          30,
          31,
          32,
          33,
          34,
          35,
          36,
          37,
          38,
          39,
          40,
          41,
          42,
          43,
          44,
          45,
          46,
          47,
          48,
          49,
          50,
          51,
          52,
          53,
          54,
          55.00000000000001,
          56.00000000000001,
          56.99999999999999,
          57.99999999999999,
          59,
          60,
          61,
          62,
          63,
          64,
          65,
          66,
          67,
          68,
          69,
          70,
          71,
          72,
          73,
          74,
          75,
          76,
          77,
          78,
          79,
          80,
          81,
          82,
          83,
          84,
          85,
          86,
          87,
          88,
          89,
          90,
          91,
          92,
          93,
          94,
          95,
          96,
          97,
          98,
          99,
          100,
          101,
          102,
          103,
          104,
          105,
          106,
          107,
          108,
          109.00000000000001,
          110.00000000000001,
          111.00000000000001,
          112.00000000000001,
          112.99999999999999,
          113.99999999999999,
          114.99999999999999,
          115.99999999999999,
          117,
          118,
          119,
          120,
          121,
          122,
          123,
          124,
          125,
          126,
          127,
          128,
          129,
          130,
          131,
          132,
          133,
          134,
          135,
          136,
          137,
          138,
          139,
          140,
          141,
          142,
          143,
          144,
          145,
          146,
          147,
          148,
          149,
          150,
          151,
          152,
          153,
          154,
          155,
          156,
          157,
          158,
          159,
          160,
          161,
          162,
          163,
          164,
          165,
          166,
          167,
          168,
          169,
          170,
          171,
          172,
          173,
          174,
          175,
          176,
          177,
          178,
          179,
          180,
          181,
          182,
          183,
          184,
          185,
          186,
          187,
          188,
          189,
          190,
          191,
          192,
          193,
          194,
          195,
          196,
          197,
          198,
          199,
          200,
          200.99999999999997,
          202,
          202.99999999999997,
          204,
          204.99999999999997,
          206,
          206.99999999999997,
          208,
          209,
          210,
          211,
          212,
          213,
          214,
          215,
          216,
          217,
          218.00000000000003,
          219,
          220.00000000000003,
          221,
          222.00000000000003,
          223,
          224.00000000000003,
          225,
          225.99999999999997,
          227,
          227.99999999999997,
          229,
          229.99999999999997,
          231,
          231.99999999999997,
          233,
          234,
          235,
          236,
          237,
          238,
          239,
          240,
          241,
          242,
          243.00000000000003,
          244,
          245.00000000000003,
          246,
          247.00000000000003,
          248,
          249.00000000000003,
          250,
          250.99999999999997,
          252,
          252.99999999999997,
          254,
          254.99999999999997,
          256,
          257,
          258,
          259,
          260,
          261,
          262,
          263,
          264,
          265,
          266,
          267,
          268,
          269,
          270,
          271,
          272,
          273,
          274,
          275,
          276,
          277,
          278,
          279,
          280,
          281,
          282,
          283,
          284,
          285,
          286,
          287,
          288,
          289,
          290,
          291,
          292,
          293,
          294,
          295,
          296,
          297,
          298,
          299,
          300,
          301,
          302,
          303,
          304,
          305,
          306,
          307,
          308,
          309,
          310,
          311,
          312,
          313,
          314,
          315,
          316,
          317,
          318,
          319,
          320,
          321,
          322,
          323,
          324,
          325,
          326,
          327,
          328,
          329,
          330,
          331,
          332,
          333,
          334,
          335,
          336,
          337,
          338,
          339,
          340,
          341,
          342,
          343,
          344,
          345,
          346,
          347,
          348,
          349,
          350,
          351,
          352,
          353,
          354,
          355,
          356,
          357,
          358,
          359,
          360,
          361,
          362,
          363,
          364,
          365,
          366,
          367,
          368,
          369,
          370,
          371,
          372,
          373,
          374,
          375,
          376,
          377,
          378,
          379,
          380,
          381,
          382,
          383,
          384,
          385,
          386,
          387,
          388,
          389,
          390,
          391,
          392,
          393,
          394,
          395,
          396,
          397,
          398,
          399,
          400,
          401,
          401.99999999999994,
          403,
          404,
          405,
          405.99999999999994,
          407,
          408,
          409,
          409.99999999999994,
          411.00000000000006,
          412,
          413,
          413.99999999999994,
          415.00000000000006,
          416,
          417,
          418,
          419.00000000000006,
          420,
          421,
          422,
          423.00000000000006,
          424,
          425,
          426,
          426.99999999999994,
          428,
          429,
          430,
          430.99999999999994,
          432,
          433,
          434,
          434.99999999999994,
          436.00000000000006,
          437,
          438,
          438.99999999999994,
          440.00000000000006,
          441,
          442,
          443,
          444.00000000000006,
          445,
          446,
          447,
          448.00000000000006,
          449,
          450,
          451,
          451.99999999999994,
          453,
          454,
          455,
          455.99999999999994,
          457,
          458,
          459,
          459.99999999999994,
          461.00000000000006,
          462,
          463,
          463.99999999999994,
          465.00000000000006,
          466,
          467,
          468,
          469.00000000000006,
          470,
          471,
          472,
          473.00000000000006,
          474,
          475,
          476,
          476.99999999999994,
          478,
          479,
          480,
          480.99999999999994,
          482,
          483,
          484,
          484.99999999999994,
          486.00000000000006,
          487,
          488,
          488.99999999999994,
          490.00000000000006,
          491,
          492,
          493,
          494.00000000000006,
          495,
          496,
          497,
          498.00000000000006,
          499,
          500,
          501,
          501.99999999999994,
          503,
          504,
          505,
          505.99999999999994,
          507,
          508,
          509
         ],
         "xaxis": "x",
         "y": [
          136.11374576891623,
          136.5331651844377,
          136.9538769943837,
          137.3758851811241,
          137.79919373930036,
          138.2238066758629,
          138.64972801010921,
          139.07696177372145,
          139.50551201080526,
          139.93538277792786,
          140.36657814415585,
          140.79910219109465,
          141.23295901292667,
          141.6681527164497,
          142.1046874211166,
          142.5425672590737,
          142.9817963752002,
          143.42237892714692,
          143.8643190853764,
          144.30762103320203,
          144.75228896682714,
          145.19832709538568,
          145.64573964098156,
          146.0945308387282,
          146.54470493678946,
          146.99626619641936,
          147.44921889200256,
          147.90356731109443,
          148.35931575446236,
          148.816468536126,
          149.2750299833979,
          149.735004436925,
          150.1963962507296,
          150.65920979224995,
          151.1234494423825,
          151.58911959552282,
          152.05622465960744,
          152.52476905615504,
          152.99475722030922,
          153.46619360087985,
          153.939082660385,
          154.41342887509387,
          154.88923673506878,
          155.36651074420726,
          155.84525542028558,
          156.3254752950008,
          156.80717491401415,
          157.29035883699328,
          157.77503163765644,
          158.26119790381526,
          158.74886223741782,
          159.23802925459296,
          159.72870358569364,
          160.22088987534033,
          160.71459278246576,
          161.20981698035854,
          161.70656715670762,
          162.20484801364614,
          162.7046642677968,
          163.20602065031596,
          163.70892190693814,
          164.21337279802174,
          164.7193780985937,
          165.2269425983942,
          165.73607110192293,
          166.24676842848396,
          166.75903941223166,
          167.2728889022159,
          167.78832176242872,
          168.30534287185012,
          168.8239571244936,
          169.34416942945353,
          169.86598471095107,
          170.38940790838038,
          170.91444397635627,
          171.4410978847605,
          171.96937461878912,
          172.49927917899907,
          173.03081658135636,
          173.56399185728318,
          174.09881005370505,
          174.63527623309943,
          175.17339547354328,
          175.71317286876067,
          176.25461352817177,
          176.79772257694083,
          177.34250515602477,
          177.88896642222144,
          178.43711154821918,
          178.98694572264543,
          179.5384741501153,
          180.09170205128189,
          180.64663466288508,
          181.20327723780073,
          181.76163504509142,
          182.32171337005548,
          182.88351751427754,
          183.44705279567793,
          184.01232454856412,
          184.5793381236806,
          185.1480988882591,
          185.71861222607043,
          186.2908835374748,
          186.86491823947262,
          187.44072176575662,
          188.01829956676272,
          188.59765710972195,
          189.17879987871143,
          189.7617333747074,
          190.34646311563677,
          190.9329946364288,
          191.52133348906847,
          192.11148524264854,
          192.7034554834224,
          193.29724981485634,
          193.8928738576837,
          194.4903332499574,
          195.0896336471029,
          195.69078072197274,
          196.29378016489983,
          196.89863768375054,
          197.50535900397998,
          198.11394986868564,
          198.72441603866116,
          199.33676329245202,
          199.95099742640937,
          200.56712425474544,
          201.1851496095877,
          201.80507934103534,
          202.42691931721382,
          203.0506754243301,
          203.67635356672946,
          204.30395966695045,
          204.93349966578154,
          205.5649795223165,
          206.19840521401196,
          206.83378273674333,
          207.47111810486126,
          208.11041735124934,
          208.7516865273809,
          209.39493170337568,
          210.04015896805834,
          210.68737442901556,
          211.33658421265338,
          211.98779446425618,
          212.64101134804417,
          213.29624104723217,
          213.95348976408724,
          214.61276371998864,
          215.27406915548616,
          215.9374123303585,
          216.60279952367387,
          217.2702370338486,
          217.93973117870635,
          218.6112882955391,
          219.28491474116623,
          219.9606168919952,
          220.638401144081,
          221.31827391318802,
          222.00024163485008,
          222.6843107644308,
          223.37048777718587,
          224.05877916832378,
          224.7491914530667,
          225.44173116671328,
          226.13640486469978,
          226.8332191226626,
          227.53218053649954,
          228.2332957224335,
          228.93657131707465,
          229.64201397748246,
          230.34963038123,
          231.0594272264664,
          231.77141123198047,
          232.48558913726373,
          233.20196770257527,
          233.92055370900516,
          234.64135395853805,
          235.36437527411874,
          236.08962449971597,
          236.8171085003877,
          237.54683416234505,
          238.27880839301915,
          239.0130381211248,
          239.74953029672744,
          240.48829189130817,
          241.22932989783016,
          241.97265133080396,
          242.71826322635525,
          243.46617264229067,
          244.21638665816414,
          244.96891237534504,
          245.72375691708464,
          246.48092742858393,
          247.24043107706035,
          248.00227505181707,
          248.76646656431024,
          249.53301284821666,
          250.30192115950354,
          251.07319877649638,
          251.84685299994825,
          252.62289115310796,
          253.40132058179103,
          254.18214865444742,
          254.96538276223276,
          255.75103031907756,
          256.5390987617577,
          257.32959554996404,
          258.12252816637425,
          258.91790411672315,
          259.7157309298728,
          260.51601615788553,
          261.318767376094,
          262.123992183174,
          262.9316982012147,
          263.741893075793,
          264.5545844760444,
          265.3697800947356,
          266.1874876483382,
          267.0077148771015,
          267.8304695451245,
          268.65575944043144,
          269.48359237504394,
          270.31397618505594,
          271.1469187307067,
          271.9824278964566,
          272.8205115910611,
          273.661177747645,
          274.50443432377875,
          275.35028930155323,
          276.19875068765447,
          277.04982651344096,
          277.90352483501874,
          278.7598537333181,
          279.618821314169,
          280.4804357083794,
          281.3447050718114,
          282.2116375854579,
          283.0812414555211,
          283.9535249134899,
          284.8284962162169,
          285.70616364599783,
          286.58653551064964,
          287.4696201435879,
          288.35542590390764,
          289.24396117646114,
          290.135234371938,
          291.0292539269435,
          291.9260283040804,
          292.82556599202786,
          293.72787550562117,
          294.6329653859341,
          295.5408442003583,
          296.4515205426854,
          297.3650030331868,
          298.2813003186973,
          299.2004210726958,
          300.1223739953869,
          301.0471678137847,
          301.97481128179425,
          302.9053131802952,
          303.83868231722363,
          304.7749275276573,
          305.71405767389746,
          306.65608164555397,
          307.60100835962913,
          308.5488467606018,
          309.4996058205126,
          310.45329453904765,
          311.40992194362576,
          312.3694970894815,
          313.33202905975315,
          314.2975269655672,
          315.26599994612553,
          316.2374571687905,
          317.2119078291735,
          318.18936115122136,
          319.1698263873024,
          320.15331281829606,
          321.1398297536795,
          322.12938653161626,
          323.12199251904354,
          324.1176571117626,
          325.1163897345267,
          326.1181998411298,
          327.1230969144974,
          328.1310904667755,
          329.14219003942003,
          330.15640520328867,
          331.1737455587305,
          332.19422073567637,
          333.2178403937314,
          334.2446142222655,
          335.27455194050555,
          336.3076632976263,
          337.34395807284426,
          338.38344607550977,
          339.42613714519854,
          340.47204115180665,
          341.52116799564305,
          342.5735276075236,
          343.629129948864,
          344.68798501177605,
          345.7501028191601,
          346.81549342480173,
          347.88416691346595,
          348.95613340099305,
          350.0314030343933,
          351.10998599194477,
          352.19189248328877,
          353.2771327495255,
          354.36571706331307,
          355.4576557289631,
          356.55295908253936,
          357.65163749195386,
          358.7537013570674,
          359.8591611097866,
          360.96802721416196,
          362.0803101664887,
          363.1960204954049,
          364.31516876199197,
          365.43776555987284,
          366.56382151531477,
          367.6933472873285,
          368.8263535677684,
          369.96285108143564,
          371.1028505861783,
          372.2463628729939,
          373.39339876613025,
          374.5439691231902,
          375.69808483523184,
          376.85575682687363,
          378.0169960563969,
          379.1818135158501,
          380.3502202311512,
          381.5222272621945,
          382.69784570295417,
          383.877086681588,
          385.0599613605453,
          386.24648093667054,
          387.4366566413107,
          388.6304997404197,
          389.8280215346675,
          391.0292333595448,
          392.23414658547205,
          393.44277261790626,
          394.65512289744896,
          395.87120889995504,
          397.0910421366399,
          398.31463415419086,
          399.5419965348737,
          400.77314089664475,
          402.0080788932594,
          403.24682221438303,
          404.4893825857006,
          405.7357717690293,
          406.9860015624293,
          408.24008380031387,
          409.49803035356393,
          410.75985312963877,
          412.0255640726897,
          413.29517516367133,
          414.56869842045785,
          415.84614589795365,
          417.1275296882101,
          418.4128619205385,
          419.70215476162537,
          420.99542041564774,
          422.2926711243875,
          423.59391916734955,
          424.89917686187545,
          426.2084565632622,
          427.52177066487803,
          428.83913159828035,
          430.1605518333317,
          431.4860438783205,
          432.815620280078,
          434.1492936240959,
          435.48707653464794,
          436.82898167490765,
          438.1750217470693,
          439.5252094924662,
          440.879557691694,
          442.23807916473027,
          443.60078677105463,
          444.9676934097732,
          446.3388120197386,
          447.71415557967373,
          449.09373710829254,
          450.4775696644265,
          451.8656663471447,
          453.2580402958809,
          454.654704690556,
          456.0556727517039,
          457.4609577405948,
          458.8705729593633,
          460.2845317511331,
          461.7028475001419,
          463.1255336318708,
          464.5526036131695,
          465.98407095238446,
          467.4199491994869,
          468.86025194620004,
          470.30499282612834,
          471.7541855148877,
          473.20784373023344,
          474.6659812321905,
          476.12861182318443,
          477.59574934817005,
          479.06740769476556,
          480.5436007933807,
          482.0243426173513,
          483.50964718307034,
          484.99952855012094,
          486.4940008214082,
          487.9930781432947,
          489.4967747057339,
          491.00510474240247,
          492.51808253083794,
          494.0357223925719,
          495.55803869326695,
          497.08504584285026,
          498.6167582956534,
          500.15319055054573,
          501.6943571510744,
          503.24027268560064,
          504.7909517874384,
          506.3464091349914,
          507.9066594518943,
          509.4717175071508,
          511.0415981152739,
          512.6163161364249,
          514.1958864765559,
          515.7803240875498,
          517.3696439673627,
          518.9638611601637,
          520.5629907564805,
          522.1670478933391,
          523.7760477544098,
          525.3900055701491,
          527.0089366179452,
          528.6328562222602,
          530.2617797547784,
          531.8957226345502,
          533.5347003281366,
          535.1787283497588,
          536.8278222614424,
          538.4819976731667,
          540.1412702430094,
          541.8056556772988,
          543.4751697307601,
          545.1498282066638,
          546.8296469569775,
          548.5146418825149,
          550.2048289330863,
          551.9002241076486,
          553.600843454459,
          555.3067030712244,
          557.017819105256,
          558.7342077536207,
          560.4558852632955,
          562.1828679313192,
          563.9151721049494,
          565.6528141818162,
          567.3958106100755,
          569.1441778885679,
          570.8979325669729,
          572.6570912459666,
          574.4216705773765,
          576.1916872643429,
          577.9671580614734,
          579.7480997750039,
          581.5345292629568,
          583.3264634353004,
          585.1239192541101,
          586.9269137337259,
          588.7354639409182,
          590.5495869950444,
          592.3693000682149,
          594.1946203854536,
          596.025565224862,
          597.8621519177804,
          599.7043978489553,
          601.5523204567025,
          603.4059372330704,
          605.2652657240087,
          607.1303235295326,
          609.0011283038903,
          610.8776977557278,
          612.7600496482609,
          614.6482017994382,
          616.5421720821141,
          618.4419784242159,
          620.3476388089141,
          622.2591712747907,
          624.1765939160134,
          626.0999248825044,
          628.0291823801134,
          629.9643846707879,
          631.9055500727491
         ],
         "yaxis": "y"
        }
       ],
       "layout": {
        "legend": {
         "tracegroupgap": 0
        },
        "template": {
         "data": {
          "bar": [
           {
            "error_x": {
             "color": "#2a3f5f"
            },
            "error_y": {
             "color": "#2a3f5f"
            },
            "marker": {
             "line": {
              "color": "#E5ECF6",
              "width": 0.5
             },
             "pattern": {
              "fillmode": "overlay",
              "size": 10,
              "solidity": 0.2
             }
            },
            "type": "bar"
           }
          ],
          "barpolar": [
           {
            "marker": {
             "line": {
              "color": "#E5ECF6",
              "width": 0.5
             },
             "pattern": {
              "fillmode": "overlay",
              "size": 10,
              "solidity": 0.2
             }
            },
            "type": "barpolar"
           }
          ],
          "carpet": [
           {
            "aaxis": {
             "endlinecolor": "#2a3f5f",
             "gridcolor": "white",
             "linecolor": "white",
             "minorgridcolor": "white",
             "startlinecolor": "#2a3f5f"
            },
            "baxis": {
             "endlinecolor": "#2a3f5f",
             "gridcolor": "white",
             "linecolor": "white",
             "minorgridcolor": "white",
             "startlinecolor": "#2a3f5f"
            },
            "type": "carpet"
           }
          ],
          "choropleth": [
           {
            "colorbar": {
             "outlinewidth": 0,
             "ticks": ""
            },
            "type": "choropleth"
           }
          ],
          "contour": [
           {
            "colorbar": {
             "outlinewidth": 0,
             "ticks": ""
            },
            "colorscale": [
             [
              0,
              "#0d0887"
             ],
             [
              0.1111111111111111,
              "#46039f"
             ],
             [
              0.2222222222222222,
              "#7201a8"
             ],
             [
              0.3333333333333333,
              "#9c179e"
             ],
             [
              0.4444444444444444,
              "#bd3786"
             ],
             [
              0.5555555555555556,
              "#d8576b"
             ],
             [
              0.6666666666666666,
              "#ed7953"
             ],
             [
              0.7777777777777778,
              "#fb9f3a"
             ],
             [
              0.8888888888888888,
              "#fdca26"
             ],
             [
              1,
              "#f0f921"
             ]
            ],
            "type": "contour"
           }
          ],
          "contourcarpet": [
           {
            "colorbar": {
             "outlinewidth": 0,
             "ticks": ""
            },
            "type": "contourcarpet"
           }
          ],
          "heatmap": [
           {
            "colorbar": {
             "outlinewidth": 0,
             "ticks": ""
            },
            "colorscale": [
             [
              0,
              "#0d0887"
             ],
             [
              0.1111111111111111,
              "#46039f"
             ],
             [
              0.2222222222222222,
              "#7201a8"
             ],
             [
              0.3333333333333333,
              "#9c179e"
             ],
             [
              0.4444444444444444,
              "#bd3786"
             ],
             [
              0.5555555555555556,
              "#d8576b"
             ],
             [
              0.6666666666666666,
              "#ed7953"
             ],
             [
              0.7777777777777778,
              "#fb9f3a"
             ],
             [
              0.8888888888888888,
              "#fdca26"
             ],
             [
              1,
              "#f0f921"
             ]
            ],
            "type": "heatmap"
           }
          ],
          "heatmapgl": [
           {
            "colorbar": {
             "outlinewidth": 0,
             "ticks": ""
            },
            "colorscale": [
             [
              0,
              "#0d0887"
             ],
             [
              0.1111111111111111,
              "#46039f"
             ],
             [
              0.2222222222222222,
              "#7201a8"
             ],
             [
              0.3333333333333333,
              "#9c179e"
             ],
             [
              0.4444444444444444,
              "#bd3786"
             ],
             [
              0.5555555555555556,
              "#d8576b"
             ],
             [
              0.6666666666666666,
              "#ed7953"
             ],
             [
              0.7777777777777778,
              "#fb9f3a"
             ],
             [
              0.8888888888888888,
              "#fdca26"
             ],
             [
              1,
              "#f0f921"
             ]
            ],
            "type": "heatmapgl"
           }
          ],
          "histogram": [
           {
            "marker": {
             "pattern": {
              "fillmode": "overlay",
              "size": 10,
              "solidity": 0.2
             }
            },
            "type": "histogram"
           }
          ],
          "histogram2d": [
           {
            "colorbar": {
             "outlinewidth": 0,
             "ticks": ""
            },
            "colorscale": [
             [
              0,
              "#0d0887"
             ],
             [
              0.1111111111111111,
              "#46039f"
             ],
             [
              0.2222222222222222,
              "#7201a8"
             ],
             [
              0.3333333333333333,
              "#9c179e"
             ],
             [
              0.4444444444444444,
              "#bd3786"
             ],
             [
              0.5555555555555556,
              "#d8576b"
             ],
             [
              0.6666666666666666,
              "#ed7953"
             ],
             [
              0.7777777777777778,
              "#fb9f3a"
             ],
             [
              0.8888888888888888,
              "#fdca26"
             ],
             [
              1,
              "#f0f921"
             ]
            ],
            "type": "histogram2d"
           }
          ],
          "histogram2dcontour": [
           {
            "colorbar": {
             "outlinewidth": 0,
             "ticks": ""
            },
            "colorscale": [
             [
              0,
              "#0d0887"
             ],
             [
              0.1111111111111111,
              "#46039f"
             ],
             [
              0.2222222222222222,
              "#7201a8"
             ],
             [
              0.3333333333333333,
              "#9c179e"
             ],
             [
              0.4444444444444444,
              "#bd3786"
             ],
             [
              0.5555555555555556,
              "#d8576b"
             ],
             [
              0.6666666666666666,
              "#ed7953"
             ],
             [
              0.7777777777777778,
              "#fb9f3a"
             ],
             [
              0.8888888888888888,
              "#fdca26"
             ],
             [
              1,
              "#f0f921"
             ]
            ],
            "type": "histogram2dcontour"
           }
          ],
          "mesh3d": [
           {
            "colorbar": {
             "outlinewidth": 0,
             "ticks": ""
            },
            "type": "mesh3d"
           }
          ],
          "parcoords": [
           {
            "line": {
             "colorbar": {
              "outlinewidth": 0,
              "ticks": ""
             }
            },
            "type": "parcoords"
           }
          ],
          "pie": [
           {
            "automargin": true,
            "type": "pie"
           }
          ],
          "scatter": [
           {
            "fillpattern": {
             "fillmode": "overlay",
             "size": 10,
             "solidity": 0.2
            },
            "type": "scatter"
           }
          ],
          "scatter3d": [
           {
            "line": {
             "colorbar": {
              "outlinewidth": 0,
              "ticks": ""
             }
            },
            "marker": {
             "colorbar": {
              "outlinewidth": 0,
              "ticks": ""
             }
            },
            "type": "scatter3d"
           }
          ],
          "scattercarpet": [
           {
            "marker": {
             "colorbar": {
              "outlinewidth": 0,
              "ticks": ""
             }
            },
            "type": "scattercarpet"
           }
          ],
          "scattergeo": [
           {
            "marker": {
             "colorbar": {
              "outlinewidth": 0,
              "ticks": ""
             }
            },
            "type": "scattergeo"
           }
          ],
          "scattergl": [
           {
            "marker": {
             "colorbar": {
              "outlinewidth": 0,
              "ticks": ""
             }
            },
            "type": "scattergl"
           }
          ],
          "scattermapbox": [
           {
            "marker": {
             "colorbar": {
              "outlinewidth": 0,
              "ticks": ""
             }
            },
            "type": "scattermapbox"
           }
          ],
          "scatterpolar": [
           {
            "marker": {
             "colorbar": {
              "outlinewidth": 0,
              "ticks": ""
             }
            },
            "type": "scatterpolar"
           }
          ],
          "scatterpolargl": [
           {
            "marker": {
             "colorbar": {
              "outlinewidth": 0,
              "ticks": ""
             }
            },
            "type": "scatterpolargl"
           }
          ],
          "scatterternary": [
           {
            "marker": {
             "colorbar": {
              "outlinewidth": 0,
              "ticks": ""
             }
            },
            "type": "scatterternary"
           }
          ],
          "surface": [
           {
            "colorbar": {
             "outlinewidth": 0,
             "ticks": ""
            },
            "colorscale": [
             [
              0,
              "#0d0887"
             ],
             [
              0.1111111111111111,
              "#46039f"
             ],
             [
              0.2222222222222222,
              "#7201a8"
             ],
             [
              0.3333333333333333,
              "#9c179e"
             ],
             [
              0.4444444444444444,
              "#bd3786"
             ],
             [
              0.5555555555555556,
              "#d8576b"
             ],
             [
              0.6666666666666666,
              "#ed7953"
             ],
             [
              0.7777777777777778,
              "#fb9f3a"
             ],
             [
              0.8888888888888888,
              "#fdca26"
             ],
             [
              1,
              "#f0f921"
             ]
            ],
            "type": "surface"
           }
          ],
          "table": [
           {
            "cells": {
             "fill": {
              "color": "#EBF0F8"
             },
             "line": {
              "color": "white"
             }
            },
            "header": {
             "fill": {
              "color": "#C8D4E3"
             },
             "line": {
              "color": "white"
             }
            },
            "type": "table"
           }
          ]
         },
         "layout": {
          "annotationdefaults": {
           "arrowcolor": "#2a3f5f",
           "arrowhead": 0,
           "arrowwidth": 1
          },
          "autotypenumbers": "strict",
          "coloraxis": {
           "colorbar": {
            "outlinewidth": 0,
            "ticks": ""
           }
          },
          "colorscale": {
           "diverging": [
            [
             0,
             "#8e0152"
            ],
            [
             0.1,
             "#c51b7d"
            ],
            [
             0.2,
             "#de77ae"
            ],
            [
             0.3,
             "#f1b6da"
            ],
            [
             0.4,
             "#fde0ef"
            ],
            [
             0.5,
             "#f7f7f7"
            ],
            [
             0.6,
             "#e6f5d0"
            ],
            [
             0.7,
             "#b8e186"
            ],
            [
             0.8,
             "#7fbc41"
            ],
            [
             0.9,
             "#4d9221"
            ],
            [
             1,
             "#276419"
            ]
           ],
           "sequential": [
            [
             0,
             "#0d0887"
            ],
            [
             0.1111111111111111,
             "#46039f"
            ],
            [
             0.2222222222222222,
             "#7201a8"
            ],
            [
             0.3333333333333333,
             "#9c179e"
            ],
            [
             0.4444444444444444,
             "#bd3786"
            ],
            [
             0.5555555555555556,
             "#d8576b"
            ],
            [
             0.6666666666666666,
             "#ed7953"
            ],
            [
             0.7777777777777778,
             "#fb9f3a"
            ],
            [
             0.8888888888888888,
             "#fdca26"
            ],
            [
             1,
             "#f0f921"
            ]
           ],
           "sequentialminus": [
            [
             0,
             "#0d0887"
            ],
            [
             0.1111111111111111,
             "#46039f"
            ],
            [
             0.2222222222222222,
             "#7201a8"
            ],
            [
             0.3333333333333333,
             "#9c179e"
            ],
            [
             0.4444444444444444,
             "#bd3786"
            ],
            [
             0.5555555555555556,
             "#d8576b"
            ],
            [
             0.6666666666666666,
             "#ed7953"
            ],
            [
             0.7777777777777778,
             "#fb9f3a"
            ],
            [
             0.8888888888888888,
             "#fdca26"
            ],
            [
             1,
             "#f0f921"
            ]
           ]
          },
          "colorway": [
           "#636efa",
           "#EF553B",
           "#00cc96",
           "#ab63fa",
           "#FFA15A",
           "#19d3f3",
           "#FF6692",
           "#B6E880",
           "#FF97FF",
           "#FECB52"
          ],
          "font": {
           "color": "#2a3f5f"
          },
          "geo": {
           "bgcolor": "white",
           "lakecolor": "white",
           "landcolor": "#E5ECF6",
           "showlakes": true,
           "showland": true,
           "subunitcolor": "white"
          },
          "hoverlabel": {
           "align": "left"
          },
          "hovermode": "closest",
          "mapbox": {
           "style": "light"
          },
          "paper_bgcolor": "white",
          "plot_bgcolor": "#E5ECF6",
          "polar": {
           "angularaxis": {
            "gridcolor": "white",
            "linecolor": "white",
            "ticks": ""
           },
           "bgcolor": "#E5ECF6",
           "radialaxis": {
            "gridcolor": "white",
            "linecolor": "white",
            "ticks": ""
           }
          },
          "scene": {
           "xaxis": {
            "backgroundcolor": "#E5ECF6",
            "gridcolor": "white",
            "gridwidth": 2,
            "linecolor": "white",
            "showbackground": true,
            "ticks": "",
            "zerolinecolor": "white"
           },
           "yaxis": {
            "backgroundcolor": "#E5ECF6",
            "gridcolor": "white",
            "gridwidth": 2,
            "linecolor": "white",
            "showbackground": true,
            "ticks": "",
            "zerolinecolor": "white"
           },
           "zaxis": {
            "backgroundcolor": "#E5ECF6",
            "gridcolor": "white",
            "gridwidth": 2,
            "linecolor": "white",
            "showbackground": true,
            "ticks": "",
            "zerolinecolor": "white"
           }
          },
          "shapedefaults": {
           "line": {
            "color": "#2a3f5f"
           }
          },
          "ternary": {
           "aaxis": {
            "gridcolor": "white",
            "linecolor": "white",
            "ticks": ""
           },
           "baxis": {
            "gridcolor": "white",
            "linecolor": "white",
            "ticks": ""
           },
           "bgcolor": "#E5ECF6",
           "caxis": {
            "gridcolor": "white",
            "linecolor": "white",
            "ticks": ""
           }
          },
          "title": {
           "x": 0.05
          },
          "xaxis": {
           "automargin": true,
           "gridcolor": "white",
           "linecolor": "white",
           "ticks": "",
           "title": {
            "standoff": 15
           },
           "zerolinecolor": "white",
           "zerolinewidth": 2
          },
          "yaxis": {
           "automargin": true,
           "gridcolor": "white",
           "linecolor": "white",
           "ticks": "",
           "title": {
            "standoff": 15
           },
           "zerolinecolor": "white",
           "zerolinewidth": 2
          }
         }
        },
        "title": {
         "text": "Latina"
        },
        "xaxis": {
         "anchor": "y",
         "domain": [
          0,
          1
         ],
         "title": {
          "text": "price"
         }
        },
        "yaxis": {
         "anchor": "x",
         "domain": [
          0,
          1
         ],
         "title": {
          "text": "demand"
         }
        }
       }
      },
      "text/html": [
       "<div>                            <div id=\"6a7da5fd-b241-4f25-b158-c4eab256f53c\" class=\"plotly-graph-div\" style=\"height:525px; width:100%;\"></div>            <script type=\"text/javascript\">                require([\"plotly\"], function(Plotly) {                    window.PLOTLYENV=window.PLOTLYENV || {};                                    if (document.getElementById(\"6a7da5fd-b241-4f25-b158-c4eab256f53c\")) {                    Plotly.newPlot(                        \"6a7da5fd-b241-4f25-b158-c4eab256f53c\",                        [{\"hovertemplate\":\"price=%{x}<br>demand=%{y}<extra></extra>\",\"legendgroup\":\"\",\"marker\":{\"color\":\"#636efa\",\"symbol\":\"circle\"},\"mode\":\"markers\",\"name\":\"\",\"orientation\":\"v\",\"showlegend\":false,\"x\":[10.0,11.0,12.0,13.0,14.000000000000002,15.0,16.0,17.0,18.0,19.0,20.0,21.0,22.0,23.0,24.0,25.0,26.0,27.0,28.000000000000004,28.999999999999996,30.0,31.0,32.0,33.0,34.0,35.0,36.0,37.0,38.0,39.0,40.0,41.0,42.0,43.0,44.0,45.0,46.0,47.0,48.0,49.0,50.0,51.0,52.0,53.0,54.0,55.00000000000001,56.00000000000001,56.99999999999999,57.99999999999999,59.0,60.0,61.0,62.0,63.0,64.0,65.0,66.0,67.0,68.0,69.0,70.0,71.0,72.0,73.0,74.0,75.0,76.0,77.0,78.0,79.0,80.0,81.0,82.0,83.0,84.0,85.0,86.0,87.0,88.0,89.0,90.0,91.0,92.0,93.0,94.0,95.0,96.0,97.0,98.0,99.0,100.0,101.0,102.0,103.0,104.0,105.0,106.0,107.0,108.0,109.00000000000001,110.00000000000001,111.00000000000001,112.00000000000001,112.99999999999999,113.99999999999999,114.99999999999999,115.99999999999999,117.0,118.0,119.0,120.0,121.0,122.0,123.0,124.0,125.0,126.0,127.0,128.0,129.0,130.0,131.0,132.0,133.0,134.0,135.0,136.0,137.0,138.0,139.0,140.0,141.0,142.0,143.0,144.0,145.0,146.0,147.0,148.0,149.0,150.0,151.0,152.0,153.0,154.0,155.0,156.0,157.0,158.0,159.0,160.0,161.0,162.0,163.0,164.0,165.0,166.0,167.0,168.0,169.0,170.0,171.0,172.0,173.0,174.0,175.0,176.0,177.0,178.0,179.0,180.0,181.0,182.0,183.0,184.0,185.0,186.0,187.0,188.0,189.0,190.0,191.0,192.0,193.0,194.0,195.0,196.0,197.0,198.0,199.0,200.0,200.99999999999997,202.0,202.99999999999997,204.0,204.99999999999997,206.0,206.99999999999997,208.0,209.0,210.0,211.0,212.0,213.0,214.0,215.0,216.0,217.0,218.00000000000003,219.0,220.00000000000003,221.0,222.00000000000003,223.0,224.00000000000003,225.0,225.99999999999997,227.0,227.99999999999997,229.0,229.99999999999997,231.0,231.99999999999997,233.0,234.0,235.0,236.0,237.0,238.0,239.0,240.0,241.0,242.0,243.00000000000003,244.0,245.00000000000003,246.0,247.00000000000003,248.0,249.00000000000003,250.0,250.99999999999997,252.0,252.99999999999997,254.0,254.99999999999997,256.0,257.0,258.0,259.0,260.0,261.0,262.0,263.0,264.0,265.0,266.0,267.0,268.0,269.0,270.0,271.0,272.0,273.0,274.0,275.0,276.0,277.0,278.0,279.0,280.0,281.0,282.0,283.0,284.0,285.0,286.0,287.0,288.0,289.0,290.0,291.0,292.0,293.0,294.0,295.0,296.0,297.0,298.0,299.0,300.0,301.0,302.0,303.0,304.0,305.0,306.0,307.0,308.0,309.0,310.0,311.0,312.0,313.0,314.0,315.0,316.0,317.0,318.0,319.0,320.0,321.0,322.0,323.0,324.0,325.0,326.0,327.0,328.0,329.0,330.0,331.0,332.0,333.0,334.0,335.0,336.0,337.0,338.0,339.0,340.0,341.0,342.0,343.0,344.0,345.0,346.0,347.0,348.0,349.0,350.0,351.0,352.0,353.0,354.0,355.0,356.0,357.0,358.0,359.0,360.0,361.0,362.0,363.0,364.0,365.0,366.0,367.0,368.0,369.0,370.0,371.0,372.0,373.0,374.0,375.0,376.0,377.0,378.0,379.0,380.0,381.0,382.0,383.0,384.0,385.0,386.0,387.0,388.0,389.0,390.0,391.0,392.0,393.0,394.0,395.0,396.0,397.0,398.0,399.0,400.0,401.0,401.99999999999994,403.0,404.0,405.0,405.99999999999994,407.0,408.0,409.0,409.99999999999994,411.00000000000006,412.0,413.0,413.99999999999994,415.00000000000006,416.0,417.0,418.0,419.00000000000006,420.0,421.0,422.0,423.00000000000006,424.0,425.0,426.0,426.99999999999994,428.0,429.0,430.0,430.99999999999994,432.0,433.0,434.0,434.99999999999994,436.00000000000006,437.0,438.0,438.99999999999994,440.00000000000006,441.0,442.0,443.0,444.00000000000006,445.0,446.0,447.0,448.00000000000006,449.0,450.0,451.0,451.99999999999994,453.0,454.0,455.0,455.99999999999994,457.0,458.0,459.0,459.99999999999994,461.00000000000006,462.0,463.0,463.99999999999994,465.00000000000006,466.0,467.0,468.0,469.00000000000006,470.0,471.0,472.0,473.00000000000006,474.0,475.0,476.0,476.99999999999994,478.0,479.0,480.0,480.99999999999994,482.0,483.0,484.0,484.99999999999994,486.00000000000006,487.0,488.0,488.99999999999994,490.00000000000006,491.0,492.0,493.0,494.00000000000006,495.0,496.0,497.0,498.00000000000006,499.0,500.0,501.0,501.99999999999994,503.0,504.0,505.0,505.99999999999994,507.0,508.0,509.0],\"xaxis\":\"x\",\"y\":[136.11374576891623,136.5331651844377,136.9538769943837,137.3758851811241,137.79919373930036,138.2238066758629,138.64972801010921,139.07696177372145,139.50551201080526,139.93538277792786,140.36657814415585,140.79910219109465,141.23295901292667,141.6681527164497,142.1046874211166,142.5425672590737,142.9817963752002,143.42237892714692,143.8643190853764,144.30762103320203,144.75228896682714,145.19832709538568,145.64573964098156,146.0945308387282,146.54470493678946,146.99626619641936,147.44921889200256,147.90356731109443,148.35931575446236,148.816468536126,149.2750299833979,149.735004436925,150.1963962507296,150.65920979224995,151.1234494423825,151.58911959552282,152.05622465960744,152.52476905615504,152.99475722030922,153.46619360087985,153.939082660385,154.41342887509387,154.88923673506878,155.36651074420726,155.84525542028558,156.3254752950008,156.80717491401415,157.29035883699328,157.77503163765644,158.26119790381526,158.74886223741782,159.23802925459296,159.72870358569364,160.22088987534033,160.71459278246576,161.20981698035854,161.70656715670762,162.20484801364614,162.7046642677968,163.20602065031596,163.70892190693814,164.21337279802174,164.7193780985937,165.2269425983942,165.73607110192293,166.24676842848396,166.75903941223166,167.2728889022159,167.78832176242872,168.30534287185012,168.8239571244936,169.34416942945353,169.86598471095107,170.38940790838038,170.91444397635627,171.4410978847605,171.96937461878912,172.49927917899907,173.03081658135636,173.56399185728318,174.09881005370505,174.63527623309943,175.17339547354328,175.71317286876067,176.25461352817177,176.79772257694083,177.34250515602477,177.88896642222144,178.43711154821918,178.98694572264543,179.5384741501153,180.09170205128189,180.64663466288508,181.20327723780073,181.76163504509142,182.32171337005548,182.88351751427754,183.44705279567793,184.01232454856412,184.5793381236806,185.1480988882591,185.71861222607043,186.2908835374748,186.86491823947262,187.44072176575662,188.01829956676272,188.59765710972195,189.17879987871143,189.7617333747074,190.34646311563677,190.9329946364288,191.52133348906847,192.11148524264854,192.7034554834224,193.29724981485634,193.8928738576837,194.4903332499574,195.0896336471029,195.69078072197274,196.29378016489983,196.89863768375054,197.50535900397998,198.11394986868564,198.72441603866116,199.33676329245202,199.95099742640937,200.56712425474544,201.1851496095877,201.80507934103534,202.42691931721382,203.0506754243301,203.67635356672946,204.30395966695045,204.93349966578154,205.5649795223165,206.19840521401196,206.83378273674333,207.47111810486126,208.11041735124934,208.7516865273809,209.39493170337568,210.04015896805834,210.68737442901556,211.33658421265338,211.98779446425618,212.64101134804417,213.29624104723217,213.95348976408724,214.61276371998864,215.27406915548616,215.9374123303585,216.60279952367387,217.2702370338486,217.93973117870635,218.6112882955391,219.28491474116623,219.9606168919952,220.638401144081,221.31827391318802,222.00024163485008,222.6843107644308,223.37048777718587,224.05877916832378,224.7491914530667,225.44173116671328,226.13640486469978,226.8332191226626,227.53218053649954,228.2332957224335,228.93657131707465,229.64201397748246,230.34963038123,231.0594272264664,231.77141123198047,232.48558913726373,233.20196770257527,233.92055370900516,234.64135395853805,235.36437527411874,236.08962449971597,236.8171085003877,237.54683416234505,238.27880839301915,239.0130381211248,239.74953029672744,240.48829189130817,241.22932989783016,241.97265133080396,242.71826322635525,243.46617264229067,244.21638665816414,244.96891237534504,245.72375691708464,246.48092742858393,247.24043107706035,248.00227505181707,248.76646656431024,249.53301284821666,250.30192115950354,251.07319877649638,251.84685299994825,252.62289115310796,253.40132058179103,254.18214865444742,254.96538276223276,255.75103031907756,256.5390987617577,257.32959554996404,258.12252816637425,258.91790411672315,259.7157309298728,260.51601615788553,261.318767376094,262.123992183174,262.9316982012147,263.741893075793,264.5545844760444,265.3697800947356,266.1874876483382,267.0077148771015,267.8304695451245,268.65575944043144,269.48359237504394,270.31397618505594,271.1469187307067,271.9824278964566,272.8205115910611,273.661177747645,274.50443432377875,275.35028930155323,276.19875068765447,277.04982651344096,277.90352483501874,278.7598537333181,279.618821314169,280.4804357083794,281.3447050718114,282.2116375854579,283.0812414555211,283.9535249134899,284.8284962162169,285.70616364599783,286.58653551064964,287.4696201435879,288.35542590390764,289.24396117646114,290.135234371938,291.0292539269435,291.9260283040804,292.82556599202786,293.72787550562117,294.6329653859341,295.5408442003583,296.4515205426854,297.3650030331868,298.2813003186973,299.2004210726958,300.1223739953869,301.0471678137847,301.97481128179425,302.9053131802952,303.83868231722363,304.7749275276573,305.71405767389746,306.65608164555397,307.60100835962913,308.5488467606018,309.4996058205126,310.45329453904765,311.40992194362576,312.3694970894815,313.33202905975315,314.2975269655672,315.26599994612553,316.2374571687905,317.2119078291735,318.18936115122136,319.1698263873024,320.15331281829606,321.1398297536795,322.12938653161626,323.12199251904354,324.1176571117626,325.1163897345267,326.1181998411298,327.1230969144974,328.1310904667755,329.14219003942003,330.15640520328867,331.1737455587305,332.19422073567637,333.2178403937314,334.2446142222655,335.27455194050555,336.3076632976263,337.34395807284426,338.38344607550977,339.42613714519854,340.47204115180665,341.52116799564305,342.5735276075236,343.629129948864,344.68798501177605,345.7501028191601,346.81549342480173,347.88416691346595,348.95613340099305,350.0314030343933,351.10998599194477,352.19189248328877,353.2771327495255,354.36571706331307,355.4576557289631,356.55295908253936,357.65163749195386,358.7537013570674,359.8591611097866,360.96802721416196,362.0803101664887,363.1960204954049,364.31516876199197,365.43776555987284,366.56382151531477,367.6933472873285,368.8263535677684,369.96285108143564,371.1028505861783,372.2463628729939,373.39339876613025,374.5439691231902,375.69808483523184,376.85575682687363,378.0169960563969,379.1818135158501,380.3502202311512,381.5222272621945,382.69784570295417,383.877086681588,385.0599613605453,386.24648093667054,387.4366566413107,388.6304997404197,389.8280215346675,391.0292333595448,392.23414658547205,393.44277261790626,394.65512289744896,395.87120889995504,397.0910421366399,398.31463415419086,399.5419965348737,400.77314089664475,402.0080788932594,403.24682221438303,404.4893825857006,405.7357717690293,406.9860015624293,408.24008380031387,409.49803035356393,410.75985312963877,412.0255640726897,413.29517516367133,414.56869842045785,415.84614589795365,417.1275296882101,418.4128619205385,419.70215476162537,420.99542041564774,422.2926711243875,423.59391916734955,424.89917686187545,426.2084565632622,427.52177066487803,428.83913159828035,430.1605518333317,431.4860438783205,432.815620280078,434.1492936240959,435.48707653464794,436.82898167490765,438.1750217470693,439.5252094924662,440.879557691694,442.23807916473027,443.60078677105463,444.9676934097732,446.3388120197386,447.71415557967373,449.09373710829254,450.4775696644265,451.8656663471447,453.2580402958809,454.654704690556,456.0556727517039,457.4609577405948,458.8705729593633,460.2845317511331,461.7028475001419,463.1255336318708,464.5526036131695,465.98407095238446,467.4199491994869,468.86025194620004,470.30499282612834,471.7541855148877,473.20784373023344,474.6659812321905,476.12861182318443,477.59574934817005,479.06740769476556,480.5436007933807,482.0243426173513,483.50964718307034,484.99952855012094,486.4940008214082,487.9930781432947,489.4967747057339,491.00510474240247,492.51808253083794,494.0357223925719,495.55803869326695,497.08504584285026,498.6167582956534,500.15319055054573,501.6943571510744,503.24027268560064,504.7909517874384,506.3464091349914,507.9066594518943,509.4717175071508,511.0415981152739,512.6163161364249,514.1958864765559,515.7803240875498,517.3696439673627,518.9638611601637,520.5629907564805,522.1670478933391,523.7760477544098,525.3900055701491,527.0089366179452,528.6328562222602,530.2617797547784,531.8957226345502,533.5347003281366,535.1787283497588,536.8278222614424,538.4819976731667,540.1412702430094,541.8056556772988,543.4751697307601,545.1498282066638,546.8296469569775,548.5146418825149,550.2048289330863,551.9002241076486,553.600843454459,555.3067030712244,557.017819105256,558.7342077536207,560.4558852632955,562.1828679313192,563.9151721049494,565.6528141818162,567.3958106100755,569.1441778885679,570.8979325669729,572.6570912459666,574.4216705773765,576.1916872643429,577.9671580614734,579.7480997750039,581.5345292629568,583.3264634353004,585.1239192541101,586.9269137337259,588.7354639409182,590.5495869950444,592.3693000682149,594.1946203854536,596.025565224862,597.8621519177804,599.7043978489553,601.5523204567025,603.4059372330704,605.2652657240087,607.1303235295326,609.0011283038903,610.8776977557278,612.7600496482609,614.6482017994382,616.5421720821141,618.4419784242159,620.3476388089141,622.2591712747907,624.1765939160134,626.0999248825044,628.0291823801134,629.9643846707879,631.9055500727491],\"yaxis\":\"y\",\"type\":\"scatter\"}],                        {\"template\":{\"data\":{\"histogram2dcontour\":[{\"type\":\"histogram2dcontour\",\"colorbar\":{\"outlinewidth\":0,\"ticks\":\"\"},\"colorscale\":[[0.0,\"#0d0887\"],[0.1111111111111111,\"#46039f\"],[0.2222222222222222,\"#7201a8\"],[0.3333333333333333,\"#9c179e\"],[0.4444444444444444,\"#bd3786\"],[0.5555555555555556,\"#d8576b\"],[0.6666666666666666,\"#ed7953\"],[0.7777777777777778,\"#fb9f3a\"],[0.8888888888888888,\"#fdca26\"],[1.0,\"#f0f921\"]]}],\"choropleth\":[{\"type\":\"choropleth\",\"colorbar\":{\"outlinewidth\":0,\"ticks\":\"\"}}],\"histogram2d\":[{\"type\":\"histogram2d\",\"colorbar\":{\"outlinewidth\":0,\"ticks\":\"\"},\"colorscale\":[[0.0,\"#0d0887\"],[0.1111111111111111,\"#46039f\"],[0.2222222222222222,\"#7201a8\"],[0.3333333333333333,\"#9c179e\"],[0.4444444444444444,\"#bd3786\"],[0.5555555555555556,\"#d8576b\"],[0.6666666666666666,\"#ed7953\"],[0.7777777777777778,\"#fb9f3a\"],[0.8888888888888888,\"#fdca26\"],[1.0,\"#f0f921\"]]}],\"heatmap\":[{\"type\":\"heatmap\",\"colorbar\":{\"outlinewidth\":0,\"ticks\":\"\"},\"colorscale\":[[0.0,\"#0d0887\"],[0.1111111111111111,\"#46039f\"],[0.2222222222222222,\"#7201a8\"],[0.3333333333333333,\"#9c179e\"],[0.4444444444444444,\"#bd3786\"],[0.5555555555555556,\"#d8576b\"],[0.6666666666666666,\"#ed7953\"],[0.7777777777777778,\"#fb9f3a\"],[0.8888888888888888,\"#fdca26\"],[1.0,\"#f0f921\"]]}],\"heatmapgl\":[{\"type\":\"heatmapgl\",\"colorbar\":{\"outlinewidth\":0,\"ticks\":\"\"},\"colorscale\":[[0.0,\"#0d0887\"],[0.1111111111111111,\"#46039f\"],[0.2222222222222222,\"#7201a8\"],[0.3333333333333333,\"#9c179e\"],[0.4444444444444444,\"#bd3786\"],[0.5555555555555556,\"#d8576b\"],[0.6666666666666666,\"#ed7953\"],[0.7777777777777778,\"#fb9f3a\"],[0.8888888888888888,\"#fdca26\"],[1.0,\"#f0f921\"]]}],\"contourcarpet\":[{\"type\":\"contourcarpet\",\"colorbar\":{\"outlinewidth\":0,\"ticks\":\"\"}}],\"contour\":[{\"type\":\"contour\",\"colorbar\":{\"outlinewidth\":0,\"ticks\":\"\"},\"colorscale\":[[0.0,\"#0d0887\"],[0.1111111111111111,\"#46039f\"],[0.2222222222222222,\"#7201a8\"],[0.3333333333333333,\"#9c179e\"],[0.4444444444444444,\"#bd3786\"],[0.5555555555555556,\"#d8576b\"],[0.6666666666666666,\"#ed7953\"],[0.7777777777777778,\"#fb9f3a\"],[0.8888888888888888,\"#fdca26\"],[1.0,\"#f0f921\"]]}],\"surface\":[{\"type\":\"surface\",\"colorbar\":{\"outlinewidth\":0,\"ticks\":\"\"},\"colorscale\":[[0.0,\"#0d0887\"],[0.1111111111111111,\"#46039f\"],[0.2222222222222222,\"#7201a8\"],[0.3333333333333333,\"#9c179e\"],[0.4444444444444444,\"#bd3786\"],[0.5555555555555556,\"#d8576b\"],[0.6666666666666666,\"#ed7953\"],[0.7777777777777778,\"#fb9f3a\"],[0.8888888888888888,\"#fdca26\"],[1.0,\"#f0f921\"]]}],\"mesh3d\":[{\"type\":\"mesh3d\",\"colorbar\":{\"outlinewidth\":0,\"ticks\":\"\"}}],\"scatter\":[{\"fillpattern\":{\"fillmode\":\"overlay\",\"size\":10,\"solidity\":0.2},\"type\":\"scatter\"}],\"parcoords\":[{\"type\":\"parcoords\",\"line\":{\"colorbar\":{\"outlinewidth\":0,\"ticks\":\"\"}}}],\"scatterpolargl\":[{\"type\":\"scatterpolargl\",\"marker\":{\"colorbar\":{\"outlinewidth\":0,\"ticks\":\"\"}}}],\"bar\":[{\"error_x\":{\"color\":\"#2a3f5f\"},\"error_y\":{\"color\":\"#2a3f5f\"},\"marker\":{\"line\":{\"color\":\"#E5ECF6\",\"width\":0.5},\"pattern\":{\"fillmode\":\"overlay\",\"size\":10,\"solidity\":0.2}},\"type\":\"bar\"}],\"scattergeo\":[{\"type\":\"scattergeo\",\"marker\":{\"colorbar\":{\"outlinewidth\":0,\"ticks\":\"\"}}}],\"scatterpolar\":[{\"type\":\"scatterpolar\",\"marker\":{\"colorbar\":{\"outlinewidth\":0,\"ticks\":\"\"}}}],\"histogram\":[{\"marker\":{\"pattern\":{\"fillmode\":\"overlay\",\"size\":10,\"solidity\":0.2}},\"type\":\"histogram\"}],\"scattergl\":[{\"type\":\"scattergl\",\"marker\":{\"colorbar\":{\"outlinewidth\":0,\"ticks\":\"\"}}}],\"scatter3d\":[{\"type\":\"scatter3d\",\"line\":{\"colorbar\":{\"outlinewidth\":0,\"ticks\":\"\"}},\"marker\":{\"colorbar\":{\"outlinewidth\":0,\"ticks\":\"\"}}}],\"scattermapbox\":[{\"type\":\"scattermapbox\",\"marker\":{\"colorbar\":{\"outlinewidth\":0,\"ticks\":\"\"}}}],\"scatterternary\":[{\"type\":\"scatterternary\",\"marker\":{\"colorbar\":{\"outlinewidth\":0,\"ticks\":\"\"}}}],\"scattercarpet\":[{\"type\":\"scattercarpet\",\"marker\":{\"colorbar\":{\"outlinewidth\":0,\"ticks\":\"\"}}}],\"carpet\":[{\"aaxis\":{\"endlinecolor\":\"#2a3f5f\",\"gridcolor\":\"white\",\"linecolor\":\"white\",\"minorgridcolor\":\"white\",\"startlinecolor\":\"#2a3f5f\"},\"baxis\":{\"endlinecolor\":\"#2a3f5f\",\"gridcolor\":\"white\",\"linecolor\":\"white\",\"minorgridcolor\":\"white\",\"startlinecolor\":\"#2a3f5f\"},\"type\":\"carpet\"}],\"table\":[{\"cells\":{\"fill\":{\"color\":\"#EBF0F8\"},\"line\":{\"color\":\"white\"}},\"header\":{\"fill\":{\"color\":\"#C8D4E3\"},\"line\":{\"color\":\"white\"}},\"type\":\"table\"}],\"barpolar\":[{\"marker\":{\"line\":{\"color\":\"#E5ECF6\",\"width\":0.5},\"pattern\":{\"fillmode\":\"overlay\",\"size\":10,\"solidity\":0.2}},\"type\":\"barpolar\"}],\"pie\":[{\"automargin\":true,\"type\":\"pie\"}]},\"layout\":{\"autotypenumbers\":\"strict\",\"colorway\":[\"#636efa\",\"#EF553B\",\"#00cc96\",\"#ab63fa\",\"#FFA15A\",\"#19d3f3\",\"#FF6692\",\"#B6E880\",\"#FF97FF\",\"#FECB52\"],\"font\":{\"color\":\"#2a3f5f\"},\"hovermode\":\"closest\",\"hoverlabel\":{\"align\":\"left\"},\"paper_bgcolor\":\"white\",\"plot_bgcolor\":\"#E5ECF6\",\"polar\":{\"bgcolor\":\"#E5ECF6\",\"angularaxis\":{\"gridcolor\":\"white\",\"linecolor\":\"white\",\"ticks\":\"\"},\"radialaxis\":{\"gridcolor\":\"white\",\"linecolor\":\"white\",\"ticks\":\"\"}},\"ternary\":{\"bgcolor\":\"#E5ECF6\",\"aaxis\":{\"gridcolor\":\"white\",\"linecolor\":\"white\",\"ticks\":\"\"},\"baxis\":{\"gridcolor\":\"white\",\"linecolor\":\"white\",\"ticks\":\"\"},\"caxis\":{\"gridcolor\":\"white\",\"linecolor\":\"white\",\"ticks\":\"\"}},\"coloraxis\":{\"colorbar\":{\"outlinewidth\":0,\"ticks\":\"\"}},\"colorscale\":{\"sequential\":[[0.0,\"#0d0887\"],[0.1111111111111111,\"#46039f\"],[0.2222222222222222,\"#7201a8\"],[0.3333333333333333,\"#9c179e\"],[0.4444444444444444,\"#bd3786\"],[0.5555555555555556,\"#d8576b\"],[0.6666666666666666,\"#ed7953\"],[0.7777777777777778,\"#fb9f3a\"],[0.8888888888888888,\"#fdca26\"],[1.0,\"#f0f921\"]],\"sequentialminus\":[[0.0,\"#0d0887\"],[0.1111111111111111,\"#46039f\"],[0.2222222222222222,\"#7201a8\"],[0.3333333333333333,\"#9c179e\"],[0.4444444444444444,\"#bd3786\"],[0.5555555555555556,\"#d8576b\"],[0.6666666666666666,\"#ed7953\"],[0.7777777777777778,\"#fb9f3a\"],[0.8888888888888888,\"#fdca26\"],[1.0,\"#f0f921\"]],\"diverging\":[[0,\"#8e0152\"],[0.1,\"#c51b7d\"],[0.2,\"#de77ae\"],[0.3,\"#f1b6da\"],[0.4,\"#fde0ef\"],[0.5,\"#f7f7f7\"],[0.6,\"#e6f5d0\"],[0.7,\"#b8e186\"],[0.8,\"#7fbc41\"],[0.9,\"#4d9221\"],[1,\"#276419\"]]},\"xaxis\":{\"gridcolor\":\"white\",\"linecolor\":\"white\",\"ticks\":\"\",\"title\":{\"standoff\":15},\"zerolinecolor\":\"white\",\"automargin\":true,\"zerolinewidth\":2},\"yaxis\":{\"gridcolor\":\"white\",\"linecolor\":\"white\",\"ticks\":\"\",\"title\":{\"standoff\":15},\"zerolinecolor\":\"white\",\"automargin\":true,\"zerolinewidth\":2},\"scene\":{\"xaxis\":{\"backgroundcolor\":\"#E5ECF6\",\"gridcolor\":\"white\",\"linecolor\":\"white\",\"showbackground\":true,\"ticks\":\"\",\"zerolinecolor\":\"white\",\"gridwidth\":2},\"yaxis\":{\"backgroundcolor\":\"#E5ECF6\",\"gridcolor\":\"white\",\"linecolor\":\"white\",\"showbackground\":true,\"ticks\":\"\",\"zerolinecolor\":\"white\",\"gridwidth\":2},\"zaxis\":{\"backgroundcolor\":\"#E5ECF6\",\"gridcolor\":\"white\",\"linecolor\":\"white\",\"showbackground\":true,\"ticks\":\"\",\"zerolinecolor\":\"white\",\"gridwidth\":2}},\"shapedefaults\":{\"line\":{\"color\":\"#2a3f5f\"}},\"annotationdefaults\":{\"arrowcolor\":\"#2a3f5f\",\"arrowhead\":0,\"arrowwidth\":1},\"geo\":{\"bgcolor\":\"white\",\"landcolor\":\"#E5ECF6\",\"subunitcolor\":\"white\",\"showland\":true,\"showlakes\":true,\"lakecolor\":\"white\"},\"title\":{\"x\":0.05},\"mapbox\":{\"style\":\"light\"}}},\"xaxis\":{\"anchor\":\"y\",\"domain\":[0.0,1.0],\"title\":{\"text\":\"price\"}},\"yaxis\":{\"anchor\":\"x\",\"domain\":[0.0,1.0],\"title\":{\"text\":\"demand\"}},\"legend\":{\"tracegroupgap\":0},\"title\":{\"text\":\"Latina\"}},                        {\"responsive\": true}                    ).then(function(){\n",
       "                            \n",
       "var gd = document.getElementById('6a7da5fd-b241-4f25-b158-c4eab256f53c');\n",
       "var x = new MutationObserver(function (mutations, observer) {{\n",
       "        var display = window.getComputedStyle(gd).display;\n",
       "        if (!display || display === 'none') {{\n",
       "            console.log([gd, 'removed!']);\n",
       "            Plotly.purge(gd);\n",
       "            observer.disconnect();\n",
       "        }}\n",
       "}});\n",
       "\n",
       "// Listen for the removal of the full notebook cells\n",
       "var notebookContainer = gd.closest('#notebook-container');\n",
       "if (notebookContainer) {{\n",
       "    x.observe(notebookContainer, {childList: true});\n",
       "}}\n",
       "\n",
       "// Listen for the clearing of the current output cell\n",
       "var outputEl = gd.closest('.output');\n",
       "if (outputEl) {{\n",
       "    x.observe(outputEl, {childList: true});\n",
       "}}\n",
       "\n",
       "                        })                };                });            </script>        </div>"
      ]
     },
     "metadata": {},
     "output_type": "display_data"
    },
    {
     "data": {
      "application/vnd.plotly.v1+json": {
       "config": {
        "plotlyServerURL": "https://plot.ly"
       },
       "data": [
        {
         "hovertemplate": "price=%{x}<br>income=%{y}<extra></extra>",
         "legendgroup": "",
         "marker": {
          "color": "#636efa",
          "symbol": "circle"
         },
         "mode": "markers",
         "name": "",
         "orientation": "v",
         "showlegend": false,
         "type": "scatter",
         "x": [
          10,
          11,
          12,
          13,
          14.000000000000002,
          15,
          16,
          17,
          18,
          19,
          20,
          21,
          22,
          23,
          24,
          25,
          26,
          27,
          28.000000000000004,
          28.999999999999996,
          30,
          31,
          32,
          33,
          34,
          35,
          36,
          37,
          38,
          39,
          40,
          41,
          42,
          43,
          44,
          45,
          46,
          47,
          48,
          49,
          50,
          51,
          52,
          53,
          54,
          55.00000000000001,
          56.00000000000001,
          56.99999999999999,
          57.99999999999999,
          59,
          60,
          61,
          62,
          63,
          64,
          65,
          66,
          67,
          68,
          69,
          70,
          71,
          72,
          73,
          74,
          75,
          76,
          77,
          78,
          79,
          80,
          81,
          82,
          83,
          84,
          85,
          86,
          87,
          88,
          89,
          90,
          91,
          92,
          93,
          94,
          95,
          96,
          97,
          98,
          99,
          100,
          101,
          102,
          103,
          104,
          105,
          106,
          107,
          108,
          109.00000000000001,
          110.00000000000001,
          111.00000000000001,
          112.00000000000001,
          112.99999999999999,
          113.99999999999999,
          114.99999999999999,
          115.99999999999999,
          117,
          118,
          119,
          120,
          121,
          122,
          123,
          124,
          125,
          126,
          127,
          128,
          129,
          130,
          131,
          132,
          133,
          134,
          135,
          136,
          137,
          138,
          139,
          140,
          141,
          142,
          143,
          144,
          145,
          146,
          147,
          148,
          149,
          150,
          151,
          152,
          153,
          154,
          155,
          156,
          157,
          158,
          159,
          160,
          161,
          162,
          163,
          164,
          165,
          166,
          167,
          168,
          169,
          170,
          171,
          172,
          173,
          174,
          175,
          176,
          177,
          178,
          179,
          180,
          181,
          182,
          183,
          184,
          185,
          186,
          187,
          188,
          189,
          190,
          191,
          192,
          193,
          194,
          195,
          196,
          197,
          198,
          199,
          200,
          200.99999999999997,
          202,
          202.99999999999997,
          204,
          204.99999999999997,
          206,
          206.99999999999997,
          208,
          209,
          210,
          211,
          212,
          213,
          214,
          215,
          216,
          217,
          218.00000000000003,
          219,
          220.00000000000003,
          221,
          222.00000000000003,
          223,
          224.00000000000003,
          225,
          225.99999999999997,
          227,
          227.99999999999997,
          229,
          229.99999999999997,
          231,
          231.99999999999997,
          233,
          234,
          235,
          236,
          237,
          238,
          239,
          240,
          241,
          242,
          243.00000000000003,
          244,
          245.00000000000003,
          246,
          247.00000000000003,
          248,
          249.00000000000003,
          250,
          250.99999999999997,
          252,
          252.99999999999997,
          254,
          254.99999999999997,
          256,
          257,
          258,
          259,
          260,
          261,
          262,
          263,
          264,
          265,
          266,
          267,
          268,
          269,
          270,
          271,
          272,
          273,
          274,
          275,
          276,
          277,
          278,
          279,
          280,
          281,
          282,
          283,
          284,
          285,
          286,
          287,
          288,
          289,
          290,
          291,
          292,
          293,
          294,
          295,
          296,
          297,
          298,
          299,
          300,
          301,
          302,
          303,
          304,
          305,
          306,
          307,
          308,
          309,
          310,
          311,
          312,
          313,
          314,
          315,
          316,
          317,
          318,
          319,
          320,
          321,
          322,
          323,
          324,
          325,
          326,
          327,
          328,
          329,
          330,
          331,
          332,
          333,
          334,
          335,
          336,
          337,
          338,
          339,
          340,
          341,
          342,
          343,
          344,
          345,
          346,
          347,
          348,
          349,
          350,
          351,
          352,
          353,
          354,
          355,
          356,
          357,
          358,
          359,
          360,
          361,
          362,
          363,
          364,
          365,
          366,
          367,
          368,
          369,
          370,
          371,
          372,
          373,
          374,
          375,
          376,
          377,
          378,
          379,
          380,
          381,
          382,
          383,
          384,
          385,
          386,
          387,
          388,
          389,
          390,
          391,
          392,
          393,
          394,
          395,
          396,
          397,
          398,
          399,
          400,
          401,
          401.99999999999994,
          403,
          404,
          405,
          405.99999999999994,
          407,
          408,
          409,
          409.99999999999994,
          411.00000000000006,
          412,
          413,
          413.99999999999994,
          415.00000000000006,
          416,
          417,
          418,
          419.00000000000006,
          420,
          421,
          422,
          423.00000000000006,
          424,
          425,
          426,
          426.99999999999994,
          428,
          429,
          430,
          430.99999999999994,
          432,
          433,
          434,
          434.99999999999994,
          436.00000000000006,
          437,
          438,
          438.99999999999994,
          440.00000000000006,
          441,
          442,
          443,
          444.00000000000006,
          445,
          446,
          447,
          448.00000000000006,
          449,
          450,
          451,
          451.99999999999994,
          453,
          454,
          455,
          455.99999999999994,
          457,
          458,
          459,
          459.99999999999994,
          461.00000000000006,
          462,
          463,
          463.99999999999994,
          465.00000000000006,
          466,
          467,
          468,
          469.00000000000006,
          470,
          471,
          472,
          473.00000000000006,
          474,
          475,
          476,
          476.99999999999994,
          478,
          479,
          480,
          480.99999999999994,
          482,
          483,
          484,
          484.99999999999994,
          486.00000000000006,
          487,
          488,
          488.99999999999994,
          490.00000000000006,
          491,
          492,
          493,
          494.00000000000006,
          495,
          496,
          497,
          498.00000000000006,
          499,
          500,
          501,
          501.99999999999994,
          503,
          504,
          505,
          505.99999999999994,
          507,
          508,
          509
         ],
         "xaxis": "x",
         "y": [
          1361.1374576891624,
          1501.8648170288147,
          1643.4465239326046,
          1785.886507354613,
          1929.1887123502054,
          2073.3571001379437,
          2218.3956481617474,
          2364.3083501532647,
          2511.0992161944946,
          2658.7722727806295,
          2807.331562883117,
          2956.7811460129874,
          3107.1250982843867,
          3258.367512478343,
          3410.5124981067984,
          3563.564181476843,
          3717.526705755205,
          3872.404231032967,
          4028.2009343905397,
          4184.921009962858,
          4342.568669004814,
          4501.148139956956,
          4660.66366851141,
          4821.11951767803,
          4982.519967850842,
          5144.869316874678,
          5308.171880112092,
          5472.431990510494,
          5637.65399866957,
          5803.842272908913,
          5971.001199335916,
          6139.135181913925,
          6308.248642530643,
          6478.346021066748,
          6649.43177546483,
          6821.510381798526,
          6994.586334341942,
          7168.664145639286,
          7343.748346574843,
          7519.843486443113,
          7696.95413301925,
          7875.084872629787,
          8054.240310223577,
          8234.425069442985,
          8415.643792695422,
          8597.901141225046,
          8781.201795184794,
          8965.550453708616,
          9150.951834984073,
          9337.4106763251,
          9524.93173424507,
          9713.51978453017,
          9903.179622313006,
          10093.916062146442,
          10285.733938077808,
          10478.638103723306,
          10672.633432342704,
          10867.724816914291,
          11063.917170210183,
          11261.215424871802,
          11459.62453348567,
          11659.149468659543,
          11859.795223098747,
          12061.566809682778,
          12264.469261542297,
          12468.507632136298,
          12673.686995329606,
          12880.012445470624,
          13087.48909746944,
          13296.12208687616,
          13505.916569959489,
          13716.877723785736,
          13929.010746297987,
          14142.32085639557,
          14356.813294013926,
          14572.493320204641,
          14789.366217215864,
          15007.437288572919,
          15226.71185915936,
          15447.195275298203,
          15668.892904833454,
          15891.810137212049,
          16115.952383565982,
          16341.325076794741,
          16567.93367164815,
          16795.78364480938,
          17024.880494978377,
          17255.22974295548,
          17486.83693172548,
          17719.7076265419,
          17953.84741501153,
          18189.26190717947,
          18425.956735614276,
          18663.937555493474,
          18903.21004468951,
          19143.779903855826,
          19385.65285651342,
          19628.834649137538,
          19873.331051244924,
          20119.147855481187,
          20366.290877708507,
          20614.76595709382,
          20864.57895619718,
          21115.7357610604,
          21368.24228129625,
          21622.10445017771,
          21877.328224727742,
          22133.91958580924,
          22391.884538215472,
          22651.229110760774,
          22911.959356371455,
          23174.081352177283,
          23437.601199603123,
          23702.525024460956,
          23968.858977042186,
          24236.609232210463,
          24505.78198949463,
          24776.383473182068,
          25048.41993241251,
          25321.897641272077,
          25596.82289888757,
          25873.202029521377,
          26151.041382666503,
          26430.347333141934,
          26711.12628118857,
          26993.384652565266,
          27277.12889864538,
          27562.365496513517,
          27849.100949062875,
          28137.34178509272,
          28427.094559406214,
          28718.365852908853,
          29011.162272706963,
          29305.49045220676,
          29601.357051213574,
          29898.768756031735,
          30197.732279564527,
          30498.254361414605,
          30800.3417679849,
          31104.001292579756,
          31409.23975550635,
          31716.06400417681,
          32024.480913210366,
          32334.497384535967,
          32646.120347495453,
          32959.356758946844,
          33274.21360336822,
          33590.697892961696,
          33908.816667758205,
          34228.5769957223,
          34549.985972857365,
          34873.05072331149,
          35197.77839948347,
          35524.17618212914,
          35852.251280468416,
          36182.010932292425,
          36513.4624040712,
          36846.61299106153,
          37181.47001741559,
          37518.04083628966,
          37856.33282995324,
          38196.35340989879,
          38538.11001695169,
          38881.61012138054,
          39226.86122300811,
          39573.87085132246,
          39922.64656558862,
          40273.19595496042,
          40625.52663859316,
          40979.64626575636,
          41335.56251594684,
          41693.283099002634,
          42052.815755216885,
          42414.16825545242,
          42777.348401256524,
          43142.36402497643,
          43509.22298987496,
          43877.933190246615,
          44248.50255153432,
          44620.939030446316,
          44995.25061507366,
          45371.4453250079,
          45749.531211459675,
          46129.516357377084,
          46511.408877565125,
          46895.21691880509,
          47280.94865997471,
          47668.61231216838,
          48058.21611881834,
          48449.768355815846,
          48843.27733163283,
          49238.75138744435,
          49636.198897251095,
          50035.62826800253,
          50437.04793972031,
          50840.466385622494,
          51245.89211224791,
          51653.33365958084,
          52062.79960117674,
          52474.29854428775,
          52887.83912998913,
          53303.430033305776,
          53721.0799633397,
          54140.7976633973,
          54562.59191111781,
          54986.47151860168,
          55412.44533253967,
          55840.5222343422,
          56270.711140269595,
          56703.02100156237,
          57137.46080457202,
          57574.0395708927,
          58012.766357492874,
          58453.650256847795,
          58896.700397072105,
          59341.92594205342,
          59789.336091586025,
          60238.940081504974,
          60690.747183821106,
          61144.76670685624,
          61601.00799537863,
          62059.48043073966,
          62520.193431010186,
          62983.15645111803,
          63448.37898298537,
          63915.8705556673,
          64385.64073549042,
          64857.69912619187,
          65332.055369059344,
          65808.71914307123,
          66287.70016503707,
          66769.00818973927,
          67252.65301007453,
          67738.64445719631,
          68226.99240065724,
          68717.70674855296,
          69210.79744766561,
          69706.27448360811,
          70204.14788096923,
          70704.42770345899,
          71207.12405405422,
          71712.24707514545,
          72219.8069486837,
          72729.81389632773,
          73242.27817959254,
          73757.21009999758,
          74274.61999921613,
          74794.51825922448,
          75316.91530245273,
          75841.82159193522,
          76369.2476314615,
          76899.2039657288,
          77431.70118049388,
          77966.74990272625,
          78504.36080076131,
          79044.54458445478,
          79587.31200533708,
          80132.6738567683,
          80680.6409740943,
          81231.22423480265,
          81784.4345586797,
          82340.2829079676,
          82898.7802875228,
          83459.937744974,
          84023.76637088179,
          84590.27729889801,
          85159.4817059261,
          85731.390812282,
          86306.01588185524,
          86883.36822227159,
          87463.45918505482,
          88046.30016579064,
          88631.90260428995,
          89220.27798475353,
          89811.43783593651,
          90405.39373131446,
          91002.15728924931,
          91601.74017315579,
          92204.15409166926,
          92809.41079881338,
          93417.52209416871,
          94028.49982304167,
          94642.35587663467,
          95259.10219221632,
          95878.75075329216,
          96501.31358977674,
          97126.80277816555,
          97755.23044170775,
          98386.60875058002,
          99020.94992206042,
          99658.2662207029,
          100298.56995851315,
          100941.87349512418,
          101588.18923797319,
          102237.52964247839,
          102889.9072122175,
          103545.33449910599,
          104203.82410357596,
          104865.38867475645,
          105530.0409106537,
          106197.79355833231,
          106868.65941409669,
          107542.65132367413,
          108219.7821823971,
          108900.06493538774,
          109583.51257774177,
          110270.1381547138,
          110959.95476190267,
          111652.97554543844,
          112349.21370216912,
          113048.68247984815,
          113751.3951773235,
          114457.36514472612,
          115166.60578366021,
          115879.13054739306,
          116594.95294104691,
          117314.08652179044,
          118036.54489903097,
          118762.34173460829,
          119491.49074298822,
          120224.00569145735,
          120959.90040031791,
          121699.18874308451,
          122441.8846466804,
          123188.00209163465,
          123937.55511228094,
          124690.55779695591,
          125447.02428819895,
          126206.96878295203,
          126970.40553276148,
          127737.34884397882,
          128507.8130779639,
          129281.81265128775,
          130059.36203593657,
          130840.475759516,
          131625.1684054571,
          132413.45461322213,
          133205.34907851103,
          134000.86655346976,
          134800.02184689802,
          135602.82982445875,
          136409.3054088873,
          137219.46358020298,
          138033.3193759193,
          138850.8878912571,
          139672.18427935673,
          140497.22375149184,
          141326.02157728394,
          142158.59308491708,
          142994.95366135452,
          143835.11875255452,
          144679.10386368877,
          145526.9245593599,
          146378.59646382104,
          147234.135261195,
          148093.5566956957,
          148956.87657184913,
          149824.1107547152,
          150695.27517011153,
          151570.3858048367,
          152449.45870689518,
          153332.50998572208,
          154219.5558124103,
          155110.61241993672,
          156005.69610339057,
          156904.82322020194,
          157808.01019037113,
          158715.2734966992,
          159626.62968501847,
          160542.09536442548,
          161461.68720751267,
          162385.4219506029,
          163313.3163939834,
          164245.38740214138,
          165181.65190399936,
          166122.12689315339,
          167066.8294281101,
          168015.7766325251,
          168968.9856954434,
          169926.47387153908,
          170888.25848135704,
          171854.3569115543,
          172824.78661514405,
          173799.565111739,
          174778.70998779553,
          175762.2388968604,
          176750.16955981648,
          177742.51976513048,
          178739.30736910042,
          179740.55029610617,
          180746.2665388579,
          181756.47415864826,
          182771.19128560348,
          183790.4361189367,
          184814.2269272003,
          185842.58204854213,
          186875.51989096001,
          187913.05893255776,
          188955.2177218033,
          190002.0148777863,
          191053.4690904776,
          192109.59912098915,
          193170.4238018344,
          194235.962037191,
          195306.23280316347,
          196381.2551480469,
          197461.04819259126,
          198545.6311302679,
          199635.02322753507,
          200729.2438241068,
          201828.3123332199,
          202932.2482419049,
          204041.07111125567,
          205154.80057670118,
          206273.45634827708,
          207397.05821090026,
          208525.62602464264,
          209659.17972500582,
          210797.73932319865,
          211941.32490641336,
          213089.95663810478,
          214243.65475826844,
          215402.43958372227,
          216566.3315083863,
          217735.3510035663,
          218909.51861823624,
          220088.85497932317,
          221273.38079199125,
          222463.11683992972,
          223658.08398563918,
          224858.30317072055,
          226063.79541616337,
          227274.5818226377,
          228490.68357078457,
          229712.12192150904,
          230938.91821627284,
          232171.09387739032,
          233408.6704083226,
          234651.6693939756,
          235900.11250099697,
          237154.02147807533,
          238413.41815623935,
          239678.32444915982,
          240948.76235345125,
          242224.75394897404,
          243506.32139914026,
          244793.4869512177,
          246086.27293663716,
          247384.70177129834,
          248688.79595588014,
          249998.5780761496,
          251314.070803272,
          252635.2968941236,
          253962.27919160438,
          255295.04062495203,
          256633.60421005663,
          257977.9930497779,
          259328.2303342618,
          260684.3393412598,
          262046.34343644814,
          263414.2660737489,
          264788.13079565135,
          266167.96123353613,
          267553.7811079991,
          268945.6142291758,
          270343.4844970698,
          271747.41590187914,
          273157.432524326,
          274573.558535986,
          275995.8181996203,
          277424.2358695072,
          278858.83599177684,
          280299.64310474513,
          281746.6818392501,
          283199.97691898927,
          284659.553160857,
          286125.4354752863,
          287597.6488665866,
          289076.21843328886,
          290561.1693684868,
          292052.5269601824,
          293550.31659163017,
          295054.563741686,
          296565.29398515436,
          298082.5329931368,
          299606.3065333843,
          301136.6404706482,
          302673.5607670334,
          304217.0934823525,
          305767.2647744822,
          307324.1008997191,
          308887.6282131392,
          310457.8731689564,
          312034.8623208838,
          313618.6223224945,
          315209.17992758675,
          316806.56199054717,
          318410.7954667175,
          320021.90741276025,
          321639.9249870293
         ],
         "yaxis": "y"
        }
       ],
       "layout": {
        "legend": {
         "tracegroupgap": 0
        },
        "template": {
         "data": {
          "bar": [
           {
            "error_x": {
             "color": "#2a3f5f"
            },
            "error_y": {
             "color": "#2a3f5f"
            },
            "marker": {
             "line": {
              "color": "#E5ECF6",
              "width": 0.5
             },
             "pattern": {
              "fillmode": "overlay",
              "size": 10,
              "solidity": 0.2
             }
            },
            "type": "bar"
           }
          ],
          "barpolar": [
           {
            "marker": {
             "line": {
              "color": "#E5ECF6",
              "width": 0.5
             },
             "pattern": {
              "fillmode": "overlay",
              "size": 10,
              "solidity": 0.2
             }
            },
            "type": "barpolar"
           }
          ],
          "carpet": [
           {
            "aaxis": {
             "endlinecolor": "#2a3f5f",
             "gridcolor": "white",
             "linecolor": "white",
             "minorgridcolor": "white",
             "startlinecolor": "#2a3f5f"
            },
            "baxis": {
             "endlinecolor": "#2a3f5f",
             "gridcolor": "white",
             "linecolor": "white",
             "minorgridcolor": "white",
             "startlinecolor": "#2a3f5f"
            },
            "type": "carpet"
           }
          ],
          "choropleth": [
           {
            "colorbar": {
             "outlinewidth": 0,
             "ticks": ""
            },
            "type": "choropleth"
           }
          ],
          "contour": [
           {
            "colorbar": {
             "outlinewidth": 0,
             "ticks": ""
            },
            "colorscale": [
             [
              0,
              "#0d0887"
             ],
             [
              0.1111111111111111,
              "#46039f"
             ],
             [
              0.2222222222222222,
              "#7201a8"
             ],
             [
              0.3333333333333333,
              "#9c179e"
             ],
             [
              0.4444444444444444,
              "#bd3786"
             ],
             [
              0.5555555555555556,
              "#d8576b"
             ],
             [
              0.6666666666666666,
              "#ed7953"
             ],
             [
              0.7777777777777778,
              "#fb9f3a"
             ],
             [
              0.8888888888888888,
              "#fdca26"
             ],
             [
              1,
              "#f0f921"
             ]
            ],
            "type": "contour"
           }
          ],
          "contourcarpet": [
           {
            "colorbar": {
             "outlinewidth": 0,
             "ticks": ""
            },
            "type": "contourcarpet"
           }
          ],
          "heatmap": [
           {
            "colorbar": {
             "outlinewidth": 0,
             "ticks": ""
            },
            "colorscale": [
             [
              0,
              "#0d0887"
             ],
             [
              0.1111111111111111,
              "#46039f"
             ],
             [
              0.2222222222222222,
              "#7201a8"
             ],
             [
              0.3333333333333333,
              "#9c179e"
             ],
             [
              0.4444444444444444,
              "#bd3786"
             ],
             [
              0.5555555555555556,
              "#d8576b"
             ],
             [
              0.6666666666666666,
              "#ed7953"
             ],
             [
              0.7777777777777778,
              "#fb9f3a"
             ],
             [
              0.8888888888888888,
              "#fdca26"
             ],
             [
              1,
              "#f0f921"
             ]
            ],
            "type": "heatmap"
           }
          ],
          "heatmapgl": [
           {
            "colorbar": {
             "outlinewidth": 0,
             "ticks": ""
            },
            "colorscale": [
             [
              0,
              "#0d0887"
             ],
             [
              0.1111111111111111,
              "#46039f"
             ],
             [
              0.2222222222222222,
              "#7201a8"
             ],
             [
              0.3333333333333333,
              "#9c179e"
             ],
             [
              0.4444444444444444,
              "#bd3786"
             ],
             [
              0.5555555555555556,
              "#d8576b"
             ],
             [
              0.6666666666666666,
              "#ed7953"
             ],
             [
              0.7777777777777778,
              "#fb9f3a"
             ],
             [
              0.8888888888888888,
              "#fdca26"
             ],
             [
              1,
              "#f0f921"
             ]
            ],
            "type": "heatmapgl"
           }
          ],
          "histogram": [
           {
            "marker": {
             "pattern": {
              "fillmode": "overlay",
              "size": 10,
              "solidity": 0.2
             }
            },
            "type": "histogram"
           }
          ],
          "histogram2d": [
           {
            "colorbar": {
             "outlinewidth": 0,
             "ticks": ""
            },
            "colorscale": [
             [
              0,
              "#0d0887"
             ],
             [
              0.1111111111111111,
              "#46039f"
             ],
             [
              0.2222222222222222,
              "#7201a8"
             ],
             [
              0.3333333333333333,
              "#9c179e"
             ],
             [
              0.4444444444444444,
              "#bd3786"
             ],
             [
              0.5555555555555556,
              "#d8576b"
             ],
             [
              0.6666666666666666,
              "#ed7953"
             ],
             [
              0.7777777777777778,
              "#fb9f3a"
             ],
             [
              0.8888888888888888,
              "#fdca26"
             ],
             [
              1,
              "#f0f921"
             ]
            ],
            "type": "histogram2d"
           }
          ],
          "histogram2dcontour": [
           {
            "colorbar": {
             "outlinewidth": 0,
             "ticks": ""
            },
            "colorscale": [
             [
              0,
              "#0d0887"
             ],
             [
              0.1111111111111111,
              "#46039f"
             ],
             [
              0.2222222222222222,
              "#7201a8"
             ],
             [
              0.3333333333333333,
              "#9c179e"
             ],
             [
              0.4444444444444444,
              "#bd3786"
             ],
             [
              0.5555555555555556,
              "#d8576b"
             ],
             [
              0.6666666666666666,
              "#ed7953"
             ],
             [
              0.7777777777777778,
              "#fb9f3a"
             ],
             [
              0.8888888888888888,
              "#fdca26"
             ],
             [
              1,
              "#f0f921"
             ]
            ],
            "type": "histogram2dcontour"
           }
          ],
          "mesh3d": [
           {
            "colorbar": {
             "outlinewidth": 0,
             "ticks": ""
            },
            "type": "mesh3d"
           }
          ],
          "parcoords": [
           {
            "line": {
             "colorbar": {
              "outlinewidth": 0,
              "ticks": ""
             }
            },
            "type": "parcoords"
           }
          ],
          "pie": [
           {
            "automargin": true,
            "type": "pie"
           }
          ],
          "scatter": [
           {
            "fillpattern": {
             "fillmode": "overlay",
             "size": 10,
             "solidity": 0.2
            },
            "type": "scatter"
           }
          ],
          "scatter3d": [
           {
            "line": {
             "colorbar": {
              "outlinewidth": 0,
              "ticks": ""
             }
            },
            "marker": {
             "colorbar": {
              "outlinewidth": 0,
              "ticks": ""
             }
            },
            "type": "scatter3d"
           }
          ],
          "scattercarpet": [
           {
            "marker": {
             "colorbar": {
              "outlinewidth": 0,
              "ticks": ""
             }
            },
            "type": "scattercarpet"
           }
          ],
          "scattergeo": [
           {
            "marker": {
             "colorbar": {
              "outlinewidth": 0,
              "ticks": ""
             }
            },
            "type": "scattergeo"
           }
          ],
          "scattergl": [
           {
            "marker": {
             "colorbar": {
              "outlinewidth": 0,
              "ticks": ""
             }
            },
            "type": "scattergl"
           }
          ],
          "scattermapbox": [
           {
            "marker": {
             "colorbar": {
              "outlinewidth": 0,
              "ticks": ""
             }
            },
            "type": "scattermapbox"
           }
          ],
          "scatterpolar": [
           {
            "marker": {
             "colorbar": {
              "outlinewidth": 0,
              "ticks": ""
             }
            },
            "type": "scatterpolar"
           }
          ],
          "scatterpolargl": [
           {
            "marker": {
             "colorbar": {
              "outlinewidth": 0,
              "ticks": ""
             }
            },
            "type": "scatterpolargl"
           }
          ],
          "scatterternary": [
           {
            "marker": {
             "colorbar": {
              "outlinewidth": 0,
              "ticks": ""
             }
            },
            "type": "scatterternary"
           }
          ],
          "surface": [
           {
            "colorbar": {
             "outlinewidth": 0,
             "ticks": ""
            },
            "colorscale": [
             [
              0,
              "#0d0887"
             ],
             [
              0.1111111111111111,
              "#46039f"
             ],
             [
              0.2222222222222222,
              "#7201a8"
             ],
             [
              0.3333333333333333,
              "#9c179e"
             ],
             [
              0.4444444444444444,
              "#bd3786"
             ],
             [
              0.5555555555555556,
              "#d8576b"
             ],
             [
              0.6666666666666666,
              "#ed7953"
             ],
             [
              0.7777777777777778,
              "#fb9f3a"
             ],
             [
              0.8888888888888888,
              "#fdca26"
             ],
             [
              1,
              "#f0f921"
             ]
            ],
            "type": "surface"
           }
          ],
          "table": [
           {
            "cells": {
             "fill": {
              "color": "#EBF0F8"
             },
             "line": {
              "color": "white"
             }
            },
            "header": {
             "fill": {
              "color": "#C8D4E3"
             },
             "line": {
              "color": "white"
             }
            },
            "type": "table"
           }
          ]
         },
         "layout": {
          "annotationdefaults": {
           "arrowcolor": "#2a3f5f",
           "arrowhead": 0,
           "arrowwidth": 1
          },
          "autotypenumbers": "strict",
          "coloraxis": {
           "colorbar": {
            "outlinewidth": 0,
            "ticks": ""
           }
          },
          "colorscale": {
           "diverging": [
            [
             0,
             "#8e0152"
            ],
            [
             0.1,
             "#c51b7d"
            ],
            [
             0.2,
             "#de77ae"
            ],
            [
             0.3,
             "#f1b6da"
            ],
            [
             0.4,
             "#fde0ef"
            ],
            [
             0.5,
             "#f7f7f7"
            ],
            [
             0.6,
             "#e6f5d0"
            ],
            [
             0.7,
             "#b8e186"
            ],
            [
             0.8,
             "#7fbc41"
            ],
            [
             0.9,
             "#4d9221"
            ],
            [
             1,
             "#276419"
            ]
           ],
           "sequential": [
            [
             0,
             "#0d0887"
            ],
            [
             0.1111111111111111,
             "#46039f"
            ],
            [
             0.2222222222222222,
             "#7201a8"
            ],
            [
             0.3333333333333333,
             "#9c179e"
            ],
            [
             0.4444444444444444,
             "#bd3786"
            ],
            [
             0.5555555555555556,
             "#d8576b"
            ],
            [
             0.6666666666666666,
             "#ed7953"
            ],
            [
             0.7777777777777778,
             "#fb9f3a"
            ],
            [
             0.8888888888888888,
             "#fdca26"
            ],
            [
             1,
             "#f0f921"
            ]
           ],
           "sequentialminus": [
            [
             0,
             "#0d0887"
            ],
            [
             0.1111111111111111,
             "#46039f"
            ],
            [
             0.2222222222222222,
             "#7201a8"
            ],
            [
             0.3333333333333333,
             "#9c179e"
            ],
            [
             0.4444444444444444,
             "#bd3786"
            ],
            [
             0.5555555555555556,
             "#d8576b"
            ],
            [
             0.6666666666666666,
             "#ed7953"
            ],
            [
             0.7777777777777778,
             "#fb9f3a"
            ],
            [
             0.8888888888888888,
             "#fdca26"
            ],
            [
             1,
             "#f0f921"
            ]
           ]
          },
          "colorway": [
           "#636efa",
           "#EF553B",
           "#00cc96",
           "#ab63fa",
           "#FFA15A",
           "#19d3f3",
           "#FF6692",
           "#B6E880",
           "#FF97FF",
           "#FECB52"
          ],
          "font": {
           "color": "#2a3f5f"
          },
          "geo": {
           "bgcolor": "white",
           "lakecolor": "white",
           "landcolor": "#E5ECF6",
           "showlakes": true,
           "showland": true,
           "subunitcolor": "white"
          },
          "hoverlabel": {
           "align": "left"
          },
          "hovermode": "closest",
          "mapbox": {
           "style": "light"
          },
          "paper_bgcolor": "white",
          "plot_bgcolor": "#E5ECF6",
          "polar": {
           "angularaxis": {
            "gridcolor": "white",
            "linecolor": "white",
            "ticks": ""
           },
           "bgcolor": "#E5ECF6",
           "radialaxis": {
            "gridcolor": "white",
            "linecolor": "white",
            "ticks": ""
           }
          },
          "scene": {
           "xaxis": {
            "backgroundcolor": "#E5ECF6",
            "gridcolor": "white",
            "gridwidth": 2,
            "linecolor": "white",
            "showbackground": true,
            "ticks": "",
            "zerolinecolor": "white"
           },
           "yaxis": {
            "backgroundcolor": "#E5ECF6",
            "gridcolor": "white",
            "gridwidth": 2,
            "linecolor": "white",
            "showbackground": true,
            "ticks": "",
            "zerolinecolor": "white"
           },
           "zaxis": {
            "backgroundcolor": "#E5ECF6",
            "gridcolor": "white",
            "gridwidth": 2,
            "linecolor": "white",
            "showbackground": true,
            "ticks": "",
            "zerolinecolor": "white"
           }
          },
          "shapedefaults": {
           "line": {
            "color": "#2a3f5f"
           }
          },
          "ternary": {
           "aaxis": {
            "gridcolor": "white",
            "linecolor": "white",
            "ticks": ""
           },
           "baxis": {
            "gridcolor": "white",
            "linecolor": "white",
            "ticks": ""
           },
           "bgcolor": "#E5ECF6",
           "caxis": {
            "gridcolor": "white",
            "linecolor": "white",
            "ticks": ""
           }
          },
          "title": {
           "x": 0.05
          },
          "xaxis": {
           "automargin": true,
           "gridcolor": "white",
           "linecolor": "white",
           "ticks": "",
           "title": {
            "standoff": 15
           },
           "zerolinecolor": "white",
           "zerolinewidth": 2
          },
          "yaxis": {
           "automargin": true,
           "gridcolor": "white",
           "linecolor": "white",
           "ticks": "",
           "title": {
            "standoff": 15
           },
           "zerolinecolor": "white",
           "zerolinewidth": 2
          }
         }
        },
        "title": {
         "text": "Latina"
        },
        "xaxis": {
         "anchor": "y",
         "domain": [
          0,
          1
         ],
         "title": {
          "text": "price"
         }
        },
        "yaxis": {
         "anchor": "x",
         "domain": [
          0,
          1
         ],
         "title": {
          "text": "income"
         }
        }
       }
      },
      "text/html": [
       "<div>                            <div id=\"0c9034f5-e49e-47f5-b328-2a00164eacbb\" class=\"plotly-graph-div\" style=\"height:525px; width:100%;\"></div>            <script type=\"text/javascript\">                require([\"plotly\"], function(Plotly) {                    window.PLOTLYENV=window.PLOTLYENV || {};                                    if (document.getElementById(\"0c9034f5-e49e-47f5-b328-2a00164eacbb\")) {                    Plotly.newPlot(                        \"0c9034f5-e49e-47f5-b328-2a00164eacbb\",                        [{\"hovertemplate\":\"price=%{x}<br>income=%{y}<extra></extra>\",\"legendgroup\":\"\",\"marker\":{\"color\":\"#636efa\",\"symbol\":\"circle\"},\"mode\":\"markers\",\"name\":\"\",\"orientation\":\"v\",\"showlegend\":false,\"x\":[10.0,11.0,12.0,13.0,14.000000000000002,15.0,16.0,17.0,18.0,19.0,20.0,21.0,22.0,23.0,24.0,25.0,26.0,27.0,28.000000000000004,28.999999999999996,30.0,31.0,32.0,33.0,34.0,35.0,36.0,37.0,38.0,39.0,40.0,41.0,42.0,43.0,44.0,45.0,46.0,47.0,48.0,49.0,50.0,51.0,52.0,53.0,54.0,55.00000000000001,56.00000000000001,56.99999999999999,57.99999999999999,59.0,60.0,61.0,62.0,63.0,64.0,65.0,66.0,67.0,68.0,69.0,70.0,71.0,72.0,73.0,74.0,75.0,76.0,77.0,78.0,79.0,80.0,81.0,82.0,83.0,84.0,85.0,86.0,87.0,88.0,89.0,90.0,91.0,92.0,93.0,94.0,95.0,96.0,97.0,98.0,99.0,100.0,101.0,102.0,103.0,104.0,105.0,106.0,107.0,108.0,109.00000000000001,110.00000000000001,111.00000000000001,112.00000000000001,112.99999999999999,113.99999999999999,114.99999999999999,115.99999999999999,117.0,118.0,119.0,120.0,121.0,122.0,123.0,124.0,125.0,126.0,127.0,128.0,129.0,130.0,131.0,132.0,133.0,134.0,135.0,136.0,137.0,138.0,139.0,140.0,141.0,142.0,143.0,144.0,145.0,146.0,147.0,148.0,149.0,150.0,151.0,152.0,153.0,154.0,155.0,156.0,157.0,158.0,159.0,160.0,161.0,162.0,163.0,164.0,165.0,166.0,167.0,168.0,169.0,170.0,171.0,172.0,173.0,174.0,175.0,176.0,177.0,178.0,179.0,180.0,181.0,182.0,183.0,184.0,185.0,186.0,187.0,188.0,189.0,190.0,191.0,192.0,193.0,194.0,195.0,196.0,197.0,198.0,199.0,200.0,200.99999999999997,202.0,202.99999999999997,204.0,204.99999999999997,206.0,206.99999999999997,208.0,209.0,210.0,211.0,212.0,213.0,214.0,215.0,216.0,217.0,218.00000000000003,219.0,220.00000000000003,221.0,222.00000000000003,223.0,224.00000000000003,225.0,225.99999999999997,227.0,227.99999999999997,229.0,229.99999999999997,231.0,231.99999999999997,233.0,234.0,235.0,236.0,237.0,238.0,239.0,240.0,241.0,242.0,243.00000000000003,244.0,245.00000000000003,246.0,247.00000000000003,248.0,249.00000000000003,250.0,250.99999999999997,252.0,252.99999999999997,254.0,254.99999999999997,256.0,257.0,258.0,259.0,260.0,261.0,262.0,263.0,264.0,265.0,266.0,267.0,268.0,269.0,270.0,271.0,272.0,273.0,274.0,275.0,276.0,277.0,278.0,279.0,280.0,281.0,282.0,283.0,284.0,285.0,286.0,287.0,288.0,289.0,290.0,291.0,292.0,293.0,294.0,295.0,296.0,297.0,298.0,299.0,300.0,301.0,302.0,303.0,304.0,305.0,306.0,307.0,308.0,309.0,310.0,311.0,312.0,313.0,314.0,315.0,316.0,317.0,318.0,319.0,320.0,321.0,322.0,323.0,324.0,325.0,326.0,327.0,328.0,329.0,330.0,331.0,332.0,333.0,334.0,335.0,336.0,337.0,338.0,339.0,340.0,341.0,342.0,343.0,344.0,345.0,346.0,347.0,348.0,349.0,350.0,351.0,352.0,353.0,354.0,355.0,356.0,357.0,358.0,359.0,360.0,361.0,362.0,363.0,364.0,365.0,366.0,367.0,368.0,369.0,370.0,371.0,372.0,373.0,374.0,375.0,376.0,377.0,378.0,379.0,380.0,381.0,382.0,383.0,384.0,385.0,386.0,387.0,388.0,389.0,390.0,391.0,392.0,393.0,394.0,395.0,396.0,397.0,398.0,399.0,400.0,401.0,401.99999999999994,403.0,404.0,405.0,405.99999999999994,407.0,408.0,409.0,409.99999999999994,411.00000000000006,412.0,413.0,413.99999999999994,415.00000000000006,416.0,417.0,418.0,419.00000000000006,420.0,421.0,422.0,423.00000000000006,424.0,425.0,426.0,426.99999999999994,428.0,429.0,430.0,430.99999999999994,432.0,433.0,434.0,434.99999999999994,436.00000000000006,437.0,438.0,438.99999999999994,440.00000000000006,441.0,442.0,443.0,444.00000000000006,445.0,446.0,447.0,448.00000000000006,449.0,450.0,451.0,451.99999999999994,453.0,454.0,455.0,455.99999999999994,457.0,458.0,459.0,459.99999999999994,461.00000000000006,462.0,463.0,463.99999999999994,465.00000000000006,466.0,467.0,468.0,469.00000000000006,470.0,471.0,472.0,473.00000000000006,474.0,475.0,476.0,476.99999999999994,478.0,479.0,480.0,480.99999999999994,482.0,483.0,484.0,484.99999999999994,486.00000000000006,487.0,488.0,488.99999999999994,490.00000000000006,491.0,492.0,493.0,494.00000000000006,495.0,496.0,497.0,498.00000000000006,499.0,500.0,501.0,501.99999999999994,503.0,504.0,505.0,505.99999999999994,507.0,508.0,509.0],\"xaxis\":\"x\",\"y\":[1361.1374576891624,1501.8648170288147,1643.4465239326046,1785.886507354613,1929.1887123502054,2073.3571001379437,2218.3956481617474,2364.3083501532647,2511.0992161944946,2658.7722727806295,2807.331562883117,2956.7811460129874,3107.1250982843867,3258.367512478343,3410.5124981067984,3563.564181476843,3717.526705755205,3872.404231032967,4028.2009343905397,4184.921009962858,4342.568669004814,4501.148139956956,4660.66366851141,4821.11951767803,4982.519967850842,5144.869316874678,5308.171880112092,5472.431990510494,5637.65399866957,5803.842272908913,5971.001199335916,6139.135181913925,6308.248642530643,6478.346021066748,6649.43177546483,6821.510381798526,6994.586334341942,7168.664145639286,7343.748346574843,7519.843486443113,7696.95413301925,7875.084872629787,8054.240310223577,8234.425069442985,8415.643792695422,8597.901141225046,8781.201795184794,8965.550453708616,9150.951834984073,9337.4106763251,9524.93173424507,9713.51978453017,9903.179622313006,10093.916062146442,10285.733938077808,10478.638103723306,10672.633432342704,10867.724816914291,11063.917170210183,11261.215424871802,11459.62453348567,11659.149468659543,11859.795223098747,12061.566809682778,12264.469261542297,12468.507632136298,12673.686995329606,12880.012445470624,13087.48909746944,13296.12208687616,13505.916569959489,13716.877723785736,13929.010746297987,14142.32085639557,14356.813294013926,14572.493320204641,14789.366217215864,15007.437288572919,15226.71185915936,15447.195275298203,15668.892904833454,15891.810137212049,16115.952383565982,16341.325076794741,16567.93367164815,16795.78364480938,17024.880494978377,17255.22974295548,17486.83693172548,17719.7076265419,17953.84741501153,18189.26190717947,18425.956735614276,18663.937555493474,18903.21004468951,19143.779903855826,19385.65285651342,19628.834649137538,19873.331051244924,20119.147855481187,20366.290877708507,20614.76595709382,20864.57895619718,21115.7357610604,21368.24228129625,21622.10445017771,21877.328224727742,22133.91958580924,22391.884538215472,22651.229110760774,22911.959356371455,23174.081352177283,23437.601199603123,23702.525024460956,23968.858977042186,24236.609232210463,24505.78198949463,24776.383473182068,25048.41993241251,25321.897641272077,25596.82289888757,25873.202029521377,26151.041382666503,26430.347333141934,26711.12628118857,26993.384652565266,27277.12889864538,27562.365496513517,27849.100949062875,28137.34178509272,28427.094559406214,28718.365852908853,29011.162272706963,29305.49045220676,29601.357051213574,29898.768756031735,30197.732279564527,30498.254361414605,30800.3417679849,31104.001292579756,31409.23975550635,31716.06400417681,32024.480913210366,32334.497384535967,32646.120347495453,32959.356758946844,33274.21360336822,33590.697892961696,33908.816667758205,34228.5769957223,34549.985972857365,34873.05072331149,35197.77839948347,35524.17618212914,35852.251280468416,36182.010932292425,36513.4624040712,36846.61299106153,37181.47001741559,37518.04083628966,37856.33282995324,38196.35340989879,38538.11001695169,38881.61012138054,39226.86122300811,39573.87085132246,39922.64656558862,40273.19595496042,40625.52663859316,40979.64626575636,41335.56251594684,41693.283099002634,42052.815755216885,42414.16825545242,42777.348401256524,43142.36402497643,43509.22298987496,43877.933190246615,44248.50255153432,44620.939030446316,44995.25061507366,45371.4453250079,45749.531211459675,46129.516357377084,46511.408877565125,46895.21691880509,47280.94865997471,47668.61231216838,48058.21611881834,48449.768355815846,48843.27733163283,49238.75138744435,49636.198897251095,50035.62826800253,50437.04793972031,50840.466385622494,51245.89211224791,51653.33365958084,52062.79960117674,52474.29854428775,52887.83912998913,53303.430033305776,53721.0799633397,54140.7976633973,54562.59191111781,54986.47151860168,55412.44533253967,55840.5222343422,56270.711140269595,56703.02100156237,57137.46080457202,57574.0395708927,58012.766357492874,58453.650256847795,58896.700397072105,59341.92594205342,59789.336091586025,60238.940081504974,60690.747183821106,61144.76670685624,61601.00799537863,62059.48043073966,62520.193431010186,62983.15645111803,63448.37898298537,63915.8705556673,64385.64073549042,64857.69912619187,65332.055369059344,65808.71914307123,66287.70016503707,66769.00818973927,67252.65301007453,67738.64445719631,68226.99240065724,68717.70674855296,69210.79744766561,69706.27448360811,70204.14788096923,70704.42770345899,71207.12405405422,71712.24707514545,72219.8069486837,72729.81389632773,73242.27817959254,73757.21009999758,74274.61999921613,74794.51825922448,75316.91530245273,75841.82159193522,76369.2476314615,76899.2039657288,77431.70118049388,77966.74990272625,78504.36080076131,79044.54458445478,79587.31200533708,80132.6738567683,80680.6409740943,81231.22423480265,81784.4345586797,82340.2829079676,82898.7802875228,83459.937744974,84023.76637088179,84590.27729889801,85159.4817059261,85731.390812282,86306.01588185524,86883.36822227159,87463.45918505482,88046.30016579064,88631.90260428995,89220.27798475353,89811.43783593651,90405.39373131446,91002.15728924931,91601.74017315579,92204.15409166926,92809.41079881338,93417.52209416871,94028.49982304167,94642.35587663467,95259.10219221632,95878.75075329216,96501.31358977674,97126.80277816555,97755.23044170775,98386.60875058002,99020.94992206042,99658.2662207029,100298.56995851315,100941.87349512418,101588.18923797319,102237.52964247839,102889.9072122175,103545.33449910599,104203.82410357596,104865.38867475645,105530.0409106537,106197.79355833231,106868.65941409669,107542.65132367413,108219.7821823971,108900.06493538774,109583.51257774177,110270.1381547138,110959.95476190267,111652.97554543844,112349.21370216912,113048.68247984815,113751.3951773235,114457.36514472612,115166.60578366021,115879.13054739306,116594.95294104691,117314.08652179044,118036.54489903097,118762.34173460829,119491.49074298822,120224.00569145735,120959.90040031791,121699.18874308451,122441.8846466804,123188.00209163465,123937.55511228094,124690.55779695591,125447.02428819895,126206.96878295203,126970.40553276148,127737.34884397882,128507.8130779639,129281.81265128775,130059.36203593657,130840.475759516,131625.1684054571,132413.45461322213,133205.34907851103,134000.86655346976,134800.02184689802,135602.82982445875,136409.3054088873,137219.46358020298,138033.3193759193,138850.8878912571,139672.18427935673,140497.22375149184,141326.02157728394,142158.59308491708,142994.95366135452,143835.11875255452,144679.10386368877,145526.9245593599,146378.59646382104,147234.135261195,148093.5566956957,148956.87657184913,149824.1107547152,150695.27517011153,151570.3858048367,152449.45870689518,153332.50998572208,154219.5558124103,155110.61241993672,156005.69610339057,156904.82322020194,157808.01019037113,158715.2734966992,159626.62968501847,160542.09536442548,161461.68720751267,162385.4219506029,163313.3163939834,164245.38740214138,165181.65190399936,166122.12689315339,167066.8294281101,168015.7766325251,168968.9856954434,169926.47387153908,170888.25848135704,171854.3569115543,172824.78661514405,173799.565111739,174778.70998779553,175762.2388968604,176750.16955981648,177742.51976513048,178739.30736910042,179740.55029610617,180746.2665388579,181756.47415864826,182771.19128560348,183790.4361189367,184814.2269272003,185842.58204854213,186875.51989096001,187913.05893255776,188955.2177218033,190002.0148777863,191053.4690904776,192109.59912098915,193170.4238018344,194235.962037191,195306.23280316347,196381.2551480469,197461.04819259126,198545.6311302679,199635.02322753507,200729.2438241068,201828.3123332199,202932.2482419049,204041.07111125567,205154.80057670118,206273.45634827708,207397.05821090026,208525.62602464264,209659.17972500582,210797.73932319865,211941.32490641336,213089.95663810478,214243.65475826844,215402.43958372227,216566.3315083863,217735.3510035663,218909.51861823624,220088.85497932317,221273.38079199125,222463.11683992972,223658.08398563918,224858.30317072055,226063.79541616337,227274.5818226377,228490.68357078457,229712.12192150904,230938.91821627284,232171.09387739032,233408.6704083226,234651.6693939756,235900.11250099697,237154.02147807533,238413.41815623935,239678.32444915982,240948.76235345125,242224.75394897404,243506.32139914026,244793.4869512177,246086.27293663716,247384.70177129834,248688.79595588014,249998.5780761496,251314.070803272,252635.2968941236,253962.27919160438,255295.04062495203,256633.60421005663,257977.9930497779,259328.2303342618,260684.3393412598,262046.34343644814,263414.2660737489,264788.13079565135,266167.96123353613,267553.7811079991,268945.6142291758,270343.4844970698,271747.41590187914,273157.432524326,274573.558535986,275995.8181996203,277424.2358695072,278858.83599177684,280299.64310474513,281746.6818392501,283199.97691898927,284659.553160857,286125.4354752863,287597.6488665866,289076.21843328886,290561.1693684868,292052.5269601824,293550.31659163017,295054.563741686,296565.29398515436,298082.5329931368,299606.3065333843,301136.6404706482,302673.5607670334,304217.0934823525,305767.2647744822,307324.1008997191,308887.6282131392,310457.8731689564,312034.8623208838,313618.6223224945,315209.17992758675,316806.56199054717,318410.7954667175,320021.90741276025,321639.9249870293],\"yaxis\":\"y\",\"type\":\"scatter\"}],                        {\"template\":{\"data\":{\"histogram2dcontour\":[{\"type\":\"histogram2dcontour\",\"colorbar\":{\"outlinewidth\":0,\"ticks\":\"\"},\"colorscale\":[[0.0,\"#0d0887\"],[0.1111111111111111,\"#46039f\"],[0.2222222222222222,\"#7201a8\"],[0.3333333333333333,\"#9c179e\"],[0.4444444444444444,\"#bd3786\"],[0.5555555555555556,\"#d8576b\"],[0.6666666666666666,\"#ed7953\"],[0.7777777777777778,\"#fb9f3a\"],[0.8888888888888888,\"#fdca26\"],[1.0,\"#f0f921\"]]}],\"choropleth\":[{\"type\":\"choropleth\",\"colorbar\":{\"outlinewidth\":0,\"ticks\":\"\"}}],\"histogram2d\":[{\"type\":\"histogram2d\",\"colorbar\":{\"outlinewidth\":0,\"ticks\":\"\"},\"colorscale\":[[0.0,\"#0d0887\"],[0.1111111111111111,\"#46039f\"],[0.2222222222222222,\"#7201a8\"],[0.3333333333333333,\"#9c179e\"],[0.4444444444444444,\"#bd3786\"],[0.5555555555555556,\"#d8576b\"],[0.6666666666666666,\"#ed7953\"],[0.7777777777777778,\"#fb9f3a\"],[0.8888888888888888,\"#fdca26\"],[1.0,\"#f0f921\"]]}],\"heatmap\":[{\"type\":\"heatmap\",\"colorbar\":{\"outlinewidth\":0,\"ticks\":\"\"},\"colorscale\":[[0.0,\"#0d0887\"],[0.1111111111111111,\"#46039f\"],[0.2222222222222222,\"#7201a8\"],[0.3333333333333333,\"#9c179e\"],[0.4444444444444444,\"#bd3786\"],[0.5555555555555556,\"#d8576b\"],[0.6666666666666666,\"#ed7953\"],[0.7777777777777778,\"#fb9f3a\"],[0.8888888888888888,\"#fdca26\"],[1.0,\"#f0f921\"]]}],\"heatmapgl\":[{\"type\":\"heatmapgl\",\"colorbar\":{\"outlinewidth\":0,\"ticks\":\"\"},\"colorscale\":[[0.0,\"#0d0887\"],[0.1111111111111111,\"#46039f\"],[0.2222222222222222,\"#7201a8\"],[0.3333333333333333,\"#9c179e\"],[0.4444444444444444,\"#bd3786\"],[0.5555555555555556,\"#d8576b\"],[0.6666666666666666,\"#ed7953\"],[0.7777777777777778,\"#fb9f3a\"],[0.8888888888888888,\"#fdca26\"],[1.0,\"#f0f921\"]]}],\"contourcarpet\":[{\"type\":\"contourcarpet\",\"colorbar\":{\"outlinewidth\":0,\"ticks\":\"\"}}],\"contour\":[{\"type\":\"contour\",\"colorbar\":{\"outlinewidth\":0,\"ticks\":\"\"},\"colorscale\":[[0.0,\"#0d0887\"],[0.1111111111111111,\"#46039f\"],[0.2222222222222222,\"#7201a8\"],[0.3333333333333333,\"#9c179e\"],[0.4444444444444444,\"#bd3786\"],[0.5555555555555556,\"#d8576b\"],[0.6666666666666666,\"#ed7953\"],[0.7777777777777778,\"#fb9f3a\"],[0.8888888888888888,\"#fdca26\"],[1.0,\"#f0f921\"]]}],\"surface\":[{\"type\":\"surface\",\"colorbar\":{\"outlinewidth\":0,\"ticks\":\"\"},\"colorscale\":[[0.0,\"#0d0887\"],[0.1111111111111111,\"#46039f\"],[0.2222222222222222,\"#7201a8\"],[0.3333333333333333,\"#9c179e\"],[0.4444444444444444,\"#bd3786\"],[0.5555555555555556,\"#d8576b\"],[0.6666666666666666,\"#ed7953\"],[0.7777777777777778,\"#fb9f3a\"],[0.8888888888888888,\"#fdca26\"],[1.0,\"#f0f921\"]]}],\"mesh3d\":[{\"type\":\"mesh3d\",\"colorbar\":{\"outlinewidth\":0,\"ticks\":\"\"}}],\"scatter\":[{\"fillpattern\":{\"fillmode\":\"overlay\",\"size\":10,\"solidity\":0.2},\"type\":\"scatter\"}],\"parcoords\":[{\"type\":\"parcoords\",\"line\":{\"colorbar\":{\"outlinewidth\":0,\"ticks\":\"\"}}}],\"scatterpolargl\":[{\"type\":\"scatterpolargl\",\"marker\":{\"colorbar\":{\"outlinewidth\":0,\"ticks\":\"\"}}}],\"bar\":[{\"error_x\":{\"color\":\"#2a3f5f\"},\"error_y\":{\"color\":\"#2a3f5f\"},\"marker\":{\"line\":{\"color\":\"#E5ECF6\",\"width\":0.5},\"pattern\":{\"fillmode\":\"overlay\",\"size\":10,\"solidity\":0.2}},\"type\":\"bar\"}],\"scattergeo\":[{\"type\":\"scattergeo\",\"marker\":{\"colorbar\":{\"outlinewidth\":0,\"ticks\":\"\"}}}],\"scatterpolar\":[{\"type\":\"scatterpolar\",\"marker\":{\"colorbar\":{\"outlinewidth\":0,\"ticks\":\"\"}}}],\"histogram\":[{\"marker\":{\"pattern\":{\"fillmode\":\"overlay\",\"size\":10,\"solidity\":0.2}},\"type\":\"histogram\"}],\"scattergl\":[{\"type\":\"scattergl\",\"marker\":{\"colorbar\":{\"outlinewidth\":0,\"ticks\":\"\"}}}],\"scatter3d\":[{\"type\":\"scatter3d\",\"line\":{\"colorbar\":{\"outlinewidth\":0,\"ticks\":\"\"}},\"marker\":{\"colorbar\":{\"outlinewidth\":0,\"ticks\":\"\"}}}],\"scattermapbox\":[{\"type\":\"scattermapbox\",\"marker\":{\"colorbar\":{\"outlinewidth\":0,\"ticks\":\"\"}}}],\"scatterternary\":[{\"type\":\"scatterternary\",\"marker\":{\"colorbar\":{\"outlinewidth\":0,\"ticks\":\"\"}}}],\"scattercarpet\":[{\"type\":\"scattercarpet\",\"marker\":{\"colorbar\":{\"outlinewidth\":0,\"ticks\":\"\"}}}],\"carpet\":[{\"aaxis\":{\"endlinecolor\":\"#2a3f5f\",\"gridcolor\":\"white\",\"linecolor\":\"white\",\"minorgridcolor\":\"white\",\"startlinecolor\":\"#2a3f5f\"},\"baxis\":{\"endlinecolor\":\"#2a3f5f\",\"gridcolor\":\"white\",\"linecolor\":\"white\",\"minorgridcolor\":\"white\",\"startlinecolor\":\"#2a3f5f\"},\"type\":\"carpet\"}],\"table\":[{\"cells\":{\"fill\":{\"color\":\"#EBF0F8\"},\"line\":{\"color\":\"white\"}},\"header\":{\"fill\":{\"color\":\"#C8D4E3\"},\"line\":{\"color\":\"white\"}},\"type\":\"table\"}],\"barpolar\":[{\"marker\":{\"line\":{\"color\":\"#E5ECF6\",\"width\":0.5},\"pattern\":{\"fillmode\":\"overlay\",\"size\":10,\"solidity\":0.2}},\"type\":\"barpolar\"}],\"pie\":[{\"automargin\":true,\"type\":\"pie\"}]},\"layout\":{\"autotypenumbers\":\"strict\",\"colorway\":[\"#636efa\",\"#EF553B\",\"#00cc96\",\"#ab63fa\",\"#FFA15A\",\"#19d3f3\",\"#FF6692\",\"#B6E880\",\"#FF97FF\",\"#FECB52\"],\"font\":{\"color\":\"#2a3f5f\"},\"hovermode\":\"closest\",\"hoverlabel\":{\"align\":\"left\"},\"paper_bgcolor\":\"white\",\"plot_bgcolor\":\"#E5ECF6\",\"polar\":{\"bgcolor\":\"#E5ECF6\",\"angularaxis\":{\"gridcolor\":\"white\",\"linecolor\":\"white\",\"ticks\":\"\"},\"radialaxis\":{\"gridcolor\":\"white\",\"linecolor\":\"white\",\"ticks\":\"\"}},\"ternary\":{\"bgcolor\":\"#E5ECF6\",\"aaxis\":{\"gridcolor\":\"white\",\"linecolor\":\"white\",\"ticks\":\"\"},\"baxis\":{\"gridcolor\":\"white\",\"linecolor\":\"white\",\"ticks\":\"\"},\"caxis\":{\"gridcolor\":\"white\",\"linecolor\":\"white\",\"ticks\":\"\"}},\"coloraxis\":{\"colorbar\":{\"outlinewidth\":0,\"ticks\":\"\"}},\"colorscale\":{\"sequential\":[[0.0,\"#0d0887\"],[0.1111111111111111,\"#46039f\"],[0.2222222222222222,\"#7201a8\"],[0.3333333333333333,\"#9c179e\"],[0.4444444444444444,\"#bd3786\"],[0.5555555555555556,\"#d8576b\"],[0.6666666666666666,\"#ed7953\"],[0.7777777777777778,\"#fb9f3a\"],[0.8888888888888888,\"#fdca26\"],[1.0,\"#f0f921\"]],\"sequentialminus\":[[0.0,\"#0d0887\"],[0.1111111111111111,\"#46039f\"],[0.2222222222222222,\"#7201a8\"],[0.3333333333333333,\"#9c179e\"],[0.4444444444444444,\"#bd3786\"],[0.5555555555555556,\"#d8576b\"],[0.6666666666666666,\"#ed7953\"],[0.7777777777777778,\"#fb9f3a\"],[0.8888888888888888,\"#fdca26\"],[1.0,\"#f0f921\"]],\"diverging\":[[0,\"#8e0152\"],[0.1,\"#c51b7d\"],[0.2,\"#de77ae\"],[0.3,\"#f1b6da\"],[0.4,\"#fde0ef\"],[0.5,\"#f7f7f7\"],[0.6,\"#e6f5d0\"],[0.7,\"#b8e186\"],[0.8,\"#7fbc41\"],[0.9,\"#4d9221\"],[1,\"#276419\"]]},\"xaxis\":{\"gridcolor\":\"white\",\"linecolor\":\"white\",\"ticks\":\"\",\"title\":{\"standoff\":15},\"zerolinecolor\":\"white\",\"automargin\":true,\"zerolinewidth\":2},\"yaxis\":{\"gridcolor\":\"white\",\"linecolor\":\"white\",\"ticks\":\"\",\"title\":{\"standoff\":15},\"zerolinecolor\":\"white\",\"automargin\":true,\"zerolinewidth\":2},\"scene\":{\"xaxis\":{\"backgroundcolor\":\"#E5ECF6\",\"gridcolor\":\"white\",\"linecolor\":\"white\",\"showbackground\":true,\"ticks\":\"\",\"zerolinecolor\":\"white\",\"gridwidth\":2},\"yaxis\":{\"backgroundcolor\":\"#E5ECF6\",\"gridcolor\":\"white\",\"linecolor\":\"white\",\"showbackground\":true,\"ticks\":\"\",\"zerolinecolor\":\"white\",\"gridwidth\":2},\"zaxis\":{\"backgroundcolor\":\"#E5ECF6\",\"gridcolor\":\"white\",\"linecolor\":\"white\",\"showbackground\":true,\"ticks\":\"\",\"zerolinecolor\":\"white\",\"gridwidth\":2}},\"shapedefaults\":{\"line\":{\"color\":\"#2a3f5f\"}},\"annotationdefaults\":{\"arrowcolor\":\"#2a3f5f\",\"arrowhead\":0,\"arrowwidth\":1},\"geo\":{\"bgcolor\":\"white\",\"landcolor\":\"#E5ECF6\",\"subunitcolor\":\"white\",\"showland\":true,\"showlakes\":true,\"lakecolor\":\"white\"},\"title\":{\"x\":0.05},\"mapbox\":{\"style\":\"light\"}}},\"xaxis\":{\"anchor\":\"y\",\"domain\":[0.0,1.0],\"title\":{\"text\":\"price\"}},\"yaxis\":{\"anchor\":\"x\",\"domain\":[0.0,1.0],\"title\":{\"text\":\"income\"}},\"legend\":{\"tracegroupgap\":0},\"title\":{\"text\":\"Latina\"}},                        {\"responsive\": true}                    ).then(function(){\n",
       "                            \n",
       "var gd = document.getElementById('0c9034f5-e49e-47f5-b328-2a00164eacbb');\n",
       "var x = new MutationObserver(function (mutations, observer) {{\n",
       "        var display = window.getComputedStyle(gd).display;\n",
       "        if (!display || display === 'none') {{\n",
       "            console.log([gd, 'removed!']);\n",
       "            Plotly.purge(gd);\n",
       "            observer.disconnect();\n",
       "        }}\n",
       "}});\n",
       "\n",
       "// Listen for the removal of the full notebook cells\n",
       "var notebookContainer = gd.closest('#notebook-container');\n",
       "if (notebookContainer) {{\n",
       "    x.observe(notebookContainer, {childList: true});\n",
       "}}\n",
       "\n",
       "// Listen for the clearing of the current output cell\n",
       "var outputEl = gd.closest('.output');\n",
       "if (outputEl) {{\n",
       "    x.observe(outputEl, {childList: true});\n",
       "}}\n",
       "\n",
       "                        })                };                });            </script>        </div>"
      ]
     },
     "metadata": {},
     "output_type": "display_data"
    },
    {
     "data": {
      "text/html": [
       "<div>\n",
       "<style scoped>\n",
       "    .dataframe tbody tr th:only-of-type {\n",
       "        vertical-align: middle;\n",
       "    }\n",
       "\n",
       "    .dataframe tbody tr th {\n",
       "        vertical-align: top;\n",
       "    }\n",
       "\n",
       "    .dataframe thead th {\n",
       "        text-align: right;\n",
       "    }\n",
       "</style>\n",
       "<table border=\"1\" class=\"dataframe\">\n",
       "  <thead>\n",
       "    <tr style=\"text-align: right;\">\n",
       "      <th></th>\n",
       "      <th>price</th>\n",
       "      <th>demand</th>\n",
       "      <th>income</th>\n",
       "    </tr>\n",
       "  </thead>\n",
       "  <tbody>\n",
       "    <tr>\n",
       "      <th>499</th>\n",
       "      <td>509.0</td>\n",
       "      <td>631.90555</td>\n",
       "      <td>321639.924987</td>\n",
       "    </tr>\n",
       "  </tbody>\n",
       "</table>\n",
       "</div>"
      ],
      "text/plain": [
       "     price     demand         income\n",
       "499  509.0  631.90555  321639.924987"
      ]
     },
     "metadata": {},
     "output_type": "display_data"
    },
    {
     "name": "stdout",
     "output_type": "stream",
     "text": [
      "CPU times: user 5.99 s, sys: 820 ms, total: 6.81 s\n",
      "Wall time: 7.21 s\n"
     ]
    },
    {
     "data": {
      "text/plain": [
       "{'barrio': 'Latina',\n",
       " 'optimo': 137.64500846612515,\n",
       " 'params': {'theta_1': 0.307665137227735, 'theta_0': 4.882724388402085},\n",
       " 'converge': False,\n",
       " 'describe': {'count_': {'count': 366.0,\n",
       "   'mean': 202.7568306010929,\n",
       "   'std': 36.794928102076504,\n",
       "   'min': 0.0,\n",
       "   '25%': 167.0,\n",
       "   '50%': 195.5,\n",
       "   '75%': 231.0,\n",
       "   'max': 272.0},\n",
       "  'avg_price': {'count': 366.0,\n",
       "   'mean': 1.3764500846612515,\n",
       "   'std': 0.34621281385708524,\n",
       "   'min': 0.76,\n",
       "   '25%': 1.0020884146341462,\n",
       "   '50%': 1.4031872124340703,\n",
       "   '75%': 1.5786491200608241,\n",
       "   'max': 2.3402857142857143}},\n",
       " 'average': 1.3764500846612515}"
      ]
     },
     "execution_count": 31,
     "metadata": {},
     "output_type": "execute_result"
    }
   ],
   "source": [
    "%%time\n",
    "\n",
    "# Latina\n",
    "\n",
    "data=extract_data(available='t', lower=24, upper=10000)\n",
    "\n",
    "neighbourhood(data, 'Latina')"
   ]
  },
  {
   "cell_type": "code",
   "execution_count": null,
   "id": "1b62718d",
   "metadata": {},
   "outputs": [],
   "source": []
  }
 ],
 "metadata": {
  "kernelspec": {
   "display_name": "clase",
   "language": "python",
   "name": "clase"
  },
  "language_info": {
   "codemirror_mode": {
    "name": "ipython",
    "version": 3
   },
   "file_extension": ".py",
   "mimetype": "text/x-python",
   "name": "python",
   "nbconvert_exporter": "python",
   "pygments_lexer": "ipython3",
   "version": "3.8.13"
  }
 },
 "nbformat": 4,
 "nbformat_minor": 5
}

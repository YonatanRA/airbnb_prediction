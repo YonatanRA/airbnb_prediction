{
 "cells": [
  {
   "cell_type": "markdown",
   "id": "110d66f0",
   "metadata": {},
   "source": [
    "# 4.1 - TFIDF\n",
    "\n",
    "Voy a intentar una transformación tfidf y usar solamente esos vectores como datos para entrenar un modelo."
   ]
  },
  {
   "cell_type": "code",
   "execution_count": 1,
   "id": "a58acbdf",
   "metadata": {},
   "outputs": [
    {
     "name": "stderr",
     "output_type": "stream",
     "text": [
      "[nltk_data] Downloading package stopwords to /Users/iudh/nltk_data...\n",
      "[nltk_data]   Package stopwords is already up-to-date!\n"
     ]
    }
   ],
   "source": [
    "import numpy as np\n",
    "import pandas as pd\n",
    "pd.set_option('display.max_columns', None)\n",
    "\n",
    "import spacy\n",
    "from spacy.lang.en.stop_words import STOP_WORDS\n",
    "\n",
    "import nltk\n",
    "nltk.download('stopwords')\n",
    "from nltk.corpus import stopwords\n",
    "from nltk import word_tokenize\n",
    "\n",
    "from langdetect import detect\n",
    "from googletrans import Translator\n",
    "\n",
    "import re\n",
    "\n",
    "from sklearn.feature_extraction.text import TfidfVectorizer"
   ]
  },
  {
   "cell_type": "code",
   "execution_count": 2,
   "id": "6bbd2dec",
   "metadata": {},
   "outputs": [
    {
     "name": "stdout",
     "output_type": "stream",
     "text": [
      "<class 'pandas.core.frame.DataFrame'>\n",
      "RangeIndex: 21495 entries, 0 to 21494\n",
      "Columns: 106 entries, id to reviews_per_month\n",
      "dtypes: float64(23), int64(21), object(62)\n",
      "memory usage: 163.8 MB\n"
     ]
    }
   ],
   "source": [
    "listings=pd.read_csv('../data/raw_data/listings.csv.gz', compression='gzip', low_memory=False)\n",
    "    \n",
    "listings.info(memory_usage='deep')"
   ]
  },
  {
   "cell_type": "code",
   "execution_count": 3,
   "id": "28a387fe",
   "metadata": {},
   "outputs": [
    {
     "name": "stdout",
     "output_type": "stream",
     "text": [
      "<class 'pandas.core.frame.DataFrame'>\n",
      "RangeIndex: 812726 entries, 0 to 812725\n",
      "Data columns (total 6 columns):\n",
      " #   Column         Non-Null Count   Dtype \n",
      "---  ------         --------------   ----- \n",
      " 0   listing_id     812726 non-null  int32 \n",
      " 1   id             812726 non-null  int32 \n",
      " 2   date           812726 non-null  object\n",
      " 3   reviewer_id    812726 non-null  int32 \n",
      " 4   reviewer_name  812725 non-null  object\n",
      " 5   comments       812351 non-null  object\n",
      "dtypes: int32(3), object(3)\n",
      "memory usage: 373.0 MB\n"
     ]
    }
   ],
   "source": [
    "reviews=pd.read_csv('../data/raw_data/reviews.csv.gz', compression='gzip', low_memory=False)\n",
    "\n",
    "for c in reviews.select_dtypes(include='int'):\n",
    "    reviews[c]=pd.to_numeric(reviews[c], downcast='integer')\n",
    "\n",
    "reviews.info(memory_usage='deep')"
   ]
  },
  {
   "cell_type": "code",
   "execution_count": 4,
   "id": "2dacb72d",
   "metadata": {},
   "outputs": [
    {
     "data": {
      "text/html": [
       "<div>\n",
       "<style scoped>\n",
       "    .dataframe tbody tr th:only-of-type {\n",
       "        vertical-align: middle;\n",
       "    }\n",
       "\n",
       "    .dataframe tbody tr th {\n",
       "        vertical-align: top;\n",
       "    }\n",
       "\n",
       "    .dataframe thead th {\n",
       "        text-align: right;\n",
       "    }\n",
       "</style>\n",
       "<table border=\"1\" class=\"dataframe\">\n",
       "  <thead>\n",
       "    <tr style=\"text-align: right;\">\n",
       "      <th></th>\n",
       "      <th>listing_id</th>\n",
       "      <th>id</th>\n",
       "      <th>date</th>\n",
       "      <th>reviewer_id</th>\n",
       "      <th>reviewer_name</th>\n",
       "      <th>comments</th>\n",
       "    </tr>\n",
       "  </thead>\n",
       "  <tbody>\n",
       "    <tr>\n",
       "      <th>0</th>\n",
       "      <td>6369</td>\n",
       "      <td>29428</td>\n",
       "      <td>2010-03-14</td>\n",
       "      <td>84790</td>\n",
       "      <td>Nancy</td>\n",
       "      <td>Simon and Arturo have the ultimate location in...</td>\n",
       "    </tr>\n",
       "    <tr>\n",
       "      <th>1</th>\n",
       "      <td>21853</td>\n",
       "      <td>21051116</td>\n",
       "      <td>2014-10-10</td>\n",
       "      <td>8506071</td>\n",
       "      <td>Pedro Abel</td>\n",
       "      <td>Mi experiencia en casa de Adel fue buena, aunq...</td>\n",
       "    </tr>\n",
       "    <tr>\n",
       "      <th>2</th>\n",
       "      <td>24805</td>\n",
       "      <td>23330835</td>\n",
       "      <td>2014-11-29</td>\n",
       "      <td>9091591</td>\n",
       "      <td>Berk</td>\n",
       "      <td>During my stay, I enjoyed all around and had a...</td>\n",
       "    </tr>\n",
       "    <tr>\n",
       "      <th>3</th>\n",
       "      <td>24836</td>\n",
       "      <td>294356</td>\n",
       "      <td>2011-06-02</td>\n",
       "      <td>18734</td>\n",
       "      <td>Albert</td>\n",
       "      <td>Incredible location!  Tenty and Goyo were very...</td>\n",
       "    </tr>\n",
       "    <tr>\n",
       "      <th>4</th>\n",
       "      <td>26825</td>\n",
       "      <td>41524</td>\n",
       "      <td>2010-05-10</td>\n",
       "      <td>45915</td>\n",
       "      <td>Cybill</td>\n",
       "      <td>Agustina is a great host, she is very thoughtf...</td>\n",
       "    </tr>\n",
       "  </tbody>\n",
       "</table>\n",
       "</div>"
      ],
      "text/plain": [
       "   listing_id        id        date  reviewer_id reviewer_name  \\\n",
       "0        6369     29428  2010-03-14        84790         Nancy   \n",
       "1       21853  21051116  2014-10-10      8506071    Pedro Abel   \n",
       "2       24805  23330835  2014-11-29      9091591          Berk   \n",
       "3       24836    294356  2011-06-02        18734        Albert   \n",
       "4       26825     41524  2010-05-10        45915        Cybill   \n",
       "\n",
       "                                            comments  \n",
       "0  Simon and Arturo have the ultimate location in...  \n",
       "1  Mi experiencia en casa de Adel fue buena, aunq...  \n",
       "2  During my stay, I enjoyed all around and had a...  \n",
       "3  Incredible location!  Tenty and Goyo were very...  \n",
       "4  Agustina is a great host, she is very thoughtf...  "
      ]
     },
     "execution_count": 4,
     "metadata": {},
     "output_type": "execute_result"
    }
   ],
   "source": [
    "primera=reviews.groupby('listing_id').first().reset_index()\n",
    "\n",
    "primera.head()"
   ]
  },
  {
   "cell_type": "code",
   "execution_count": 5,
   "id": "f7f9fe64",
   "metadata": {},
   "outputs": [
    {
     "data": {
      "text/html": [
       "<div>\n",
       "<style scoped>\n",
       "    .dataframe tbody tr th:only-of-type {\n",
       "        vertical-align: middle;\n",
       "    }\n",
       "\n",
       "    .dataframe tbody tr th {\n",
       "        vertical-align: top;\n",
       "    }\n",
       "\n",
       "    .dataframe thead th {\n",
       "        text-align: right;\n",
       "    }\n",
       "</style>\n",
       "<table border=\"1\" class=\"dataframe\">\n",
       "  <thead>\n",
       "    <tr style=\"text-align: right;\">\n",
       "      <th></th>\n",
       "      <th>id_x</th>\n",
       "      <th>price</th>\n",
       "      <th>comments</th>\n",
       "    </tr>\n",
       "  </thead>\n",
       "  <tbody>\n",
       "    <tr>\n",
       "      <th>0</th>\n",
       "      <td>6369</td>\n",
       "      <td>$70.00</td>\n",
       "      <td>Simon and Arturo have the ultimate location in...</td>\n",
       "    </tr>\n",
       "    <tr>\n",
       "      <th>1</th>\n",
       "      <td>21853</td>\n",
       "      <td>$17.00</td>\n",
       "      <td>Mi experiencia en casa de Adel fue buena, aunq...</td>\n",
       "    </tr>\n",
       "    <tr>\n",
       "      <th>2</th>\n",
       "      <td>24805</td>\n",
       "      <td>$80.00</td>\n",
       "      <td>During my stay, I enjoyed all around and had a...</td>\n",
       "    </tr>\n",
       "    <tr>\n",
       "      <th>3</th>\n",
       "      <td>24836</td>\n",
       "      <td>$115.00</td>\n",
       "      <td>Incredible location!  Tenty and Goyo were very...</td>\n",
       "    </tr>\n",
       "    <tr>\n",
       "      <th>4</th>\n",
       "      <td>26825</td>\n",
       "      <td>$25.00</td>\n",
       "      <td>Agustina is a great host, she is very thoughtf...</td>\n",
       "    </tr>\n",
       "  </tbody>\n",
       "</table>\n",
       "</div>"
      ],
      "text/plain": [
       "    id_x    price                                           comments\n",
       "0   6369   $70.00  Simon and Arturo have the ultimate location in...\n",
       "1  21853   $17.00  Mi experiencia en casa de Adel fue buena, aunq...\n",
       "2  24805   $80.00  During my stay, I enjoyed all around and had a...\n",
       "3  24836  $115.00  Incredible location!  Tenty and Goyo were very...\n",
       "4  26825   $25.00  Agustina is a great host, she is very thoughtf..."
      ]
     },
     "execution_count": 5,
     "metadata": {},
     "output_type": "execute_result"
    }
   ],
   "source": [
    "total=listings.merge(primera, left_on='id', right_on='listing_id')[['id_x', 'price', 'comments']]\n",
    "\n",
    "total=total.dropna()\n",
    "\n",
    "total.head()"
   ]
  },
  {
   "cell_type": "code",
   "execution_count": 6,
   "id": "25212490",
   "metadata": {},
   "outputs": [
    {
     "name": "stdout",
     "output_type": "stream",
     "text": [
      "<class 'pandas.core.frame.DataFrame'>\n",
      "Int64Index: 17202 entries, 0 to 17203\n",
      "Data columns (total 3 columns):\n",
      " #   Column    Non-Null Count  Dtype  \n",
      "---  ------    --------------  -----  \n",
      " 0   id_x      17202 non-null  int64  \n",
      " 1   price     17202 non-null  float64\n",
      " 2   comments  17202 non-null  object \n",
      "dtypes: float64(1), int64(1), object(1)\n",
      "memory usage: 5.9 MB\n"
     ]
    }
   ],
   "source": [
    "total.price=total.price.apply(lambda x: float(x.replace('$', '').replace(',', '')))\n",
    "\n",
    "total.info(memory_usage='deep')"
   ]
  },
  {
   "cell_type": "code",
   "execution_count": 7,
   "id": "c9107ff7",
   "metadata": {},
   "outputs": [
    {
     "name": "stdout",
     "output_type": "stream",
     "text": [
      "CPU times: user 59.5 s, sys: 424 ms, total: 59.9 s\n",
      "Wall time: 59.9 s\n"
     ]
    },
    {
     "data": {
      "text/html": [
       "<div>\n",
       "<style scoped>\n",
       "    .dataframe tbody tr th:only-of-type {\n",
       "        vertical-align: middle;\n",
       "    }\n",
       "\n",
       "    .dataframe tbody tr th {\n",
       "        vertical-align: top;\n",
       "    }\n",
       "\n",
       "    .dataframe thead th {\n",
       "        text-align: right;\n",
       "    }\n",
       "</style>\n",
       "<table border=\"1\" class=\"dataframe\">\n",
       "  <thead>\n",
       "    <tr style=\"text-align: right;\">\n",
       "      <th></th>\n",
       "      <th>id_x</th>\n",
       "      <th>price</th>\n",
       "      <th>comments</th>\n",
       "      <th>lang</th>\n",
       "    </tr>\n",
       "  </thead>\n",
       "  <tbody>\n",
       "    <tr>\n",
       "      <th>0</th>\n",
       "      <td>6369</td>\n",
       "      <td>70.0</td>\n",
       "      <td>Simon and Arturo have the ultimate location in...</td>\n",
       "      <td>en</td>\n",
       "    </tr>\n",
       "    <tr>\n",
       "      <th>1</th>\n",
       "      <td>21853</td>\n",
       "      <td>17.0</td>\n",
       "      <td>Mi experiencia en casa de Adel fue buena, aunq...</td>\n",
       "      <td>es</td>\n",
       "    </tr>\n",
       "    <tr>\n",
       "      <th>2</th>\n",
       "      <td>24805</td>\n",
       "      <td>80.0</td>\n",
       "      <td>During my stay, I enjoyed all around and had a...</td>\n",
       "      <td>en</td>\n",
       "    </tr>\n",
       "    <tr>\n",
       "      <th>3</th>\n",
       "      <td>24836</td>\n",
       "      <td>115.0</td>\n",
       "      <td>Incredible location!  Tenty and Goyo were very...</td>\n",
       "      <td>en</td>\n",
       "    </tr>\n",
       "    <tr>\n",
       "      <th>4</th>\n",
       "      <td>26825</td>\n",
       "      <td>25.0</td>\n",
       "      <td>Agustina is a great host, she is very thoughtf...</td>\n",
       "      <td>en</td>\n",
       "    </tr>\n",
       "  </tbody>\n",
       "</table>\n",
       "</div>"
      ],
      "text/plain": [
       "    id_x  price                                           comments lang\n",
       "0   6369   70.0  Simon and Arturo have the ultimate location in...   en\n",
       "1  21853   17.0  Mi experiencia en casa de Adel fue buena, aunq...   es\n",
       "2  24805   80.0  During my stay, I enjoyed all around and had a...   en\n",
       "3  24836  115.0  Incredible location!  Tenty and Goyo were very...   en\n",
       "4  26825   25.0  Agustina is a great host, she is very thoughtf...   en"
      ]
     },
     "execution_count": 7,
     "metadata": {},
     "output_type": "execute_result"
    }
   ],
   "source": [
    "%%time\n",
    "\n",
    "def detect_lang(x: str) -> str:\n",
    "    \"\"\"\n",
    "    Función para detectar el idioma de una string.\n",
    "    \n",
    "    param x: string de entrada \n",
    "    \n",
    "    return: string con el idioma (en, es, etc...)\n",
    "    \"\"\"\n",
    "    try:\n",
    "        return detect(x)\n",
    "    except:\n",
    "        return 'unknown'\n",
    "\n",
    "total['lang']=total.comments.apply(detect_lang)\n",
    "\n",
    "total.head()"
   ]
  },
  {
   "cell_type": "code",
   "execution_count": 8,
   "id": "774ca16e",
   "metadata": {},
   "outputs": [
    {
     "data": {
      "text/plain": [
       "es         7962\n",
       "en         7275\n",
       "fr          794\n",
       "pt          293\n",
       "it          229\n",
       "de          105\n",
       "zh-cn        68\n",
       "ru           66\n",
       "ro           61\n",
       "ko           61\n",
       "unknown      53\n",
       "ca           42\n",
       "nl           41\n",
       "af           16\n",
       "tl           14\n",
       "so           14\n",
       "pl           11\n",
       "id           10\n",
       "sk           10\n",
       "ja            8\n",
       "cs            7\n",
       "vi            7\n",
       "da            7\n",
       "sl            7\n",
       "tr            6\n",
       "cy            6\n",
       "el            5\n",
       "sv            5\n",
       "lt            4\n",
       "sw            3\n",
       "bg            2\n",
       "fi            2\n",
       "zh-tw         1\n",
       "he            1\n",
       "uk            1\n",
       "hu            1\n",
       "ar            1\n",
       "lv            1\n",
       "hr            1\n",
       "no            1\n",
       "Name: lang, dtype: int64"
      ]
     },
     "execution_count": 8,
     "metadata": {},
     "output_type": "execute_result"
    }
   ],
   "source": [
    "# voy a traducir al ingles \n",
    "\n",
    "total.lang.value_counts()"
   ]
  },
  {
   "cell_type": "code",
   "execution_count": 9,
   "id": "186ee8a2",
   "metadata": {},
   "outputs": [],
   "source": [
    "nlp=spacy.load('en_core_web_lg')   # modelo preentrenado, ingles\n",
    "\n",
    "# stopwords\n",
    "stop_words_en=set(stopwords.words('english') + list(STOP_WORDS) + list(nlp.Defaults.stop_words) + ['edit', 'plot'])\n",
    "\n",
    "stop_words=stop_words_en "
   ]
  },
  {
   "cell_type": "code",
   "execution_count": null,
   "id": "9706bf9a",
   "metadata": {},
   "outputs": [],
   "source": [
    "%%time\n",
    "\n",
    "total.comments=total.comments.apply(lambda x: Translator().translate(x, dest='en').text)"
   ]
  },
  {
   "cell_type": "code",
   "execution_count": null,
   "id": "8b79b9fc",
   "metadata": {},
   "outputs": [],
   "source": [
    "%%time\n",
    "\n",
    "# elimino las entidades nombradas, mi intención es usar solo adjetivos\n",
    "\n",
    "total.comments=total.comments.apply(lambda x: ' '.join([ent.text for ent in nlp(x) if not ent.ent_type_]))"
   ]
  },
  {
   "cell_type": "code",
   "execution_count": null,
   "id": "9a264402",
   "metadata": {},
   "outputs": [],
   "source": [
    "def spacy_tokenizer(frase):\n",
    "\n",
    "    tokens=word_tokenize(frase)  # lista de palabras\n",
    "    \n",
    "    filtrado=[]\n",
    "    \n",
    "    for palabra in tokens:\n",
    "        \n",
    "        lemma=nlp(str(palabra))[0].lemma_.lower().strip()\n",
    "        \n",
    "        if lemma not in stop_words and re.search('^[a-zA-Z]+$', lemma) and len(lemma)>2:\n",
    "            filtrado.append(lemma)\n",
    "            \n",
    "    return filtrado"
   ]
  },
  {
   "cell_type": "code",
   "execution_count": null,
   "id": "82d9aac1",
   "metadata": {},
   "outputs": [],
   "source": [
    "spacy_tokenizer(total.comments[1])"
   ]
  },
  {
   "cell_type": "code",
   "execution_count": null,
   "id": "b65de0df",
   "metadata": {},
   "outputs": [],
   "source": [
    "total.comments[1]"
   ]
  },
  {
   "cell_type": "code",
   "execution_count": null,
   "id": "32a5b0e5",
   "metadata": {},
   "outputs": [],
   "source": [
    "tfidf=TfidfVectorizer(min_df=0.05, \n",
    "                      tokenizer=spacy_tokenizer, \n",
    "                      ngram_range=(1, 3))"
   ]
  },
  {
   "cell_type": "code",
   "execution_count": null,
   "id": "e9b89ac4",
   "metadata": {},
   "outputs": [],
   "source": [
    "%%time\n",
    "\n",
    "tfidf_matrix=tfidf.fit_transform(total.comments)"
   ]
  },
  {
   "cell_type": "code",
   "execution_count": null,
   "id": "a0eaf484",
   "metadata": {},
   "outputs": [],
   "source": [
    "tfidf_matrix.shape"
   ]
  },
  {
   "cell_type": "code",
   "execution_count": null,
   "id": "5a6feb36",
   "metadata": {},
   "outputs": [],
   "source": [
    "terms=tfidf.get_feature_names_out()\n",
    "\n",
    "terms[:15], len(terms)"
   ]
  },
  {
   "cell_type": "code",
   "execution_count": null,
   "id": "3ee74cce",
   "metadata": {},
   "outputs": [],
   "source": [
    "tfidf_df=pd.DataFrame(tfidf_matrix.toarray(), columns=terms)\n",
    "\n",
    "tfidf_df.head()"
   ]
  },
  {
   "cell_type": "code",
   "execution_count": null,
   "id": "f794f01b",
   "metadata": {},
   "outputs": [],
   "source": [
    "tfidf_df.describe()"
   ]
  },
  {
   "cell_type": "code",
   "execution_count": null,
   "id": "cf6430af",
   "metadata": {},
   "outputs": [],
   "source": [
    "data=pd.concat([total, tfidf_df], axis=1).drop(columns=['id_x', 'comments'])\n",
    "\n",
    "data.fillna(0, inplace=True)\n",
    "\n",
    "data.head()"
   ]
  },
  {
   "cell_type": "code",
   "execution_count": null,
   "id": "5afc7020",
   "metadata": {},
   "outputs": [],
   "source": [
    "from catboost import CatBoostRegressor as CTR\n",
    "\n",
    "from sklearn.model_selection import train_test_split as tts\n",
    "\n",
    "from sklearn.metrics import mean_squared_error as mse \n",
    "from sklearn.metrics import mean_absolute_error as mae\n",
    "from sklearn.metrics import r2_score as r2"
   ]
  },
  {
   "cell_type": "code",
   "execution_count": null,
   "id": "a2af732e",
   "metadata": {},
   "outputs": [],
   "source": [
    "X=data.drop('price', axis=1)\n",
    "\n",
    "y=data.price"
   ]
  },
  {
   "cell_type": "code",
   "execution_count": null,
   "id": "e4569cf3",
   "metadata": {},
   "outputs": [],
   "source": [
    "X_train, X_test, y_train, y_test=tts(X, y)\n",
    "\n",
    "X_train.head()"
   ]
  },
  {
   "cell_type": "code",
   "execution_count": null,
   "id": "076ec42d",
   "metadata": {},
   "outputs": [],
   "source": [
    "modelo=CTR(verbose=0)\n",
    "\n",
    "modelo.fit(X_train, y_train)"
   ]
  },
  {
   "cell_type": "code",
   "execution_count": null,
   "id": "e5b957c0",
   "metadata": {},
   "outputs": [],
   "source": [
    "y_pred=modelo.predict(X_test)"
   ]
  },
  {
   "cell_type": "code",
   "execution_count": null,
   "id": "3c787db6",
   "metadata": {},
   "outputs": [],
   "source": [
    "print(f'RMSE: {mse(y_test, y_pred, squared=False)}')\n",
    "print(f'MAE: {mae(y_test, y_pred)}')\n",
    "print(f'R2: {r2(y_test, y_pred)}')"
   ]
  },
  {
   "cell_type": "code",
   "execution_count": null,
   "id": "03bea0da",
   "metadata": {},
   "outputs": [],
   "source": [
    "dict(zip(X.columns, modelo.feature_importances_))   "
   ]
  },
  {
   "cell_type": "code",
   "execution_count": null,
   "id": "cbb630f3",
   "metadata": {},
   "outputs": [],
   "source": [
    "X_train, X_test, y_train, y_test=tts(X, y)\n",
    "\n",
    "modelo=CTR(verbose=0)\n",
    "\n",
    "modelo.fit(X_train, y_train)\n",
    "\n",
    "y_pred=modelo.predict(X_test)\n",
    "\n",
    "print(f'RMSE: {mse(y_test, y_pred, squared=False)}')\n",
    "print(f'MAE: {mae(y_test, y_pred)}')\n",
    "print(f'R2: {r2(y_test, y_pred)}')"
   ]
  },
  {
   "cell_type": "code",
   "execution_count": null,
   "id": "1f93d09b",
   "metadata": {},
   "outputs": [],
   "source": [
    "# top 8 caracteristicas\n",
    "\n",
    "carac={k:v for k,v in zip(X.columns, modelo.feature_importances_) if v>7.5}\n",
    "\n",
    "carac"
   ]
  },
  {
   "cell_type": "markdown",
   "id": "547d673f",
   "metadata": {},
   "source": [
    "De nuevo, el hecho de usar solo la primera review me lleva al subajuste(underfitting) del modelo. Habría que rehacerlo con todas las reviews y comprobar su performance. Además se debería probar si estos vectores junto con datos tabulares que teniamos mejoran la explicabilidad del precio."
   ]
  },
  {
   "cell_type": "code",
   "execution_count": null,
   "id": "800def25",
   "metadata": {},
   "outputs": [],
   "source": []
  }
 ],
 "metadata": {
  "kernelspec": {
   "display_name": "prueba",
   "language": "python",
   "name": "prueba"
  },
  "language_info": {
   "codemirror_mode": {
    "name": "ipython",
    "version": 3
   },
   "file_extension": ".py",
   "mimetype": "text/x-python",
   "name": "python",
   "nbconvert_exporter": "python",
   "pygments_lexer": "ipython3",
   "version": "3.7.13"
  }
 },
 "nbformat": 4,
 "nbformat_minor": 5
}

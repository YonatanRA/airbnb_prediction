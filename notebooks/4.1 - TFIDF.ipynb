{
 "cells": [
  {
   "cell_type": "markdown",
   "id": "ddf7d057",
   "metadata": {},
   "source": [
    "# 4.1 - TFIDF\n",
    "\n",
    "Voy a intentar una transformación tfidf y usar solamente esos vectores como datos para entrenar un modelo."
   ]
  },
  {
   "cell_type": "code",
   "execution_count": null,
   "id": "a58acbdf",
   "metadata": {},
   "outputs": [],
   "source": [
    "import numpy as np\n",
    "import pandas as pd\n",
    "pd.set_option('display.max_columns', None)\n",
    "\n",
    "import spacy\n",
    "from spacy.lang.en.stop_words import STOP_WORDS\n",
    "\n",
    "import nltk\n",
    "nltk.download('stopwords')\n",
    "from nltk.corpus import stopwords\n",
    "from nltk import word_tokenize\n",
    "\n",
    "from langdetect import detect\n",
    "from googletrans import Translator\n",
    "\n",
    "import re\n",
    "\n",
    "from sklearn.feature_extraction.text import TfidfVectorizer"
   ]
  },
  {
   "cell_type": "code",
   "execution_count": null,
   "id": "6bbd2dec",
   "metadata": {},
   "outputs": [],
   "source": [
    "listings=pd.read_csv('../data/raw_data/listings.csv.gz', compression='gzip', low_memory=False)\n",
    "\n",
    "\n",
    "for c in listings.select_dtypes(include='int'):\n",
    "    listings[c]=pd.to_numeric(listings[c], downcast='integer')\n",
    "\n",
    "for c in listings.select_dtypes(include='float'):\n",
    "    listings[c]=pd.to_numeric(listings[c], downcast='float')\n",
    "    \n",
    "listings.info(memory_usage='deep')"
   ]
  },
  {
   "cell_type": "code",
   "execution_count": null,
   "id": "28a387fe",
   "metadata": {},
   "outputs": [],
   "source": [
    "reviews=pd.read_csv('../data/raw_data/reviews.csv.gz', compression='gzip', low_memory=False)\n",
    "\n",
    "for c in reviews.select_dtypes(include='int'):\n",
    "    reviews[c]=pd.to_numeric(reviews[c], downcast='integer')\n",
    "\n",
    "reviews.info(memory_usage='deep')"
   ]
  },
  {
   "cell_type": "code",
   "execution_count": null,
   "id": "2dacb72d",
   "metadata": {},
   "outputs": [],
   "source": [
    "primera=reviews.groupby('listing_id').first().reset_index()\n",
    "\n",
    "primera.head()"
   ]
  },
  {
   "cell_type": "code",
   "execution_count": null,
   "id": "f7f9fe64",
   "metadata": {},
   "outputs": [],
   "source": [
    "total=listings.merge(primera, left_on='id', right_on='listing_id')[['id_x', 'price', 'comments']]\n",
    "\n",
    "total=total.dropna()\n",
    "\n",
    "total=dd.from_pandas(total, npartitions=5)\n",
    "\n",
    "total.head()"
   ]
  },
  {
   "cell_type": "code",
   "execution_count": null,
   "id": "25212490",
   "metadata": {},
   "outputs": [],
   "source": [
    "total.price=total.price.apply(lambda x: float(x.replace('$', '').replace(',', '')))\n",
    "\n",
    "total.info()"
   ]
  },
  {
   "cell_type": "code",
   "execution_count": null,
   "id": "b132e011",
   "metadata": {},
   "outputs": [],
   "source": [
    "total.head()"
   ]
  },
  {
   "cell_type": "code",
   "execution_count": null,
   "id": "c9107ff7",
   "metadata": {},
   "outputs": [],
   "source": [
    "%%time\n",
    "def detect_lang(x):\n",
    "    try:\n",
    "        return detect(x)\n",
    "    except:\n",
    "        return 'unknown'\n",
    "\n",
    "total['lang']=total.comments.apply(detect_lang)\n",
    "\n",
    "total.head()"
   ]
  },
  {
   "cell_type": "code",
   "execution_count": null,
   "id": "774ca16e",
   "metadata": {},
   "outputs": [],
   "source": [
    "# voy a traducir al ingles \n",
    "\n",
    "total.lang.value_counts()"
   ]
  },
  {
   "cell_type": "code",
   "execution_count": null,
   "id": "186ee8a2",
   "metadata": {},
   "outputs": [],
   "source": [
    "nlp=spacy.load('en_core_web_sm')   # modelo preentrenado, ingles\n",
    "\n",
    "# stopwords\n",
    "stop_words_en=set(stopwords.words('english') + list(STOP_WORDS) + list(nlp.Defaults.stop_words) + ['edit', 'plot'])\n",
    "\n",
    "stop_words=stop_words_en "
   ]
  },
  {
   "cell_type": "code",
   "execution_count": null,
   "id": "9706bf9a",
   "metadata": {},
   "outputs": [],
   "source": [
    "%%time\n",
    "\n",
    "total.comments=total.comments.apply(lambda x: Translator().translate(x, dest='en').text)"
   ]
  },
  {
   "cell_type": "code",
   "execution_count": null,
   "id": "8b79b9fc",
   "metadata": {},
   "outputs": [],
   "source": [
    "%%time\n",
    "\n",
    "# elimino las entidades nombradas, mi intención es usar solo adjetivos\n",
    "\n",
    "total.comments=total.comments.apply(lambda x: ' '.join([ent.text for ent in nlp(x) if not ent.ent_type_]))"
   ]
  },
  {
   "cell_type": "code",
   "execution_count": null,
   "id": "9a264402",
   "metadata": {},
   "outputs": [],
   "source": [
    "def spacy_tokenizer(frase):\n",
    "\n",
    "    tokens=word_tokenize(frase)  # lista de palabras\n",
    "    \n",
    "    filtrado=[]\n",
    "    \n",
    "    for palabra in tokens:\n",
    "        \n",
    "        lemma=nlp(str(palabra))[0].lemma_.lower().strip()\n",
    "        \n",
    "        if lemma not in stop_words and re.search('^[a-zA-Z]+$', lemma) and len(lemma)>2:\n",
    "            filtrado.append(lemma)\n",
    "            \n",
    "    return filtrado"
   ]
  },
  {
   "cell_type": "code",
   "execution_count": null,
   "id": "82d9aac1",
   "metadata": {},
   "outputs": [],
   "source": [
    "spacy_tokenizer(total.comments[1])"
   ]
  },
  {
   "cell_type": "code",
   "execution_count": null,
   "id": "b65de0df",
   "metadata": {},
   "outputs": [],
   "source": [
    "total.comments[1]"
   ]
  },
  {
   "cell_type": "code",
   "execution_count": null,
   "id": "32a5b0e5",
   "metadata": {},
   "outputs": [],
   "source": [
    "tfidf=TfidfVectorizer(min_df=0.05, \n",
    "                      tokenizer=spacy_tokenizer, \n",
    "                      #stop_words=stop_words,\n",
    "                      #ngram_range=(1, 1)\n",
    "                     )"
   ]
  },
  {
   "cell_type": "code",
   "execution_count": null,
   "id": "e9b89ac4",
   "metadata": {},
   "outputs": [],
   "source": [
    "%%time\n",
    "\n",
    "tfidf_matrix=tfidf.fit_transform(total.comments)"
   ]
  },
  {
   "cell_type": "code",
   "execution_count": null,
   "id": "a0eaf484",
   "metadata": {},
   "outputs": [],
   "source": [
    "tfidf_matrix.shape"
   ]
  },
  {
   "cell_type": "code",
   "execution_count": null,
   "id": "5a6feb36",
   "metadata": {},
   "outputs": [],
   "source": [
    "terms=tfidf.get_feature_names_out()\n",
    "\n",
    "terms[:15], len(terms)"
   ]
  },
  {
   "cell_type": "code",
   "execution_count": null,
   "id": "3ee74cce",
   "metadata": {},
   "outputs": [],
   "source": [
    "tfidf_df=pd.DataFrame(tfidf_matrix.toarray(), columns=terms)\n",
    "\n",
    "tfidf_df.head()"
   ]
  },
  {
   "cell_type": "code",
   "execution_count": null,
   "id": "f794f01b",
   "metadata": {},
   "outputs": [],
   "source": [
    "tfidf_df.describe()"
   ]
  },
  {
   "cell_type": "code",
   "execution_count": null,
   "id": "cf6430af",
   "metadata": {},
   "outputs": [],
   "source": [
    "data=pd.concat([total, tfidf_df], axis=1).drop(columns=['id_x', 'comments'])\n",
    "\n",
    "data.fillna(0, inplace=True)\n",
    "\n",
    "data.head()"
   ]
  },
  {
   "cell_type": "code",
   "execution_count": null,
   "id": "5afc7020",
   "metadata": {},
   "outputs": [],
   "source": [
    "from catboost import CatBoostRegressor as CTR\n",
    "\n",
    "from sklearn.model_selection import train_test_split as tts\n",
    "\n",
    "from sklearn.metrics import mean_squared_error as mse \n",
    "from sklearn.metrics import mean_absolute_error as mae\n",
    "from sklearn.metrics import r2_score as r2"
   ]
  },
  {
   "cell_type": "code",
   "execution_count": null,
   "id": "a2af732e",
   "metadata": {},
   "outputs": [],
   "source": [
    "X=data.drop('price', axis=1)\n",
    "\n",
    "y=data.price"
   ]
  },
  {
   "cell_type": "code",
   "execution_count": null,
   "id": "e4569cf3",
   "metadata": {},
   "outputs": [],
   "source": [
    "X_train, X_test, y_train, y_test=tts(X, y)\n",
    "\n",
    "X_train.head()"
   ]
  },
  {
   "cell_type": "code",
   "execution_count": null,
   "id": "076ec42d",
   "metadata": {},
   "outputs": [],
   "source": [
    "modelo=CTR(verbose=0)\n",
    "\n",
    "modelo.fit(X_train, y_train)"
   ]
  },
  {
   "cell_type": "code",
   "execution_count": null,
   "id": "e5b957c0",
   "metadata": {},
   "outputs": [],
   "source": [
    "y_pred=modelo.predict(X_test)"
   ]
  },
  {
   "cell_type": "code",
   "execution_count": null,
   "id": "3c787db6",
   "metadata": {},
   "outputs": [],
   "source": [
    "print(f'RMSE: {mse(y_test, y_pred, squared=False)}')\n",
    "print(f'MAE: {mae(y_test, y_pred)}')\n",
    "print(f'R2: {r2(y_test, y_pred)}')"
   ]
  },
  {
   "cell_type": "code",
   "execution_count": null,
   "id": "03bea0da",
   "metadata": {},
   "outputs": [],
   "source": [
    "dict(zip(X.columns, modelo.feature_importances_))   "
   ]
  },
  {
   "cell_type": "code",
   "execution_count": null,
   "id": "cbb630f3",
   "metadata": {},
   "outputs": [],
   "source": [
    "X_train, X_test, y_train, y_test=tts(X, y)\n",
    "\n",
    "modelo=CTR(verbose=0)\n",
    "\n",
    "modelo.fit(X_train, y_train)\n",
    "\n",
    "y_pred=modelo.predict(X_test)\n",
    "\n",
    "print(f'RMSE: {mse(y_test, y_pred, squared=False)}')\n",
    "print(f'MAE: {mae(y_test, y_pred)}')\n",
    "print(f'R2: {r2(y_test, y_pred)}')"
   ]
  },
  {
   "cell_type": "code",
   "execution_count": null,
   "id": "1f93d09b",
   "metadata": {},
   "outputs": [],
   "source": [
    "# top 8 caracteristicas\n",
    "\n",
    "carac={k:v for k,v in zip(X.columns, modelo.feature_importances_) if v>7.5}\n",
    "\n",
    "carac"
   ]
  },
  {
   "cell_type": "markdown",
   "id": "e199ac92",
   "metadata": {},
   "source": [
    "De nuevo, el hecho de usar solo la primera review me lleva al subajuste(underfitting) del modelo. Habría que rehacerlo con todas las reviews y comprobar su performance. Además se debería probar si estos vectores junto con datos tabulares que teniamos mejoran la explicabilidad del precio."
   ]
  }
 ],
 "metadata": {
  "kernelspec": {
   "display_name": "prueba",
   "language": "python",
   "name": "prueba"
  },
  "language_info": {
   "codemirror_mode": {
    "name": "ipython",
    "version": 3
   },
   "file_extension": ".py",
   "mimetype": "text/x-python",
   "name": "python",
   "nbconvert_exporter": "python",
   "pygments_lexer": "ipython3",
   "version": "3.7.13"
  }
 },
 "nbformat": 4,
 "nbformat_minor": 5
}

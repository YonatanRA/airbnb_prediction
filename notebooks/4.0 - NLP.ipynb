{
 "cells": [
  {
   "cell_type": "markdown",
   "id": "8239b9a7",
   "metadata": {},
   "source": [
    "https://medium.com/georgian-impact-blog/how-to-incorporate-tabular-data-with-huggingface-transformers-b70ac45fcfb4"
   ]
  },
  {
   "cell_type": "code",
   "execution_count": null,
   "id": "e4dffdac",
   "metadata": {},
   "outputs": [],
   "source": [
    "#%pip install multimodal-transformers"
   ]
  },
  {
   "cell_type": "code",
   "execution_count": null,
   "id": "9791824a",
   "metadata": {},
   "outputs": [],
   "source": [
    "import pandas as pd\n",
    "from multimodal_transformers.data import load_data\n",
    "from transformers import AutoTokenizer, EvalPrediction\n",
    "\n",
    "import warnings\n",
    "warnings.filterwarnings('ignore')\n",
    "\n",
    "data_df = pd.read_csv('../data/clean_data/listings.csv')\n",
    "\n",
    "data_df=data_df.dropna()\n",
    "\n",
    "data_df.head()"
   ]
  },
  {
   "cell_type": "markdown",
   "id": "f36325b1",
   "metadata": {},
   "source": [
    "import multimodal_transformers.data as d\n",
    "help(d.load_data)"
   ]
  },
  {
   "cell_type": "code",
   "execution_count": null,
   "id": "6e341a82",
   "metadata": {},
   "outputs": [],
   "source": [
    "train=data_df.iloc[:200]\n",
    "\n",
    "test=data_df.iloc[21250:]\n",
    "\n",
    "train.shape, test.shape\n",
    "\n",
    "train.to_csv('train.csv')\n",
    "test.to_csv('test.csv')"
   ]
  },
  {
   "cell_type": "code",
   "execution_count": null,
   "id": "8fba588d",
   "metadata": {},
   "outputs": [],
   "source": [
    "text_cols = ['room_type', 'amenities']\n",
    "\n",
    "label_col = 'price' \n",
    "\n",
    "categorical_cols = ['neighbourhood_cleansed', 'neighbourhood_group_cleansed']\n",
    "\n",
    "numerical_cols = ['accommodates', 'bedrooms', 'beds']\n",
    "\n",
    "tokenizer = AutoTokenizer.from_pretrained('bert-base-uncased', truncation=True)\n",
    "\n",
    "train_data = load_data(train, text_cols, tokenizer, categorical_cols=categorical_cols,\n",
    "                       numerical_cols=numerical_cols, sep_text_token_str=tokenizer.sep_token,\n",
    "                       label_col=label_col)\n",
    "\n",
    "\n",
    "test_data = load_data(test, text_cols, tokenizer, categorical_cols=categorical_cols,\n",
    "                       numerical_cols=numerical_cols, sep_text_token_str=tokenizer.sep_token,\n",
    "                       label_col=label_col)"
   ]
  },
  {
   "cell_type": "code",
   "execution_count": null,
   "id": "0f3eba32",
   "metadata": {},
   "outputs": [],
   "source": [
    "from multimodal_transformers.model import AutoModelWithTabular, TabularConfig\n",
    "from transformers import AutoConfig\n",
    "\n",
    "config=AutoConfig.from_pretrained('bert-base-uncased')\n",
    "\n",
    "tabular_config=TabularConfig(\n",
    "    num_labels=1,\n",
    "    cat_feat_dim=train_data.cat_feats.shape[1],\n",
    "    numerical_feat_dim=train_data.numerical_feats.shape[1],\n",
    "    combine_feat_method='weighted_feature_sum_on_transformer_cat_and_numerical_feats',\n",
    ")\n",
    "config.tabular_config = tabular_config\n",
    "\n",
    "model = AutoModelWithTabular.from_pretrained('bert-base-uncased', config=config)"
   ]
  },
  {
   "cell_type": "code",
   "execution_count": null,
   "id": "ea10f9d5",
   "metadata": {
    "scrolled": false
   },
   "outputs": [],
   "source": [
    "import torch\n",
    "\n",
    "device=torch.device('mps')  # mps neural engine M1, cuda o cpu"
   ]
  },
  {
   "cell_type": "code",
   "execution_count": null,
   "id": "d4068cbe",
   "metadata": {},
   "outputs": [],
   "source": [
    "from transformers import Trainer, TrainingArguments\n",
    "\n",
    "args=TrainingArguments(output_dir='./logs/model_name',\n",
    "                       logging_dir='./logs/runs',\n",
    "                       overwrite_output_dir=True,\n",
    "                       per_device_train_batch_size=32,\n",
    "                       num_train_epochs=0.01,\n",
    "                       evaluate_during_training=True,\n",
    "                       logging_steps=25)\n",
    "\n",
    "\n",
    "\n",
    "trainer=Trainer(model=model.to(device), \n",
    "                args=args, \n",
    "                train_dataset=train_data,\n",
    "                eval_dataset=test_data,\n",
    "                #compute_metrics=m()\n",
    "               )"
   ]
  },
  {
   "cell_type": "code",
   "execution_count": null,
   "id": "23a25a87",
   "metadata": {},
   "outputs": [],
   "source": [
    "%%time\n",
    "\n",
    "trainer.train()"
   ]
  },
  {
   "cell_type": "code",
   "execution_count": null,
   "id": "7d9efe66",
   "metadata": {},
   "outputs": [],
   "source": [
    "trainer.evaluate(train_data)"
   ]
  },
  {
   "cell_type": "code",
   "execution_count": null,
   "id": "41f204b5",
   "metadata": {},
   "outputs": [],
   "source": [
    "from sklearn.metrics import mean_squared_error, mean_absolute_error\n",
    "\n",
    "\n",
    "def metrics(preds, labels):\n",
    "\n",
    "    mse = mean_squared_error(labels, preds)\n",
    "    rmse = mean_squared_error(labels, preds, squared=False)\n",
    "    mae = mean_absolute_error(labels, preds)\n",
    "\n",
    "    return {'mse': mse,\n",
    "            'rmse': rmse,\n",
    "            'mae': mae}\n"
   ]
  },
  {
   "cell_type": "code",
   "execution_count": null,
   "id": "8d754708",
   "metadata": {
    "scrolled": true
   },
   "outputs": [],
   "source": [
    "%%time\n",
    "\n",
    "y_pred=trainer.predict(test_dataset=train_data).predictions"
   ]
  },
  {
   "cell_type": "code",
   "execution_count": null,
   "id": "57e7e2e2",
   "metadata": {
    "scrolled": false
   },
   "outputs": [],
   "source": [
    "#help(Trainer)"
   ]
  },
  {
   "cell_type": "code",
   "execution_count": null,
   "id": "3d0bc198",
   "metadata": {},
   "outputs": [],
   "source": [
    "y_test=train.price.values\n",
    "\n",
    "metrics(y_test, y_pred)"
   ]
  },
  {
   "cell_type": "code",
   "execution_count": null,
   "id": "128d3d99",
   "metadata": {},
   "outputs": [],
   "source": [
    "trainer.evaluate(eval_dataset=test_data)"
   ]
  }
 ],
 "metadata": {
  "kernelspec": {
   "display_name": "prueba",
   "language": "python",
   "name": "prueba"
  },
  "language_info": {
   "codemirror_mode": {
    "name": "ipython",
    "version": 3
   },
   "file_extension": ".py",
   "mimetype": "text/x-python",
   "name": "python",
   "nbconvert_exporter": "python",
   "pygments_lexer": "ipython3",
   "version": "3.7.13"
  }
 },
 "nbformat": 4,
 "nbformat_minor": 5
}

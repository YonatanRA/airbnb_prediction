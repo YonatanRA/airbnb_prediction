{
 "cells": [
  {
   "cell_type": "markdown",
   "id": "f97898e8",
   "metadata": {},
   "source": [
    "# 1.0 - Definición del problema"
   ]
  },
  {
   "cell_type": "markdown",
   "id": "c59f2dd8",
   "metadata": {},
   "source": [
    "Se plantea un escenario hipotético en el que un cliente posee propiedades disponibles para su alquiler, distribuidas en diferentes barrios de la ciudad. \n",
    "\n",
    "Además de un análisis detallado de la situación, el cliente quiere poder predecir el precio final al que podría alquilar cada propiedad."
   ]
  },
  {
   "cell_type": "markdown",
   "id": "8c2dd21b",
   "metadata": {},
   "source": [
    "## Objetivos específicos"
   ]
  },
  {
   "cell_type": "markdown",
   "id": "712a45db",
   "metadata": {},
   "source": [
    "**Analisis exploratorio:** \n",
    "\n",
    "Describir la situación del mercado de alquileres temporales en Airbnb en la ciudad de Madrid a nivel general. \n",
    "\n",
    "Analizar los precios de las propiedades publicadas."
   ]
  },
  {
   "cell_type": "markdown",
   "id": "af29b6df",
   "metadata": {},
   "source": [
    "**Predicción:**\n",
    "    \n",
    "Entrenar un modelo capaz de predecir el precio de alquiler diario de una propiedad en Airbnb.  "
   ]
  },
  {
   "cell_type": "markdown",
   "id": "fd0d4a64",
   "metadata": {},
   "source": [
    "## Proceso"
   ]
  },
  {
   "cell_type": "markdown",
   "id": "ac5bbcc1",
   "metadata": {},
   "source": [
    "El proceso a seguir para este problema será el siguiente:\n",
    "    \n",
    "+ 1) Limpieza de los datos. Comprobación de valores nulos, duplicados y tipo de dato.\n",
    "+ 2) Transformación de datos. Normalización, codificación de variables categóricas, etc..\n",
    "+ 3) Punto de referencia. Con los datos transformados tal cual vienen, se entrena un modelo sencillo y se mide su rendimiento.\n",
    "+ 4) Exploración y selección de características. Se prueban varios métodos de selección.\n",
    "+ 5) Entrenamiento del modelo de predicción. Se prueban varios modelos.\n",
    "+ 6) Extracción de word embeddings con transformers (BERT, DistillBert..) para creación de variables basadas en las reviews. Prueba de modelo multimodal.\n",
    "+ 7) Análisis completo por barrios. Visualización de mapas y análisis de la dinámica de precios según demanda.\n",
    "+ 8) Dashboard."
   ]
  },
  {
   "cell_type": "code",
   "execution_count": null,
   "id": "4248d6ec",
   "metadata": {},
   "outputs": [],
   "source": []
  },
  {
   "cell_type": "code",
   "execution_count": null,
   "id": "da70541d",
   "metadata": {},
   "outputs": [],
   "source": []
  },
  {
   "cell_type": "code",
   "execution_count": null,
   "id": "42bc3fed",
   "metadata": {},
   "outputs": [],
   "source": []
  },
  {
   "cell_type": "code",
   "execution_count": null,
   "id": "1af3239a",
   "metadata": {},
   "outputs": [],
   "source": []
  }
 ],
 "metadata": {
  "kernelspec": {
   "display_name": "clase",
   "language": "python",
   "name": "clase"
  },
  "language_info": {
   "codemirror_mode": {
    "name": "ipython",
    "version": 3
   },
   "file_extension": ".py",
   "mimetype": "text/x-python",
   "name": "python",
   "nbconvert_exporter": "python",
   "pygments_lexer": "ipython3",
   "version": "3.8.13"
  }
 },
 "nbformat": 4,
 "nbformat_minor": 5
}

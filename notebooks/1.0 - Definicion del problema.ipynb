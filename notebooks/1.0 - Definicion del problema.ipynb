{
 "cells": [
  {
   "cell_type": "markdown",
   "id": "f53e3b41",
   "metadata": {},
   "source": [
    "# 1.0 - Definición del problema"
   ]
  },
  {
   "cell_type": "markdown",
   "id": "169d4f1a",
   "metadata": {},
   "source": [
    "Se plantea un escenario hipotético en el que un cliente posee propiedades disponibles para su alquiler, distribuidas en diferentes barrios de la ciudad. \n",
    "\n",
    "Además de un análisis detallado de la situación, el cliente quiere poder predecir el precio final al que podría alquilar cada propiedad."
   ]
  },
  {
   "cell_type": "markdown",
   "id": "253a90b6",
   "metadata": {},
   "source": [
    "## Objetivos específicos"
   ]
  },
  {
   "cell_type": "markdown",
   "id": "01afa4b2",
   "metadata": {},
   "source": [
    "**Analisis exploratorio:** \n",
    "\n",
    "Describir la situación del mercado de alquileres temporales en Airbnb en la ciudad de Madrid a nivel general. \n",
    "\n",
    "Analizar los precios de las propiedades publicadas."
   ]
  },
  {
   "cell_type": "markdown",
   "id": "0770343b",
   "metadata": {},
   "source": [
    "**Predicción:**\n",
    "    \n",
    "Entrenar un modelo capaz de predecir el precio de alquiler diario de una propiedad en Airbnb.  "
   ]
  },
  {
   "cell_type": "markdown",
   "id": "b37507b2",
   "metadata": {},
   "source": [
    "## Proceso"
   ]
  },
  {
   "cell_type": "markdown",
   "id": "3b990e6f",
   "metadata": {},
   "source": [
    "El proceso a seguir para este problema será el siguiente:\n",
    "    \n",
    "+ 1) Limpieza de los datos. Comprobación de valores nulos, duplicados y tipo de dato.\n",
    "+ 2) Transformación de datos. Normalización, codificación de variables categóricas, etc..\n",
    "+ 3) Punto de referencia. Con los datos transformados tal cual vienen, se entrena un modelo sencillo y se mide su rendimiento.\n",
    "+ 4) Exploración y selección de características. Se prueban varios métodos de selección.\n",
    "+ 5) Entrenamiento del modelo de predicción. Se prueban varios modelos.\n",
    "+ 6) Extracción de word embeddings con transformers (BERT, DistillBert..) para creación de variables basadas en las reviews. Prueba de modelo multimodal.\n",
    "+ 7) Análisis completo por barrios. Visualización "
   ]
  },
  {
   "cell_type": "code",
   "execution_count": null,
   "id": "74f994e8",
   "metadata": {},
   "outputs": [],
   "source": []
  },
  {
   "cell_type": "code",
   "execution_count": null,
   "id": "9f37e248",
   "metadata": {},
   "outputs": [],
   "source": []
  },
  {
   "cell_type": "code",
   "execution_count": null,
   "id": "61282219",
   "metadata": {},
   "outputs": [],
   "source": []
  },
  {
   "cell_type": "code",
   "execution_count": null,
   "id": "122eea04",
   "metadata": {},
   "outputs": [],
   "source": []
  }
 ],
 "metadata": {
  "kernelspec": {
   "display_name": "clase",
   "language": "python",
   "name": "clase"
  },
  "language_info": {
   "codemirror_mode": {
    "name": "ipython",
    "version": 3
   },
   "file_extension": ".py",
   "mimetype": "text/x-python",
   "name": "python",
   "nbconvert_exporter": "python",
   "pygments_lexer": "ipython3",
   "version": "3.8.13"
  }
 },
 "nbformat": 4,
 "nbformat_minor": 5
}

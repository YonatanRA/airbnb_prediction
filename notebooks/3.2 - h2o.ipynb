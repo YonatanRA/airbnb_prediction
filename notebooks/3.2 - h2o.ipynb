{
 "cells": [
  {
   "cell_type": "markdown",
   "id": "8d9be0c4",
   "metadata": {},
   "source": [
    "# 3.2 - H20"
   ]
  },
  {
   "cell_type": "code",
   "execution_count": 1,
   "id": "91a1d901",
   "metadata": {},
   "outputs": [],
   "source": [
    "# librerias\n",
    "\n",
    "import h2o\n",
    "\n",
    "from h2o.automl import H2OAutoML\n",
    "\n",
    "import pandas as pd\n",
    "pd.set_option('display.max_columns', None)\n",
    "\n",
    "from sklearn.model_selection import train_test_split as tts "
   ]
  },
  {
   "cell_type": "code",
   "execution_count": 2,
   "id": "5ddb7e90",
   "metadata": {},
   "outputs": [
    {
     "name": "stdout",
     "output_type": "stream",
     "text": [
      "Checking whether there is an H2O instance running at http://localhost:54321 ..... not found.\n",
      "Attempting to start a local H2O server...\n",
      "  Java Version: openjdk version \"1.8.0_292\"; OpenJDK Runtime Environment (AdoptOpenJDK)(build 1.8.0_292-b10); OpenJDK 64-Bit Server VM (AdoptOpenJDK)(build 25.292-b10, mixed mode)\n",
      "  Starting server from /Users/iudh/miniforge3/envs/clase/lib/python3.8/site-packages/h2o/backend/bin/h2o.jar\n",
      "  Ice root: /var/folders/fv/zc4lh9sn7bnf55fy6jhl0k900000gn/T/tmpbsbxkfnz\n",
      "  JVM stdout: /var/folders/fv/zc4lh9sn7bnf55fy6jhl0k900000gn/T/tmpbsbxkfnz/h2o_iudh_started_from_python.out\n",
      "  JVM stderr: /var/folders/fv/zc4lh9sn7bnf55fy6jhl0k900000gn/T/tmpbsbxkfnz/h2o_iudh_started_from_python.err\n",
      "  Server is running at http://127.0.0.1:54321\n",
      "Connecting to H2O server at http://127.0.0.1:54321 ... successful.\n"
     ]
    },
    {
     "data": {
      "text/html": [
       "\n",
       "<style>\n",
       "\n",
       "#h2o-table-1.h2o-container {\n",
       "  overflow-x: auto;\n",
       "}\n",
       "#h2o-table-1 .h2o-table {\n",
       "  /* width: 100%; */\n",
       "  margin-top: 1em;\n",
       "  margin-bottom: 1em;\n",
       "}\n",
       "#h2o-table-1 .h2o-table caption {\n",
       "  white-space: nowrap;\n",
       "  caption-side: top;\n",
       "  text-align: left;\n",
       "  /* margin-left: 1em; */\n",
       "  margin: 0;\n",
       "  font-size: larger;\n",
       "}\n",
       "#h2o-table-1 .h2o-table thead {\n",
       "  white-space: nowrap; \n",
       "  position: sticky;\n",
       "  top: 0;\n",
       "  box-shadow: 0 -1px inset;\n",
       "}\n",
       "#h2o-table-1 .h2o-table tbody {\n",
       "  overflow: auto;\n",
       "}\n",
       "#h2o-table-1 .h2o-table th,\n",
       "#h2o-table-1 .h2o-table td {\n",
       "  text-align: right;\n",
       "  /* border: 1px solid; */\n",
       "}\n",
       "#h2o-table-1 .h2o-table tr:nth-child(even) {\n",
       "  /* background: #F5F5F5 */\n",
       "}\n",
       "\n",
       "</style>      \n",
       "<div id=\"h2o-table-1\" class=\"h2o-container\">\n",
       "  <table class=\"h2o-table\">\n",
       "    <caption></caption>\n",
       "    <thead></thead>\n",
       "    <tbody><tr><td>H2O_cluster_uptime:</td>\n",
       "<td>02 secs</td></tr>\n",
       "<tr><td>H2O_cluster_timezone:</td>\n",
       "<td>Europe/Madrid</td></tr>\n",
       "<tr><td>H2O_data_parsing_timezone:</td>\n",
       "<td>UTC</td></tr>\n",
       "<tr><td>H2O_cluster_version:</td>\n",
       "<td>3.38.0.2</td></tr>\n",
       "<tr><td>H2O_cluster_version_age:</td>\n",
       "<td>10 days </td></tr>\n",
       "<tr><td>H2O_cluster_name:</td>\n",
       "<td>H2O_from_python_iudh_kuj0kp</td></tr>\n",
       "<tr><td>H2O_cluster_total_nodes:</td>\n",
       "<td>1</td></tr>\n",
       "<tr><td>H2O_cluster_free_memory:</td>\n",
       "<td>3.541 Gb</td></tr>\n",
       "<tr><td>H2O_cluster_total_cores:</td>\n",
       "<td>8</td></tr>\n",
       "<tr><td>H2O_cluster_allowed_cores:</td>\n",
       "<td>8</td></tr>\n",
       "<tr><td>H2O_cluster_status:</td>\n",
       "<td>locked, healthy</td></tr>\n",
       "<tr><td>H2O_connection_url:</td>\n",
       "<td>http://127.0.0.1:54321</td></tr>\n",
       "<tr><td>H2O_connection_proxy:</td>\n",
       "<td>{\"http\": null, \"https\": null}</td></tr>\n",
       "<tr><td>H2O_internal_security:</td>\n",
       "<td>False</td></tr>\n",
       "<tr><td>Python_version:</td>\n",
       "<td>3.8.13 final</td></tr></tbody>\n",
       "  </table>\n",
       "</div>\n"
      ],
      "text/plain": [
       "--------------------------  -----------------------------\n",
       "H2O_cluster_uptime:         02 secs\n",
       "H2O_cluster_timezone:       Europe/Madrid\n",
       "H2O_data_parsing_timezone:  UTC\n",
       "H2O_cluster_version:        3.38.0.2\n",
       "H2O_cluster_version_age:    10 days\n",
       "H2O_cluster_name:           H2O_from_python_iudh_kuj0kp\n",
       "H2O_cluster_total_nodes:    1\n",
       "H2O_cluster_free_memory:    3.541 Gb\n",
       "H2O_cluster_total_cores:    8\n",
       "H2O_cluster_allowed_cores:  8\n",
       "H2O_cluster_status:         locked, healthy\n",
       "H2O_connection_url:         http://127.0.0.1:54321\n",
       "H2O_connection_proxy:       {\"http\": null, \"https\": null}\n",
       "H2O_internal_security:      False\n",
       "Python_version:             3.8.13 final\n",
       "--------------------------  -----------------------------"
      ]
     },
     "metadata": {},
     "output_type": "display_data"
    }
   ],
   "source": [
    "# inicializamos el servidor h2o\n",
    "\n",
    "h2o.init()"
   ]
  },
  {
   "cell_type": "code",
   "execution_count": null,
   "id": "16f1fcb2",
   "metadata": {},
   "outputs": [],
   "source": []
  },
  {
   "cell_type": "markdown",
   "id": "66131149",
   "metadata": {},
   "source": [
    "## a) Transformado con selección de características"
   ]
  },
  {
   "cell_type": "code",
   "execution_count": 3,
   "id": "51ec30e6",
   "metadata": {},
   "outputs": [
    {
     "data": {
      "text/plain": [
       "27"
      ]
     },
     "execution_count": 3,
     "metadata": {},
     "output_type": "execute_result"
    }
   ],
   "source": [
    "COLS=['accommodates', 'air_conditioning', 'availability_30', 'availability_365', 'availability_60', 'availability_90',\n",
    "      'bathrooms', 'bedrooms', 'beds', 'calculated_host_listings_count', 'calculated_host_listings_count_entire_homes',\n",
    "      'calculated_host_listings_count_private_rooms', 'calculated_host_listings_count_shared_rooms', 'cleaning_fee',\n",
    "      'dishwasher', 'extra_people', 'guests_included','latitude', 'longitude', 'maximum_nights', 'minimum_nights', \n",
    "      'number_of_reviews', 'number_of_reviews_ltm', 'room_type_private_room', 'room_type_shared_room', 'security_deposit',\n",
    "      'price']\n",
    "\n",
    "len(COLS)"
   ]
  },
  {
   "cell_type": "code",
   "execution_count": 4,
   "id": "513464b7",
   "metadata": {},
   "outputs": [],
   "source": [
    "# carga de datos\n",
    "listings=pd.read_csv('../data/transform_data/listings_normal.csv', usecols=COLS)\n",
    "\n",
    "listings=listings[(listings.price>=10) & (listings.price<=196)]  \n",
    "\n",
    "# cambio en el tamaño del tipo de dato\n",
    "for c in listings.select_dtypes(include='int'):\n",
    "    listings[c]=pd.to_numeric(listings[c], downcast='integer')\n",
    "\n",
    "for c in listings.select_dtypes(include='float'):\n",
    "    listings[c]=pd.to_numeric(listings[c], downcast='float')"
   ]
  },
  {
   "cell_type": "code",
   "execution_count": 5,
   "id": "e237da4e",
   "metadata": {},
   "outputs": [
    {
     "name": "stdout",
     "output_type": "stream",
     "text": [
      "Parse progress: |████████████████████████████████████████████████████████████████| (done) 100%\n",
      "Parse progress: |████████████████████████████████████████████████████████████████| (done) 100%\n"
     ]
    }
   ],
   "source": [
    "train, test=tts(listings)\n",
    "\n",
    "train=h2o.H2OFrame(train)\n",
    "test=h2o.H2OFrame(test)"
   ]
  },
  {
   "cell_type": "code",
   "execution_count": 6,
   "id": "69b3771d",
   "metadata": {},
   "outputs": [],
   "source": [
    "# separa X de y\n",
    "X=[c for c in train.columns if c!='price']\n",
    "\n",
    "y='price'"
   ]
  },
  {
   "cell_type": "code",
   "execution_count": 7,
   "id": "397f7e0f",
   "metadata": {},
   "outputs": [],
   "source": [
    "# inicia auto-machine-learning\n",
    "\n",
    "automl=H2OAutoML(max_models=20, seed=42, max_runtime_secs=300, sort_metric='RMSE')"
   ]
  },
  {
   "cell_type": "code",
   "execution_count": null,
   "id": "6d155ddc",
   "metadata": {},
   "outputs": [
    {
     "name": "stdout",
     "output_type": "stream",
     "text": [
      "AutoML progress: |\n",
      "16:39:00.526: User specified a validation frame with cross-validation still enabled. Please note that the models will still be validated using cross-validation only, the validation frame will be used to provide purely informative validation metrics on the trained models.\n",
      "\n",
      "████"
     ]
    }
   ],
   "source": [
    "%%time\n",
    "\n",
    "# entrena\n",
    "automl.train(x=X, y=y, training_frame=train, validation_frame=test)"
   ]
  },
  {
   "cell_type": "code",
   "execution_count": null,
   "id": "c4019512",
   "metadata": {},
   "outputs": [],
   "source": [
    "print('Leaderboard:')\n",
    "\n",
    "leader=automl.leaderboard\n",
    "\n",
    "leader.head()"
   ]
  },
  {
   "cell_type": "code",
   "execution_count": null,
   "id": "ad3197a9",
   "metadata": {},
   "outputs": [],
   "source": [
    "# evaliuación mejor modelo\n",
    "\n",
    "automl.leader.model_performance(normal_test)"
   ]
  },
  {
   "cell_type": "markdown",
   "id": "c83aa74b",
   "metadata": {},
   "source": [
    "## b) Transformado sin selección de características"
   ]
  },
  {
   "cell_type": "code",
   "execution_count": null,
   "id": "2c7e670f",
   "metadata": {},
   "outputs": [],
   "source": [
    "%%time\n",
    "\n",
    "df_normal=h2o.import_file(path='../data/transform_data/listings_normal.csv')\n",
    "\n",
    "normal_train, normal_test=df_normal.split_frame(ratios=[.8])\n",
    "\n",
    "X=[c for c in normal_train.columns if c!='price']\n",
    "y='price'\n",
    "\n",
    "normal_automl=H2OAutoML(max_models=20, seed=42, max_runtime_secs=300, sort_metric='RMSE')\n",
    "\n",
    "normal_automl.train(x=X, y=y, training_frame=normal_train, validation_frame=normal_test)\n",
    "\n",
    "normal_leader=normal_automl.leaderboard\n",
    "\n",
    "normal_leader.head()"
   ]
  },
  {
   "cell_type": "code",
   "execution_count": null,
   "id": "ac23d0cc",
   "metadata": {},
   "outputs": [],
   "source": [
    "normal_automl.leader.model_performance(normal_test)"
   ]
  },
  {
   "cell_type": "markdown",
   "id": "8dace413",
   "metadata": {},
   "source": [
    "## c) En crudo"
   ]
  },
  {
   "cell_type": "code",
   "execution_count": null,
   "id": "43952987",
   "metadata": {},
   "outputs": [],
   "source": [
    "%%time\n",
    "\n",
    "df_raw=h2o.import_file(path='../data/clean_data/listings.csv')\n",
    "\n",
    "raw_train, raw_test=df_raw.split_frame(ratios=[.8])\n",
    "\n",
    "X=[c for c in raw_train.columns if c!='price']\n",
    "y='price'\n",
    "\n",
    "raw_automl=H2OAutoML(max_models=20, seed=42, max_runtime_secs=300, sort_metric='RMSE')\n",
    "\n",
    "raw_automl.train(x=X, y=y, training_frame=raw_train, validation_frame=raw_test)\n",
    "\n",
    "raw_leader=raw_automl.leaderboard\n",
    "\n",
    "raw_leader.head()"
   ]
  },
  {
   "cell_type": "code",
   "execution_count": null,
   "id": "ac020209",
   "metadata": {},
   "outputs": [],
   "source": [
    "raw_automl.leader.model_performance(raw_test)"
   ]
  },
  {
   "cell_type": "code",
   "execution_count": null,
   "id": "5b0ef23a",
   "metadata": {},
   "outputs": [],
   "source": []
  },
  {
   "cell_type": "code",
   "execution_count": null,
   "id": "957b78f4",
   "metadata": {},
   "outputs": [],
   "source": []
  }
 ],
 "metadata": {
  "kernelspec": {
   "display_name": "clase",
   "language": "python",
   "name": "clase"
  },
  "language_info": {
   "codemirror_mode": {
    "name": "ipython",
    "version": 3
   },
   "file_extension": ".py",
   "mimetype": "text/x-python",
   "name": "python",
   "nbconvert_exporter": "python",
   "pygments_lexer": "ipython3",
   "version": "3.8.13"
  }
 },
 "nbformat": 4,
 "nbformat_minor": 5
}
